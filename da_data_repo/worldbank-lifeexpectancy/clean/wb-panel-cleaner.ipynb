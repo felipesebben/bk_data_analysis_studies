{
 "cells": [
  {
   "cell_type": "markdown",
   "metadata": {},
   "source": [
    "DATA ANALYSIS TEXTBOOK\n",
    "\n",
    "FUNDAMENTALS OF REGRESSION ANALYSIS\n",
    "\n",
    "ILLUSTRATION STUDY FOR CHAPTER 8\n",
    "\n",
    "Life expectancy and GDP (per capita), xcountry regression\n",
    "\n",
    "data downloaded from the World Bank\n",
    "\n",
    "*********************************************************************\n",
    "\n",
    "WHAT THIS CODES DOES:\n",
    "\n",
    "Imports data to Python\n",
    "\n",
    "Manages data to get a clean dataset to work with\n",
    "\n",
    "Transforms GDP variable into per capita\n",
    "\n",
    "\n",
    "********************************************************************\n"
   ]
  },
  {
   "cell_type": "code",
   "execution_count": 1,
   "metadata": {},
   "outputs": [],
   "source": [
    "import os\n",
    "import sys\n",
    "import warnings\n",
    "\n",
    "import pandas as pd\n",
    "import numpy as np\n",
    "\n",
    "warnings.filterwarnings(\"ignore\")"
   ]
  },
  {
   "cell_type": "code",
   "execution_count": 2,
   "metadata": {},
   "outputs": [],
   "source": [
    "# SET YOUR DIRECTORY HERE\n",
    "dirname = \"/Users/vigadam/Dropbox/My Mac (MacBook-Air.local)/Documents/work/data_book/\"\n",
    "\n",
    "data_in = dirname + \"da_data_repo/worldbank-lifeexpectancy/raw\"\n",
    "data_out = dirname + \"da_data_repo/worldbank-lifeexpectancy/clean\""
   ]
  },
  {
   "cell_type": "code",
   "execution_count": 7,
   "metadata": {},
   "outputs": [],
   "source": [
    "data = pd.read_csv(data_in + \"/worldbank-lifeexpectancy-raw.csv\")"
   ]
  },
  {
   "cell_type": "code",
   "execution_count": 8,
   "metadata": {},
   "outputs": [],
   "source": [
    "data = (\n",
    "    data.loc[data[\"Country Code\"] != \"\"]\n",
    "    .replace(\"..\", np.nan)\n",
    "    .dropna()\n",
    "    .rename(\n",
    "        columns={\n",
    "            \"Time\": \"year\",\n",
    "            \"Life expectancy at birth, total (years) [SP.DYN.LE00.IN]\": \"lifeexp\",\n",
    "            \"Country Code\": \"countrycode\",\n",
    "            \"Country Name\": \"countryname347\",\n",
    "        }\n",
    "    )\n",
    "    .assign(\n",
    "        population=lambda x: x[\"Population, total [SP.POP.TOTL]\"]\n",
    "        .apply(pd.to_numeric)\n",
    "        / 1000000,\n",
    "        gdppc=lambda x: x[\n",
    "            \"GDP per capita, PPP (constant 2011 international $) [NY.GDP.PCAP.PP.KD]\"\n",
    "        ]\n",
    "        .apply(pd.to_numeric)\n",
    "        / 1000,\n",
    "    )\n",
    "    .drop(\n",
    "        columns=[\n",
    "            \"Time Code\",\n",
    "            \"GDP per capita, PPP (constant 2011 international $) [NY.GDP.PCAP.PP.KD]\",\n",
    "            \"Population, total [SP.POP.TOTL]\",\n",
    "        ]\n",
    "    )\n",
    ")"
   ]
  },
  {
   "cell_type": "code",
   "execution_count": 9,
   "metadata": {},
   "outputs": [],
   "source": [
    "data.to_csv(data_out + \"/worldbank-lifeexpectancy.csv\", index=False)"
   ]
  },
  {
   "cell_type": "code",
   "execution_count": null,
   "metadata": {},
   "outputs": [],
   "source": []
  }
 ],
 "metadata": {
  "kernelspec": {
   "display_name": "Python 3",
   "language": "python",
   "name": "python3"
  },
  "language_info": {
   "codemirror_mode": {
    "name": "ipython",
    "version": 3
   },
   "file_extension": ".py",
   "mimetype": "text/x-python",
   "name": "python",
   "nbconvert_exporter": "python",
   "pygments_lexer": "ipython3",
   "version": "3.8.6"
  }
 },
 "nbformat": 4,
 "nbformat_minor": 4
}
