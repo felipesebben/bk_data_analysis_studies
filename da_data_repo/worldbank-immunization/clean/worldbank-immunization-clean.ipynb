{
 "cells": [
  {
   "cell_type": "code",
   "execution_count": 10,
   "metadata": {},
   "outputs": [],
   "source": [
    "import os\n",
    "import sys\n",
    "import warnings\n",
    "\n",
    "import pandas as pd\n",
    "import numpy as np\n",
    "\n",
    "warnings.filterwarnings(\"ignore\")"
   ]
  },
  {
   "cell_type": "code",
   "execution_count": 11,
   "metadata": {},
   "outputs": [],
   "source": [
    "# SET YOUR DIRECTORY HERE\n",
    "dirname = \"/Users/vigadam/Dropbox/My Mac (MacBook-Air.local)/Documents/work/data_book/\"\n",
    "\n",
    "data_in = dirname + \"da_data_repo/worldbank-immunization/raw\"\n",
    "data_out = dirname + \"da_data_repo/worldbank-immunization/clean\""
   ]
  },
  {
   "cell_type": "code",
   "execution_count": 12,
   "metadata": {},
   "outputs": [],
   "source": [
    "data = pd.read_csv(data_in + \"/fac51cfc-e0cd-4938-927b-b82e828f5ca4_Data.csv\")"
   ]
  },
  {
   "cell_type": "code",
   "execution_count": 13,
   "metadata": {},
   "outputs": [],
   "source": [
    "data = (\n",
    "    data.iloc[:-5]\n",
    "    .replace(\"..\", np.nan)\n",
    "    .assign(\n",
    "        year=lambda x: x[\"Time\"].astype(int),\n",
    "        c=lambda x: x[\"Country Code\"].astype(\"category\"),\n",
    "        pop=lambda x: x[\"Population, total [SP.POP.TOTL]\"].apply(pd.to_numeric)\n",
    "        / 1000000,\n",
    "        mort=lambda x: x[\n",
    "            \"Mortality rate, under-5 (per 1,000 live births) [SH.DYN.MORT]\"\n",
    "        ].apply(pd.to_numeric),\n",
    "        imm=lambda x: x[\n",
    "            \"Immunization, measles (% of children ages 12-23 months) [SH.IMM.MEAS]\"\n",
    "        ].apply(pd.to_numeric),\n",
    "        gdppc=lambda x: x[\n",
    "            \"GDP per capita, PPP (constant 2011 international $) [NY.GDP.PCAP.PP.KD]\"\n",
    "        ].apply(pd.to_numeric),\n",
    "        hexp=lambda x: x[\n",
    "            \"Current health expenditure (% of GDP) [SH.XPD.CHEX.GD.ZS]\"\n",
    "        ].apply(pd.to_numeric),\n",
    "    )\n",
    "    .assign(\n",
    "        surv=lambda x: (1000 - x[\"mort\"]) / 10, lngdppc=lambda x: np.log(x[\"gdppc\"])\n",
    "    )\n",
    "    .rename(columns={\"Country Name\": \"countryname\", \"Country Code\": \"countrycode\"})\n",
    "    .filter(\n",
    "        [\n",
    "            \"year\",\n",
    "            \"c\",\n",
    "            \"countryname\",\n",
    "            \"countrycode\",\n",
    "            \"pop\",\n",
    "            \"mort\",\n",
    "            \"surv\",\n",
    "            \"imm\",\n",
    "            \"gdppc\",\n",
    "            \"lngdppc\",\n",
    "            \"hexp\",\n",
    "        ]\n",
    "    )\n",
    "    .query(\"year >= 1998\")\n",
    "    .dropna(subset=[\"imm\", \"mort\", \"pop\"])\n",
    ")"
   ]
  },
  {
   "cell_type": "code",
   "execution_count": 14,
   "metadata": {},
   "outputs": [],
   "source": [
    "data.to_csv(data_out + \"/worldbank-immunization-panel.csv\", index=False)"
   ]
  },
  {
   "cell_type": "markdown",
   "metadata": {},
   "source": [
    "## Continents"
   ]
  },
  {
   "cell_type": "code",
   "execution_count": 16,
   "metadata": {},
   "outputs": [],
   "source": [
    "data = pd.read_csv(data_in + \"/ac7b6203-6a02-4e39-aad1-da9ad65319d5_Data.csv\")"
   ]
  },
  {
   "cell_type": "code",
   "execution_count": 17,
   "metadata": {},
   "outputs": [],
   "source": [
    "data = (\n",
    "    data.iloc[:-5]\n",
    "    .replace(\"..\", np.nan)\n",
    "    .assign(\n",
    "        year=lambda x: x[\"Time\"].astype(int),\n",
    "        c=lambda x: x[\"Country Code\"].astype(\"category\"),\n",
    "        mort=lambda x: x[\n",
    "            \"Mortality rate, under-5 (per 1,000 live births) [SH.DYN.MORT]\"\n",
    "        ].apply(pd.to_numeric),\n",
    "        imm=lambda x: x[\n",
    "            \"Immunization, measles (% of children ages 12-23 months) [SH.IMM.MEAS]\"\n",
    "        ].apply(pd.to_numeric),\n",
    "    )\n",
    "    .assign(surv=lambda x: 1000 - x[\"mort\"])\n",
    "    .dropna(subset=[\"imm\"])\n",
    "    .loc[lambda x: (x[\"year\"] >= 1998) & (x[\"Country Name\"] != \"World\")]\n",
    "    .filter([\"year\", \"c\", \"imm\", \"surv\"])\n",
    "    .sort_values(by=[\"year\", \"c\"])\n",
    "    .set_index([\"year\", \"c\"])\n",
    "    .unstack(\"c\")\n",
    "    .reset_index()\n",
    ")\n",
    "data.columns = [\"year\"] + [x[0] + \"_\" + str(x[1]) for x in data.columns[1:]]"
   ]
  },
  {
   "cell_type": "code",
   "execution_count": 18,
   "metadata": {},
   "outputs": [],
   "source": [
    "data.to_csv(data_out + \"/worldbank-immunization-continents.csv\",index = False)"
   ]
  },
  {
   "cell_type": "code",
   "execution_count": null,
   "metadata": {},
   "outputs": [],
   "source": []
  }
 ],
 "metadata": {
  "kernelspec": {
   "display_name": "Python 3",
   "language": "python",
   "name": "python3"
  },
  "language_info": {
   "codemirror_mode": {
    "name": "ipython",
    "version": 3
   },
   "file_extension": ".py",
   "mimetype": "text/x-python",
   "name": "python",
   "nbconvert_exporter": "python",
   "pygments_lexer": "ipython3",
   "version": "3.8.6"
  }
 },
 "nbformat": 4,
 "nbformat_minor": 4
}
