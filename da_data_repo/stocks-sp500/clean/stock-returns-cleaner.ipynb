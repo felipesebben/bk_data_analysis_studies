{
 "cells": [
  {
   "cell_type": "markdown",
   "metadata": {},
   "source": [
    "#### Prepared for Gabor's Data Analysis\n",
    "\n",
    "### Data Analysis for Business, Economics, and Policy\n",
    "by Gabor Bekes and  Gabor Kezdi\n",
    " \n",
    "Cambridge University Press 2021\n",
    "\n",
    "**[gabors-data-analysis.com ](https://gabors-data-analysis.com/)**\n",
    "\n",
    " License: Free to share, modify and use for educational purposes. \n",
    " Not to be used for commercial purposes.\n",
    "\n",
    "Stock market regression\n",
    "chapter 12\n",
    "sandp-stocks\n",
    "\n",
    "Loading and cleaning data"
   ]
  },
  {
   "cell_type": "code",
   "execution_count": 6,
   "metadata": {},
   "outputs": [],
   "source": [
    "# import packages\n",
    "import pandas as pd\n",
    "import os"
   ]
  },
  {
   "cell_type": "code",
   "execution_count": 7,
   "metadata": {},
   "outputs": [],
   "source": [
    "# set your directory here\n",
    "data_dir = \"/Users/vigadam/Dropbox/work/data_book/da_data_repo\"\n",
    "\n",
    "data_in = data_dir + \"/stocks-sp500/raw/\"\n",
    "data_out = data_dir + \"/stocks-sp500/clean/\""
   ]
  },
  {
   "cell_type": "code",
   "execution_count": 8,
   "metadata": {},
   "outputs": [],
   "source": [
    "# load and extract MSFT\n",
    "df = pd.read_csv(\n",
    "    data_in + \"ready_sp500_45_cos.csv\", quotechar='\"', delimiter=\",\", encoding=\"utf-8\"\n",
    ")\n",
    "\n",
    "df = df.loc[df.ticker == \"MSFT\"].reset_index()\n",
    "df[\"date\"] = pd.to_datetime(df[\"ref.date\"])\n",
    "df[\"p_MSFT\"] = df[\"price.close\"]\n",
    "#df = df.round({\"p_MSFT\": 2})\n",
    "df_MSFT = df[[\"date\", \"p_MSFT\"]]"
   ]
  },
  {
   "cell_type": "code",
   "execution_count": 9,
   "metadata": {},
   "outputs": [],
   "source": [
    "# load and extract SP500\n",
    "df = pd.read_csv(\n",
    "    data_in + \"ready_sp500_index.csv\", quotechar='\"', delimiter=\",\", encoding=\"utf-8\"\n",
    ")\n",
    "df[\"date\"] = pd.to_datetime(df[\"ref.date\"])\n",
    "df[\"p_SP500\"] = df[\"price.close\"]\n",
    "#df = df.round({\"p_SP500\": 2})\n",
    "df_SP500 = df[[\"date\", \"p_SP500\"]]"
   ]
  },
  {
   "cell_type": "code",
   "execution_count": 10,
   "metadata": {},
   "outputs": [],
   "source": [
    "# merge data and filter by date\n",
    "df = pd.merge(df_SP500, df_MSFT, how=\"inner\", on=\"date\")\n",
    "df[\"year\"] = df[\"date\"].dt.year\n",
    "df[\"month\"] = df[\"date\"].dt.month\n",
    "df[\"ym\"] = pd.to_datetime(df[[\"year\", \"month\"]].assign(day=1)).dt.to_period(\"M\")\n",
    "order = [\"ym\", \"year\", \"month\", \"date\"]\n",
    "df = df.reindex(\n",
    "    columns=order + [column for column in df.columns if column not in order]\n",
    ")\n",
    "df.drop(df.loc[df.date < \"1997-12-31\"].index, inplace=True)\n",
    "df.drop(df.loc[df.date > \"2018-12-31\"].index, inplace=True)\n",
    "\n",
    "df = df.reset_index(drop=True)\n",
    "\n",
    "df.to_csv(data_out + \"stock-prices-daily.csv\", index=False)"
   ]
  },
  {
   "cell_type": "code",
   "execution_count": null,
   "metadata": {},
   "outputs": [],
   "source": []
  }
 ],
 "metadata": {
  "kernelspec": {
   "display_name": "Python 3",
   "language": "python",
   "name": "python3"
  },
  "language_info": {
   "codemirror_mode": {
    "name": "ipython",
    "version": 3
   },
   "file_extension": ".py",
   "mimetype": "text/x-python",
   "name": "python",
   "nbconvert_exporter": "python",
   "pygments_lexer": "ipython3",
   "version": "3.8.6"
  }
 },
 "nbformat": 4,
 "nbformat_minor": 4
}
