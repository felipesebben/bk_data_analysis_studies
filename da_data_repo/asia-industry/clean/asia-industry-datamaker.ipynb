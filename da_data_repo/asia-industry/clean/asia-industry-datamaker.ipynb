{
 "cells": [
  {
   "cell_type": "code",
   "execution_count": 1,
   "metadata": {},
   "outputs": [],
   "source": [
    "# import packages\n",
    "import pandas as pd\n",
    "import os"
   ]
  },
  {
   "cell_type": "code",
   "execution_count": 2,
   "metadata": {},
   "outputs": [],
   "source": [
    "# set your directory here\n",
    "os.chdir(\"/Users/vigadam/Dropbox/work/data_book/da_data_repo/\")\n",
    "\n",
    "data_in = \"asia-industry/raw/\"\n",
    "data_out = \"asia-industry/clean/\""
   ]
  },
  {
   "cell_type": "code",
   "execution_count": 3,
   "metadata": {},
   "outputs": [],
   "source": [
    "# usa imports\n",
    "df = pd.read_excel(\n",
    "    data_in + \"usa-imports.xls\",\n",
    "    sheet_name=\"FRED Graph\",\n",
    "    skiprows=range(0, 10),\n",
    "    usecols=\"A:B\",\n",
    ")\n",
    "df.columns = [\"date\", \"usa_imp_sa\"]\n",
    "df[\"year\"] = pd.DatetimeIndex(df[\"date\"]).year\n",
    "df[\"month\"] = pd.DatetimeIndex(df[\"date\"]).month\n",
    "df[\"time\"] = pd.to_datetime(df[[\"year\", \"month\"]].assign(day=1)).dt.to_period(\"M\")\n",
    "df = df[[\"time\", \"year\", \"month\", \"usa_imp_sa\"]]\n",
    "df.to_csv(data_out + \"usa-imports.csv\", index=False)"
   ]
  },
  {
   "cell_type": "code",
   "execution_count": 4,
   "metadata": {},
   "outputs": [],
   "source": [
    "# asia monthly industrial production plus some others (exchange rate)\n",
    "df = pd.read_csv(\n",
    "    data_in + \"worldbank-monthly-asia-2019_long.csv\",\n",
    "    quotechar='\"',\n",
    "    delimiter=\",\",\n",
    "    encoding=\"utf-8\",\n",
    ")\n",
    "df = df[[\"Series\", \"Country\", \"Country Code\", \"Time\", \"Value\"]]\n",
    "df.columns = df.columns.str.strip().str.lower().str.replace(\" \", \"\")"
   ]
  },
  {
   "cell_type": "code",
   "execution_count": 5,
   "metadata": {},
   "outputs": [],
   "source": [
    "# create time\n",
    "df[[\"year\", \"month\"]] = df[\"time\"].str.split(expand=True, pat=\"M\")\n",
    "df = df.dropna(axis=0, subset=[\"month\"])\n",
    "df[\"year\"] = pd.to_datetime(df[\"year\"]).dt.year\n",
    "df[\"month\"] = pd.to_datetime(df[\"time\"], format=\"%YM%m\").dt.month\n",
    "\n",
    "# filter by year\n",
    "df = df.loc[df[\"year\"] > 1990]"
   ]
  },
  {
   "cell_type": "code",
   "execution_count": 6,
   "metadata": {},
   "outputs": [],
   "source": [
    "# rename variables\n",
    "df.replace(\n",
    "    {\n",
    "        \"series\": {\n",
    "            \"Industrial Production, constant US$,,,\": \"ind_prod_const\",\n",
    "            \"CPI Price, seas. adj.,,,\": \"cpi_sa\",\n",
    "            \"Exchange rate, new LCU per USD extended backward, period average,,\": \"exchnage_rate_vs_usd\",\n",
    "            \"Industrial Production, constant US$, seas. adj.,,\": \"ind_prod_const_sa\",\n",
    "            \"Nominal Effecive Exchange Rate,,,,\": \"exchange_rate_neer\",\n",
    "            \"Real Effective Exchange Rate,,,,\": \"exchange_rate_reer\",\n",
    "            \"CPI Price, % y-o-y, not seas. adj.,,\": \"cpi_yoy_nsa\",\n",
    "        }\n",
    "    },\n",
    "    inplace=True,\n",
    ")"
   ]
  },
  {
   "cell_type": "code",
   "execution_count": 7,
   "metadata": {},
   "outputs": [],
   "source": [
    "# tidy data: have variables as columns (long to wide dataset)\n",
    "df = (\n",
    "    df.pivot_table(\n",
    "        index=[\"country\", \"year\", \"month\", \"countrycode\"],\n",
    "        columns=\"series\",\n",
    "        values=\"value\",\n",
    "    )\n",
    "    .reset_index()\n",
    ")"
   ]
  },
  {
   "cell_type": "code",
   "execution_count": 8,
   "metadata": {},
   "outputs": [],
   "source": [
    "# set order\n",
    "df[\"time\"] = pd.to_datetime(df[[\"year\", \"month\"]].assign(day=1)).dt.to_period(\"M\")\n",
    "df = df.sort_values(by=[\"time\"]).reset_index(drop=True)\n",
    "order = [\"time\", \"year\", \"month\", \"country\", \"countrycode\"]\n",
    "df = df.reindex(\n",
    "    columns=order + [column for column in df.columns if column not in order]\n",
    ")\n",
    "\n",
    "df.to_csv(data_out + \"asia-indprod_tidy.csv\", index=False)"
   ]
  },
  {
   "cell_type": "code",
   "execution_count": 9,
   "metadata": {},
   "outputs": [],
   "source": [
    "# merge the two dataset\n",
    "df_right = pd.read_csv(\n",
    "    data_out + \"asia-indprod_tidy.csv\", delimiter=\",\", dtype=\"unicode\"\n",
    ")\n",
    "df_left = pd.read_csv(data_out + \"usa-imports.csv\", delimiter=\",\", dtype=\"unicode\")\n",
    "\n",
    "merged = pd.merge(df_right, df_left, how=\"inner\", on=[\"time\",\"year\",\"month\"])\n",
    "\n",
    "merged.to_csv(data_out + \"asia-industry_tidy.csv\", index=False)"
   ]
  },
  {
   "cell_type": "code",
   "execution_count": null,
   "metadata": {},
   "outputs": [],
   "source": []
  }
 ],
 "metadata": {
  "kernelspec": {
   "display_name": "Python 3",
   "language": "python",
   "name": "python3"
  },
  "language_info": {
   "codemirror_mode": {
    "name": "ipython",
    "version": 3
   },
   "file_extension": ".py",
   "mimetype": "text/x-python",
   "name": "python",
   "nbconvert_exporter": "python",
   "pygments_lexer": "ipython3",
   "version": "3.8.6"
  }
 },
 "nbformat": 4,
 "nbformat_minor": 4
}
