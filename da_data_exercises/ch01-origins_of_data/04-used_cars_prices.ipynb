{
 "cells": [
  {
   "attachments": {},
   "cell_type": "markdown",
   "metadata": {},
   "source": [
    "<h1> Data Exercise #4 | Data Collection on Used Cars</h1>\n",
    "<p><b>4.</b> Collect data on used cars of a specific make and model (e.g., Ford Focus) in a city, from the Web,\n",
    "using a classified ads website or a used cars website as a source. Use web scraping to collect all\n",
    "available data on these cars. (Alternatively, collect the most important variables by hand from the\n",
    "100 most recently advertised cars.) Write a short report on what you did, how many cars you\n",
    "ended up with in the data, and what difficulties you encountered, if any. </p>"
   ]
  },
  {
   "cell_type": "code",
   "execution_count": 56,
   "metadata": {},
   "outputs": [],
   "source": [
    "import time\n",
    "\n",
    "import pandas as pd\n",
    "from selenium import webdriver\n",
    "from selenium.webdriver import Chrome\n",
    "from selenium.webdriver.chrome.service import Service\n",
    "from selenium.webdriver.common.by import By\n",
    "from webdriver_manager.chrome import ChromeDriverManager"
   ]
  },
  {
   "cell_type": "code",
   "execution_count": 14,
   "metadata": {},
   "outputs": [],
   "source": [
    "question_list = []\n",
    "headers = {'User-Agent': 'Mozilla/5.0 (Windows NT 10.0; Win64; x64) AppleWebKit/537.36 (KHTML, like Gecko) Chrome/109.0.0.0 Safari/537.36'}"
   ]
  },
  {
   "cell_type": "code",
   "execution_count": 15,
   "metadata": {},
   "outputs": [],
   "source": [
    "url = 'https://www.icarros.com.br/ache/listaanuncios.jsp?bid=1&sop=nta_17|44|51.1_-mar_5.1_-mod_2428.1_-est_RS.1_-cid_7994.1_-rai_50.1_-esc_2.1_-sta_1.1_'\n",
    "r = requests.get(url, headers=headers)\n",
    "soup = BeautifulSoup(r.text, 'html.parser')\n",
    "questions = soup.find_all('div', {'class': 'listing-item__primary'})"
   ]
  },
  {
   "cell_type": "code",
   "execution_count": null,
   "metadata": {},
   "outputs": [],
   "source": []
  }
 ],
 "metadata": {
  "kernelspec": {
   "display_name": "data_analysis",
   "language": "python",
   "name": "python3"
  },
  "language_info": {
   "codemirror_mode": {
    "name": "ipython",
    "version": 3
   },
   "file_extension": ".py",
   "mimetype": "text/x-python",
   "name": "python",
   "nbconvert_exporter": "python",
   "pygments_lexer": "ipython3",
   "version": "3.10.3"
  },
  "orig_nbformat": 4,
  "vscode": {
   "interpreter": {
    "hash": "13bbb7fd5916020362212becdbb8a50aec9d9eb5bf2a3de6ebff663c4b0e188c"
   }
  }
 },
 "nbformat": 4,
 "nbformat_minor": 2
}
