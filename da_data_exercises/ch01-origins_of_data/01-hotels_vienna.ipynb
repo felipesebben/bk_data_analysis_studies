{
 "cells": [
  {
   "attachments": {},
   "cell_type": "markdown",
   "metadata": {},
   "source": [
    "<h1>Data Exercise #1 | <code>hotels-vienna</code> Sampling Exercise</h1>\n",
    "\n",
    "<p>1. Take the hotels-vienna dataset used in this chapter and use your computer to pick samples of\n",
    "size 25, 50, and 200. Calculate the simple average of hotel price in each sample and compare\n",
    "them to those in the entire dataset. Repeat this exercise three times and record the results.\n",
    "Comment on how the average varies across samples of different sizes.</p>"
   ]
  },
  {
   "cell_type": "code",
   "execution_count": 23,
   "metadata": {},
   "outputs": [],
   "source": [
    "import pandas as pd\n",
    "import seaborn as sns\n",
    "import matplotlib.pylab as plt\n",
    "from sklearn.utils import resample\n",
    "import numpy as np"
   ]
  },
  {
   "cell_type": "code",
   "execution_count": 9,
   "metadata": {},
   "outputs": [],
   "source": [
    "# Download the dataset\n",
    "df = pd.read_csv('https://osf.io/download/y6jvb/')"
   ]
  },
  {
   "attachments": {},
   "cell_type": "markdown",
   "metadata": {},
   "source": [
    "<p>Take a first look at the data.</p>"
   ]
  },
  {
   "cell_type": "code",
   "execution_count": 10,
   "metadata": {},
   "outputs": [
    {
     "data": {
      "text/html": [
       "<div>\n",
       "<style scoped>\n",
       "    .dataframe tbody tr th:only-of-type {\n",
       "        vertical-align: middle;\n",
       "    }\n",
       "\n",
       "    .dataframe tbody tr th {\n",
       "        vertical-align: top;\n",
       "    }\n",
       "\n",
       "    .dataframe thead th {\n",
       "        text-align: right;\n",
       "    }\n",
       "</style>\n",
       "<table border=\"1\" class=\"dataframe\">\n",
       "  <thead>\n",
       "    <tr style=\"text-align: right;\">\n",
       "      <th></th>\n",
       "      <th>country</th>\n",
       "      <th>city_actual</th>\n",
       "      <th>rating_count</th>\n",
       "      <th>center1label</th>\n",
       "      <th>center2label</th>\n",
       "      <th>neighbourhood</th>\n",
       "      <th>price</th>\n",
       "      <th>city</th>\n",
       "      <th>stars</th>\n",
       "      <th>ratingta</th>\n",
       "      <th>...</th>\n",
       "      <th>offer_cat</th>\n",
       "      <th>year</th>\n",
       "      <th>month</th>\n",
       "      <th>weekend</th>\n",
       "      <th>holiday</th>\n",
       "      <th>distance</th>\n",
       "      <th>distance_alter</th>\n",
       "      <th>accommodation_type</th>\n",
       "      <th>nnights</th>\n",
       "      <th>rating</th>\n",
       "    </tr>\n",
       "  </thead>\n",
       "  <tbody>\n",
       "    <tr>\n",
       "      <th>0</th>\n",
       "      <td>Austria</td>\n",
       "      <td>Vienna</td>\n",
       "      <td>36.0</td>\n",
       "      <td>City centre</td>\n",
       "      <td>Donauturm</td>\n",
       "      <td>17. Hernals</td>\n",
       "      <td>81</td>\n",
       "      <td>Vienna</td>\n",
       "      <td>4.0</td>\n",
       "      <td>4.5</td>\n",
       "      <td>...</td>\n",
       "      <td>15-50% offer</td>\n",
       "      <td>2017</td>\n",
       "      <td>11</td>\n",
       "      <td>0</td>\n",
       "      <td>0</td>\n",
       "      <td>2.7</td>\n",
       "      <td>4.4</td>\n",
       "      <td>Apartment</td>\n",
       "      <td>1</td>\n",
       "      <td>4.4</td>\n",
       "    </tr>\n",
       "    <tr>\n",
       "      <th>1</th>\n",
       "      <td>Austria</td>\n",
       "      <td>Vienna</td>\n",
       "      <td>189.0</td>\n",
       "      <td>City centre</td>\n",
       "      <td>Donauturm</td>\n",
       "      <td>17. Hernals</td>\n",
       "      <td>81</td>\n",
       "      <td>Vienna</td>\n",
       "      <td>4.0</td>\n",
       "      <td>3.5</td>\n",
       "      <td>...</td>\n",
       "      <td>1-15% offer</td>\n",
       "      <td>2017</td>\n",
       "      <td>11</td>\n",
       "      <td>0</td>\n",
       "      <td>0</td>\n",
       "      <td>1.7</td>\n",
       "      <td>3.8</td>\n",
       "      <td>Hotel</td>\n",
       "      <td>1</td>\n",
       "      <td>3.9</td>\n",
       "    </tr>\n",
       "    <tr>\n",
       "      <th>2</th>\n",
       "      <td>Austria</td>\n",
       "      <td>Vienna</td>\n",
       "      <td>53.0</td>\n",
       "      <td>City centre</td>\n",
       "      <td>Donauturm</td>\n",
       "      <td>Alsergrund</td>\n",
       "      <td>85</td>\n",
       "      <td>Vienna</td>\n",
       "      <td>4.0</td>\n",
       "      <td>3.5</td>\n",
       "      <td>...</td>\n",
       "      <td>15-50% offer</td>\n",
       "      <td>2017</td>\n",
       "      <td>11</td>\n",
       "      <td>0</td>\n",
       "      <td>0</td>\n",
       "      <td>1.4</td>\n",
       "      <td>2.5</td>\n",
       "      <td>Hotel</td>\n",
       "      <td>1</td>\n",
       "      <td>3.7</td>\n",
       "    </tr>\n",
       "    <tr>\n",
       "      <th>3</th>\n",
       "      <td>Austria</td>\n",
       "      <td>Vienna</td>\n",
       "      <td>55.0</td>\n",
       "      <td>City centre</td>\n",
       "      <td>Donauturm</td>\n",
       "      <td>Alsergrund</td>\n",
       "      <td>83</td>\n",
       "      <td>Vienna</td>\n",
       "      <td>3.0</td>\n",
       "      <td>4.0</td>\n",
       "      <td>...</td>\n",
       "      <td>15-50% offer</td>\n",
       "      <td>2017</td>\n",
       "      <td>11</td>\n",
       "      <td>0</td>\n",
       "      <td>0</td>\n",
       "      <td>1.7</td>\n",
       "      <td>2.5</td>\n",
       "      <td>Hotel</td>\n",
       "      <td>1</td>\n",
       "      <td>4.0</td>\n",
       "    </tr>\n",
       "    <tr>\n",
       "      <th>4</th>\n",
       "      <td>Austria</td>\n",
       "      <td>Vienna</td>\n",
       "      <td>33.0</td>\n",
       "      <td>City centre</td>\n",
       "      <td>Donauturm</td>\n",
       "      <td>Alsergrund</td>\n",
       "      <td>82</td>\n",
       "      <td>Vienna</td>\n",
       "      <td>4.0</td>\n",
       "      <td>3.5</td>\n",
       "      <td>...</td>\n",
       "      <td>15-50% offer</td>\n",
       "      <td>2017</td>\n",
       "      <td>11</td>\n",
       "      <td>0</td>\n",
       "      <td>0</td>\n",
       "      <td>1.2</td>\n",
       "      <td>2.8</td>\n",
       "      <td>Hotel</td>\n",
       "      <td>1</td>\n",
       "      <td>3.9</td>\n",
       "    </tr>\n",
       "  </tbody>\n",
       "</table>\n",
       "<p>5 rows × 24 columns</p>\n",
       "</div>"
      ],
      "text/plain": [
       "   country city_actual  rating_count center1label center2label neighbourhood  \\\n",
       "0  Austria      Vienna          36.0  City centre    Donauturm   17. Hernals   \n",
       "1  Austria      Vienna         189.0  City centre    Donauturm   17. Hernals   \n",
       "2  Austria      Vienna          53.0  City centre    Donauturm    Alsergrund   \n",
       "3  Austria      Vienna          55.0  City centre    Donauturm    Alsergrund   \n",
       "4  Austria      Vienna          33.0  City centre    Donauturm    Alsergrund   \n",
       "\n",
       "   price    city  stars  ratingta  ...     offer_cat  year  month  weekend  \\\n",
       "0     81  Vienna    4.0       4.5  ...  15-50% offer  2017     11        0   \n",
       "1     81  Vienna    4.0       3.5  ...   1-15% offer  2017     11        0   \n",
       "2     85  Vienna    4.0       3.5  ...  15-50% offer  2017     11        0   \n",
       "3     83  Vienna    3.0       4.0  ...  15-50% offer  2017     11        0   \n",
       "4     82  Vienna    4.0       3.5  ...  15-50% offer  2017     11        0   \n",
       "\n",
       "  holiday  distance  distance_alter  accommodation_type  nnights  rating  \n",
       "0       0       2.7             4.4           Apartment        1     4.4  \n",
       "1       0       1.7             3.8               Hotel        1     3.9  \n",
       "2       0       1.4             2.5               Hotel        1     3.7  \n",
       "3       0       1.7             2.5               Hotel        1     4.0  \n",
       "4       0       1.2             2.8               Hotel        1     3.9  \n",
       "\n",
       "[5 rows x 24 columns]"
      ]
     },
     "execution_count": 10,
     "metadata": {},
     "output_type": "execute_result"
    }
   ],
   "source": [
    "df.head()"
   ]
  },
  {
   "cell_type": "code",
   "execution_count": 11,
   "metadata": {},
   "outputs": [
    {
     "data": {
      "text/html": [
       "<div>\n",
       "<style scoped>\n",
       "    .dataframe tbody tr th:only-of-type {\n",
       "        vertical-align: middle;\n",
       "    }\n",
       "\n",
       "    .dataframe tbody tr th {\n",
       "        vertical-align: top;\n",
       "    }\n",
       "\n",
       "    .dataframe thead th {\n",
       "        text-align: right;\n",
       "    }\n",
       "</style>\n",
       "<table border=\"1\" class=\"dataframe\">\n",
       "  <thead>\n",
       "    <tr style=\"text-align: right;\">\n",
       "      <th></th>\n",
       "      <th>rating_count</th>\n",
       "      <th>price</th>\n",
       "      <th>stars</th>\n",
       "      <th>ratingta</th>\n",
       "      <th>ratingta_count</th>\n",
       "      <th>scarce_room</th>\n",
       "      <th>hotel_id</th>\n",
       "      <th>offer</th>\n",
       "      <th>year</th>\n",
       "      <th>month</th>\n",
       "      <th>weekend</th>\n",
       "      <th>holiday</th>\n",
       "      <th>distance</th>\n",
       "      <th>distance_alter</th>\n",
       "      <th>nnights</th>\n",
       "      <th>rating</th>\n",
       "    </tr>\n",
       "  </thead>\n",
       "  <tbody>\n",
       "    <tr>\n",
       "      <th>count</th>\n",
       "      <td>393.000000</td>\n",
       "      <td>428.000000</td>\n",
       "      <td>428.000000</td>\n",
       "      <td>325.000000</td>\n",
       "      <td>325.000000</td>\n",
       "      <td>428.000000</td>\n",
       "      <td>428.000000</td>\n",
       "      <td>428.000000</td>\n",
       "      <td>428.0</td>\n",
       "      <td>428.0</td>\n",
       "      <td>428.0</td>\n",
       "      <td>428.0</td>\n",
       "      <td>428.000000</td>\n",
       "      <td>428.000000</td>\n",
       "      <td>428.0</td>\n",
       "      <td>393.000000</td>\n",
       "    </tr>\n",
       "    <tr>\n",
       "      <th>mean</th>\n",
       "      <td>155.048346</td>\n",
       "      <td>131.366822</td>\n",
       "      <td>3.434579</td>\n",
       "      <td>3.990769</td>\n",
       "      <td>556.516923</td>\n",
       "      <td>0.598131</td>\n",
       "      <td>22153.502336</td>\n",
       "      <td>0.679907</td>\n",
       "      <td>2017.0</td>\n",
       "      <td>11.0</td>\n",
       "      <td>0.0</td>\n",
       "      <td>0.0</td>\n",
       "      <td>1.658879</td>\n",
       "      <td>3.718458</td>\n",
       "      <td>1.0</td>\n",
       "      <td>3.970992</td>\n",
       "    </tr>\n",
       "    <tr>\n",
       "      <th>std</th>\n",
       "      <td>191.217435</td>\n",
       "      <td>91.580545</td>\n",
       "      <td>0.772278</td>\n",
       "      <td>0.482638</td>\n",
       "      <td>586.874582</td>\n",
       "      <td>0.490850</td>\n",
       "      <td>146.858477</td>\n",
       "      <td>0.467058</td>\n",
       "      <td>0.0</td>\n",
       "      <td>0.0</td>\n",
       "      <td>0.0</td>\n",
       "      <td>0.0</td>\n",
       "      <td>1.595673</td>\n",
       "      <td>1.631341</td>\n",
       "      <td>0.0</td>\n",
       "      <td>0.577444</td>\n",
       "    </tr>\n",
       "    <tr>\n",
       "      <th>min</th>\n",
       "      <td>1.000000</td>\n",
       "      <td>27.000000</td>\n",
       "      <td>1.000000</td>\n",
       "      <td>2.000000</td>\n",
       "      <td>2.000000</td>\n",
       "      <td>0.000000</td>\n",
       "      <td>21894.000000</td>\n",
       "      <td>0.000000</td>\n",
       "      <td>2017.0</td>\n",
       "      <td>11.0</td>\n",
       "      <td>0.0</td>\n",
       "      <td>0.0</td>\n",
       "      <td>0.000000</td>\n",
       "      <td>0.600000</td>\n",
       "      <td>1.0</td>\n",
       "      <td>1.000000</td>\n",
       "    </tr>\n",
       "    <tr>\n",
       "      <th>25%</th>\n",
       "      <td>27.000000</td>\n",
       "      <td>83.000000</td>\n",
       "      <td>3.000000</td>\n",
       "      <td>3.500000</td>\n",
       "      <td>129.000000</td>\n",
       "      <td>0.000000</td>\n",
       "      <td>22027.750000</td>\n",
       "      <td>0.000000</td>\n",
       "      <td>2017.0</td>\n",
       "      <td>11.0</td>\n",
       "      <td>0.0</td>\n",
       "      <td>0.0</td>\n",
       "      <td>0.700000</td>\n",
       "      <td>2.700000</td>\n",
       "      <td>1.0</td>\n",
       "      <td>3.700000</td>\n",
       "    </tr>\n",
       "    <tr>\n",
       "      <th>50%</th>\n",
       "      <td>84.000000</td>\n",
       "      <td>109.500000</td>\n",
       "      <td>3.500000</td>\n",
       "      <td>4.000000</td>\n",
       "      <td>335.000000</td>\n",
       "      <td>1.000000</td>\n",
       "      <td>22155.500000</td>\n",
       "      <td>1.000000</td>\n",
       "      <td>2017.0</td>\n",
       "      <td>11.0</td>\n",
       "      <td>0.0</td>\n",
       "      <td>0.0</td>\n",
       "      <td>1.300000</td>\n",
       "      <td>3.400000</td>\n",
       "      <td>1.0</td>\n",
       "      <td>4.000000</td>\n",
       "    </tr>\n",
       "    <tr>\n",
       "      <th>75%</th>\n",
       "      <td>203.000000</td>\n",
       "      <td>146.000000</td>\n",
       "      <td>4.000000</td>\n",
       "      <td>4.500000</td>\n",
       "      <td>811.000000</td>\n",
       "      <td>1.000000</td>\n",
       "      <td>22279.250000</td>\n",
       "      <td>1.000000</td>\n",
       "      <td>2017.0</td>\n",
       "      <td>11.0</td>\n",
       "      <td>0.0</td>\n",
       "      <td>0.0</td>\n",
       "      <td>2.000000</td>\n",
       "      <td>4.400000</td>\n",
       "      <td>1.0</td>\n",
       "      <td>4.400000</td>\n",
       "    </tr>\n",
       "    <tr>\n",
       "      <th>max</th>\n",
       "      <td>1541.000000</td>\n",
       "      <td>1012.000000</td>\n",
       "      <td>5.000000</td>\n",
       "      <td>5.000000</td>\n",
       "      <td>3171.000000</td>\n",
       "      <td>1.000000</td>\n",
       "      <td>22409.000000</td>\n",
       "      <td>1.000000</td>\n",
       "      <td>2017.0</td>\n",
       "      <td>11.0</td>\n",
       "      <td>0.0</td>\n",
       "      <td>0.0</td>\n",
       "      <td>13.000000</td>\n",
       "      <td>13.000000</td>\n",
       "      <td>1.0</td>\n",
       "      <td>5.000000</td>\n",
       "    </tr>\n",
       "  </tbody>\n",
       "</table>\n",
       "</div>"
      ],
      "text/plain": [
       "       rating_count        price       stars    ratingta  ratingta_count  \\\n",
       "count    393.000000   428.000000  428.000000  325.000000      325.000000   \n",
       "mean     155.048346   131.366822    3.434579    3.990769      556.516923   \n",
       "std      191.217435    91.580545    0.772278    0.482638      586.874582   \n",
       "min        1.000000    27.000000    1.000000    2.000000        2.000000   \n",
       "25%       27.000000    83.000000    3.000000    3.500000      129.000000   \n",
       "50%       84.000000   109.500000    3.500000    4.000000      335.000000   \n",
       "75%      203.000000   146.000000    4.000000    4.500000      811.000000   \n",
       "max     1541.000000  1012.000000    5.000000    5.000000     3171.000000   \n",
       "\n",
       "       scarce_room      hotel_id       offer    year  month  weekend  holiday  \\\n",
       "count   428.000000    428.000000  428.000000   428.0  428.0    428.0    428.0   \n",
       "mean      0.598131  22153.502336    0.679907  2017.0   11.0      0.0      0.0   \n",
       "std       0.490850    146.858477    0.467058     0.0    0.0      0.0      0.0   \n",
       "min       0.000000  21894.000000    0.000000  2017.0   11.0      0.0      0.0   \n",
       "25%       0.000000  22027.750000    0.000000  2017.0   11.0      0.0      0.0   \n",
       "50%       1.000000  22155.500000    1.000000  2017.0   11.0      0.0      0.0   \n",
       "75%       1.000000  22279.250000    1.000000  2017.0   11.0      0.0      0.0   \n",
       "max       1.000000  22409.000000    1.000000  2017.0   11.0      0.0      0.0   \n",
       "\n",
       "         distance  distance_alter  nnights      rating  \n",
       "count  428.000000      428.000000    428.0  393.000000  \n",
       "mean     1.658879        3.718458      1.0    3.970992  \n",
       "std      1.595673        1.631341      0.0    0.577444  \n",
       "min      0.000000        0.600000      1.0    1.000000  \n",
       "25%      0.700000        2.700000      1.0    3.700000  \n",
       "50%      1.300000        3.400000      1.0    4.000000  \n",
       "75%      2.000000        4.400000      1.0    4.400000  \n",
       "max     13.000000       13.000000      1.0    5.000000  "
      ]
     },
     "execution_count": 11,
     "metadata": {},
     "output_type": "execute_result"
    }
   ],
   "source": [
    "df.describe()"
   ]
  },
  {
   "attachments": {},
   "cell_type": "markdown",
   "metadata": {},
   "source": [
    "<p>After a quick look, we already know the average price of the entire dataset: <b>131.366</b>. We can proceed and look for different averages obtained from different sample sizes.</p>"
   ]
  },
  {
   "cell_type": "code",
   "execution_count": 12,
   "metadata": {},
   "outputs": [],
   "source": [
    "# Pick samples of size 25, 50, and 200\n",
    "sample_25 = df['price'].sample(25)\n",
    "sample_50 = df['price'].sample(50)\n",
    "sample_200 = df['price'].sample(200)"
   ]
  },
  {
   "attachments": {},
   "cell_type": "markdown",
   "metadata": {},
   "source": [
    "<p>We can now check the average prices for each sample.</p>"
   ]
  },
  {
   "cell_type": "code",
   "execution_count": 13,
   "metadata": {},
   "outputs": [
    {
     "data": {
      "text/plain": [
       "[118.08, 121.68, 141.56]"
      ]
     },
     "execution_count": 13,
     "metadata": {},
     "output_type": "execute_result"
    }
   ],
   "source": [
    "result_25 = []\n",
    "for i in range(3):\n",
    "    sample_25 = df['price'].sample(25)\n",
    "    avg = sample_25.mean()\n",
    "    result_25.append(avg)\n",
    "result_25"
   ]
  },
  {
   "cell_type": "code",
   "execution_count": 14,
   "metadata": {},
   "outputs": [
    {
     "data": {
      "text/plain": [
       "[122.72, 122.46, 115.42]"
      ]
     },
     "execution_count": 14,
     "metadata": {},
     "output_type": "execute_result"
    }
   ],
   "source": [
    "result_50 = []\n",
    "for i in range(3):\n",
    "    sample_50 = df['price'].sample(50)\n",
    "    avg = sample_50.mean()\n",
    "    result_50.append(avg)\n",
    "result_50"
   ]
  },
  {
   "cell_type": "code",
   "execution_count": 15,
   "metadata": {},
   "outputs": [
    {
     "data": {
      "text/plain": [
       "[126.02, 130.92, 144.98]"
      ]
     },
     "execution_count": 15,
     "metadata": {},
     "output_type": "execute_result"
    }
   ],
   "source": [
    "result_200 = []\n",
    "for i in range(3):\n",
    "    sample_200 = df['price'].sample(50)\n",
    "    avg = sample_200.mean()\n",
    "    result_200.append(avg)\n",
    "result_200"
   ]
  },
  {
   "cell_type": "code",
   "execution_count": 16,
   "metadata": {},
   "outputs": [],
   "source": [
    "df_sample = pd.DataFrame(data={\n",
    "                'sample_25': result_25, \n",
    "                'sample_50': result_50, \n",
    "                'sample_200': result_200,\n",
    "                'dataset_avg': [df['price'].mean() for i in range(3)]})"
   ]
  },
  {
   "attachments": {},
   "cell_type": "markdown",
   "metadata": {},
   "source": [
    "<p>Storing the results in a common dataframe, we get the following results:</p>"
   ]
  },
  {
   "cell_type": "code",
   "execution_count": 17,
   "metadata": {},
   "outputs": [
    {
     "data": {
      "text/html": [
       "<div>\n",
       "<style scoped>\n",
       "    .dataframe tbody tr th:only-of-type {\n",
       "        vertical-align: middle;\n",
       "    }\n",
       "\n",
       "    .dataframe tbody tr th {\n",
       "        vertical-align: top;\n",
       "    }\n",
       "\n",
       "    .dataframe thead th {\n",
       "        text-align: right;\n",
       "    }\n",
       "</style>\n",
       "<table border=\"1\" class=\"dataframe\">\n",
       "  <thead>\n",
       "    <tr style=\"text-align: right;\">\n",
       "      <th></th>\n",
       "      <th>sample_25</th>\n",
       "      <th>sample_50</th>\n",
       "      <th>sample_200</th>\n",
       "      <th>dataset_avg</th>\n",
       "    </tr>\n",
       "  </thead>\n",
       "  <tbody>\n",
       "    <tr>\n",
       "      <th>0</th>\n",
       "      <td>118.08</td>\n",
       "      <td>122.72</td>\n",
       "      <td>126.02</td>\n",
       "      <td>131.366822</td>\n",
       "    </tr>\n",
       "    <tr>\n",
       "      <th>1</th>\n",
       "      <td>121.68</td>\n",
       "      <td>122.46</td>\n",
       "      <td>130.92</td>\n",
       "      <td>131.366822</td>\n",
       "    </tr>\n",
       "    <tr>\n",
       "      <th>2</th>\n",
       "      <td>141.56</td>\n",
       "      <td>115.42</td>\n",
       "      <td>144.98</td>\n",
       "      <td>131.366822</td>\n",
       "    </tr>\n",
       "  </tbody>\n",
       "</table>\n",
       "</div>"
      ],
      "text/plain": [
       "   sample_25  sample_50  sample_200  dataset_avg\n",
       "0     118.08     122.72      126.02   131.366822\n",
       "1     121.68     122.46      130.92   131.366822\n",
       "2     141.56     115.42      144.98   131.366822"
      ]
     },
     "execution_count": 17,
     "metadata": {},
     "output_type": "execute_result"
    }
   ],
   "source": [
    "df_sample"
   ]
  },
  {
   "attachments": {},
   "cell_type": "markdown",
   "metadata": {},
   "source": [
    "<p><b>Observations:</b></p>\n",
    "<p><ul>\n",
    "    <li>A random sampling of size <b>25</b> results on a highly dispersed set of mean values, ranging from 108.56 to 128.14. The mean values tend to be farther from the dataset average.</li>\n",
    "    <li>The sample of size <b>50</b> has resulted in less variance. Observed values range between 120.10 and 125.26. These results are all closer to the dataset average.</li>\n",
    "    <li>Interestingly, a sample of size <b>200</b> returned somewhat unexpected results. The range is wide, from 123.02 to 141.40, but all values are closer to the dataset mean than the sample of size 50.</li></p>\n",
    "\n",
    "<p>We can use this opportunity to observe the distribution of each sample size by the number of values by plotting one histogram per sample size:</p>"
   ]
  },
  {
   "cell_type": "code",
   "execution_count": 20,
   "metadata": {},
   "outputs": [
    {
     "name": "stdout",
     "output_type": "stream",
     "text": [
      "     price  type\n",
      "301   99.0  Data\n",
      "186   82.0  Data\n",
      "269   80.0  Data\n",
      "257  103.0  Data\n",
      "130  149.0  Data\n"
     ]
    },
    {
     "data": {
      "text/plain": [
       "<seaborn.axisgrid.FacetGrid at 0x2766b24fb50>"
      ]
     },
     "execution_count": 20,
     "metadata": {},
     "output_type": "execute_result"
    },
    {
     "data": {
      "image/png": "[encoded data removed]",
      "text/plain": [
       "<Figure size 400x800 with 4 Axes>"
      ]
     },
     "metadata": {},
     "output_type": "display_data"
    }
   ],
   "source": [
    "sample_data = pd.DataFrame({\n",
    "    'price': df['price'].sample(328),\n",
    "    'type': 'Data',\n",
    "})\n",
    "\n",
    "sample_mean_25 = pd.DataFrame({\n",
    "    'price': [df['price'].sample(25).mean() for _ in range(1000)],\n",
    "    'type': 'Mean of 25',\n",
    "})\n",
    "\n",
    "sample_mean_50 = pd.DataFrame({\n",
    "    'price': [df['price'].sample(50).mean() for _ in range(1000)],\n",
    "    'type': 'Mean of 50',\n",
    "})\n",
    "\n",
    "sample_mean_200 = pd.DataFrame({\n",
    "    'price': [df['price'].sample(200).mean() for _ in range(1000)],\n",
    "    'type': 'Mean of 200'\n",
    "})\n",
    "\n",
    "results = pd.concat([sample_data, sample_mean_25, sample_mean_50, sample_mean_200])\n",
    "print(results.head())\n",
    "g = sns.FacetGrid(results, col='type', col_wrap=1, height=2, aspect=2)\n",
    "g.map(plt.hist, 'price', range=[0,300], bins=40)"
   ]
  },
  {
   "attachments": {},
   "cell_type": "markdown",
   "metadata": {},
   "source": [
    "<p>As we can see, as we increase the sample size, the narrower becomes the distribution of our sample statistic - aka the <b>Central Limit Theorem</b>. Even if we repeat the process only three times, we can see the same process happening:</p>"
   ]
  },
  {
   "cell_type": "code",
   "execution_count": 21,
   "metadata": {},
   "outputs": [
    {
     "data": {
      "text/plain": [
       "<seaborn.axisgrid.FacetGrid at 0x2766dbc3460>"
      ]
     },
     "execution_count": 21,
     "metadata": {},
     "output_type": "execute_result"
    },
    {
     "data": {
      "image/png": "[encoded data removed]",
      "text/plain": [
       "<Figure size 400x800 with 4 Axes>"
      ]
     },
     "metadata": {},
     "output_type": "display_data"
    }
   ],
   "source": [
    "sample_data = pd.DataFrame({\n",
    "    'price': df['price'].sample(328),\n",
    "    'type': 'Data',\n",
    "})\n",
    "\n",
    "sample_mean_25 = pd.DataFrame({\n",
    "    'price': [df['price'].sample(25).mean() for _ in range(3)],\n",
    "    'type': 'Mean of 25',\n",
    "})\n",
    "\n",
    "sample_mean_50 = pd.DataFrame({\n",
    "    'price': [df['price'].sample(50).mean() for _ in range(3)],\n",
    "    'type': 'Mean of 50',\n",
    "})\n",
    "\n",
    "sample_mean_200 = pd.DataFrame({\n",
    "    'price': [df['price'].sample(200).mean() for _ in range(3)],\n",
    "    'type': 'Mean of 200'\n",
    "})\n",
    "\n",
    "results = pd.concat([sample_data, sample_mean_25, sample_mean_50, sample_mean_200])\n",
    "\n",
    "g = sns.FacetGrid(results, col='type', col_wrap=1, height=2, aspect=2)\n",
    "g.map(plt.hist, 'price', range=[0,300], bins=40)"
   ]
  },
  {
   "attachments": {},
   "cell_type": "markdown",
   "metadata": {},
   "source": [
    "<p>The visualization helps us to understand what happens to the sample distribution of a statistic, in this case, the mean value, when we increase the sample size.</p>\n",
    "<p>We can also use the <b>bootstrap</b> procedure, a method in which can estimate the sampling distribution of a statistic by drawing additional samples (with replacement) and recalculating the statistic or model for each resample.</p>"
   ]
  },
  {
   "cell_type": "code",
   "execution_count": 22,
   "metadata": {},
   "outputs": [
    {
     "name": "stdout",
     "output_type": "stream",
     "text": [
      "Bootstrap statistics:\n",
      "original: 109.5\n",
      "bias: -0.5264999999999986\n",
      "std.error: 3.031705623735423\n"
     ]
    }
   ],
   "source": [
    "results = []\n",
    "for nrepeat in range(1000):\n",
    "    sample = resample(df['price'])\n",
    "    results.append(sample.median())\n",
    "results = pd.Series(results)\n",
    "print(f'Bootstrap statistics:')\n",
    "print(f\"original: {df['price'].median()}\")\n",
    "print(f\"bias: {results.mean()- df['price'].median()}\")\n",
    "print(f'std.error: {results.std()}')"
   ]
  },
  {
   "attachments": {},
   "cell_type": "markdown",
   "metadata": {},
   "source": [
    "<p>Now, let's take a look at <b>confidence intervals</b>. We can estimate the coverage level of the dataset in a 90% interval.</p\\>"
   ]
  },
  {
   "cell_type": "code",
   "execution_count": 24,
   "metadata": {},
   "outputs": [
    {
     "name": "stdout",
     "output_type": "stream",
     "text": [
      "131.36682242990653\n",
      "113.65\n"
     ]
    }
   ],
   "source": [
    "print(df['price'].mean())\n",
    "np.random.seed(seed=3)\n",
    "# Create a sample of 20 hotel prices data\n",
    "sample_20 = resample(df['price'], n_samples=20, replace=False)\n",
    "print(sample_20.mean())"
   ]
  },
  {
   "cell_type": "code",
   "execution_count": 25,
   "metadata": {},
   "outputs": [
    {
     "data": {
      "image/png": "[encoded data removed]",
      "text/plain": [
       "<Figure size 400x300 with 1 Axes>"
      ]
     },
     "metadata": {},
     "output_type": "display_data"
    }
   ],
   "source": [
    "results = []\n",
    "for nrepeat in range(500):\n",
    "    sample = resample(sample_20)\n",
    "    results.append(sample.mean())\n",
    "results = pd.Series(results)\n",
    "\n",
    "confidence_interval = list(results.quantile([0.05, 0.95]))\n",
    "ax = results.plot.hist(bins=30, figsize=(4, 3))\n",
    "ax.plot(confidence_interval, [55, 55], color='black')\n",
    "for x in confidence_interval:\n",
    "    ax.plot([x, x], [0, 65], color='black')\n",
    "    ax.text(x, 70, f'{x:.0f}',\n",
    "            horizontalalignment='center', verticalalignment='center')\n",
    "\n",
    "ax.text(sum(confidence_interval) / 2, 60, '90% interval',\n",
    "        horizontalalignment='center', verticalalignment='center')\n",
    "\n",
    "mean_price = results.mean()\n",
    "ax.plot([mean_price, mean_price], [0, 50], color='black', linestyle='--')\n",
    "ax.text(mean_price, 10, f'Mean: {mean_price:.0f}',\n",
    "        bbox=dict(facecolor='white', edgecolor='white', alpha=0.5),\n",
    "        horizontalalignment='center', verticalalignment='center')\n",
    "ax.set_ylim(0, 80)\n",
    "ax.set_ylabel('Counts')\n",
    "\n",
    "plt.tight_layout()\n",
    "plt.show()"
   ]
  },
  {
   "attachments": {},
   "cell_type": "markdown",
   "metadata": {},
   "source": [
    "<p><b>Observations:</b></p>\n",
    "<ul>\n",
    "    <li>We can see that the data resample presents a normal distribution, with some skew on its right side.</li>\n",
    "    <li>With a 90% CI, we can affirm that the hotel prices range from <b>€101</b> and <b>€125</b></li>\n",
    "    <li>The mean is <b>€113</b>, and getting a 101-125 interval is a good improvement.</li>\n",
    "</ul>\n",
    "<p>Finally, we can plot a confidence interval for both a 90 and a 95% CI.</p>"
   ]
  },
  {
   "cell_type": "code",
   "execution_count": 37,
   "metadata": {},
   "outputs": [
    {
     "data": {
      "image/png": "[encoded data removed]",
      "text/plain": [
       "<Figure size 400x300 with 1 Axes>"
      ]
     },
     "metadata": {},
     "output_type": "display_data"
    }
   ],
   "source": [
    "results = []\n",
    "for nrepeat in range(500):\n",
    "    sample = resample(sample_20)\n",
    "    results.append(sample.mean())\n",
    "results = pd.Series(results)\n",
    "\n",
    "confidence_interval = list(results.quantile([0.05, 0.95]))\n",
    "ax = results.plot.hist(bins=30, figsize=(4, 3), color='C1')\n",
    "ax.plot(confidence_interval, [55, 55], color='black', linestyle='--')\n",
    "for x in confidence_interval:\n",
    "    ax.plot([x, x], [0, 60], color='black')\n",
    "ax.text(90, 50,\n",
    "        f'90%CI\\n[{confidence_interval[0]:.0f}, {confidence_interval[1]:.0f}]',\n",
    "        fontsize='small')\n",
    "\n",
    "confidence_interval = list(results.quantile([0.025, 0.975]))\n",
    "ax = results.plot.hist(bins=30, figsize=(4, 3))\n",
    "ax.plot(confidence_interval, [65, 65], color='black', linestyle='--')\n",
    "for x in confidence_interval:\n",
    "    ax.plot([x, x], [0, 70], color='black')\n",
    "ax.text(100, 65,\n",
    "        f'95%CI\\n[{confidence_interval[0]:.0f}, {confidence_interval[1]:.0f}]',\n",
    "        fontsize='small')\n",
    "\n",
    "mean_price = results.mean()\n",
    "ax.plot([mean_price, mean_price], [0, 50], color='black', linestyle='--')\n",
    "ax.text(mean_price, 5, f'Mean: {mean_price:.0f}',\n",
    "        bbox=dict(facecolor='white', edgecolor='white', alpha=0.5),\n",
    "        horizontalalignment='center', verticalalignment='center')\n",
    "\n",
    "ax.set_ylim(0, 80)\n",
    "ax.set_xlim(85, 155),\n",
    "ax.set_xticks([90, 100, 110, 120, 130, 140, 150])\n",
    "ax.set_ylabel('Counts')\n",
    "\n",
    "plt.tight_layout()\n",
    "plt.show()"
   ]
  },
  {
   "attachments": {},
   "cell_type": "markdown",
   "metadata": {},
   "source": [
    "<p><b>Observations:</b></p>\n",
    "<ul>\n",
    "    <li>A narrower CI (95%) returns a wider range of possible values. This is the tradeoff: to reduce uncertainty, one must widen the possible outcomes.</p>\n",
    "    </li>\n",
    "</ul>\n",
    "\n",
    "<p>Well, that should be enough for today. We did much more than the exercise asked us. But it was a good way of getting to know more about our dataset.</p> "
   ]
  },
  {
   "attachments": {},
   "cell_type": "markdown",
   "metadata": {},
   "source": [
    "<hr>"
   ]
  }
 ],
 "metadata": {
  "kernelspec": {
   "display_name": "data_analysis",
   "language": "python",
   "name": "python3"
  },
  "language_info": {
   "codemirror_mode": {
    "name": "ipython",
    "version": 3
   },
   "file_extension": ".py",
   "mimetype": "text/x-python",
   "name": "python",
   "nbconvert_exporter": "python",
   "pygments_lexer": "ipython3",
   "version": "3.10.3"
  },
  "orig_nbformat": 4,
  "vscode": {
   "interpreter": {
    "hash": "13bbb7fd5916020362212becdbb8a50aec9d9eb5bf2a3de6ebff663c4b0e188c"
   }
  }
 },
 "nbformat": 4,
 "nbformat_minor": 2
}
