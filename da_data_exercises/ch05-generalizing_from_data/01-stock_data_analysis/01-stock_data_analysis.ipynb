{
 "cells": [
  {
   "cell_type": "markdown",
   "metadata": {},
   "source": [
    "<h1>Chapter 5 | Data Exercise #1 | Financial Assets | Generalizing from Data</h1>\n",
    "<h2>Introduction:</h2>\n",
    "<p>In this notebook, you will find my notes and code for Chapter 5's <b>exercise 1</b> of the book <a href=\"https://gabors-data-analysis.com/\">Data Analysis for Business, Economics, and Policy</a>, by Gábor Békés and Gábor Kézdi. The question was: \n",
    "<p>1. Download ten years of daily data on the price of a financial asset, such as an individual stock, or another stock market index.</p>\n",
    "<p>Assignments:</p>\n",
    "<ul>\n",
    "    <li>Document the main features of the data.</li>\n",
    "    <li>Create daily percentage returns.</li>\n",
    "    <li>Create a binary variable indicating large losses by choosing your own cutoff.</li>\n",
    "    <li>Estimate the standard error of the estimated likelihood of large daily losses by bootsrap and using the SE formula.</li>\n",
    "    <li>Compare the two, and create 95% confidence intervals.</li>\n",
    "    <li>Conclude by giving advice on how to use these results in future investments decisions.</li>\n",
    "\n",
    "</ul>\n",
    "<h2>1. Load the data</h2>"
   ]
  },
  {
   "cell_type": "code",
   "execution_count": 25,
   "metadata": {},
   "outputs": [],
   "source": [
    "import os\n",
    "import pandas as pd\n",
    "import warnings\n",
    "import yfinance as yf\n",
    "from datetime import datetime\n",
    "from plotnine import *\n",
    "import sys\n",
    "import numpy as np\n",
    "from scipy.stats import norm\n",
    "\n",
    "\n",
    "warnings.filterwarnings(\"ignore\")\n",
    "%matplotlib inline"
   ]
  },
  {
   "cell_type": "code",
   "execution_count": 2,
   "metadata": {},
   "outputs": [],
   "source": [
    "# Increase number of returned rows in pandas\n",
    "pd.set_option(\"display.max_rows\", 500)"
   ]
  },
  {
   "cell_type": "code",
   "execution_count": 3,
   "metadata": {},
   "outputs": [],
   "source": [
    "# Current script folder\n",
    "dirname = os.getcwd()\n",
    "\n",
    "# Get location folders\n",
    "data_in = f\"{dirname}/da_data_exercises/ch05-generalizing_from_data/01-stock_data_analysis/data/raw/\"\n",
    "data_out = f\"{dirname}/da_data_exercises/ch05-generalizing_from_data/01-stock_data_analysis/data/clean/\"\n",
    "output = f\"{dirname}/da_data_exercises/ch05-generalizing_from_data/01-stock_data_analysis/data/output/\"\n",
    "func = f\"{dirname}/da_case_studies/ch00-tech_prep/\"\n",
    "sys.path.append(func)\n",
    "paths = [data_in, data_out, output]\n",
    "\n",
    "for path in paths:\n",
    "    if not os.path.exists(path):\n",
    "        os.makedirs(path)"
   ]
  },
  {
   "cell_type": "code",
   "execution_count": 4,
   "metadata": {},
   "outputs": [
    {
     "data": {
      "text/plain": [
       "'c:\\\\Users\\\\felip\\\\workspace\\\\python_work\\\\bk_data_analysis'"
      ]
     },
     "execution_count": 4,
     "metadata": {},
     "output_type": "execute_result"
    }
   ],
   "source": [
    "dirname"
   ]
  },
  {
   "cell_type": "code",
   "execution_count": 5,
   "metadata": {},
   "outputs": [],
   "source": [
    "# Import the prewritten helper functions \n",
    "from py_helper_functions import *"
   ]
  },
  {
   "cell_type": "markdown",
   "metadata": {},
   "source": [
    "It would be a good idea to see how Brazilian firms are doing. We could use **Petrobras**, the main Brazilian oil company (which is a state-owned multinational corporation). Let's test using `Yahoo Finance`."
   ]
  },
  {
   "cell_type": "code",
   "execution_count": 6,
   "metadata": {},
   "outputs": [
    {
     "data": {
      "text/html": [
       "<div>\n",
       "<style scoped>\n",
       "    .dataframe tbody tr th:only-of-type {\n",
       "        vertical-align: middle;\n",
       "    }\n",
       "\n",
       "    .dataframe tbody tr th {\n",
       "        vertical-align: top;\n",
       "    }\n",
       "\n",
       "    .dataframe thead th {\n",
       "        text-align: right;\n",
       "    }\n",
       "</style>\n",
       "<table border=\"1\" class=\"dataframe\">\n",
       "  <thead>\n",
       "    <tr style=\"text-align: right;\">\n",
       "      <th></th>\n",
       "      <th>Open</th>\n",
       "      <th>High</th>\n",
       "      <th>Low</th>\n",
       "      <th>Close</th>\n",
       "      <th>Volume</th>\n",
       "      <th>Dividends</th>\n",
       "      <th>Stock Splits</th>\n",
       "    </tr>\n",
       "    <tr>\n",
       "      <th>Date</th>\n",
       "      <th></th>\n",
       "      <th></th>\n",
       "      <th></th>\n",
       "      <th></th>\n",
       "      <th></th>\n",
       "      <th></th>\n",
       "      <th></th>\n",
       "    </tr>\n",
       "  </thead>\n",
       "  <tbody>\n",
       "    <tr>\n",
       "      <th>2024-07-04 00:00:00-03:00</th>\n",
       "      <td>37.900002</td>\n",
       "      <td>37.959999</td>\n",
       "      <td>37.119999</td>\n",
       "      <td>37.320000</td>\n",
       "      <td>32698800</td>\n",
       "      <td>0.0</td>\n",
       "      <td>0.0</td>\n",
       "    </tr>\n",
       "    <tr>\n",
       "      <th>2024-07-05 00:00:00-03:00</th>\n",
       "      <td>37.450001</td>\n",
       "      <td>37.650002</td>\n",
       "      <td>37.110001</td>\n",
       "      <td>37.520000</td>\n",
       "      <td>32758800</td>\n",
       "      <td>0.0</td>\n",
       "      <td>0.0</td>\n",
       "    </tr>\n",
       "    <tr>\n",
       "      <th>2024-07-08 00:00:00-03:00</th>\n",
       "      <td>37.480000</td>\n",
       "      <td>38.520000</td>\n",
       "      <td>37.290001</td>\n",
       "      <td>38.439999</td>\n",
       "      <td>48845900</td>\n",
       "      <td>0.0</td>\n",
       "      <td>0.0</td>\n",
       "    </tr>\n",
       "    <tr>\n",
       "      <th>2024-07-09 00:00:00-03:00</th>\n",
       "      <td>38.450001</td>\n",
       "      <td>38.700001</td>\n",
       "      <td>38.270000</td>\n",
       "      <td>38.430000</td>\n",
       "      <td>34832500</td>\n",
       "      <td>0.0</td>\n",
       "      <td>0.0</td>\n",
       "    </tr>\n",
       "    <tr>\n",
       "      <th>2024-07-10 00:00:00-03:00</th>\n",
       "      <td>38.490002</td>\n",
       "      <td>38.560001</td>\n",
       "      <td>37.980000</td>\n",
       "      <td>38.070000</td>\n",
       "      <td>32797500</td>\n",
       "      <td>0.0</td>\n",
       "      <td>0.0</td>\n",
       "    </tr>\n",
       "  </tbody>\n",
       "</table>\n",
       "</div>"
      ],
      "text/plain": [
       "                                Open       High        Low      Close  \\\n",
       "Date                                                                    \n",
       "2024-07-04 00:00:00-03:00  37.900002  37.959999  37.119999  37.320000   \n",
       "2024-07-05 00:00:00-03:00  37.450001  37.650002  37.110001  37.520000   \n",
       "2024-07-08 00:00:00-03:00  37.480000  38.520000  37.290001  38.439999   \n",
       "2024-07-09 00:00:00-03:00  38.450001  38.700001  38.270000  38.430000   \n",
       "2024-07-10 00:00:00-03:00  38.490002  38.560001  37.980000  38.070000   \n",
       "\n",
       "                             Volume  Dividends  Stock Splits  \n",
       "Date                                                          \n",
       "2024-07-04 00:00:00-03:00  32698800        0.0           0.0  \n",
       "2024-07-05 00:00:00-03:00  32758800        0.0           0.0  \n",
       "2024-07-08 00:00:00-03:00  48845900        0.0           0.0  \n",
       "2024-07-09 00:00:00-03:00  34832500        0.0           0.0  \n",
       "2024-07-10 00:00:00-03:00  32797500        0.0           0.0  "
      ]
     },
     "execution_count": 6,
     "metadata": {},
     "output_type": "execute_result"
    }
   ],
   "source": [
    "ticker = yf.Ticker(\"PETR4.SA\")\n",
    "\n",
    "# Get data of the most recent date\n",
    "petr4_data = ticker.history(period=\"5d\")\n",
    "\n",
    "petr4_data\n"
   ]
  },
  {
   "cell_type": "markdown",
   "metadata": {},
   "source": [
    "Great! Now, our goal is to get 10 years of data. Let's try to specify the period we want and hopefully this API won't let us down."
   ]
  },
  {
   "cell_type": "code",
   "execution_count": 7,
   "metadata": {},
   "outputs": [],
   "source": [
    "# Define the start date\n",
    "start_date = datetime(2014, 7, 7)\n",
    "\n",
    "# Define the end date\n",
    "end_date = datetime(2024, 7, 10)\n",
    "\n",
    "# Pass the parameters as the taken dates for start and end\n",
    "petr4_data = yf.Ticker(\"PETR4.SA\")\n",
    "petr4_df = petr4_data.history(start=start_date, end=end_date)"
   ]
  },
  {
   "cell_type": "code",
   "execution_count": 8,
   "metadata": {},
   "outputs": [
    {
     "data": {
      "text/html": [
       "<div>\n",
       "<style scoped>\n",
       "    .dataframe tbody tr th:only-of-type {\n",
       "        vertical-align: middle;\n",
       "    }\n",
       "\n",
       "    .dataframe tbody tr th {\n",
       "        vertical-align: top;\n",
       "    }\n",
       "\n",
       "    .dataframe thead th {\n",
       "        text-align: right;\n",
       "    }\n",
       "</style>\n",
       "<table border=\"1\" class=\"dataframe\">\n",
       "  <thead>\n",
       "    <tr style=\"text-align: right;\">\n",
       "      <th></th>\n",
       "      <th>Open</th>\n",
       "      <th>High</th>\n",
       "      <th>Low</th>\n",
       "      <th>Close</th>\n",
       "      <th>Volume</th>\n",
       "      <th>Dividends</th>\n",
       "      <th>Stock Splits</th>\n",
       "    </tr>\n",
       "    <tr>\n",
       "      <th>Date</th>\n",
       "      <th></th>\n",
       "      <th></th>\n",
       "      <th></th>\n",
       "      <th></th>\n",
       "      <th></th>\n",
       "      <th></th>\n",
       "      <th></th>\n",
       "    </tr>\n",
       "  </thead>\n",
       "  <tbody>\n",
       "    <tr>\n",
       "      <th>2014-07-07 00:00:00-03:00</th>\n",
       "      <td>5.747406</td>\n",
       "      <td>5.757310</td>\n",
       "      <td>5.658273</td>\n",
       "      <td>5.717695</td>\n",
       "      <td>18701200</td>\n",
       "      <td>0.0</td>\n",
       "      <td>0.0</td>\n",
       "    </tr>\n",
       "    <tr>\n",
       "      <th>2014-07-08 00:00:00-03:00</th>\n",
       "      <td>5.730901</td>\n",
       "      <td>5.750708</td>\n",
       "      <td>5.668178</td>\n",
       "      <td>5.720997</td>\n",
       "      <td>11504900</td>\n",
       "      <td>0.0</td>\n",
       "      <td>0.0</td>\n",
       "    </tr>\n",
       "    <tr>\n",
       "      <th>2014-07-10 00:00:00-03:00</th>\n",
       "      <td>5.869550</td>\n",
       "      <td>5.998297</td>\n",
       "      <td>5.816731</td>\n",
       "      <td>5.978490</td>\n",
       "      <td>35913600</td>\n",
       "      <td>0.0</td>\n",
       "      <td>0.0</td>\n",
       "    </tr>\n",
       "    <tr>\n",
       "      <th>2014-07-11 00:00:00-03:00</th>\n",
       "      <td>5.965287</td>\n",
       "      <td>6.047817</td>\n",
       "      <td>5.876154</td>\n",
       "      <td>6.021407</td>\n",
       "      <td>20928900</td>\n",
       "      <td>0.0</td>\n",
       "      <td>0.0</td>\n",
       "    </tr>\n",
       "    <tr>\n",
       "      <th>2014-07-14 00:00:00-03:00</th>\n",
       "      <td>6.100636</td>\n",
       "      <td>6.331721</td>\n",
       "      <td>6.080829</td>\n",
       "      <td>6.305311</td>\n",
       "      <td>70399100</td>\n",
       "      <td>0.0</td>\n",
       "      <td>0.0</td>\n",
       "    </tr>\n",
       "  </tbody>\n",
       "</table>\n",
       "</div>"
      ],
      "text/plain": [
       "                               Open      High       Low     Close    Volume  \\\n",
       "Date                                                                          \n",
       "2014-07-07 00:00:00-03:00  5.747406  5.757310  5.658273  5.717695  18701200   \n",
       "2014-07-08 00:00:00-03:00  5.730901  5.750708  5.668178  5.720997  11504900   \n",
       "2014-07-10 00:00:00-03:00  5.869550  5.998297  5.816731  5.978490  35913600   \n",
       "2014-07-11 00:00:00-03:00  5.965287  6.047817  5.876154  6.021407  20928900   \n",
       "2014-07-14 00:00:00-03:00  6.100636  6.331721  6.080829  6.305311  70399100   \n",
       "\n",
       "                           Dividends  Stock Splits  \n",
       "Date                                                \n",
       "2014-07-07 00:00:00-03:00        0.0           0.0  \n",
       "2014-07-08 00:00:00-03:00        0.0           0.0  \n",
       "2014-07-10 00:00:00-03:00        0.0           0.0  \n",
       "2014-07-11 00:00:00-03:00        0.0           0.0  \n",
       "2014-07-14 00:00:00-03:00        0.0           0.0  "
      ]
     },
     "execution_count": 8,
     "metadata": {},
     "output_type": "execute_result"
    }
   ],
   "source": [
    "petr4_df.head()"
   ]
  },
  {
   "cell_type": "markdown",
   "metadata": {},
   "source": [
    "Jah bless Yahoo Finance! Let's move on.\n",
    "## 2. Document the main features of the data ##\n",
    "Let's take a picture of our dataset and describe it.\n",
    "\n"
   ]
  },
  {
   "cell_type": "code",
   "execution_count": 9,
   "metadata": {},
   "outputs": [
    {
     "data": {
      "text/plain": [
       "(2490, 7)"
      ]
     },
     "execution_count": 9,
     "metadata": {},
     "output_type": "execute_result"
    }
   ],
   "source": [
    "petr4_df.shape"
   ]
  },
  {
   "cell_type": "code",
   "execution_count": 10,
   "metadata": {},
   "outputs": [
    {
     "name": "stdout",
     "output_type": "stream",
     "text": [
      "<class 'pandas.core.frame.DataFrame'>\n",
      "DatetimeIndex: 2490 entries, 2014-07-07 00:00:00-03:00 to 2024-07-09 00:00:00-03:00\n",
      "Data columns (total 7 columns):\n",
      " #   Column        Non-Null Count  Dtype  \n",
      "---  ------        --------------  -----  \n",
      " 0   Open          2490 non-null   float64\n",
      " 1   High          2490 non-null   float64\n",
      " 2   Low           2490 non-null   float64\n",
      " 3   Close         2490 non-null   float64\n",
      " 4   Volume        2490 non-null   int64  \n",
      " 5   Dividends     2490 non-null   float64\n",
      " 6   Stock Splits  2490 non-null   float64\n",
      "dtypes: float64(6), int64(1)\n",
      "memory usage: 155.6 KB\n"
     ]
    }
   ],
   "source": [
    "petr4_df.info()"
   ]
  },
  {
   "cell_type": "code",
   "execution_count": 11,
   "metadata": {},
   "outputs": [
    {
     "name": "stdout",
     "output_type": "stream",
     "text": [
      "There are 0 observations in the dataset.\n"
     ]
    }
   ],
   "source": [
    "is_duplicate = petr4_df.duplicated().sum()\n",
    "print(f\"There are {is_duplicate} observations in the dataset.\")"
   ]
  },
  {
   "cell_type": "markdown",
   "metadata": {},
   "source": [
    "A brief summary:\n",
    "- Our dataset has 2488 observations and 7 features/variables.\n",
    "- All columns are numeric.\n",
    "- There are no missing values.\n",
    "- There are no duplicate values either.\n",
    "\n",
    "About the variables, a short description:\n",
    "\n",
    "\n",
    "| **Variable** | **Definition** |\n",
    "|--------------| ---------------|\n",
    "| `Open`       | The opening price for the specified date. |\n",
    "| `High`       | The high price for the specified date. |\n",
    "| `Low`        | The low price for the specified date. |\n",
    "| `Close`      | The closing price for the specified date. |\n",
    "| `Volume`     | The number of shares traded in a stock or contracts traded in futures or options. |\n",
    "| `Dividends`  | A portion of a company's earnings that is paid to a shareholder. |\n",
    "| `Stock Splits` |  A corporate action in which a company increases the number of its outstanding shares by issuing more shares to current shareholders. | \n"
   ]
  },
  {
   "cell_type": "markdown",
   "metadata": {},
   "source": [
    "## 3. Create daily percentage returns and date columns##\n",
    "Our goal is to work on closing prices, so we can include only `Close` and create a percent return variable that indicate the percentage change on a daily basis.\n"
   ]
  },
  {
   "cell_type": "code",
   "execution_count": 12,
   "metadata": {},
   "outputs": [],
   "source": [
    "# Keep only `Close` column\n",
    "petr4_df = petr4_df[[\"Close\"]]\n",
    "\n",
    "petr4_df[\"pct_return\"] = (\n",
    "    (petr4_df[\"Close\"] - petr4_df.shift(1)[\"Close\"])\n",
    "    /\n",
    "    petr4_df.shift(1)[\"Close\"] * 100\n",
    ")"
   ]
  },
  {
   "cell_type": "code",
   "execution_count": 13,
   "metadata": {},
   "outputs": [
    {
     "data": {
      "text/html": [
       "<div>\n",
       "<style scoped>\n",
       "    .dataframe tbody tr th:only-of-type {\n",
       "        vertical-align: middle;\n",
       "    }\n",
       "\n",
       "    .dataframe tbody tr th {\n",
       "        vertical-align: top;\n",
       "    }\n",
       "\n",
       "    .dataframe thead th {\n",
       "        text-align: right;\n",
       "    }\n",
       "</style>\n",
       "<table border=\"1\" class=\"dataframe\">\n",
       "  <thead>\n",
       "    <tr style=\"text-align: right;\">\n",
       "      <th></th>\n",
       "      <th>Close</th>\n",
       "      <th>pct_return</th>\n",
       "    </tr>\n",
       "    <tr>\n",
       "      <th>Date</th>\n",
       "      <th></th>\n",
       "      <th></th>\n",
       "    </tr>\n",
       "  </thead>\n",
       "  <tbody>\n",
       "    <tr>\n",
       "      <th>2014-07-07 00:00:00-03:00</th>\n",
       "      <td>5.717695</td>\n",
       "      <td>NaN</td>\n",
       "    </tr>\n",
       "    <tr>\n",
       "      <th>2014-07-08 00:00:00-03:00</th>\n",
       "      <td>5.720997</td>\n",
       "      <td>0.057761</td>\n",
       "    </tr>\n",
       "    <tr>\n",
       "      <th>2014-07-10 00:00:00-03:00</th>\n",
       "      <td>5.978490</td>\n",
       "      <td>4.500841</td>\n",
       "    </tr>\n",
       "    <tr>\n",
       "      <th>2014-07-11 00:00:00-03:00</th>\n",
       "      <td>6.021407</td>\n",
       "      <td>0.717853</td>\n",
       "    </tr>\n",
       "    <tr>\n",
       "      <th>2014-07-14 00:00:00-03:00</th>\n",
       "      <td>6.305311</td>\n",
       "      <td>4.714912</td>\n",
       "    </tr>\n",
       "  </tbody>\n",
       "</table>\n",
       "</div>"
      ],
      "text/plain": [
       "                              Close  pct_return\n",
       "Date                                           \n",
       "2014-07-07 00:00:00-03:00  5.717695         NaN\n",
       "2014-07-08 00:00:00-03:00  5.720997    0.057761\n",
       "2014-07-10 00:00:00-03:00  5.978490    4.500841\n",
       "2014-07-11 00:00:00-03:00  6.021407    0.717853\n",
       "2014-07-14 00:00:00-03:00  6.305311    4.714912"
      ]
     },
     "execution_count": 13,
     "metadata": {},
     "output_type": "execute_result"
    }
   ],
   "source": [
    "petr4_df.head()"
   ]
  },
  {
   "cell_type": "code",
   "execution_count": 14,
   "metadata": {},
   "outputs": [
    {
     "name": "stdout",
     "output_type": "stream",
     "text": [
      "<class 'pandas.core.frame.DataFrame'>\n",
      "DatetimeIndex: 2490 entries, 2014-07-07 00:00:00-03:00 to 2024-07-09 00:00:00-03:00\n",
      "Data columns (total 2 columns):\n",
      " #   Column      Non-Null Count  Dtype  \n",
      "---  ------      --------------  -----  \n",
      " 0   Close       2490 non-null   float64\n",
      " 1   pct_return  2489 non-null   float64\n",
      "dtypes: float64(2)\n",
      "memory usage: 58.4 KB\n"
     ]
    }
   ],
   "source": [
    "petr4_df.info()"
   ]
  },
  {
   "cell_type": "code",
   "execution_count": 15,
   "metadata": {},
   "outputs": [
    {
     "data": {
      "text/html": [
       "<div>\n",
       "<style scoped>\n",
       "    .dataframe tbody tr th:only-of-type {\n",
       "        vertical-align: middle;\n",
       "    }\n",
       "\n",
       "    .dataframe tbody tr th {\n",
       "        vertical-align: top;\n",
       "    }\n",
       "\n",
       "    .dataframe thead th {\n",
       "        text-align: right;\n",
       "    }\n",
       "</style>\n",
       "<table border=\"1\" class=\"dataframe\">\n",
       "  <thead>\n",
       "    <tr style=\"text-align: right;\">\n",
       "      <th></th>\n",
       "      <th>Date</th>\n",
       "      <th>Close</th>\n",
       "      <th>pct_return</th>\n",
       "    </tr>\n",
       "  </thead>\n",
       "  <tbody>\n",
       "    <tr>\n",
       "      <th>0</th>\n",
       "      <td>2014-07-07 00:00:00-03:00</td>\n",
       "      <td>5.717695</td>\n",
       "      <td>NaN</td>\n",
       "    </tr>\n",
       "    <tr>\n",
       "      <th>1</th>\n",
       "      <td>2014-07-08 00:00:00-03:00</td>\n",
       "      <td>5.720997</td>\n",
       "      <td>0.057761</td>\n",
       "    </tr>\n",
       "    <tr>\n",
       "      <th>2</th>\n",
       "      <td>2014-07-10 00:00:00-03:00</td>\n",
       "      <td>5.978490</td>\n",
       "      <td>4.500841</td>\n",
       "    </tr>\n",
       "    <tr>\n",
       "      <th>3</th>\n",
       "      <td>2014-07-11 00:00:00-03:00</td>\n",
       "      <td>6.021407</td>\n",
       "      <td>0.717853</td>\n",
       "    </tr>\n",
       "    <tr>\n",
       "      <th>4</th>\n",
       "      <td>2014-07-14 00:00:00-03:00</td>\n",
       "      <td>6.305311</td>\n",
       "      <td>4.714912</td>\n",
       "    </tr>\n",
       "  </tbody>\n",
       "</table>\n",
       "</div>"
      ],
      "text/plain": [
       "                       Date     Close  pct_return\n",
       "0 2014-07-07 00:00:00-03:00  5.717695         NaN\n",
       "1 2014-07-08 00:00:00-03:00  5.720997    0.057761\n",
       "2 2014-07-10 00:00:00-03:00  5.978490    4.500841\n",
       "3 2014-07-11 00:00:00-03:00  6.021407    0.717853\n",
       "4 2014-07-14 00:00:00-03:00  6.305311    4.714912"
      ]
     },
     "execution_count": 15,
     "metadata": {},
     "output_type": "execute_result"
    }
   ],
   "source": [
    "# Convert the `Date` index to a column\n",
    "petr4_df.reset_index(inplace=True)\n",
    "petr4_df.head()"
   ]
  },
  {
   "cell_type": "markdown",
   "metadata": {},
   "source": [
    "Great! We can now perform a few transformations on `Date` and obtain the separate `year`, `month`, and `yearmonth` variables."
   ]
  },
  {
   "cell_type": "code",
   "execution_count": 16,
   "metadata": {},
   "outputs": [],
   "source": [
    "petr4_df[\"Date\"] = pd.to_datetime(petr4_df[\"Date\"], format=\"%Y-%m-%d\")\n",
    "petr4_df[\"year\"] = petr4_df[\"Date\"].dt.year\n",
    "petr4_df[\"month\"] = petr4_df[\"Date\"].dt.month\n",
    "petr4_df[\"year_month\"] = petr4_df[\"Date\"].dt.to_period(\"M\")\n"
   ]
  },
  {
   "cell_type": "code",
   "execution_count": 17,
   "metadata": {},
   "outputs": [
    {
     "data": {
      "text/html": [
       "<div>\n",
       "<style scoped>\n",
       "    .dataframe tbody tr th:only-of-type {\n",
       "        vertical-align: middle;\n",
       "    }\n",
       "\n",
       "    .dataframe tbody tr th {\n",
       "        vertical-align: top;\n",
       "    }\n",
       "\n",
       "    .dataframe thead th {\n",
       "        text-align: right;\n",
       "    }\n",
       "</style>\n",
       "<table border=\"1\" class=\"dataframe\">\n",
       "  <thead>\n",
       "    <tr style=\"text-align: right;\">\n",
       "      <th></th>\n",
       "      <th>Date</th>\n",
       "      <th>Close</th>\n",
       "      <th>pct_return</th>\n",
       "      <th>year</th>\n",
       "      <th>month</th>\n",
       "      <th>year_month</th>\n",
       "    </tr>\n",
       "  </thead>\n",
       "  <tbody>\n",
       "    <tr>\n",
       "      <th>0</th>\n",
       "      <td>2014-07-07 00:00:00-03:00</td>\n",
       "      <td>5.717695</td>\n",
       "      <td>NaN</td>\n",
       "      <td>2014</td>\n",
       "      <td>7</td>\n",
       "      <td>2014-07</td>\n",
       "    </tr>\n",
       "    <tr>\n",
       "      <th>1</th>\n",
       "      <td>2014-07-08 00:00:00-03:00</td>\n",
       "      <td>5.720997</td>\n",
       "      <td>0.057761</td>\n",
       "      <td>2014</td>\n",
       "      <td>7</td>\n",
       "      <td>2014-07</td>\n",
       "    </tr>\n",
       "    <tr>\n",
       "      <th>2</th>\n",
       "      <td>2014-07-10 00:00:00-03:00</td>\n",
       "      <td>5.978490</td>\n",
       "      <td>4.500841</td>\n",
       "      <td>2014</td>\n",
       "      <td>7</td>\n",
       "      <td>2014-07</td>\n",
       "    </tr>\n",
       "    <tr>\n",
       "      <th>3</th>\n",
       "      <td>2014-07-11 00:00:00-03:00</td>\n",
       "      <td>6.021407</td>\n",
       "      <td>0.717853</td>\n",
       "      <td>2014</td>\n",
       "      <td>7</td>\n",
       "      <td>2014-07</td>\n",
       "    </tr>\n",
       "    <tr>\n",
       "      <th>4</th>\n",
       "      <td>2014-07-14 00:00:00-03:00</td>\n",
       "      <td>6.305311</td>\n",
       "      <td>4.714912</td>\n",
       "      <td>2014</td>\n",
       "      <td>7</td>\n",
       "      <td>2014-07</td>\n",
       "    </tr>\n",
       "  </tbody>\n",
       "</table>\n",
       "</div>"
      ],
      "text/plain": [
       "                       Date     Close  pct_return  year  month year_month\n",
       "0 2014-07-07 00:00:00-03:00  5.717695         NaN  2014      7    2014-07\n",
       "1 2014-07-08 00:00:00-03:00  5.720997    0.057761  2014      7    2014-07\n",
       "2 2014-07-10 00:00:00-03:00  5.978490    4.500841  2014      7    2014-07\n",
       "3 2014-07-11 00:00:00-03:00  6.021407    0.717853  2014      7    2014-07\n",
       "4 2014-07-14 00:00:00-03:00  6.305311    4.714912  2014      7    2014-07"
      ]
     },
     "execution_count": 17,
     "metadata": {},
     "output_type": "execute_result"
    }
   ],
   "source": [
    "petr4_df.head()"
   ]
  },
  {
   "cell_type": "markdown",
   "metadata": {},
   "source": [
    "## 4. Plot the histogram of daily returns, annotate losses ##"
   ]
  },
  {
   "cell_type": "code",
   "execution_count": 18,
   "metadata": {},
   "outputs": [
    {
     "data": {
      "image/png": "[encoded data removed]"
     },
     "metadata": {
      "image/png": {
       "height": 480,
       "width": 640
      }
     },
     "output_type": "display_data"
    }
   ],
   "source": [
    "# Create histogram of daily returns\n",
    "ggplot(petr4_df, aes(\"pct_return\")) + geom_histogram(\n",
    "    binwidth=0.25, color=\"white\", fill=color[0], boundary=0, closed=\"left\",\n",
    ") + geom_vline(xintercept=-5, size=0.7, color=color[1]) + labs(\n",
    "    x=\"Daily return (percent)\", y=\"Frequency\", title=\"Histogram of daily returns for PETR4.SA\"\n",
    ") + coord_cartesian(\n",
    "    xlim=[-10, 10], ylim=[0, 200]\n",
    ") + scale_y_continuous(\n",
    "    expand=[0, 0]\n",
    ") + geom_segment(\n",
    "    aes(x=-6, y=220, xend=-5, yend=220)\n",
    ") + annotate(\n",
    "    \"text\", x=-8, y=220, label=\"5% loss\", size=12\n",
    ") + theme_bw()"
   ]
  },
  {
   "cell_type": "markdown",
   "metadata": {},
   "source": [
    "We can notice a significant amount of observations below the 5% threshold. We can count the number of days that `PETR4.SA` closed at such low losses."
   ]
  },
  {
   "cell_type": "code",
   "execution_count": 19,
   "metadata": {},
   "outputs": [
    {
     "name": "stdout",
     "output_type": "stream",
     "text": [
      "There were 97 days in which the stock lost 5% or more. \n",
      "This represents 3.90% of the total days (2490).\n"
     ]
    }
   ],
   "source": [
    "days_below_5pct = len(petr4_df.loc[petr4_df[\"pct_return\"] <= -5, :])\n",
    "\n",
    "days_below_5pct_proport = (days_below_5pct / petr4_df.shape[0]) * 100\n",
    "print(f\"There were {days_below_5pct} days in which the stock lost 5% or more. \\nThis represents {days_below_5pct_proport:.2f}% of the total days ({petr4_df.shape[0]}).\")"
   ]
  },
  {
   "cell_type": "markdown",
   "metadata": {},
   "source": [
    "Now, for a total of 2490 days, we have noticed **97** days with losses below 5%, representing nearly **4%** of the total number of observations. \n",
    "\n",
    "## 3. Repeated samples, standar error ##\n",
    "Considering the question \"What *could* have been observed?\", we can use **repeated samples** to make inferences about our dataset. That is, we can learn the distribution of each sample, get its estimate and observe the sampling distribution. Our most important goal here is to get its standard deviation, that is, how much *spread* we can observe across repeated samples. Remember that the standard deviation of the sampling distribution is called the **standard error**. \n",
    "We can now peform a simulation to exemplify the exercise. Our statistic of interest is the proportin of days with 5% of larger losses - in our case, it is **3.9%**. If we consider these 10 years of data our entire population, we already know the true value. We will ignore this fact and consider that the entire population encompasses a wider timespan."
   ]
  },
  {
   "cell_type": "code",
   "execution_count": 20,
   "metadata": {},
   "outputs": [],
   "source": [
    "# Remove NaN values from `pct_return` column\n",
    "pct_return_no_na = petr4_df[\"pct_return\"].dropna()"
   ]
  },
  {
   "cell_type": "markdown",
   "metadata": {},
   "source": [
    "Using a simple random sampling, we can now create samples based on the assumption that our data comprises only a 4 year period. Considering that each year has around 250 working days, we can use `1000` as our sample size."
   ]
  },
  {
   "cell_type": "code",
   "execution_count": 21,
   "metadata": {},
   "outputs": [],
   "source": [
    "def create_samples(vector, n_samples, n_obs):\n",
    "    samples_pctloss = [None] * (n_samples + 1) # Create a list to store the samples\n",
    "    for i in range(n_samples + 1):\n",
    "        single_sample = np.random.choice(vector, size=n_obs, replace=False) # Create a single sample\n",
    "        samples_pctloss[i] = sum(single_sample <= -5) / n_obs * 100 # Calculate the proportion of days with losses greater than 5%\n",
    "    return samples_pctloss\n"
   ]
  },
  {
   "cell_type": "markdown",
   "metadata": {},
   "source": [
    "Now, we can generate samples for 1000 and 500 observations. It is important to mention that, in our case, we are ignoring any dependence from a given value to the previous observations. That is, we are destroying the time-series component of our dataset for the purpose of understanding the process of generalizing from data."
   ]
  },
  {
   "cell_type": "code",
   "execution_count": 22,
   "metadata": {},
   "outputs": [],
   "source": [
    "np.random.seed = 123\n",
    "n_obs_1000 = create_samples(pct_return_no_na, 10000, 1000)\n",
    "n_obs_500 = create_samples(pct_return_no_na, 10000, 500)"
   ]
  },
  {
   "cell_type": "code",
   "execution_count": 23,
   "metadata": {},
   "outputs": [],
   "source": [
    "n_obs_df = pd.DataFrame({\"n_obs_500\": n_obs_500, \"n_obs_1000\": n_obs_1000}).drop(0)"
   ]
  },
  {
   "cell_type": "code",
   "execution_count": 24,
   "metadata": {},
   "outputs": [
    {
     "data": {
      "text/html": [
       "<div>\n",
       "<style scoped>\n",
       "    .dataframe tbody tr th:only-of-type {\n",
       "        vertical-align: middle;\n",
       "    }\n",
       "\n",
       "    .dataframe tbody tr th {\n",
       "        vertical-align: top;\n",
       "    }\n",
       "\n",
       "    .dataframe thead th {\n",
       "        text-align: right;\n",
       "    }\n",
       "</style>\n",
       "<table border=\"1\" class=\"dataframe\">\n",
       "  <thead>\n",
       "    <tr style=\"text-align: right;\">\n",
       "      <th></th>\n",
       "      <th>n_obs_500</th>\n",
       "      <th>n_obs_1000</th>\n",
       "    </tr>\n",
       "  </thead>\n",
       "  <tbody>\n",
       "    <tr>\n",
       "      <th>1</th>\n",
       "      <td>4.2</td>\n",
       "      <td>3.7</td>\n",
       "    </tr>\n",
       "    <tr>\n",
       "      <th>2</th>\n",
       "      <td>2.4</td>\n",
       "      <td>4.6</td>\n",
       "    </tr>\n",
       "    <tr>\n",
       "      <th>3</th>\n",
       "      <td>3.2</td>\n",
       "      <td>4.4</td>\n",
       "    </tr>\n",
       "    <tr>\n",
       "      <th>4</th>\n",
       "      <td>3.4</td>\n",
       "      <td>3.8</td>\n",
       "    </tr>\n",
       "    <tr>\n",
       "      <th>5</th>\n",
       "      <td>3.6</td>\n",
       "      <td>4.4</td>\n",
       "    </tr>\n",
       "    <tr>\n",
       "      <th>...</th>\n",
       "      <td>...</td>\n",
       "      <td>...</td>\n",
       "    </tr>\n",
       "    <tr>\n",
       "      <th>9996</th>\n",
       "      <td>3.4</td>\n",
       "      <td>4.4</td>\n",
       "    </tr>\n",
       "    <tr>\n",
       "      <th>9997</th>\n",
       "      <td>5.0</td>\n",
       "      <td>3.9</td>\n",
       "    </tr>\n",
       "    <tr>\n",
       "      <th>9998</th>\n",
       "      <td>3.0</td>\n",
       "      <td>4.0</td>\n",
       "    </tr>\n",
       "    <tr>\n",
       "      <th>9999</th>\n",
       "      <td>4.8</td>\n",
       "      <td>4.1</td>\n",
       "    </tr>\n",
       "    <tr>\n",
       "      <th>10000</th>\n",
       "      <td>4.6</td>\n",
       "      <td>3.9</td>\n",
       "    </tr>\n",
       "  </tbody>\n",
       "</table>\n",
       "<p>10000 rows × 2 columns</p>\n",
       "</div>"
      ],
      "text/plain": [
       "       n_obs_500  n_obs_1000\n",
       "1            4.2         3.7\n",
       "2            2.4         4.6\n",
       "3            3.2         4.4\n",
       "4            3.4         3.8\n",
       "5            3.6         4.4\n",
       "...          ...         ...\n",
       "9996         3.4         4.4\n",
       "9997         5.0         3.9\n",
       "9998         3.0         4.0\n",
       "9999         4.8         4.1\n",
       "10000        4.6         3.9\n",
       "\n",
       "[10000 rows x 2 columns]"
      ]
     },
     "execution_count": 24,
     "metadata": {},
     "output_type": "execute_result"
    }
   ],
   "source": [
    "n_obs_df"
   ]
  },
  {
   "cell_type": "markdown",
   "metadata": {},
   "source": [
    "The result is a DataFrame containing the percentage points of `pct_return` at a 5%+ loss. \n",
    "We can now calculate the margin of error and use it to find the confidence interval for the mean of our dataset with 1000 observations. A few comments:\n",
    "1. Margin of Error Calculation\n",
    "- `norm.ppf(0.975)` calculates the **z-score** (or the number of standard deviations from the mean) corresponding to the 97.5th percentile of the standard normal distribution. We use `0.975` for a 95% CI as the normal distribution is symmetric, and we want the area in the middle covering 95% of the distribution. As such, 2.5% is left on each side.\n",
    "- `np.std(n_obs[\"n_obs_1000\"]) calculates the **standard deviation** of the dataset.\n",
    "- `/ np.sqrt(len(n_obs_df[\"n_obs_1000\"]))` divides the standard deviation by the **squared root of the number of observations** in the dataset. We can then calculate the **standard error** of the mean.\n",
    "- The entire expression calculates the margin of error for the 95% CI of the mean.\n",
    "\n",
    "2. CI Calculation\n",
    "- `np.mean(n_obs_df[\"n_obs_1000\"])`: This calculates the mean of the dataset.\n",
    "- `left = np.mean(n_obs_df[\"n_obs_1000\"]) - error`: This subtracts the margin of error from the mean to find the lower bound of the 95% confidence interval.\n",
    "- `right = np.mean(n_obs_df[\"n_obs_1000\"]) + error`: This adds the margin of error to the mean to find the upper bound of the 95% confidence interval."
   ]
  },
  {
   "cell_type": "code",
   "execution_count": 26,
   "metadata": {},
   "outputs": [],
   "source": [
    "error = norm.ppf(0.975) * np.std(n_obs_df[\"n_obs_1000\"]) / np.sqrt(len(n_obs_df[\"n_obs_1000\"]))\n",
    "left = np.mean(n_obs_df[\"n_obs_1000\"]) - error\n",
    "right = np.mean(n_obs_df[\"n_obs_1000\"] + error)"
   ]
  },
  {
   "cell_type": "code",
   "execution_count": null,
   "metadata": {},
   "outputs": [],
   "source": [
    "ggplot(n_obs_df, aes(n_obs_1000[1:])) + geom_histogram(\n",
    "    binwidth=0.1, color=\"white\", fill=color[0], boundary=0, closed=\"left\",\n",
    ") + labs(x=\"Percent of days of losses of % or more\", y=\"Frequency\") + geom_vline(\n",
    "    aes(xintercept=np.mean(pd.Series(n_obs_1000).dropna())), color\n",
    ")"
   ]
  }
 ],
 "metadata": {
  "kernelspec": {
   "display_name": "venv",
   "language": "python",
   "name": "python3"
  },
  "language_info": {
   "codemirror_mode": {
    "name": "ipython",
    "version": 3
   },
   "file_extension": ".py",
   "mimetype": "text/x-python",
   "name": "python",
   "nbconvert_exporter": "python",
   "pygments_lexer": "ipython3",
   "version": "3.11.3"
  }
 },
 "nbformat": 4,
 "nbformat_minor": 2
}
