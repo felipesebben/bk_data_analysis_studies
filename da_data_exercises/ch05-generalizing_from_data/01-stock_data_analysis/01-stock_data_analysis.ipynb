{
 "cells": [
  {
   "cell_type": "markdown",
   "metadata": {},
   "source": [
    "<h1>Chapter 5 | Data Exercise #1 | Financial Assets | Generalizing from Data</h1>\n",
    "<h2>Introduction:</h2>\n",
    "<p>In this notebook, you will find my notes and code for Chapter 5's <b>exercise 1</b> of the book <a href=\"https://gabors-data-analysis.com/\">Data Analysis for Business, Economics, and Policy</a>, by Gábor Békés and Gábor Kézdi. The question was: \n",
    "<p>1. Download ten years of daily data on the price of a financial asset, such as an individual stock, or another stock market index.</p>\n",
    "<p>Assignments:</p>\n",
    "<ul>\n",
    "    <li>Document the main features of the data.</li>\n",
    "    <li>Create daily percentage returns.</li>\n",
    "    <li>Create a binary variable indicating large losses by choosing your own cutoff.</li>\n",
    "    <li>Estimate the standard error of the estimated likelihood of large daily losses by bootsrap and using the SE formula.</li>\n",
    "    <li>Compare the two, and create 95% confidence intervals.</li>\n",
    "    <li>Conclude by giving advice on how to use these results in future investments decisions.</li>\n",
    "\n",
    "</ul>\n",
    "<h2>1. Load the data</h2>"
   ]
  },
  {
   "cell_type": "code",
   "execution_count": null,
   "metadata": {},
   "outputs": [
    {
     "ename": "",
     "evalue": "",
     "output_type": "error",
     "traceback": [
      "\u001b[1;31mRunning cells with 'venv (Python 3.11.3)' requires the ipykernel package.\n",
      "\u001b[1;31mRun the following command to install 'ipykernel' into the Python environment. \n",
      "\u001b[1;31mCommand: 'd:/Users/Felipe/python_work/Projects/bk_data_analysis/venv/Scripts/python.exe -m pip install ipykernel -U --force-reinstall'"
     ]
    }
   ],
   "source": [
    "import requests\n",
    "import os\n",
    "from dotenv import load_dotenv\n",
    "import pandas as pd\n",
    "import warnings\n",
    "import yfinance as yf\n",
    "from datetime import datetime\n",
    "\n",
    "warnings.filterwarnings(\"ignore\")\n",
    "%matplotlib inline"
   ]
  },
  {
   "cell_type": "code",
   "execution_count": 3,
   "metadata": {},
   "outputs": [],
   "source": [
    "# Increase number of returned rows in pandas\n",
    "pd.set_option(\"display.max_rows\", 500)"
   ]
  },
  {
   "cell_type": "code",
   "execution_count": 9,
   "metadata": {},
   "outputs": [],
   "source": [
    "# Current script folder\n",
    "dirname = os.getcwd()\n",
    "\n",
    "# Get location folders\n",
    "data_in = f\"{dirname}/da_data_exercises/ch05-generalizing_from_data/01-stock_data_analysis/data/raw/\"\n",
    "data_out = f\"{dirname}/da_data_exercises/ch05-generalizing_from_data/01-stock_data_analysis/data/clean/\"\n",
    "output = f\"{dirname}/da_data_exercises/ch05-generalizing_from_data/01-stock_data_analysis/data/output/\"\n",
    "func = f\"{dirname}da_case_studies/ch00-tech_prep/\"\n",
    "\n",
    "paths = [data_in, data_out, output]\n",
    "\n",
    "for path in paths:\n",
    "    if not os.path.exists(path):\n",
    "        os.makedirs(path)"
   ]
  },
  {
   "cell_type": "markdown",
   "metadata": {},
   "source": [
    "It would be a good idea to see how Brazilian firms are doing. We could use **Petrobras**, the main Brazilian oil company (which is a state-owned multinational corporation). Let's test using `Yahoo Finance`."
   ]
  },
  {
   "cell_type": "code",
   "execution_count": 12,
   "metadata": {},
   "outputs": [
    {
     "data": {
      "text/html": [
       "<div>\n",
       "<style scoped>\n",
       "    .dataframe tbody tr th:only-of-type {\n",
       "        vertical-align: middle;\n",
       "    }\n",
       "\n",
       "    .dataframe tbody tr th {\n",
       "        vertical-align: top;\n",
       "    }\n",
       "\n",
       "    .dataframe thead th {\n",
       "        text-align: right;\n",
       "    }\n",
       "</style>\n",
       "<table border=\"1\" class=\"dataframe\">\n",
       "  <thead>\n",
       "    <tr style=\"text-align: right;\">\n",
       "      <th></th>\n",
       "      <th>Open</th>\n",
       "      <th>High</th>\n",
       "      <th>Low</th>\n",
       "      <th>Close</th>\n",
       "      <th>Volume</th>\n",
       "      <th>Dividends</th>\n",
       "      <th>Stock Splits</th>\n",
       "    </tr>\n",
       "    <tr>\n",
       "      <th>Date</th>\n",
       "      <th></th>\n",
       "      <th></th>\n",
       "      <th></th>\n",
       "      <th></th>\n",
       "      <th></th>\n",
       "      <th></th>\n",
       "      <th></th>\n",
       "    </tr>\n",
       "  </thead>\n",
       "  <tbody>\n",
       "    <tr>\n",
       "      <th>2024-04-19 00:00:00-03:00</th>\n",
       "      <td>37.347220</td>\n",
       "      <td>38.298385</td>\n",
       "      <td>37.151393</td>\n",
       "      <td>37.794827</td>\n",
       "      <td>80546900</td>\n",
       "      <td>0.000000</td>\n",
       "      <td>0.0</td>\n",
       "    </tr>\n",
       "    <tr>\n",
       "      <th>2024-04-22 00:00:00-03:00</th>\n",
       "      <td>38.009305</td>\n",
       "      <td>38.783294</td>\n",
       "      <td>37.785503</td>\n",
       "      <td>38.699368</td>\n",
       "      <td>51775500</td>\n",
       "      <td>0.000000</td>\n",
       "      <td>0.0</td>\n",
       "    </tr>\n",
       "    <tr>\n",
       "      <th>2024-04-23 00:00:00-03:00</th>\n",
       "      <td>38.606116</td>\n",
       "      <td>38.820594</td>\n",
       "      <td>38.195808</td>\n",
       "      <td>38.624763</td>\n",
       "      <td>35456900</td>\n",
       "      <td>0.000000</td>\n",
       "      <td>0.0</td>\n",
       "    </tr>\n",
       "    <tr>\n",
       "      <th>2024-04-24 00:00:00-03:00</th>\n",
       "      <td>38.745994</td>\n",
       "      <td>39.156303</td>\n",
       "      <td>38.428939</td>\n",
       "      <td>38.447590</td>\n",
       "      <td>45388300</td>\n",
       "      <td>0.000000</td>\n",
       "      <td>0.0</td>\n",
       "    </tr>\n",
       "    <tr>\n",
       "      <th>2024-04-25 00:00:00-03:00</th>\n",
       "      <td>38.606115</td>\n",
       "      <td>39.613229</td>\n",
       "      <td>38.307711</td>\n",
       "      <td>39.370777</td>\n",
       "      <td>66372400</td>\n",
       "      <td>0.000000</td>\n",
       "      <td>0.0</td>\n",
       "    </tr>\n",
       "    <tr>\n",
       "      <th>2024-04-26 00:00:00-03:00</th>\n",
       "      <td>39.569925</td>\n",
       "      <td>40.039510</td>\n",
       "      <td>39.359089</td>\n",
       "      <td>39.914928</td>\n",
       "      <td>31899100</td>\n",
       "      <td>1.137805</td>\n",
       "      <td>0.0</td>\n",
       "    </tr>\n",
       "    <tr>\n",
       "      <th>2024-04-29 00:00:00-03:00</th>\n",
       "      <td>39.752009</td>\n",
       "      <td>40.394100</td>\n",
       "      <td>39.598675</td>\n",
       "      <td>40.394100</td>\n",
       "      <td>27886000</td>\n",
       "      <td>0.000000</td>\n",
       "      <td>0.0</td>\n",
       "    </tr>\n",
       "    <tr>\n",
       "      <th>2024-04-30 00:00:00-03:00</th>\n",
       "      <td>40.250349</td>\n",
       "      <td>40.451600</td>\n",
       "      <td>39.886178</td>\n",
       "      <td>40.269516</td>\n",
       "      <td>36635400</td>\n",
       "      <td>0.000000</td>\n",
       "      <td>0.0</td>\n",
       "    </tr>\n",
       "    <tr>\n",
       "      <th>2024-05-02 00:00:00-03:00</th>\n",
       "      <td>40.489931</td>\n",
       "      <td>40.614517</td>\n",
       "      <td>40.097011</td>\n",
       "      <td>40.422848</td>\n",
       "      <td>33244700</td>\n",
       "      <td>0.000000</td>\n",
       "      <td>0.0</td>\n",
       "    </tr>\n",
       "    <tr>\n",
       "      <th>2024-05-03 00:00:00-03:00</th>\n",
       "      <td>40.689999</td>\n",
       "      <td>40.689999</td>\n",
       "      <td>39.450001</td>\n",
       "      <td>39.889999</td>\n",
       "      <td>45114200</td>\n",
       "      <td>1.757152</td>\n",
       "      <td>0.0</td>\n",
       "    </tr>\n",
       "  </tbody>\n",
       "</table>\n",
       "</div>"
      ],
      "text/plain": [
       "                                Open       High        Low      Close  \\\n",
       "Date                                                                    \n",
       "2024-04-19 00:00:00-03:00  37.347220  38.298385  37.151393  37.794827   \n",
       "2024-04-22 00:00:00-03:00  38.009305  38.783294  37.785503  38.699368   \n",
       "2024-04-23 00:00:00-03:00  38.606116  38.820594  38.195808  38.624763   \n",
       "2024-04-24 00:00:00-03:00  38.745994  39.156303  38.428939  38.447590   \n",
       "2024-04-25 00:00:00-03:00  38.606115  39.613229  38.307711  39.370777   \n",
       "2024-04-26 00:00:00-03:00  39.569925  40.039510  39.359089  39.914928   \n",
       "2024-04-29 00:00:00-03:00  39.752009  40.394100  39.598675  40.394100   \n",
       "2024-04-30 00:00:00-03:00  40.250349  40.451600  39.886178  40.269516   \n",
       "2024-05-02 00:00:00-03:00  40.489931  40.614517  40.097011  40.422848   \n",
       "2024-05-03 00:00:00-03:00  40.689999  40.689999  39.450001  39.889999   \n",
       "\n",
       "                             Volume  Dividends  Stock Splits  \n",
       "Date                                                          \n",
       "2024-04-19 00:00:00-03:00  80546900   0.000000           0.0  \n",
       "2024-04-22 00:00:00-03:00  51775500   0.000000           0.0  \n",
       "2024-04-23 00:00:00-03:00  35456900   0.000000           0.0  \n",
       "2024-04-24 00:00:00-03:00  45388300   0.000000           0.0  \n",
       "2024-04-25 00:00:00-03:00  66372400   0.000000           0.0  \n",
       "2024-04-26 00:00:00-03:00  31899100   1.137805           0.0  \n",
       "2024-04-29 00:00:00-03:00  27886000   0.000000           0.0  \n",
       "2024-04-30 00:00:00-03:00  36635400   0.000000           0.0  \n",
       "2024-05-02 00:00:00-03:00  33244700   0.000000           0.0  \n",
       "2024-05-03 00:00:00-03:00  45114200   1.757152           0.0  "
      ]
     },
     "execution_count": 12,
     "metadata": {},
     "output_type": "execute_result"
    }
   ],
   "source": [
    "ticker = yf.Ticker(\"PETR4.SA\")\n",
    "\n",
    "# Get data of the most recent date\n",
    "petr4_data = ticker.history(period=\"10d\")\n",
    "\n",
    "petr4_data\n"
   ]
  },
  {
   "cell_type": "markdown",
   "metadata": {},
   "source": [
    "Great! Now, our goal is to get 10 years of data. Let's try to specify the period we want and hopefully this API won't let us down."
   ]
  },
  {
   "cell_type": "code",
   "execution_count": 22,
   "metadata": {},
   "outputs": [],
   "source": [
    "# Define the start date\n",
    "start_date = datetime(2014, 5, 1)\n",
    "\n",
    "# Define the end date\n",
    "end_date = datetime(2024, 5, 2)\n",
    "\n",
    "# Pass the parameters as the taken dates for start and end\n",
    "petr4_data = yf.Ticker(\"PETR4.SA\")\n",
    "petr4_df = petr4_data.history(start=start_date, end=end_date)"
   ]
  },
  {
   "cell_type": "code",
   "execution_count": 23,
   "metadata": {},
   "outputs": [
    {
     "data": {
      "text/html": [
       "<div>\n",
       "<style scoped>\n",
       "    .dataframe tbody tr th:only-of-type {\n",
       "        vertical-align: middle;\n",
       "    }\n",
       "\n",
       "    .dataframe tbody tr th {\n",
       "        vertical-align: top;\n",
       "    }\n",
       "\n",
       "    .dataframe thead th {\n",
       "        text-align: right;\n",
       "    }\n",
       "</style>\n",
       "<table border=\"1\" class=\"dataframe\">\n",
       "  <thead>\n",
       "    <tr style=\"text-align: right;\">\n",
       "      <th></th>\n",
       "      <th>Open</th>\n",
       "      <th>High</th>\n",
       "      <th>Low</th>\n",
       "      <th>Close</th>\n",
       "      <th>Volume</th>\n",
       "      <th>Dividends</th>\n",
       "      <th>Stock Splits</th>\n",
       "    </tr>\n",
       "    <tr>\n",
       "      <th>Date</th>\n",
       "      <th></th>\n",
       "      <th></th>\n",
       "      <th></th>\n",
       "      <th></th>\n",
       "      <th></th>\n",
       "      <th></th>\n",
       "      <th></th>\n",
       "    </tr>\n",
       "  </thead>\n",
       "  <tbody>\n",
       "    <tr>\n",
       "      <th>2014-05-02 00:00:00-03:00</th>\n",
       "      <td>5.626026</td>\n",
       "      <td>6.027157</td>\n",
       "      <td>5.612429</td>\n",
       "      <td>6.016959</td>\n",
       "      <td>52627500</td>\n",
       "      <td>0.0</td>\n",
       "      <td>0.0</td>\n",
       "    </tr>\n",
       "    <tr>\n",
       "      <th>2014-05-05 00:00:00-03:00</th>\n",
       "      <td>5.999962</td>\n",
       "      <td>6.040755</td>\n",
       "      <td>5.884382</td>\n",
       "      <td>5.972766</td>\n",
       "      <td>35540000</td>\n",
       "      <td>0.0</td>\n",
       "      <td>0.0</td>\n",
       "    </tr>\n",
       "    <tr>\n",
       "      <th>2014-05-06 00:00:00-03:00</th>\n",
       "      <td>5.925175</td>\n",
       "      <td>6.282113</td>\n",
       "      <td>5.884381</td>\n",
       "      <td>6.200527</td>\n",
       "      <td>48256400</td>\n",
       "      <td>0.0</td>\n",
       "      <td>0.0</td>\n",
       "    </tr>\n",
       "    <tr>\n",
       "      <th>2014-05-07 00:00:00-03:00</th>\n",
       "      <td>6.166532</td>\n",
       "      <td>6.407891</td>\n",
       "      <td>6.142736</td>\n",
       "      <td>6.316106</td>\n",
       "      <td>44239500</td>\n",
       "      <td>0.0</td>\n",
       "      <td>0.0</td>\n",
       "    </tr>\n",
       "    <tr>\n",
       "      <th>2014-05-08 00:00:00-03:00</th>\n",
       "      <td>6.322906</td>\n",
       "      <td>6.390894</td>\n",
       "      <td>6.033956</td>\n",
       "      <td>6.078148</td>\n",
       "      <td>53471600</td>\n",
       "      <td>0.0</td>\n",
       "      <td>0.0</td>\n",
       "    </tr>\n",
       "  </tbody>\n",
       "</table>\n",
       "</div>"
      ],
      "text/plain": [
       "                               Open      High       Low     Close    Volume  \\\n",
       "Date                                                                          \n",
       "2014-05-02 00:00:00-03:00  5.626026  6.027157  5.612429  6.016959  52627500   \n",
       "2014-05-05 00:00:00-03:00  5.999962  6.040755  5.884382  5.972766  35540000   \n",
       "2014-05-06 00:00:00-03:00  5.925175  6.282113  5.884381  6.200527  48256400   \n",
       "2014-05-07 00:00:00-03:00  6.166532  6.407891  6.142736  6.316106  44239500   \n",
       "2014-05-08 00:00:00-03:00  6.322906  6.390894  6.033956  6.078148  53471600   \n",
       "\n",
       "                           Dividends  Stock Splits  \n",
       "Date                                                \n",
       "2014-05-02 00:00:00-03:00        0.0           0.0  \n",
       "2014-05-05 00:00:00-03:00        0.0           0.0  \n",
       "2014-05-06 00:00:00-03:00        0.0           0.0  \n",
       "2014-05-07 00:00:00-03:00        0.0           0.0  \n",
       "2014-05-08 00:00:00-03:00        0.0           0.0  "
      ]
     },
     "execution_count": 23,
     "metadata": {},
     "output_type": "execute_result"
    }
   ],
   "source": [
    "petr4_df.head()"
   ]
  },
  {
   "cell_type": "markdown",
   "metadata": {},
   "source": [
    "Jah bless Yahoo Finance! Let's move on.\n",
    "## 2. Document the main features of the data ##\n",
    "Let's take a picture of our dataset and describe it.\n",
    "\n"
   ]
  },
  {
   "cell_type": "code",
   "execution_count": 24,
   "metadata": {},
   "outputs": [
    {
     "data": {
      "text/plain": [
       "(2486, 7)"
      ]
     },
     "execution_count": 24,
     "metadata": {},
     "output_type": "execute_result"
    }
   ],
   "source": [
    "petr4_df.shape"
   ]
  },
  {
   "cell_type": "code",
   "execution_count": 25,
   "metadata": {},
   "outputs": [
    {
     "name": "stdout",
     "output_type": "stream",
     "text": [
      "<class 'pandas.core.frame.DataFrame'>\n",
      "DatetimeIndex: 2486 entries, 2014-05-02 00:00:00-03:00 to 2024-04-30 00:00:00-03:00\n",
      "Data columns (total 7 columns):\n",
      " #   Column        Non-Null Count  Dtype  \n",
      "---  ------        --------------  -----  \n",
      " 0   Open          2486 non-null   float64\n",
      " 1   High          2486 non-null   float64\n",
      " 2   Low           2486 non-null   float64\n",
      " 3   Close         2486 non-null   float64\n",
      " 4   Volume        2486 non-null   int64  \n",
      " 5   Dividends     2486 non-null   float64\n",
      " 6   Stock Splits  2486 non-null   float64\n",
      "dtypes: float64(6), int64(1)\n",
      "memory usage: 155.4 KB\n"
     ]
    }
   ],
   "source": [
    "petr4_df.info()"
   ]
  },
  {
   "cell_type": "code",
   "execution_count": 26,
   "metadata": {},
   "outputs": [
    {
     "name": "stdout",
     "output_type": "stream",
     "text": [
      "There are 0 observations in the dataset.\n"
     ]
    }
   ],
   "source": [
    "is_duplicate = petr4_df.duplicated().sum()\n",
    "print(f\"There are {is_duplicate} observations in the dataset.\")"
   ]
  },
  {
   "cell_type": "markdown",
   "metadata": {},
   "source": [
    "A brief summary:\n",
    "- Our dataset has 2486 observations and 7 features/variables.\n",
    "- All columns are numeric.\n",
    "- There are no missing values.\n",
    "- There are no duplicate values either.\n",
    "\n",
    "About the variables, a short description:\n",
    "\n",
    "\n",
    "| **Variable** | **Definition** |\n",
    "|--------------| ---------------|\n",
    "| `Open`       | The opening price for the specified date. |\n",
    "| `High`       | The high price for the specified date. |\n",
    "| `Low`        | The low price for the specified date. |\n",
    "| `Close`      | The closing price for the specified date. |\n",
    "| `Volume`     | The number of shares traded in a stock or contracts traded in futures or options. |\n",
    "| `Dividends`  | A portion of a company's earnings that is paid to a shareholder. |\n",
    "| `Stock Splits` |  A corporate action in which a company increases the number of its outstanding shares by issuing more shares to current shareholders. | \n"
   ]
  },
  {
   "cell_type": "markdown",
   "metadata": {},
   "source": [
    "## 3. Create daily percentage returns ##\n",
    "Our goal is to work on closing prices, so we can include only `Close` and create a percent return variable that indicate the percentage change on a daily basis.\n"
   ]
  },
  {
   "cell_type": "code",
   "execution_count": 28,
   "metadata": {},
   "outputs": [
    {
     "ename": "KeyError",
     "evalue": "'Close'",
     "output_type": "error",
     "traceback": [
      "\u001b[1;31m---------------------------------------------------------------------------\u001b[0m",
      "\u001b[1;31mDateParseError\u001b[0m                            Traceback (most recent call last)",
      "File \u001b[1;32mc:\\Users\\Felipe\\python_work\\Projects\\bk_data_analysis\\venv\\Lib\\site-packages\\pandas\\core\\indexes\\datetimes.py:604\u001b[0m, in \u001b[0;36mDatetimeIndex.get_loc\u001b[1;34m(self, key)\u001b[0m\n\u001b[0;32m    603\u001b[0m \u001b[38;5;28;01mtry\u001b[39;00m:\n\u001b[1;32m--> 604\u001b[0m     parsed, reso \u001b[38;5;241m=\u001b[39m \u001b[38;5;28;43mself\u001b[39;49m\u001b[38;5;241;43m.\u001b[39;49m\u001b[43m_parse_with_reso\u001b[49m\u001b[43m(\u001b[49m\u001b[43mkey\u001b[49m\u001b[43m)\u001b[49m\n\u001b[0;32m    605\u001b[0m \u001b[38;5;28;01mexcept\u001b[39;00m (\u001b[38;5;167;01mValueError\u001b[39;00m, pytz\u001b[38;5;241m.\u001b[39mNonExistentTimeError) \u001b[38;5;28;01mas\u001b[39;00m err:\n",
      "File \u001b[1;32mc:\\Users\\Felipe\\python_work\\Projects\\bk_data_analysis\\venv\\Lib\\site-packages\\pandas\\core\\indexes\\datetimes.py:560\u001b[0m, in \u001b[0;36mDatetimeIndex._parse_with_reso\u001b[1;34m(self, label)\u001b[0m\n\u001b[0;32m    559\u001b[0m \u001b[38;5;28;01mdef\u001b[39;00m \u001b[38;5;21m_parse_with_reso\u001b[39m(\u001b[38;5;28mself\u001b[39m, label: \u001b[38;5;28mstr\u001b[39m):\n\u001b[1;32m--> 560\u001b[0m     parsed, reso \u001b[38;5;241m=\u001b[39m \u001b[38;5;28;43msuper\u001b[39;49m\u001b[43m(\u001b[49m\u001b[43m)\u001b[49m\u001b[38;5;241;43m.\u001b[39;49m\u001b[43m_parse_with_reso\u001b[49m\u001b[43m(\u001b[49m\u001b[43mlabel\u001b[49m\u001b[43m)\u001b[49m\n\u001b[0;32m    562\u001b[0m     parsed \u001b[38;5;241m=\u001b[39m Timestamp(parsed)\n",
      "File \u001b[1;32mc:\\Users\\Felipe\\python_work\\Projects\\bk_data_analysis\\venv\\Lib\\site-packages\\pandas\\core\\indexes\\datetimelike.py:270\u001b[0m, in \u001b[0;36mDatetimeIndexOpsMixin._parse_with_reso\u001b[1;34m(self, label)\u001b[0m\n\u001b[0;32m    268\u001b[0m     label \u001b[38;5;241m=\u001b[39m \u001b[38;5;28mstr\u001b[39m(label)\n\u001b[1;32m--> 270\u001b[0m parsed, reso_str \u001b[38;5;241m=\u001b[39m \u001b[43mparsing\u001b[49m\u001b[38;5;241;43m.\u001b[39;49m\u001b[43mparse_datetime_string_with_reso\u001b[49m\u001b[43m(\u001b[49m\u001b[43mlabel\u001b[49m\u001b[43m,\u001b[49m\u001b[43m \u001b[49m\u001b[43mfreqstr\u001b[49m\u001b[43m)\u001b[49m\n\u001b[0;32m    271\u001b[0m reso \u001b[38;5;241m=\u001b[39m Resolution\u001b[38;5;241m.\u001b[39mfrom_attrname(reso_str)\n",
      "File \u001b[1;32mparsing.pyx:437\u001b[0m, in \u001b[0;36mpandas._libs.tslibs.parsing.parse_datetime_string_with_reso\u001b[1;34m()\u001b[0m\n",
      "File \u001b[1;32mparsing.pyx:660\u001b[0m, in \u001b[0;36mpandas._libs.tslibs.parsing.dateutil_parse\u001b[1;34m()\u001b[0m\n",
      "\u001b[1;31mDateParseError\u001b[0m: Unknown datetime string format, unable to parse: Close",
      "\nThe above exception was the direct cause of the following exception:\n",
      "\u001b[1;31mKeyError\u001b[0m                                  Traceback (most recent call last)",
      "Cell \u001b[1;32mIn[28], line 1\u001b[0m\n\u001b[1;32m----> 1\u001b[0m petr4_df \u001b[38;5;241m=\u001b[39m \u001b[43mpetr4_df\u001b[49m\u001b[43m[\u001b[49m\u001b[38;5;124;43m\"\u001b[39;49m\u001b[38;5;124;43mClose\u001b[39;49m\u001b[38;5;124;43m\"\u001b[39;49m\u001b[43m]\u001b[49m\n\u001b[0;32m      2\u001b[0m petr4_df[\u001b[38;5;124m\"\u001b[39m\u001b[38;5;124mpct_return\u001b[39m\u001b[38;5;124m\"\u001b[39m] \u001b[38;5;241m=\u001b[39m (\n\u001b[0;32m      3\u001b[0m     (petr4_df[\u001b[38;5;124m\"\u001b[39m\u001b[38;5;124mClose\u001b[39m\u001b[38;5;124m\"\u001b[39m] \u001b[38;5;241m-\u001b[39m petr4_df\u001b[38;5;241m.\u001b[39mshift(\u001b[38;5;241m1\u001b[39m)\u001b[38;5;241m.\u001b[39mreset_index(drop\u001b[38;5;241m=\u001b[39m\u001b[38;5;28;01mTrue\u001b[39;00m)[\u001b[38;5;124m\"\u001b[39m\u001b[38;5;124mClose\u001b[39m\u001b[38;5;124m\"\u001b[39m])\n\u001b[0;32m      4\u001b[0m     \u001b[38;5;241m/\u001b[39m\n\u001b[0;32m      5\u001b[0m     petr4_df\u001b[38;5;241m.\u001b[39mshift(\u001b[38;5;241m1\u001b[39m)\u001b[38;5;241m.\u001b[39mreset_index(drop\u001b[38;5;241m=\u001b[39m\u001b[38;5;28;01mTrue\u001b[39;00m)[\u001b[38;5;124m\"\u001b[39m\u001b[38;5;124mClose\u001b[39m\u001b[38;5;124m\"\u001b[39m]\n\u001b[0;32m      6\u001b[0m )\n",
      "File \u001b[1;32mc:\\Users\\Felipe\\python_work\\Projects\\bk_data_analysis\\venv\\Lib\\site-packages\\pandas\\core\\series.py:1040\u001b[0m, in \u001b[0;36mSeries.__getitem__\u001b[1;34m(self, key)\u001b[0m\n\u001b[0;32m   1037\u001b[0m     \u001b[38;5;28;01mreturn\u001b[39;00m \u001b[38;5;28mself\u001b[39m\u001b[38;5;241m.\u001b[39m_values[key]\n\u001b[0;32m   1039\u001b[0m \u001b[38;5;28;01melif\u001b[39;00m key_is_scalar:\n\u001b[1;32m-> 1040\u001b[0m     \u001b[38;5;28;01mreturn\u001b[39;00m \u001b[38;5;28;43mself\u001b[39;49m\u001b[38;5;241;43m.\u001b[39;49m\u001b[43m_get_value\u001b[49m\u001b[43m(\u001b[49m\u001b[43mkey\u001b[49m\u001b[43m)\u001b[49m\n\u001b[0;32m   1042\u001b[0m \u001b[38;5;66;03m# Convert generator to list before going through hashable part\u001b[39;00m\n\u001b[0;32m   1043\u001b[0m \u001b[38;5;66;03m# (We will iterate through the generator there to check for slices)\u001b[39;00m\n\u001b[0;32m   1044\u001b[0m \u001b[38;5;28;01mif\u001b[39;00m is_iterator(key):\n",
      "File \u001b[1;32mc:\\Users\\Felipe\\python_work\\Projects\\bk_data_analysis\\venv\\Lib\\site-packages\\pandas\\core\\series.py:1156\u001b[0m, in \u001b[0;36mSeries._get_value\u001b[1;34m(self, label, takeable)\u001b[0m\n\u001b[0;32m   1153\u001b[0m     \u001b[38;5;28;01mreturn\u001b[39;00m \u001b[38;5;28mself\u001b[39m\u001b[38;5;241m.\u001b[39m_values[label]\n\u001b[0;32m   1155\u001b[0m \u001b[38;5;66;03m# Similar to Index.get_value, but we do not fall back to positional\u001b[39;00m\n\u001b[1;32m-> 1156\u001b[0m loc \u001b[38;5;241m=\u001b[39m \u001b[38;5;28;43mself\u001b[39;49m\u001b[38;5;241;43m.\u001b[39;49m\u001b[43mindex\u001b[49m\u001b[38;5;241;43m.\u001b[39;49m\u001b[43mget_loc\u001b[49m\u001b[43m(\u001b[49m\u001b[43mlabel\u001b[49m\u001b[43m)\u001b[49m\n\u001b[0;32m   1158\u001b[0m \u001b[38;5;28;01mif\u001b[39;00m is_integer(loc):\n\u001b[0;32m   1159\u001b[0m     \u001b[38;5;28;01mreturn\u001b[39;00m \u001b[38;5;28mself\u001b[39m\u001b[38;5;241m.\u001b[39m_values[loc]\n",
      "File \u001b[1;32mc:\\Users\\Felipe\\python_work\\Projects\\bk_data_analysis\\venv\\Lib\\site-packages\\pandas\\core\\indexes\\datetimes.py:606\u001b[0m, in \u001b[0;36mDatetimeIndex.get_loc\u001b[1;34m(self, key)\u001b[0m\n\u001b[0;32m    604\u001b[0m     parsed, reso \u001b[38;5;241m=\u001b[39m \u001b[38;5;28mself\u001b[39m\u001b[38;5;241m.\u001b[39m_parse_with_reso(key)\n\u001b[0;32m    605\u001b[0m \u001b[38;5;28;01mexcept\u001b[39;00m (\u001b[38;5;167;01mValueError\u001b[39;00m, pytz\u001b[38;5;241m.\u001b[39mNonExistentTimeError) \u001b[38;5;28;01mas\u001b[39;00m err:\n\u001b[1;32m--> 606\u001b[0m     \u001b[38;5;28;01mraise\u001b[39;00m \u001b[38;5;167;01mKeyError\u001b[39;00m(key) \u001b[38;5;28;01mfrom\u001b[39;00m \u001b[38;5;21;01merr\u001b[39;00m\n\u001b[0;32m    607\u001b[0m \u001b[38;5;28mself\u001b[39m\u001b[38;5;241m.\u001b[39m_disallow_mismatched_indexing(parsed)\n\u001b[0;32m    609\u001b[0m \u001b[38;5;28;01mif\u001b[39;00m \u001b[38;5;28mself\u001b[39m\u001b[38;5;241m.\u001b[39m_can_partial_date_slice(reso):\n",
      "\u001b[1;31mKeyError\u001b[0m: 'Close'"
     ]
    }
   ],
   "source": [
    "petr4_df = petr4_df[\"Close\"]\n",
    "petr4_df[\"pct_return\"] = (\n",
    "    (petr4_df[\"Close\"] - petr4_df.shift(1).reset_index(drop=True)[\"Close\"])\n",
    "    /\n",
    "    petr4_df.shift(1).reset_index(drop=True)[\"Close\"]\n",
    ")"
   ]
  },
  {
   "cell_type": "code",
   "execution_count": null,
   "metadata": {},
   "outputs": [],
   "source": []
  }
 ],
 "metadata": {
  "kernelspec": {
   "display_name": "venv",
   "language": "python",
   "name": "python3"
  },
  "language_info": {
   "codemirror_mode": {
    "name": "ipython",
    "version": 3
   },
   "file_extension": ".py",
   "mimetype": "text/x-python",
   "name": "python",
   "nbconvert_exporter": "python",
   "pygments_lexer": "ipython3",
   "version": "3.11.3"
  }
 },
 "nbformat": 4,
 "nbformat_minor": 2
}
