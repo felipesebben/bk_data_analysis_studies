{
 "cells": [
  {
   "cell_type": "markdown",
   "metadata": {},
   "source": [
    "<h1>Chapter 5 | Data Exercise #1 | Financial Assets | Generalizing from Data</h1>\n",
    "<h2>Introduction:</h2>\n",
    "<p>In this notebook, you will find my notes and code for Chapter 5's <b>exercise 1</b> of the book <a href=\"https://gabors-data-analysis.com/\">Data Analysis for Business, Economics, and Policy</a>, by Gábor Békés and Gábor Kézdi. The question was: \n",
    "<p>1. Download ten years of daily data on the price of a financial asset, such as an individual stock, or another stock market index.</p>\n",
    "<p>Assignments:</p>\n",
    "<ul>\n",
    "    <li>Document the main features of the data.</li>\n",
    "    <li>Create daily percentage returns.</li>\n",
    "    <li>Create a binary variable indicating large losses by choosing your own cutoff.</li>\n",
    "    <li>Estimate the standard error of the estimated likelihood of large daily losses by bootsrap and using the SE formula.</li>\n",
    "    <li>Compare the two, and create 95% confidence intervals.</li>\n",
    "    <li>Conclude by giving advice on how to use these results in future investments decisions.</li>\n",
    "\n",
    "</ul>\n",
    "<h2>1. Load the data</h2>"
   ]
  },
  {
   "cell_type": "code",
   "execution_count": 1,
   "metadata": {},
   "outputs": [],
   "source": [
    "import os\n",
    "import pandas as pd\n",
    "import warnings\n",
    "import yfinance as yf\n",
    "from datetime import datetime\n",
    "from plotnine import *\n",
    "import sys\n",
    "import numpy as np\n",
    "from scipy.stats import norm, sem\n",
    "\n",
    "\n",
    "warnings.filterwarnings(\"ignore\")\n",
    "%matplotlib inline"
   ]
  },
  {
   "cell_type": "code",
   "execution_count": 2,
   "metadata": {},
   "outputs": [],
   "source": [
    "# Increase number of returned rows in pandas\n",
    "pd.set_option(\"display.max_rows\", 500)"
   ]
  },
  {
   "cell_type": "code",
   "execution_count": 3,
   "metadata": {},
   "outputs": [],
   "source": [
    "# Current script folder\n",
    "dirname = os.getcwd()\n",
    "\n",
    "# Get location folders\n",
    "data_in = f\"{dirname}/da_data_exercises/ch05-generalizing_from_data/01-stock_data_analysis/data/raw/\"\n",
    "data_out = f\"{dirname}/da_data_exercises/ch05-generalizing_from_data/01-stock_data_analysis/data/clean/\"\n",
    "output = f\"{dirname}/da_data_exercises/ch05-generalizing_from_data/01-stock_data_analysis/data/output/\"\n",
    "func = f\"{dirname}/da_case_studies/ch00-tech_prep/\"\n",
    "sys.path.append(func)\n",
    "paths = [data_in, data_out, output]\n",
    "\n",
    "for path in paths:\n",
    "    if not os.path.exists(path):\n",
    "        os.makedirs(path)"
   ]
  },
  {
   "cell_type": "code",
   "execution_count": 5,
   "metadata": {},
   "outputs": [],
   "source": [
    "# Import the prewritten helper functions \n",
    "from py_helper_functions import *"
   ]
  },
  {
   "cell_type": "markdown",
   "metadata": {},
   "source": [
    "It would be a good idea to see how Brazilian firms are doing. We could use **Petrobras**, the main Brazilian oil company (which is a state-owned multinational corporation). Let's test using `Yahoo Finance`."
   ]
  },
  {
   "cell_type": "code",
   "execution_count": 6,
   "metadata": {},
   "outputs": [
    {
     "data": {
      "text/html": [
       "<div>\n",
       "<style scoped>\n",
       "    .dataframe tbody tr th:only-of-type {\n",
       "        vertical-align: middle;\n",
       "    }\n",
       "\n",
       "    .dataframe tbody tr th {\n",
       "        vertical-align: top;\n",
       "    }\n",
       "\n",
       "    .dataframe thead th {\n",
       "        text-align: right;\n",
       "    }\n",
       "</style>\n",
       "<table border=\"1\" class=\"dataframe\">\n",
       "  <thead>\n",
       "    <tr style=\"text-align: right;\">\n",
       "      <th></th>\n",
       "      <th>Open</th>\n",
       "      <th>High</th>\n",
       "      <th>Low</th>\n",
       "      <th>Close</th>\n",
       "      <th>Volume</th>\n",
       "      <th>Dividends</th>\n",
       "      <th>Stock Splits</th>\n",
       "    </tr>\n",
       "    <tr>\n",
       "      <th>Date</th>\n",
       "      <th></th>\n",
       "      <th></th>\n",
       "      <th></th>\n",
       "      <th></th>\n",
       "      <th></th>\n",
       "      <th></th>\n",
       "      <th></th>\n",
       "    </tr>\n",
       "  </thead>\n",
       "  <tbody>\n",
       "    <tr>\n",
       "      <th>2024-07-12 00:00:00-03:00</th>\n",
       "      <td>38.430000</td>\n",
       "      <td>38.509998</td>\n",
       "      <td>38.139999</td>\n",
       "      <td>38.150002</td>\n",
       "      <td>15779100</td>\n",
       "      <td>0.0</td>\n",
       "      <td>0.0</td>\n",
       "    </tr>\n",
       "    <tr>\n",
       "      <th>2024-07-15 00:00:00-03:00</th>\n",
       "      <td>38.299999</td>\n",
       "      <td>38.730000</td>\n",
       "      <td>38.200001</td>\n",
       "      <td>38.500000</td>\n",
       "      <td>22969200</td>\n",
       "      <td>0.0</td>\n",
       "      <td>0.0</td>\n",
       "    </tr>\n",
       "    <tr>\n",
       "      <th>2024-07-16 00:00:00-03:00</th>\n",
       "      <td>38.349998</td>\n",
       "      <td>38.500000</td>\n",
       "      <td>38.110001</td>\n",
       "      <td>38.400002</td>\n",
       "      <td>19637000</td>\n",
       "      <td>0.0</td>\n",
       "      <td>0.0</td>\n",
       "    </tr>\n",
       "    <tr>\n",
       "      <th>2024-07-17 00:00:00-03:00</th>\n",
       "      <td>38.430000</td>\n",
       "      <td>38.689999</td>\n",
       "      <td>38.340000</td>\n",
       "      <td>38.599998</td>\n",
       "      <td>24606100</td>\n",
       "      <td>0.0</td>\n",
       "      <td>0.0</td>\n",
       "    </tr>\n",
       "    <tr>\n",
       "      <th>2024-07-18 00:00:00-03:00</th>\n",
       "      <td>38.500000</td>\n",
       "      <td>38.660000</td>\n",
       "      <td>38.349998</td>\n",
       "      <td>38.590000</td>\n",
       "      <td>13117800</td>\n",
       "      <td>0.0</td>\n",
       "      <td>0.0</td>\n",
       "    </tr>\n",
       "  </tbody>\n",
       "</table>\n",
       "</div>"
      ],
      "text/plain": [
       "                                Open       High        Low      Close  \\\n",
       "Date                                                                    \n",
       "2024-07-12 00:00:00-03:00  38.430000  38.509998  38.139999  38.150002   \n",
       "2024-07-15 00:00:00-03:00  38.299999  38.730000  38.200001  38.500000   \n",
       "2024-07-16 00:00:00-03:00  38.349998  38.500000  38.110001  38.400002   \n",
       "2024-07-17 00:00:00-03:00  38.430000  38.689999  38.340000  38.599998   \n",
       "2024-07-18 00:00:00-03:00  38.500000  38.660000  38.349998  38.590000   \n",
       "\n",
       "                             Volume  Dividends  Stock Splits  \n",
       "Date                                                          \n",
       "2024-07-12 00:00:00-03:00  15779100        0.0           0.0  \n",
       "2024-07-15 00:00:00-03:00  22969200        0.0           0.0  \n",
       "2024-07-16 00:00:00-03:00  19637000        0.0           0.0  \n",
       "2024-07-17 00:00:00-03:00  24606100        0.0           0.0  \n",
       "2024-07-18 00:00:00-03:00  13117800        0.0           0.0  "
      ]
     },
     "execution_count": 6,
     "metadata": {},
     "output_type": "execute_result"
    }
   ],
   "source": [
    "ticker = yf.Ticker(\"PETR4.SA\")\n",
    "\n",
    "# Get data of the most recent date\n",
    "petr4_data = ticker.history(period=\"5d\")\n",
    "\n",
    "petr4_data\n"
   ]
  },
  {
   "cell_type": "markdown",
   "metadata": {},
   "source": [
    "Great! Now, our goal is to get 10 years of data. Let's try to specify the period we want and hopefully this API won't let us down."
   ]
  },
  {
   "cell_type": "code",
   "execution_count": 7,
   "metadata": {},
   "outputs": [],
   "source": [
    "# Define the start date\n",
    "start_date = datetime(2014, 7, 7)\n",
    "\n",
    "# Define the end date\n",
    "end_date = datetime(2024, 7, 10)\n",
    "\n",
    "# Pass the parameters as the taken dates for start and end\n",
    "petr4_data = yf.Ticker(\"PETR4.SA\")\n",
    "petr4_df = petr4_data.history(start=start_date, end=end_date)"
   ]
  },
  {
   "cell_type": "code",
   "execution_count": 8,
   "metadata": {},
   "outputs": [
    {
     "data": {
      "text/html": [
       "<div>\n",
       "<style scoped>\n",
       "    .dataframe tbody tr th:only-of-type {\n",
       "        vertical-align: middle;\n",
       "    }\n",
       "\n",
       "    .dataframe tbody tr th {\n",
       "        vertical-align: top;\n",
       "    }\n",
       "\n",
       "    .dataframe thead th {\n",
       "        text-align: right;\n",
       "    }\n",
       "</style>\n",
       "<table border=\"1\" class=\"dataframe\">\n",
       "  <thead>\n",
       "    <tr style=\"text-align: right;\">\n",
       "      <th></th>\n",
       "      <th>Open</th>\n",
       "      <th>High</th>\n",
       "      <th>Low</th>\n",
       "      <th>Close</th>\n",
       "      <th>Volume</th>\n",
       "      <th>Dividends</th>\n",
       "      <th>Stock Splits</th>\n",
       "    </tr>\n",
       "    <tr>\n",
       "      <th>Date</th>\n",
       "      <th></th>\n",
       "      <th></th>\n",
       "      <th></th>\n",
       "      <th></th>\n",
       "      <th></th>\n",
       "      <th></th>\n",
       "      <th></th>\n",
       "    </tr>\n",
       "  </thead>\n",
       "  <tbody>\n",
       "    <tr>\n",
       "      <th>2014-07-07 00:00:00-03:00</th>\n",
       "      <td>5.747406</td>\n",
       "      <td>5.757310</td>\n",
       "      <td>5.658273</td>\n",
       "      <td>5.717695</td>\n",
       "      <td>18701200</td>\n",
       "      <td>0.0</td>\n",
       "      <td>0.0</td>\n",
       "    </tr>\n",
       "    <tr>\n",
       "      <th>2014-07-08 00:00:00-03:00</th>\n",
       "      <td>5.730901</td>\n",
       "      <td>5.750708</td>\n",
       "      <td>5.668178</td>\n",
       "      <td>5.720997</td>\n",
       "      <td>11504900</td>\n",
       "      <td>0.0</td>\n",
       "      <td>0.0</td>\n",
       "    </tr>\n",
       "    <tr>\n",
       "      <th>2014-07-10 00:00:00-03:00</th>\n",
       "      <td>5.869551</td>\n",
       "      <td>5.998298</td>\n",
       "      <td>5.816732</td>\n",
       "      <td>5.978491</td>\n",
       "      <td>35913600</td>\n",
       "      <td>0.0</td>\n",
       "      <td>0.0</td>\n",
       "    </tr>\n",
       "    <tr>\n",
       "      <th>2014-07-11 00:00:00-03:00</th>\n",
       "      <td>5.965285</td>\n",
       "      <td>6.047815</td>\n",
       "      <td>5.876152</td>\n",
       "      <td>6.021406</td>\n",
       "      <td>20928900</td>\n",
       "      <td>0.0</td>\n",
       "      <td>0.0</td>\n",
       "    </tr>\n",
       "    <tr>\n",
       "      <th>2014-07-14 00:00:00-03:00</th>\n",
       "      <td>6.100635</td>\n",
       "      <td>6.331720</td>\n",
       "      <td>6.080828</td>\n",
       "      <td>6.305310</td>\n",
       "      <td>70399100</td>\n",
       "      <td>0.0</td>\n",
       "      <td>0.0</td>\n",
       "    </tr>\n",
       "  </tbody>\n",
       "</table>\n",
       "</div>"
      ],
      "text/plain": [
       "                               Open      High       Low     Close    Volume  \\\n",
       "Date                                                                          \n",
       "2014-07-07 00:00:00-03:00  5.747406  5.757310  5.658273  5.717695  18701200   \n",
       "2014-07-08 00:00:00-03:00  5.730901  5.750708  5.668178  5.720997  11504900   \n",
       "2014-07-10 00:00:00-03:00  5.869551  5.998298  5.816732  5.978491  35913600   \n",
       "2014-07-11 00:00:00-03:00  5.965285  6.047815  5.876152  6.021406  20928900   \n",
       "2014-07-14 00:00:00-03:00  6.100635  6.331720  6.080828  6.305310  70399100   \n",
       "\n",
       "                           Dividends  Stock Splits  \n",
       "Date                                                \n",
       "2014-07-07 00:00:00-03:00        0.0           0.0  \n",
       "2014-07-08 00:00:00-03:00        0.0           0.0  \n",
       "2014-07-10 00:00:00-03:00        0.0           0.0  \n",
       "2014-07-11 00:00:00-03:00        0.0           0.0  \n",
       "2014-07-14 00:00:00-03:00        0.0           0.0  "
      ]
     },
     "execution_count": 8,
     "metadata": {},
     "output_type": "execute_result"
    }
   ],
   "source": [
    "petr4_df.head()"
   ]
  },
  {
   "cell_type": "markdown",
   "metadata": {},
   "source": [
    "Jah bless Yahoo Finance! Let's move on.\n",
    "## 2. Document the main features of the data ##\n",
    "Let's take a picture of our dataset and describe it.\n",
    "\n"
   ]
  },
  {
   "cell_type": "code",
   "execution_count": 9,
   "metadata": {},
   "outputs": [
    {
     "data": {
      "text/plain": [
       "(2490, 7)"
      ]
     },
     "execution_count": 9,
     "metadata": {},
     "output_type": "execute_result"
    }
   ],
   "source": [
    "petr4_df.shape"
   ]
  },
  {
   "cell_type": "code",
   "execution_count": 10,
   "metadata": {},
   "outputs": [
    {
     "name": "stdout",
     "output_type": "stream",
     "text": [
      "<class 'pandas.core.frame.DataFrame'>\n",
      "DatetimeIndex: 2490 entries, 2014-07-07 00:00:00-03:00 to 2024-07-09 00:00:00-03:00\n",
      "Data columns (total 7 columns):\n",
      " #   Column        Non-Null Count  Dtype  \n",
      "---  ------        --------------  -----  \n",
      " 0   Open          2490 non-null   float64\n",
      " 1   High          2490 non-null   float64\n",
      " 2   Low           2490 non-null   float64\n",
      " 3   Close         2490 non-null   float64\n",
      " 4   Volume        2490 non-null   int64  \n",
      " 5   Dividends     2490 non-null   float64\n",
      " 6   Stock Splits  2490 non-null   float64\n",
      "dtypes: float64(6), int64(1)\n",
      "memory usage: 155.6 KB\n"
     ]
    }
   ],
   "source": [
    "petr4_df.info()"
   ]
  },
  {
   "cell_type": "code",
   "execution_count": 11,
   "metadata": {},
   "outputs": [
    {
     "name": "stdout",
     "output_type": "stream",
     "text": [
      "There are 0 observations in the dataset.\n"
     ]
    }
   ],
   "source": [
    "is_duplicate = petr4_df.duplicated().sum()\n",
    "print(f\"There are {is_duplicate} observations in the dataset.\")"
   ]
  },
  {
   "cell_type": "markdown",
   "metadata": {},
   "source": [
    "A brief summary:\n",
    "- Our dataset has 2488 observations and 7 features/variables.\n",
    "- All columns are numeric.\n",
    "- There are no missing values.\n",
    "- There are no duplicate values either.\n",
    "\n",
    "About the variables, a short description:\n",
    "\n",
    "\n",
    "| **Variable** | **Definition** |\n",
    "|--------------| ---------------|\n",
    "| `Open`       | The opening price for the specified date. |\n",
    "| `High`       | The high price for the specified date. |\n",
    "| `Low`        | The low price for the specified date. |\n",
    "| `Close`      | The closing price for the specified date. |\n",
    "| `Volume`     | The number of shares traded in a stock or contracts traded in futures or options. |\n",
    "| `Dividends`  | A portion of a company's earnings that is paid to a shareholder. |\n",
    "| `Stock Splits` |  A corporate action in which a company increases the number of its outstanding shares by issuing more shares to current shareholders. | \n"
   ]
  },
  {
   "cell_type": "markdown",
   "metadata": {},
   "source": [
    "## 3. Create daily percentage returns and date columns ##\n",
    "Our goal is to work on closing prices, so we can include only `Close` and create a percent return variable that indicate the percentage change on a daily basis.\n"
   ]
  },
  {
   "cell_type": "code",
   "execution_count": 12,
   "metadata": {},
   "outputs": [],
   "source": [
    "# Keep only `Close` column\n",
    "petr4_df = petr4_df[[\"Close\"]]\n",
    "\n",
    "petr4_df[\"pct_return\"] = (\n",
    "    (petr4_df[\"Close\"] - petr4_df.shift(1)[\"Close\"])\n",
    "    /\n",
    "    petr4_df.shift(1)[\"Close\"] * 100\n",
    ")"
   ]
  },
  {
   "cell_type": "code",
   "execution_count": 13,
   "metadata": {},
   "outputs": [
    {
     "data": {
      "text/html": [
       "<div>\n",
       "<style scoped>\n",
       "    .dataframe tbody tr th:only-of-type {\n",
       "        vertical-align: middle;\n",
       "    }\n",
       "\n",
       "    .dataframe tbody tr th {\n",
       "        vertical-align: top;\n",
       "    }\n",
       "\n",
       "    .dataframe thead th {\n",
       "        text-align: right;\n",
       "    }\n",
       "</style>\n",
       "<table border=\"1\" class=\"dataframe\">\n",
       "  <thead>\n",
       "    <tr style=\"text-align: right;\">\n",
       "      <th></th>\n",
       "      <th>Close</th>\n",
       "      <th>pct_return</th>\n",
       "    </tr>\n",
       "    <tr>\n",
       "      <th>Date</th>\n",
       "      <th></th>\n",
       "      <th></th>\n",
       "    </tr>\n",
       "  </thead>\n",
       "  <tbody>\n",
       "    <tr>\n",
       "      <th>2014-07-07 00:00:00-03:00</th>\n",
       "      <td>5.717695</td>\n",
       "      <td>NaN</td>\n",
       "    </tr>\n",
       "    <tr>\n",
       "      <th>2014-07-08 00:00:00-03:00</th>\n",
       "      <td>5.720997</td>\n",
       "      <td>0.057744</td>\n",
       "    </tr>\n",
       "    <tr>\n",
       "      <th>2014-07-10 00:00:00-03:00</th>\n",
       "      <td>5.978491</td>\n",
       "      <td>4.500867</td>\n",
       "    </tr>\n",
       "    <tr>\n",
       "      <th>2014-07-11 00:00:00-03:00</th>\n",
       "      <td>6.021406</td>\n",
       "      <td>0.717813</td>\n",
       "    </tr>\n",
       "    <tr>\n",
       "      <th>2014-07-14 00:00:00-03:00</th>\n",
       "      <td>6.305310</td>\n",
       "      <td>4.714922</td>\n",
       "    </tr>\n",
       "  </tbody>\n",
       "</table>\n",
       "</div>"
      ],
      "text/plain": [
       "                              Close  pct_return\n",
       "Date                                           \n",
       "2014-07-07 00:00:00-03:00  5.717695         NaN\n",
       "2014-07-08 00:00:00-03:00  5.720997    0.057744\n",
       "2014-07-10 00:00:00-03:00  5.978491    4.500867\n",
       "2014-07-11 00:00:00-03:00  6.021406    0.717813\n",
       "2014-07-14 00:00:00-03:00  6.305310    4.714922"
      ]
     },
     "execution_count": 13,
     "metadata": {},
     "output_type": "execute_result"
    }
   ],
   "source": [
    "petr4_df.head()"
   ]
  },
  {
   "cell_type": "code",
   "execution_count": 14,
   "metadata": {},
   "outputs": [
    {
     "name": "stdout",
     "output_type": "stream",
     "text": [
      "<class 'pandas.core.frame.DataFrame'>\n",
      "DatetimeIndex: 2490 entries, 2014-07-07 00:00:00-03:00 to 2024-07-09 00:00:00-03:00\n",
      "Data columns (total 2 columns):\n",
      " #   Column      Non-Null Count  Dtype  \n",
      "---  ------      --------------  -----  \n",
      " 0   Close       2490 non-null   float64\n",
      " 1   pct_return  2489 non-null   float64\n",
      "dtypes: float64(2)\n",
      "memory usage: 58.4 KB\n"
     ]
    }
   ],
   "source": [
    "petr4_df.info()"
   ]
  },
  {
   "cell_type": "code",
   "execution_count": 15,
   "metadata": {},
   "outputs": [
    {
     "data": {
      "text/html": [
       "<div>\n",
       "<style scoped>\n",
       "    .dataframe tbody tr th:only-of-type {\n",
       "        vertical-align: middle;\n",
       "    }\n",
       "\n",
       "    .dataframe tbody tr th {\n",
       "        vertical-align: top;\n",
       "    }\n",
       "\n",
       "    .dataframe thead th {\n",
       "        text-align: right;\n",
       "    }\n",
       "</style>\n",
       "<table border=\"1\" class=\"dataframe\">\n",
       "  <thead>\n",
       "    <tr style=\"text-align: right;\">\n",
       "      <th></th>\n",
       "      <th>Date</th>\n",
       "      <th>Close</th>\n",
       "      <th>pct_return</th>\n",
       "    </tr>\n",
       "  </thead>\n",
       "  <tbody>\n",
       "    <tr>\n",
       "      <th>0</th>\n",
       "      <td>2014-07-07 00:00:00-03:00</td>\n",
       "      <td>5.717695</td>\n",
       "      <td>NaN</td>\n",
       "    </tr>\n",
       "    <tr>\n",
       "      <th>1</th>\n",
       "      <td>2014-07-08 00:00:00-03:00</td>\n",
       "      <td>5.720997</td>\n",
       "      <td>0.057744</td>\n",
       "    </tr>\n",
       "    <tr>\n",
       "      <th>2</th>\n",
       "      <td>2014-07-10 00:00:00-03:00</td>\n",
       "      <td>5.978491</td>\n",
       "      <td>4.500867</td>\n",
       "    </tr>\n",
       "    <tr>\n",
       "      <th>3</th>\n",
       "      <td>2014-07-11 00:00:00-03:00</td>\n",
       "      <td>6.021406</td>\n",
       "      <td>0.717813</td>\n",
       "    </tr>\n",
       "    <tr>\n",
       "      <th>4</th>\n",
       "      <td>2014-07-14 00:00:00-03:00</td>\n",
       "      <td>6.305310</td>\n",
       "      <td>4.714922</td>\n",
       "    </tr>\n",
       "  </tbody>\n",
       "</table>\n",
       "</div>"
      ],
      "text/plain": [
       "                       Date     Close  pct_return\n",
       "0 2014-07-07 00:00:00-03:00  5.717695         NaN\n",
       "1 2014-07-08 00:00:00-03:00  5.720997    0.057744\n",
       "2 2014-07-10 00:00:00-03:00  5.978491    4.500867\n",
       "3 2014-07-11 00:00:00-03:00  6.021406    0.717813\n",
       "4 2014-07-14 00:00:00-03:00  6.305310    4.714922"
      ]
     },
     "execution_count": 15,
     "metadata": {},
     "output_type": "execute_result"
    }
   ],
   "source": [
    "# Convert the `Date` index to a column\n",
    "petr4_df.reset_index(inplace=True)\n",
    "petr4_df.head()"
   ]
  },
  {
   "cell_type": "markdown",
   "metadata": {},
   "source": [
    "Great! We can now perform a few transformations on `Date` and obtain the separate `year`, `month`, and `yearmonth` variables."
   ]
  },
  {
   "cell_type": "code",
   "execution_count": 16,
   "metadata": {},
   "outputs": [],
   "source": [
    "petr4_df[\"Date\"] = pd.to_datetime(petr4_df[\"Date\"], format=\"%Y-%m-%d\")\n",
    "petr4_df[\"year\"] = petr4_df[\"Date\"].dt.year\n",
    "petr4_df[\"month\"] = petr4_df[\"Date\"].dt.month\n",
    "petr4_df[\"year_month\"] = petr4_df[\"Date\"].dt.to_period(\"M\")\n"
   ]
  },
  {
   "cell_type": "code",
   "execution_count": 17,
   "metadata": {},
   "outputs": [
    {
     "data": {
      "text/html": [
       "<div>\n",
       "<style scoped>\n",
       "    .dataframe tbody tr th:only-of-type {\n",
       "        vertical-align: middle;\n",
       "    }\n",
       "\n",
       "    .dataframe tbody tr th {\n",
       "        vertical-align: top;\n",
       "    }\n",
       "\n",
       "    .dataframe thead th {\n",
       "        text-align: right;\n",
       "    }\n",
       "</style>\n",
       "<table border=\"1\" class=\"dataframe\">\n",
       "  <thead>\n",
       "    <tr style=\"text-align: right;\">\n",
       "      <th></th>\n",
       "      <th>Date</th>\n",
       "      <th>Close</th>\n",
       "      <th>pct_return</th>\n",
       "      <th>year</th>\n",
       "      <th>month</th>\n",
       "      <th>year_month</th>\n",
       "    </tr>\n",
       "  </thead>\n",
       "  <tbody>\n",
       "    <tr>\n",
       "      <th>0</th>\n",
       "      <td>2014-07-07 00:00:00-03:00</td>\n",
       "      <td>5.717695</td>\n",
       "      <td>NaN</td>\n",
       "      <td>2014</td>\n",
       "      <td>7</td>\n",
       "      <td>2014-07</td>\n",
       "    </tr>\n",
       "    <tr>\n",
       "      <th>1</th>\n",
       "      <td>2014-07-08 00:00:00-03:00</td>\n",
       "      <td>5.720997</td>\n",
       "      <td>0.057744</td>\n",
       "      <td>2014</td>\n",
       "      <td>7</td>\n",
       "      <td>2014-07</td>\n",
       "    </tr>\n",
       "    <tr>\n",
       "      <th>2</th>\n",
       "      <td>2014-07-10 00:00:00-03:00</td>\n",
       "      <td>5.978491</td>\n",
       "      <td>4.500867</td>\n",
       "      <td>2014</td>\n",
       "      <td>7</td>\n",
       "      <td>2014-07</td>\n",
       "    </tr>\n",
       "    <tr>\n",
       "      <th>3</th>\n",
       "      <td>2014-07-11 00:00:00-03:00</td>\n",
       "      <td>6.021406</td>\n",
       "      <td>0.717813</td>\n",
       "      <td>2014</td>\n",
       "      <td>7</td>\n",
       "      <td>2014-07</td>\n",
       "    </tr>\n",
       "    <tr>\n",
       "      <th>4</th>\n",
       "      <td>2014-07-14 00:00:00-03:00</td>\n",
       "      <td>6.305310</td>\n",
       "      <td>4.714922</td>\n",
       "      <td>2014</td>\n",
       "      <td>7</td>\n",
       "      <td>2014-07</td>\n",
       "    </tr>\n",
       "  </tbody>\n",
       "</table>\n",
       "</div>"
      ],
      "text/plain": [
       "                       Date     Close  pct_return  year  month year_month\n",
       "0 2014-07-07 00:00:00-03:00  5.717695         NaN  2014      7    2014-07\n",
       "1 2014-07-08 00:00:00-03:00  5.720997    0.057744  2014      7    2014-07\n",
       "2 2014-07-10 00:00:00-03:00  5.978491    4.500867  2014      7    2014-07\n",
       "3 2014-07-11 00:00:00-03:00  6.021406    0.717813  2014      7    2014-07\n",
       "4 2014-07-14 00:00:00-03:00  6.305310    4.714922  2014      7    2014-07"
      ]
     },
     "execution_count": 17,
     "metadata": {},
     "output_type": "execute_result"
    }
   ],
   "source": [
    "petr4_df.head()"
   ]
  },
  {
   "cell_type": "code",
   "execution_count": 18,
   "metadata": {},
   "outputs": [
    {
     "name": "stdout",
     "output_type": "stream",
     "text": [
      "<class 'pandas.core.frame.DataFrame'>\n",
      "RangeIndex: 2490 entries, 0 to 2489\n",
      "Data columns (total 6 columns):\n",
      " #   Column      Non-Null Count  Dtype                            \n",
      "---  ------      --------------  -----                            \n",
      " 0   Date        2490 non-null   datetime64[ns, America/Sao_Paulo]\n",
      " 1   Close       2490 non-null   float64                          \n",
      " 2   pct_return  2489 non-null   float64                          \n",
      " 3   year        2490 non-null   int32                            \n",
      " 4   month       2490 non-null   int32                            \n",
      " 5   year_month  2490 non-null   period[M]                        \n",
      "dtypes: datetime64[ns, America/Sao_Paulo](1), float64(2), int32(2), period[M](1)\n",
      "memory usage: 97.4 KB\n"
     ]
    }
   ],
   "source": [
    "petr4_df.info()"
   ]
  },
  {
   "cell_type": "code",
   "execution_count": 62,
   "metadata": {},
   "outputs": [],
   "source": [
    "# Divide pct_return back to decimals.petr4_df\n",
    "# Export the dataset as a csv file\n",
    "# petr4_df[\"pct_return\"] = petr4_df[\"pct_return\"] / 100\n",
    "# petr4_df.to_csv(f\"{data_out}petr4_output.csv\", index=False)"
   ]
  },
  {
   "cell_type": "markdown",
   "metadata": {},
   "source": [
    "## 4. Plot the histogram of daily returns, annotate losses ##"
   ]
  },
  {
   "cell_type": "code",
   "execution_count": 27,
   "metadata": {},
   "outputs": [
    {
     "data": {
      "image/png": "[encoded data removed]"
     },
     "metadata": {
      "image/png": {
       "height": 480,
       "width": 640
      }
     },
     "output_type": "display_data"
    }
   ],
   "source": [
    "# Create histogram of daily returns\n",
    "ggplot(petr4_df, aes(\"pct_return\")) + geom_histogram(\n",
    "    binwidth=0.25, color=\"white\", fill=color[0], boundary=0, closed=\"left\",\n",
    ") + geom_vline(xintercept=-5, size=0.7, color=color[1]) + labs(\n",
    "    x=\"Daily return (percent)\", y=\"Frequency\", title=\"Histogram of daily returns for PETR4.SA\"\n",
    ") + coord_cartesian(\n",
    "    xlim=[-32, 25], ylim=[0, 200]\n",
    ") + scale_y_continuous(\n",
    "    expand=[0, 0]\n",
    ") + geom_segment(\n",
    "    aes(x=-6, y=220, xend=-5, yend=220)\n",
    ") + annotate(\n",
    "    \"text\", x=-8, y=220, label=\"5% loss\", size=12\n",
    ") + theme_bw()"
   ]
  },
  {
   "cell_type": "markdown",
   "metadata": {},
   "source": [
    "We can notice a significant amount of observations below the 5% threshold. We can count the number of days that `PETR4.SA` closed at such low losses."
   ]
  },
  {
   "cell_type": "code",
   "execution_count": 28,
   "metadata": {},
   "outputs": [
    {
     "name": "stdout",
     "output_type": "stream",
     "text": [
      "There were 97 days in which the stock lost 5% or more. \n",
      "This represents 3.90% of the total days (2490).\n"
     ]
    }
   ],
   "source": [
    "days_below_5pct = len(petr4_df.loc[petr4_df[\"pct_return\"] <= -5, :])\n",
    "\n",
    "days_below_5pct_proport = (days_below_5pct / petr4_df.shape[0]) * 100\n",
    "print(f\"There were {days_below_5pct} days in which the stock lost 5% or more. \\nThis represents {days_below_5pct_proport:.2f}% of the total days ({petr4_df.shape[0]}).\")"
   ]
  },
  {
   "cell_type": "markdown",
   "metadata": {},
   "source": [
    "Now, for a total of 2490 days, we have noticed **97** days with losses below 5%, representing nearly **4%** of the total number of observations. \n",
    "\n",
    "## 3. Repeated samples, standard error ##\n",
    "Considering the question \"What *could* have been observed?\", we can use **repeated samples** to make inferences about our dataset. That is, we can learn the distribution of each sample, get its estimate and observe the sampling distribution. Our most important goal here is to get its standard deviation, that is, how much *spread* we can observe across repeated samples. Remember that the standard deviation of the sampling distribution is called the **standard error**. \n",
    "We can now peform a simulation to exemplify the exercise. Our statistic of interest is the proportin of days with 5% of larger losses - in our case, it is **3.9%**. If we consider these 10 years of data our entire population, we already know the true value. We will ignore this fact and consider that the entire population encompasses a wider timespan."
   ]
  },
  {
   "cell_type": "code",
   "execution_count": 29,
   "metadata": {},
   "outputs": [],
   "source": [
    "# Remove NaN values from `pct_return` column\n",
    "pct_return_no_na = petr4_df[\"pct_return\"].dropna()"
   ]
  },
  {
   "cell_type": "code",
   "execution_count": 30,
   "metadata": {},
   "outputs": [
    {
     "data": {
      "text/plain": [
       "count    2489.000000\n",
       "mean        0.125630\n",
       "std         3.110939\n",
       "min       -29.697763\n",
       "25%        -1.350565\n",
       "50%         0.131601\n",
       "75%         1.666044\n",
       "max        22.222242\n",
       "Name: pct_return, dtype: float64"
      ]
     },
     "execution_count": 30,
     "metadata": {},
     "output_type": "execute_result"
    }
   ],
   "source": [
    "pct_return_no_na.describe()"
   ]
  },
  {
   "cell_type": "markdown",
   "metadata": {},
   "source": [
    "Using a simple random sampling, we can now create samples based on the assumption that our data comprises only a 4 year period. Considering that each year has around 250 working days, we can use `10000` as our sample size."
   ]
  },
  {
   "cell_type": "code",
   "execution_count": 31,
   "metadata": {},
   "outputs": [],
   "source": [
    "def create_samples(vector, n_samples, n_obs):\n",
    "    samples_pctloss = [None] * (n_samples + 1) # Create a list to store the samples\n",
    "    for i in range(n_samples + 1):\n",
    "        single_sample = np.random.choice(vector, size=n_obs, replace=True) # Create a single sample\n",
    "        samples_pctloss[i] = sum(single_sample <= -5) / n_obs * 100 # Calculate the proportion of days with losses greater than 5%\n",
    "    return samples_pctloss\n"
   ]
  },
  {
   "cell_type": "markdown",
   "metadata": {},
   "source": [
    "Now, we can generate samples for 1000 and 500 observations. It is important to mention that, in our case, we are ignoring any dependence from a given value to the previous observations. That is, we are destroying the time-series component of our dataset for the purpose of understanding the process of generalizing from data."
   ]
  },
  {
   "cell_type": "code",
   "execution_count": 39,
   "metadata": {},
   "outputs": [],
   "source": [
    "np.random.seed = 123\n",
    "n_obs_1000 = create_samples(pct_return_no_na, 10000, 1000)\n",
    "n_obs_500 = create_samples(pct_return_no_na, 10000, 500)"
   ]
  },
  {
   "cell_type": "code",
   "execution_count": 40,
   "metadata": {},
   "outputs": [],
   "source": [
    "n_obs_df = pd.DataFrame({\"n_obs_500\": n_obs_500, \"n_obs_1000\": n_obs_1000})"
   ]
  },
  {
   "cell_type": "code",
   "execution_count": 41,
   "metadata": {},
   "outputs": [
    {
     "data": {
      "text/html": [
       "<div>\n",
       "<style scoped>\n",
       "    .dataframe tbody tr th:only-of-type {\n",
       "        vertical-align: middle;\n",
       "    }\n",
       "\n",
       "    .dataframe tbody tr th {\n",
       "        vertical-align: top;\n",
       "    }\n",
       "\n",
       "    .dataframe thead th {\n",
       "        text-align: right;\n",
       "    }\n",
       "</style>\n",
       "<table border=\"1\" class=\"dataframe\">\n",
       "  <thead>\n",
       "    <tr style=\"text-align: right;\">\n",
       "      <th></th>\n",
       "      <th>n_obs_500</th>\n",
       "      <th>n_obs_1000</th>\n",
       "    </tr>\n",
       "  </thead>\n",
       "  <tbody>\n",
       "    <tr>\n",
       "      <th>0</th>\n",
       "      <td>3.6</td>\n",
       "      <td>3.6</td>\n",
       "    </tr>\n",
       "    <tr>\n",
       "      <th>1</th>\n",
       "      <td>3.0</td>\n",
       "      <td>3.5</td>\n",
       "    </tr>\n",
       "    <tr>\n",
       "      <th>2</th>\n",
       "      <td>3.8</td>\n",
       "      <td>3.7</td>\n",
       "    </tr>\n",
       "    <tr>\n",
       "      <th>3</th>\n",
       "      <td>4.6</td>\n",
       "      <td>4.1</td>\n",
       "    </tr>\n",
       "    <tr>\n",
       "      <th>4</th>\n",
       "      <td>3.0</td>\n",
       "      <td>4.6</td>\n",
       "    </tr>\n",
       "    <tr>\n",
       "      <th>...</th>\n",
       "      <td>...</td>\n",
       "      <td>...</td>\n",
       "    </tr>\n",
       "    <tr>\n",
       "      <th>9996</th>\n",
       "      <td>2.6</td>\n",
       "      <td>4.5</td>\n",
       "    </tr>\n",
       "    <tr>\n",
       "      <th>9997</th>\n",
       "      <td>5.2</td>\n",
       "      <td>5.0</td>\n",
       "    </tr>\n",
       "    <tr>\n",
       "      <th>9998</th>\n",
       "      <td>3.8</td>\n",
       "      <td>4.0</td>\n",
       "    </tr>\n",
       "    <tr>\n",
       "      <th>9999</th>\n",
       "      <td>4.2</td>\n",
       "      <td>4.0</td>\n",
       "    </tr>\n",
       "    <tr>\n",
       "      <th>10000</th>\n",
       "      <td>3.8</td>\n",
       "      <td>4.4</td>\n",
       "    </tr>\n",
       "  </tbody>\n",
       "</table>\n",
       "<p>10001 rows × 2 columns</p>\n",
       "</div>"
      ],
      "text/plain": [
       "       n_obs_500  n_obs_1000\n",
       "0            3.6         3.6\n",
       "1            3.0         3.5\n",
       "2            3.8         3.7\n",
       "3            4.6         4.1\n",
       "4            3.0         4.6\n",
       "...          ...         ...\n",
       "9996         2.6         4.5\n",
       "9997         5.2         5.0\n",
       "9998         3.8         4.0\n",
       "9999         4.2         4.0\n",
       "10000        3.8         4.4\n",
       "\n",
       "[10001 rows x 2 columns]"
      ]
     },
     "execution_count": 41,
     "metadata": {},
     "output_type": "execute_result"
    }
   ],
   "source": [
    "n_obs_df"
   ]
  },
  {
   "cell_type": "code",
   "execution_count": 42,
   "metadata": {},
   "outputs": [],
   "source": [
    "n_obs_df[\"n_obs_500\"] = n_obs_df[\"n_obs_500\"]\n",
    "n_obs_df[\"n_obs_1000\"] = n_obs_df[\"n_obs_1000\"]\n",
    "n_obs_df.to_csv(f\"{data_out}n_obs_df_output.csv\", index=False, sep=\",\")"
   ]
  },
  {
   "cell_type": "code",
   "execution_count": 43,
   "metadata": {},
   "outputs": [
    {
     "data": {
      "text/html": [
       "<div>\n",
       "<style scoped>\n",
       "    .dataframe tbody tr th:only-of-type {\n",
       "        vertical-align: middle;\n",
       "    }\n",
       "\n",
       "    .dataframe tbody tr th {\n",
       "        vertical-align: top;\n",
       "    }\n",
       "\n",
       "    .dataframe thead th {\n",
       "        text-align: right;\n",
       "    }\n",
       "</style>\n",
       "<table border=\"1\" class=\"dataframe\">\n",
       "  <thead>\n",
       "    <tr style=\"text-align: right;\">\n",
       "      <th></th>\n",
       "      <th>n_obs_500</th>\n",
       "      <th>n_obs_1000</th>\n",
       "    </tr>\n",
       "  </thead>\n",
       "  <tbody>\n",
       "    <tr>\n",
       "      <th>count</th>\n",
       "      <td>10001.000000</td>\n",
       "      <td>10001.000000</td>\n",
       "    </tr>\n",
       "    <tr>\n",
       "      <th>mean</th>\n",
       "      <td>3.901730</td>\n",
       "      <td>3.896100</td>\n",
       "    </tr>\n",
       "    <tr>\n",
       "      <th>std</th>\n",
       "      <td>0.874692</td>\n",
       "      <td>0.612641</td>\n",
       "    </tr>\n",
       "    <tr>\n",
       "      <th>min</th>\n",
       "      <td>1.200000</td>\n",
       "      <td>2.000000</td>\n",
       "    </tr>\n",
       "    <tr>\n",
       "      <th>25%</th>\n",
       "      <td>3.200000</td>\n",
       "      <td>3.500000</td>\n",
       "    </tr>\n",
       "    <tr>\n",
       "      <th>50%</th>\n",
       "      <td>3.800000</td>\n",
       "      <td>3.900000</td>\n",
       "    </tr>\n",
       "    <tr>\n",
       "      <th>75%</th>\n",
       "      <td>4.400000</td>\n",
       "      <td>4.300000</td>\n",
       "    </tr>\n",
       "    <tr>\n",
       "      <th>max</th>\n",
       "      <td>8.000000</td>\n",
       "      <td>6.300000</td>\n",
       "    </tr>\n",
       "  </tbody>\n",
       "</table>\n",
       "</div>"
      ],
      "text/plain": [
       "          n_obs_500    n_obs_1000\n",
       "count  10001.000000  10001.000000\n",
       "mean       3.901730      3.896100\n",
       "std        0.874692      0.612641\n",
       "min        1.200000      2.000000\n",
       "25%        3.200000      3.500000\n",
       "50%        3.800000      3.900000\n",
       "75%        4.400000      4.300000\n",
       "max        8.000000      6.300000"
      ]
     },
     "execution_count": 43,
     "metadata": {},
     "output_type": "execute_result"
    }
   ],
   "source": [
    "n_obs_df.describe()"
   ]
  },
  {
   "cell_type": "markdown",
   "metadata": {},
   "source": [
    "The result is a DataFrame containing the percentage points of `pct_return` at a 5%+ loss. \n",
    "We can now calculate the margin of error and use it to find the confidence interval for the mean of our dataset with 1000 observations. A few comments:\n",
    "1. Margin of Error Calculation\n",
    "- `norm.ppf(0.975)` calculates the **z-score** (or the number of standard deviations from the mean) corresponding to the 97.5th percentile of the standard normal distribution. We use `0.975` for a 95% CI as the normal distribution is symmetric, and we want the area in the middle covering 95% of the distribution. As such, 2.5% is left on each side.\n",
    "- `np.std(n_obs[\"n_obs_1000\"])` calculates the **standard deviation** of the dataset.\n",
    "- `/ np.sqrt(len(n_obs_df[\"n_obs_1000\"]))` divides the standard deviation by the **squared root of the number of observations** in the dataset. We can then calculate the **standard error** of the mean.\n",
    "- The entire expression calculates the margin of error for the 95% CI of the mean.\n",
    "\n",
    "2. CI Calculation\n",
    "- `np.mean(n_obs_df[\"n_obs_1000\"])`: This calculates the mean of the dataset.\n",
    "- `left = np.mean(n_obs_df[\"n_obs_1000\"]) - error`: This subtracts the margin of error from the mean to find the lower bound of the 95% confidence interval.\n",
    "- `right = np.mean(n_obs_df[\"n_obs_1000\"]) + error`: This adds the margin of error to the mean to find the upper bound of the 95% confidence interval."
   ]
  },
  {
   "cell_type": "code",
   "execution_count": 74,
   "metadata": {},
   "outputs": [],
   "source": [
    "error = norm.ppf(0.975) * np.std(n_obs_df[\"n_obs_1000\"]) / np.sqrt(len(n_obs_df[\"n_obs_1000\"]))\n",
    "left = np.mean(n_obs_df[\"n_obs_1000\"]) - error\n",
    "right = np.mean(n_obs_df[\"n_obs_1000\"] + error)"
   ]
  },
  {
   "cell_type": "markdown",
   "metadata": {},
   "source": [
    "Here, we get the mean of our sample and add and subtract the error for each variable."
   ]
  },
  {
   "cell_type": "code",
   "execution_count": 75,
   "metadata": {},
   "outputs": [
    {
     "ename": "PlotnineError",
     "evalue": "'Aesthetics must either be length one, or the same length as the data'",
     "output_type": "error",
     "traceback": [
      "\u001b[1;31m---------------------------------------------------------------------------\u001b[0m",
      "\u001b[1;31mPlotnineError\u001b[0m                             Traceback (most recent call last)",
      "File \u001b[1;32mc:\\Users\\felip\\workspace\\python_work\\bk_data_analysis\\.venv\\Lib\\site-packages\\IPython\\core\\formatters.py:925\u001b[0m, in \u001b[0;36mIPythonDisplayFormatter.__call__\u001b[1;34m(self, obj)\u001b[0m\n\u001b[0;32m    923\u001b[0m method \u001b[38;5;241m=\u001b[39m get_real_method(obj, \u001b[38;5;28mself\u001b[39m\u001b[38;5;241m.\u001b[39mprint_method)\n\u001b[0;32m    924\u001b[0m \u001b[38;5;28;01mif\u001b[39;00m method \u001b[38;5;129;01mis\u001b[39;00m \u001b[38;5;129;01mnot\u001b[39;00m \u001b[38;5;28;01mNone\u001b[39;00m:\n\u001b[1;32m--> 925\u001b[0m     \u001b[43mmethod\u001b[49m\u001b[43m(\u001b[49m\u001b[43m)\u001b[49m\n\u001b[0;32m    926\u001b[0m     \u001b[38;5;28;01mreturn\u001b[39;00m \u001b[38;5;28;01mTrue\u001b[39;00m\n",
      "File \u001b[1;32mc:\\Users\\felip\\workspace\\python_work\\bk_data_analysis\\.venv\\Lib\\site-packages\\plotnine\\ggplot.py:141\u001b[0m, in \u001b[0;36mggplot._ipython_display_\u001b[1;34m(self)\u001b[0m\n\u001b[0;32m    134\u001b[0m \u001b[38;5;28;01mdef\u001b[39;00m \u001b[38;5;21m_ipython_display_\u001b[39m(\u001b[38;5;28mself\u001b[39m):\n\u001b[0;32m    135\u001b[0m \u001b[38;5;250m    \u001b[39m\u001b[38;5;124;03m\"\"\"\u001b[39;00m\n\u001b[0;32m    136\u001b[0m \u001b[38;5;124;03m    Display plot in the output of the cell\u001b[39;00m\n\u001b[0;32m    137\u001b[0m \n\u001b[0;32m    138\u001b[0m \u001b[38;5;124;03m    This method will always be called when a ggplot object is the\u001b[39;00m\n\u001b[0;32m    139\u001b[0m \u001b[38;5;124;03m    last in the cell.\u001b[39;00m\n\u001b[0;32m    140\u001b[0m \u001b[38;5;124;03m    \"\"\"\u001b[39;00m\n\u001b[1;32m--> 141\u001b[0m     \u001b[38;5;28;43mself\u001b[39;49m\u001b[38;5;241;43m.\u001b[39;49m\u001b[43m_display\u001b[49m\u001b[43m(\u001b[49m\u001b[43m)\u001b[49m\n",
      "File \u001b[1;32mc:\\Users\\felip\\workspace\\python_work\\bk_data_analysis\\.venv\\Lib\\site-packages\\plotnine\\ggplot.py:175\u001b[0m, in \u001b[0;36mggplot._display\u001b[1;34m(self)\u001b[0m\n\u001b[0;32m    172\u001b[0m     save_format \u001b[38;5;241m=\u001b[39m \u001b[38;5;124m\"\u001b[39m\u001b[38;5;124mpng\u001b[39m\u001b[38;5;124m\"\u001b[39m\n\u001b[0;32m    174\u001b[0m buf \u001b[38;5;241m=\u001b[39m BytesIO()\n\u001b[1;32m--> 175\u001b[0m \u001b[38;5;28;43mself\u001b[39;49m\u001b[38;5;241;43m.\u001b[39;49m\u001b[43msave\u001b[49m\u001b[43m(\u001b[49m\u001b[43mbuf\u001b[49m\u001b[43m,\u001b[49m\u001b[43m \u001b[49m\u001b[38;5;28;43mformat\u001b[39;49m\u001b[38;5;241;43m=\u001b[39;49m\u001b[43msave_format\u001b[49m\u001b[43m,\u001b[49m\u001b[43m \u001b[49m\u001b[43mverbose\u001b[49m\u001b[38;5;241;43m=\u001b[39;49m\u001b[38;5;28;43;01mFalse\u001b[39;49;00m\u001b[43m)\u001b[49m\n\u001b[0;32m    176\u001b[0m display_func \u001b[38;5;241m=\u001b[39m get_display_function(\u001b[38;5;28mformat\u001b[39m)\n\u001b[0;32m    177\u001b[0m display_func(buf\u001b[38;5;241m.\u001b[39mgetvalue())\n",
      "File \u001b[1;32mc:\\Users\\felip\\workspace\\python_work\\bk_data_analysis\\.venv\\Lib\\site-packages\\plotnine\\ggplot.py:663\u001b[0m, in \u001b[0;36mggplot.save\u001b[1;34m(self, filename, format, path, width, height, units, dpi, limitsize, verbose, **kwargs)\u001b[0m\n\u001b[0;32m    615\u001b[0m \u001b[38;5;28;01mdef\u001b[39;00m \u001b[38;5;21msave\u001b[39m(\n\u001b[0;32m    616\u001b[0m     \u001b[38;5;28mself\u001b[39m,\n\u001b[0;32m    617\u001b[0m     filename: Optional[\u001b[38;5;28mstr\u001b[39m \u001b[38;5;241m|\u001b[39m Path \u001b[38;5;241m|\u001b[39m BytesIO] \u001b[38;5;241m=\u001b[39m \u001b[38;5;28;01mNone\u001b[39;00m,\n\u001b[1;32m   (...)\u001b[0m\n\u001b[0;32m    626\u001b[0m     \u001b[38;5;241m*\u001b[39m\u001b[38;5;241m*\u001b[39mkwargs: Any,\n\u001b[0;32m    627\u001b[0m ):\n\u001b[0;32m    628\u001b[0m \u001b[38;5;250m    \u001b[39m\u001b[38;5;124;03m\"\"\"\u001b[39;00m\n\u001b[0;32m    629\u001b[0m \u001b[38;5;124;03m    Save a ggplot object as an image file\u001b[39;00m\n\u001b[0;32m    630\u001b[0m \n\u001b[1;32m   (...)\u001b[0m\n\u001b[0;32m    661\u001b[0m \u001b[38;5;124;03m        Additional arguments to pass to matplotlib `savefig()`.\u001b[39;00m\n\u001b[0;32m    662\u001b[0m \u001b[38;5;124;03m    \"\"\"\u001b[39;00m\n\u001b[1;32m--> 663\u001b[0m     sv \u001b[38;5;241m=\u001b[39m \u001b[38;5;28;43mself\u001b[39;49m\u001b[38;5;241;43m.\u001b[39;49m\u001b[43msave_helper\u001b[49m\u001b[43m(\u001b[49m\n\u001b[0;32m    664\u001b[0m \u001b[43m        \u001b[49m\u001b[43mfilename\u001b[49m\u001b[38;5;241;43m=\u001b[39;49m\u001b[43mfilename\u001b[49m\u001b[43m,\u001b[49m\n\u001b[0;32m    665\u001b[0m \u001b[43m        \u001b[49m\u001b[38;5;28;43mformat\u001b[39;49m\u001b[38;5;241;43m=\u001b[39;49m\u001b[38;5;28;43mformat\u001b[39;49m\u001b[43m,\u001b[49m\n\u001b[0;32m    666\u001b[0m \u001b[43m        \u001b[49m\u001b[43mpath\u001b[49m\u001b[38;5;241;43m=\u001b[39;49m\u001b[43mpath\u001b[49m\u001b[43m,\u001b[49m\n\u001b[0;32m    667\u001b[0m \u001b[43m        \u001b[49m\u001b[43mwidth\u001b[49m\u001b[38;5;241;43m=\u001b[39;49m\u001b[43mwidth\u001b[49m\u001b[43m,\u001b[49m\n\u001b[0;32m    668\u001b[0m \u001b[43m        \u001b[49m\u001b[43mheight\u001b[49m\u001b[38;5;241;43m=\u001b[39;49m\u001b[43mheight\u001b[49m\u001b[43m,\u001b[49m\n\u001b[0;32m    669\u001b[0m \u001b[43m        \u001b[49m\u001b[43munits\u001b[49m\u001b[38;5;241;43m=\u001b[39;49m\u001b[43munits\u001b[49m\u001b[43m,\u001b[49m\n\u001b[0;32m    670\u001b[0m \u001b[43m        \u001b[49m\u001b[43mdpi\u001b[49m\u001b[38;5;241;43m=\u001b[39;49m\u001b[43mdpi\u001b[49m\u001b[43m,\u001b[49m\n\u001b[0;32m    671\u001b[0m \u001b[43m        \u001b[49m\u001b[43mlimitsize\u001b[49m\u001b[38;5;241;43m=\u001b[39;49m\u001b[43mlimitsize\u001b[49m\u001b[43m,\u001b[49m\n\u001b[0;32m    672\u001b[0m \u001b[43m        \u001b[49m\u001b[43mverbose\u001b[49m\u001b[38;5;241;43m=\u001b[39;49m\u001b[43mverbose\u001b[49m\u001b[43m,\u001b[49m\n\u001b[0;32m    673\u001b[0m \u001b[43m        \u001b[49m\u001b[38;5;241;43m*\u001b[39;49m\u001b[38;5;241;43m*\u001b[39;49m\u001b[43mkwargs\u001b[49m\u001b[43m,\u001b[49m\n\u001b[0;32m    674\u001b[0m \u001b[43m    \u001b[49m\u001b[43m)\u001b[49m\n\u001b[0;32m    676\u001b[0m     \u001b[38;5;28;01mwith\u001b[39;00m plot_context(\u001b[38;5;28mself\u001b[39m)\u001b[38;5;241m.\u001b[39mrc_context:\n\u001b[0;32m    677\u001b[0m         sv\u001b[38;5;241m.\u001b[39mfigure\u001b[38;5;241m.\u001b[39msavefig(\u001b[38;5;241m*\u001b[39m\u001b[38;5;241m*\u001b[39msv\u001b[38;5;241m.\u001b[39mkwargs)\n",
      "File \u001b[1;32mc:\\Users\\felip\\workspace\\python_work\\bk_data_analysis\\.venv\\Lib\\site-packages\\plotnine\\ggplot.py:612\u001b[0m, in \u001b[0;36mggplot.save_helper\u001b[1;34m(self, filename, format, path, width, height, units, dpi, limitsize, verbose, **kwargs)\u001b[0m\n\u001b[0;32m    609\u001b[0m \u001b[38;5;28;01mif\u001b[39;00m dpi \u001b[38;5;129;01mis\u001b[39;00m \u001b[38;5;129;01mnot\u001b[39;00m \u001b[38;5;28;01mNone\u001b[39;00m:\n\u001b[0;32m    610\u001b[0m     \u001b[38;5;28mself\u001b[39m\u001b[38;5;241m.\u001b[39mtheme \u001b[38;5;241m=\u001b[39m \u001b[38;5;28mself\u001b[39m\u001b[38;5;241m.\u001b[39mtheme \u001b[38;5;241m+\u001b[39m theme(dpi\u001b[38;5;241m=\u001b[39mdpi)\n\u001b[1;32m--> 612\u001b[0m figure \u001b[38;5;241m=\u001b[39m \u001b[38;5;28;43mself\u001b[39;49m\u001b[38;5;241;43m.\u001b[39;49m\u001b[43mdraw\u001b[49m\u001b[43m(\u001b[49m\u001b[43mshow\u001b[49m\u001b[38;5;241;43m=\u001b[39;49m\u001b[38;5;28;43;01mFalse\u001b[39;49;00m\u001b[43m)\u001b[49m\n\u001b[0;32m    613\u001b[0m \u001b[38;5;28;01mreturn\u001b[39;00m mpl_save_view(figure, fig_kwargs)\n",
      "File \u001b[1;32mc:\\Users\\felip\\workspace\\python_work\\bk_data_analysis\\.venv\\Lib\\site-packages\\plotnine\\ggplot.py:272\u001b[0m, in \u001b[0;36mggplot.draw\u001b[1;34m(self, show)\u001b[0m\n\u001b[0;32m    270\u001b[0m \u001b[38;5;28mself\u001b[39m \u001b[38;5;241m=\u001b[39m deepcopy(\u001b[38;5;28mself\u001b[39m)\n\u001b[0;32m    271\u001b[0m \u001b[38;5;28;01mwith\u001b[39;00m plot_context(\u001b[38;5;28mself\u001b[39m, show\u001b[38;5;241m=\u001b[39mshow):\n\u001b[1;32m--> 272\u001b[0m     \u001b[38;5;28;43mself\u001b[39;49m\u001b[38;5;241;43m.\u001b[39;49m\u001b[43m_build\u001b[49m\u001b[43m(\u001b[49m\u001b[43m)\u001b[49m\n\u001b[0;32m    274\u001b[0m     \u001b[38;5;66;03m# setup\u001b[39;00m\n\u001b[0;32m    275\u001b[0m     \u001b[38;5;28mself\u001b[39m\u001b[38;5;241m.\u001b[39mfigure, \u001b[38;5;28mself\u001b[39m\u001b[38;5;241m.\u001b[39maxs \u001b[38;5;241m=\u001b[39m \u001b[38;5;28mself\u001b[39m\u001b[38;5;241m.\u001b[39mfacet\u001b[38;5;241m.\u001b[39msetup(\u001b[38;5;28mself\u001b[39m)\n",
      "File \u001b[1;32mc:\\Users\\felip\\workspace\\python_work\\bk_data_analysis\\.venv\\Lib\\site-packages\\plotnine\\ggplot.py:362\u001b[0m, in \u001b[0;36mggplot._build\u001b[1;34m(self)\u001b[0m\n\u001b[0;32m    358\u001b[0m layout\u001b[38;5;241m.\u001b[39msetup(layers, \u001b[38;5;28mself\u001b[39m)\n\u001b[0;32m    360\u001b[0m \u001b[38;5;66;03m# Compute aesthetics to produce data with generalised\u001b[39;00m\n\u001b[0;32m    361\u001b[0m \u001b[38;5;66;03m# variable names\u001b[39;00m\n\u001b[1;32m--> 362\u001b[0m \u001b[43mlayers\u001b[49m\u001b[38;5;241;43m.\u001b[39;49m\u001b[43mcompute_aesthetics\u001b[49m\u001b[43m(\u001b[49m\u001b[38;5;28;43mself\u001b[39;49m\u001b[43m)\u001b[49m\n\u001b[0;32m    364\u001b[0m \u001b[38;5;66;03m# Transform data using all scales\u001b[39;00m\n\u001b[0;32m    365\u001b[0m layers\u001b[38;5;241m.\u001b[39mtransform(scales)\n",
      "File \u001b[1;32mc:\\Users\\felip\\workspace\\python_work\\bk_data_analysis\\.venv\\Lib\\site-packages\\plotnine\\layer.py:457\u001b[0m, in \u001b[0;36mLayers.compute_aesthetics\u001b[1;34m(self, plot)\u001b[0m\n\u001b[0;32m    455\u001b[0m \u001b[38;5;28;01mdef\u001b[39;00m \u001b[38;5;21mcompute_aesthetics\u001b[39m(\u001b[38;5;28mself\u001b[39m, plot: ggplot):\n\u001b[0;32m    456\u001b[0m     \u001b[38;5;28;01mfor\u001b[39;00m l \u001b[38;5;129;01min\u001b[39;00m \u001b[38;5;28mself\u001b[39m:\n\u001b[1;32m--> 457\u001b[0m         \u001b[43ml\u001b[49m\u001b[38;5;241;43m.\u001b[39;49m\u001b[43mcompute_aesthetics\u001b[49m\u001b[43m(\u001b[49m\u001b[43mplot\u001b[49m\u001b[43m)\u001b[49m\n",
      "File \u001b[1;32mc:\\Users\\felip\\workspace\\python_work\\bk_data_analysis\\.venv\\Lib\\site-packages\\plotnine\\layer.py:260\u001b[0m, in \u001b[0;36mlayer.compute_aesthetics\u001b[1;34m(self, plot)\u001b[0m\n\u001b[0;32m    253\u001b[0m \u001b[38;5;28;01mdef\u001b[39;00m \u001b[38;5;21mcompute_aesthetics\u001b[39m(\u001b[38;5;28mself\u001b[39m, plot: ggplot):\n\u001b[0;32m    254\u001b[0m \u001b[38;5;250m    \u001b[39m\u001b[38;5;124;03m\"\"\"\u001b[39;00m\n\u001b[0;32m    255\u001b[0m \u001b[38;5;124;03m    Return a dataframe where the columns match the aesthetic mappings\u001b[39;00m\n\u001b[0;32m    256\u001b[0m \n\u001b[0;32m    257\u001b[0m \u001b[38;5;124;03m    Transformations like 'factor(cyl)' and other\u001b[39;00m\n\u001b[0;32m    258\u001b[0m \u001b[38;5;124;03m    expression evaluation are  made in here\u001b[39;00m\n\u001b[0;32m    259\u001b[0m \u001b[38;5;124;03m    \"\"\"\u001b[39;00m\n\u001b[1;32m--> 260\u001b[0m     evaled \u001b[38;5;241m=\u001b[39m \u001b[43mevaluate\u001b[49m\u001b[43m(\u001b[49m\u001b[38;5;28;43mself\u001b[39;49m\u001b[38;5;241;43m.\u001b[39;49m\u001b[43mmapping\u001b[49m\u001b[38;5;241;43m.\u001b[39;49m\u001b[43m_starting\u001b[49m\u001b[43m,\u001b[49m\u001b[43m \u001b[49m\u001b[38;5;28;43mself\u001b[39;49m\u001b[38;5;241;43m.\u001b[39;49m\u001b[43mdata\u001b[49m\u001b[43m,\u001b[49m\u001b[43m \u001b[49m\u001b[43mplot\u001b[49m\u001b[38;5;241;43m.\u001b[39;49m\u001b[43menvironment\u001b[49m\u001b[43m)\u001b[49m\n\u001b[0;32m    261\u001b[0m     evaled_aes \u001b[38;5;241m=\u001b[39m aes(\u001b[38;5;241m*\u001b[39m\u001b[38;5;241m*\u001b[39m{\u001b[38;5;28mstr\u001b[39m(col): col \u001b[38;5;28;01mfor\u001b[39;00m col \u001b[38;5;129;01min\u001b[39;00m evaled})\n\u001b[0;32m    262\u001b[0m     plot\u001b[38;5;241m.\u001b[39mscales\u001b[38;5;241m.\u001b[39madd_defaults(evaled, evaled_aes)\n",
      "File \u001b[1;32mc:\\Users\\felip\\workspace\\python_work\\bk_data_analysis\\.venv\\Lib\\site-packages\\plotnine\\mapping\\evaluation.py:243\u001b[0m, in \u001b[0;36mevaluate\u001b[1;34m(aesthetics, data, env)\u001b[0m\n\u001b[0;32m    238\u001b[0m     \u001b[38;5;28;01mif\u001b[39;00m \u001b[38;5;28mlen\u001b[39m(data) \u001b[38;5;129;01mand\u001b[39;00m n \u001b[38;5;241m!=\u001b[39m \u001b[38;5;28mlen\u001b[39m(data) \u001b[38;5;129;01mand\u001b[39;00m n \u001b[38;5;241m!=\u001b[39m \u001b[38;5;241m1\u001b[39m:\n\u001b[0;32m    239\u001b[0m         msg \u001b[38;5;241m=\u001b[39m (\n\u001b[0;32m    240\u001b[0m             \u001b[38;5;124m\"\u001b[39m\u001b[38;5;124mAesthetics must either be length one, \u001b[39m\u001b[38;5;124m\"\u001b[39m\n\u001b[0;32m    241\u001b[0m             \u001b[38;5;124m\"\u001b[39m\u001b[38;5;124mor the same length as the data\u001b[39m\u001b[38;5;124m\"\u001b[39m\n\u001b[0;32m    242\u001b[0m         )\n\u001b[1;32m--> 243\u001b[0m         \u001b[38;5;28;01mraise\u001b[39;00m PlotnineError(msg)\n\u001b[0;32m    244\u001b[0m     evaled[ae] \u001b[38;5;241m=\u001b[39m col\n\u001b[0;32m    245\u001b[0m \u001b[38;5;28;01melif\u001b[39;00m is_known_scalar(col):\n",
      "\u001b[1;31mPlotnineError\u001b[0m: 'Aesthetics must either be length one, or the same length as the data'"
     ]
    },
    {
     "ename": "PlotnineError",
     "evalue": "'Aesthetics must either be length one, or the same length as the data'",
     "output_type": "error",
     "traceback": [
      "\u001b[1;31m---------------------------------------------------------------------------\u001b[0m",
      "\u001b[1;31mPlotnineError\u001b[0m                             Traceback (most recent call last)",
      "File \u001b[1;32mc:\\Users\\felip\\workspace\\python_work\\bk_data_analysis\\.venv\\Lib\\site-packages\\IPython\\core\\formatters.py:711\u001b[0m, in \u001b[0;36mPlainTextFormatter.__call__\u001b[1;34m(self, obj)\u001b[0m\n\u001b[0;32m    704\u001b[0m stream \u001b[38;5;241m=\u001b[39m StringIO()\n\u001b[0;32m    705\u001b[0m printer \u001b[38;5;241m=\u001b[39m pretty\u001b[38;5;241m.\u001b[39mRepresentationPrinter(stream, \u001b[38;5;28mself\u001b[39m\u001b[38;5;241m.\u001b[39mverbose,\n\u001b[0;32m    706\u001b[0m     \u001b[38;5;28mself\u001b[39m\u001b[38;5;241m.\u001b[39mmax_width, \u001b[38;5;28mself\u001b[39m\u001b[38;5;241m.\u001b[39mnewline,\n\u001b[0;32m    707\u001b[0m     max_seq_length\u001b[38;5;241m=\u001b[39m\u001b[38;5;28mself\u001b[39m\u001b[38;5;241m.\u001b[39mmax_seq_length,\n\u001b[0;32m    708\u001b[0m     singleton_pprinters\u001b[38;5;241m=\u001b[39m\u001b[38;5;28mself\u001b[39m\u001b[38;5;241m.\u001b[39msingleton_printers,\n\u001b[0;32m    709\u001b[0m     type_pprinters\u001b[38;5;241m=\u001b[39m\u001b[38;5;28mself\u001b[39m\u001b[38;5;241m.\u001b[39mtype_printers,\n\u001b[0;32m    710\u001b[0m     deferred_pprinters\u001b[38;5;241m=\u001b[39m\u001b[38;5;28mself\u001b[39m\u001b[38;5;241m.\u001b[39mdeferred_printers)\n\u001b[1;32m--> 711\u001b[0m \u001b[43mprinter\u001b[49m\u001b[38;5;241;43m.\u001b[39;49m\u001b[43mpretty\u001b[49m\u001b[43m(\u001b[49m\u001b[43mobj\u001b[49m\u001b[43m)\u001b[49m\n\u001b[0;32m    712\u001b[0m printer\u001b[38;5;241m.\u001b[39mflush()\n\u001b[0;32m    713\u001b[0m \u001b[38;5;28;01mreturn\u001b[39;00m stream\u001b[38;5;241m.\u001b[39mgetvalue()\n",
      "File \u001b[1;32mc:\\Users\\felip\\workspace\\python_work\\bk_data_analysis\\.venv\\Lib\\site-packages\\IPython\\lib\\pretty.py:419\u001b[0m, in \u001b[0;36mRepresentationPrinter.pretty\u001b[1;34m(self, obj)\u001b[0m\n\u001b[0;32m    408\u001b[0m                         \u001b[38;5;28;01mreturn\u001b[39;00m meth(obj, \u001b[38;5;28mself\u001b[39m, cycle)\n\u001b[0;32m    409\u001b[0m                 \u001b[38;5;28;01mif\u001b[39;00m (\n\u001b[0;32m    410\u001b[0m                     \u001b[38;5;28mcls\u001b[39m \u001b[38;5;129;01mis\u001b[39;00m \u001b[38;5;129;01mnot\u001b[39;00m \u001b[38;5;28mobject\u001b[39m\n\u001b[0;32m    411\u001b[0m                     \u001b[38;5;66;03m# check if cls defines __repr__\u001b[39;00m\n\u001b[1;32m   (...)\u001b[0m\n\u001b[0;32m    417\u001b[0m                     \u001b[38;5;129;01mand\u001b[39;00m \u001b[38;5;28mcallable\u001b[39m(_safe_getattr(\u001b[38;5;28mcls\u001b[39m, \u001b[38;5;124m\"\u001b[39m\u001b[38;5;124m__repr__\u001b[39m\u001b[38;5;124m\"\u001b[39m, \u001b[38;5;28;01mNone\u001b[39;00m))\n\u001b[0;32m    418\u001b[0m                 ):\n\u001b[1;32m--> 419\u001b[0m                     \u001b[38;5;28;01mreturn\u001b[39;00m \u001b[43m_repr_pprint\u001b[49m\u001b[43m(\u001b[49m\u001b[43mobj\u001b[49m\u001b[43m,\u001b[49m\u001b[43m \u001b[49m\u001b[38;5;28;43mself\u001b[39;49m\u001b[43m,\u001b[49m\u001b[43m \u001b[49m\u001b[43mcycle\u001b[49m\u001b[43m)\u001b[49m\n\u001b[0;32m    421\u001b[0m     \u001b[38;5;28;01mreturn\u001b[39;00m _default_pprint(obj, \u001b[38;5;28mself\u001b[39m, cycle)\n\u001b[0;32m    422\u001b[0m \u001b[38;5;28;01mfinally\u001b[39;00m:\n",
      "File \u001b[1;32mc:\\Users\\felip\\workspace\\python_work\\bk_data_analysis\\.venv\\Lib\\site-packages\\IPython\\lib\\pretty.py:787\u001b[0m, in \u001b[0;36m_repr_pprint\u001b[1;34m(obj, p, cycle)\u001b[0m\n\u001b[0;32m    785\u001b[0m \u001b[38;5;250m\u001b[39m\u001b[38;5;124;03m\"\"\"A pprint that just redirects to the normal repr function.\"\"\"\u001b[39;00m\n\u001b[0;32m    786\u001b[0m \u001b[38;5;66;03m# Find newlines and replace them with p.break_()\u001b[39;00m\n\u001b[1;32m--> 787\u001b[0m output \u001b[38;5;241m=\u001b[39m \u001b[38;5;28mrepr\u001b[39m(obj)\n\u001b[0;32m    788\u001b[0m lines \u001b[38;5;241m=\u001b[39m output\u001b[38;5;241m.\u001b[39msplitlines()\n\u001b[0;32m    789\u001b[0m \u001b[38;5;28;01mwith\u001b[39;00m p\u001b[38;5;241m.\u001b[39mgroup():\n",
      "File \u001b[1;32mc:\\Users\\felip\\workspace\\python_work\\bk_data_analysis\\.venv\\Lib\\site-packages\\plotnine\\ggplot.py:131\u001b[0m, in \u001b[0;36mggplot.__repr__\u001b[1;34m(self)\u001b[0m\n\u001b[0;32m    125\u001b[0m msg \u001b[38;5;241m=\u001b[39m (\n\u001b[0;32m    126\u001b[0m     \u001b[38;5;124m\"\u001b[39m\u001b[38;5;124mUsing repr(plot) to draw and show the plot figure is \u001b[39m\u001b[38;5;124m\"\u001b[39m\n\u001b[0;32m    127\u001b[0m     \u001b[38;5;124m\"\u001b[39m\u001b[38;5;124mdeprecated and will be removed in a future version. \u001b[39m\u001b[38;5;124m\"\u001b[39m\n\u001b[0;32m    128\u001b[0m     \u001b[38;5;124m\"\u001b[39m\u001b[38;5;124mUse plot.show().\u001b[39m\u001b[38;5;124m\"\u001b[39m\n\u001b[0;32m    129\u001b[0m )\n\u001b[0;32m    130\u001b[0m warn(msg, category\u001b[38;5;241m=\u001b[39m\u001b[38;5;167;01mFutureWarning\u001b[39;00m, stacklevel\u001b[38;5;241m=\u001b[39m\u001b[38;5;241m2\u001b[39m)\n\u001b[1;32m--> 131\u001b[0m \u001b[38;5;28;43mself\u001b[39;49m\u001b[38;5;241;43m.\u001b[39;49m\u001b[43mshow\u001b[49m\u001b[43m(\u001b[49m\u001b[43m)\u001b[49m\n\u001b[0;32m    132\u001b[0m \u001b[38;5;28;01mreturn\u001b[39;00m \u001b[38;5;124mf\u001b[39m\u001b[38;5;124m\"\u001b[39m\u001b[38;5;124m<Figure Size: (\u001b[39m\u001b[38;5;132;01m{\u001b[39;00mW\u001b[38;5;132;01m}\u001b[39;00m\u001b[38;5;124m x \u001b[39m\u001b[38;5;132;01m{\u001b[39;00mH\u001b[38;5;132;01m}\u001b[39;00m\u001b[38;5;124m)>\u001b[39m\u001b[38;5;124m\"\u001b[39m\n",
      "File \u001b[1;32mc:\\Users\\felip\\workspace\\python_work\\bk_data_analysis\\.venv\\Lib\\site-packages\\plotnine\\ggplot.py:150\u001b[0m, in \u001b[0;36mggplot.show\u001b[1;34m(self)\u001b[0m\n\u001b[0;32m    143\u001b[0m \u001b[38;5;28;01mdef\u001b[39;00m \u001b[38;5;21mshow\u001b[39m(\u001b[38;5;28mself\u001b[39m):\n\u001b[0;32m    144\u001b[0m \u001b[38;5;250m    \u001b[39m\u001b[38;5;124;03m\"\"\"\u001b[39;00m\n\u001b[0;32m    145\u001b[0m \u001b[38;5;124;03m    Show plot using the matplotlib backend set by the user\u001b[39;00m\n\u001b[0;32m    146\u001b[0m \n\u001b[0;32m    147\u001b[0m \u001b[38;5;124;03m    Users should prefer this method instead of printing or repring\u001b[39;00m\n\u001b[0;32m    148\u001b[0m \u001b[38;5;124;03m    the object.\u001b[39;00m\n\u001b[0;32m    149\u001b[0m \u001b[38;5;124;03m    \"\"\"\u001b[39;00m\n\u001b[1;32m--> 150\u001b[0m     \u001b[38;5;28mself\u001b[39m\u001b[38;5;241m.\u001b[39m_display() \u001b[38;5;28;01mif\u001b[39;00m is_inline_backend() \u001b[38;5;28;01melse\u001b[39;00m \u001b[38;5;28;43mself\u001b[39;49m\u001b[38;5;241;43m.\u001b[39;49m\u001b[43mdraw\u001b[49m\u001b[43m(\u001b[49m\u001b[43mshow\u001b[49m\u001b[38;5;241;43m=\u001b[39;49m\u001b[38;5;28;43;01mTrue\u001b[39;49;00m\u001b[43m)\u001b[49m\n",
      "File \u001b[1;32mc:\\Users\\felip\\workspace\\python_work\\bk_data_analysis\\.venv\\Lib\\site-packages\\plotnine\\ggplot.py:272\u001b[0m, in \u001b[0;36mggplot.draw\u001b[1;34m(self, show)\u001b[0m\n\u001b[0;32m    270\u001b[0m \u001b[38;5;28mself\u001b[39m \u001b[38;5;241m=\u001b[39m deepcopy(\u001b[38;5;28mself\u001b[39m)\n\u001b[0;32m    271\u001b[0m \u001b[38;5;28;01mwith\u001b[39;00m plot_context(\u001b[38;5;28mself\u001b[39m, show\u001b[38;5;241m=\u001b[39mshow):\n\u001b[1;32m--> 272\u001b[0m     \u001b[38;5;28;43mself\u001b[39;49m\u001b[38;5;241;43m.\u001b[39;49m\u001b[43m_build\u001b[49m\u001b[43m(\u001b[49m\u001b[43m)\u001b[49m\n\u001b[0;32m    274\u001b[0m     \u001b[38;5;66;03m# setup\u001b[39;00m\n\u001b[0;32m    275\u001b[0m     \u001b[38;5;28mself\u001b[39m\u001b[38;5;241m.\u001b[39mfigure, \u001b[38;5;28mself\u001b[39m\u001b[38;5;241m.\u001b[39maxs \u001b[38;5;241m=\u001b[39m \u001b[38;5;28mself\u001b[39m\u001b[38;5;241m.\u001b[39mfacet\u001b[38;5;241m.\u001b[39msetup(\u001b[38;5;28mself\u001b[39m)\n",
      "File \u001b[1;32mc:\\Users\\felip\\workspace\\python_work\\bk_data_analysis\\.venv\\Lib\\site-packages\\plotnine\\ggplot.py:362\u001b[0m, in \u001b[0;36mggplot._build\u001b[1;34m(self)\u001b[0m\n\u001b[0;32m    358\u001b[0m layout\u001b[38;5;241m.\u001b[39msetup(layers, \u001b[38;5;28mself\u001b[39m)\n\u001b[0;32m    360\u001b[0m \u001b[38;5;66;03m# Compute aesthetics to produce data with generalised\u001b[39;00m\n\u001b[0;32m    361\u001b[0m \u001b[38;5;66;03m# variable names\u001b[39;00m\n\u001b[1;32m--> 362\u001b[0m \u001b[43mlayers\u001b[49m\u001b[38;5;241;43m.\u001b[39;49m\u001b[43mcompute_aesthetics\u001b[49m\u001b[43m(\u001b[49m\u001b[38;5;28;43mself\u001b[39;49m\u001b[43m)\u001b[49m\n\u001b[0;32m    364\u001b[0m \u001b[38;5;66;03m# Transform data using all scales\u001b[39;00m\n\u001b[0;32m    365\u001b[0m layers\u001b[38;5;241m.\u001b[39mtransform(scales)\n",
      "File \u001b[1;32mc:\\Users\\felip\\workspace\\python_work\\bk_data_analysis\\.venv\\Lib\\site-packages\\plotnine\\layer.py:457\u001b[0m, in \u001b[0;36mLayers.compute_aesthetics\u001b[1;34m(self, plot)\u001b[0m\n\u001b[0;32m    455\u001b[0m \u001b[38;5;28;01mdef\u001b[39;00m \u001b[38;5;21mcompute_aesthetics\u001b[39m(\u001b[38;5;28mself\u001b[39m, plot: ggplot):\n\u001b[0;32m    456\u001b[0m     \u001b[38;5;28;01mfor\u001b[39;00m l \u001b[38;5;129;01min\u001b[39;00m \u001b[38;5;28mself\u001b[39m:\n\u001b[1;32m--> 457\u001b[0m         \u001b[43ml\u001b[49m\u001b[38;5;241;43m.\u001b[39;49m\u001b[43mcompute_aesthetics\u001b[49m\u001b[43m(\u001b[49m\u001b[43mplot\u001b[49m\u001b[43m)\u001b[49m\n",
      "File \u001b[1;32mc:\\Users\\felip\\workspace\\python_work\\bk_data_analysis\\.venv\\Lib\\site-packages\\plotnine\\layer.py:260\u001b[0m, in \u001b[0;36mlayer.compute_aesthetics\u001b[1;34m(self, plot)\u001b[0m\n\u001b[0;32m    253\u001b[0m \u001b[38;5;28;01mdef\u001b[39;00m \u001b[38;5;21mcompute_aesthetics\u001b[39m(\u001b[38;5;28mself\u001b[39m, plot: ggplot):\n\u001b[0;32m    254\u001b[0m \u001b[38;5;250m    \u001b[39m\u001b[38;5;124;03m\"\"\"\u001b[39;00m\n\u001b[0;32m    255\u001b[0m \u001b[38;5;124;03m    Return a dataframe where the columns match the aesthetic mappings\u001b[39;00m\n\u001b[0;32m    256\u001b[0m \n\u001b[0;32m    257\u001b[0m \u001b[38;5;124;03m    Transformations like 'factor(cyl)' and other\u001b[39;00m\n\u001b[0;32m    258\u001b[0m \u001b[38;5;124;03m    expression evaluation are  made in here\u001b[39;00m\n\u001b[0;32m    259\u001b[0m \u001b[38;5;124;03m    \"\"\"\u001b[39;00m\n\u001b[1;32m--> 260\u001b[0m     evaled \u001b[38;5;241m=\u001b[39m \u001b[43mevaluate\u001b[49m\u001b[43m(\u001b[49m\u001b[38;5;28;43mself\u001b[39;49m\u001b[38;5;241;43m.\u001b[39;49m\u001b[43mmapping\u001b[49m\u001b[38;5;241;43m.\u001b[39;49m\u001b[43m_starting\u001b[49m\u001b[43m,\u001b[49m\u001b[43m \u001b[49m\u001b[38;5;28;43mself\u001b[39;49m\u001b[38;5;241;43m.\u001b[39;49m\u001b[43mdata\u001b[49m\u001b[43m,\u001b[49m\u001b[43m \u001b[49m\u001b[43mplot\u001b[49m\u001b[38;5;241;43m.\u001b[39;49m\u001b[43menvironment\u001b[49m\u001b[43m)\u001b[49m\n\u001b[0;32m    261\u001b[0m     evaled_aes \u001b[38;5;241m=\u001b[39m aes(\u001b[38;5;241m*\u001b[39m\u001b[38;5;241m*\u001b[39m{\u001b[38;5;28mstr\u001b[39m(col): col \u001b[38;5;28;01mfor\u001b[39;00m col \u001b[38;5;129;01min\u001b[39;00m evaled})\n\u001b[0;32m    262\u001b[0m     plot\u001b[38;5;241m.\u001b[39mscales\u001b[38;5;241m.\u001b[39madd_defaults(evaled, evaled_aes)\n",
      "File \u001b[1;32mc:\\Users\\felip\\workspace\\python_work\\bk_data_analysis\\.venv\\Lib\\site-packages\\plotnine\\mapping\\evaluation.py:243\u001b[0m, in \u001b[0;36mevaluate\u001b[1;34m(aesthetics, data, env)\u001b[0m\n\u001b[0;32m    238\u001b[0m     \u001b[38;5;28;01mif\u001b[39;00m \u001b[38;5;28mlen\u001b[39m(data) \u001b[38;5;129;01mand\u001b[39;00m n \u001b[38;5;241m!=\u001b[39m \u001b[38;5;28mlen\u001b[39m(data) \u001b[38;5;129;01mand\u001b[39;00m n \u001b[38;5;241m!=\u001b[39m \u001b[38;5;241m1\u001b[39m:\n\u001b[0;32m    239\u001b[0m         msg \u001b[38;5;241m=\u001b[39m (\n\u001b[0;32m    240\u001b[0m             \u001b[38;5;124m\"\u001b[39m\u001b[38;5;124mAesthetics must either be length one, \u001b[39m\u001b[38;5;124m\"\u001b[39m\n\u001b[0;32m    241\u001b[0m             \u001b[38;5;124m\"\u001b[39m\u001b[38;5;124mor the same length as the data\u001b[39m\u001b[38;5;124m\"\u001b[39m\n\u001b[0;32m    242\u001b[0m         )\n\u001b[1;32m--> 243\u001b[0m         \u001b[38;5;28;01mraise\u001b[39;00m PlotnineError(msg)\n\u001b[0;32m    244\u001b[0m     evaled[ae] \u001b[38;5;241m=\u001b[39m col\n\u001b[0;32m    245\u001b[0m \u001b[38;5;28;01melif\u001b[39;00m is_known_scalar(col):\n",
      "\u001b[1;31mPlotnineError\u001b[0m: 'Aesthetics must either be length one, or the same length as the data'"
     ]
    }
   ],
   "source": [
    "ggplot(n_obs_df, aes(n_obs_1000[1:])) + geom_histogram(\n",
    "    binwidth=0.1, color=\"white\", fill=color[0], alpha=0.8, center=0.75, closed=\"left\",\n",
    ") + labs(x=\"Percent of days of losses of 5% or more\", y=\"Frequency\") + geom_vline(\n",
    "    aes(xintercept=np.mean(pd.Series(n_obs_1000).dropna())), color=color[1], size=0.7\n",
    ") + coord_cartesian(\n",
    "    xlim=[2, 6], ylim=(0, 1000)\n",
    ") + scale_x_continuous(\n",
    "    expand=(0.1, 0.1), limits=(2, 6), breaks=seq(2, 6, 0.5)\n",
    ") + scale_y_continuous(\n",
    "    expand=(0.00, 0.00), limits=(0, 1000), breaks=seq(0, 1001, 250)\n",
    ") + geom_segment(\n",
    "    aes(x=4.3, y=900, xend=3.9, yend=900)\n",
    ") + annotate(\n",
    "    \"text\", x=4.5, y=900, label=\"Mean\", size=12\n",
    ") + theme_bw()"
   ]
  },
  {
   "cell_type": "code",
   "execution_count": 76,
   "metadata": {},
   "outputs": [
    {
     "data": {
      "text/plain": [
       "np.float64(0.0)"
      ]
     },
     "execution_count": 76,
     "metadata": {},
     "output_type": "execute_result"
    }
   ],
   "source": [
    "standard_error = np.std(n_obs_df[\"n_obs_1000\"])\n",
    "standard_error"
   ]
  },
  {
   "cell_type": "markdown",
   "metadata": {},
   "source": [
    "Our standard error for the sample is 0.61%, which means that we can expect a value of 0.61% off from the mean across our samples, which was around 3.9%. We know this is the standard error because we calculated the standard deviation from the distribution over the fraction of 5%+ losses."
   ]
  },
  {
   "cell_type": "code",
   "execution_count": 77,
   "metadata": {},
   "outputs": [
    {
     "data": {
      "text/html": [
       "<div>\n",
       "<style scoped>\n",
       "    .dataframe tbody tr th:only-of-type {\n",
       "        vertical-align: middle;\n",
       "    }\n",
       "\n",
       "    .dataframe tbody tr th {\n",
       "        vertical-align: top;\n",
       "    }\n",
       "\n",
       "    .dataframe thead th {\n",
       "        text-align: right;\n",
       "    }\n",
       "</style>\n",
       "<table border=\"1\" class=\"dataframe\">\n",
       "  <thead>\n",
       "    <tr style=\"text-align: right;\">\n",
       "      <th></th>\n",
       "      <th>n_obs_500</th>\n",
       "      <th>n_obs_1000</th>\n",
       "    </tr>\n",
       "  </thead>\n",
       "  <tbody>\n",
       "    <tr>\n",
       "      <th>count</th>\n",
       "      <td>10001.0</td>\n",
       "      <td>10001.0</td>\n",
       "    </tr>\n",
       "    <tr>\n",
       "      <th>mean</th>\n",
       "      <td>0.0</td>\n",
       "      <td>0.0</td>\n",
       "    </tr>\n",
       "    <tr>\n",
       "      <th>std</th>\n",
       "      <td>0.0</td>\n",
       "      <td>0.0</td>\n",
       "    </tr>\n",
       "    <tr>\n",
       "      <th>min</th>\n",
       "      <td>0.0</td>\n",
       "      <td>0.0</td>\n",
       "    </tr>\n",
       "    <tr>\n",
       "      <th>25%</th>\n",
       "      <td>0.0</td>\n",
       "      <td>0.0</td>\n",
       "    </tr>\n",
       "    <tr>\n",
       "      <th>50%</th>\n",
       "      <td>0.0</td>\n",
       "      <td>0.0</td>\n",
       "    </tr>\n",
       "    <tr>\n",
       "      <th>75%</th>\n",
       "      <td>0.0</td>\n",
       "      <td>0.0</td>\n",
       "    </tr>\n",
       "    <tr>\n",
       "      <th>max</th>\n",
       "      <td>0.0</td>\n",
       "      <td>0.0</td>\n",
       "    </tr>\n",
       "  </tbody>\n",
       "</table>\n",
       "</div>"
      ],
      "text/plain": [
       "       n_obs_500  n_obs_1000\n",
       "count    10001.0     10001.0\n",
       "mean         0.0         0.0\n",
       "std          0.0         0.0\n",
       "min          0.0         0.0\n",
       "25%          0.0         0.0\n",
       "50%          0.0         0.0\n",
       "75%          0.0         0.0\n",
       "max          0.0         0.0"
      ]
     },
     "execution_count": 77,
     "metadata": {},
     "output_type": "execute_result"
    }
   ],
   "source": [
    "n_obs_df.describe()"
   ]
  },
  {
   "cell_type": "markdown",
   "metadata": {},
   "source": [
    "**Sampling properties**:\n",
    "- The average of the values in repeated samples is approximately **equal to its true value** (the value in the entire population, or general pattern, represented by our data).\n",
    "    - This is called **unbiasedness**. \n",
    "- The sampling distribution is approximately normal.\n",
    "    - **Asymptotic normality**\n",
    "- The standard error is **smaller** in the **larger sample**.\n",
    "    - **Root-n convergence**. The standard error is **inversely proportional** to the **square root of the sample size**.\n",
    "    - So, in very large samples, the standard deviation can shrink to zero.\n",
    "\n",
    "## Sampling distribution with different sample sizes ##\n",
    "How does the spread of the distribution behave when using different sample sizes? We can now plot a histogram with samples of 500 days and compare its distribution with that of a sample of n=1000. First, we can plot the kernel density estimator."
   ]
  },
  {
   "cell_type": "code",
   "execution_count": 78,
   "metadata": {},
   "outputs": [
    {
     "data": {
      "image/png": "[encoded data removed]"
     },
     "metadata": {
      "image/png": {
       "height": 480,
       "width": 640
      }
     },
     "output_type": "display_data"
    }
   ],
   "source": [
    "ggplot(n_obs_df) + stat_density(\n",
    "    aes(x=\"n_obs_1000\"), color=color[0], geom=\"line\", bw=0.45, size=1\n",
    ") + stat_density(\n",
    "    aes(\"n_obs_500\"), color=color[1], geom=\"line\", bw=0.45, linetype=\"dashdot\", size=1\n",
    ") + labs(\n",
    "    x=\"Percent of days with losses over 5%\", y=\"Density\"\n",
    ")+ geom_vline(\n",
    "    xintercept=3.89, color=color[2], size=0.7, linetype=\"dashed\"\n",
    ") + geom_segment(\n",
    "    aes(x=3.91, y=0.6, xend=4.5, yend=.6),\n",
    "    size=0.5\n",
    ") + annotate(\n",
    "    \"text\", x=5.5, y=0.6, label=\"Larger sample\", size=12\n",
    ") + geom_segment(\n",
    "    aes(x=3.91, y=0.45, xend=4.5, yend=0.45), size=0.5\n",
    ") + annotate(\n",
    "    \"text\", x=5.5, y=0.45, label=\"Smaller sample\", size=12\n",
    ") + scale_x_continuous(\n",
    "    expand=(0.01, 0.01), limits=(0, 8), breaks=seq(0, 8, 0.5)\n",
    ") + scale_y_continuous(\n",
    "    expand=(0.00, 0.00), limits=(0, 1), breaks=seq(0, 0.81, 0.2)\n",
    ") + theme_bw() + theme(\n",
    "    legend_position=\"none\"\n",
    ")"
   ]
  },
  {
   "cell_type": "code",
   "execution_count": 79,
   "metadata": {},
   "outputs": [
    {
     "data": {
      "image/png": "[encoded data removed]"
     },
     "metadata": {
      "image/png": {
       "height": 480,
       "width": 640
      }
     },
     "output_type": "display_data"
    }
   ],
   "source": [
    "ggplot(n_obs_df) + geom_histogram(\n",
    "    aes(x=\"n_obs_500\", y=\"stat(count)/sum(stat(count))*100\"),\n",
    "    color=color[0],\n",
    "    fill=\"blue\",\n",
    "    binwidth=0.2,\n",
    "    center=0.5,\n",
    "    size=0.7,\n",
    "    alpha=0.4,\n",
    "    closed=\"left\"\n",
    ") + geom_histogram(\n",
    "    aes(x=\"n_obs_1000\", y=\"stat(count)/sum(stat(count))*100\"),\n",
    "    color=color[1],\n",
    "    fill=\"green\",\n",
    "    binwidth=0.2,\n",
    "    center=0.5,\n",
    "    size=0.7,\n",
    "    alpha=0.1,\n",
    "    closed=\"left\"\n",
    ") + ylab(\n",
    "    \"Percent\"\n",
    ") + xlab(\n",
    "    \"Percent of days with losses over 5%\"\n",
    ") + scale_x_continuous(\n",
    "    breaks=seq(0, 8, 0.5)\n",
    ") + scale_y_continuous(\n",
    "    expand=(0.00, 0.00), limits=(0, 15), breaks=seq(0, 16, 5)\n",
    ") + scale_color_manual(\n",
    "    labels=(\"N=1000\", \"N=500\"), name=\"\", values=(color[1], color[0])\n",
    ") + scale_alpha_identity() + scale_fill_identity() + theme_bw() + theme(\n",
    "    legend_position=\"none\"\n",
    ")\n"
   ]
  },
  {
   "cell_type": "markdown",
   "metadata": {},
   "source": [
    "Let's recap our tasks:\n",
    " - ~~Document the main features of the data~~ - \n",
    "- ~~Create daily percentage returns~~\n",
    "- ~~Create a binary variable indicating large losses by choosing your own cutoff~~\n",
    "## 4. Estimate the standard error of the estimated likelihood of large daily losses by bootsrap and using the SE formula. ##\n",
    "We already got the standard error using bootstrap. Remember that the SE is squivalent to the standard deviation across the boostrap samples - we know it is **0.47**\n",
    "Remember the **standard error** formula:\n",
    "\n",
    "$SE_x = S /\\sqrt{n}$\n",
    "\n",
    "We can use our original data and obtain the standard error."
   ]
  },
  {
   "cell_type": "code",
   "execution_count": 80,
   "metadata": {},
   "outputs": [
    {
     "name": "stdout",
     "output_type": "stream",
     "text": [
      "The standard error for the proportion of days with 5%+ loss is 0.000%.\n"
     ]
    }
   ],
   "source": [
    "standard_error = sem(petr4_df[\"pct_return\"] <= -5, nan_policy=\"omit\")\n",
    "print(f\"The standard error for the proportion of days with 5%+ loss is {standard_error*100:.3f}%.\")"
   ]
  },
  {
   "cell_type": "code",
   "execution_count": 81,
   "metadata": {},
   "outputs": [
    {
     "data": {
      "text/html": [
       "<div>\n",
       "<style scoped>\n",
       "    .dataframe tbody tr th:only-of-type {\n",
       "        vertical-align: middle;\n",
       "    }\n",
       "\n",
       "    .dataframe tbody tr th {\n",
       "        vertical-align: top;\n",
       "    }\n",
       "\n",
       "    .dataframe thead th {\n",
       "        text-align: right;\n",
       "    }\n",
       "</style>\n",
       "<table border=\"1\" class=\"dataframe\">\n",
       "  <thead>\n",
       "    <tr style=\"text-align: right;\">\n",
       "      <th></th>\n",
       "      <th>n_obs_500</th>\n",
       "      <th>n_obs_1000</th>\n",
       "    </tr>\n",
       "  </thead>\n",
       "  <tbody>\n",
       "    <tr>\n",
       "      <th>count</th>\n",
       "      <td>10001.0</td>\n",
       "      <td>10001.0</td>\n",
       "    </tr>\n",
       "    <tr>\n",
       "      <th>mean</th>\n",
       "      <td>0.0</td>\n",
       "      <td>0.0</td>\n",
       "    </tr>\n",
       "    <tr>\n",
       "      <th>std</th>\n",
       "      <td>0.0</td>\n",
       "      <td>0.0</td>\n",
       "    </tr>\n",
       "    <tr>\n",
       "      <th>min</th>\n",
       "      <td>0.0</td>\n",
       "      <td>0.0</td>\n",
       "    </tr>\n",
       "    <tr>\n",
       "      <th>25%</th>\n",
       "      <td>0.0</td>\n",
       "      <td>0.0</td>\n",
       "    </tr>\n",
       "    <tr>\n",
       "      <th>50%</th>\n",
       "      <td>0.0</td>\n",
       "      <td>0.0</td>\n",
       "    </tr>\n",
       "    <tr>\n",
       "      <th>75%</th>\n",
       "      <td>0.0</td>\n",
       "      <td>0.0</td>\n",
       "    </tr>\n",
       "    <tr>\n",
       "      <th>max</th>\n",
       "      <td>0.0</td>\n",
       "      <td>0.0</td>\n",
       "    </tr>\n",
       "  </tbody>\n",
       "</table>\n",
       "</div>"
      ],
      "text/plain": [
       "       n_obs_500  n_obs_1000\n",
       "count    10001.0     10001.0\n",
       "mean         0.0         0.0\n",
       "std          0.0         0.0\n",
       "min          0.0         0.0\n",
       "25%          0.0         0.0\n",
       "50%          0.0         0.0\n",
       "75%          0.0         0.0\n",
       "max          0.0         0.0"
      ]
     },
     "execution_count": 81,
     "metadata": {},
     "output_type": "execute_result"
    }
   ],
   "source": [
    "n_obs_df.describe()"
   ]
  },
  {
   "cell_type": "markdown",
   "metadata": {},
   "source": [
    "Findings:\n",
    "The observed decrease in the standard error (SE) from 0.85% with 500 observations to 0.61% with 1000 observations in our bootstrapping analysis is a reflection of a fundamental statistical principle: as the sample size increases, the precision of the estimate improves. This principle is rooted in the law of large numbers, which states that as the number of trials (or sample size) increases, the actual ratio of outcomes will converge on the theoretical, or expected, ratio of outcomes.\n",
    "\n",
    "In the context of bootstrapping, each \"observation\" is actually a bootstrap sample, and the standard error measures the variability or spread of the bootstrapped estimates around their mean. A smaller standard error indicates that the bootstrapped estimates are more tightly clustered around the mean, suggesting a more precise estimate of the parameter being measured—in this case, the proportion of days with losses greater than 5%.\n",
    "\n",
    "The decrease in SE with larger bootstrap samples (from 0.85% with 500 observations to 0.61% with 1000 observations) suggests that increasing the number of observations in each bootstrap sample leads to a more accurate and stable estimate of the proportion of interest. This is because larger samples are more likely to closely resemble the population from which they are drawn, capturing a more representative mix of the underlying variability and reducing the impact of random fluctuations or outliers.\n",
    "\n",
    "In summary, the observed decrease in standard error with increased sample size in our bootstrapping analysis underscores the importance of sample size in statistical estimation. It demonstrates how larger samples can provide more reliable and precise estimates, a key consideration in statistical analysis and decision-making based on data.\n",
    "\n",
    "## 5. Compare the two, and create 95% confidence intervals ##\n",
    "\n",
    "We can now create our CI intervals. Going back to our task, our goal was:\n",
    "- To estimate the CI for the proportion of days with large negative returns.\n",
    "- We estimate that proportion from the data - we know that it is 3.9%.\n",
    "Then, we estimate its standard error.\n",
    "\n",
    "Following, we measure plus and minus two SE around this 3.9% value. We will get the 95% CI that tells us where to expect the majority of days with large negative returns in the general pattern represented by our data.\n",
    "\n",
    "Now, we can estimate the SE by boostrap. We calculate the proportions of days with 5%+ loss in each sample. We save this value, go back to the original data and take another bootstramp sample, calculating this same proportion of losses and saving this value once again. We end up with a new data table, in which one observation stands for one bootstrap sample. \n",
    "\n"
   ]
  },
  {
   "cell_type": "code",
   "execution_count": 82,
   "metadata": {},
   "outputs": [],
   "source": [
    "# bootstrap samples\n",
    "np.random.seed = 573164\n",
    "M = 10000\n",
    "results = np.zeros((M, 10)) # Create an array to store the results"
   ]
  },
  {
   "cell_type": "markdown",
   "metadata": {},
   "source": [
    "We created an array based on the number of observations (10000) and columns (10). `np.zeros` returns a new array of given shape and type, filled with zeros."
   ]
  },
  {
   "cell_type": "code",
   "execution_count": 83,
   "metadata": {},
   "outputs": [],
   "source": [
    "# Iterate over the range of M, get a random sample of the data and calculate the proportion of days with losses greater than 5%\n",
    "for i in range(1, M+1):\n",
    "    btstrp_sample = np.random.choice(petr4_df[\"pct_return\"], size=petr4_df.shape[0], replace=True)\n",
    "    for j in range(1, 11):\n",
    "        loss = pd.Series(btstrp_sample<=(-j)).apply(lambda x: float(x)) * 100\n",
    "        results[i -1, j - 1] = np.mean(loss)"
   ]
  },
  {
   "cell_type": "code",
   "execution_count": 84,
   "metadata": {},
   "outputs": [],
   "source": [
    "results = pd.DataFrame(\n",
    "    results,\n",
    "    columns=[\n",
    "        \"loss1\",\n",
    "        \"loss2\",\n",
    "        \"loss3\",\n",
    "        \"loss4\",\n",
    "        \"loss5\",\n",
    "        \"loss6\",\n",
    "        \"loss7\",\n",
    "        \"loss8\",\n",
    "        \"loss9\",\n",
    "        \"loss10\",\n",
    "        ]\n",
    ")"
   ]
  },
  {
   "cell_type": "code",
   "execution_count": 85,
   "metadata": {},
   "outputs": [
    {
     "data": {
      "text/html": [
       "<div>\n",
       "<style scoped>\n",
       "    .dataframe tbody tr th:only-of-type {\n",
       "        vertical-align: middle;\n",
       "    }\n",
       "\n",
       "    .dataframe tbody tr th {\n",
       "        vertical-align: top;\n",
       "    }\n",
       "\n",
       "    .dataframe thead th {\n",
       "        text-align: right;\n",
       "    }\n",
       "</style>\n",
       "<table border=\"1\" class=\"dataframe\">\n",
       "  <thead>\n",
       "    <tr style=\"text-align: right;\">\n",
       "      <th></th>\n",
       "      <th>loss1</th>\n",
       "      <th>loss2</th>\n",
       "      <th>loss3</th>\n",
       "      <th>loss4</th>\n",
       "      <th>loss5</th>\n",
       "      <th>loss6</th>\n",
       "      <th>loss7</th>\n",
       "      <th>loss8</th>\n",
       "      <th>loss9</th>\n",
       "      <th>loss10</th>\n",
       "    </tr>\n",
       "  </thead>\n",
       "  <tbody>\n",
       "    <tr>\n",
       "      <th>0</th>\n",
       "      <td>0.0</td>\n",
       "      <td>0.0</td>\n",
       "      <td>0.0</td>\n",
       "      <td>0.0</td>\n",
       "      <td>0.0</td>\n",
       "      <td>0.0</td>\n",
       "      <td>0.0</td>\n",
       "      <td>0.0</td>\n",
       "      <td>0.0</td>\n",
       "      <td>0.0</td>\n",
       "    </tr>\n",
       "    <tr>\n",
       "      <th>1</th>\n",
       "      <td>0.0</td>\n",
       "      <td>0.0</td>\n",
       "      <td>0.0</td>\n",
       "      <td>0.0</td>\n",
       "      <td>0.0</td>\n",
       "      <td>0.0</td>\n",
       "      <td>0.0</td>\n",
       "      <td>0.0</td>\n",
       "      <td>0.0</td>\n",
       "      <td>0.0</td>\n",
       "    </tr>\n",
       "    <tr>\n",
       "      <th>2</th>\n",
       "      <td>0.0</td>\n",
       "      <td>0.0</td>\n",
       "      <td>0.0</td>\n",
       "      <td>0.0</td>\n",
       "      <td>0.0</td>\n",
       "      <td>0.0</td>\n",
       "      <td>0.0</td>\n",
       "      <td>0.0</td>\n",
       "      <td>0.0</td>\n",
       "      <td>0.0</td>\n",
       "    </tr>\n",
       "    <tr>\n",
       "      <th>3</th>\n",
       "      <td>0.0</td>\n",
       "      <td>0.0</td>\n",
       "      <td>0.0</td>\n",
       "      <td>0.0</td>\n",
       "      <td>0.0</td>\n",
       "      <td>0.0</td>\n",
       "      <td>0.0</td>\n",
       "      <td>0.0</td>\n",
       "      <td>0.0</td>\n",
       "      <td>0.0</td>\n",
       "    </tr>\n",
       "    <tr>\n",
       "      <th>4</th>\n",
       "      <td>0.0</td>\n",
       "      <td>0.0</td>\n",
       "      <td>0.0</td>\n",
       "      <td>0.0</td>\n",
       "      <td>0.0</td>\n",
       "      <td>0.0</td>\n",
       "      <td>0.0</td>\n",
       "      <td>0.0</td>\n",
       "      <td>0.0</td>\n",
       "      <td>0.0</td>\n",
       "    </tr>\n",
       "    <tr>\n",
       "      <th>...</th>\n",
       "      <td>...</td>\n",
       "      <td>...</td>\n",
       "      <td>...</td>\n",
       "      <td>...</td>\n",
       "      <td>...</td>\n",
       "      <td>...</td>\n",
       "      <td>...</td>\n",
       "      <td>...</td>\n",
       "      <td>...</td>\n",
       "      <td>...</td>\n",
       "    </tr>\n",
       "    <tr>\n",
       "      <th>9995</th>\n",
       "      <td>0.0</td>\n",
       "      <td>0.0</td>\n",
       "      <td>0.0</td>\n",
       "      <td>0.0</td>\n",
       "      <td>0.0</td>\n",
       "      <td>0.0</td>\n",
       "      <td>0.0</td>\n",
       "      <td>0.0</td>\n",
       "      <td>0.0</td>\n",
       "      <td>0.0</td>\n",
       "    </tr>\n",
       "    <tr>\n",
       "      <th>9996</th>\n",
       "      <td>0.0</td>\n",
       "      <td>0.0</td>\n",
       "      <td>0.0</td>\n",
       "      <td>0.0</td>\n",
       "      <td>0.0</td>\n",
       "      <td>0.0</td>\n",
       "      <td>0.0</td>\n",
       "      <td>0.0</td>\n",
       "      <td>0.0</td>\n",
       "      <td>0.0</td>\n",
       "    </tr>\n",
       "    <tr>\n",
       "      <th>9997</th>\n",
       "      <td>0.0</td>\n",
       "      <td>0.0</td>\n",
       "      <td>0.0</td>\n",
       "      <td>0.0</td>\n",
       "      <td>0.0</td>\n",
       "      <td>0.0</td>\n",
       "      <td>0.0</td>\n",
       "      <td>0.0</td>\n",
       "      <td>0.0</td>\n",
       "      <td>0.0</td>\n",
       "    </tr>\n",
       "    <tr>\n",
       "      <th>9998</th>\n",
       "      <td>0.0</td>\n",
       "      <td>0.0</td>\n",
       "      <td>0.0</td>\n",
       "      <td>0.0</td>\n",
       "      <td>0.0</td>\n",
       "      <td>0.0</td>\n",
       "      <td>0.0</td>\n",
       "      <td>0.0</td>\n",
       "      <td>0.0</td>\n",
       "      <td>0.0</td>\n",
       "    </tr>\n",
       "    <tr>\n",
       "      <th>9999</th>\n",
       "      <td>0.0</td>\n",
       "      <td>0.0</td>\n",
       "      <td>0.0</td>\n",
       "      <td>0.0</td>\n",
       "      <td>0.0</td>\n",
       "      <td>0.0</td>\n",
       "      <td>0.0</td>\n",
       "      <td>0.0</td>\n",
       "      <td>0.0</td>\n",
       "      <td>0.0</td>\n",
       "    </tr>\n",
       "  </tbody>\n",
       "</table>\n",
       "<p>10000 rows × 10 columns</p>\n",
       "</div>"
      ],
      "text/plain": [
       "      loss1  loss2  loss3  loss4  loss5  loss6  loss7  loss8  loss9  loss10\n",
       "0       0.0    0.0    0.0    0.0    0.0    0.0    0.0    0.0    0.0     0.0\n",
       "1       0.0    0.0    0.0    0.0    0.0    0.0    0.0    0.0    0.0     0.0\n",
       "2       0.0    0.0    0.0    0.0    0.0    0.0    0.0    0.0    0.0     0.0\n",
       "3       0.0    0.0    0.0    0.0    0.0    0.0    0.0    0.0    0.0     0.0\n",
       "4       0.0    0.0    0.0    0.0    0.0    0.0    0.0    0.0    0.0     0.0\n",
       "...     ...    ...    ...    ...    ...    ...    ...    ...    ...     ...\n",
       "9995    0.0    0.0    0.0    0.0    0.0    0.0    0.0    0.0    0.0     0.0\n",
       "9996    0.0    0.0    0.0    0.0    0.0    0.0    0.0    0.0    0.0     0.0\n",
       "9997    0.0    0.0    0.0    0.0    0.0    0.0    0.0    0.0    0.0     0.0\n",
       "9998    0.0    0.0    0.0    0.0    0.0    0.0    0.0    0.0    0.0     0.0\n",
       "9999    0.0    0.0    0.0    0.0    0.0    0.0    0.0    0.0    0.0     0.0\n",
       "\n",
       "[10000 rows x 10 columns]"
      ]
     },
     "execution_count": 85,
     "metadata": {},
     "output_type": "execute_result"
    }
   ],
   "source": [
    "results"
   ]
  },
  {
   "cell_type": "markdown",
   "metadata": {},
   "source": [
    "Now, we want to know the estimated proportion of observations with 5%+ losses. Let's delve into the statistics of `loss5` before plotting the histogram."
   ]
  },
  {
   "cell_type": "code",
   "execution_count": 86,
   "metadata": {},
   "outputs": [
    {
     "data": {
      "text/plain": [
       "count    10000.0\n",
       "mean         0.0\n",
       "std          0.0\n",
       "min          0.0\n",
       "25%          0.0\n",
       "50%          0.0\n",
       "75%          0.0\n",
       "max          0.0\n",
       "Name: loss5, dtype: float64"
      ]
     },
     "execution_count": 86,
     "metadata": {},
     "output_type": "execute_result"
    }
   ],
   "source": [
    "results[\"loss5\"].describe()"
   ]
  },
  {
   "cell_type": "code",
   "execution_count": 87,
   "metadata": {},
   "outputs": [
    {
     "data": {
      "text/html": [
       "<div>\n",
       "<style scoped>\n",
       "    .dataframe tbody tr th:only-of-type {\n",
       "        vertical-align: middle;\n",
       "    }\n",
       "\n",
       "    .dataframe tbody tr th {\n",
       "        vertical-align: top;\n",
       "    }\n",
       "\n",
       "    .dataframe thead th {\n",
       "        text-align: right;\n",
       "    }\n",
       "</style>\n",
       "<table border=\"1\" class=\"dataframe\">\n",
       "  <thead>\n",
       "    <tr style=\"text-align: right;\">\n",
       "      <th></th>\n",
       "      <th>Statistics</th>\n",
       "      <th>Value</th>\n",
       "    </tr>\n",
       "  </thead>\n",
       "  <tbody>\n",
       "    <tr>\n",
       "      <th>0</th>\n",
       "      <td>Mean</td>\n",
       "      <td>0.0</td>\n",
       "    </tr>\n",
       "    <tr>\n",
       "      <th>1</th>\n",
       "      <td>Standard deviation</td>\n",
       "      <td>0.0</td>\n",
       "    </tr>\n",
       "    <tr>\n",
       "      <th>2</th>\n",
       "      <td>Min percentage</td>\n",
       "      <td>0.0</td>\n",
       "    </tr>\n",
       "    <tr>\n",
       "      <th>3</th>\n",
       "      <td>Max percentage</td>\n",
       "      <td>0.0</td>\n",
       "    </tr>\n",
       "    <tr>\n",
       "      <th>4</th>\n",
       "      <td>25% quantile</td>\n",
       "      <td>0.0</td>\n",
       "    </tr>\n",
       "    <tr>\n",
       "      <th>5</th>\n",
       "      <td>Median</td>\n",
       "      <td>0.0</td>\n",
       "    </tr>\n",
       "    <tr>\n",
       "      <th>6</th>\n",
       "      <td>75% quantile</td>\n",
       "      <td>0.0</td>\n",
       "    </tr>\n",
       "    <tr>\n",
       "      <th>7</th>\n",
       "      <td>Number of observations</td>\n",
       "      <td>10000.0</td>\n",
       "    </tr>\n",
       "  </tbody>\n",
       "</table>\n",
       "</div>"
      ],
      "text/plain": [
       "               Statistics    Value\n",
       "0                    Mean      0.0\n",
       "1      Standard deviation      0.0\n",
       "2          Min percentage      0.0\n",
       "3          Max percentage      0.0\n",
       "4            25% quantile      0.0\n",
       "5                  Median      0.0\n",
       "6            75% quantile      0.0\n",
       "7  Number of observations  10000.0"
      ]
     },
     "execution_count": 87,
     "metadata": {},
     "output_type": "execute_result"
    }
   ],
   "source": [
    "pd.DataFrame.from_dict(\n",
    "    {\n",
    "        \"Statistics\": [\n",
    "            \"Mean\",\n",
    "            \"Standard deviation\",\n",
    "            \"Min percentage\",\n",
    "            \"Max percentage\",\n",
    "            \"25% quantile\",\n",
    "            \"Median\",\n",
    "            \"75% quantile\",\n",
    "            \"Number of observations\",\n",
    "        ],\n",
    "        \"Value\": [\n",
    "            results[\"loss5\"].describe()[\"mean\"],\n",
    "            results[\"loss5\"].describe()[\"std\"],\n",
    "            results[\"loss5\"].min(),\n",
    "            results[\"loss5\"].max(),\n",
    "            results[\"loss5\"].quantile(0.25),\n",
    "            results[\"loss5\"].median(),\n",
    "            results[\"loss5\"].quantile(0.75),\n",
    "            results[\"loss5\"].describe()[\"count\"],\n",
    "        ],\n",
    "    }\n",
    ").round(2)"
   ]
  },
  {
   "cell_type": "markdown",
   "metadata": {},
   "source": [
    "We can see how the mean is really close to the true value of our original population, `3.90%`. Out of 10000 iterations, we got values as low as 2.29% and as high as 5.38%. Because the mean is so close to the median, we can expect a normal distribution. Let's find out."
   ]
  },
  {
   "cell_type": "code",
   "execution_count": 88,
   "metadata": {},
   "outputs": [
    {
     "data": {
      "image/png": "[encoded data removed]"
     },
     "metadata": {
      "image/png": {
       "height": 480,
       "width": 640
      }
     },
     "output_type": "display_data"
    }
   ],
   "source": [
    "ggplot(results, aes(\"loss5\")) + geom_histogram(\n",
    "    fill=color[0], color=\"white\", binwidth=0.04, boundary=0, closed=\"left\"\n",
    ") + scale_y_continuous(\n",
    "    expand=(0, 0), limits=(0, 500), breaks=seq(0, 501, 200)\n",
    ") + scale_x_continuous(\n",
    "    expand=(0.01, 0.01), limits=(2, 6), breaks=seq(2, 6.1, 1)\n",
    ") + labs(\n",
    "    x=\"Percent of days with losses of 5% or more\", y=\"Frequency\"\n",
    ") + theme_bw()"
   ]
  },
  {
   "cell_type": "code",
   "execution_count": 89,
   "metadata": {},
   "outputs": [
    {
     "name": "stdout",
     "output_type": "stream",
     "text": [
      "The 95% confidence interval for the proportion of days with losses greater than 5% is [0. 0.].\n"
     ]
    }
   ],
   "source": [
    "# Get the 95% confidence interval of `results[\"loss5\"]`\n",
    "conf_int = np.percentile(results[\"loss5\"], [2.5, 97.5])\n",
    "print(f\"The 95% confidence interval for the proportion of days with losses greater than 5% is {conf_int}.\")"
   ]
  },
  {
   "cell_type": "markdown",
   "metadata": {},
   "source": [
    "We can check both SE, the formula and the bootstrapping technique, and we can observe that they are the same: 0.388%.\n",
    "\n",
    "\n",
    "\n",
    "### Findings ###\n",
    "\n",
    "With this, we can construct our confidence interval:\n",
    "- The 95% CI is 3.9% +- 2 * 0.39. This means [3.13% and 4.69%]\n",
    "- In the general pattern represented by the 11-year history of returns in our data, we can be **95% confident** that the chance of daily losses of more than 5% is **somewhere between 3.13% and 4.69%**.\n",
    "\n",
    "## 6. Conclude by giving advice on how to use these results in future investments decisions.\n",
    "Making choices about investments requires assessing risk, which means understanding the chances of incurring in major losses. In our experiment, we went far beyond a simple statistic - the mean value from a sample distribution - and tried to answer what *could* happen in similar scenarios if we did not know the full picture of our investment. This is usually the case and, after applying a sampling distribution and bootstrapping, we can better understand our risks.\n",
    "When it comes to **Petrobras** (`PETR4.SA`) assets, the risk is quite **significant** - we are highly confident that we can expect a daily loss of a significant level - between 3 and 4.5 percent - so we would encourage the investor to take some precautionary measures when having such asset on their portfolio. Obviously, we did not estimate factors that could encourage investing on Petrobras, such as the level of returns or, even, the percentage of daily gains above a certain threshold. Every risky asset has its rewards. But we could consider advising investors to leverage such risk by acquiring safer assets as well. This would depend on further analyses.\n"
   ]
  }
 ],
 "metadata": {
  "kernelspec": {
   "display_name": "venv",
   "language": "python",
   "name": "python3"
  },
  "language_info": {
   "codemirror_mode": {
    "name": "ipython",
    "version": 3
   },
   "file_extension": ".py",
   "mimetype": "text/x-python",
   "name": "python",
   "nbconvert_exporter": "python",
   "pygments_lexer": "ipython3",
   "version": "3.11.3"
  }
 },
 "nbformat": 4,
 "nbformat_minor": 2
}
