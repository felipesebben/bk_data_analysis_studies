{
 "cells": [
  {
   "cell_type": "markdown",
   "metadata": {},
   "source": [
    "<h1>Chapter 5 | Data Exercise #1 | Financial Assets | Generalizing from Data</h1>\n",
    "<h2>Introduction:</h2>\n",
    "<p>In this notebook, you will find my notes and code for Chapter 5's <b>exercise 1</b> of the book <a href=\"https://gabors-data-analysis.com/\">Data Analysis for Business, Economics, and Policy</a>, by Gábor Békés and Gábor Kézdi. The question was: \n",
    "<p>1. Download ten years of daily data on the price of a financial asset, such as an individual stock, or another stock market index.</p>\n",
    "<p>Assignments:</p>\n",
    "<ul>\n",
    "    <li>Document the main features of the data.</li>\n",
    "    <li>Create daily percentage returns.</li>\n",
    "    <li>Create a binary variable indicating large losses by choosing your own cutoff.</li>\n",
    "    <li>Estimate the standard error of the estimated likelihood of large daily losses by bootsrap and using the SE formula.</li>\n",
    "    <li>Compare the two, and create 95% confidence intervals.</li>\n",
    "    <li>Conclude by giving advice on how to use these results in future investments decisions.</li>\n",
    "\n",
    "</ul>\n",
    "<h2>1. Load the data</h2>"
   ]
  },
  {
   "cell_type": "code",
   "execution_count": 1,
   "metadata": {},
   "outputs": [],
   "source": [
    "import os\n",
    "import pandas as pd\n",
    "import warnings\n",
    "import yfinance as yf\n",
    "from datetime import datetime\n",
    "from plotnine import *\n",
    "import sys\n",
    "import numpy as np\n",
    "from scipy.stats import norm, sem\n",
    "\n",
    "\n",
    "warnings.filterwarnings(\"ignore\")\n",
    "%matplotlib inline"
   ]
  },
  {
   "cell_type": "code",
   "execution_count": 2,
   "metadata": {},
   "outputs": [],
   "source": [
    "# Increase number of returned rows in pandas\n",
    "pd.set_option(\"display.max_rows\", 500)"
   ]
  },
  {
   "cell_type": "code",
   "execution_count": 3,
   "metadata": {},
   "outputs": [],
   "source": [
    "# Current script folder\n",
    "dirname = os.getcwd()\n",
    "\n",
    "# Get location folders\n",
    "data_in = f\"{dirname}/da_data_exercises/ch05-generalizing_from_data/01-stock_data_analysis/data/raw/\"\n",
    "data_out = f\"{dirname}/da_data_exercises/ch05-generalizing_from_data/01-stock_data_analysis/data/clean/\"\n",
    "output = f\"{dirname}/da_data_exercises/ch05-generalizing_from_data/01-stock_data_analysis/data/output/\"\n",
    "func = f\"{dirname}/da_case_studies/ch00-tech_prep/\"\n",
    "sys.path.append(func)\n",
    "paths = [data_in, data_out, output]\n",
    "\n",
    "for path in paths:\n",
    "    if not os.path.exists(path):\n",
    "        os.makedirs(path)"
   ]
  },
  {
   "cell_type": "code",
   "execution_count": 4,
   "metadata": {},
   "outputs": [
    {
     "data": {
      "text/plain": [
       "'c:\\\\Users\\\\felip\\\\workspace\\\\python_work\\\\bk_data_analysis'"
      ]
     },
     "execution_count": 4,
     "metadata": {},
     "output_type": "execute_result"
    }
   ],
   "source": [
    "dirname"
   ]
  },
  {
   "cell_type": "code",
   "execution_count": 5,
   "metadata": {},
   "outputs": [],
   "source": [
    "# Import the prewritten helper functions \n",
    "from py_helper_functions import *"
   ]
  },
  {
   "cell_type": "markdown",
   "metadata": {},
   "source": [
    "It would be a good idea to see how Brazilian firms are doing. We could use **Petrobras**, the main Brazilian oil company (which is a state-owned multinational corporation). Let's test using `Yahoo Finance`."
   ]
  },
  {
   "cell_type": "code",
   "execution_count": 6,
   "metadata": {},
   "outputs": [
    {
     "data": {
      "text/html": [
       "<div>\n",
       "<style scoped>\n",
       "    .dataframe tbody tr th:only-of-type {\n",
       "        vertical-align: middle;\n",
       "    }\n",
       "\n",
       "    .dataframe tbody tr th {\n",
       "        vertical-align: top;\n",
       "    }\n",
       "\n",
       "    .dataframe thead th {\n",
       "        text-align: right;\n",
       "    }\n",
       "</style>\n",
       "<table border=\"1\" class=\"dataframe\">\n",
       "  <thead>\n",
       "    <tr style=\"text-align: right;\">\n",
       "      <th></th>\n",
       "      <th>Open</th>\n",
       "      <th>High</th>\n",
       "      <th>Low</th>\n",
       "      <th>Close</th>\n",
       "      <th>Volume</th>\n",
       "      <th>Dividends</th>\n",
       "      <th>Stock Splits</th>\n",
       "    </tr>\n",
       "    <tr>\n",
       "      <th>Date</th>\n",
       "      <th></th>\n",
       "      <th></th>\n",
       "      <th></th>\n",
       "      <th></th>\n",
       "      <th></th>\n",
       "      <th></th>\n",
       "      <th></th>\n",
       "    </tr>\n",
       "  </thead>\n",
       "  <tbody>\n",
       "    <tr>\n",
       "      <th>2024-07-05 00:00:00-03:00</th>\n",
       "      <td>37.450001</td>\n",
       "      <td>37.650002</td>\n",
       "      <td>37.110001</td>\n",
       "      <td>37.520000</td>\n",
       "      <td>32758800</td>\n",
       "      <td>0.0</td>\n",
       "      <td>0.0</td>\n",
       "    </tr>\n",
       "    <tr>\n",
       "      <th>2024-07-08 00:00:00-03:00</th>\n",
       "      <td>37.480000</td>\n",
       "      <td>38.520000</td>\n",
       "      <td>37.290001</td>\n",
       "      <td>38.439999</td>\n",
       "      <td>48845900</td>\n",
       "      <td>0.0</td>\n",
       "      <td>0.0</td>\n",
       "    </tr>\n",
       "    <tr>\n",
       "      <th>2024-07-09 00:00:00-03:00</th>\n",
       "      <td>38.450001</td>\n",
       "      <td>38.700001</td>\n",
       "      <td>38.270000</td>\n",
       "      <td>38.430000</td>\n",
       "      <td>34832500</td>\n",
       "      <td>0.0</td>\n",
       "      <td>0.0</td>\n",
       "    </tr>\n",
       "    <tr>\n",
       "      <th>2024-07-10 00:00:00-03:00</th>\n",
       "      <td>38.490002</td>\n",
       "      <td>38.560001</td>\n",
       "      <td>37.980000</td>\n",
       "      <td>38.070000</td>\n",
       "      <td>32899700</td>\n",
       "      <td>0.0</td>\n",
       "      <td>0.0</td>\n",
       "    </tr>\n",
       "    <tr>\n",
       "      <th>2024-07-11 00:00:00-03:00</th>\n",
       "      <td>38.160000</td>\n",
       "      <td>38.450001</td>\n",
       "      <td>38.110001</td>\n",
       "      <td>38.330002</td>\n",
       "      <td>17134200</td>\n",
       "      <td>0.0</td>\n",
       "      <td>0.0</td>\n",
       "    </tr>\n",
       "  </tbody>\n",
       "</table>\n",
       "</div>"
      ],
      "text/plain": [
       "                                Open       High        Low      Close  \\\n",
       "Date                                                                    \n",
       "2024-07-05 00:00:00-03:00  37.450001  37.650002  37.110001  37.520000   \n",
       "2024-07-08 00:00:00-03:00  37.480000  38.520000  37.290001  38.439999   \n",
       "2024-07-09 00:00:00-03:00  38.450001  38.700001  38.270000  38.430000   \n",
       "2024-07-10 00:00:00-03:00  38.490002  38.560001  37.980000  38.070000   \n",
       "2024-07-11 00:00:00-03:00  38.160000  38.450001  38.110001  38.330002   \n",
       "\n",
       "                             Volume  Dividends  Stock Splits  \n",
       "Date                                                          \n",
       "2024-07-05 00:00:00-03:00  32758800        0.0           0.0  \n",
       "2024-07-08 00:00:00-03:00  48845900        0.0           0.0  \n",
       "2024-07-09 00:00:00-03:00  34832500        0.0           0.0  \n",
       "2024-07-10 00:00:00-03:00  32899700        0.0           0.0  \n",
       "2024-07-11 00:00:00-03:00  17134200        0.0           0.0  "
      ]
     },
     "execution_count": 6,
     "metadata": {},
     "output_type": "execute_result"
    }
   ],
   "source": [
    "ticker = yf.Ticker(\"PETR4.SA\")\n",
    "\n",
    "# Get data of the most recent date\n",
    "petr4_data = ticker.history(period=\"5d\")\n",
    "\n",
    "petr4_data\n"
   ]
  },
  {
   "cell_type": "markdown",
   "metadata": {},
   "source": [
    "Great! Now, our goal is to get 10 years of data. Let's try to specify the period we want and hopefully this API won't let us down."
   ]
  },
  {
   "cell_type": "code",
   "execution_count": 7,
   "metadata": {},
   "outputs": [],
   "source": [
    "# Define the start date\n",
    "start_date = datetime(2014, 7, 7)\n",
    "\n",
    "# Define the end date\n",
    "end_date = datetime(2024, 7, 10)\n",
    "\n",
    "# Pass the parameters as the taken dates for start and end\n",
    "petr4_data = yf.Ticker(\"PETR4.SA\")\n",
    "petr4_df = petr4_data.history(start=start_date, end=end_date)"
   ]
  },
  {
   "cell_type": "code",
   "execution_count": 8,
   "metadata": {},
   "outputs": [
    {
     "data": {
      "text/html": [
       "<div>\n",
       "<style scoped>\n",
       "    .dataframe tbody tr th:only-of-type {\n",
       "        vertical-align: middle;\n",
       "    }\n",
       "\n",
       "    .dataframe tbody tr th {\n",
       "        vertical-align: top;\n",
       "    }\n",
       "\n",
       "    .dataframe thead th {\n",
       "        text-align: right;\n",
       "    }\n",
       "</style>\n",
       "<table border=\"1\" class=\"dataframe\">\n",
       "  <thead>\n",
       "    <tr style=\"text-align: right;\">\n",
       "      <th></th>\n",
       "      <th>Open</th>\n",
       "      <th>High</th>\n",
       "      <th>Low</th>\n",
       "      <th>Close</th>\n",
       "      <th>Volume</th>\n",
       "      <th>Dividends</th>\n",
       "      <th>Stock Splits</th>\n",
       "    </tr>\n",
       "    <tr>\n",
       "      <th>Date</th>\n",
       "      <th></th>\n",
       "      <th></th>\n",
       "      <th></th>\n",
       "      <th></th>\n",
       "      <th></th>\n",
       "      <th></th>\n",
       "      <th></th>\n",
       "    </tr>\n",
       "  </thead>\n",
       "  <tbody>\n",
       "    <tr>\n",
       "      <th>2014-07-07 00:00:00-03:00</th>\n",
       "      <td>5.747407</td>\n",
       "      <td>5.757311</td>\n",
       "      <td>5.658274</td>\n",
       "      <td>5.717696</td>\n",
       "      <td>18701200</td>\n",
       "      <td>0.0</td>\n",
       "      <td>0.0</td>\n",
       "    </tr>\n",
       "    <tr>\n",
       "      <th>2014-07-08 00:00:00-03:00</th>\n",
       "      <td>5.730900</td>\n",
       "      <td>5.750707</td>\n",
       "      <td>5.668177</td>\n",
       "      <td>5.720996</td>\n",
       "      <td>11504900</td>\n",
       "      <td>0.0</td>\n",
       "      <td>0.0</td>\n",
       "    </tr>\n",
       "    <tr>\n",
       "      <th>2014-07-10 00:00:00-03:00</th>\n",
       "      <td>5.869551</td>\n",
       "      <td>5.998298</td>\n",
       "      <td>5.816732</td>\n",
       "      <td>5.978491</td>\n",
       "      <td>35913600</td>\n",
       "      <td>0.0</td>\n",
       "      <td>0.0</td>\n",
       "    </tr>\n",
       "    <tr>\n",
       "      <th>2014-07-11 00:00:00-03:00</th>\n",
       "      <td>5.965287</td>\n",
       "      <td>6.047818</td>\n",
       "      <td>5.876155</td>\n",
       "      <td>6.021408</td>\n",
       "      <td>20928900</td>\n",
       "      <td>0.0</td>\n",
       "      <td>0.0</td>\n",
       "    </tr>\n",
       "    <tr>\n",
       "      <th>2014-07-14 00:00:00-03:00</th>\n",
       "      <td>6.100636</td>\n",
       "      <td>6.331721</td>\n",
       "      <td>6.080829</td>\n",
       "      <td>6.305311</td>\n",
       "      <td>70399100</td>\n",
       "      <td>0.0</td>\n",
       "      <td>0.0</td>\n",
       "    </tr>\n",
       "  </tbody>\n",
       "</table>\n",
       "</div>"
      ],
      "text/plain": [
       "                               Open      High       Low     Close    Volume  \\\n",
       "Date                                                                          \n",
       "2014-07-07 00:00:00-03:00  5.747407  5.757311  5.658274  5.717696  18701200   \n",
       "2014-07-08 00:00:00-03:00  5.730900  5.750707  5.668177  5.720996  11504900   \n",
       "2014-07-10 00:00:00-03:00  5.869551  5.998298  5.816732  5.978491  35913600   \n",
       "2014-07-11 00:00:00-03:00  5.965287  6.047818  5.876155  6.021408  20928900   \n",
       "2014-07-14 00:00:00-03:00  6.100636  6.331721  6.080829  6.305311  70399100   \n",
       "\n",
       "                           Dividends  Stock Splits  \n",
       "Date                                                \n",
       "2014-07-07 00:00:00-03:00        0.0           0.0  \n",
       "2014-07-08 00:00:00-03:00        0.0           0.0  \n",
       "2014-07-10 00:00:00-03:00        0.0           0.0  \n",
       "2014-07-11 00:00:00-03:00        0.0           0.0  \n",
       "2014-07-14 00:00:00-03:00        0.0           0.0  "
      ]
     },
     "execution_count": 8,
     "metadata": {},
     "output_type": "execute_result"
    }
   ],
   "source": [
    "petr4_df.head()"
   ]
  },
  {
   "cell_type": "markdown",
   "metadata": {},
   "source": [
    "Jah bless Yahoo Finance! Let's move on.\n",
    "## 2. Document the main features of the data ##\n",
    "Let's take a picture of our dataset and describe it.\n",
    "\n"
   ]
  },
  {
   "cell_type": "code",
   "execution_count": 9,
   "metadata": {},
   "outputs": [
    {
     "data": {
      "text/plain": [
       "(2490, 7)"
      ]
     },
     "execution_count": 9,
     "metadata": {},
     "output_type": "execute_result"
    }
   ],
   "source": [
    "petr4_df.shape"
   ]
  },
  {
   "cell_type": "code",
   "execution_count": 10,
   "metadata": {},
   "outputs": [
    {
     "name": "stdout",
     "output_type": "stream",
     "text": [
      "<class 'pandas.core.frame.DataFrame'>\n",
      "DatetimeIndex: 2490 entries, 2014-07-07 00:00:00-03:00 to 2024-07-09 00:00:00-03:00\n",
      "Data columns (total 7 columns):\n",
      " #   Column        Non-Null Count  Dtype  \n",
      "---  ------        --------------  -----  \n",
      " 0   Open          2490 non-null   float64\n",
      " 1   High          2490 non-null   float64\n",
      " 2   Low           2490 non-null   float64\n",
      " 3   Close         2490 non-null   float64\n",
      " 4   Volume        2490 non-null   int64  \n",
      " 5   Dividends     2490 non-null   float64\n",
      " 6   Stock Splits  2490 non-null   float64\n",
      "dtypes: float64(6), int64(1)\n",
      "memory usage: 155.6 KB\n"
     ]
    }
   ],
   "source": [
    "petr4_df.info()"
   ]
  },
  {
   "cell_type": "code",
   "execution_count": 11,
   "metadata": {},
   "outputs": [
    {
     "name": "stdout",
     "output_type": "stream",
     "text": [
      "There are 0 observations in the dataset.\n"
     ]
    }
   ],
   "source": [
    "is_duplicate = petr4_df.duplicated().sum()\n",
    "print(f\"There are {is_duplicate} observations in the dataset.\")"
   ]
  },
  {
   "cell_type": "markdown",
   "metadata": {},
   "source": [
    "A brief summary:\n",
    "- Our dataset has 2488 observations and 7 features/variables.\n",
    "- All columns are numeric.\n",
    "- There are no missing values.\n",
    "- There are no duplicate values either.\n",
    "\n",
    "About the variables, a short description:\n",
    "\n",
    "\n",
    "| **Variable** | **Definition** |\n",
    "|--------------| ---------------|\n",
    "| `Open`       | The opening price for the specified date. |\n",
    "| `High`       | The high price for the specified date. |\n",
    "| `Low`        | The low price for the specified date. |\n",
    "| `Close`      | The closing price for the specified date. |\n",
    "| `Volume`     | The number of shares traded in a stock or contracts traded in futures or options. |\n",
    "| `Dividends`  | A portion of a company's earnings that is paid to a shareholder. |\n",
    "| `Stock Splits` |  A corporate action in which a company increases the number of its outstanding shares by issuing more shares to current shareholders. | \n"
   ]
  },
  {
   "cell_type": "markdown",
   "metadata": {},
   "source": [
    "## 3. Create daily percentage returns and date columns##\n",
    "Our goal is to work on closing prices, so we can include only `Close` and create a percent return variable that indicate the percentage change on a daily basis.\n"
   ]
  },
  {
   "cell_type": "code",
   "execution_count": 12,
   "metadata": {},
   "outputs": [],
   "source": [
    "# Keep only `Close` column\n",
    "petr4_df = petr4_df[[\"Close\"]]\n",
    "\n",
    "petr4_df[\"pct_return\"] = (\n",
    "    (petr4_df[\"Close\"] - petr4_df.shift(1)[\"Close\"])\n",
    "    /\n",
    "    petr4_df.shift(1)[\"Close\"] * 100\n",
    ")"
   ]
  },
  {
   "cell_type": "code",
   "execution_count": 13,
   "metadata": {},
   "outputs": [
    {
     "data": {
      "text/html": [
       "<div>\n",
       "<style scoped>\n",
       "    .dataframe tbody tr th:only-of-type {\n",
       "        vertical-align: middle;\n",
       "    }\n",
       "\n",
       "    .dataframe tbody tr th {\n",
       "        vertical-align: top;\n",
       "    }\n",
       "\n",
       "    .dataframe thead th {\n",
       "        text-align: right;\n",
       "    }\n",
       "</style>\n",
       "<table border=\"1\" class=\"dataframe\">\n",
       "  <thead>\n",
       "    <tr style=\"text-align: right;\">\n",
       "      <th></th>\n",
       "      <th>Close</th>\n",
       "      <th>pct_return</th>\n",
       "    </tr>\n",
       "    <tr>\n",
       "      <th>Date</th>\n",
       "      <th></th>\n",
       "      <th></th>\n",
       "    </tr>\n",
       "  </thead>\n",
       "  <tbody>\n",
       "    <tr>\n",
       "      <th>2014-07-07 00:00:00-03:00</th>\n",
       "      <td>5.717696</td>\n",
       "      <td>NaN</td>\n",
       "    </tr>\n",
       "    <tr>\n",
       "      <th>2014-07-08 00:00:00-03:00</th>\n",
       "      <td>5.720996</td>\n",
       "      <td>0.057727</td>\n",
       "    </tr>\n",
       "    <tr>\n",
       "      <th>2014-07-10 00:00:00-03:00</th>\n",
       "      <td>5.978491</td>\n",
       "      <td>4.500876</td>\n",
       "    </tr>\n",
       "    <tr>\n",
       "      <th>2014-07-11 00:00:00-03:00</th>\n",
       "      <td>6.021408</td>\n",
       "      <td>0.717853</td>\n",
       "    </tr>\n",
       "    <tr>\n",
       "      <th>2014-07-14 00:00:00-03:00</th>\n",
       "      <td>6.305311</td>\n",
       "      <td>4.714896</td>\n",
       "    </tr>\n",
       "  </tbody>\n",
       "</table>\n",
       "</div>"
      ],
      "text/plain": [
       "                              Close  pct_return\n",
       "Date                                           \n",
       "2014-07-07 00:00:00-03:00  5.717696         NaN\n",
       "2014-07-08 00:00:00-03:00  5.720996    0.057727\n",
       "2014-07-10 00:00:00-03:00  5.978491    4.500876\n",
       "2014-07-11 00:00:00-03:00  6.021408    0.717853\n",
       "2014-07-14 00:00:00-03:00  6.305311    4.714896"
      ]
     },
     "execution_count": 13,
     "metadata": {},
     "output_type": "execute_result"
    }
   ],
   "source": [
    "petr4_df.head()"
   ]
  },
  {
   "cell_type": "code",
   "execution_count": 14,
   "metadata": {},
   "outputs": [
    {
     "name": "stdout",
     "output_type": "stream",
     "text": [
      "<class 'pandas.core.frame.DataFrame'>\n",
      "DatetimeIndex: 2490 entries, 2014-07-07 00:00:00-03:00 to 2024-07-09 00:00:00-03:00\n",
      "Data columns (total 2 columns):\n",
      " #   Column      Non-Null Count  Dtype  \n",
      "---  ------      --------------  -----  \n",
      " 0   Close       2490 non-null   float64\n",
      " 1   pct_return  2489 non-null   float64\n",
      "dtypes: float64(2)\n",
      "memory usage: 58.4 KB\n"
     ]
    }
   ],
   "source": [
    "petr4_df.info()"
   ]
  },
  {
   "cell_type": "code",
   "execution_count": 15,
   "metadata": {},
   "outputs": [
    {
     "data": {
      "text/html": [
       "<div>\n",
       "<style scoped>\n",
       "    .dataframe tbody tr th:only-of-type {\n",
       "        vertical-align: middle;\n",
       "    }\n",
       "\n",
       "    .dataframe tbody tr th {\n",
       "        vertical-align: top;\n",
       "    }\n",
       "\n",
       "    .dataframe thead th {\n",
       "        text-align: right;\n",
       "    }\n",
       "</style>\n",
       "<table border=\"1\" class=\"dataframe\">\n",
       "  <thead>\n",
       "    <tr style=\"text-align: right;\">\n",
       "      <th></th>\n",
       "      <th>Date</th>\n",
       "      <th>Close</th>\n",
       "      <th>pct_return</th>\n",
       "    </tr>\n",
       "  </thead>\n",
       "  <tbody>\n",
       "    <tr>\n",
       "      <th>0</th>\n",
       "      <td>2014-07-07 00:00:00-03:00</td>\n",
       "      <td>5.717696</td>\n",
       "      <td>NaN</td>\n",
       "    </tr>\n",
       "    <tr>\n",
       "      <th>1</th>\n",
       "      <td>2014-07-08 00:00:00-03:00</td>\n",
       "      <td>5.720996</td>\n",
       "      <td>0.057727</td>\n",
       "    </tr>\n",
       "    <tr>\n",
       "      <th>2</th>\n",
       "      <td>2014-07-10 00:00:00-03:00</td>\n",
       "      <td>5.978491</td>\n",
       "      <td>4.500876</td>\n",
       "    </tr>\n",
       "    <tr>\n",
       "      <th>3</th>\n",
       "      <td>2014-07-11 00:00:00-03:00</td>\n",
       "      <td>6.021408</td>\n",
       "      <td>0.717853</td>\n",
       "    </tr>\n",
       "    <tr>\n",
       "      <th>4</th>\n",
       "      <td>2014-07-14 00:00:00-03:00</td>\n",
       "      <td>6.305311</td>\n",
       "      <td>4.714896</td>\n",
       "    </tr>\n",
       "  </tbody>\n",
       "</table>\n",
       "</div>"
      ],
      "text/plain": [
       "                       Date     Close  pct_return\n",
       "0 2014-07-07 00:00:00-03:00  5.717696         NaN\n",
       "1 2014-07-08 00:00:00-03:00  5.720996    0.057727\n",
       "2 2014-07-10 00:00:00-03:00  5.978491    4.500876\n",
       "3 2014-07-11 00:00:00-03:00  6.021408    0.717853\n",
       "4 2014-07-14 00:00:00-03:00  6.305311    4.714896"
      ]
     },
     "execution_count": 15,
     "metadata": {},
     "output_type": "execute_result"
    }
   ],
   "source": [
    "# Convert the `Date` index to a column\n",
    "petr4_df.reset_index(inplace=True)\n",
    "petr4_df.head()"
   ]
  },
  {
   "cell_type": "markdown",
   "metadata": {},
   "source": [
    "Great! We can now perform a few transformations on `Date` and obtain the separate `year`, `month`, and `yearmonth` variables."
   ]
  },
  {
   "cell_type": "code",
   "execution_count": 16,
   "metadata": {},
   "outputs": [],
   "source": [
    "petr4_df[\"Date\"] = pd.to_datetime(petr4_df[\"Date\"], format=\"%Y-%m-%d\")\n",
    "petr4_df[\"year\"] = petr4_df[\"Date\"].dt.year\n",
    "petr4_df[\"month\"] = petr4_df[\"Date\"].dt.month\n",
    "petr4_df[\"year_month\"] = petr4_df[\"Date\"].dt.to_period(\"M\")\n"
   ]
  },
  {
   "cell_type": "code",
   "execution_count": 17,
   "metadata": {},
   "outputs": [
    {
     "data": {
      "text/html": [
       "<div>\n",
       "<style scoped>\n",
       "    .dataframe tbody tr th:only-of-type {\n",
       "        vertical-align: middle;\n",
       "    }\n",
       "\n",
       "    .dataframe tbody tr th {\n",
       "        vertical-align: top;\n",
       "    }\n",
       "\n",
       "    .dataframe thead th {\n",
       "        text-align: right;\n",
       "    }\n",
       "</style>\n",
       "<table border=\"1\" class=\"dataframe\">\n",
       "  <thead>\n",
       "    <tr style=\"text-align: right;\">\n",
       "      <th></th>\n",
       "      <th>Date</th>\n",
       "      <th>Close</th>\n",
       "      <th>pct_return</th>\n",
       "      <th>year</th>\n",
       "      <th>month</th>\n",
       "      <th>year_month</th>\n",
       "    </tr>\n",
       "  </thead>\n",
       "  <tbody>\n",
       "    <tr>\n",
       "      <th>0</th>\n",
       "      <td>2014-07-07 00:00:00-03:00</td>\n",
       "      <td>5.717696</td>\n",
       "      <td>NaN</td>\n",
       "      <td>2014</td>\n",
       "      <td>7</td>\n",
       "      <td>2014-07</td>\n",
       "    </tr>\n",
       "    <tr>\n",
       "      <th>1</th>\n",
       "      <td>2014-07-08 00:00:00-03:00</td>\n",
       "      <td>5.720996</td>\n",
       "      <td>0.057727</td>\n",
       "      <td>2014</td>\n",
       "      <td>7</td>\n",
       "      <td>2014-07</td>\n",
       "    </tr>\n",
       "    <tr>\n",
       "      <th>2</th>\n",
       "      <td>2014-07-10 00:00:00-03:00</td>\n",
       "      <td>5.978491</td>\n",
       "      <td>4.500876</td>\n",
       "      <td>2014</td>\n",
       "      <td>7</td>\n",
       "      <td>2014-07</td>\n",
       "    </tr>\n",
       "    <tr>\n",
       "      <th>3</th>\n",
       "      <td>2014-07-11 00:00:00-03:00</td>\n",
       "      <td>6.021408</td>\n",
       "      <td>0.717853</td>\n",
       "      <td>2014</td>\n",
       "      <td>7</td>\n",
       "      <td>2014-07</td>\n",
       "    </tr>\n",
       "    <tr>\n",
       "      <th>4</th>\n",
       "      <td>2014-07-14 00:00:00-03:00</td>\n",
       "      <td>6.305311</td>\n",
       "      <td>4.714896</td>\n",
       "      <td>2014</td>\n",
       "      <td>7</td>\n",
       "      <td>2014-07</td>\n",
       "    </tr>\n",
       "  </tbody>\n",
       "</table>\n",
       "</div>"
      ],
      "text/plain": [
       "                       Date     Close  pct_return  year  month year_month\n",
       "0 2014-07-07 00:00:00-03:00  5.717696         NaN  2014      7    2014-07\n",
       "1 2014-07-08 00:00:00-03:00  5.720996    0.057727  2014      7    2014-07\n",
       "2 2014-07-10 00:00:00-03:00  5.978491    4.500876  2014      7    2014-07\n",
       "3 2014-07-11 00:00:00-03:00  6.021408    0.717853  2014      7    2014-07\n",
       "4 2014-07-14 00:00:00-03:00  6.305311    4.714896  2014      7    2014-07"
      ]
     },
     "execution_count": 17,
     "metadata": {},
     "output_type": "execute_result"
    }
   ],
   "source": [
    "petr4_df.head()"
   ]
  },
  {
   "cell_type": "markdown",
   "metadata": {},
   "source": [
    "## 4. Plot the histogram of daily returns, annotate losses ##"
   ]
  },
  {
   "cell_type": "code",
   "execution_count": 18,
   "metadata": {},
   "outputs": [
    {
     "data": {
      "image/png": "[encoded data removed]"
     },
     "metadata": {
      "image/png": {
       "height": 480,
       "width": 640
      }
     },
     "output_type": "display_data"
    }
   ],
   "source": [
    "# Create histogram of daily returns\n",
    "ggplot(petr4_df, aes(\"pct_return\")) + geom_histogram(\n",
    "    binwidth=0.25, color=\"white\", fill=color[0], boundary=0, closed=\"left\",\n",
    ") + geom_vline(xintercept=-5, size=0.7, color=color[1]) + labs(\n",
    "    x=\"Daily return (percent)\", y=\"Frequency\", title=\"Histogram of daily returns for PETR4.SA\"\n",
    ") + coord_cartesian(\n",
    "    xlim=[-10, 10], ylim=[0, 200]\n",
    ") + scale_y_continuous(\n",
    "    expand=[0, 0]\n",
    ") + geom_segment(\n",
    "    aes(x=-6, y=220, xend=-5, yend=220)\n",
    ") + annotate(\n",
    "    \"text\", x=-8, y=220, label=\"5% loss\", size=12\n",
    ") + theme_bw()"
   ]
  },
  {
   "cell_type": "markdown",
   "metadata": {},
   "source": [
    "We can notice a significant amount of observations below the 5% threshold. We can count the number of days that `PETR4.SA` closed at such low losses."
   ]
  },
  {
   "cell_type": "code",
   "execution_count": 19,
   "metadata": {},
   "outputs": [
    {
     "name": "stdout",
     "output_type": "stream",
     "text": [
      "There were 97 days in which the stock lost 5% or more. \n",
      "This represents 3.90% of the total days (2490).\n"
     ]
    }
   ],
   "source": [
    "days_below_5pct = len(petr4_df.loc[petr4_df[\"pct_return\"] <= -5, :])\n",
    "\n",
    "days_below_5pct_proport = (days_below_5pct / petr4_df.shape[0]) * 100\n",
    "print(f\"There were {days_below_5pct} days in which the stock lost 5% or more. \\nThis represents {days_below_5pct_proport:.2f}% of the total days ({petr4_df.shape[0]}).\")"
   ]
  },
  {
   "cell_type": "markdown",
   "metadata": {},
   "source": [
    "Now, for a total of 2490 days, we have noticed **97** days with losses below 5%, representing nearly **4%** of the total number of observations. \n",
    "\n",
    "## 3. Repeated samples, standard error ##\n",
    "Considering the question \"What *could* have been observed?\", we can use **repeated samples** to make inferences about our dataset. That is, we can learn the distribution of each sample, get its estimate and observe the sampling distribution. Our most important goal here is to get its standard deviation, that is, how much *spread* we can observe across repeated samples. Remember that the standard deviation of the sampling distribution is called the **standard error**. \n",
    "We can now peform a simulation to exemplify the exercise. Our statistic of interest is the proportin of days with 5% of larger losses - in our case, it is **3.9%**. If we consider these 10 years of data our entire population, we already know the true value. We will ignore this fact and consider that the entire population encompasses a wider timespan."
   ]
  },
  {
   "cell_type": "code",
   "execution_count": 20,
   "metadata": {},
   "outputs": [],
   "source": [
    "# Remove NaN values from `pct_return` column\n",
    "pct_return_no_na = petr4_df[\"pct_return\"].dropna()"
   ]
  },
  {
   "cell_type": "markdown",
   "metadata": {},
   "source": [
    "Using a simple random sampling, we can now create samples based on the assumption that our data comprises only a 4 year period. Considering that each year has around 250 working days, we can use `10000` as our sample size."
   ]
  },
  {
   "cell_type": "code",
   "execution_count": 21,
   "metadata": {},
   "outputs": [],
   "source": [
    "def create_samples(vector, n_samples, n_obs):\n",
    "    samples_pctloss = [None] * (n_samples + 1) # Create a list to store the samples\n",
    "    for i in range(n_samples + 1):\n",
    "        single_sample = np.random.choice(vector, size=n_obs, replace=True) # Create a single sample\n",
    "        samples_pctloss[i] = sum(single_sample <= -5) / n_obs * 100 # Calculate the proportion of days with losses greater than 5%\n",
    "    return samples_pctloss\n"
   ]
  },
  {
   "cell_type": "markdown",
   "metadata": {},
   "source": [
    "Now, we can generate samples for 1000 and 500 observations. It is important to mention that, in our case, we are ignoring any dependence from a given value to the previous observations. That is, we are destroying the time-series component of our dataset for the purpose of understanding the process of generalizing from data."
   ]
  },
  {
   "cell_type": "code",
   "execution_count": 22,
   "metadata": {},
   "outputs": [],
   "source": [
    "np.random.seed = 123\n",
    "n_obs_1000 = create_samples(pct_return_no_na, 10000, 1000)\n",
    "n_obs_500 = create_samples(pct_return_no_na, 10000, 500)"
   ]
  },
  {
   "cell_type": "code",
   "execution_count": 23,
   "metadata": {},
   "outputs": [],
   "source": [
    "n_obs_df = pd.DataFrame({\"n_obs_500\": n_obs_500, \"n_obs_1000\": n_obs_1000}).drop(0)"
   ]
  },
  {
   "cell_type": "code",
   "execution_count": 24,
   "metadata": {},
   "outputs": [
    {
     "data": {
      "text/html": [
       "<div>\n",
       "<style scoped>\n",
       "    .dataframe tbody tr th:only-of-type {\n",
       "        vertical-align: middle;\n",
       "    }\n",
       "\n",
       "    .dataframe tbody tr th {\n",
       "        vertical-align: top;\n",
       "    }\n",
       "\n",
       "    .dataframe thead th {\n",
       "        text-align: right;\n",
       "    }\n",
       "</style>\n",
       "<table border=\"1\" class=\"dataframe\">\n",
       "  <thead>\n",
       "    <tr style=\"text-align: right;\">\n",
       "      <th></th>\n",
       "      <th>n_obs_500</th>\n",
       "      <th>n_obs_1000</th>\n",
       "    </tr>\n",
       "  </thead>\n",
       "  <tbody>\n",
       "    <tr>\n",
       "      <th>1</th>\n",
       "      <td>2.2</td>\n",
       "      <td>3.6</td>\n",
       "    </tr>\n",
       "    <tr>\n",
       "      <th>2</th>\n",
       "      <td>3.8</td>\n",
       "      <td>3.6</td>\n",
       "    </tr>\n",
       "    <tr>\n",
       "      <th>3</th>\n",
       "      <td>4.4</td>\n",
       "      <td>4.3</td>\n",
       "    </tr>\n",
       "    <tr>\n",
       "      <th>4</th>\n",
       "      <td>4.6</td>\n",
       "      <td>4.1</td>\n",
       "    </tr>\n",
       "    <tr>\n",
       "      <th>5</th>\n",
       "      <td>3.6</td>\n",
       "      <td>3.7</td>\n",
       "    </tr>\n",
       "    <tr>\n",
       "      <th>...</th>\n",
       "      <td>...</td>\n",
       "      <td>...</td>\n",
       "    </tr>\n",
       "    <tr>\n",
       "      <th>9996</th>\n",
       "      <td>4.6</td>\n",
       "      <td>4.0</td>\n",
       "    </tr>\n",
       "    <tr>\n",
       "      <th>9997</th>\n",
       "      <td>2.4</td>\n",
       "      <td>3.5</td>\n",
       "    </tr>\n",
       "    <tr>\n",
       "      <th>9998</th>\n",
       "      <td>4.6</td>\n",
       "      <td>3.6</td>\n",
       "    </tr>\n",
       "    <tr>\n",
       "      <th>9999</th>\n",
       "      <td>4.0</td>\n",
       "      <td>3.7</td>\n",
       "    </tr>\n",
       "    <tr>\n",
       "      <th>10000</th>\n",
       "      <td>2.4</td>\n",
       "      <td>3.1</td>\n",
       "    </tr>\n",
       "  </tbody>\n",
       "</table>\n",
       "<p>10000 rows × 2 columns</p>\n",
       "</div>"
      ],
      "text/plain": [
       "       n_obs_500  n_obs_1000\n",
       "1            2.2         3.6\n",
       "2            3.8         3.6\n",
       "3            4.4         4.3\n",
       "4            4.6         4.1\n",
       "5            3.6         3.7\n",
       "...          ...         ...\n",
       "9996         4.6         4.0\n",
       "9997         2.4         3.5\n",
       "9998         4.6         3.6\n",
       "9999         4.0         3.7\n",
       "10000        2.4         3.1\n",
       "\n",
       "[10000 rows x 2 columns]"
      ]
     },
     "execution_count": 24,
     "metadata": {},
     "output_type": "execute_result"
    }
   ],
   "source": [
    "n_obs_df"
   ]
  },
  {
   "cell_type": "code",
   "execution_count": 25,
   "metadata": {},
   "outputs": [
    {
     "data": {
      "text/html": [
       "<div>\n",
       "<style scoped>\n",
       "    .dataframe tbody tr th:only-of-type {\n",
       "        vertical-align: middle;\n",
       "    }\n",
       "\n",
       "    .dataframe tbody tr th {\n",
       "        vertical-align: top;\n",
       "    }\n",
       "\n",
       "    .dataframe thead th {\n",
       "        text-align: right;\n",
       "    }\n",
       "</style>\n",
       "<table border=\"1\" class=\"dataframe\">\n",
       "  <thead>\n",
       "    <tr style=\"text-align: right;\">\n",
       "      <th></th>\n",
       "      <th>n_obs_500</th>\n",
       "      <th>n_obs_1000</th>\n",
       "    </tr>\n",
       "  </thead>\n",
       "  <tbody>\n",
       "    <tr>\n",
       "      <th>count</th>\n",
       "      <td>10000.000000</td>\n",
       "      <td>10000.000000</td>\n",
       "    </tr>\n",
       "    <tr>\n",
       "      <th>mean</th>\n",
       "      <td>3.890220</td>\n",
       "      <td>3.891050</td>\n",
       "    </tr>\n",
       "    <tr>\n",
       "      <th>std</th>\n",
       "      <td>0.861187</td>\n",
       "      <td>0.613414</td>\n",
       "    </tr>\n",
       "    <tr>\n",
       "      <th>min</th>\n",
       "      <td>1.200000</td>\n",
       "      <td>1.800000</td>\n",
       "    </tr>\n",
       "    <tr>\n",
       "      <th>25%</th>\n",
       "      <td>3.200000</td>\n",
       "      <td>3.500000</td>\n",
       "    </tr>\n",
       "    <tr>\n",
       "      <th>50%</th>\n",
       "      <td>3.800000</td>\n",
       "      <td>3.900000</td>\n",
       "    </tr>\n",
       "    <tr>\n",
       "      <th>75%</th>\n",
       "      <td>4.400000</td>\n",
       "      <td>4.300000</td>\n",
       "    </tr>\n",
       "    <tr>\n",
       "      <th>max</th>\n",
       "      <td>7.000000</td>\n",
       "      <td>6.200000</td>\n",
       "    </tr>\n",
       "  </tbody>\n",
       "</table>\n",
       "</div>"
      ],
      "text/plain": [
       "          n_obs_500    n_obs_1000\n",
       "count  10000.000000  10000.000000\n",
       "mean       3.890220      3.891050\n",
       "std        0.861187      0.613414\n",
       "min        1.200000      1.800000\n",
       "25%        3.200000      3.500000\n",
       "50%        3.800000      3.900000\n",
       "75%        4.400000      4.300000\n",
       "max        7.000000      6.200000"
      ]
     },
     "execution_count": 25,
     "metadata": {},
     "output_type": "execute_result"
    }
   ],
   "source": [
    "n_obs_df.describe()"
   ]
  },
  {
   "cell_type": "markdown",
   "metadata": {},
   "source": [
    "The result is a DataFrame containing the percentage points of `pct_return` at a 5%+ loss. \n",
    "We can now calculate the margin of error and use it to find the confidence interval for the mean of our dataset with 1000 observations. A few comments:\n",
    "1. Margin of Error Calculation\n",
    "- `norm.ppf(0.975)` calculates the **z-score** (or the number of standard deviations from the mean) corresponding to the 97.5th percentile of the standard normal distribution. We use `0.975` for a 95% CI as the normal distribution is symmetric, and we want the area in the middle covering 95% of the distribution. As such, 2.5% is left on each side.\n",
    "- `np.std(n_obs[\"n_obs_1000\"])` calculates the **standard deviation** of the dataset.\n",
    "- `/ np.sqrt(len(n_obs_df[\"n_obs_1000\"]))` divides the standard deviation by the **squared root of the number of observations** in the dataset. We can then calculate the **standard error** of the mean.\n",
    "- The entire expression calculates the margin of error for the 95% CI of the mean.\n",
    "\n",
    "2. CI Calculation\n",
    "- `np.mean(n_obs_df[\"n_obs_1000\"])`: This calculates the mean of the dataset.\n",
    "- `left = np.mean(n_obs_df[\"n_obs_1000\"]) - error`: This subtracts the margin of error from the mean to find the lower bound of the 95% confidence interval.\n",
    "- `right = np.mean(n_obs_df[\"n_obs_1000\"]) + error`: This adds the margin of error to the mean to find the upper bound of the 95% confidence interval."
   ]
  },
  {
   "cell_type": "code",
   "execution_count": 26,
   "metadata": {},
   "outputs": [],
   "source": [
    "error = norm.ppf(0.975) * np.std(n_obs_df[\"n_obs_1000\"]) / np.sqrt(len(n_obs_df[\"n_obs_1000\"]))\n",
    "left = np.mean(n_obs_df[\"n_obs_1000\"]) - error\n",
    "right = np.mean(n_obs_df[\"n_obs_1000\"] + error)"
   ]
  },
  {
   "cell_type": "markdown",
   "metadata": {},
   "source": [
    "Here, we get the mean of our sample and add and subtract the error for each variable."
   ]
  },
  {
   "cell_type": "code",
   "execution_count": 27,
   "metadata": {},
   "outputs": [
    {
     "data": {
      "image/png": "[encoded data removed]"
     },
     "metadata": {
      "image/png": {
       "height": 480,
       "width": 640
      }
     },
     "output_type": "display_data"
    }
   ],
   "source": [
    "ggplot(n_obs_df, aes(n_obs_1000[1:])) + geom_histogram(\n",
    "    binwidth=0.1, color=\"white\", fill=color[0], alpha=0.8, center=0.75, closed=\"left\",\n",
    ") + labs(x=\"Percent of days of losses of 5% or more\", y=\"Frequency\") + geom_vline(\n",
    "    aes(xintercept=np.mean(pd.Series(n_obs_1000).dropna())), color=color[1], size=0.7\n",
    ") + coord_cartesian(\n",
    "    xlim=[2, 6], ylim=(0, 1000)\n",
    ") + scale_x_continuous(\n",
    "    expand=(0.1, 0.1), limits=(2, 6), breaks=seq(2, 6, 0.5)\n",
    ") + scale_y_continuous(\n",
    "    expand=(0.00, 0.00), limits=(0, 1000), breaks=seq(0, 1001, 250)\n",
    ") + geom_segment(\n",
    "    aes(x=4.3, y=900, xend=3.9, yend=900)\n",
    ") + annotate(\n",
    "    \"text\", x=4.5, y=900, label=\"Mean\", size=12\n",
    ") + theme_bw()"
   ]
  },
  {
   "cell_type": "code",
   "execution_count": 28,
   "metadata": {},
   "outputs": [
    {
     "data": {
      "text/plain": [
       "np.float64(0.6133831571701328)"
      ]
     },
     "execution_count": 28,
     "metadata": {},
     "output_type": "execute_result"
    }
   ],
   "source": [
    "standard_error = np.std(n_obs_df[\"n_obs_1000\"])\n",
    "standard_error"
   ]
  },
  {
   "cell_type": "markdown",
   "metadata": {},
   "source": [
    "Our standard error for the sample is 0.61%, which means that we can expect a value of 0.61% off from the mean across our samples, which was around 3.9%. We know this is the standard error because we calculated the standard deviation from the distribution over the fraction of 5%+ losses."
   ]
  },
  {
   "cell_type": "code",
   "execution_count": 29,
   "metadata": {},
   "outputs": [
    {
     "data": {
      "text/html": [
       "<div>\n",
       "<style scoped>\n",
       "    .dataframe tbody tr th:only-of-type {\n",
       "        vertical-align: middle;\n",
       "    }\n",
       "\n",
       "    .dataframe tbody tr th {\n",
       "        vertical-align: top;\n",
       "    }\n",
       "\n",
       "    .dataframe thead th {\n",
       "        text-align: right;\n",
       "    }\n",
       "</style>\n",
       "<table border=\"1\" class=\"dataframe\">\n",
       "  <thead>\n",
       "    <tr style=\"text-align: right;\">\n",
       "      <th></th>\n",
       "      <th>n_obs_500</th>\n",
       "      <th>n_obs_1000</th>\n",
       "    </tr>\n",
       "  </thead>\n",
       "  <tbody>\n",
       "    <tr>\n",
       "      <th>count</th>\n",
       "      <td>10000.000000</td>\n",
       "      <td>10000.000000</td>\n",
       "    </tr>\n",
       "    <tr>\n",
       "      <th>mean</th>\n",
       "      <td>3.890220</td>\n",
       "      <td>3.891050</td>\n",
       "    </tr>\n",
       "    <tr>\n",
       "      <th>std</th>\n",
       "      <td>0.861187</td>\n",
       "      <td>0.613414</td>\n",
       "    </tr>\n",
       "    <tr>\n",
       "      <th>min</th>\n",
       "      <td>1.200000</td>\n",
       "      <td>1.800000</td>\n",
       "    </tr>\n",
       "    <tr>\n",
       "      <th>25%</th>\n",
       "      <td>3.200000</td>\n",
       "      <td>3.500000</td>\n",
       "    </tr>\n",
       "    <tr>\n",
       "      <th>50%</th>\n",
       "      <td>3.800000</td>\n",
       "      <td>3.900000</td>\n",
       "    </tr>\n",
       "    <tr>\n",
       "      <th>75%</th>\n",
       "      <td>4.400000</td>\n",
       "      <td>4.300000</td>\n",
       "    </tr>\n",
       "    <tr>\n",
       "      <th>max</th>\n",
       "      <td>7.000000</td>\n",
       "      <td>6.200000</td>\n",
       "    </tr>\n",
       "  </tbody>\n",
       "</table>\n",
       "</div>"
      ],
      "text/plain": [
       "          n_obs_500    n_obs_1000\n",
       "count  10000.000000  10000.000000\n",
       "mean       3.890220      3.891050\n",
       "std        0.861187      0.613414\n",
       "min        1.200000      1.800000\n",
       "25%        3.200000      3.500000\n",
       "50%        3.800000      3.900000\n",
       "75%        4.400000      4.300000\n",
       "max        7.000000      6.200000"
      ]
     },
     "execution_count": 29,
     "metadata": {},
     "output_type": "execute_result"
    }
   ],
   "source": [
    "n_obs_df.describe()"
   ]
  },
  {
   "cell_type": "markdown",
   "metadata": {},
   "source": [
    "**Sampling properties**:\n",
    "- The average of the values in repeated samples is approximately **equal to its true value** (the value in the entire population, or general pattern, represented by our data).\n",
    "    - This is called **unbiasedness**. \n",
    "- The sampling distribution is approximately normal.\n",
    "    - **Asymptotic normality**\n",
    "- The standard error is **smaller** in the **larger sample**.\n",
    "    - **Root-n convergence**. The standard error is **inversely proportional** to the **square root of the sample size**.\n",
    "    - So, in very large samples, the standard deviation can shrink to zero.\n",
    "\n",
    "## Sampling distribution with different sample sizes ##\n",
    "How does the spread of the distribution behave when using different sample sizes? We can now plot a histogram with samples of 500 days and compare its distribution with that of a sample of n=1000. First, we can plot the kernel density estimator."
   ]
  },
  {
   "cell_type": "code",
   "execution_count": 68,
   "metadata": {},
   "outputs": [
    {
     "data": {
      "image/png": "[encoded data removed]"
     },
     "metadata": {
      "image/png": {
       "height": 480,
       "width": 640
      }
     },
     "output_type": "display_data"
    }
   ],
   "source": [
    "ggplot(n_obs_df) + stat_density(\n",
    "    aes(x=\"n_obs_1000\"), color=color[0], geom=\"line\", bw=0.45, size=1\n",
    ") + stat_density(\n",
    "    aes(\"n_obs_500\"), color=color[1], geom=\"line\", bw=0.45, linetype=\"dashdot\", size=1\n",
    ") + labs(\n",
    "    x=\"Percent of days with losses over 5%\", y=\"Density\"\n",
    ")+ geom_vline(\n",
    "    xintercept=3.89, color=color[2], size=0.7, linetype=\"dashed\"\n",
    ") + geom_segment(\n",
    "    aes(x=3.91, y=0.6, xend=4.5, yend=.6),\n",
    "    size=0.5\n",
    ") + annotate(\n",
    "    \"text\", x=5.5, y=0.6, label=\"Larger sample\", size=12\n",
    ") + geom_segment(\n",
    "    aes(x=3.91, y=0.45, xend=4.5, yend=0.45), size=0.5\n",
    ") + annotate(\n",
    "    \"text\", x=5.5, y=0.45, label=\"Smaller sample\", size=12\n",
    ") + scale_x_continuous(\n",
    "    expand=(0.01, 0.01), limits=(0, 8), breaks=seq(0, 8, 0.5)\n",
    ") + scale_y_continuous(\n",
    "    expand=(0.00, 0.00), limits=(0, 1), breaks=seq(0, 0.81, 0.2)\n",
    ") + theme_bw() + theme(\n",
    "    legend_position=\"none\"\n",
    ")"
   ]
  },
  {
   "cell_type": "code",
   "execution_count": 70,
   "metadata": {},
   "outputs": [
    {
     "data": {
      "image/png": "[encoded data removed]"
     },
     "metadata": {
      "image/png": {
       "height": 480,
       "width": 640
      }
     },
     "output_type": "display_data"
    }
   ],
   "source": [
    "ggplot(n_obs_df) + geom_histogram(\n",
    "    aes(x=\"n_obs_500\", y=\"stat(count)/sum(stat(count))*100\"),\n",
    "    color=color[0],\n",
    "    fill=\"blue\",\n",
    "    binwidth=0.2,\n",
    "    center=0.5,\n",
    "    size=0.7,\n",
    "    alpha=0.4,\n",
    "    closed=\"left\"\n",
    ") + geom_histogram(\n",
    "    aes(x=\"n_obs_1000\", y=\"stat(count)/sum(stat(count))*100\"),\n",
    "    color=color[1],\n",
    "    fill=\"green\",\n",
    "    binwidth=0.2,\n",
    "    center=0.5,\n",
    "    size=0.7,\n",
    "    alpha=0.1,\n",
    "    closed=\"left\"\n",
    ") + ylab(\n",
    "    \"Percent\"\n",
    ") + xlab(\n",
    "    \"Percent of days with losses over 5%\"\n",
    ") + scale_x_continuous(\n",
    "    breaks=seq(0, 8, 0.5)\n",
    ") + scale_y_continuous(\n",
    "    expand=(0.00, 0.00), limits=(0, 15), breaks=seq(0, 16, 5)\n",
    ") + scale_color_manual(\n",
    "    labels=(\"N=1000\", \"N=500\"), name=\"\", values=(color[1], color[0])\n",
    ") + scale_alpha_identity() + scale_fill_identity() + theme_bw() + theme(\n",
    "    legend_position=\"none\"\n",
    ")\n"
   ]
  },
  {
   "cell_type": "markdown",
   "metadata": {},
   "source": [
    "Let's recap our tasks:\n",
    " - ~~Document the main features of the data~~ - \n",
    "- ~~Create daily percentage returns~~\n",
    "- ~~Create a binary variable indicating large losses by choosing your own cutoff~~\n",
    "## 4. Estimate the standard error of the estimated likelihood of large daily losses by bootsrap and using the SE formula. ##\n",
    "We already got the standard error using bootstrap. Remember that the SE is squivalent to the standard deviation across the boostrap samples - we know it is **0.47**\n",
    "Remember the **standard error** formula:\n",
    "\n",
    "$SE_x = S /\\sqrt{n}$\n",
    "\n",
    "We can use our original data and obtain the standard error."
   ]
  },
  {
   "cell_type": "code",
   "execution_count": 32,
   "metadata": {},
   "outputs": [
    {
     "name": "stdout",
     "output_type": "stream",
     "text": [
      "The standard error for the proportion of days with 5%+ loss is 0.388%.\n"
     ]
    }
   ],
   "source": [
    "standard_error = sem(petr4_df[\"pct_return\"] <= -5, nan_policy=\"omit\")\n",
    "print(f\"The standard error for the proportion of days with 5%+ loss is {standard_error*100:.3f}%.\")"
   ]
  },
  {
   "cell_type": "code",
   "execution_count": 33,
   "metadata": {},
   "outputs": [
    {
     "data": {
      "text/html": [
       "<div>\n",
       "<style scoped>\n",
       "    .dataframe tbody tr th:only-of-type {\n",
       "        vertical-align: middle;\n",
       "    }\n",
       "\n",
       "    .dataframe tbody tr th {\n",
       "        vertical-align: top;\n",
       "    }\n",
       "\n",
       "    .dataframe thead th {\n",
       "        text-align: right;\n",
       "    }\n",
       "</style>\n",
       "<table border=\"1\" class=\"dataframe\">\n",
       "  <thead>\n",
       "    <tr style=\"text-align: right;\">\n",
       "      <th></th>\n",
       "      <th>n_obs_500</th>\n",
       "      <th>n_obs_1000</th>\n",
       "    </tr>\n",
       "  </thead>\n",
       "  <tbody>\n",
       "    <tr>\n",
       "      <th>count</th>\n",
       "      <td>10000.000000</td>\n",
       "      <td>10000.000000</td>\n",
       "    </tr>\n",
       "    <tr>\n",
       "      <th>mean</th>\n",
       "      <td>3.890220</td>\n",
       "      <td>3.891050</td>\n",
       "    </tr>\n",
       "    <tr>\n",
       "      <th>std</th>\n",
       "      <td>0.861187</td>\n",
       "      <td>0.613414</td>\n",
       "    </tr>\n",
       "    <tr>\n",
       "      <th>min</th>\n",
       "      <td>1.200000</td>\n",
       "      <td>1.800000</td>\n",
       "    </tr>\n",
       "    <tr>\n",
       "      <th>25%</th>\n",
       "      <td>3.200000</td>\n",
       "      <td>3.500000</td>\n",
       "    </tr>\n",
       "    <tr>\n",
       "      <th>50%</th>\n",
       "      <td>3.800000</td>\n",
       "      <td>3.900000</td>\n",
       "    </tr>\n",
       "    <tr>\n",
       "      <th>75%</th>\n",
       "      <td>4.400000</td>\n",
       "      <td>4.300000</td>\n",
       "    </tr>\n",
       "    <tr>\n",
       "      <th>max</th>\n",
       "      <td>7.000000</td>\n",
       "      <td>6.200000</td>\n",
       "    </tr>\n",
       "  </tbody>\n",
       "</table>\n",
       "</div>"
      ],
      "text/plain": [
       "          n_obs_500    n_obs_1000\n",
       "count  10000.000000  10000.000000\n",
       "mean       3.890220      3.891050\n",
       "std        0.861187      0.613414\n",
       "min        1.200000      1.800000\n",
       "25%        3.200000      3.500000\n",
       "50%        3.800000      3.900000\n",
       "75%        4.400000      4.300000\n",
       "max        7.000000      6.200000"
      ]
     },
     "execution_count": 33,
     "metadata": {},
     "output_type": "execute_result"
    }
   ],
   "source": [
    "n_obs_df.describe()"
   ]
  },
  {
   "cell_type": "markdown",
   "metadata": {},
   "source": [
    "Findings:\n",
    "The observed decrease in the standard error (SE) from 0.85% with 500 observations to 0.61% with 1000 observations in our bootstrapping analysis is a reflection of a fundamental statistical principle: as the sample size increases, the precision of the estimate improves. This principle is rooted in the law of large numbers, which states that as the number of trials (or sample size) increases, the actual ratio of outcomes will converge on the theoretical, or expected, ratio of outcomes.\n",
    "\n",
    "In the context of bootstrapping, each \"observation\" is actually a bootstrap sample, and the standard error measures the variability or spread of the bootstrapped estimates around their mean. A smaller standard error indicates that the bootstrapped estimates are more tightly clustered around the mean, suggesting a more precise estimate of the parameter being measured—in this case, the proportion of days with losses greater than 5%.\n",
    "\n",
    "The decrease in SE with larger bootstrap samples (from 0.85% with 500 observations to 0.61% with 1000 observations) suggests that increasing the number of observations in each bootstrap sample leads to a more accurate and stable estimate of the proportion of interest. This is because larger samples are more likely to closely resemble the population from which they are drawn, capturing a more representative mix of the underlying variability and reducing the impact of random fluctuations or outliers.\n",
    "\n",
    "In summary, the observed decrease in standard error with increased sample size in our bootstrapping analysis underscores the importance of sample size in statistical estimation. It demonstrates how larger samples can provide more reliable and precise estimates, a key consideration in statistical analysis and decision-making based on data.\n",
    "\n",
    "## 5. Compare the two, and create 95% confidence intervals ##\n",
    "\n",
    "We can now create our CI intervals. Going back to our task, our goal was:\n",
    "- To estimate the CI for the proportion of days with large negative returns.\n",
    "- We estimate that proportion from the data - we know that it is 3.9%.\n",
    "Then, we estimate its standard error.\n",
    "\n",
    "Following, we measure plus and minus two SE around this 3.9% value. We will get the 95% CI that tells us where to expect the majority of days with large negative returns in the general pattern represented by our data.\n",
    "\n",
    "Now, we can estimate the SE by boostrap. We calculate the proportions of days with 5%+ loss in each sample. We save this value, go back to the original data and take another bootstramp sample, calculating this same proportion of losses and saving this value once again. We end up with a new data table, in which one observation stands for one bootstrap sample. \n",
    "\n"
   ]
  },
  {
   "cell_type": "code",
   "execution_count": 34,
   "metadata": {},
   "outputs": [],
   "source": [
    "# bootstrap samples\n",
    "np.random.seed = 573164\n",
    "M = 10000\n",
    "results = np.zeros((M, 10)) # Create an array to store the results"
   ]
  },
  {
   "cell_type": "markdown",
   "metadata": {},
   "source": [
    "We created an array based on the number of observations (10000) and columns (10). `np.zeros` returns a new array of given shape and type, filled with zeros."
   ]
  },
  {
   "cell_type": "code",
   "execution_count": 35,
   "metadata": {},
   "outputs": [],
   "source": [
    "# Iterate over the range of M, get a random sample of the data and calculate the proportion of days with losses greater than 5%\n",
    "for i in range(1, M+1):\n",
    "    btstrp_sample = np.random.choice(petr4_df[\"pct_return\"], size=petr4_df.shape[0], replace=True)\n",
    "    for j in range(1, 11):\n",
    "        loss = pd.Series(btstrp_sample<=(-j)).apply(lambda x: float(x)) * 100\n",
    "        results[i -1, j - 1] = np.mean(loss)"
   ]
  },
  {
   "cell_type": "code",
   "execution_count": 40,
   "metadata": {},
   "outputs": [],
   "source": [
    "results = pd.DataFrame(\n",
    "    results,\n",
    "    columns=[\n",
    "        \"loss1\",\n",
    "        \"loss2\",\n",
    "        \"loss3\",\n",
    "        \"loss4\",\n",
    "        \"loss5\",\n",
    "        \"loss6\",\n",
    "        \"loss7\",\n",
    "        \"loss8\",\n",
    "        \"loss9\",\n",
    "        \"loss10\",\n",
    "        ]\n",
    ")"
   ]
  },
  {
   "cell_type": "code",
   "execution_count": 41,
   "metadata": {},
   "outputs": [
    {
     "data": {
      "text/html": [
       "<div>\n",
       "<style scoped>\n",
       "    .dataframe tbody tr th:only-of-type {\n",
       "        vertical-align: middle;\n",
       "    }\n",
       "\n",
       "    .dataframe tbody tr th {\n",
       "        vertical-align: top;\n",
       "    }\n",
       "\n",
       "    .dataframe thead th {\n",
       "        text-align: right;\n",
       "    }\n",
       "</style>\n",
       "<table border=\"1\" class=\"dataframe\">\n",
       "  <thead>\n",
       "    <tr style=\"text-align: right;\">\n",
       "      <th></th>\n",
       "      <th>loss1</th>\n",
       "      <th>loss2</th>\n",
       "      <th>loss3</th>\n",
       "      <th>loss4</th>\n",
       "      <th>loss5</th>\n",
       "      <th>loss6</th>\n",
       "      <th>loss7</th>\n",
       "      <th>loss8</th>\n",
       "      <th>loss9</th>\n",
       "      <th>loss10</th>\n",
       "    </tr>\n",
       "  </thead>\n",
       "  <tbody>\n",
       "    <tr>\n",
       "      <th>0</th>\n",
       "      <td>31.887550</td>\n",
       "      <td>18.955823</td>\n",
       "      <td>10.642570</td>\n",
       "      <td>6.706827</td>\n",
       "      <td>3.895582</td>\n",
       "      <td>2.289157</td>\n",
       "      <td>1.244980</td>\n",
       "      <td>0.883534</td>\n",
       "      <td>0.763052</td>\n",
       "      <td>0.642570</td>\n",
       "    </tr>\n",
       "    <tr>\n",
       "      <th>1</th>\n",
       "      <td>29.076305</td>\n",
       "      <td>17.670683</td>\n",
       "      <td>10.682731</td>\n",
       "      <td>7.188755</td>\n",
       "      <td>4.136546</td>\n",
       "      <td>2.289157</td>\n",
       "      <td>1.526104</td>\n",
       "      <td>1.204819</td>\n",
       "      <td>0.963855</td>\n",
       "      <td>0.803213</td>\n",
       "    </tr>\n",
       "    <tr>\n",
       "      <th>2</th>\n",
       "      <td>30.803213</td>\n",
       "      <td>18.955823</td>\n",
       "      <td>11.405622</td>\n",
       "      <td>7.751004</td>\n",
       "      <td>4.538153</td>\n",
       "      <td>2.851406</td>\n",
       "      <td>1.847390</td>\n",
       "      <td>1.325301</td>\n",
       "      <td>1.124498</td>\n",
       "      <td>0.843373</td>\n",
       "    </tr>\n",
       "    <tr>\n",
       "      <th>3</th>\n",
       "      <td>30.361446</td>\n",
       "      <td>18.714859</td>\n",
       "      <td>11.485944</td>\n",
       "      <td>6.666667</td>\n",
       "      <td>3.855422</td>\n",
       "      <td>2.088353</td>\n",
       "      <td>1.325301</td>\n",
       "      <td>0.843373</td>\n",
       "      <td>0.522088</td>\n",
       "      <td>0.321285</td>\n",
       "    </tr>\n",
       "    <tr>\n",
       "      <th>4</th>\n",
       "      <td>28.674699</td>\n",
       "      <td>17.871486</td>\n",
       "      <td>10.602410</td>\n",
       "      <td>7.068273</td>\n",
       "      <td>3.935743</td>\n",
       "      <td>2.208835</td>\n",
       "      <td>1.365462</td>\n",
       "      <td>0.803213</td>\n",
       "      <td>0.682731</td>\n",
       "      <td>0.401606</td>\n",
       "    </tr>\n",
       "    <tr>\n",
       "      <th>...</th>\n",
       "      <td>...</td>\n",
       "      <td>...</td>\n",
       "      <td>...</td>\n",
       "      <td>...</td>\n",
       "      <td>...</td>\n",
       "      <td>...</td>\n",
       "      <td>...</td>\n",
       "      <td>...</td>\n",
       "      <td>...</td>\n",
       "      <td>...</td>\n",
       "    </tr>\n",
       "    <tr>\n",
       "      <th>9995</th>\n",
       "      <td>30.361446</td>\n",
       "      <td>18.273092</td>\n",
       "      <td>9.598394</td>\n",
       "      <td>5.823293</td>\n",
       "      <td>3.212851</td>\n",
       "      <td>1.686747</td>\n",
       "      <td>1.004016</td>\n",
       "      <td>0.682731</td>\n",
       "      <td>0.642570</td>\n",
       "      <td>0.522088</td>\n",
       "    </tr>\n",
       "    <tr>\n",
       "      <th>9996</th>\n",
       "      <td>30.120482</td>\n",
       "      <td>18.915663</td>\n",
       "      <td>11.485944</td>\n",
       "      <td>7.269076</td>\n",
       "      <td>4.136546</td>\n",
       "      <td>2.248996</td>\n",
       "      <td>1.767068</td>\n",
       "      <td>1.084337</td>\n",
       "      <td>0.963855</td>\n",
       "      <td>0.682731</td>\n",
       "    </tr>\n",
       "    <tr>\n",
       "      <th>9997</th>\n",
       "      <td>30.321285</td>\n",
       "      <td>17.951807</td>\n",
       "      <td>11.044177</td>\n",
       "      <td>6.465863</td>\n",
       "      <td>3.333333</td>\n",
       "      <td>2.008032</td>\n",
       "      <td>1.485944</td>\n",
       "      <td>1.084337</td>\n",
       "      <td>1.004016</td>\n",
       "      <td>0.803213</td>\n",
       "    </tr>\n",
       "    <tr>\n",
       "      <th>9998</th>\n",
       "      <td>28.795181</td>\n",
       "      <td>17.630522</td>\n",
       "      <td>10.642570</td>\n",
       "      <td>6.827309</td>\n",
       "      <td>3.855422</td>\n",
       "      <td>2.329317</td>\n",
       "      <td>1.405622</td>\n",
       "      <td>0.843373</td>\n",
       "      <td>0.803213</td>\n",
       "      <td>0.361446</td>\n",
       "    </tr>\n",
       "    <tr>\n",
       "      <th>9999</th>\n",
       "      <td>29.959839</td>\n",
       "      <td>18.955823</td>\n",
       "      <td>11.646586</td>\n",
       "      <td>7.510040</td>\n",
       "      <td>4.096386</td>\n",
       "      <td>2.248996</td>\n",
       "      <td>1.204819</td>\n",
       "      <td>0.883534</td>\n",
       "      <td>0.763052</td>\n",
       "      <td>0.361446</td>\n",
       "    </tr>\n",
       "  </tbody>\n",
       "</table>\n",
       "<p>10000 rows × 10 columns</p>\n",
       "</div>"
      ],
      "text/plain": [
       "          loss1      loss2      loss3     loss4     loss5     loss6     loss7  \\\n",
       "0     31.887550  18.955823  10.642570  6.706827  3.895582  2.289157  1.244980   \n",
       "1     29.076305  17.670683  10.682731  7.188755  4.136546  2.289157  1.526104   \n",
       "2     30.803213  18.955823  11.405622  7.751004  4.538153  2.851406  1.847390   \n",
       "3     30.361446  18.714859  11.485944  6.666667  3.855422  2.088353  1.325301   \n",
       "4     28.674699  17.871486  10.602410  7.068273  3.935743  2.208835  1.365462   \n",
       "...         ...        ...        ...       ...       ...       ...       ...   \n",
       "9995  30.361446  18.273092   9.598394  5.823293  3.212851  1.686747  1.004016   \n",
       "9996  30.120482  18.915663  11.485944  7.269076  4.136546  2.248996  1.767068   \n",
       "9997  30.321285  17.951807  11.044177  6.465863  3.333333  2.008032  1.485944   \n",
       "9998  28.795181  17.630522  10.642570  6.827309  3.855422  2.329317  1.405622   \n",
       "9999  29.959839  18.955823  11.646586  7.510040  4.096386  2.248996  1.204819   \n",
       "\n",
       "         loss8     loss9    loss10  \n",
       "0     0.883534  0.763052  0.642570  \n",
       "1     1.204819  0.963855  0.803213  \n",
       "2     1.325301  1.124498  0.843373  \n",
       "3     0.843373  0.522088  0.321285  \n",
       "4     0.803213  0.682731  0.401606  \n",
       "...        ...       ...       ...  \n",
       "9995  0.682731  0.642570  0.522088  \n",
       "9996  1.084337  0.963855  0.682731  \n",
       "9997  1.084337  1.004016  0.803213  \n",
       "9998  0.843373  0.803213  0.361446  \n",
       "9999  0.883534  0.763052  0.361446  \n",
       "\n",
       "[10000 rows x 10 columns]"
      ]
     },
     "execution_count": 41,
     "metadata": {},
     "output_type": "execute_result"
    }
   ],
   "source": [
    "results"
   ]
  },
  {
   "cell_type": "markdown",
   "metadata": {},
   "source": [
    "Now, we want to know the estimated proportion of observations with 5%+ losses. Let's delve into the statistics of `loss5` before plotting the histogram."
   ]
  },
  {
   "cell_type": "code",
   "execution_count": 42,
   "metadata": {},
   "outputs": [
    {
     "data": {
      "text/plain": [
       "count    10000.000000\n",
       "mean         3.900554\n",
       "std          0.393224\n",
       "min          2.289157\n",
       "25%          3.614458\n",
       "50%          3.895582\n",
       "75%          4.176707\n",
       "max          5.381526\n",
       "Name: loss5, dtype: float64"
      ]
     },
     "execution_count": 42,
     "metadata": {},
     "output_type": "execute_result"
    }
   ],
   "source": [
    "results[\"loss5\"].describe()"
   ]
  },
  {
   "cell_type": "code",
   "execution_count": 43,
   "metadata": {},
   "outputs": [
    {
     "data": {
      "text/html": [
       "<div>\n",
       "<style scoped>\n",
       "    .dataframe tbody tr th:only-of-type {\n",
       "        vertical-align: middle;\n",
       "    }\n",
       "\n",
       "    .dataframe tbody tr th {\n",
       "        vertical-align: top;\n",
       "    }\n",
       "\n",
       "    .dataframe thead th {\n",
       "        text-align: right;\n",
       "    }\n",
       "</style>\n",
       "<table border=\"1\" class=\"dataframe\">\n",
       "  <thead>\n",
       "    <tr style=\"text-align: right;\">\n",
       "      <th></th>\n",
       "      <th>Statistics</th>\n",
       "      <th>Value</th>\n",
       "    </tr>\n",
       "  </thead>\n",
       "  <tbody>\n",
       "    <tr>\n",
       "      <th>0</th>\n",
       "      <td>Mean</td>\n",
       "      <td>3.90</td>\n",
       "    </tr>\n",
       "    <tr>\n",
       "      <th>1</th>\n",
       "      <td>Standard deviation</td>\n",
       "      <td>0.39</td>\n",
       "    </tr>\n",
       "    <tr>\n",
       "      <th>2</th>\n",
       "      <td>Min percentage</td>\n",
       "      <td>2.29</td>\n",
       "    </tr>\n",
       "    <tr>\n",
       "      <th>3</th>\n",
       "      <td>Max percentage</td>\n",
       "      <td>5.38</td>\n",
       "    </tr>\n",
       "    <tr>\n",
       "      <th>4</th>\n",
       "      <td>25% quantile</td>\n",
       "      <td>3.61</td>\n",
       "    </tr>\n",
       "    <tr>\n",
       "      <th>5</th>\n",
       "      <td>Median</td>\n",
       "      <td>3.90</td>\n",
       "    </tr>\n",
       "    <tr>\n",
       "      <th>6</th>\n",
       "      <td>75% quantile</td>\n",
       "      <td>4.18</td>\n",
       "    </tr>\n",
       "    <tr>\n",
       "      <th>7</th>\n",
       "      <td>Number of observations</td>\n",
       "      <td>10000.00</td>\n",
       "    </tr>\n",
       "  </tbody>\n",
       "</table>\n",
       "</div>"
      ],
      "text/plain": [
       "               Statistics     Value\n",
       "0                    Mean      3.90\n",
       "1      Standard deviation      0.39\n",
       "2          Min percentage      2.29\n",
       "3          Max percentage      5.38\n",
       "4            25% quantile      3.61\n",
       "5                  Median      3.90\n",
       "6            75% quantile      4.18\n",
       "7  Number of observations  10000.00"
      ]
     },
     "execution_count": 43,
     "metadata": {},
     "output_type": "execute_result"
    }
   ],
   "source": [
    "pd.DataFrame.from_dict(\n",
    "    {\n",
    "        \"Statistics\": [\n",
    "            \"Mean\",\n",
    "            \"Standard deviation\",\n",
    "            \"Min percentage\",\n",
    "            \"Max percentage\",\n",
    "            \"25% quantile\",\n",
    "            \"Median\",\n",
    "            \"75% quantile\",\n",
    "            \"Number of observations\",\n",
    "        ],\n",
    "        \"Value\": [\n",
    "            results[\"loss5\"].describe()[\"mean\"],\n",
    "            results[\"loss5\"].describe()[\"std\"],\n",
    "            results[\"loss5\"].min(),\n",
    "            results[\"loss5\"].max(),\n",
    "            results[\"loss5\"].quantile(0.25),\n",
    "            results[\"loss5\"].median(),\n",
    "            results[\"loss5\"].quantile(0.75),\n",
    "            results[\"loss5\"].describe()[\"count\"],\n",
    "        ],\n",
    "    }\n",
    ").round(2)"
   ]
  },
  {
   "cell_type": "markdown",
   "metadata": {},
   "source": [
    "We can see how the mean is really close to the true value of our original population, `3.90%`. Out of 10000 iterations, we got values as low as 2.29% and as high as 5.38%. Because the mean is so close to the median, we can expect a normal distribution. Let's find out."
   ]
  },
  {
   "cell_type": "code",
   "execution_count": 66,
   "metadata": {},
   "outputs": [
    {
     "data": {
      "image/png": "[encoded data removed]"
     },
     "metadata": {
      "image/png": {
       "height": 480,
       "width": 640
      }
     },
     "output_type": "display_data"
    }
   ],
   "source": [
    "ggplot(results, aes(\"loss5\")) + geom_histogram(\n",
    "    fill=color[0], color=\"white\", binwidth=0.04, boundary=0, closed=\"left\"\n",
    ") + scale_y_continuous(\n",
    "    expand=(0, 0), limits=(0, 500), breaks=seq(0, 501, 200)\n",
    ") + scale_x_continuous(\n",
    "    expand=(0.01, 0.01), limits=(2, 6), breaks=seq(2, 6.1, 1)\n",
    ") + labs(\n",
    "    x=\"Percent of days with losses of 5% or more\", y=\"Frequency\"\n",
    ") + theme_bw()"
   ]
  },
  {
   "cell_type": "code",
   "execution_count": 75,
   "metadata": {},
   "outputs": [
    {
     "name": "stdout",
     "output_type": "stream",
     "text": [
      "The 95% confidence interval for the proportion of days with losses greater than 5% is [3.13253012 4.69879518].\n"
     ]
    }
   ],
   "source": [
    "# Get the 95% confidence interval of `results[\"loss5\"]`\n",
    "conf_int = np.percentile(results[\"loss5\"], [2.5, 97.5])\n",
    "print(f\"The 95% confidence interval for the proportion of days with losses greater than 5% is {conf_int}.\")"
   ]
  },
  {
   "cell_type": "markdown",
   "metadata": {},
   "source": [
    "We can check both SE, the formula and the bootstrapping technique, and we can observe that they are the same: 0.388%.\n",
    "\n",
    "\n",
    "\n",
    "### Findings ###\n",
    "\n",
    "With this, we can construct our confidence interval:\n",
    "- The 95% CI is 3.9% +- 2 * 0.39. This means [3.13% and 4.69%]\n",
    "- In the general pattern represented by the 11-year history of returns in our data, we can be **95% confident** that the chance of daily losses of more than 5% is **somewhere between 3.13% and 4.69%**.\n",
    "\n",
    "## 6. Conclude by giving advice on how to use these results in future investments decisions.\n",
    "Making choices about investments requires assessing risk, which means understanding the chances of incurring in major losses. In our experiment, we went far beyond a simple statistic - the mean value from a sample distribution - and tried to answer what *could* happen in similar scenarios if we did not know the full picture of our investment. This is usually the case and, after applying a sampling distribution and bootstrapping, we can better understand our risks.\n",
    "When it comes to **Petrobras** (`PETR4.SA`) assets, the risk is quite **significant** - we are highly confident that we can expect a daily loss of a significant level - between 3 and 4.5 percent - so we would encourage the investor to take some precautionary measures when having such asset on their portfolio. Obviously, we did not estimate factors that could encourage investing on Petrobras, such as the level of returns or, even, the percentage of daily gains above a certain threshold. Every risky asset has its rewards. But we could consider advising investors to leverage such risk by acquiring safer assets as well. This would depend on further analyses.\n"
   ]
  }
 ],
 "metadata": {
  "kernelspec": {
   "display_name": "venv",
   "language": "python",
   "name": "python3"
  },
  "language_info": {
   "codemirror_mode": {
    "name": "ipython",
    "version": 3
   },
   "file_extension": ".py",
   "mimetype": "text/x-python",
   "name": "python",
   "nbconvert_exporter": "python",
   "pygments_lexer": "ipython3",
   "version": "3.11.3"
  }
 },
 "nbformat": 4,
 "nbformat_minor": 2
}
