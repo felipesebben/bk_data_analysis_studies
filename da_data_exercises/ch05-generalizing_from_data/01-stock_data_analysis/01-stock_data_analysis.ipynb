{
 "cells": [
  {
   "cell_type": "markdown",
   "metadata": {},
   "source": [
    "<h1>Chapter 5 | Data Exercise #1 | Financial Assets | Generalizing from Data</h1>\n",
    "<h2>Introduction:</h2>\n",
    "<p>In this notebook, you will find my notes and code for Chapter 5's <b>exercise 1</b> of the book <a href=\"https://gabors-data-analysis.com/\">Data Analysis for Business, Economics, and Policy</a>, by Gábor Békés and Gábor Kézdi. The question was: \n",
    "<p>1. Download ten years of daily data on the price of a financial asset, such as an individual stock, or another stock market index.</p>\n",
    "<p>Assignments:</p>\n",
    "<ul>\n",
    "    <li>Document the main features of the data.</li>\n",
    "    <li>Create daily percentage returns.</li>\n",
    "    <li>Create a binary variable indicating large losses by choosing your own cutoff.</li>\n",
    "    <li>Estimate the standard error of the estimated likelihood of large daily losses by bootsrap and using the SE formula.</li>\n",
    "    <li>Compare the two, and create 95% confidence intervals.</li>\n",
    "    <li>Conclude by giving advice on how to use these results in future investments decisions.</li>\n",
    "\n",
    "</ul>\n",
    "<h2>1. Load the data</h2>"
   ]
  },
  {
   "cell_type": "code",
   "execution_count": 44,
   "metadata": {},
   "outputs": [],
   "source": [
    "import os\n",
    "import pandas as pd\n",
    "import warnings\n",
    "import yfinance as yf\n",
    "from datetime import datetime\n",
    "import matplotlib.pyplot as plt\n",
    "\n",
    "warnings.filterwarnings(\"ignore\")\n",
    "%matplotlib inline"
   ]
  },
  {
   "cell_type": "code",
   "execution_count": 22,
   "metadata": {},
   "outputs": [],
   "source": [
    "# Increase number of returned rows in pandas\n",
    "pd.set_option(\"display.max_rows\", 500)"
   ]
  },
  {
   "cell_type": "code",
   "execution_count": 23,
   "metadata": {},
   "outputs": [],
   "source": [
    "# Current script folder\n",
    "dirname = os.getcwd()\n",
    "\n",
    "# Get location folders\n",
    "data_in = f\"{dirname}/da_data_exercises/ch05-generalizing_from_data/01-stock_data_analysis/data/raw/\"\n",
    "data_out = f\"{dirname}/da_data_exercises/ch05-generalizing_from_data/01-stock_data_analysis/data/clean/\"\n",
    "output = f\"{dirname}/da_data_exercises/ch05-generalizing_from_data/01-stock_data_analysis/data/output/\"\n",
    "func = f\"{dirname}da_case_studies/ch00-tech_prep/\"\n",
    "\n",
    "paths = [data_in, data_out, output]\n",
    "\n",
    "for path in paths:\n",
    "    if not os.path.exists(path):\n",
    "        os.makedirs(path)"
   ]
  },
  {
   "cell_type": "markdown",
   "metadata": {},
   "source": [
    "It would be a good idea to see how Brazilian firms are doing. We could use **Petrobras**, the main Brazilian oil company (which is a state-owned multinational corporation). Let's test using `Yahoo Finance`."
   ]
  },
  {
   "cell_type": "code",
   "execution_count": 24,
   "metadata": {},
   "outputs": [
    {
     "data": {
      "text/html": [
       "<div>\n",
       "<style scoped>\n",
       "    .dataframe tbody tr th:only-of-type {\n",
       "        vertical-align: middle;\n",
       "    }\n",
       "\n",
       "    .dataframe tbody tr th {\n",
       "        vertical-align: top;\n",
       "    }\n",
       "\n",
       "    .dataframe thead th {\n",
       "        text-align: right;\n",
       "    }\n",
       "</style>\n",
       "<table border=\"1\" class=\"dataframe\">\n",
       "  <thead>\n",
       "    <tr style=\"text-align: right;\">\n",
       "      <th></th>\n",
       "      <th>Open</th>\n",
       "      <th>High</th>\n",
       "      <th>Low</th>\n",
       "      <th>Close</th>\n",
       "      <th>Volume</th>\n",
       "      <th>Dividends</th>\n",
       "      <th>Stock Splits</th>\n",
       "    </tr>\n",
       "    <tr>\n",
       "      <th>Date</th>\n",
       "      <th></th>\n",
       "      <th></th>\n",
       "      <th></th>\n",
       "      <th></th>\n",
       "      <th></th>\n",
       "      <th></th>\n",
       "      <th></th>\n",
       "    </tr>\n",
       "  </thead>\n",
       "  <tbody>\n",
       "    <tr>\n",
       "      <th>2024-07-01 00:00:00-03:00</th>\n",
       "      <td>38.310001</td>\n",
       "      <td>38.759998</td>\n",
       "      <td>38.180000</td>\n",
       "      <td>38.630001</td>\n",
       "      <td>24963500</td>\n",
       "      <td>0.0</td>\n",
       "      <td>0.0</td>\n",
       "    </tr>\n",
       "    <tr>\n",
       "      <th>2024-07-02 00:00:00-03:00</th>\n",
       "      <td>38.830002</td>\n",
       "      <td>39.099998</td>\n",
       "      <td>38.439999</td>\n",
       "      <td>38.509998</td>\n",
       "      <td>33346200</td>\n",
       "      <td>0.0</td>\n",
       "      <td>0.0</td>\n",
       "    </tr>\n",
       "    <tr>\n",
       "      <th>2024-07-03 00:00:00-03:00</th>\n",
       "      <td>38.700001</td>\n",
       "      <td>38.790001</td>\n",
       "      <td>37.759998</td>\n",
       "      <td>37.840000</td>\n",
       "      <td>38509400</td>\n",
       "      <td>0.0</td>\n",
       "      <td>0.0</td>\n",
       "    </tr>\n",
       "    <tr>\n",
       "      <th>2024-07-04 00:00:00-03:00</th>\n",
       "      <td>37.900002</td>\n",
       "      <td>37.959999</td>\n",
       "      <td>37.119999</td>\n",
       "      <td>37.320000</td>\n",
       "      <td>32698800</td>\n",
       "      <td>0.0</td>\n",
       "      <td>0.0</td>\n",
       "    </tr>\n",
       "    <tr>\n",
       "      <th>2024-07-05 00:00:00-03:00</th>\n",
       "      <td>37.450001</td>\n",
       "      <td>37.650002</td>\n",
       "      <td>37.110001</td>\n",
       "      <td>37.520000</td>\n",
       "      <td>32758800</td>\n",
       "      <td>0.0</td>\n",
       "      <td>0.0</td>\n",
       "    </tr>\n",
       "  </tbody>\n",
       "</table>\n",
       "</div>"
      ],
      "text/plain": [
       "                                Open       High        Low      Close  \\\n",
       "Date                                                                    \n",
       "2024-07-01 00:00:00-03:00  38.310001  38.759998  38.180000  38.630001   \n",
       "2024-07-02 00:00:00-03:00  38.830002  39.099998  38.439999  38.509998   \n",
       "2024-07-03 00:00:00-03:00  38.700001  38.790001  37.759998  37.840000   \n",
       "2024-07-04 00:00:00-03:00  37.900002  37.959999  37.119999  37.320000   \n",
       "2024-07-05 00:00:00-03:00  37.450001  37.650002  37.110001  37.520000   \n",
       "\n",
       "                             Volume  Dividends  Stock Splits  \n",
       "Date                                                          \n",
       "2024-07-01 00:00:00-03:00  24963500        0.0           0.0  \n",
       "2024-07-02 00:00:00-03:00  33346200        0.0           0.0  \n",
       "2024-07-03 00:00:00-03:00  38509400        0.0           0.0  \n",
       "2024-07-04 00:00:00-03:00  32698800        0.0           0.0  \n",
       "2024-07-05 00:00:00-03:00  32758800        0.0           0.0  "
      ]
     },
     "execution_count": 24,
     "metadata": {},
     "output_type": "execute_result"
    }
   ],
   "source": [
    "ticker = yf.Ticker(\"PETR4.SA\")\n",
    "\n",
    "# Get data of the most recent date\n",
    "petr4_data = ticker.history(period=\"5d\")\n",
    "\n",
    "petr4_data\n"
   ]
  },
  {
   "cell_type": "markdown",
   "metadata": {},
   "source": [
    "Great! Now, our goal is to get 10 years of data. Let's try to specify the period we want and hopefully this API won't let us down."
   ]
  },
  {
   "cell_type": "code",
   "execution_count": 25,
   "metadata": {},
   "outputs": [],
   "source": [
    "# Define the start date\n",
    "start_date = datetime(2014, 7, 7)\n",
    "\n",
    "# Define the end date\n",
    "end_date = datetime(2024, 7, 7)\n",
    "\n",
    "# Pass the parameters as the taken dates for start and end\n",
    "petr4_data = yf.Ticker(\"PETR4.SA\")\n",
    "petr4_df = petr4_data.history(start=start_date, end=end_date)"
   ]
  },
  {
   "cell_type": "code",
   "execution_count": 26,
   "metadata": {},
   "outputs": [
    {
     "data": {
      "text/html": [
       "<div>\n",
       "<style scoped>\n",
       "    .dataframe tbody tr th:only-of-type {\n",
       "        vertical-align: middle;\n",
       "    }\n",
       "\n",
       "    .dataframe tbody tr th {\n",
       "        vertical-align: top;\n",
       "    }\n",
       "\n",
       "    .dataframe thead th {\n",
       "        text-align: right;\n",
       "    }\n",
       "</style>\n",
       "<table border=\"1\" class=\"dataframe\">\n",
       "  <thead>\n",
       "    <tr style=\"text-align: right;\">\n",
       "      <th></th>\n",
       "      <th>Open</th>\n",
       "      <th>High</th>\n",
       "      <th>Low</th>\n",
       "      <th>Close</th>\n",
       "      <th>Volume</th>\n",
       "      <th>Dividends</th>\n",
       "      <th>Stock Splits</th>\n",
       "    </tr>\n",
       "    <tr>\n",
       "      <th>Date</th>\n",
       "      <th></th>\n",
       "      <th></th>\n",
       "      <th></th>\n",
       "      <th></th>\n",
       "      <th></th>\n",
       "      <th></th>\n",
       "      <th></th>\n",
       "    </tr>\n",
       "  </thead>\n",
       "  <tbody>\n",
       "    <tr>\n",
       "      <th>2014-07-07 00:00:00-03:00</th>\n",
       "      <td>5.747406</td>\n",
       "      <td>5.757310</td>\n",
       "      <td>5.658273</td>\n",
       "      <td>5.717695</td>\n",
       "      <td>18701200</td>\n",
       "      <td>0.0</td>\n",
       "      <td>0.0</td>\n",
       "    </tr>\n",
       "    <tr>\n",
       "      <th>2014-07-08 00:00:00-03:00</th>\n",
       "      <td>5.730901</td>\n",
       "      <td>5.750708</td>\n",
       "      <td>5.668178</td>\n",
       "      <td>5.720997</td>\n",
       "      <td>11504900</td>\n",
       "      <td>0.0</td>\n",
       "      <td>0.0</td>\n",
       "    </tr>\n",
       "    <tr>\n",
       "      <th>2014-07-10 00:00:00-03:00</th>\n",
       "      <td>5.869553</td>\n",
       "      <td>5.998300</td>\n",
       "      <td>5.816733</td>\n",
       "      <td>5.978493</td>\n",
       "      <td>35913600</td>\n",
       "      <td>0.0</td>\n",
       "      <td>0.0</td>\n",
       "    </tr>\n",
       "    <tr>\n",
       "      <th>2014-07-11 00:00:00-03:00</th>\n",
       "      <td>5.965287</td>\n",
       "      <td>6.047817</td>\n",
       "      <td>5.876154</td>\n",
       "      <td>6.021408</td>\n",
       "      <td>20928900</td>\n",
       "      <td>0.0</td>\n",
       "      <td>0.0</td>\n",
       "    </tr>\n",
       "    <tr>\n",
       "      <th>2014-07-14 00:00:00-03:00</th>\n",
       "      <td>6.100636</td>\n",
       "      <td>6.331721</td>\n",
       "      <td>6.080829</td>\n",
       "      <td>6.305312</td>\n",
       "      <td>70399100</td>\n",
       "      <td>0.0</td>\n",
       "      <td>0.0</td>\n",
       "    </tr>\n",
       "  </tbody>\n",
       "</table>\n",
       "</div>"
      ],
      "text/plain": [
       "                               Open      High       Low     Close    Volume  \\\n",
       "Date                                                                          \n",
       "2014-07-07 00:00:00-03:00  5.747406  5.757310  5.658273  5.717695  18701200   \n",
       "2014-07-08 00:00:00-03:00  5.730901  5.750708  5.668178  5.720997  11504900   \n",
       "2014-07-10 00:00:00-03:00  5.869553  5.998300  5.816733  5.978493  35913600   \n",
       "2014-07-11 00:00:00-03:00  5.965287  6.047817  5.876154  6.021408  20928900   \n",
       "2014-07-14 00:00:00-03:00  6.100636  6.331721  6.080829  6.305312  70399100   \n",
       "\n",
       "                           Dividends  Stock Splits  \n",
       "Date                                                \n",
       "2014-07-07 00:00:00-03:00        0.0           0.0  \n",
       "2014-07-08 00:00:00-03:00        0.0           0.0  \n",
       "2014-07-10 00:00:00-03:00        0.0           0.0  \n",
       "2014-07-11 00:00:00-03:00        0.0           0.0  \n",
       "2014-07-14 00:00:00-03:00        0.0           0.0  "
      ]
     },
     "execution_count": 26,
     "metadata": {},
     "output_type": "execute_result"
    }
   ],
   "source": [
    "petr4_df.head()"
   ]
  },
  {
   "cell_type": "markdown",
   "metadata": {},
   "source": [
    "Jah bless Yahoo Finance! Let's move on.\n",
    "## 2. Document the main features of the data ##\n",
    "Let's take a picture of our dataset and describe it.\n",
    "\n"
   ]
  },
  {
   "cell_type": "code",
   "execution_count": 27,
   "metadata": {},
   "outputs": [
    {
     "data": {
      "text/plain": [
       "(2488, 7)"
      ]
     },
     "execution_count": 27,
     "metadata": {},
     "output_type": "execute_result"
    }
   ],
   "source": [
    "petr4_df.shape"
   ]
  },
  {
   "cell_type": "code",
   "execution_count": 28,
   "metadata": {},
   "outputs": [
    {
     "name": "stdout",
     "output_type": "stream",
     "text": [
      "<class 'pandas.core.frame.DataFrame'>\n",
      "DatetimeIndex: 2488 entries, 2014-07-07 00:00:00-03:00 to 2024-07-05 00:00:00-03:00\n",
      "Data columns (total 7 columns):\n",
      " #   Column        Non-Null Count  Dtype  \n",
      "---  ------        --------------  -----  \n",
      " 0   Open          2488 non-null   float64\n",
      " 1   High          2488 non-null   float64\n",
      " 2   Low           2488 non-null   float64\n",
      " 3   Close         2488 non-null   float64\n",
      " 4   Volume        2488 non-null   int64  \n",
      " 5   Dividends     2488 non-null   float64\n",
      " 6   Stock Splits  2488 non-null   float64\n",
      "dtypes: float64(6), int64(1)\n",
      "memory usage: 155.5 KB\n"
     ]
    }
   ],
   "source": [
    "petr4_df.info()"
   ]
  },
  {
   "cell_type": "code",
   "execution_count": 29,
   "metadata": {},
   "outputs": [
    {
     "name": "stdout",
     "output_type": "stream",
     "text": [
      "There are 0 observations in the dataset.\n"
     ]
    }
   ],
   "source": [
    "is_duplicate = petr4_df.duplicated().sum()\n",
    "print(f\"There are {is_duplicate} observations in the dataset.\")"
   ]
  },
  {
   "cell_type": "markdown",
   "metadata": {},
   "source": [
    "A brief summary:\n",
    "- Our dataset has 2488 observations and 7 features/variables.\n",
    "- All columns are numeric.\n",
    "- There are no missing values.\n",
    "- There are no duplicate values either.\n",
    "\n",
    "About the variables, a short description:\n",
    "\n",
    "\n",
    "| **Variable** | **Definition** |\n",
    "|--------------| ---------------|\n",
    "| `Open`       | The opening price for the specified date. |\n",
    "| `High`       | The high price for the specified date. |\n",
    "| `Low`        | The low price for the specified date. |\n",
    "| `Close`      | The closing price for the specified date. |\n",
    "| `Volume`     | The number of shares traded in a stock or contracts traded in futures or options. |\n",
    "| `Dividends`  | A portion of a company's earnings that is paid to a shareholder. |\n",
    "| `Stock Splits` |  A corporate action in which a company increases the number of its outstanding shares by issuing more shares to current shareholders. | \n"
   ]
  },
  {
   "cell_type": "markdown",
   "metadata": {},
   "source": [
    "## 3. Create daily percentage returns and date columns##\n",
    "Our goal is to work on closing prices, so we can include only `Close` and create a percent return variable that indicate the percentage change on a daily basis.\n"
   ]
  },
  {
   "cell_type": "code",
   "execution_count": 36,
   "metadata": {},
   "outputs": [],
   "source": [
    "# Keep only `Close` column\n",
    "petr4_df = petr4_df[[\"Close\"]]\n",
    "\n",
    "petr4_df[\"pct_return\"] = (\n",
    "    (petr4_df[\"Close\"] - petr4_df.shift(1)[\"Close\"])\n",
    "    /\n",
    "    petr4_df.shift(1)[\"Close\"] * 100\n",
    ")"
   ]
  },
  {
   "cell_type": "code",
   "execution_count": 39,
   "metadata": {},
   "outputs": [
    {
     "data": {
      "text/html": [
       "<div>\n",
       "<style scoped>\n",
       "    .dataframe tbody tr th:only-of-type {\n",
       "        vertical-align: middle;\n",
       "    }\n",
       "\n",
       "    .dataframe tbody tr th {\n",
       "        vertical-align: top;\n",
       "    }\n",
       "\n",
       "    .dataframe thead th {\n",
       "        text-align: right;\n",
       "    }\n",
       "</style>\n",
       "<table border=\"1\" class=\"dataframe\">\n",
       "  <thead>\n",
       "    <tr style=\"text-align: right;\">\n",
       "      <th></th>\n",
       "      <th>Close</th>\n",
       "      <th>pct_return</th>\n",
       "    </tr>\n",
       "    <tr>\n",
       "      <th>Date</th>\n",
       "      <th></th>\n",
       "      <th></th>\n",
       "    </tr>\n",
       "  </thead>\n",
       "  <tbody>\n",
       "    <tr>\n",
       "      <th>2014-07-07 00:00:00-03:00</th>\n",
       "      <td>5.717695</td>\n",
       "      <td>NaN</td>\n",
       "    </tr>\n",
       "    <tr>\n",
       "      <th>2014-07-08 00:00:00-03:00</th>\n",
       "      <td>5.720997</td>\n",
       "      <td>0.057752</td>\n",
       "    </tr>\n",
       "    <tr>\n",
       "      <th>2014-07-10 00:00:00-03:00</th>\n",
       "      <td>5.978493</td>\n",
       "      <td>4.500892</td>\n",
       "    </tr>\n",
       "    <tr>\n",
       "      <th>2014-07-11 00:00:00-03:00</th>\n",
       "      <td>6.021408</td>\n",
       "      <td>0.717821</td>\n",
       "    </tr>\n",
       "    <tr>\n",
       "      <th>2014-07-14 00:00:00-03:00</th>\n",
       "      <td>6.305312</td>\n",
       "      <td>4.714912</td>\n",
       "    </tr>\n",
       "  </tbody>\n",
       "</table>\n",
       "</div>"
      ],
      "text/plain": [
       "                              Close  pct_return\n",
       "Date                                           \n",
       "2014-07-07 00:00:00-03:00  5.717695         NaN\n",
       "2014-07-08 00:00:00-03:00  5.720997    0.057752\n",
       "2014-07-10 00:00:00-03:00  5.978493    4.500892\n",
       "2014-07-11 00:00:00-03:00  6.021408    0.717821\n",
       "2014-07-14 00:00:00-03:00  6.305312    4.714912"
      ]
     },
     "execution_count": 39,
     "metadata": {},
     "output_type": "execute_result"
    }
   ],
   "source": [
    "petr4_df.head()"
   ]
  },
  {
   "cell_type": "code",
   "execution_count": 40,
   "metadata": {},
   "outputs": [
    {
     "name": "stdout",
     "output_type": "stream",
     "text": [
      "<class 'pandas.core.frame.DataFrame'>\n",
      "DatetimeIndex: 2488 entries, 2014-07-07 00:00:00-03:00 to 2024-07-05 00:00:00-03:00\n",
      "Data columns (total 2 columns):\n",
      " #   Column      Non-Null Count  Dtype  \n",
      "---  ------      --------------  -----  \n",
      " 0   Close       2488 non-null   float64\n",
      " 1   pct_return  2487 non-null   float64\n",
      "dtypes: float64(2)\n",
      "memory usage: 58.3 KB\n"
     ]
    }
   ],
   "source": [
    "petr4_df.info()"
   ]
  },
  {
   "cell_type": "code",
   "execution_count": 41,
   "metadata": {},
   "outputs": [
    {
     "data": {
      "text/html": [
       "<div>\n",
       "<style scoped>\n",
       "    .dataframe tbody tr th:only-of-type {\n",
       "        vertical-align: middle;\n",
       "    }\n",
       "\n",
       "    .dataframe tbody tr th {\n",
       "        vertical-align: top;\n",
       "    }\n",
       "\n",
       "    .dataframe thead th {\n",
       "        text-align: right;\n",
       "    }\n",
       "</style>\n",
       "<table border=\"1\" class=\"dataframe\">\n",
       "  <thead>\n",
       "    <tr style=\"text-align: right;\">\n",
       "      <th></th>\n",
       "      <th>Date</th>\n",
       "      <th>Close</th>\n",
       "      <th>pct_return</th>\n",
       "    </tr>\n",
       "  </thead>\n",
       "  <tbody>\n",
       "    <tr>\n",
       "      <th>0</th>\n",
       "      <td>2014-07-07 00:00:00-03:00</td>\n",
       "      <td>5.717695</td>\n",
       "      <td>NaN</td>\n",
       "    </tr>\n",
       "    <tr>\n",
       "      <th>1</th>\n",
       "      <td>2014-07-08 00:00:00-03:00</td>\n",
       "      <td>5.720997</td>\n",
       "      <td>0.057752</td>\n",
       "    </tr>\n",
       "    <tr>\n",
       "      <th>2</th>\n",
       "      <td>2014-07-10 00:00:00-03:00</td>\n",
       "      <td>5.978493</td>\n",
       "      <td>4.500892</td>\n",
       "    </tr>\n",
       "    <tr>\n",
       "      <th>3</th>\n",
       "      <td>2014-07-11 00:00:00-03:00</td>\n",
       "      <td>6.021408</td>\n",
       "      <td>0.717821</td>\n",
       "    </tr>\n",
       "    <tr>\n",
       "      <th>4</th>\n",
       "      <td>2014-07-14 00:00:00-03:00</td>\n",
       "      <td>6.305312</td>\n",
       "      <td>4.714912</td>\n",
       "    </tr>\n",
       "  </tbody>\n",
       "</table>\n",
       "</div>"
      ],
      "text/plain": [
       "                       Date     Close  pct_return\n",
       "0 2014-07-07 00:00:00-03:00  5.717695         NaN\n",
       "1 2014-07-08 00:00:00-03:00  5.720997    0.057752\n",
       "2 2014-07-10 00:00:00-03:00  5.978493    4.500892\n",
       "3 2014-07-11 00:00:00-03:00  6.021408    0.717821\n",
       "4 2014-07-14 00:00:00-03:00  6.305312    4.714912"
      ]
     },
     "execution_count": 41,
     "metadata": {},
     "output_type": "execute_result"
    }
   ],
   "source": [
    "# Convert the `Date` index to a column\n",
    "petr4_df.reset_index(inplace=True)\n",
    "petr4_df.head()"
   ]
  },
  {
   "cell_type": "markdown",
   "metadata": {},
   "source": [
    "Great! We can now perform a few transformations on `Date` and obtain the separate `year`, `month`, and `yearmonth` variables."
   ]
  },
  {
   "cell_type": "code",
   "execution_count": 42,
   "metadata": {},
   "outputs": [],
   "source": [
    "petr4_df[\"Date\"] = pd.to_datetime(petr4_df[\"Date\"], format=\"%Y-%m-%d\")\n",
    "petr4_df[\"year\"] = petr4_df[\"Date\"].dt.year\n",
    "petr4_df[\"month\"] = petr4_df[\"Date\"].dt.month\n",
    "petr4_df[\"year_month\"] = petr4_df[\"Date\"].dt.to_period(\"M\")\n"
   ]
  },
  {
   "cell_type": "code",
   "execution_count": 43,
   "metadata": {},
   "outputs": [
    {
     "data": {
      "text/html": [
       "<div>\n",
       "<style scoped>\n",
       "    .dataframe tbody tr th:only-of-type {\n",
       "        vertical-align: middle;\n",
       "    }\n",
       "\n",
       "    .dataframe tbody tr th {\n",
       "        vertical-align: top;\n",
       "    }\n",
       "\n",
       "    .dataframe thead th {\n",
       "        text-align: right;\n",
       "    }\n",
       "</style>\n",
       "<table border=\"1\" class=\"dataframe\">\n",
       "  <thead>\n",
       "    <tr style=\"text-align: right;\">\n",
       "      <th></th>\n",
       "      <th>Date</th>\n",
       "      <th>Close</th>\n",
       "      <th>pct_return</th>\n",
       "      <th>year</th>\n",
       "      <th>month</th>\n",
       "      <th>year_month</th>\n",
       "    </tr>\n",
       "  </thead>\n",
       "  <tbody>\n",
       "    <tr>\n",
       "      <th>0</th>\n",
       "      <td>2014-07-07 00:00:00-03:00</td>\n",
       "      <td>5.717695</td>\n",
       "      <td>NaN</td>\n",
       "      <td>2014</td>\n",
       "      <td>7</td>\n",
       "      <td>2014-07</td>\n",
       "    </tr>\n",
       "    <tr>\n",
       "      <th>1</th>\n",
       "      <td>2014-07-08 00:00:00-03:00</td>\n",
       "      <td>5.720997</td>\n",
       "      <td>0.057752</td>\n",
       "      <td>2014</td>\n",
       "      <td>7</td>\n",
       "      <td>2014-07</td>\n",
       "    </tr>\n",
       "    <tr>\n",
       "      <th>2</th>\n",
       "      <td>2014-07-10 00:00:00-03:00</td>\n",
       "      <td>5.978493</td>\n",
       "      <td>4.500892</td>\n",
       "      <td>2014</td>\n",
       "      <td>7</td>\n",
       "      <td>2014-07</td>\n",
       "    </tr>\n",
       "    <tr>\n",
       "      <th>3</th>\n",
       "      <td>2014-07-11 00:00:00-03:00</td>\n",
       "      <td>6.021408</td>\n",
       "      <td>0.717821</td>\n",
       "      <td>2014</td>\n",
       "      <td>7</td>\n",
       "      <td>2014-07</td>\n",
       "    </tr>\n",
       "    <tr>\n",
       "      <th>4</th>\n",
       "      <td>2014-07-14 00:00:00-03:00</td>\n",
       "      <td>6.305312</td>\n",
       "      <td>4.714912</td>\n",
       "      <td>2014</td>\n",
       "      <td>7</td>\n",
       "      <td>2014-07</td>\n",
       "    </tr>\n",
       "  </tbody>\n",
       "</table>\n",
       "</div>"
      ],
      "text/plain": [
       "                       Date     Close  pct_return  year  month year_month\n",
       "0 2014-07-07 00:00:00-03:00  5.717695         NaN  2014      7    2014-07\n",
       "1 2014-07-08 00:00:00-03:00  5.720997    0.057752  2014      7    2014-07\n",
       "2 2014-07-10 00:00:00-03:00  5.978493    4.500892  2014      7    2014-07\n",
       "3 2014-07-11 00:00:00-03:00  6.021408    0.717821  2014      7    2014-07\n",
       "4 2014-07-14 00:00:00-03:00  6.305312    4.714912  2014      7    2014-07"
      ]
     },
     "execution_count": 43,
     "metadata": {},
     "output_type": "execute_result"
    }
   ],
   "source": [
    "petr4_df.head()"
   ]
  },
  {
   "cell_type": "markdown",
   "metadata": {},
   "source": [
    "## 4. Plot the histogram of daily returns, annotate losses ##"
   ]
  },
  {
   "cell_type": "code",
   "execution_count": 45,
   "metadata": {},
   "outputs": [
    {
     "data": {
      "image/png": "[encoded data removed]",
      "text/plain": [
       "<Figure size 1200x600 with 1 Axes>"
      ]
     },
     "metadata": {},
     "output_type": "display_data"
    }
   ],
   "source": [
    "# Create histogram of daily returns\n",
    "plt.figure(figsize=(12, 6))\n",
    "\n",
    "plt.hist(petr4_df[\"pct_return\"], bins=50, color=\"blue\", edgecolor=\"black\")\n",
    "plt.title(\"Histogram of Daily Returns\")\n",
    "plt.xlabel(\"Daily Returns (%)\")\n",
    "plt.ylabel(\"Frequency\")\n",
    "plt.show()\n"
   ]
  },
  {
   "cell_type": "code",
   "execution_count": null,
   "metadata": {},
   "outputs": [],
   "source": []
  }
 ],
 "metadata": {
  "kernelspec": {
   "display_name": "venv",
   "language": "python",
   "name": "python3"
  },
  "language_info": {
   "codemirror_mode": {
    "name": "ipython",
    "version": 3
   },
   "file_extension": ".py",
   "mimetype": "text/x-python",
   "name": "python",
   "nbconvert_exporter": "python",
   "pygments_lexer": "ipython3",
   "version": "3.11.3"
  }
 },
 "nbformat": 4,
 "nbformat_minor": 2
}
