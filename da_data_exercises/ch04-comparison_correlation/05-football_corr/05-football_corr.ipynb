{
 "cells": [
  {
   "cell_type": "markdown",
   "metadata": {},
   "source": [
    "<h1>Chapter 4 | Data Exercise #5 | <code>wms-management-survey</code> | Comparison and correlation</h1>\n",
    "<h2>Introduction:</h2>\n",
    "<p>In this notebook, you will find my notes and code for Chapter 4's <b>exercise 5</b> of the book <a href=\"https://gabors-data-analysis.com/\">Data Analysis for Business, Economics, and Policy</a>, by Gábor Békés and Gábor Kézdi. The question was: \n",
    "<p>5. Use the <code>football</code> dataset and pick a season. Create three groups of teams, based on their performance in their previous season (new teams come from the lower division, and you may put them in the lowest bin).</p>\n",
    "<p>Assignments:</p>\n",
    "<ul>\n",
    "    <li>Examine the extent of home team advantage (as in Chapter 3 Section 3.C1) by comparing it across  these three groups of teams.</li>\n",
    "    <li>Produce bin scatters and scatterplots, and calculate conditional statistics.</li>\n",
    "    <li>Discuss what you find, and comment on which visualization you find the most useful.</li>\n",
    "</ul>\n",
    "<h2><b>1.</b> Load the data</h2>"
   ]
  },
  {
   "cell_type": "code",
   "execution_count": 59,
   "metadata": {},
   "outputs": [],
   "source": [
    "import os\n",
    "import sys\n",
    "import warnings\n",
    "import pandas as pd\n",
    "import matplotlib.pyplot as plt\n",
    "import numpy as np\n",
    "from plotnine import *\n",
    "from mizani.formatters import percent_format\n",
    "import plotly.express as px\n",
    "import nbformat\n",
    "\n",
    "warnings.filterwarnings(\"ignore\")\n",
    "%matplotlib inline"
   ]
  },
  {
   "cell_type": "code",
   "execution_count": 60,
   "metadata": {},
   "outputs": [],
   "source": [
    "# Increase number of returned rows in pandas\n",
    "pd.set_option(\"display.max_rows\", 500)"
   ]
  },
  {
   "cell_type": "code",
   "execution_count": 61,
   "metadata": {},
   "outputs": [],
   "source": [
    "# Current script folder\n",
    "current_path = os.getcwd()\n",
    "dirname = f\"{current_path}/\"\n",
    "# Get location folders\n",
    "data_in = f\"{dirname}da_data_repo/football/clean/\"\n",
    "data_out = f\"{dirname}da_data_exercises/ch04-comparison_correlation/05-football_corr/data/clean/\"\n",
    "output = f\"{dirname}da_data_exercises/ch04-comparison_correlation/05-football_corr/\"\n",
    "func = f\"{dirname}da_case_studies/ch00-tech_prep/\"\n",
    "sys.path.append(func)"
   ]
  },
  {
   "cell_type": "code",
   "execution_count": 62,
   "metadata": {},
   "outputs": [
    {
     "data": {
      "text/plain": [
       "'c:\\\\Users\\\\Felipe\\\\python_work\\\\Projects\\\\bk_data_analysis/'"
      ]
     },
     "execution_count": 62,
     "metadata": {},
     "output_type": "execute_result"
    }
   ],
   "source": [
    "dirname"
   ]
  },
  {
   "cell_type": "code",
   "execution_count": 63,
   "metadata": {},
   "outputs": [],
   "source": [
    "from py_helper_functions import *"
   ]
  },
  {
   "cell_type": "code",
   "execution_count": 64,
   "metadata": {},
   "outputs": [],
   "source": [
    "df = pd.read_csv(f\"{data_in}epl_games.csv\")"
   ]
  },
  {
   "cell_type": "code",
   "execution_count": 65,
   "metadata": {},
   "outputs": [
    {
     "data": {
      "text/html": [
       "<div>\n",
       "<style scoped>\n",
       "    .dataframe tbody tr th:only-of-type {\n",
       "        vertical-align: middle;\n",
       "    }\n",
       "\n",
       "    .dataframe tbody tr th {\n",
       "        vertical-align: top;\n",
       "    }\n",
       "\n",
       "    .dataframe thead th {\n",
       "        text-align: right;\n",
       "    }\n",
       "</style>\n",
       "<table border=\"1\" class=\"dataframe\">\n",
       "  <thead>\n",
       "    <tr style=\"text-align: right;\">\n",
       "      <th></th>\n",
       "      <th>div</th>\n",
       "      <th>season</th>\n",
       "      <th>date</th>\n",
       "      <th>team_home</th>\n",
       "      <th>team_away</th>\n",
       "      <th>points_home</th>\n",
       "      <th>points_away</th>\n",
       "      <th>goals_home</th>\n",
       "      <th>goals_away</th>\n",
       "    </tr>\n",
       "  </thead>\n",
       "  <tbody>\n",
       "    <tr>\n",
       "      <th>0</th>\n",
       "      <td>E0</td>\n",
       "      <td>2008</td>\n",
       "      <td>16aug2008</td>\n",
       "      <td>Arsenal</td>\n",
       "      <td>West Brom</td>\n",
       "      <td>3</td>\n",
       "      <td>0</td>\n",
       "      <td>1</td>\n",
       "      <td>0</td>\n",
       "    </tr>\n",
       "    <tr>\n",
       "      <th>1</th>\n",
       "      <td>E0</td>\n",
       "      <td>2008</td>\n",
       "      <td>16aug2008</td>\n",
       "      <td>West Ham</td>\n",
       "      <td>Wigan</td>\n",
       "      <td>3</td>\n",
       "      <td>0</td>\n",
       "      <td>2</td>\n",
       "      <td>1</td>\n",
       "    </tr>\n",
       "    <tr>\n",
       "      <th>2</th>\n",
       "      <td>E0</td>\n",
       "      <td>2008</td>\n",
       "      <td>16aug2008</td>\n",
       "      <td>Middlesbrough</td>\n",
       "      <td>Tottenham</td>\n",
       "      <td>3</td>\n",
       "      <td>0</td>\n",
       "      <td>2</td>\n",
       "      <td>1</td>\n",
       "    </tr>\n",
       "    <tr>\n",
       "      <th>3</th>\n",
       "      <td>E0</td>\n",
       "      <td>2008</td>\n",
       "      <td>16aug2008</td>\n",
       "      <td>Everton</td>\n",
       "      <td>Blackburn</td>\n",
       "      <td>0</td>\n",
       "      <td>3</td>\n",
       "      <td>2</td>\n",
       "      <td>3</td>\n",
       "    </tr>\n",
       "    <tr>\n",
       "      <th>4</th>\n",
       "      <td>E0</td>\n",
       "      <td>2008</td>\n",
       "      <td>16aug2008</td>\n",
       "      <td>Bolton</td>\n",
       "      <td>Stoke</td>\n",
       "      <td>3</td>\n",
       "      <td>0</td>\n",
       "      <td>3</td>\n",
       "      <td>1</td>\n",
       "    </tr>\n",
       "  </tbody>\n",
       "</table>\n",
       "</div>"
      ],
      "text/plain": [
       "  div  season       date      team_home  team_away  points_home  points_away  \\\n",
       "0  E0    2008  16aug2008        Arsenal  West Brom            3            0   \n",
       "1  E0    2008  16aug2008       West Ham      Wigan            3            0   \n",
       "2  E0    2008  16aug2008  Middlesbrough  Tottenham            3            0   \n",
       "3  E0    2008  16aug2008        Everton  Blackburn            0            3   \n",
       "4  E0    2008  16aug2008         Bolton      Stoke            3            0   \n",
       "\n",
       "   goals_home  goals_away  \n",
       "0           1           0  \n",
       "1           2           1  \n",
       "2           2           1  \n",
       "3           2           3  \n",
       "4           3           1  "
      ]
     },
     "execution_count": 65,
     "metadata": {},
     "output_type": "execute_result"
    }
   ],
   "source": [
    "df.head()"
   ]
  },
  {
   "cell_type": "markdown",
   "metadata": {},
   "source": [
    "## 2. Data preprocessing\n",
    "How many seasons do we have?"
   ]
  },
  {
   "cell_type": "code",
   "execution_count": 66,
   "metadata": {},
   "outputs": [
    {
     "data": {
      "text/plain": [
       "array([2008, 2009, 2010, 2011, 2012, 2013, 2014, 2015, 2016, 2017, 2018],\n",
       "      dtype=int64)"
      ]
     },
     "execution_count": 66,
     "metadata": {},
     "output_type": "execute_result"
    }
   ],
   "source": [
    "df[\"season\"].unique()"
   ]
  },
  {
   "cell_type": "markdown",
   "metadata": {},
   "source": [
    "Let's choose the latest available seasons, 2017/2018. "
   ]
  },
  {
   "cell_type": "code",
   "execution_count": 67,
   "metadata": {},
   "outputs": [],
   "source": [
    "football_2017_2018 = df[df[\"season\"].isin([2017, 2018])]"
   ]
  },
  {
   "cell_type": "markdown",
   "metadata": {},
   "source": [
    "Get season 2017."
   ]
  },
  {
   "cell_type": "code",
   "execution_count": 68,
   "metadata": {},
   "outputs": [],
   "source": [
    "football_2017 = df.loc[df[\"season\"] == 2017, :]"
   ]
  },
  {
   "cell_type": "code",
   "execution_count": 69,
   "metadata": {},
   "outputs": [],
   "source": [
    "football_2018 = df.loc[df[\"season\"] == 2018, :]"
   ]
  },
  {
   "cell_type": "code",
   "execution_count": 70,
   "metadata": {},
   "outputs": [
    {
     "data": {
      "text/html": [
       "<div>\n",
       "<style scoped>\n",
       "    .dataframe tbody tr th:only-of-type {\n",
       "        vertical-align: middle;\n",
       "    }\n",
       "\n",
       "    .dataframe tbody tr th {\n",
       "        vertical-align: top;\n",
       "    }\n",
       "\n",
       "    .dataframe thead th {\n",
       "        text-align: right;\n",
       "    }\n",
       "</style>\n",
       "<table border=\"1\" class=\"dataframe\">\n",
       "  <thead>\n",
       "    <tr style=\"text-align: right;\">\n",
       "      <th></th>\n",
       "      <th>div</th>\n",
       "      <th>season</th>\n",
       "      <th>date</th>\n",
       "      <th>team_home</th>\n",
       "      <th>team_away</th>\n",
       "      <th>points_home</th>\n",
       "      <th>points_away</th>\n",
       "      <th>goals_home</th>\n",
       "      <th>goals_away</th>\n",
       "    </tr>\n",
       "  </thead>\n",
       "  <tbody>\n",
       "    <tr>\n",
       "      <th>3420</th>\n",
       "      <td>E0</td>\n",
       "      <td>2017</td>\n",
       "      <td>11aug2017</td>\n",
       "      <td>Arsenal</td>\n",
       "      <td>Leicester</td>\n",
       "      <td>3</td>\n",
       "      <td>0</td>\n",
       "      <td>4</td>\n",
       "      <td>3</td>\n",
       "    </tr>\n",
       "    <tr>\n",
       "      <th>3421</th>\n",
       "      <td>E0</td>\n",
       "      <td>2017</td>\n",
       "      <td>12aug2017</td>\n",
       "      <td>Watford</td>\n",
       "      <td>Liverpool</td>\n",
       "      <td>1</td>\n",
       "      <td>1</td>\n",
       "      <td>3</td>\n",
       "      <td>3</td>\n",
       "    </tr>\n",
       "    <tr>\n",
       "      <th>3422</th>\n",
       "      <td>E0</td>\n",
       "      <td>2017</td>\n",
       "      <td>12aug2017</td>\n",
       "      <td>Brighton</td>\n",
       "      <td>Man City</td>\n",
       "      <td>0</td>\n",
       "      <td>3</td>\n",
       "      <td>0</td>\n",
       "      <td>2</td>\n",
       "    </tr>\n",
       "    <tr>\n",
       "      <th>3423</th>\n",
       "      <td>E0</td>\n",
       "      <td>2017</td>\n",
       "      <td>12aug2017</td>\n",
       "      <td>Crystal Palace</td>\n",
       "      <td>Huddersfield</td>\n",
       "      <td>0</td>\n",
       "      <td>3</td>\n",
       "      <td>0</td>\n",
       "      <td>3</td>\n",
       "    </tr>\n",
       "    <tr>\n",
       "      <th>3424</th>\n",
       "      <td>E0</td>\n",
       "      <td>2017</td>\n",
       "      <td>12aug2017</td>\n",
       "      <td>Southampton</td>\n",
       "      <td>Swansea</td>\n",
       "      <td>1</td>\n",
       "      <td>1</td>\n",
       "      <td>0</td>\n",
       "      <td>0</td>\n",
       "    </tr>\n",
       "  </tbody>\n",
       "</table>\n",
       "</div>"
      ],
      "text/plain": [
       "     div  season       date       team_home     team_away  points_home  \\\n",
       "3420  E0    2017  11aug2017         Arsenal     Leicester            3   \n",
       "3421  E0    2017  12aug2017         Watford     Liverpool            1   \n",
       "3422  E0    2017  12aug2017        Brighton      Man City            0   \n",
       "3423  E0    2017  12aug2017  Crystal Palace  Huddersfield            0   \n",
       "3424  E0    2017  12aug2017     Southampton       Swansea            1   \n",
       "\n",
       "      points_away  goals_home  goals_away  \n",
       "3420            0           4           3  \n",
       "3421            1           3           3  \n",
       "3422            3           0           2  \n",
       "3423            3           0           3  \n",
       "3424            1           0           0  "
      ]
     },
     "execution_count": 70,
     "metadata": {},
     "output_type": "execute_result"
    }
   ],
   "source": [
    "football_2017.head()"
   ]
  },
  {
   "cell_type": "code",
   "execution_count": 71,
   "metadata": {},
   "outputs": [
    {
     "data": {
      "text/plain": [
       "array(['Arsenal', 'Watford', 'Brighton', 'Crystal Palace', 'Southampton',\n",
       "       'Everton', 'Chelsea', 'West Brom', 'Man United', 'Newcastle',\n",
       "       'Liverpool', 'Stoke', 'Burnley', 'Swansea', 'Leicester',\n",
       "       'Bournemouth', 'Huddersfield', 'Tottenham', 'Man City', 'West Ham'],\n",
       "      dtype=object)"
      ]
     },
     "execution_count": 71,
     "metadata": {},
     "output_type": "execute_result"
    }
   ],
   "source": [
    "football_2017[\"team_home\"].unique()\n"
   ]
  },
  {
   "cell_type": "code",
   "execution_count": 72,
   "metadata": {},
   "outputs": [
    {
     "data": {
      "text/plain": [
       "20"
      ]
     },
     "execution_count": 72,
     "metadata": {},
     "output_type": "execute_result"
    }
   ],
   "source": [
    "football_2017[\"team_home\"].nunique()"
   ]
  },
  {
   "cell_type": "code",
   "execution_count": 73,
   "metadata": {},
   "outputs": [
    {
     "data": {
      "text/plain": [
       "season\n",
       "2017    380\n",
       "Name: count, dtype: int64"
      ]
     },
     "execution_count": 73,
     "metadata": {},
     "output_type": "execute_result"
    }
   ],
   "source": [
    "football_2017[\"season\"].value_counts()"
   ]
  },
  {
   "cell_type": "markdown",
   "metadata": {},
   "source": [
    "Perfect, we have two full seasons - 20 teams that played against each other at home and away, totalizing 380 matches.\n",
    "### 2.1 Task 1 | Create groups of teams\n",
    "Let's break down the task:\n",
    "- Create **three** groups of teams.\n",
    "- Based on their performance in their previous season.\n",
    "- New teams come from the lower division, and you may put them in the lowest bin.\n",
    "We will create a bin based on a 1 - 3 range, being 1 the top tier teams.\n",
    "So, to bin our teams, we need to:\n",
    "- Identify their performance in season 2017.\n",
    "- We will group the data by team, sum the points, and order them by the total number of points. \n",
    "- If the teams were not present, we will assign them to bin 3."
   ]
  },
  {
   "cell_type": "markdown",
   "metadata": {},
   "source": [
    "Sum the number of points for each team."
   ]
  },
  {
   "cell_type": "code",
   "execution_count": 74,
   "metadata": {},
   "outputs": [],
   "source": [
    "standings_2017 = pd.DataFrame()\n",
    "\n",
    "# Create a list of unique teams by combining both team columns\n",
    "teams = pd.concat([football_2017[\"team_home\"], football_2017[\"team_away\"]]).unique()\n",
    "\n",
    "# Calculate total points for each team using apply and lambda functions\n",
    "standings_2017[\"team\"] = teams\n",
    "standings_2017[\"total_points\"] = standings_2017[\"team\"].apply(\n",
    "    lambda team: football_2017.loc[football_2017[\"team_home\"] == team, \"points_home\"].sum() +\n",
    "    football_2017.loc[football_2017[\"team_away\"] == team, \"points_away\"]. sum()\n",
    "    )\n",
    "\n",
    "standings_2017 = standings_2017.sort_values(by=\"total_points\", ascending=False)\n",
    "standings_2017 = standings_2017.reset_index(drop=True)\n",
    "standings_2017.index += 1"
   ]
  },
  {
   "cell_type": "code",
   "execution_count": 75,
   "metadata": {},
   "outputs": [
    {
     "data": {
      "text/html": [
       "<div>\n",
       "<style scoped>\n",
       "    .dataframe tbody tr th:only-of-type {\n",
       "        vertical-align: middle;\n",
       "    }\n",
       "\n",
       "    .dataframe tbody tr th {\n",
       "        vertical-align: top;\n",
       "    }\n",
       "\n",
       "    .dataframe thead th {\n",
       "        text-align: right;\n",
       "    }\n",
       "</style>\n",
       "<table border=\"1\" class=\"dataframe\">\n",
       "  <thead>\n",
       "    <tr style=\"text-align: right;\">\n",
       "      <th></th>\n",
       "      <th>team</th>\n",
       "      <th>total_points</th>\n",
       "    </tr>\n",
       "  </thead>\n",
       "  <tbody>\n",
       "    <tr>\n",
       "      <th>1</th>\n",
       "      <td>Man City</td>\n",
       "      <td>100</td>\n",
       "    </tr>\n",
       "    <tr>\n",
       "      <th>2</th>\n",
       "      <td>Man United</td>\n",
       "      <td>81</td>\n",
       "    </tr>\n",
       "    <tr>\n",
       "      <th>3</th>\n",
       "      <td>Tottenham</td>\n",
       "      <td>77</td>\n",
       "    </tr>\n",
       "    <tr>\n",
       "      <th>4</th>\n",
       "      <td>Liverpool</td>\n",
       "      <td>75</td>\n",
       "    </tr>\n",
       "    <tr>\n",
       "      <th>5</th>\n",
       "      <td>Chelsea</td>\n",
       "      <td>70</td>\n",
       "    </tr>\n",
       "    <tr>\n",
       "      <th>6</th>\n",
       "      <td>Arsenal</td>\n",
       "      <td>63</td>\n",
       "    </tr>\n",
       "    <tr>\n",
       "      <th>7</th>\n",
       "      <td>Burnley</td>\n",
       "      <td>54</td>\n",
       "    </tr>\n",
       "    <tr>\n",
       "      <th>8</th>\n",
       "      <td>Everton</td>\n",
       "      <td>49</td>\n",
       "    </tr>\n",
       "    <tr>\n",
       "      <th>9</th>\n",
       "      <td>Leicester</td>\n",
       "      <td>47</td>\n",
       "    </tr>\n",
       "    <tr>\n",
       "      <th>10</th>\n",
       "      <td>Newcastle</td>\n",
       "      <td>44</td>\n",
       "    </tr>\n",
       "    <tr>\n",
       "      <th>11</th>\n",
       "      <td>Bournemouth</td>\n",
       "      <td>44</td>\n",
       "    </tr>\n",
       "    <tr>\n",
       "      <th>12</th>\n",
       "      <td>Crystal Palace</td>\n",
       "      <td>44</td>\n",
       "    </tr>\n",
       "    <tr>\n",
       "      <th>13</th>\n",
       "      <td>West Ham</td>\n",
       "      <td>42</td>\n",
       "    </tr>\n",
       "    <tr>\n",
       "      <th>14</th>\n",
       "      <td>Watford</td>\n",
       "      <td>41</td>\n",
       "    </tr>\n",
       "    <tr>\n",
       "      <th>15</th>\n",
       "      <td>Brighton</td>\n",
       "      <td>40</td>\n",
       "    </tr>\n",
       "    <tr>\n",
       "      <th>16</th>\n",
       "      <td>Huddersfield</td>\n",
       "      <td>37</td>\n",
       "    </tr>\n",
       "    <tr>\n",
       "      <th>17</th>\n",
       "      <td>Southampton</td>\n",
       "      <td>36</td>\n",
       "    </tr>\n",
       "    <tr>\n",
       "      <th>18</th>\n",
       "      <td>Stoke</td>\n",
       "      <td>33</td>\n",
       "    </tr>\n",
       "    <tr>\n",
       "      <th>19</th>\n",
       "      <td>Swansea</td>\n",
       "      <td>33</td>\n",
       "    </tr>\n",
       "    <tr>\n",
       "      <th>20</th>\n",
       "      <td>West Brom</td>\n",
       "      <td>31</td>\n",
       "    </tr>\n",
       "  </tbody>\n",
       "</table>\n",
       "</div>"
      ],
      "text/plain": [
       "              team  total_points\n",
       "1         Man City           100\n",
       "2       Man United            81\n",
       "3        Tottenham            77\n",
       "4        Liverpool            75\n",
       "5          Chelsea            70\n",
       "6          Arsenal            63\n",
       "7          Burnley            54\n",
       "8          Everton            49\n",
       "9        Leicester            47\n",
       "10       Newcastle            44\n",
       "11     Bournemouth            44\n",
       "12  Crystal Palace            44\n",
       "13        West Ham            42\n",
       "14         Watford            41\n",
       "15        Brighton            40\n",
       "16    Huddersfield            37\n",
       "17     Southampton            36\n",
       "18           Stoke            33\n",
       "19         Swansea            33\n",
       "20       West Brom            31"
      ]
     },
     "execution_count": 75,
     "metadata": {},
     "output_type": "execute_result"
    }
   ],
   "source": [
    "standings_2017"
   ]
  },
  {
   "cell_type": "markdown",
   "metadata": {},
   "source": [
    "Ok, now, we need to bin these values in three different values, from 1 to 3. First, we can determine the min and max values from total points. Then, we can establish quantiles, so that our distribution is not so skewed."
   ]
  },
  {
   "cell_type": "code",
   "execution_count": 76,
   "metadata": {},
   "outputs": [],
   "source": [
    "# 1. Determine the range of total points\n",
    "min_points, max_points = standings_2017[\"total_points\"].min(), standings_2017[\"total_points\"].max()\n",
    "\n",
    "# 2. Calculate quantiles\n",
    "quantile_edges = standings_2017[\"total_points\"].quantile([1/3, 2/3])\n",
    "\n",
    "# 3. Define bins based on quantiles and maximum point\n",
    "bins = [min_points, quantile_edges[1/3], quantile_edges[2/3], max_points]\n",
    "labels = [3, 2, 1]\n",
    "standings_2017[\"team3bins\"] = pd.cut(standings_2017[\"total_points\"], bins=bins, labels=labels, include_lowest=True)"
   ]
  },
  {
   "cell_type": "code",
   "execution_count": 77,
   "metadata": {},
   "outputs": [
    {
     "data": {
      "text/html": [
       "<div>\n",
       "<style scoped>\n",
       "    .dataframe tbody tr th:only-of-type {\n",
       "        vertical-align: middle;\n",
       "    }\n",
       "\n",
       "    .dataframe tbody tr th {\n",
       "        vertical-align: top;\n",
       "    }\n",
       "\n",
       "    .dataframe thead th {\n",
       "        text-align: right;\n",
       "    }\n",
       "</style>\n",
       "<table border=\"1\" class=\"dataframe\">\n",
       "  <thead>\n",
       "    <tr style=\"text-align: right;\">\n",
       "      <th></th>\n",
       "      <th>team</th>\n",
       "      <th>total_points</th>\n",
       "      <th>team3bins</th>\n",
       "    </tr>\n",
       "  </thead>\n",
       "  <tbody>\n",
       "    <tr>\n",
       "      <th>1</th>\n",
       "      <td>Man City</td>\n",
       "      <td>100</td>\n",
       "      <td>1</td>\n",
       "    </tr>\n",
       "    <tr>\n",
       "      <th>2</th>\n",
       "      <td>Man United</td>\n",
       "      <td>81</td>\n",
       "      <td>1</td>\n",
       "    </tr>\n",
       "    <tr>\n",
       "      <th>3</th>\n",
       "      <td>Tottenham</td>\n",
       "      <td>77</td>\n",
       "      <td>1</td>\n",
       "    </tr>\n",
       "    <tr>\n",
       "      <th>4</th>\n",
       "      <td>Liverpool</td>\n",
       "      <td>75</td>\n",
       "      <td>1</td>\n",
       "    </tr>\n",
       "    <tr>\n",
       "      <th>5</th>\n",
       "      <td>Chelsea</td>\n",
       "      <td>70</td>\n",
       "      <td>1</td>\n",
       "    </tr>\n",
       "    <tr>\n",
       "      <th>6</th>\n",
       "      <td>Arsenal</td>\n",
       "      <td>63</td>\n",
       "      <td>1</td>\n",
       "    </tr>\n",
       "    <tr>\n",
       "      <th>7</th>\n",
       "      <td>Burnley</td>\n",
       "      <td>54</td>\n",
       "      <td>1</td>\n",
       "    </tr>\n",
       "    <tr>\n",
       "      <th>8</th>\n",
       "      <td>Everton</td>\n",
       "      <td>49</td>\n",
       "      <td>2</td>\n",
       "    </tr>\n",
       "    <tr>\n",
       "      <th>9</th>\n",
       "      <td>Leicester</td>\n",
       "      <td>47</td>\n",
       "      <td>2</td>\n",
       "    </tr>\n",
       "    <tr>\n",
       "      <th>10</th>\n",
       "      <td>Newcastle</td>\n",
       "      <td>44</td>\n",
       "      <td>2</td>\n",
       "    </tr>\n",
       "    <tr>\n",
       "      <th>11</th>\n",
       "      <td>Bournemouth</td>\n",
       "      <td>44</td>\n",
       "      <td>2</td>\n",
       "    </tr>\n",
       "    <tr>\n",
       "      <th>12</th>\n",
       "      <td>Crystal Palace</td>\n",
       "      <td>44</td>\n",
       "      <td>2</td>\n",
       "    </tr>\n",
       "    <tr>\n",
       "      <th>13</th>\n",
       "      <td>West Ham</td>\n",
       "      <td>42</td>\n",
       "      <td>2</td>\n",
       "    </tr>\n",
       "    <tr>\n",
       "      <th>14</th>\n",
       "      <td>Watford</td>\n",
       "      <td>41</td>\n",
       "      <td>3</td>\n",
       "    </tr>\n",
       "    <tr>\n",
       "      <th>15</th>\n",
       "      <td>Brighton</td>\n",
       "      <td>40</td>\n",
       "      <td>3</td>\n",
       "    </tr>\n",
       "    <tr>\n",
       "      <th>16</th>\n",
       "      <td>Huddersfield</td>\n",
       "      <td>37</td>\n",
       "      <td>3</td>\n",
       "    </tr>\n",
       "    <tr>\n",
       "      <th>17</th>\n",
       "      <td>Southampton</td>\n",
       "      <td>36</td>\n",
       "      <td>3</td>\n",
       "    </tr>\n",
       "    <tr>\n",
       "      <th>18</th>\n",
       "      <td>Stoke</td>\n",
       "      <td>33</td>\n",
       "      <td>3</td>\n",
       "    </tr>\n",
       "    <tr>\n",
       "      <th>19</th>\n",
       "      <td>Swansea</td>\n",
       "      <td>33</td>\n",
       "      <td>3</td>\n",
       "    </tr>\n",
       "    <tr>\n",
       "      <th>20</th>\n",
       "      <td>West Brom</td>\n",
       "      <td>31</td>\n",
       "      <td>3</td>\n",
       "    </tr>\n",
       "  </tbody>\n",
       "</table>\n",
       "</div>"
      ],
      "text/plain": [
       "              team  total_points team3bins\n",
       "1         Man City           100         1\n",
       "2       Man United            81         1\n",
       "3        Tottenham            77         1\n",
       "4        Liverpool            75         1\n",
       "5          Chelsea            70         1\n",
       "6          Arsenal            63         1\n",
       "7          Burnley            54         1\n",
       "8          Everton            49         2\n",
       "9        Leicester            47         2\n",
       "10       Newcastle            44         2\n",
       "11     Bournemouth            44         2\n",
       "12  Crystal Palace            44         2\n",
       "13        West Ham            42         2\n",
       "14         Watford            41         3\n",
       "15        Brighton            40         3\n",
       "16    Huddersfield            37         3\n",
       "17     Southampton            36         3\n",
       "18           Stoke            33         3\n",
       "19         Swansea            33         3\n",
       "20       West Brom            31         3"
      ]
     },
     "execution_count": 77,
     "metadata": {},
     "output_type": "execute_result"
    }
   ],
   "source": [
    "standings_2017"
   ]
  },
  {
   "cell_type": "markdown",
   "metadata": {},
   "source": [
    "Now, we can create a DataFrame containing only the bin category and the team name. We can merge this data with the subsequent season. We do a merge that keeps unmatched team names (the teams that came from a lower division). In this case, we can assign the appropriate bin number (`3`) if the field returned `NaN`."
   ]
  },
  {
   "cell_type": "code",
   "execution_count": 78,
   "metadata": {},
   "outputs": [],
   "source": [
    "# Merge data to return binning\n",
    "df_bins = standings_2017[[\"team\", \"team3bins\"]]\n",
    "df_bins.rename(columns={\"team\": \"team_home\"}, inplace=True)\n",
    "\n",
    "df_merged = football_2018.merge(\n",
    "    df_bins,\n",
    "    on=\"team_home\",\n",
    "    how=\"left\"\n",
    ")\n",
    "\n",
    "# Handle new teams by assigning them to the lowest bin\n",
    "df_merged[\"team3bins\"].fillna(3, inplace=True)"
   ]
  },
  {
   "cell_type": "code",
   "execution_count": 79,
   "metadata": {},
   "outputs": [
    {
     "data": {
      "text/plain": [
       "(380, 10)"
      ]
     },
     "execution_count": 79,
     "metadata": {},
     "output_type": "execute_result"
    }
   ],
   "source": [
    "df_merged.shape"
   ]
  },
  {
   "cell_type": "code",
   "execution_count": 80,
   "metadata": {},
   "outputs": [
    {
     "data": {
      "text/html": [
       "<div>\n",
       "<style scoped>\n",
       "    .dataframe tbody tr th:only-of-type {\n",
       "        vertical-align: middle;\n",
       "    }\n",
       "\n",
       "    .dataframe tbody tr th {\n",
       "        vertical-align: top;\n",
       "    }\n",
       "\n",
       "    .dataframe thead th {\n",
       "        text-align: right;\n",
       "    }\n",
       "</style>\n",
       "<table border=\"1\" class=\"dataframe\">\n",
       "  <thead>\n",
       "    <tr style=\"text-align: right;\">\n",
       "      <th></th>\n",
       "      <th>div</th>\n",
       "      <th>season</th>\n",
       "      <th>date</th>\n",
       "      <th>team_home</th>\n",
       "      <th>team_away</th>\n",
       "      <th>points_home</th>\n",
       "      <th>points_away</th>\n",
       "      <th>goals_home</th>\n",
       "      <th>goals_away</th>\n",
       "      <th>team3bins</th>\n",
       "    </tr>\n",
       "  </thead>\n",
       "  <tbody>\n",
       "    <tr>\n",
       "      <th>211</th>\n",
       "      <td>E0</td>\n",
       "      <td>2018</td>\n",
       "      <td>12jan2019</td>\n",
       "      <td>Burnley</td>\n",
       "      <td>Fulham</td>\n",
       "      <td>3</td>\n",
       "      <td>0</td>\n",
       "      <td>2</td>\n",
       "      <td>1</td>\n",
       "      <td>1</td>\n",
       "    </tr>\n",
       "    <tr>\n",
       "      <th>213</th>\n",
       "      <td>E0</td>\n",
       "      <td>2018</td>\n",
       "      <td>12jan2019</td>\n",
       "      <td>Cardiff</td>\n",
       "      <td>Huddersfield</td>\n",
       "      <td>1</td>\n",
       "      <td>1</td>\n",
       "      <td>0</td>\n",
       "      <td>0</td>\n",
       "      <td>3</td>\n",
       "    </tr>\n",
       "    <tr>\n",
       "      <th>54</th>\n",
       "      <td>E0</td>\n",
       "      <td>2018</td>\n",
       "      <td>22sep2018</td>\n",
       "      <td>Man United</td>\n",
       "      <td>Wolves</td>\n",
       "      <td>1</td>\n",
       "      <td>1</td>\n",
       "      <td>1</td>\n",
       "      <td>1</td>\n",
       "      <td>1</td>\n",
       "    </tr>\n",
       "    <tr>\n",
       "      <th>229</th>\n",
       "      <td>E0</td>\n",
       "      <td>2018</td>\n",
       "      <td>20jan2019</td>\n",
       "      <td>Fulham</td>\n",
       "      <td>Tottenham</td>\n",
       "      <td>0</td>\n",
       "      <td>3</td>\n",
       "      <td>1</td>\n",
       "      <td>2</td>\n",
       "      <td>3</td>\n",
       "    </tr>\n",
       "    <tr>\n",
       "      <th>136</th>\n",
       "      <td>E0</td>\n",
       "      <td>2018</td>\n",
       "      <td>01dec2018</td>\n",
       "      <td>Leicester</td>\n",
       "      <td>Watford</td>\n",
       "      <td>3</td>\n",
       "      <td>0</td>\n",
       "      <td>2</td>\n",
       "      <td>0</td>\n",
       "      <td>2</td>\n",
       "    </tr>\n",
       "    <tr>\n",
       "      <th>238</th>\n",
       "      <td>E0</td>\n",
       "      <td>2018</td>\n",
       "      <td>30jan2019</td>\n",
       "      <td>Tottenham</td>\n",
       "      <td>Watford</td>\n",
       "      <td>3</td>\n",
       "      <td>0</td>\n",
       "      <td>2</td>\n",
       "      <td>1</td>\n",
       "      <td>1</td>\n",
       "    </tr>\n",
       "    <tr>\n",
       "      <th>108</th>\n",
       "      <td>E0</td>\n",
       "      <td>2018</td>\n",
       "      <td>04nov2018</td>\n",
       "      <td>Man City</td>\n",
       "      <td>Southampton</td>\n",
       "      <td>3</td>\n",
       "      <td>0</td>\n",
       "      <td>6</td>\n",
       "      <td>1</td>\n",
       "      <td>1</td>\n",
       "    </tr>\n",
       "    <tr>\n",
       "      <th>259</th>\n",
       "      <td>E0</td>\n",
       "      <td>2018</td>\n",
       "      <td>10feb2019</td>\n",
       "      <td>Tottenham</td>\n",
       "      <td>Leicester</td>\n",
       "      <td>3</td>\n",
       "      <td>0</td>\n",
       "      <td>3</td>\n",
       "      <td>1</td>\n",
       "      <td>1</td>\n",
       "    </tr>\n",
       "    <tr>\n",
       "      <th>64</th>\n",
       "      <td>E0</td>\n",
       "      <td>2018</td>\n",
       "      <td>29sep2018</td>\n",
       "      <td>Everton</td>\n",
       "      <td>Fulham</td>\n",
       "      <td>3</td>\n",
       "      <td>0</td>\n",
       "      <td>3</td>\n",
       "      <td>0</td>\n",
       "      <td>2</td>\n",
       "    </tr>\n",
       "    <tr>\n",
       "      <th>124</th>\n",
       "      <td>E0</td>\n",
       "      <td>2018</td>\n",
       "      <td>24nov2018</td>\n",
       "      <td>Tottenham</td>\n",
       "      <td>Chelsea</td>\n",
       "      <td>3</td>\n",
       "      <td>0</td>\n",
       "      <td>3</td>\n",
       "      <td>1</td>\n",
       "      <td>1</td>\n",
       "    </tr>\n",
       "  </tbody>\n",
       "</table>\n",
       "</div>"
      ],
      "text/plain": [
       "    div  season       date   team_home     team_away  points_home  \\\n",
       "211  E0    2018  12jan2019     Burnley        Fulham            3   \n",
       "213  E0    2018  12jan2019     Cardiff  Huddersfield            1   \n",
       "54   E0    2018  22sep2018  Man United        Wolves            1   \n",
       "229  E0    2018  20jan2019      Fulham     Tottenham            0   \n",
       "136  E0    2018  01dec2018   Leicester       Watford            3   \n",
       "238  E0    2018  30jan2019   Tottenham       Watford            3   \n",
       "108  E0    2018  04nov2018    Man City   Southampton            3   \n",
       "259  E0    2018  10feb2019   Tottenham     Leicester            3   \n",
       "64   E0    2018  29sep2018     Everton        Fulham            3   \n",
       "124  E0    2018  24nov2018   Tottenham       Chelsea            3   \n",
       "\n",
       "     points_away  goals_home  goals_away team3bins  \n",
       "211            0           2           1         1  \n",
       "213            1           0           0         3  \n",
       "54             1           1           1         1  \n",
       "229            3           1           2         3  \n",
       "136            0           2           0         2  \n",
       "238            0           2           1         1  \n",
       "108            0           6           1         1  \n",
       "259            0           3           1         1  \n",
       "64             0           3           0         2  \n",
       "124            0           3           1         1  "
      ]
     },
     "execution_count": 80,
     "metadata": {},
     "output_type": "execute_result"
    }
   ],
   "source": [
    "df_merged.sample(10)"
   ]
  },
  {
   "cell_type": "code",
   "execution_count": 81,
   "metadata": {},
   "outputs": [],
   "source": [
    "# Define a mapping from bin number to performance category\n",
    "bin_to_category = {\n",
    "    1: \"Top\",\n",
    "    2: \"Middle\",\n",
    "    3: \"Bottom\"\n",
    "}\n",
    "\n",
    "# Create a new column with performance category\n",
    "df_merged[\"performance\"] = df_merged[\"team3bins\"].map(bin_to_category)"
   ]
  },
  {
   "cell_type": "markdown",
   "metadata": {},
   "source": [
    "### 2.2 Task 2 | Create a `home_goaladv` variable ###"
   ]
  },
  {
   "cell_type": "code",
   "execution_count": 82,
   "metadata": {},
   "outputs": [],
   "source": [
    "def home_goal_adv(data: pd.DataFrame) -> pd.Series:\n",
    "    \"\"\"Return the difference between home and away goals for each match and measures home goal advantage.\"\"\"\n",
    "    data[\"home_goaladv\"] = data[\"goals_home\"] - data[\"goals_away\"]\n",
    "    return data[\"home_goaladv\"]"
   ]
  },
  {
   "cell_type": "code",
   "execution_count": 83,
   "metadata": {},
   "outputs": [],
   "source": [
    "df_merged[\"home_goaladv\"] = home_goal_adv(df_merged)"
   ]
  },
  {
   "cell_type": "markdown",
   "metadata": {},
   "source": [
    "We can now create a summary statistics table and observe the differences for each bin."
   ]
  },
  {
   "cell_type": "code",
   "execution_count": 84,
   "metadata": {},
   "outputs": [],
   "source": [
    "# Create a summary statistics table for home goal advantage for each bin as a function\n",
    "def summary_stats(data):\n",
    "    \"\"\"Return summary statistics of a dataset.\"\"\"\n",
    "    return pd.Series(\n",
    "        {\n",
    "            \"Mean\": data[\"home_goaladv\"].mean(),\n",
    "            \"Standard deviation\": data[\"home_goaladv\"].std(),\n",
    "            \"Percent positive\": (data[\"home_goaladv\"] > 0).mean() * 100,\n",
    "            \"Percent zero\": (data[\"home_goaladv\"] == 0).mean() * 100,\n",
    "            \"Percent negative\": (data[\"home_goaladv\"] < 0).mean() * 100,\n",
    "            \"Number of observations\": data[\"home_goaladv\"].count(),\n",
    "        }\n",
    "    ).round(1)\n",
    "\n",
    "summary_df = df_merged.groupby('team3bins').apply(summary_stats).sort_index(ascending=False)"
   ]
  },
  {
   "cell_type": "code",
   "execution_count": 85,
   "metadata": {},
   "outputs": [
    {
     "data": {
      "text/html": [
       "<div>\n",
       "<style scoped>\n",
       "    .dataframe tbody tr th:only-of-type {\n",
       "        vertical-align: middle;\n",
       "    }\n",
       "\n",
       "    .dataframe tbody tr th {\n",
       "        vertical-align: top;\n",
       "    }\n",
       "\n",
       "    .dataframe thead th {\n",
       "        text-align: right;\n",
       "    }\n",
       "</style>\n",
       "<table border=\"1\" class=\"dataframe\">\n",
       "  <thead>\n",
       "    <tr style=\"text-align: right;\">\n",
       "      <th></th>\n",
       "      <th>Mean</th>\n",
       "      <th>Standard deviation</th>\n",
       "      <th>Percent positive</th>\n",
       "      <th>Percent zero</th>\n",
       "      <th>Percent negative</th>\n",
       "      <th>Number of observations</th>\n",
       "    </tr>\n",
       "    <tr>\n",
       "      <th>team3bins</th>\n",
       "      <th></th>\n",
       "      <th></th>\n",
       "      <th></th>\n",
       "      <th></th>\n",
       "      <th></th>\n",
       "      <th></th>\n",
       "    </tr>\n",
       "  </thead>\n",
       "  <tbody>\n",
       "    <tr>\n",
       "      <th>1</th>\n",
       "      <td>1.2</td>\n",
       "      <td>1.9</td>\n",
       "      <td>67.7</td>\n",
       "      <td>15.8</td>\n",
       "      <td>16.5</td>\n",
       "      <td>133.0</td>\n",
       "    </tr>\n",
       "    <tr>\n",
       "      <th>2</th>\n",
       "      <td>0.2</td>\n",
       "      <td>1.7</td>\n",
       "      <td>42.1</td>\n",
       "      <td>19.3</td>\n",
       "      <td>38.6</td>\n",
       "      <td>114.0</td>\n",
       "    </tr>\n",
       "    <tr>\n",
       "      <th>3</th>\n",
       "      <td>-0.4</td>\n",
       "      <td>1.7</td>\n",
       "      <td>32.3</td>\n",
       "      <td>21.1</td>\n",
       "      <td>46.6</td>\n",
       "      <td>133.0</td>\n",
       "    </tr>\n",
       "  </tbody>\n",
       "</table>\n",
       "</div>"
      ],
      "text/plain": [
       "           Mean  Standard deviation  Percent positive  Percent zero  \\\n",
       "team3bins                                                             \n",
       "1           1.2                 1.9              67.7          15.8   \n",
       "2           0.2                 1.7              42.1          19.3   \n",
       "3          -0.4                 1.7              32.3          21.1   \n",
       "\n",
       "           Percent negative  Number of observations  \n",
       "team3bins                                            \n",
       "1                      16.5                   133.0  \n",
       "2                      38.6                   114.0  \n",
       "3                      46.6                   133.0  "
      ]
     },
     "execution_count": 85,
     "metadata": {},
     "output_type": "execute_result"
    }
   ],
   "source": [
    "summary_df"
   ]
  },
  {
   "cell_type": "markdown",
   "metadata": {},
   "source": [
    "Observations:\n",
    "- The mean value of home goal advantage decreases with relation of how teams performed in the previous season. Teams that peformed well have shown an average of `1.2` goal per match at home, while teams that were at the bottom (or are coming from the lower division) displayed a negative value - `-0.4`. This means that they tended to lose nearly one game on every 2 to 3 matches.\n",
    "- The standard deviation is very similar, apart from teams at bin #1. We can expect that, from the mean of each group, there is a deviation of 1.7 goal at least (1.9 for bin #1).\n",
    "- Teams at bin #1 performed really well at home. They won around **67.5%** of the matches at home. Bin #2 teams won less than half of them (**42.1%**), and bin #3 teams won only a bit more than one third of the matches (**32.3%**). \n",
    "- Teams that performed well also decreased their number of draws at home - only **15.8%** ended in a tie. In contrast, teams at bin #2 and #3 displayed an increasing proportion of draws, **19.3%** and **21.1%**, respectively. \n",
    "- Finally, teams at bin #1 lost very few matches at home - only **16.5%**, while teams at bin #2 and #3 lost **38.6%** and **46.6%**. \n",
    "\n",
    "We can safely affirm that teams that performed well in the last season repeated a good performance in the following year by making the best of home games. This is particularly evident when considering wins and losses, where the difference between top and bottom performers is higher than when comparing draws.\n",
    "\n",
    "We can now take a look at this data by producing a few visualizations."
   ]
  },
  {
   "cell_type": "markdown",
   "metadata": {},
   "source": [
    "## 3. Data Visualization ##\n",
    "\n",
    "### 3.1 Histograms ###\n",
    "To compare the difference in home goal advantage, we can plot one histogram for each group. \n"
   ]
  },
  {
   "cell_type": "code",
   "execution_count": 86,
   "metadata": {},
   "outputs": [
    {
     "data": {
      "text/plain": [
       "Index(['div', 'season', 'date', 'team_home', 'team_away', 'points_home',\n",
       "       'points_away', 'goals_home', 'goals_away', 'team3bins', 'performance',\n",
       "       'home_goaladv'],\n",
       "      dtype='object')"
      ]
     },
     "execution_count": 86,
     "metadata": {},
     "output_type": "execute_result"
    }
   ],
   "source": [
    "df_merged.columns"
   ]
  },
  {
   "cell_type": "code",
   "execution_count": 87,
   "metadata": {},
   "outputs": [
    {
     "data": {
      "application/vnd.plotly.v1+json": {
       "config": {
        "plotlyServerURL": "https://plot.ly"
       },
       "data": [
        {
         "marker": {
          "line": {
           "color": "black",
           "width": 0.5
          }
         },
         "name": "Bin 1",
         "opacity": 0.75,
         "type": "histogram",
         "x": [
          1,
          4,
          -2,
          1,
          2,
          5,
          -2,
          2,
          1,
          -3,
          2,
          1,
          -2,
          3,
          -1,
          3,
          4,
          0,
          3,
          2,
          0,
          2,
          2,
          0,
          1,
          1,
          0,
          0,
          5,
          2,
          3,
          1,
          -4,
          -1,
          0,
          2,
          5,
          0,
          0,
          2,
          2,
          0,
          2,
          -1,
          2,
          2,
          1,
          2,
          0,
          -2,
          2,
          1,
          3,
          2,
          1,
          1,
          2,
          2,
          -1,
          -1,
          2,
          2,
          5,
          4,
          -4,
          4,
          -2,
          3,
          2,
          3,
          0,
          1,
          1,
          1,
          -1,
          3,
          1,
          1,
          2,
          0,
          1,
          0,
          1,
          0,
          1,
          5,
          2,
          3,
          6,
          2,
          1,
          0,
          2,
          1,
          5,
          4,
          2,
          0,
          1,
          -2,
          2,
          2,
          0,
          2,
          -1,
          2,
          1,
          1,
          2,
          2,
          3,
          2,
          2,
          4,
          1,
          2,
          2,
          1,
          -1,
          0,
          1,
          -2,
          5,
          -1,
          0,
          -1,
          3,
          0,
          1,
          -2,
          -2,
          0,
          2
         ],
         "xaxis": "x",
         "yaxis": "y"
        },
        {
         "marker": {
          "line": {
           "color": "black",
           "width": 0.5
          }
         },
         "name": "Bin 2",
         "opacity": 0.75,
         "type": "histogram",
         "x": [
          -1,
          2,
          -1,
          1,
          2,
          -2,
          0,
          -1,
          -1,
          0,
          -1,
          -2,
          2,
          -1,
          -2,
          2,
          0,
          0,
          3,
          2,
          -2,
          1,
          -1,
          -1,
          0,
          -1,
          -1,
          2,
          0,
          0,
          -1,
          2,
          1,
          2,
          0,
          1,
          -1,
          -4,
          1,
          -1,
          -3,
          2,
          2,
          1,
          2,
          0,
          -4,
          -2,
          1,
          -1,
          0,
          1,
          0,
          2,
          -2,
          -4,
          1,
          0,
          -1,
          -1,
          -1,
          -2,
          0,
          0,
          -1,
          -1,
          1,
          2,
          3,
          2,
          1,
          4,
          -2,
          2,
          -1,
          0,
          -2,
          0,
          2,
          2,
          -3,
          0,
          2,
          1,
          -2,
          2,
          -1,
          0,
          -1,
          2,
          1,
          1,
          0,
          2,
          -2,
          2,
          2,
          -2,
          -1,
          1,
          -1,
          -2,
          2,
          0,
          -1,
          4,
          0,
          3,
          2,
          -1,
          1,
          3,
          0,
          2
         ],
         "xaxis": "x2",
         "yaxis": "y2"
        },
        {
         "marker": {
          "line": {
           "color": "black",
           "width": 0.5
          }
         },
         "name": "Bin 3",
         "opacity": 0.75,
         "type": "histogram",
         "x": [
          0,
          -3,
          -2,
          2,
          0,
          0,
          1,
          0,
          -1,
          0,
          1,
          2,
          0,
          -1,
          1,
          -1,
          -1,
          1,
          0,
          -1,
          0,
          -5,
          -2,
          2,
          -1,
          1,
          -4,
          -4,
          -3,
          -2,
          2,
          -1,
          3,
          1,
          0,
          -3,
          -1,
          -1,
          1,
          1,
          0,
          0,
          0,
          -3,
          1,
          -2,
          1,
          -1,
          0,
          2,
          -1,
          1,
          0,
          1,
          -1,
          2,
          1,
          -2,
          1,
          -1,
          -2,
          -4,
          -2,
          0,
          -1,
          0,
          -1,
          1,
          0,
          1,
          -2,
          -3,
          -2,
          -1,
          -1,
          0,
          1,
          0,
          1,
          -3,
          -1,
          3,
          -1,
          2,
          0,
          0,
          2,
          -1,
          1,
          -2,
          -1,
          -3,
          0,
          -4,
          -3,
          1,
          2,
          1,
          2,
          1,
          -1,
          1,
          2,
          -2,
          -1,
          -2,
          -1,
          -1,
          3,
          1,
          -2,
          -3,
          2,
          -5,
          2,
          -1,
          -2,
          -1,
          0,
          -2,
          0,
          2,
          0,
          1,
          0,
          -1,
          -1,
          1,
          0,
          -4,
          -3,
          0,
          -3
         ],
         "xaxis": "x3",
         "yaxis": "y3"
        }
       ],
       "layout": {
        "annotations": [
         {
          "font": {
           "size": 16
          },
          "showarrow": false,
          "text": "Bin 1",
          "x": 0.5,
          "xanchor": "center",
          "xref": "paper",
          "y": 1,
          "yanchor": "bottom",
          "yref": "paper"
         },
         {
          "font": {
           "size": 16
          },
          "showarrow": false,
          "text": "Bin 2",
          "x": 0.5,
          "xanchor": "center",
          "xref": "paper",
          "y": 0.6111111111111112,
          "yanchor": "bottom",
          "yref": "paper"
         },
         {
          "font": {
           "size": 16
          },
          "showarrow": false,
          "text": "Bin 3",
          "x": 0.5,
          "xanchor": "center",
          "xref": "paper",
          "y": 0.22222222222222224,
          "yanchor": "bottom",
          "yref": "paper"
         }
        ],
        "height": 900,
        "showlegend": false,
        "template": {
         "data": {
          "bar": [
           {
            "error_x": {
             "color": "#2a3f5f"
            },
            "error_y": {
             "color": "#2a3f5f"
            },
            "marker": {
             "line": {
              "color": "#E5ECF6",
              "width": 0.5
             },
             "pattern": {
              "fillmode": "overlay",
              "size": 10,
              "solidity": 0.2
             }
            },
            "type": "bar"
           }
          ],
          "barpolar": [
           {
            "marker": {
             "line": {
              "color": "#E5ECF6",
              "width": 0.5
             },
             "pattern": {
              "fillmode": "overlay",
              "size": 10,
              "solidity": 0.2
             }
            },
            "type": "barpolar"
           }
          ],
          "carpet": [
           {
            "aaxis": {
             "endlinecolor": "#2a3f5f",
             "gridcolor": "white",
             "linecolor": "white",
             "minorgridcolor": "white",
             "startlinecolor": "#2a3f5f"
            },
            "baxis": {
             "endlinecolor": "#2a3f5f",
             "gridcolor": "white",
             "linecolor": "white",
             "minorgridcolor": "white",
             "startlinecolor": "#2a3f5f"
            },
            "type": "carpet"
           }
          ],
          "choropleth": [
           {
            "colorbar": {
             "outlinewidth": 0,
             "ticks": ""
            },
            "type": "choropleth"
           }
          ],
          "contour": [
           {
            "colorbar": {
             "outlinewidth": 0,
             "ticks": ""
            },
            "colorscale": [
             [
              0,
              "#0d0887"
             ],
             [
              0.1111111111111111,
              "#46039f"
             ],
             [
              0.2222222222222222,
              "#7201a8"
             ],
             [
              0.3333333333333333,
              "#9c179e"
             ],
             [
              0.4444444444444444,
              "#bd3786"
             ],
             [
              0.5555555555555556,
              "#d8576b"
             ],
             [
              0.6666666666666666,
              "#ed7953"
             ],
             [
              0.7777777777777778,
              "#fb9f3a"
             ],
             [
              0.8888888888888888,
              "#fdca26"
             ],
             [
              1,
              "#f0f921"
             ]
            ],
            "type": "contour"
           }
          ],
          "contourcarpet": [
           {
            "colorbar": {
             "outlinewidth": 0,
             "ticks": ""
            },
            "type": "contourcarpet"
           }
          ],
          "heatmap": [
           {
            "colorbar": {
             "outlinewidth": 0,
             "ticks": ""
            },
            "colorscale": [
             [
              0,
              "#0d0887"
             ],
             [
              0.1111111111111111,
              "#46039f"
             ],
             [
              0.2222222222222222,
              "#7201a8"
             ],
             [
              0.3333333333333333,
              "#9c179e"
             ],
             [
              0.4444444444444444,
              "#bd3786"
             ],
             [
              0.5555555555555556,
              "#d8576b"
             ],
             [
              0.6666666666666666,
              "#ed7953"
             ],
             [
              0.7777777777777778,
              "#fb9f3a"
             ],
             [
              0.8888888888888888,
              "#fdca26"
             ],
             [
              1,
              "#f0f921"
             ]
            ],
            "type": "heatmap"
           }
          ],
          "heatmapgl": [
           {
            "colorbar": {
             "outlinewidth": 0,
             "ticks": ""
            },
            "colorscale": [
             [
              0,
              "#0d0887"
             ],
             [
              0.1111111111111111,
              "#46039f"
             ],
             [
              0.2222222222222222,
              "#7201a8"
             ],
             [
              0.3333333333333333,
              "#9c179e"
             ],
             [
              0.4444444444444444,
              "#bd3786"
             ],
             [
              0.5555555555555556,
              "#d8576b"
             ],
             [
              0.6666666666666666,
              "#ed7953"
             ],
             [
              0.7777777777777778,
              "#fb9f3a"
             ],
             [
              0.8888888888888888,
              "#fdca26"
             ],
             [
              1,
              "#f0f921"
             ]
            ],
            "type": "heatmapgl"
           }
          ],
          "histogram": [
           {
            "marker": {
             "pattern": {
              "fillmode": "overlay",
              "size": 10,
              "solidity": 0.2
             }
            },
            "type": "histogram"
           }
          ],
          "histogram2d": [
           {
            "colorbar": {
             "outlinewidth": 0,
             "ticks": ""
            },
            "colorscale": [
             [
              0,
              "#0d0887"
             ],
             [
              0.1111111111111111,
              "#46039f"
             ],
             [
              0.2222222222222222,
              "#7201a8"
             ],
             [
              0.3333333333333333,
              "#9c179e"
             ],
             [
              0.4444444444444444,
              "#bd3786"
             ],
             [
              0.5555555555555556,
              "#d8576b"
             ],
             [
              0.6666666666666666,
              "#ed7953"
             ],
             [
              0.7777777777777778,
              "#fb9f3a"
             ],
             [
              0.8888888888888888,
              "#fdca26"
             ],
             [
              1,
              "#f0f921"
             ]
            ],
            "type": "histogram2d"
           }
          ],
          "histogram2dcontour": [
           {
            "colorbar": {
             "outlinewidth": 0,
             "ticks": ""
            },
            "colorscale": [
             [
              0,
              "#0d0887"
             ],
             [
              0.1111111111111111,
              "#46039f"
             ],
             [
              0.2222222222222222,
              "#7201a8"
             ],
             [
              0.3333333333333333,
              "#9c179e"
             ],
             [
              0.4444444444444444,
              "#bd3786"
             ],
             [
              0.5555555555555556,
              "#d8576b"
             ],
             [
              0.6666666666666666,
              "#ed7953"
             ],
             [
              0.7777777777777778,
              "#fb9f3a"
             ],
             [
              0.8888888888888888,
              "#fdca26"
             ],
             [
              1,
              "#f0f921"
             ]
            ],
            "type": "histogram2dcontour"
           }
          ],
          "mesh3d": [
           {
            "colorbar": {
             "outlinewidth": 0,
             "ticks": ""
            },
            "type": "mesh3d"
           }
          ],
          "parcoords": [
           {
            "line": {
             "colorbar": {
              "outlinewidth": 0,
              "ticks": ""
             }
            },
            "type": "parcoords"
           }
          ],
          "pie": [
           {
            "automargin": true,
            "type": "pie"
           }
          ],
          "scatter": [
           {
            "fillpattern": {
             "fillmode": "overlay",
             "size": 10,
             "solidity": 0.2
            },
            "type": "scatter"
           }
          ],
          "scatter3d": [
           {
            "line": {
             "colorbar": {
              "outlinewidth": 0,
              "ticks": ""
             }
            },
            "marker": {
             "colorbar": {
              "outlinewidth": 0,
              "ticks": ""
             }
            },
            "type": "scatter3d"
           }
          ],
          "scattercarpet": [
           {
            "marker": {
             "colorbar": {
              "outlinewidth": 0,
              "ticks": ""
             }
            },
            "type": "scattercarpet"
           }
          ],
          "scattergeo": [
           {
            "marker": {
             "colorbar": {
              "outlinewidth": 0,
              "ticks": ""
             }
            },
            "type": "scattergeo"
           }
          ],
          "scattergl": [
           {
            "marker": {
             "colorbar": {
              "outlinewidth": 0,
              "ticks": ""
             }
            },
            "type": "scattergl"
           }
          ],
          "scattermapbox": [
           {
            "marker": {
             "colorbar": {
              "outlinewidth": 0,
              "ticks": ""
             }
            },
            "type": "scattermapbox"
           }
          ],
          "scatterpolar": [
           {
            "marker": {
             "colorbar": {
              "outlinewidth": 0,
              "ticks": ""
             }
            },
            "type": "scatterpolar"
           }
          ],
          "scatterpolargl": [
           {
            "marker": {
             "colorbar": {
              "outlinewidth": 0,
              "ticks": ""
             }
            },
            "type": "scatterpolargl"
           }
          ],
          "scatterternary": [
           {
            "marker": {
             "colorbar": {
              "outlinewidth": 0,
              "ticks": ""
             }
            },
            "type": "scatterternary"
           }
          ],
          "surface": [
           {
            "colorbar": {
             "outlinewidth": 0,
             "ticks": ""
            },
            "colorscale": [
             [
              0,
              "#0d0887"
             ],
             [
              0.1111111111111111,
              "#46039f"
             ],
             [
              0.2222222222222222,
              "#7201a8"
             ],
             [
              0.3333333333333333,
              "#9c179e"
             ],
             [
              0.4444444444444444,
              "#bd3786"
             ],
             [
              0.5555555555555556,
              "#d8576b"
             ],
             [
              0.6666666666666666,
              "#ed7953"
             ],
             [
              0.7777777777777778,
              "#fb9f3a"
             ],
             [
              0.8888888888888888,
              "#fdca26"
             ],
             [
              1,
              "#f0f921"
             ]
            ],
            "type": "surface"
           }
          ],
          "table": [
           {
            "cells": {
             "fill": {
              "color": "#EBF0F8"
             },
             "line": {
              "color": "white"
             }
            },
            "header": {
             "fill": {
              "color": "#C8D4E3"
             },
             "line": {
              "color": "white"
             }
            },
            "type": "table"
           }
          ]
         },
         "layout": {
          "annotationdefaults": {
           "arrowcolor": "#2a3f5f",
           "arrowhead": 0,
           "arrowwidth": 1
          },
          "autotypenumbers": "strict",
          "coloraxis": {
           "colorbar": {
            "outlinewidth": 0,
            "ticks": ""
           }
          },
          "colorscale": {
           "diverging": [
            [
             0,
             "#8e0152"
            ],
            [
             0.1,
             "#c51b7d"
            ],
            [
             0.2,
             "#de77ae"
            ],
            [
             0.3,
             "#f1b6da"
            ],
            [
             0.4,
             "#fde0ef"
            ],
            [
             0.5,
             "#f7f7f7"
            ],
            [
             0.6,
             "#e6f5d0"
            ],
            [
             0.7,
             "#b8e186"
            ],
            [
             0.8,
             "#7fbc41"
            ],
            [
             0.9,
             "#4d9221"
            ],
            [
             1,
             "#276419"
            ]
           ],
           "sequential": [
            [
             0,
             "#0d0887"
            ],
            [
             0.1111111111111111,
             "#46039f"
            ],
            [
             0.2222222222222222,
             "#7201a8"
            ],
            [
             0.3333333333333333,
             "#9c179e"
            ],
            [
             0.4444444444444444,
             "#bd3786"
            ],
            [
             0.5555555555555556,
             "#d8576b"
            ],
            [
             0.6666666666666666,
             "#ed7953"
            ],
            [
             0.7777777777777778,
             "#fb9f3a"
            ],
            [
             0.8888888888888888,
             "#fdca26"
            ],
            [
             1,
             "#f0f921"
            ]
           ],
           "sequentialminus": [
            [
             0,
             "#0d0887"
            ],
            [
             0.1111111111111111,
             "#46039f"
            ],
            [
             0.2222222222222222,
             "#7201a8"
            ],
            [
             0.3333333333333333,
             "#9c179e"
            ],
            [
             0.4444444444444444,
             "#bd3786"
            ],
            [
             0.5555555555555556,
             "#d8576b"
            ],
            [
             0.6666666666666666,
             "#ed7953"
            ],
            [
             0.7777777777777778,
             "#fb9f3a"
            ],
            [
             0.8888888888888888,
             "#fdca26"
            ],
            [
             1,
             "#f0f921"
            ]
           ]
          },
          "colorway": [
           "#636efa",
           "#EF553B",
           "#00cc96",
           "#ab63fa",
           "#FFA15A",
           "#19d3f3",
           "#FF6692",
           "#B6E880",
           "#FF97FF",
           "#FECB52"
          ],
          "font": {
           "color": "#2a3f5f"
          },
          "geo": {
           "bgcolor": "white",
           "lakecolor": "white",
           "landcolor": "#E5ECF6",
           "showlakes": true,
           "showland": true,
           "subunitcolor": "white"
          },
          "hoverlabel": {
           "align": "left"
          },
          "hovermode": "closest",
          "mapbox": {
           "style": "light"
          },
          "paper_bgcolor": "white",
          "plot_bgcolor": "#E5ECF6",
          "polar": {
           "angularaxis": {
            "gridcolor": "white",
            "linecolor": "white",
            "ticks": ""
           },
           "bgcolor": "#E5ECF6",
           "radialaxis": {
            "gridcolor": "white",
            "linecolor": "white",
            "ticks": ""
           }
          },
          "scene": {
           "xaxis": {
            "backgroundcolor": "#E5ECF6",
            "gridcolor": "white",
            "gridwidth": 2,
            "linecolor": "white",
            "showbackground": true,
            "ticks": "",
            "zerolinecolor": "white"
           },
           "yaxis": {
            "backgroundcolor": "#E5ECF6",
            "gridcolor": "white",
            "gridwidth": 2,
            "linecolor": "white",
            "showbackground": true,
            "ticks": "",
            "zerolinecolor": "white"
           },
           "zaxis": {
            "backgroundcolor": "#E5ECF6",
            "gridcolor": "white",
            "gridwidth": 2,
            "linecolor": "white",
            "showbackground": true,
            "ticks": "",
            "zerolinecolor": "white"
           }
          },
          "shapedefaults": {
           "line": {
            "color": "#2a3f5f"
           }
          },
          "ternary": {
           "aaxis": {
            "gridcolor": "white",
            "linecolor": "white",
            "ticks": ""
           },
           "baxis": {
            "gridcolor": "white",
            "linecolor": "white",
            "ticks": ""
           },
           "bgcolor": "#E5ECF6",
           "caxis": {
            "gridcolor": "white",
            "linecolor": "white",
            "ticks": ""
           }
          },
          "title": {
           "x": 0.05
          },
          "xaxis": {
           "automargin": true,
           "gridcolor": "white",
           "linecolor": "white",
           "ticks": "",
           "title": {
            "standoff": 15
           },
           "zerolinecolor": "white",
           "zerolinewidth": 2
          },
          "yaxis": {
           "automargin": true,
           "gridcolor": "white",
           "linecolor": "white",
           "ticks": "",
           "title": {
            "standoff": 15
           },
           "zerolinecolor": "white",
           "zerolinewidth": 2
          }
         }
        },
        "title": {
         "text": "Home Goal Advantage by Bin"
        },
        "width": 800,
        "xaxis": {
         "anchor": "y",
         "domain": [
          0,
          1
         ],
         "range": [
          -5,
          6
         ],
         "title": {
          "text": "Home Goal Advantage"
         }
        },
        "xaxis2": {
         "anchor": "y2",
         "domain": [
          0,
          1
         ],
         "range": [
          -5,
          6
         ],
         "title": {
          "text": "Home Goal Advantage"
         }
        },
        "xaxis3": {
         "anchor": "y3",
         "domain": [
          0,
          1
         ],
         "range": [
          -5,
          6
         ],
         "title": {
          "text": "Home Goal Advantage"
         }
        },
        "yaxis": {
         "anchor": "x",
         "domain": [
          0.7777777777777778,
          1
         ],
         "title": {
          "text": "Frequency"
         }
        },
        "yaxis2": {
         "anchor": "x2",
         "domain": [
          0.3888888888888889,
          0.6111111111111112
         ],
         "title": {
          "text": "Frequency"
         }
        },
        "yaxis3": {
         "anchor": "x3",
         "domain": [
          0,
          0.22222222222222224
         ],
         "title": {
          "text": "Frequency"
         }
        }
       }
      }
     },
     "metadata": {},
     "output_type": "display_data"
    }
   ],
   "source": [
    "import plotly.graph_objects as go\n",
    "from plotly.subplots import make_subplots\n",
    "\n",
    "# Calculate the minimum and maximum home_goaladv across the entire DataFrame\n",
    "x_min = df_merged['home_goaladv'].min()\n",
    "x_max = df_merged['home_goaladv'].max()\n",
    "\n",
    "bins = df_merged[\"team3bins\"].unique()\n",
    "# Convert to list and sort\n",
    "bins = list(bins)\n",
    "bins.sort() \n",
    "\n",
    "# Create subplots\n",
    "fig = make_subplots(rows=len(bins), cols=1, subplot_titles=[f\"Bin {bin}\" for bin in bins])\n",
    "\n",
    "# Add a histogram to each subplot\n",
    "for i, bin in enumerate(bins, start=1):\n",
    "    filtered_data = df_merged.loc[df_merged[\"team3bins\"] == bin, :]\n",
    "    fig.add_trace(\n",
    "        go.Histogram(x=filtered_data[\"home_goaladv\"], name=f\"Bin {bin}\"),\n",
    "        row=i, col=1\n",
    "    )\n",
    "\n",
    "# Update layout for each x-axis in the subplots\n",
    "for i in range(1, len(bins) + 1):\n",
    "    fig.update_xaxes(range=[x_min, x_max], title_text=\"Home Goal Advantage\", row=i, col=1)\n",
    "\n",
    "# Update layout for each y-axis in the subplots\n",
    "for i in range(1, len(bins) + 1):\n",
    "    fig.update_yaxes(title_text=\"Frequency\", row=i, col=1)\n",
    "\n",
    "fig.update_layout(\n",
    "    height=900, \n",
    "    width=800, \n",
    "    title_text=\"Home Goal Advantage by Bin\",\n",
    "    showlegend=False\n",
    ")\n",
    "fig.update_traces(opacity=0.75, marker=dict(line=dict(color=\"black\", width=0.5)))\n",
    "\n",
    "fig.show()\n"
   ]
  },
  {
   "cell_type": "markdown",
   "metadata": {},
   "source": [
    "We can notice how teams at bin #1 presented a higher frequency of positive home goal advantage. The mode is clearly `2`. Teams at bin #2 displayed a somewhat less normal distribuion, with a more equal proportion of games ending at `-1` to `2`. This means less consistency when playing at home. This trend increases even further and gets worse when we observe bin #3. Not only they displayed a similar proportion of games at the -1, 1 range, yet also their distribution seems to be more concentrated on the negative spectre of home goal advantage. Finally, we can also observe how teams that performed well won some games with a comfortable advantage while also suffering heavy losses. Being among the best does not necessarily mean not losing by a wide margin at home sometimes!\n",
    "\n",
    "### 2.2 Bin scatters"
   ]
  },
  {
   "cell_type": "code",
   "execution_count": 88,
   "metadata": {},
   "outputs": [
    {
     "data": {
      "text/html": [
       "<div>\n",
       "<style scoped>\n",
       "    .dataframe tbody tr th:only-of-type {\n",
       "        vertical-align: middle;\n",
       "    }\n",
       "\n",
       "    .dataframe tbody tr th {\n",
       "        vertical-align: top;\n",
       "    }\n",
       "\n",
       "    .dataframe thead th {\n",
       "        text-align: right;\n",
       "    }\n",
       "</style>\n",
       "<table border=\"1\" class=\"dataframe\">\n",
       "  <thead>\n",
       "    <tr style=\"text-align: right;\">\n",
       "      <th></th>\n",
       "      <th>team3bins</th>\n",
       "      <th>mean_goaladv</th>\n",
       "    </tr>\n",
       "  </thead>\n",
       "  <tbody>\n",
       "    <tr>\n",
       "      <th>0</th>\n",
       "      <td>1</td>\n",
       "      <td>1.210526</td>\n",
       "    </tr>\n",
       "    <tr>\n",
       "      <th>1</th>\n",
       "      <td>2</td>\n",
       "      <td>0.157895</td>\n",
       "    </tr>\n",
       "    <tr>\n",
       "      <th>2</th>\n",
       "      <td>3</td>\n",
       "      <td>-0.443609</td>\n",
       "    </tr>\n",
       "  </tbody>\n",
       "</table>\n",
       "</div>"
      ],
      "text/plain": [
       "  team3bins  mean_goaladv\n",
       "0         1      1.210526\n",
       "1         2      0.157895\n",
       "2         3     -0.443609"
      ]
     },
     "execution_count": 88,
     "metadata": {},
     "output_type": "execute_result"
    }
   ],
   "source": [
    "# Generate mean goal adv scores\n",
    "df1 = df_merged.groupby(\"team3bins\").agg(mean_goaladv=(\"home_goaladv\", \"mean\")).sort_index(ascending=False).reset_index()\n",
    "df1"
   ]
  },
  {
   "cell_type": "code",
   "execution_count": 89,
   "metadata": {},
   "outputs": [
    {
     "data": {
      "application/vnd.plotly.v1+json": {
       "config": {
        "plotlyServerURL": "https://plot.ly"
       },
       "data": [
        {
         "marker": {
          "color": [
           "blue",
           "green",
           "red"
          ],
          "opacity": 0.8,
          "size": 10
         },
         "mode": "markers",
         "type": "scatter",
         "x": [
          1,
          2,
          3
         ],
         "xaxis": "x",
         "y": [
          1.2105263157894737,
          0.15789473684210525,
          -0.44360902255639095
         ],
         "yaxis": "y"
        },
        {
         "boxpoints": "all",
         "marker": {
          "color": "blue",
          "opacity": 0.8
         },
         "name": "Bin 1",
         "type": "box",
         "xaxis": "x2",
         "y": [
          1,
          4,
          -2,
          1,
          2,
          5,
          -2,
          2,
          1,
          -3,
          2,
          1,
          -2,
          3,
          -1,
          3,
          4,
          0,
          3,
          2,
          0,
          2,
          2,
          0,
          1,
          1,
          0,
          0,
          5,
          2,
          3,
          1,
          -4,
          -1,
          0,
          2,
          5,
          0,
          0,
          2,
          2,
          0,
          2,
          -1,
          2,
          2,
          1,
          2,
          0,
          -2,
          2,
          1,
          3,
          2,
          1,
          1,
          2,
          2,
          -1,
          -1,
          2,
          2,
          5,
          4,
          -4,
          4,
          -2,
          3,
          2,
          3,
          0,
          1,
          1,
          1,
          -1,
          3,
          1,
          1,
          2,
          0,
          1,
          0,
          1,
          0,
          1,
          5,
          2,
          3,
          6,
          2,
          1,
          0,
          2,
          1,
          5,
          4,
          2,
          0,
          1,
          -2,
          2,
          2,
          0,
          2,
          -1,
          2,
          1,
          1,
          2,
          2,
          3,
          2,
          2,
          4,
          1,
          2,
          2,
          1,
          -1,
          0,
          1,
          -2,
          5,
          -1,
          0,
          -1,
          3,
          0,
          1,
          -2,
          -2,
          0,
          2
         ],
         "yaxis": "y2"
        },
        {
         "boxpoints": "all",
         "marker": {
          "color": "green",
          "opacity": 0.8
         },
         "name": "Bin 2",
         "type": "box",
         "xaxis": "x2",
         "y": [
          -1,
          2,
          -1,
          1,
          2,
          -2,
          0,
          -1,
          -1,
          0,
          -1,
          -2,
          2,
          -1,
          -2,
          2,
          0,
          0,
          3,
          2,
          -2,
          1,
          -1,
          -1,
          0,
          -1,
          -1,
          2,
          0,
          0,
          -1,
          2,
          1,
          2,
          0,
          1,
          -1,
          -4,
          1,
          -1,
          -3,
          2,
          2,
          1,
          2,
          0,
          -4,
          -2,
          1,
          -1,
          0,
          1,
          0,
          2,
          -2,
          -4,
          1,
          0,
          -1,
          -1,
          -1,
          -2,
          0,
          0,
          -1,
          -1,
          1,
          2,
          3,
          2,
          1,
          4,
          -2,
          2,
          -1,
          0,
          -2,
          0,
          2,
          2,
          -3,
          0,
          2,
          1,
          -2,
          2,
          -1,
          0,
          -1,
          2,
          1,
          1,
          0,
          2,
          -2,
          2,
          2,
          -2,
          -1,
          1,
          -1,
          -2,
          2,
          0,
          -1,
          4,
          0,
          3,
          2,
          -1,
          1,
          3,
          0,
          2
         ],
         "yaxis": "y2"
        },
        {
         "boxpoints": "all",
         "marker": {
          "color": "red",
          "opacity": 0.8
         },
         "name": "Bin 3",
         "type": "box",
         "xaxis": "x2",
         "y": [
          0,
          -3,
          -2,
          2,
          0,
          0,
          1,
          0,
          -1,
          0,
          1,
          2,
          0,
          -1,
          1,
          -1,
          -1,
          1,
          0,
          -1,
          0,
          -5,
          -2,
          2,
          -1,
          1,
          -4,
          -4,
          -3,
          -2,
          2,
          -1,
          3,
          1,
          0,
          -3,
          -1,
          -1,
          1,
          1,
          0,
          0,
          0,
          -3,
          1,
          -2,
          1,
          -1,
          0,
          2,
          -1,
          1,
          0,
          1,
          -1,
          2,
          1,
          -2,
          1,
          -1,
          -2,
          -4,
          -2,
          0,
          -1,
          0,
          -1,
          1,
          0,
          1,
          -2,
          -3,
          -2,
          -1,
          -1,
          0,
          1,
          0,
          1,
          -3,
          -1,
          3,
          -1,
          2,
          0,
          0,
          2,
          -1,
          1,
          -2,
          -1,
          -3,
          0,
          -4,
          -3,
          1,
          2,
          1,
          2,
          1,
          -1,
          1,
          2,
          -2,
          -1,
          -2,
          -1,
          -1,
          3,
          1,
          -2,
          -3,
          2,
          -5,
          2,
          -1,
          -2,
          -1,
          0,
          -2,
          0,
          2,
          0,
          1,
          0,
          -1,
          -1,
          1,
          0,
          -4,
          -3,
          0,
          -3
         ],
         "yaxis": "y2"
        }
       ],
       "layout": {
        "annotations": [
         {
          "font": {
           "size": 16
          },
          "showarrow": false,
          "text": "Mean Home Goal Advantage",
          "x": 0.225,
          "xanchor": "center",
          "xref": "paper",
          "y": 1,
          "yanchor": "bottom",
          "yref": "paper"
         },
         {
          "font": {
           "size": 16
          },
          "showarrow": false,
          "text": "Home Goal Advantage Distribution",
          "x": 0.775,
          "xanchor": "center",
          "xref": "paper",
          "y": 1,
          "yanchor": "bottom",
          "yref": "paper"
         }
        ],
        "template": {
         "data": {
          "bar": [
           {
            "error_x": {
             "color": "#2a3f5f"
            },
            "error_y": {
             "color": "#2a3f5f"
            },
            "marker": {
             "line": {
              "color": "white",
              "width": 0.5
             },
             "pattern": {
              "fillmode": "overlay",
              "size": 10,
              "solidity": 0.2
             }
            },
            "type": "bar"
           }
          ],
          "barpolar": [
           {
            "marker": {
             "line": {
              "color": "white",
              "width": 0.5
             },
             "pattern": {
              "fillmode": "overlay",
              "size": 10,
              "solidity": 0.2
             }
            },
            "type": "barpolar"
           }
          ],
          "carpet": [
           {
            "aaxis": {
             "endlinecolor": "#2a3f5f",
             "gridcolor": "#C8D4E3",
             "linecolor": "#C8D4E3",
             "minorgridcolor": "#C8D4E3",
             "startlinecolor": "#2a3f5f"
            },
            "baxis": {
             "endlinecolor": "#2a3f5f",
             "gridcolor": "#C8D4E3",
             "linecolor": "#C8D4E3",
             "minorgridcolor": "#C8D4E3",
             "startlinecolor": "#2a3f5f"
            },
            "type": "carpet"
           }
          ],
          "choropleth": [
           {
            "colorbar": {
             "outlinewidth": 0,
             "ticks": ""
            },
            "type": "choropleth"
           }
          ],
          "contour": [
           {
            "colorbar": {
             "outlinewidth": 0,
             "ticks": ""
            },
            "colorscale": [
             [
              0,
              "#0d0887"
             ],
             [
              0.1111111111111111,
              "#46039f"
             ],
             [
              0.2222222222222222,
              "#7201a8"
             ],
             [
              0.3333333333333333,
              "#9c179e"
             ],
             [
              0.4444444444444444,
              "#bd3786"
             ],
             [
              0.5555555555555556,
              "#d8576b"
             ],
             [
              0.6666666666666666,
              "#ed7953"
             ],
             [
              0.7777777777777778,
              "#fb9f3a"
             ],
             [
              0.8888888888888888,
              "#fdca26"
             ],
             [
              1,
              "#f0f921"
             ]
            ],
            "type": "contour"
           }
          ],
          "contourcarpet": [
           {
            "colorbar": {
             "outlinewidth": 0,
             "ticks": ""
            },
            "type": "contourcarpet"
           }
          ],
          "heatmap": [
           {
            "colorbar": {
             "outlinewidth": 0,
             "ticks": ""
            },
            "colorscale": [
             [
              0,
              "#0d0887"
             ],
             [
              0.1111111111111111,
              "#46039f"
             ],
             [
              0.2222222222222222,
              "#7201a8"
             ],
             [
              0.3333333333333333,
              "#9c179e"
             ],
             [
              0.4444444444444444,
              "#bd3786"
             ],
             [
              0.5555555555555556,
              "#d8576b"
             ],
             [
              0.6666666666666666,
              "#ed7953"
             ],
             [
              0.7777777777777778,
              "#fb9f3a"
             ],
             [
              0.8888888888888888,
              "#fdca26"
             ],
             [
              1,
              "#f0f921"
             ]
            ],
            "type": "heatmap"
           }
          ],
          "heatmapgl": [
           {
            "colorbar": {
             "outlinewidth": 0,
             "ticks": ""
            },
            "colorscale": [
             [
              0,
              "#0d0887"
             ],
             [
              0.1111111111111111,
              "#46039f"
             ],
             [
              0.2222222222222222,
              "#7201a8"
             ],
             [
              0.3333333333333333,
              "#9c179e"
             ],
             [
              0.4444444444444444,
              "#bd3786"
             ],
             [
              0.5555555555555556,
              "#d8576b"
             ],
             [
              0.6666666666666666,
              "#ed7953"
             ],
             [
              0.7777777777777778,
              "#fb9f3a"
             ],
             [
              0.8888888888888888,
              "#fdca26"
             ],
             [
              1,
              "#f0f921"
             ]
            ],
            "type": "heatmapgl"
           }
          ],
          "histogram": [
           {
            "marker": {
             "pattern": {
              "fillmode": "overlay",
              "size": 10,
              "solidity": 0.2
             }
            },
            "type": "histogram"
           }
          ],
          "histogram2d": [
           {
            "colorbar": {
             "outlinewidth": 0,
             "ticks": ""
            },
            "colorscale": [
             [
              0,
              "#0d0887"
             ],
             [
              0.1111111111111111,
              "#46039f"
             ],
             [
              0.2222222222222222,
              "#7201a8"
             ],
             [
              0.3333333333333333,
              "#9c179e"
             ],
             [
              0.4444444444444444,
              "#bd3786"
             ],
             [
              0.5555555555555556,
              "#d8576b"
             ],
             [
              0.6666666666666666,
              "#ed7953"
             ],
             [
              0.7777777777777778,
              "#fb9f3a"
             ],
             [
              0.8888888888888888,
              "#fdca26"
             ],
             [
              1,
              "#f0f921"
             ]
            ],
            "type": "histogram2d"
           }
          ],
          "histogram2dcontour": [
           {
            "colorbar": {
             "outlinewidth": 0,
             "ticks": ""
            },
            "colorscale": [
             [
              0,
              "#0d0887"
             ],
             [
              0.1111111111111111,
              "#46039f"
             ],
             [
              0.2222222222222222,
              "#7201a8"
             ],
             [
              0.3333333333333333,
              "#9c179e"
             ],
             [
              0.4444444444444444,
              "#bd3786"
             ],
             [
              0.5555555555555556,
              "#d8576b"
             ],
             [
              0.6666666666666666,
              "#ed7953"
             ],
             [
              0.7777777777777778,
              "#fb9f3a"
             ],
             [
              0.8888888888888888,
              "#fdca26"
             ],
             [
              1,
              "#f0f921"
             ]
            ],
            "type": "histogram2dcontour"
           }
          ],
          "mesh3d": [
           {
            "colorbar": {
             "outlinewidth": 0,
             "ticks": ""
            },
            "type": "mesh3d"
           }
          ],
          "parcoords": [
           {
            "line": {
             "colorbar": {
              "outlinewidth": 0,
              "ticks": ""
             }
            },
            "type": "parcoords"
           }
          ],
          "pie": [
           {
            "automargin": true,
            "type": "pie"
           }
          ],
          "scatter": [
           {
            "fillpattern": {
             "fillmode": "overlay",
             "size": 10,
             "solidity": 0.2
            },
            "type": "scatter"
           }
          ],
          "scatter3d": [
           {
            "line": {
             "colorbar": {
              "outlinewidth": 0,
              "ticks": ""
             }
            },
            "marker": {
             "colorbar": {
              "outlinewidth": 0,
              "ticks": ""
             }
            },
            "type": "scatter3d"
           }
          ],
          "scattercarpet": [
           {
            "marker": {
             "colorbar": {
              "outlinewidth": 0,
              "ticks": ""
             }
            },
            "type": "scattercarpet"
           }
          ],
          "scattergeo": [
           {
            "marker": {
             "colorbar": {
              "outlinewidth": 0,
              "ticks": ""
             }
            },
            "type": "scattergeo"
           }
          ],
          "scattergl": [
           {
            "marker": {
             "colorbar": {
              "outlinewidth": 0,
              "ticks": ""
             }
            },
            "type": "scattergl"
           }
          ],
          "scattermapbox": [
           {
            "marker": {
             "colorbar": {
              "outlinewidth": 0,
              "ticks": ""
             }
            },
            "type": "scattermapbox"
           }
          ],
          "scatterpolar": [
           {
            "marker": {
             "colorbar": {
              "outlinewidth": 0,
              "ticks": ""
             }
            },
            "type": "scatterpolar"
           }
          ],
          "scatterpolargl": [
           {
            "marker": {
             "colorbar": {
              "outlinewidth": 0,
              "ticks": ""
             }
            },
            "type": "scatterpolargl"
           }
          ],
          "scatterternary": [
           {
            "marker": {
             "colorbar": {
              "outlinewidth": 0,
              "ticks": ""
             }
            },
            "type": "scatterternary"
           }
          ],
          "surface": [
           {
            "colorbar": {
             "outlinewidth": 0,
             "ticks": ""
            },
            "colorscale": [
             [
              0,
              "#0d0887"
             ],
             [
              0.1111111111111111,
              "#46039f"
             ],
             [
              0.2222222222222222,
              "#7201a8"
             ],
             [
              0.3333333333333333,
              "#9c179e"
             ],
             [
              0.4444444444444444,
              "#bd3786"
             ],
             [
              0.5555555555555556,
              "#d8576b"
             ],
             [
              0.6666666666666666,
              "#ed7953"
             ],
             [
              0.7777777777777778,
              "#fb9f3a"
             ],
             [
              0.8888888888888888,
              "#fdca26"
             ],
             [
              1,
              "#f0f921"
             ]
            ],
            "type": "surface"
           }
          ],
          "table": [
           {
            "cells": {
             "fill": {
              "color": "#EBF0F8"
             },
             "line": {
              "color": "white"
             }
            },
            "header": {
             "fill": {
              "color": "#C8D4E3"
             },
             "line": {
              "color": "white"
             }
            },
            "type": "table"
           }
          ]
         },
         "layout": {
          "annotationdefaults": {
           "arrowcolor": "#2a3f5f",
           "arrowhead": 0,
           "arrowwidth": 1
          },
          "autotypenumbers": "strict",
          "coloraxis": {
           "colorbar": {
            "outlinewidth": 0,
            "ticks": ""
           }
          },
          "colorscale": {
           "diverging": [
            [
             0,
             "#8e0152"
            ],
            [
             0.1,
             "#c51b7d"
            ],
            [
             0.2,
             "#de77ae"
            ],
            [
             0.3,
             "#f1b6da"
            ],
            [
             0.4,
             "#fde0ef"
            ],
            [
             0.5,
             "#f7f7f7"
            ],
            [
             0.6,
             "#e6f5d0"
            ],
            [
             0.7,
             "#b8e186"
            ],
            [
             0.8,
             "#7fbc41"
            ],
            [
             0.9,
             "#4d9221"
            ],
            [
             1,
             "#276419"
            ]
           ],
           "sequential": [
            [
             0,
             "#0d0887"
            ],
            [
             0.1111111111111111,
             "#46039f"
            ],
            [
             0.2222222222222222,
             "#7201a8"
            ],
            [
             0.3333333333333333,
             "#9c179e"
            ],
            [
             0.4444444444444444,
             "#bd3786"
            ],
            [
             0.5555555555555556,
             "#d8576b"
            ],
            [
             0.6666666666666666,
             "#ed7953"
            ],
            [
             0.7777777777777778,
             "#fb9f3a"
            ],
            [
             0.8888888888888888,
             "#fdca26"
            ],
            [
             1,
             "#f0f921"
            ]
           ],
           "sequentialminus": [
            [
             0,
             "#0d0887"
            ],
            [
             0.1111111111111111,
             "#46039f"
            ],
            [
             0.2222222222222222,
             "#7201a8"
            ],
            [
             0.3333333333333333,
             "#9c179e"
            ],
            [
             0.4444444444444444,
             "#bd3786"
            ],
            [
             0.5555555555555556,
             "#d8576b"
            ],
            [
             0.6666666666666666,
             "#ed7953"
            ],
            [
             0.7777777777777778,
             "#fb9f3a"
            ],
            [
             0.8888888888888888,
             "#fdca26"
            ],
            [
             1,
             "#f0f921"
            ]
           ]
          },
          "colorway": [
           "#636efa",
           "#EF553B",
           "#00cc96",
           "#ab63fa",
           "#FFA15A",
           "#19d3f3",
           "#FF6692",
           "#B6E880",
           "#FF97FF",
           "#FECB52"
          ],
          "font": {
           "color": "#2a3f5f"
          },
          "geo": {
           "bgcolor": "white",
           "lakecolor": "white",
           "landcolor": "white",
           "showlakes": true,
           "showland": true,
           "subunitcolor": "#C8D4E3"
          },
          "hoverlabel": {
           "align": "left"
          },
          "hovermode": "closest",
          "mapbox": {
           "style": "light"
          },
          "paper_bgcolor": "white",
          "plot_bgcolor": "white",
          "polar": {
           "angularaxis": {
            "gridcolor": "#EBF0F8",
            "linecolor": "#EBF0F8",
            "ticks": ""
           },
           "bgcolor": "white",
           "radialaxis": {
            "gridcolor": "#EBF0F8",
            "linecolor": "#EBF0F8",
            "ticks": ""
           }
          },
          "scene": {
           "xaxis": {
            "backgroundcolor": "white",
            "gridcolor": "#DFE8F3",
            "gridwidth": 2,
            "linecolor": "#EBF0F8",
            "showbackground": true,
            "ticks": "",
            "zerolinecolor": "#EBF0F8"
           },
           "yaxis": {
            "backgroundcolor": "white",
            "gridcolor": "#DFE8F3",
            "gridwidth": 2,
            "linecolor": "#EBF0F8",
            "showbackground": true,
            "ticks": "",
            "zerolinecolor": "#EBF0F8"
           },
           "zaxis": {
            "backgroundcolor": "white",
            "gridcolor": "#DFE8F3",
            "gridwidth": 2,
            "linecolor": "#EBF0F8",
            "showbackground": true,
            "ticks": "",
            "zerolinecolor": "#EBF0F8"
           }
          },
          "shapedefaults": {
           "line": {
            "color": "#2a3f5f"
           }
          },
          "ternary": {
           "aaxis": {
            "gridcolor": "#DFE8F3",
            "linecolor": "#A2B1C6",
            "ticks": ""
           },
           "baxis": {
            "gridcolor": "#DFE8F3",
            "linecolor": "#A2B1C6",
            "ticks": ""
           },
           "bgcolor": "white",
           "caxis": {
            "gridcolor": "#DFE8F3",
            "linecolor": "#A2B1C6",
            "ticks": ""
           }
          },
          "title": {
           "x": 0.05
          },
          "xaxis": {
           "automargin": true,
           "gridcolor": "#EBF0F8",
           "linecolor": "#EBF0F8",
           "ticks": "",
           "title": {
            "standoff": 15
           },
           "zerolinecolor": "#EBF0F8",
           "zerolinewidth": 2
          },
          "yaxis": {
           "automargin": true,
           "gridcolor": "#EBF0F8",
           "linecolor": "#EBF0F8",
           "ticks": "",
           "title": {
            "standoff": 15
           },
           "zerolinecolor": "#EBF0F8",
           "zerolinewidth": 2
          }
         }
        },
        "title": {
         "text": "Analysis of Home Goal Advantage by Previous Year Team Performance"
        },
        "xaxis": {
         "anchor": "y",
         "domain": [
          0,
          0.45
         ],
         "range": [
          0,
          4
         ],
         "tickmode": "array",
         "tickvals": [
          1,
          2,
          3
         ],
         "title": {
          "text": "Team Home Previous Year Performance (ranked 1 to 3)"
         }
        },
        "xaxis2": {
         "anchor": "y2",
         "domain": [
          0.55,
          1
         ],
         "title": {
          "text": "Team Home Previous Year Performance (ranked 1 to 3)"
         }
        },
        "yaxis": {
         "anchor": "x",
         "domain": [
          0,
          1
         ],
         "range": [
          -0.9436090225563909,
          1.7105263157894737
         ],
         "title": {
          "text": "Mean Home Goal Advantage"
         }
        },
        "yaxis2": {
         "anchor": "x2",
         "domain": [
          0,
          1
         ],
         "title": {
          "text": "Home Goal Advantage"
         }
        }
       }
      }
     },
     "metadata": {},
     "output_type": "display_data"
    }
   ],
   "source": [
    "import plotly.graph_objects as go\n",
    "from plotly.subplots import make_subplots\n",
    "\n",
    "# Define a color map for bins\n",
    "color_map = {1: 'blue', 2: 'green', 3: 'red'}\n",
    "\n",
    "# Create subplots with 1 row and 2 columns\n",
    "fig = make_subplots(rows=1, cols=2, subplot_titles=(\"Mean Home Goal Advantage\", \"Home Goal Advantage Distribution\"))\n",
    "\n",
    "# Adding the scatter plot in the first column\n",
    "fig.add_trace(\n",
    "    go.Scatter(\n",
    "        x=df1['team3bins'],\n",
    "        y=df1['mean_goaladv'],\n",
    "        mode='markers',\n",
    "        marker=dict(size=10, color=[color_map[x] for x in df1['team3bins']], opacity=0.8)\n",
    "    ),\n",
    "    row=1, col=1\n",
    ")\n",
    "\n",
    "# Adding each bin as a separate box plot trace\n",
    "for bin in sorted(df_merged['team3bins'].unique()):\n",
    "    fig.add_trace(\n",
    "        go.Box(\n",
    "            y=df_merged[df_merged['team3bins'] == bin]['home_goaladv'],\n",
    "            name=f\"Bin {bin}\",\n",
    "            marker=dict(color=color_map[bin], opacity=0.8),\n",
    "            boxpoints='all'  # Optionally show all points\n",
    "        ),\n",
    "        row=1, col=2\n",
    "    )\n",
    "\n",
    "# Update layout for the entire figure\n",
    "fig.update_layout(\n",
    "    title_text=\"Analysis of Home Goal Advantage by Previous Year Team Performance\",\n",
    "    template=\"plotly_white\",\n",
    "    xaxis=dict(\n",
    "        title=\"Team Home Previous Year Performance (ranked 1 to 3)\",\n",
    "        tickmode=\"array\",\n",
    "        tickvals=[1, 2, 3],\n",
    "        range=[0, 4]\n",
    "    ),\n",
    "    xaxis2=dict(\n",
    "        title=\"Team Home Previous Year Performance (ranked 1 to 3)\"\n",
    "    ),\n",
    "    yaxis=dict(\n",
    "        title=\"Mean Home Goal Advantage\",\n",
    "        range=[df1['mean_goaladv'].min() - 0.5, df1['mean_goaladv'].max() + 0.5]\n",
    "    ),\n",
    "    yaxis2=dict(\n",
    "        title=\"Home Goal Advantage\"\n",
    "    )\n",
    ")\n",
    "\n",
    "# Show the figure\n",
    "fig.show()\n"
   ]
  },
  {
   "cell_type": "markdown",
   "metadata": {},
   "source": [
    "We can see how the mean home goal advantage decreases for teams in the current season when compared to how they peformed last year. "
   ]
  },
  {
   "cell_type": "markdown",
   "metadata": {},
   "source": [
    "First observations:\n",
    "- There seems to be a positive correlation between the previous season performance for each team and home goal advantage on the following seasons. If teams performed well, probably, they performed as well in the following season.\n",
    "- Teams that performed well on the previous season clearly showed a positive home advantage in the following season. Group `1` displayed mean goal advantage of `1.21`.\n",
    "- The boxplots summarize our histograms. We can see how the statistics decrease as the bin number increases.\n",
    "\n",
    "## 3. Conditional Statistics ##\n",
    "### 3.1 Conditional Mean ###\n"
   ]
  },
  {
   "cell_type": "code",
   "execution_count": 95,
   "metadata": {},
   "outputs": [
    {
     "data": {
      "text/html": [
       "<div>\n",
       "<style scoped>\n",
       "    .dataframe tbody tr th:only-of-type {\n",
       "        vertical-align: middle;\n",
       "    }\n",
       "\n",
       "    .dataframe tbody tr th {\n",
       "        vertical-align: top;\n",
       "    }\n",
       "\n",
       "    .dataframe thead th {\n",
       "        text-align: right;\n",
       "    }\n",
       "</style>\n",
       "<table border=\"1\" class=\"dataframe\">\n",
       "  <thead>\n",
       "    <tr style=\"text-align: right;\">\n",
       "      <th></th>\n",
       "      <th>performance</th>\n",
       "      <th>mean_home_goaladv</th>\n",
       "    </tr>\n",
       "  </thead>\n",
       "  <tbody>\n",
       "    <tr>\n",
       "      <th>2</th>\n",
       "      <td>Top</td>\n",
       "      <td>1.210526</td>\n",
       "    </tr>\n",
       "    <tr>\n",
       "      <th>1</th>\n",
       "      <td>Middle</td>\n",
       "      <td>0.157895</td>\n",
       "    </tr>\n",
       "    <tr>\n",
       "      <th>0</th>\n",
       "      <td>Bottom</td>\n",
       "      <td>-0.443609</td>\n",
       "    </tr>\n",
       "  </tbody>\n",
       "</table>\n",
       "</div>"
      ],
      "text/plain": [
       "  performance  mean_home_goaladv\n",
       "2         Top           1.210526\n",
       "1      Middle           0.157895\n",
       "0      Bottom          -0.443609"
      ]
     },
     "execution_count": 95,
     "metadata": {},
     "output_type": "execute_result"
    }
   ],
   "source": [
    "# Calculate the mean home goal advantage for each bin\n",
    "conditional_means = df_merged.groupby(\"performance\")[\"home_goaladv\"].mean().reset_index().sort_values(by=\"home_goaladv\", ascending=False)\n",
    "conditional_means.columns = [\"performance\", \"mean_home_goaladv\"]\n",
    "conditional_means"
   ]
  },
  {
   "cell_type": "markdown",
   "metadata": {},
   "source": [
    "We have already seen how there is a positive correlation between the teams' previous year performance and their home goal advantage. As we move from the highest performing teams to the lowest, there seems to be a clear gradiant in home advantage.\n",
    "\n",
    "### 3.2 Conditional Variance\n",
    "How much **variability** is there in each group's home performance?"
   ]
  },
  {
   "cell_type": "code",
   "execution_count": 98,
   "metadata": {},
   "outputs": [
    {
     "data": {
      "text/html": [
       "<div>\n",
       "<style scoped>\n",
       "    .dataframe tbody tr th:only-of-type {\n",
       "        vertical-align: middle;\n",
       "    }\n",
       "\n",
       "    .dataframe tbody tr th {\n",
       "        vertical-align: top;\n",
       "    }\n",
       "\n",
       "    .dataframe thead th {\n",
       "        text-align: right;\n",
       "    }\n",
       "</style>\n",
       "<table border=\"1\" class=\"dataframe\">\n",
       "  <thead>\n",
       "    <tr style=\"text-align: right;\">\n",
       "      <th></th>\n",
       "      <th>performance</th>\n",
       "      <th>variance_home_goaladv</th>\n",
       "    </tr>\n",
       "  </thead>\n",
       "  <tbody>\n",
       "    <tr>\n",
       "      <th>2</th>\n",
       "      <td>Top</td>\n",
       "      <td>3.591707</td>\n",
       "    </tr>\n",
       "    <tr>\n",
       "      <th>1</th>\n",
       "      <td>Middle</td>\n",
       "      <td>2.912902</td>\n",
       "    </tr>\n",
       "    <tr>\n",
       "      <th>0</th>\n",
       "      <td>Bottom</td>\n",
       "      <td>3.036569</td>\n",
       "    </tr>\n",
       "  </tbody>\n",
       "</table>\n",
       "</div>"
      ],
      "text/plain": [
       "  performance  variance_home_goaladv\n",
       "2         Top               3.591707\n",
       "1      Middle               2.912902\n",
       "0      Bottom               3.036569"
      ]
     },
     "execution_count": 98,
     "metadata": {},
     "output_type": "execute_result"
    }
   ],
   "source": [
    "# Calculate the variance of home goal advantage for each bin\n",
    "conditional_variance = df_merged.groupby(\"performance\")[\"home_goaladv\"].var().reset_index().sort_values(by=\"performance\", ascending=False)\n",
    "conditional_variance.columns = [\"performance\", \"variance_home_goaladv\"]\n",
    "conditional_variance"
   ]
  },
  {
   "cell_type": "markdown",
   "metadata": {},
   "source": [
    "We can observe that top performers showed a higher goal variance than middle and bottom ones. When comparing to the mean, there seems to be a weaker correlation. In fact, the variance is high among Top, lowest among Middle, and then a big higher among Bottom. Given that the mean goal difference is higher among Top performers, we can expect a higher, positive variance too.\n",
    "\n",
    "### 3. Conditional Quantiles ###\n",
    "Let's calculate the difference for quantiles to get a gist of the distribution of our data."
   ]
  },
  {
   "cell_type": "code",
   "execution_count": 104,
   "metadata": {},
   "outputs": [
    {
     "data": {
      "text/html": [
       "<div>\n",
       "<style scoped>\n",
       "    .dataframe tbody tr th:only-of-type {\n",
       "        vertical-align: middle;\n",
       "    }\n",
       "\n",
       "    .dataframe tbody tr th {\n",
       "        vertical-align: top;\n",
       "    }\n",
       "\n",
       "    .dataframe thead th {\n",
       "        text-align: right;\n",
       "    }\n",
       "</style>\n",
       "<table border=\"1\" class=\"dataframe\">\n",
       "  <thead>\n",
       "    <tr style=\"text-align: right;\">\n",
       "      <th></th>\n",
       "      <th>25th percentile</th>\n",
       "      <th>50th percentile</th>\n",
       "      <th>75th percentile</th>\n",
       "      <th>IQR</th>\n",
       "    </tr>\n",
       "    <tr>\n",
       "      <th>performance</th>\n",
       "      <th></th>\n",
       "      <th></th>\n",
       "      <th></th>\n",
       "      <th></th>\n",
       "    </tr>\n",
       "  </thead>\n",
       "  <tbody>\n",
       "    <tr>\n",
       "      <th>Top</th>\n",
       "      <td>0.0</td>\n",
       "      <td>1.0</td>\n",
       "      <td>2.0</td>\n",
       "      <td>2.0</td>\n",
       "    </tr>\n",
       "    <tr>\n",
       "      <th>Middle</th>\n",
       "      <td>-1.0</td>\n",
       "      <td>0.0</td>\n",
       "      <td>2.0</td>\n",
       "      <td>3.0</td>\n",
       "    </tr>\n",
       "    <tr>\n",
       "      <th>Bottom</th>\n",
       "      <td>-1.0</td>\n",
       "      <td>0.0</td>\n",
       "      <td>1.0</td>\n",
       "      <td>2.0</td>\n",
       "    </tr>\n",
       "  </tbody>\n",
       "</table>\n",
       "</div>"
      ],
      "text/plain": [
       "             25th percentile  50th percentile  75th percentile  IQR\n",
       "performance                                                        \n",
       "Top                      0.0              1.0              2.0  2.0\n",
       "Middle                  -1.0              0.0              2.0  3.0\n",
       "Bottom                  -1.0              0.0              1.0  2.0"
      ]
     },
     "execution_count": 104,
     "metadata": {},
     "output_type": "execute_result"
    }
   ],
   "source": [
    "# Calculate various quantiles for home goal advantage within each bin\n",
    "quantiles = df_merged.groupby(\"performance\")[\"home_goaladv\"].quantile([0.25, 0.5, 0.75]).unstack().sort_values(by=\"performance\", ascending=False)\n",
    "quantiles.columns = [\"25th percentile\", \"50th percentile\", \"75th percentile\"]\n",
    "\n",
    "# Calculate the IQR for each bin\n",
    "quantiles[\"IQR\"] = quantiles[\"75th percentile\"] - quantiles[\"25th percentile\"]\n",
    "quantiles"
   ]
  },
  {
   "cell_type": "markdown",
   "metadata": {},
   "source": [
    "#### The Quantiles: ####\n",
    "1. **25th Percentile**\n",
    "- **Top Performers**. The value of `0.0` suggests that at least 25% of the top performers have no home goal advantage or worse.\n",
    "- **Middle Performers**. The value of `-1.0` implies that a quarter of them have a home goal disadvantage of a least -1.0.\n",
    "- **Bottom Performers**. Similarly to middle performers.\n",
    "\n",
    "2. **50th Percentile**\n",
    "- **Top Performers**. The median of `1.0` implies that half of the top performers have a home goal advantage of 1.0 or less.\n",
    "- **Middle and Bottom Performers**. The value of `0.0` suggest that half of these teams have shown no advantage or a disadvantage at home.\n",
    "\n",
    "3. **75th Percentile**\n",
    "- **Top Performers**. 75% of the top performers have a home goal advantage of `2.0` or less. This shows a strong home advantage among the top performers.\n",
    "- **Middle Performers**. Although the spread is similar to the top peformers at the upper end, the central tendency in this group is much lower (median at 0.0)\n",
    "- **Bottom Performers**. A 75% percentile of `1.0` suggests that 75% of the bottom performers have a home goal advantage of 1.0 or less, showing a less pronounced home advantage compared to other groups.\n",
    "\n",
    "#### Insights and Analysis: ####\n",
    "- **Spread and Skewness**. Comparing the 25th to the 75th percentile, we can see that top performers not only tend to have a higher median but also a **narrower interquartile range (IQR)** around *higher* values. This indicates less variability and a *positive* skew - more values are concentrated on the higher side of the median. Middle and bottom performers, while leaving a wider range of results, center around zero, which indicates **more variability** and **less consistent** home advantage.\n",
    "\n",
    "### 3.4 Conditional Probability ###\n",
    "We can calculate the probability of having a positive home goal advantage within each bin. This is a basic probability estimate based on the count of positive instances vs total instances.\n"
   ]
  },
  {
   "cell_type": "code",
   "execution_count": 107,
   "metadata": {},
   "outputs": [
    {
     "data": {
      "text/html": [
       "<div>\n",
       "<style scoped>\n",
       "    .dataframe tbody tr th:only-of-type {\n",
       "        vertical-align: middle;\n",
       "    }\n",
       "\n",
       "    .dataframe tbody tr th {\n",
       "        vertical-align: top;\n",
       "    }\n",
       "\n",
       "    .dataframe thead th {\n",
       "        text-align: right;\n",
       "    }\n",
       "</style>\n",
       "<table border=\"1\" class=\"dataframe\">\n",
       "  <thead>\n",
       "    <tr style=\"text-align: right;\">\n",
       "      <th></th>\n",
       "      <th>performance</th>\n",
       "      <th>probability_positive_home_goaladv</th>\n",
       "    </tr>\n",
       "  </thead>\n",
       "  <tbody>\n",
       "    <tr>\n",
       "      <th>2</th>\n",
       "      <td>Top</td>\n",
       "      <td>0.676692</td>\n",
       "    </tr>\n",
       "    <tr>\n",
       "      <th>1</th>\n",
       "      <td>Middle</td>\n",
       "      <td>0.421053</td>\n",
       "    </tr>\n",
       "    <tr>\n",
       "      <th>0</th>\n",
       "      <td>Bottom</td>\n",
       "      <td>0.323308</td>\n",
       "    </tr>\n",
       "  </tbody>\n",
       "</table>\n",
       "</div>"
      ],
      "text/plain": [
       "  performance  probability_positive_home_goaladv\n",
       "2         Top                           0.676692\n",
       "1      Middle                           0.421053\n",
       "0      Bottom                           0.323308"
      ]
     },
     "execution_count": 107,
     "metadata": {},
     "output_type": "execute_result"
    }
   ],
   "source": [
    "# Calculate the probability of a positive home goal advantage in each bin\n",
    "conditional_probability = df_merged.groupby(\"performance\").apply(lambda x: (x[\"home_goaladv\"] >0).sum() / len(x)).reset_index(name=\"probability_positive_home_goaladv\").sort_values(by=\"performance\", ascending=False)\n",
    "conditional_probability"
   ]
  },
  {
   "cell_type": "markdown",
   "metadata": {},
   "source": [
    "Here, we can see a strong correlation between how teams performed in the last season and their home goal advantage in the subsequent season. \n",
    "- **Top Performers**. Around `67%` of them won at home. Again, as discussed before, this is an impressive result.\n",
    "- **Middle Performers**. Circa `42%` won at home. This is a significant drop of more than 20 percent.\n",
    "- **Bottom Performers**. With roughly `32%`, these teams performed poorly at home, winning only a third of the matches.\n",
    "\n",
    "## 4. Conclusion ##\n",
    "The analysis clearly suggests that teams with better performance in the previous season are more likely to exploit home advantage effectively in the subsequent season. This correlation highlights the importance of momentum and confidence derived from past successes, which likely contribute to better home performances. For teams in the middle and lower tiers, the data suggests a need for targeted improvements in strategy, team dynamics, and possibly fan engagement to better capitalize on home game opportunities."
   ]
  }
 ],
 "metadata": {
  "kernelspec": {
   "display_name": "venv",
   "language": "python",
   "name": "python3"
  },
  "language_info": {
   "codemirror_mode": {
    "name": "ipython",
    "version": 3
   },
   "file_extension": ".py",
   "mimetype": "text/x-python",
   "name": "python",
   "nbconvert_exporter": "python",
   "pygments_lexer": "ipython3",
   "version": "3.11.3"
  }
 },
 "nbformat": 4,
 "nbformat_minor": 2
}
