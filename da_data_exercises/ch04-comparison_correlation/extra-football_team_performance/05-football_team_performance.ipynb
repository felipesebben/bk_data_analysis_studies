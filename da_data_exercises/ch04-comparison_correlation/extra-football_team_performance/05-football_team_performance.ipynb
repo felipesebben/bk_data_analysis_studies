{
 "cells": [
  {
   "cell_type": "markdown",
   "metadata": {},
   "source": [
    "<h1>Chapter 4 | Data Exercise #5 | <code>football</code> | Comparison and correlation</h1>\n",
    "<h2>Introduction:</h2>\n",
    "<p>In this notebook, you will find my notes and code for Chapter 4's <b>exercise 5</b> of the book <a href=\"https://gabors-data-analysis.com/\">Data Analysis for Business, Economics, and Policy</a>, by Gábor Békés and Gábor Kézdi. The question was: \n",
    "<p>5. Use the <code>football</code> dataset and pick a season. Create three groups of teams, based on their performance in their previous season (new teams come from the lower division, and you may put them in the lowest bin).</p>\n",
    "<p>Assignments:</p>\n",
    "<ul>\n",
    "    <li>Examine the extent of home team advantage (as in Chapter 3 Section 3.C1) by comparing it across  these three groups of teams.</li>\n",
    "    <li>Compare <b>stars</b> and <b>ratings</b> and <b>prices</b> for close and far hotels.</li>\n",
    "    <li>Produce bin scatters and scatterplots, and calculate donditional statistics.</li>\n",
    "    <li>Discuss what you find, and comment on which visualization you find the most useful.</li>\n",
    "</ul>\n",
    "<h2><b>1.</b> Load the data</h2>"
   ]
  },
  {
   "cell_type": "code",
   "execution_count": null,
   "metadata": {},
   "outputs": [],
   "source": []
  }
 ],
 "metadata": {
  "language_info": {
   "name": "python"
  }
 },
 "nbformat": 4,
 "nbformat_minor": 2
}
