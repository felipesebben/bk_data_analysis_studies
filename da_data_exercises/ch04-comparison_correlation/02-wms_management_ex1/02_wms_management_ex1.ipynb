{
 "cells": [
  {
   "cell_type": "markdown",
   "metadata": {},
   "source": [
    "<h1>Chapter 4 | Data Exercise #2 | <code>wms-management-survey</code> | Comparison and correlation</h1>\n",
    "<h2>Introduction:</h2>\n",
    "<p>In this notebook, you will find my notes and code for Chapter 5's <b>exercise 2</b> of the book <a href=\"https://gabors-data-analysis.com/\">Data Analysis for Business, Economics, and Policy</a>, by Gábor Békés and Gábor Kézdi. The question was: \n",
    "<p>2. Using the <code>wms-management-survey</code> dataset:</p>\n",
    "<p>Assignments:</p>\n",
    "<ul>\n",
    "    <li>Pick a country different from Mexico.</li>\n",
    "    <li>Reproduce all figures and tables of our case study.</li>\n",
    "    <li>Compare your results to what we found for Mexico.</li>\n",
    "</ul>\n",
    "<h2><b>1.</b> Load the data</h2>"
   ]
  },
  {
   "cell_type": "code",
   "execution_count": 2,
   "metadata": {},
   "outputs": [],
   "source": [
    "import os\n",
    "import sys\n",
    "import warnings\n",
    "import pandas as pd\n",
    "import matplotlib.pyplot as plt\n",
    "import numpy as np\n",
    "from plotnine import *\n",
    "from mizani.formatters import percent_format\n",
    "\n",
    "warnings.filterwarnings(\"ignore\")\n",
    "%matplotlib inline"
   ]
  },
  {
   "cell_type": "code",
   "execution_count": 3,
   "metadata": {},
   "outputs": [],
   "source": [
    "# Increase number of returned rows in pandas\n",
    "pd.set_option(\"display.max_rows\", 500)"
   ]
  },
  {
   "cell_type": "code",
   "execution_count": 4,
   "metadata": {},
   "outputs": [],
   "source": [
    "# Current script folder\n",
    "current_path = os.getcwd()\n",
    "dirname = current_path.split(\"da_data_exercises\")[0]\n",
    "\n",
    "# Get location folders\n",
    "data_in = f\"{dirname}da_data_repo/wms-management-survey/clean/\"\n",
    "data_out = f\"{dirname}da_data_exercises/ch04-comparison_correlation/02-wms_management_ex1/data/clean/\"\n",
    "output = f\"{dirname}da_data_exercises/ch04-comparison_correlation/02-wms_management_ex1/\"\n",
    "func = f\"{dirname}da_case_studies/ch00-tech_prep/\"\n",
    "sys.path.append(func)"
   ]
  },
  {
   "cell_type": "code",
   "execution_count": 5,
   "metadata": {},
   "outputs": [],
   "source": [
    "from py_helper_functions import *"
   ]
  },
  {
   "cell_type": "code",
   "execution_count": 6,
   "metadata": {},
   "outputs": [],
   "source": [
    "df = pd.read_csv(f\"{data_in}wms_da_textbook.csv\")"
   ]
  },
  {
   "cell_type": "code",
   "execution_count": 7,
   "metadata": {},
   "outputs": [
    {
     "data": {
      "text/plain": [
       "array(['United States', 'India', 'New Zealand', 'Australia', 'Argentina',\n",
       "       'Brazil', 'Canada', 'Chile', 'China', 'Germany', 'Spain', 'France',\n",
       "       'Northern Ireland', 'Great Britain', 'Greece',\n",
       "       'Republic of Ireland', 'Italy', 'Japan', 'Mexico', 'Poland',\n",
       "       'Portugal', 'Sweden', 'Singapore', 'Turkey'], dtype=object)"
      ]
     },
     "execution_count": 7,
     "metadata": {},
     "output_type": "execute_result"
    }
   ],
   "source": [
    "df[\"country\"].unique()"
   ]
  },
  {
   "cell_type": "code",
   "execution_count": 8,
   "metadata": {},
   "outputs": [
    {
     "data": {
      "text/html": [
       "<div>\n",
       "<style scoped>\n",
       "    .dataframe tbody tr th:only-of-type {\n",
       "        vertical-align: middle;\n",
       "    }\n",
       "\n",
       "    .dataframe tbody tr th {\n",
       "        vertical-align: top;\n",
       "    }\n",
       "\n",
       "    .dataframe thead th {\n",
       "        text-align: right;\n",
       "    }\n",
       "</style>\n",
       "<table border=\"1\" class=\"dataframe\">\n",
       "  <thead>\n",
       "    <tr style=\"text-align: right;\">\n",
       "      <th></th>\n",
       "      <th>firmid</th>\n",
       "      <th>wave</th>\n",
       "      <th>cty</th>\n",
       "      <th>country</th>\n",
       "      <th>sic</th>\n",
       "      <th>management</th>\n",
       "      <th>operations</th>\n",
       "      <th>monitor</th>\n",
       "      <th>target</th>\n",
       "      <th>people</th>\n",
       "      <th>...</th>\n",
       "      <th>aa_196</th>\n",
       "      <th>aa_197</th>\n",
       "      <th>aa_198</th>\n",
       "      <th>aa_199</th>\n",
       "      <th>aa_200</th>\n",
       "      <th>aa_201</th>\n",
       "      <th>aa_202</th>\n",
       "      <th>aa_203</th>\n",
       "      <th>aa_204</th>\n",
       "      <th>aa_205</th>\n",
       "    </tr>\n",
       "  </thead>\n",
       "  <tbody>\n",
       "    <tr>\n",
       "      <th>0</th>\n",
       "      <td>1</td>\n",
       "      <td>2004</td>\n",
       "      <td>us</td>\n",
       "      <td>United States</td>\n",
       "      <td>38.0</td>\n",
       "      <td>3.500000</td>\n",
       "      <td>3.0</td>\n",
       "      <td>3.6</td>\n",
       "      <td>3.6</td>\n",
       "      <td>3.500000</td>\n",
       "      <td>...</td>\n",
       "      <td>0.0</td>\n",
       "      <td>0.0</td>\n",
       "      <td>0.0</td>\n",
       "      <td>0.0</td>\n",
       "      <td>0.0</td>\n",
       "      <td>0.0</td>\n",
       "      <td>0.0</td>\n",
       "      <td>0.0</td>\n",
       "      <td>0.0</td>\n",
       "      <td>0.0</td>\n",
       "    </tr>\n",
       "    <tr>\n",
       "      <th>1</th>\n",
       "      <td>1</td>\n",
       "      <td>2006</td>\n",
       "      <td>us</td>\n",
       "      <td>United States</td>\n",
       "      <td>38.0</td>\n",
       "      <td>3.166667</td>\n",
       "      <td>5.0</td>\n",
       "      <td>3.8</td>\n",
       "      <td>2.6</td>\n",
       "      <td>2.500000</td>\n",
       "      <td>...</td>\n",
       "      <td>0.0</td>\n",
       "      <td>0.0</td>\n",
       "      <td>0.0</td>\n",
       "      <td>0.0</td>\n",
       "      <td>0.0</td>\n",
       "      <td>0.0</td>\n",
       "      <td>0.0</td>\n",
       "      <td>0.0</td>\n",
       "      <td>0.0</td>\n",
       "      <td>0.0</td>\n",
       "    </tr>\n",
       "    <tr>\n",
       "      <th>2</th>\n",
       "      <td>1</td>\n",
       "      <td>2010</td>\n",
       "      <td>us</td>\n",
       "      <td>United States</td>\n",
       "      <td>38.0</td>\n",
       "      <td>3.000000</td>\n",
       "      <td>2.0</td>\n",
       "      <td>2.8</td>\n",
       "      <td>3.6</td>\n",
       "      <td>3.000000</td>\n",
       "      <td>...</td>\n",
       "      <td>0.0</td>\n",
       "      <td>0.0</td>\n",
       "      <td>0.0</td>\n",
       "      <td>0.0</td>\n",
       "      <td>0.0</td>\n",
       "      <td>0.0</td>\n",
       "      <td>0.0</td>\n",
       "      <td>0.0</td>\n",
       "      <td>0.0</td>\n",
       "      <td>0.0</td>\n",
       "    </tr>\n",
       "    <tr>\n",
       "      <th>3</th>\n",
       "      <td>2</td>\n",
       "      <td>2004</td>\n",
       "      <td>us</td>\n",
       "      <td>United States</td>\n",
       "      <td>28.0</td>\n",
       "      <td>4.666667</td>\n",
       "      <td>4.5</td>\n",
       "      <td>4.8</td>\n",
       "      <td>4.4</td>\n",
       "      <td>4.833333</td>\n",
       "      <td>...</td>\n",
       "      <td>0.0</td>\n",
       "      <td>0.0</td>\n",
       "      <td>0.0</td>\n",
       "      <td>0.0</td>\n",
       "      <td>0.0</td>\n",
       "      <td>0.0</td>\n",
       "      <td>0.0</td>\n",
       "      <td>0.0</td>\n",
       "      <td>0.0</td>\n",
       "      <td>0.0</td>\n",
       "    </tr>\n",
       "    <tr>\n",
       "      <th>4</th>\n",
       "      <td>2</td>\n",
       "      <td>2004</td>\n",
       "      <td>us</td>\n",
       "      <td>United States</td>\n",
       "      <td>28.0</td>\n",
       "      <td>4.444445</td>\n",
       "      <td>4.5</td>\n",
       "      <td>4.6</td>\n",
       "      <td>4.4</td>\n",
       "      <td>4.333333</td>\n",
       "      <td>...</td>\n",
       "      <td>0.0</td>\n",
       "      <td>0.0</td>\n",
       "      <td>0.0</td>\n",
       "      <td>0.0</td>\n",
       "      <td>0.0</td>\n",
       "      <td>0.0</td>\n",
       "      <td>0.0</td>\n",
       "      <td>0.0</td>\n",
       "      <td>0.0</td>\n",
       "      <td>0.0</td>\n",
       "    </tr>\n",
       "  </tbody>\n",
       "</table>\n",
       "<p>5 rows × 245 columns</p>\n",
       "</div>"
      ],
      "text/plain": [
       "   firmid  wave cty        country   sic  management  operations  monitor  \\\n",
       "0       1  2004  us  United States  38.0    3.500000         3.0      3.6   \n",
       "1       1  2006  us  United States  38.0    3.166667         5.0      3.8   \n",
       "2       1  2010  us  United States  38.0    3.000000         2.0      2.8   \n",
       "3       2  2004  us  United States  28.0    4.666667         4.5      4.8   \n",
       "4       2  2004  us  United States  28.0    4.444445         4.5      4.6   \n",
       "\n",
       "   target    people  ...  aa_196  aa_197  aa_198  aa_199  aa_200  aa_201  \\\n",
       "0     3.6  3.500000  ...     0.0     0.0     0.0     0.0     0.0     0.0   \n",
       "1     2.6  2.500000  ...     0.0     0.0     0.0     0.0     0.0     0.0   \n",
       "2     3.6  3.000000  ...     0.0     0.0     0.0     0.0     0.0     0.0   \n",
       "3     4.4  4.833333  ...     0.0     0.0     0.0     0.0     0.0     0.0   \n",
       "4     4.4  4.333333  ...     0.0     0.0     0.0     0.0     0.0     0.0   \n",
       "\n",
       "   aa_202  aa_203  aa_204  aa_205  \n",
       "0     0.0     0.0     0.0     0.0  \n",
       "1     0.0     0.0     0.0     0.0  \n",
       "2     0.0     0.0     0.0     0.0  \n",
       "3     0.0     0.0     0.0     0.0  \n",
       "4     0.0     0.0     0.0     0.0  \n",
       "\n",
       "[5 rows x 245 columns]"
      ]
     },
     "execution_count": 8,
     "metadata": {},
     "output_type": "execute_result"
    }
   ],
   "source": [
    "df.head()"
   ]
  },
  {
   "cell_type": "markdown",
   "metadata": {},
   "source": [
    "<h3>1.1 Sample selection</h3>\n",
    "<p>Let's pick a country with different proportions than Mexico yet let's apply the same exclusions made by the author, that is, filtering out firms with fewer than 100 employees and more than 5000 employees. We'll use the same year, 2013 - we'll choose <b>Brazil</b>.</p>"
   ]
  },
  {
   "cell_type": "code",
   "execution_count": 9,
   "metadata": {},
   "outputs": [],
   "source": [
    "df = df.loc[\n",
    "    lambda x: (x[\"country\"] == \"Brazil\") &\n",
    "              (x[\"wave\"] == 2013) &\n",
    "              (x[\"emp_firm\"] >= 100) &\n",
    "              (x[\"emp_firm\"] <= 5000)\n",
    "]"
   ]
  },
  {
   "cell_type": "code",
   "execution_count": 10,
   "metadata": {},
   "outputs": [
    {
     "data": {
      "text/plain": [
       "count     506.000000\n",
       "mean      682.561265\n",
       "std       936.190571\n",
       "min       100.000000\n",
       "25%       181.000000\n",
       "50%       343.500000\n",
       "75%       717.250000\n",
       "max      5000.000000\n",
       "Name: emp_firm, dtype: float64"
      ]
     },
     "execution_count": 10,
     "metadata": {},
     "output_type": "execute_result"
    }
   ],
   "source": [
    "df[\"emp_firm\"].describe()"
   ]
  },
  {
   "cell_type": "markdown",
   "metadata": {},
   "source": [
    "<h2>2. Visualizing the distribution of management score</h2>"
   ]
  },
  {
   "cell_type": "code",
   "execution_count": 14,
   "metadata": {},
   "outputs": [
    {
     "data": {
      "text/html": [
       "<div>\n",
       "<style scoped>\n",
       "    .dataframe tbody tr th:only-of-type {\n",
       "        vertical-align: middle;\n",
       "    }\n",
       "\n",
       "    .dataframe tbody tr th {\n",
       "        vertical-align: top;\n",
       "    }\n",
       "\n",
       "    .dataframe thead th {\n",
       "        text-align: right;\n",
       "    }\n",
       "</style>\n",
       "<table border=\"1\" class=\"dataframe\">\n",
       "  <thead>\n",
       "    <tr style=\"text-align: right;\">\n",
       "      <th></th>\n",
       "      <th>management</th>\n",
       "    </tr>\n",
       "  </thead>\n",
       "  <tbody>\n",
       "    <tr>\n",
       "      <th>count</th>\n",
       "      <td>506.000000</td>\n",
       "    </tr>\n",
       "    <tr>\n",
       "      <th>mean</th>\n",
       "      <td>2.734848</td>\n",
       "    </tr>\n",
       "    <tr>\n",
       "      <th>std</th>\n",
       "      <td>0.588271</td>\n",
       "    </tr>\n",
       "    <tr>\n",
       "      <th>min</th>\n",
       "      <td>1.055556</td>\n",
       "    </tr>\n",
       "    <tr>\n",
       "      <th>25%</th>\n",
       "      <td>2.333333</td>\n",
       "    </tr>\n",
       "    <tr>\n",
       "      <th>50%</th>\n",
       "      <td>2.777778</td>\n",
       "    </tr>\n",
       "    <tr>\n",
       "      <th>75%</th>\n",
       "      <td>3.111111</td>\n",
       "    </tr>\n",
       "    <tr>\n",
       "      <th>max</th>\n",
       "      <td>4.500000</td>\n",
       "    </tr>\n",
       "  </tbody>\n",
       "</table>\n",
       "</div>"
      ],
      "text/plain": [
       "       management\n",
       "count  506.000000\n",
       "mean     2.734848\n",
       "std      0.588271\n",
       "min      1.055556\n",
       "25%      2.333333\n",
       "50%      2.777778\n",
       "75%      3.111111\n",
       "max      4.500000"
      ]
     },
     "execution_count": 14,
     "metadata": {},
     "output_type": "execute_result"
    }
   ],
   "source": [
    "df.loc[:, [\"management\"]].describe()"
   ]
  },
  {
   "cell_type": "code",
   "execution_count": 12,
   "metadata": {},
   "outputs": [
    {
     "data": {
      "image/png": "[encoded data removed]",
      "text/plain": [
       "<Figure size 640x480 with 1 Axes>"
      ]
     },
     "metadata": {},
     "output_type": "display_data"
    },
    {
     "data": {
      "text/plain": [
       "<ggplot: (126977780607)>"
      ]
     },
     "execution_count": 12,
     "metadata": {},
     "output_type": "execute_result"
    }
   ],
   "source": [
    "ggplot(df, aes(x=\"management\")) + geom_histogram(\n",
    "    aes(y=\"stat(count)/sum(stat(count))\"),\n",
    "    fill=color[0],\n",
    "    color=\"white\",\n",
    "    binwidth=0.25,\n",
    "    boundary=0,\n",
    "    closed=\"left\",\n",
    ") + labs(x=\"Management score\", y=\"Percent\") + scale_x_continuous(\n",
    "    expand=(0.01, 0.01), limits=(1, 5)\n",
    ") + scale_y_continuous(\n",
    "    expand=(0.00, 0.00),\n",
    "    limits=(0, 0.25),\n",
    "    breaks=seq(0, 0.26, by=0.05),\n",
    "    labels=percent_format()\n",
    ") + theme_bw()"
   ]
  },
  {
   "cell_type": "markdown",
   "metadata": {},
   "source": [
    "Some observations about the histogram:\n",
    "<ul>\n",
    "<li>The mean is <b>2.73</b>, while the median is <b>2.77</b>. The dataset resembles a normal distribution, with a small degree of skewness to the left.</li>\n",
    "<li>The standard deviation is <b>0.58</b>.</li>\n",
    "<li>The mode is in the bin between <b>2.5</b> and <b>2.75</b>.\n",
    "</ul>\n",
    "<h2>3. Visualizing the distribution of employment</h2>\n",
    "<p>We can start by looking at the summary statistics of Brazilian firms by their respective size, which is measured by the number of employees employed by each firm.</li>"
   ]
  },
  {
   "cell_type": "code",
   "execution_count": 15,
   "metadata": {},
   "outputs": [
    {
     "data": {
      "text/html": [
       "<div>\n",
       "<style scoped>\n",
       "    .dataframe tbody tr th:only-of-type {\n",
       "        vertical-align: middle;\n",
       "    }\n",
       "\n",
       "    .dataframe tbody tr th {\n",
       "        vertical-align: top;\n",
       "    }\n",
       "\n",
       "    .dataframe thead th {\n",
       "        text-align: right;\n",
       "    }\n",
       "</style>\n",
       "<table border=\"1\" class=\"dataframe\">\n",
       "  <thead>\n",
       "    <tr style=\"text-align: right;\">\n",
       "      <th></th>\n",
       "      <th>emp_firm</th>\n",
       "    </tr>\n",
       "  </thead>\n",
       "  <tbody>\n",
       "    <tr>\n",
       "      <th>count</th>\n",
       "      <td>506.000000</td>\n",
       "    </tr>\n",
       "    <tr>\n",
       "      <th>mean</th>\n",
       "      <td>682.561265</td>\n",
       "    </tr>\n",
       "    <tr>\n",
       "      <th>std</th>\n",
       "      <td>936.190571</td>\n",
       "    </tr>\n",
       "    <tr>\n",
       "      <th>min</th>\n",
       "      <td>100.000000</td>\n",
       "    </tr>\n",
       "    <tr>\n",
       "      <th>25%</th>\n",
       "      <td>181.000000</td>\n",
       "    </tr>\n",
       "    <tr>\n",
       "      <th>50%</th>\n",
       "      <td>343.500000</td>\n",
       "    </tr>\n",
       "    <tr>\n",
       "      <th>75%</th>\n",
       "      <td>717.250000</td>\n",
       "    </tr>\n",
       "    <tr>\n",
       "      <th>max</th>\n",
       "      <td>5000.000000</td>\n",
       "    </tr>\n",
       "  </tbody>\n",
       "</table>\n",
       "</div>"
      ],
      "text/plain": [
       "          emp_firm\n",
       "count   506.000000\n",
       "mean    682.561265\n",
       "std     936.190571\n",
       "min     100.000000\n",
       "25%     181.000000\n",
       "50%     343.500000\n",
       "75%     717.250000\n",
       "max    5000.000000"
      ]
     },
     "execution_count": 15,
     "metadata": {},
     "output_type": "execute_result"
    }
   ],
   "source": [
    "df.loc[:, [\"emp_firm\"]].describe()"
   ]
  },
  {
   "cell_type": "markdown",
   "metadata": {},
   "source": [
    "<p>Observations:</p>\n",
    "<ul>\n",
    "<li>The mean is <b>682</b> and the median, <b>343</b>.</li>\n",
    "<li>The mean is far higher than the median and therefore we can expect a significant degree of <b>skewness</b> to the right.</li>\n",
    "<li>The standard deviation is <b>936</b>.\n",
    "</ul>"
   ]
  },
  {
   "cell_type": "code",
   "execution_count": 16,
   "metadata": {},
   "outputs": [
    {
     "data": {
      "image/png": "[encoded data removed]",
      "text/plain": [
       "<Figure size 640x480 with 1 Axes>"
      ]
     },
     "metadata": {},
     "output_type": "display_data"
    },
    {
     "data": {
      "text/plain": [
       "<ggplot: (126980015210)>"
      ]
     },
     "execution_count": 16,
     "metadata": {},
     "output_type": "execute_result"
    }
   ],
   "source": [
    "ggplot(df, aes(x=\"emp_firm\", y=\"stat(count)/sum(stat(count))\")) + geom_histogram(\n",
    "    fill=color[0], color=\"white\", binwidth=200, boundary=0, closed=\"left\"\n",
    ") + labs(x=\"Firm size (employment)\", y=\"Percent\") + scale_x_continuous(\n",
    "    expand=(0.01, 0.01), limits=(0, 5000), breaks=seq(0, 5001, by=1000)\n",
    ") + scale_y_continuous(\n",
    "    expand=(0.00, 0.00),\n",
    "    limits=(0, 0.3),\n",
    "    breaks=seq(0, 0.5, by=0.05),\n",
    "    labels=percent_format(),\n",
    ") + theme_bw()"
   ]
  },
  {
   "cell_type": "markdown",
   "metadata": {},
   "source": [
    "The histogram shows a high concentration of smaller firms in Brazil. More specifically, more than 25% of all observations registered firms with less than 200 employees. Interestingly enough, there were no observations in the 200-400 bin.\n",
    "\n",
    "To make this distribution more symmetric, we can plot a histogram formatted by the lognormal distribution."
   ]
  },
  {
   "cell_type": "code",
   "execution_count": 17,
   "metadata": {},
   "outputs": [
    {
     "data": {
      "text/plain": [
       "count    506.000000\n",
       "mean       5.974693\n",
       "std        0.965696\n",
       "min        4.605170\n",
       "25%        5.198452\n",
       "50%        5.839186\n",
       "75%        6.575327\n",
       "max        8.517193\n",
       "Name: lnemp_firm, dtype: float64"
      ]
     },
     "execution_count": 17,
     "metadata": {},
     "output_type": "execute_result"
    }
   ],
   "source": [
    "df[\"lnemp_firm\"] = np.log(df[\"emp_firm\"])\n",
    "df[\"lnemp_firm\"].describe()"
   ]
  },
  {
   "cell_type": "code",
   "execution_count": 18,
   "metadata": {},
   "outputs": [
    {
     "data": {
      "image/png": "[encoded data removed]",
      "text/plain": [
       "<Figure size 640x480 with 1 Axes>"
      ]
     },
     "metadata": {},
     "output_type": "display_data"
    },
    {
     "data": {
      "text/plain": [
       "<ggplot: (126979924713)>"
      ]
     },
     "execution_count": 18,
     "metadata": {},
     "output_type": "execute_result"
    }
   ],
   "source": [
    "ggplot(df, aes(x=\"lnemp_firm\"))  + geom_histogram(\n",
    "    aes(y=\"stat(count)/sum(stat(count))\"),\n",
    "    fill=color[0], \n",
    "    color=\"white\", \n",
    "    binwidth=0.25, \n",
    "    boundary=0, \n",
    "    closed=\"left\"\n",
    ") + labs(x=\"Firm size (ln(employment))\", y=\"Percent\") + scale_x_continuous(\n",
    "    expand=(0.01, 0.01), limits=(4, 9) \n",
    ") + scale_y_continuous(\n",
    "    expand=(0.00, 0.00),\n",
    "    limits=(0, 0.2),\n",
    "    breaks=seq(0, 0.2, by=0.04),\n",
    "    labels=percent_format(),\n",
    ") + theme_bw()"
   ]
  },
  {
   "cell_type": "markdown",
   "metadata": {},
   "source": [
    "<p>We notice that the distribution is not as skewed as before, yet it still presents a longer tail to the right. The distribution, nonetheless, is much more symmetrical. In conclusion, the distribution of employment is skewed; while closer to lognormal than normal, the latter is still not the best approach.</p>\n",
    "<h2>4. Conditional probabilities | Binning firm size and visualize the quality of specific management practices accordingly</h2>\n",
    "<p>As a reminder, <b>conditional probability</b> of an event means the probability of an event if another event (the conditioning event) happens. Because both the management score and employment are quantitative variables with many values, they are not adequate for an investigation conditional probabilities.</p>\n",
    "<p>To overcome this issue, we will create a <b>qualitative</b> variable by creating three bins of employment: <b>small, medium, and large</b>. Let's follow the book's example and bind the bins by three intervals: 100-199, 200-999, and 1000+.\n"
   ]
  },
  {
   "cell_type": "code",
   "execution_count": 19,
   "metadata": {},
   "outputs": [],
   "source": [
    "df[\"emp3bins\"] = np.where(df[\"emp_firm\"] < 200, 1, np.nan)\n",
    "df[\"emp3bins\"] = np.where((df[\"emp_firm\"] >= 200) & (df[\"emp_firm\"] < 1000), 2, df[\"emp3bins\"])\n",
    "df[\"emp3bins\"] = np.where(df[\"emp_firm\"] >= 1000, 3, df[\"emp3bins\"])"
   ]
  },
  {
   "cell_type": "code",
   "execution_count": 20,
   "metadata": {},
   "outputs": [
    {
     "data": {
      "text/html": [
       "<div>\n",
       "<style scoped>\n",
       "    .dataframe tbody tr th:only-of-type {\n",
       "        vertical-align: middle;\n",
       "    }\n",
       "\n",
       "    .dataframe tbody tr th {\n",
       "        vertical-align: top;\n",
       "    }\n",
       "\n",
       "    .dataframe thead th {\n",
       "        text-align: right;\n",
       "    }\n",
       "</style>\n",
       "<table border=\"1\" class=\"dataframe\">\n",
       "  <thead>\n",
       "    <tr style=\"text-align: right;\">\n",
       "      <th></th>\n",
       "      <th>firmid</th>\n",
       "      <th>wave</th>\n",
       "      <th>cty</th>\n",
       "      <th>country</th>\n",
       "      <th>sic</th>\n",
       "      <th>management</th>\n",
       "      <th>operations</th>\n",
       "      <th>monitor</th>\n",
       "      <th>target</th>\n",
       "      <th>people</th>\n",
       "      <th>...</th>\n",
       "      <th>aa_198</th>\n",
       "      <th>aa_199</th>\n",
       "      <th>aa_200</th>\n",
       "      <th>aa_201</th>\n",
       "      <th>aa_202</th>\n",
       "      <th>aa_203</th>\n",
       "      <th>aa_204</th>\n",
       "      <th>aa_205</th>\n",
       "      <th>lnemp_firm</th>\n",
       "      <th>emp3bins</th>\n",
       "    </tr>\n",
       "  </thead>\n",
       "  <tbody>\n",
       "    <tr>\n",
       "      <th>1760</th>\n",
       "      <td>1290</td>\n",
       "      <td>2013</td>\n",
       "      <td>br</td>\n",
       "      <td>Brazil</td>\n",
       "      <td>28.0</td>\n",
       "      <td>3.277778</td>\n",
       "      <td>3.0</td>\n",
       "      <td>3.8</td>\n",
       "      <td>3.0</td>\n",
       "      <td>3.166667</td>\n",
       "      <td>...</td>\n",
       "      <td>0.0</td>\n",
       "      <td>0.0</td>\n",
       "      <td>0.0</td>\n",
       "      <td>0.0</td>\n",
       "      <td>0.0</td>\n",
       "      <td>0.0</td>\n",
       "      <td>0.0</td>\n",
       "      <td>0.0</td>\n",
       "      <td>6.877296</td>\n",
       "      <td>2.0</td>\n",
       "    </tr>\n",
       "    <tr>\n",
       "      <th>1763</th>\n",
       "      <td>1292</td>\n",
       "      <td>2013</td>\n",
       "      <td>br</td>\n",
       "      <td>Brazil</td>\n",
       "      <td>33.0</td>\n",
       "      <td>2.555556</td>\n",
       "      <td>2.5</td>\n",
       "      <td>3.2</td>\n",
       "      <td>2.8</td>\n",
       "      <td>1.833333</td>\n",
       "      <td>...</td>\n",
       "      <td>0.0</td>\n",
       "      <td>0.0</td>\n",
       "      <td>0.0</td>\n",
       "      <td>0.0</td>\n",
       "      <td>0.0</td>\n",
       "      <td>0.0</td>\n",
       "      <td>0.0</td>\n",
       "      <td>0.0</td>\n",
       "      <td>6.620073</td>\n",
       "      <td>2.0</td>\n",
       "    </tr>\n",
       "    <tr>\n",
       "      <th>1765</th>\n",
       "      <td>1293</td>\n",
       "      <td>2013</td>\n",
       "      <td>br</td>\n",
       "      <td>Brazil</td>\n",
       "      <td>33.0</td>\n",
       "      <td>2.666667</td>\n",
       "      <td>3.0</td>\n",
       "      <td>2.8</td>\n",
       "      <td>2.6</td>\n",
       "      <td>2.500000</td>\n",
       "      <td>...</td>\n",
       "      <td>0.0</td>\n",
       "      <td>0.0</td>\n",
       "      <td>0.0</td>\n",
       "      <td>0.0</td>\n",
       "      <td>0.0</td>\n",
       "      <td>0.0</td>\n",
       "      <td>0.0</td>\n",
       "      <td>0.0</td>\n",
       "      <td>6.040255</td>\n",
       "      <td>2.0</td>\n",
       "    </tr>\n",
       "    <tr>\n",
       "      <th>1766</th>\n",
       "      <td>1294</td>\n",
       "      <td>2013</td>\n",
       "      <td>br</td>\n",
       "      <td>Brazil</td>\n",
       "      <td>35.0</td>\n",
       "      <td>3.222222</td>\n",
       "      <td>4.0</td>\n",
       "      <td>3.8</td>\n",
       "      <td>2.8</td>\n",
       "      <td>2.833333</td>\n",
       "      <td>...</td>\n",
       "      <td>0.0</td>\n",
       "      <td>0.0</td>\n",
       "      <td>0.0</td>\n",
       "      <td>0.0</td>\n",
       "      <td>0.0</td>\n",
       "      <td>0.0</td>\n",
       "      <td>0.0</td>\n",
       "      <td>0.0</td>\n",
       "      <td>7.313220</td>\n",
       "      <td>3.0</td>\n",
       "    </tr>\n",
       "    <tr>\n",
       "      <th>1770</th>\n",
       "      <td>1297</td>\n",
       "      <td>2013</td>\n",
       "      <td>br</td>\n",
       "      <td>Brazil</td>\n",
       "      <td>31.0</td>\n",
       "      <td>3.222222</td>\n",
       "      <td>3.0</td>\n",
       "      <td>3.4</td>\n",
       "      <td>3.0</td>\n",
       "      <td>3.333333</td>\n",
       "      <td>...</td>\n",
       "      <td>0.0</td>\n",
       "      <td>0.0</td>\n",
       "      <td>0.0</td>\n",
       "      <td>0.0</td>\n",
       "      <td>0.0</td>\n",
       "      <td>0.0</td>\n",
       "      <td>0.0</td>\n",
       "      <td>0.0</td>\n",
       "      <td>4.605170</td>\n",
       "      <td>1.0</td>\n",
       "    </tr>\n",
       "  </tbody>\n",
       "</table>\n",
       "<p>5 rows × 247 columns</p>\n",
       "</div>"
      ],
      "text/plain": [
       "      firmid  wave cty country   sic  management  operations  monitor  target  \\\n",
       "1760    1290  2013  br  Brazil  28.0    3.277778         3.0      3.8     3.0   \n",
       "1763    1292  2013  br  Brazil  33.0    2.555556         2.5      3.2     2.8   \n",
       "1765    1293  2013  br  Brazil  33.0    2.666667         3.0      2.8     2.6   \n",
       "1766    1294  2013  br  Brazil  35.0    3.222222         4.0      3.8     2.8   \n",
       "1770    1297  2013  br  Brazil  31.0    3.222222         3.0      3.4     3.0   \n",
       "\n",
       "        people  ...  aa_198  aa_199  aa_200  aa_201  aa_202  aa_203  aa_204  \\\n",
       "1760  3.166667  ...     0.0     0.0     0.0     0.0     0.0     0.0     0.0   \n",
       "1763  1.833333  ...     0.0     0.0     0.0     0.0     0.0     0.0     0.0   \n",
       "1765  2.500000  ...     0.0     0.0     0.0     0.0     0.0     0.0     0.0   \n",
       "1766  2.833333  ...     0.0     0.0     0.0     0.0     0.0     0.0     0.0   \n",
       "1770  3.333333  ...     0.0     0.0     0.0     0.0     0.0     0.0     0.0   \n",
       "\n",
       "      aa_205  lnemp_firm  emp3bins  \n",
       "1760     0.0    6.877296       2.0  \n",
       "1763     0.0    6.620073       2.0  \n",
       "1765     0.0    6.040255       2.0  \n",
       "1766     0.0    7.313220       3.0  \n",
       "1770     0.0    4.605170       1.0  \n",
       "\n",
       "[5 rows x 247 columns]"
      ]
     },
     "execution_count": 20,
     "metadata": {},
     "output_type": "execute_result"
    }
   ],
   "source": [
    "df.head()"
   ]
  },
  {
   "cell_type": "code",
   "execution_count": 21,
   "metadata": {},
   "outputs": [
    {
     "data": {
      "text/plain": [
       "count    506.000000\n",
       "mean       1.913043\n",
       "std        0.657288\n",
       "min        1.000000\n",
       "25%        1.000000\n",
       "50%        2.000000\n",
       "75%        2.000000\n",
       "max        3.000000\n",
       "Name: emp3bins, dtype: float64"
      ]
     },
     "execution_count": 21,
     "metadata": {},
     "output_type": "execute_result"
    }
   ],
   "source": [
    "df[\"emp3bins\"].describe()"
   ]
  },
  {
   "cell_type": "markdown",
   "metadata": {},
   "source": [
    "<p>By now, we can make a few comparisons with the book case study, which used Mexico as an example. We can tell that Brazil and Mexico display similar statistics regarding firm sizes.</p>\n",
    "<ul>\n",
    "<li>The mean for Brazil, <b>1.91</b> is close to that of Mexico, <b>2</b>. We can expect that the average firm in both countries is medium-sized.</li>\n",
    "<li>The standard deviation is equally similar: <b>0.65</b> for Brazil, <b>0.63</b> for Mexico.</li>\n",
    "</ul>\n",
    "<h3>4.1 Plotting stacked charts - Describing patterns of association</h3>\n",
    "<p>We will use stacked charts to visualize conditional probabilities. Because we have 15 conditional probabilities for each management score (that is, the probability of each of the 5 values of y by each of the three values of x), a stacked bar chart will be of great assistance. Let's create the DataFrames for our job.</p>\n",
    "<h4>4.1.1 Stacked bar chart | Figure 4.3 (a) Lean management</h4>"
   ]
  },
  {
   "cell_type": "code",
   "execution_count": 22,
   "metadata": {},
   "outputs": [],
   "source": [
    "df1 = pd.DataFrame(\n",
    "    df.loc[:, [\"emp3bins\", \"lean1\"]].groupby([\"emp3bins\", \"lean1\"]).agg(\"size\")\n",
    ").reset_index()\n",
    "\n",
    "df1.columns = [\"emp3bins\", \"lean1\", \"Count\"]\n",
    "\n",
    "group_counts = df1.groupby(\"emp3bins\").agg(\"sum\")[\"Count\"]\n",
    "\n",
    "df1.loc[df1[\"emp3bins\"] == 1, \"Percent\"] = round(df1.loc[df1[\"emp3bins\"] == 1, \"Count\"]/group_counts[1],5)\n",
    "df1.loc[df1[\"emp3bins\"] == 2, \"Percent\"] = round(df1.loc[df1[\"emp3bins\"] == 2, \"Count\"]/group_counts[2],5)\n",
    "df1.loc[df1[\"emp3bins\"] == 3, \"Percent\"] = round(df1.loc[df1[\"emp3bins\"] == 3, \"Count\"]/group_counts[3],5)\n",
    "\n",
    "df1 = df1.assign(\n",
    "    lean1=pd.Categorical(\n",
    "        df1[\"lean1\"], categories=sorted(set(df[\"lean1\"]), reverse=True)\n",
    "    )\n",
    ")"
   ]
  },
  {
   "cell_type": "code",
   "execution_count": 23,
   "metadata": {},
   "outputs": [
    {
     "data": {
      "text/html": [
       "<div>\n",
       "<style scoped>\n",
       "    .dataframe tbody tr th:only-of-type {\n",
       "        vertical-align: middle;\n",
       "    }\n",
       "\n",
       "    .dataframe tbody tr th {\n",
       "        vertical-align: top;\n",
       "    }\n",
       "\n",
       "    .dataframe thead th {\n",
       "        text-align: right;\n",
       "    }\n",
       "</style>\n",
       "<table border=\"1\" class=\"dataframe\">\n",
       "  <thead>\n",
       "    <tr style=\"text-align: right;\">\n",
       "      <th></th>\n",
       "      <th>emp3bins</th>\n",
       "      <th>lean1</th>\n",
       "      <th>Count</th>\n",
       "      <th>Percent</th>\n",
       "    </tr>\n",
       "  </thead>\n",
       "  <tbody>\n",
       "    <tr>\n",
       "      <th>0</th>\n",
       "      <td>1.0</td>\n",
       "      <td>1.0</td>\n",
       "      <td>27</td>\n",
       "      <td>0.20301</td>\n",
       "    </tr>\n",
       "    <tr>\n",
       "      <th>1</th>\n",
       "      <td>1.0</td>\n",
       "      <td>2.0</td>\n",
       "      <td>59</td>\n",
       "      <td>0.44361</td>\n",
       "    </tr>\n",
       "    <tr>\n",
       "      <th>2</th>\n",
       "      <td>1.0</td>\n",
       "      <td>3.0</td>\n",
       "      <td>37</td>\n",
       "      <td>0.27820</td>\n",
       "    </tr>\n",
       "    <tr>\n",
       "      <th>3</th>\n",
       "      <td>1.0</td>\n",
       "      <td>4.0</td>\n",
       "      <td>9</td>\n",
       "      <td>0.06767</td>\n",
       "    </tr>\n",
       "    <tr>\n",
       "      <th>4</th>\n",
       "      <td>1.0</td>\n",
       "      <td>5.0</td>\n",
       "      <td>1</td>\n",
       "      <td>0.00752</td>\n",
       "    </tr>\n",
       "    <tr>\n",
       "      <th>5</th>\n",
       "      <td>2.0</td>\n",
       "      <td>1.0</td>\n",
       "      <td>29</td>\n",
       "      <td>0.10211</td>\n",
       "    </tr>\n",
       "    <tr>\n",
       "      <th>6</th>\n",
       "      <td>2.0</td>\n",
       "      <td>2.0</td>\n",
       "      <td>108</td>\n",
       "      <td>0.38028</td>\n",
       "    </tr>\n",
       "    <tr>\n",
       "      <th>7</th>\n",
       "      <td>2.0</td>\n",
       "      <td>3.0</td>\n",
       "      <td>103</td>\n",
       "      <td>0.36268</td>\n",
       "    </tr>\n",
       "    <tr>\n",
       "      <th>8</th>\n",
       "      <td>2.0</td>\n",
       "      <td>4.0</td>\n",
       "      <td>34</td>\n",
       "      <td>0.11972</td>\n",
       "    </tr>\n",
       "    <tr>\n",
       "      <th>9</th>\n",
       "      <td>2.0</td>\n",
       "      <td>5.0</td>\n",
       "      <td>10</td>\n",
       "      <td>0.03521</td>\n",
       "    </tr>\n",
       "    <tr>\n",
       "      <th>10</th>\n",
       "      <td>3.0</td>\n",
       "      <td>1.0</td>\n",
       "      <td>5</td>\n",
       "      <td>0.05618</td>\n",
       "    </tr>\n",
       "    <tr>\n",
       "      <th>11</th>\n",
       "      <td>3.0</td>\n",
       "      <td>2.0</td>\n",
       "      <td>15</td>\n",
       "      <td>0.16854</td>\n",
       "    </tr>\n",
       "    <tr>\n",
       "      <th>12</th>\n",
       "      <td>3.0</td>\n",
       "      <td>3.0</td>\n",
       "      <td>33</td>\n",
       "      <td>0.37079</td>\n",
       "    </tr>\n",
       "    <tr>\n",
       "      <th>13</th>\n",
       "      <td>3.0</td>\n",
       "      <td>4.0</td>\n",
       "      <td>24</td>\n",
       "      <td>0.26966</td>\n",
       "    </tr>\n",
       "    <tr>\n",
       "      <th>14</th>\n",
       "      <td>3.0</td>\n",
       "      <td>5.0</td>\n",
       "      <td>12</td>\n",
       "      <td>0.13483</td>\n",
       "    </tr>\n",
       "  </tbody>\n",
       "</table>\n",
       "</div>"
      ],
      "text/plain": [
       "    emp3bins lean1  Count  Percent\n",
       "0        1.0   1.0     27  0.20301\n",
       "1        1.0   2.0     59  0.44361\n",
       "2        1.0   3.0     37  0.27820\n",
       "3        1.0   4.0      9  0.06767\n",
       "4        1.0   5.0      1  0.00752\n",
       "5        2.0   1.0     29  0.10211\n",
       "6        2.0   2.0    108  0.38028\n",
       "7        2.0   3.0    103  0.36268\n",
       "8        2.0   4.0     34  0.11972\n",
       "9        2.0   5.0     10  0.03521\n",
       "10       3.0   1.0      5  0.05618\n",
       "11       3.0   2.0     15  0.16854\n",
       "12       3.0   3.0     33  0.37079\n",
       "13       3.0   4.0     24  0.26966\n",
       "14       3.0   5.0     12  0.13483"
      ]
     },
     "execution_count": 23,
     "metadata": {},
     "output_type": "execute_result"
    }
   ],
   "source": [
    "df1"
   ]
  },
  {
   "cell_type": "code",
   "execution_count": 24,
   "metadata": {},
   "outputs": [
    {
     "data": {
      "image/png": "[encoded data removed]",
      "text/plain": [
       "<Figure size 640x480 with 1 Axes>"
      ]
     },
     "metadata": {},
     "output_type": "display_data"
    },
    {
     "data": {
      "text/plain": [
       "<ggplot: (126979905200)>"
      ]
     },
     "execution_count": 24,
     "metadata": {},
     "output_type": "execute_result"
    }
   ],
   "source": [
    "ggplot(df1, aes(x=\"emp3bins\", y=\"Percent\", fill=\"lean1\")) + geom_bar(\n",
    "    stat=\"identity\", position=\"fill\", width=0.6, color=\"white\", size=0.5, alpha=0.8\n",
    ") + scale_y_continuous( \n",
    "    expand=(0, 0), limits=(0, 1), breaks=seq(0, 1.1, by=0.2), labels=percent_format()\n",
    ") + labs(\n",
    "    x=\"Firm size (employment), 3 bins\", y=\"Percent\"\n",
    ") + theme_bw() + theme(\n",
    "    legend_position=\"right\"\n",
    ") + scale_fill_manual(\n",
    "    values=(color[2], color[0], color[4], color[1], color[3]), name=\" \"\n",
    ") + scale_x_discrete(limits=[1, 2, 3],\n",
    "                     labels=[\"Small\", \"Medium\", \"Large\"])"
   ]
  },
  {
   "cell_type": "code",
   "execution_count": null,
   "metadata": {},
   "outputs": [],
   "source": []
  }
 ],
 "metadata": {
  "kernelspec": {
   "display_name": "data_analysis",
   "language": "python",
   "name": "python3"
  },
  "language_info": {
   "codemirror_mode": {
    "name": "ipython",
    "version": 3
   },
   "file_extension": ".py",
   "mimetype": "text/x-python",
   "name": "python",
   "nbconvert_exporter": "python",
   "pygments_lexer": "ipython3",
   "version": "3.10.3"
  }
 },
 "nbformat": 4,
 "nbformat_minor": 2
}
