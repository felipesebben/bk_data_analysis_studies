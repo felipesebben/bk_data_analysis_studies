{
 "cells": [
  {
   "cell_type": "markdown",
   "metadata": {},
   "source": [
    "<h1>Chapter 4 | Data Exercise #2 | <code>wms-management-survey</code> | Comparison and correlation</h1>\n",
    "<h2>Introduction:</h2>\n",
    "<p>In this notebook, you will find my notes and code for Chapter 5's <b>exercise 2</b> of the book <a href=\"https://gabors-data-analysis.com/\">Data Analysis for Business, Economics, and Policy</a>, by Gábor Békés and Gábor Kézdi. The question was: \n",
    "<p>2. Using the <code>wms-management-survey</code> dataset:</p>\n",
    "<p>Assignments:</p>\n",
    "<ul>\n",
    "    <li>Pick a country different from Mexico.</li>\n",
    "    <li>Reproduce all figures and tables of our case study.</li>\n",
    "    <li>Compare your results to what we found for Mexico.</li>\n",
    "</ul>\n",
    "<h2><b>1.</b> Load the data</h2>"
   ]
  },
  {
   "cell_type": "code",
   "execution_count": 1,
   "metadata": {},
   "outputs": [],
   "source": [
    "import os\n",
    "import sys\n",
    "import warnings\n",
    "import pandas as pd\n",
    "import matplotlib.pyplot as plt\n",
    "import numpy as np\n",
    "from plotnine import *\n",
    "from mizani.formatters import percent_format\n",
    "\n",
    "warnings.filterwarnings(\"ignore\")\n",
    "%matplotlib inline"
   ]
  },
  {
   "cell_type": "code",
   "execution_count": 2,
   "metadata": {},
   "outputs": [],
   "source": [
    "# Increase number of returned rows in pandas\n",
    "pd.set_option(\"display.max_rows\", 500)"
   ]
  },
  {
   "cell_type": "code",
   "execution_count": 3,
   "metadata": {},
   "outputs": [],
   "source": [
    "# Current script folder\n",
    "current_path = os.getcwd()\n",
    "dirname = current_path.split(\"da_data_exercises\")[0]\n",
    "\n",
    "# Get location folders\n",
    "data_in = f\"{dirname}da_data_repo/wms-management-survey/clean/\"\n",
    "data_out = f\"{dirname}da_data_exercises/ch04-comparison_correlation/02-wms_management_ex1/data/clean/\"\n",
    "output = f\"{dirname}da_data_exercises/ch04-comparison_correlation/02-wms_management_ex1/\"\n",
    "func = f\"{dirname}da_case_studies/ch00-tech_prep/\"\n",
    "sys.path.append(func)"
   ]
  },
  {
   "cell_type": "code",
   "execution_count": 4,
   "metadata": {},
   "outputs": [],
   "source": [
    "from py_helper_functions import *"
   ]
  },
  {
   "cell_type": "code",
   "execution_count": 5,
   "metadata": {},
   "outputs": [],
   "source": [
    "df = pd.read_csv(f\"{data_in}wms_da_textbook.csv\")"
   ]
  },
  {
   "cell_type": "code",
   "execution_count": 6,
   "metadata": {},
   "outputs": [
    {
     "data": {
      "text/plain": [
       "array(['United States', 'India', 'New Zealand', 'Australia', 'Argentina',\n",
       "       'Brazil', 'Canada', 'Chile', 'China', 'Germany', 'Spain', 'France',\n",
       "       'Northern Ireland', 'Great Britain', 'Greece',\n",
       "       'Republic of Ireland', 'Italy', 'Japan', 'Mexico', 'Poland',\n",
       "       'Portugal', 'Sweden', 'Singapore', 'Turkey'], dtype=object)"
      ]
     },
     "execution_count": 6,
     "metadata": {},
     "output_type": "execute_result"
    }
   ],
   "source": [
    "df[\"country\"].unique()"
   ]
  },
  {
   "cell_type": "code",
   "execution_count": 7,
   "metadata": {},
   "outputs": [
    {
     "data": {
      "text/html": [
       "<div>\n",
       "<style scoped>\n",
       "    .dataframe tbody tr th:only-of-type {\n",
       "        vertical-align: middle;\n",
       "    }\n",
       "\n",
       "    .dataframe tbody tr th {\n",
       "        vertical-align: top;\n",
       "    }\n",
       "\n",
       "    .dataframe thead th {\n",
       "        text-align: right;\n",
       "    }\n",
       "</style>\n",
       "<table border=\"1\" class=\"dataframe\">\n",
       "  <thead>\n",
       "    <tr style=\"text-align: right;\">\n",
       "      <th></th>\n",
       "      <th>firmid</th>\n",
       "      <th>wave</th>\n",
       "      <th>cty</th>\n",
       "      <th>country</th>\n",
       "      <th>sic</th>\n",
       "      <th>management</th>\n",
       "      <th>operations</th>\n",
       "      <th>monitor</th>\n",
       "      <th>target</th>\n",
       "      <th>people</th>\n",
       "      <th>...</th>\n",
       "      <th>aa_196</th>\n",
       "      <th>aa_197</th>\n",
       "      <th>aa_198</th>\n",
       "      <th>aa_199</th>\n",
       "      <th>aa_200</th>\n",
       "      <th>aa_201</th>\n",
       "      <th>aa_202</th>\n",
       "      <th>aa_203</th>\n",
       "      <th>aa_204</th>\n",
       "      <th>aa_205</th>\n",
       "    </tr>\n",
       "  </thead>\n",
       "  <tbody>\n",
       "    <tr>\n",
       "      <th>0</th>\n",
       "      <td>1</td>\n",
       "      <td>2004</td>\n",
       "      <td>us</td>\n",
       "      <td>United States</td>\n",
       "      <td>38.0</td>\n",
       "      <td>3.500000</td>\n",
       "      <td>3.0</td>\n",
       "      <td>3.6</td>\n",
       "      <td>3.6</td>\n",
       "      <td>3.500000</td>\n",
       "      <td>...</td>\n",
       "      <td>0.0</td>\n",
       "      <td>0.0</td>\n",
       "      <td>0.0</td>\n",
       "      <td>0.0</td>\n",
       "      <td>0.0</td>\n",
       "      <td>0.0</td>\n",
       "      <td>0.0</td>\n",
       "      <td>0.0</td>\n",
       "      <td>0.0</td>\n",
       "      <td>0.0</td>\n",
       "    </tr>\n",
       "    <tr>\n",
       "      <th>1</th>\n",
       "      <td>1</td>\n",
       "      <td>2006</td>\n",
       "      <td>us</td>\n",
       "      <td>United States</td>\n",
       "      <td>38.0</td>\n",
       "      <td>3.166667</td>\n",
       "      <td>5.0</td>\n",
       "      <td>3.8</td>\n",
       "      <td>2.6</td>\n",
       "      <td>2.500000</td>\n",
       "      <td>...</td>\n",
       "      <td>0.0</td>\n",
       "      <td>0.0</td>\n",
       "      <td>0.0</td>\n",
       "      <td>0.0</td>\n",
       "      <td>0.0</td>\n",
       "      <td>0.0</td>\n",
       "      <td>0.0</td>\n",
       "      <td>0.0</td>\n",
       "      <td>0.0</td>\n",
       "      <td>0.0</td>\n",
       "    </tr>\n",
       "    <tr>\n",
       "      <th>2</th>\n",
       "      <td>1</td>\n",
       "      <td>2010</td>\n",
       "      <td>us</td>\n",
       "      <td>United States</td>\n",
       "      <td>38.0</td>\n",
       "      <td>3.000000</td>\n",
       "      <td>2.0</td>\n",
       "      <td>2.8</td>\n",
       "      <td>3.6</td>\n",
       "      <td>3.000000</td>\n",
       "      <td>...</td>\n",
       "      <td>0.0</td>\n",
       "      <td>0.0</td>\n",
       "      <td>0.0</td>\n",
       "      <td>0.0</td>\n",
       "      <td>0.0</td>\n",
       "      <td>0.0</td>\n",
       "      <td>0.0</td>\n",
       "      <td>0.0</td>\n",
       "      <td>0.0</td>\n",
       "      <td>0.0</td>\n",
       "    </tr>\n",
       "    <tr>\n",
       "      <th>3</th>\n",
       "      <td>2</td>\n",
       "      <td>2004</td>\n",
       "      <td>us</td>\n",
       "      <td>United States</td>\n",
       "      <td>28.0</td>\n",
       "      <td>4.666667</td>\n",
       "      <td>4.5</td>\n",
       "      <td>4.8</td>\n",
       "      <td>4.4</td>\n",
       "      <td>4.833333</td>\n",
       "      <td>...</td>\n",
       "      <td>0.0</td>\n",
       "      <td>0.0</td>\n",
       "      <td>0.0</td>\n",
       "      <td>0.0</td>\n",
       "      <td>0.0</td>\n",
       "      <td>0.0</td>\n",
       "      <td>0.0</td>\n",
       "      <td>0.0</td>\n",
       "      <td>0.0</td>\n",
       "      <td>0.0</td>\n",
       "    </tr>\n",
       "    <tr>\n",
       "      <th>4</th>\n",
       "      <td>2</td>\n",
       "      <td>2004</td>\n",
       "      <td>us</td>\n",
       "      <td>United States</td>\n",
       "      <td>28.0</td>\n",
       "      <td>4.444445</td>\n",
       "      <td>4.5</td>\n",
       "      <td>4.6</td>\n",
       "      <td>4.4</td>\n",
       "      <td>4.333333</td>\n",
       "      <td>...</td>\n",
       "      <td>0.0</td>\n",
       "      <td>0.0</td>\n",
       "      <td>0.0</td>\n",
       "      <td>0.0</td>\n",
       "      <td>0.0</td>\n",
       "      <td>0.0</td>\n",
       "      <td>0.0</td>\n",
       "      <td>0.0</td>\n",
       "      <td>0.0</td>\n",
       "      <td>0.0</td>\n",
       "    </tr>\n",
       "  </tbody>\n",
       "</table>\n",
       "<p>5 rows × 245 columns</p>\n",
       "</div>"
      ],
      "text/plain": [
       "   firmid  wave cty        country   sic  management  operations  monitor  \\\n",
       "0       1  2004  us  United States  38.0    3.500000         3.0      3.6   \n",
       "1       1  2006  us  United States  38.0    3.166667         5.0      3.8   \n",
       "2       1  2010  us  United States  38.0    3.000000         2.0      2.8   \n",
       "3       2  2004  us  United States  28.0    4.666667         4.5      4.8   \n",
       "4       2  2004  us  United States  28.0    4.444445         4.5      4.6   \n",
       "\n",
       "   target    people  ...  aa_196  aa_197  aa_198  aa_199  aa_200  aa_201  \\\n",
       "0     3.6  3.500000  ...     0.0     0.0     0.0     0.0     0.0     0.0   \n",
       "1     2.6  2.500000  ...     0.0     0.0     0.0     0.0     0.0     0.0   \n",
       "2     3.6  3.000000  ...     0.0     0.0     0.0     0.0     0.0     0.0   \n",
       "3     4.4  4.833333  ...     0.0     0.0     0.0     0.0     0.0     0.0   \n",
       "4     4.4  4.333333  ...     0.0     0.0     0.0     0.0     0.0     0.0   \n",
       "\n",
       "   aa_202  aa_203  aa_204  aa_205  \n",
       "0     0.0     0.0     0.0     0.0  \n",
       "1     0.0     0.0     0.0     0.0  \n",
       "2     0.0     0.0     0.0     0.0  \n",
       "3     0.0     0.0     0.0     0.0  \n",
       "4     0.0     0.0     0.0     0.0  \n",
       "\n",
       "[5 rows x 245 columns]"
      ]
     },
     "execution_count": 7,
     "metadata": {},
     "output_type": "execute_result"
    }
   ],
   "source": [
    "df.head()"
   ]
  },
  {
   "cell_type": "markdown",
   "metadata": {},
   "source": [
    "<h3>1.1 Sample selection</h3>\n",
    "<p>Let's pick a country with different proportions than Mexico yet let's apply the same exclusions made by the author, that is, filtering out firms with fewer than 100 employees and more than 5000 employees. We'll use the same year, 2013 - we'll choose <b>Brazil</b>.</p>"
   ]
  },
  {
   "cell_type": "code",
   "execution_count": 8,
   "metadata": {},
   "outputs": [],
   "source": [
    "df = df.loc[\n",
    "    lambda x: (x[\"country\"] == \"Brazil\") &\n",
    "              (x[\"wave\"] == 2013) &\n",
    "              (x[\"emp_firm\"] >= 100) &\n",
    "              (x[\"emp_firm\"] <= 5000)\n",
    "]"
   ]
  },
  {
   "cell_type": "code",
   "execution_count": 9,
   "metadata": {},
   "outputs": [
    {
     "data": {
      "text/plain": [
       "count     506.000000\n",
       "mean      682.561265\n",
       "std       936.190571\n",
       "min       100.000000\n",
       "25%       181.000000\n",
       "50%       343.500000\n",
       "75%       717.250000\n",
       "max      5000.000000\n",
       "Name: emp_firm, dtype: float64"
      ]
     },
     "execution_count": 9,
     "metadata": {},
     "output_type": "execute_result"
    }
   ],
   "source": [
    "df[\"emp_firm\"].describe()"
   ]
  },
  {
   "cell_type": "markdown",
   "metadata": {},
   "source": [
    "<h2>2. Visualizing the distribution of management score</h2>"
   ]
  },
  {
   "cell_type": "code",
   "execution_count": 10,
   "metadata": {},
   "outputs": [
    {
     "data": {
      "text/html": [
       "<div>\n",
       "<style scoped>\n",
       "    .dataframe tbody tr th:only-of-type {\n",
       "        vertical-align: middle;\n",
       "    }\n",
       "\n",
       "    .dataframe tbody tr th {\n",
       "        vertical-align: top;\n",
       "    }\n",
       "\n",
       "    .dataframe thead th {\n",
       "        text-align: right;\n",
       "    }\n",
       "</style>\n",
       "<table border=\"1\" class=\"dataframe\">\n",
       "  <thead>\n",
       "    <tr style=\"text-align: right;\">\n",
       "      <th></th>\n",
       "      <th>management</th>\n",
       "    </tr>\n",
       "  </thead>\n",
       "  <tbody>\n",
       "    <tr>\n",
       "      <th>count</th>\n",
       "      <td>506.000000</td>\n",
       "    </tr>\n",
       "    <tr>\n",
       "      <th>mean</th>\n",
       "      <td>2.734848</td>\n",
       "    </tr>\n",
       "    <tr>\n",
       "      <th>std</th>\n",
       "      <td>0.588271</td>\n",
       "    </tr>\n",
       "    <tr>\n",
       "      <th>min</th>\n",
       "      <td>1.055556</td>\n",
       "    </tr>\n",
       "    <tr>\n",
       "      <th>25%</th>\n",
       "      <td>2.333333</td>\n",
       "    </tr>\n",
       "    <tr>\n",
       "      <th>50%</th>\n",
       "      <td>2.777778</td>\n",
       "    </tr>\n",
       "    <tr>\n",
       "      <th>75%</th>\n",
       "      <td>3.111111</td>\n",
       "    </tr>\n",
       "    <tr>\n",
       "      <th>max</th>\n",
       "      <td>4.500000</td>\n",
       "    </tr>\n",
       "  </tbody>\n",
       "</table>\n",
       "</div>"
      ],
      "text/plain": [
       "       management\n",
       "count  506.000000\n",
       "mean     2.734848\n",
       "std      0.588271\n",
       "min      1.055556\n",
       "25%      2.333333\n",
       "50%      2.777778\n",
       "75%      3.111111\n",
       "max      4.500000"
      ]
     },
     "execution_count": 10,
     "metadata": {},
     "output_type": "execute_result"
    }
   ],
   "source": [
    "df.loc[:, [\"management\"]].describe()"
   ]
  },
  {
   "cell_type": "code",
   "execution_count": 11,
   "metadata": {},
   "outputs": [
    {
     "data": {
      "image/png": "[encoded data removed]",
      "text/plain": [
       "<Figure size 640x480 with 1 Axes>"
      ]
     },
     "metadata": {},
     "output_type": "display_data"
    },
    {
     "data": {
      "text/plain": [
       "<ggplot: (190631316060)>"
      ]
     },
     "execution_count": 11,
     "metadata": {},
     "output_type": "execute_result"
    }
   ],
   "source": [
    "ggplot(df, aes(x=\"management\")) + geom_histogram(\n",
    "    aes(y=\"stat(count)/sum(stat(count))\"),\n",
    "    fill=color[0],\n",
    "    color=\"white\",\n",
    "    binwidth=0.25,\n",
    "    boundary=0,\n",
    "    closed=\"left\",\n",
    ") + labs(x=\"Management score\", y=\"Percent\") + scale_x_continuous(\n",
    "    expand=(0.01, 0.01), limits=(1, 5)\n",
    ") + scale_y_continuous(\n",
    "    expand=(0.00, 0.00),\n",
    "    limits=(0, 0.25),\n",
    "    breaks=seq(0, 0.26, by=0.05),\n",
    "    labels=percent_format()\n",
    ") + theme_bw()"
   ]
  },
  {
   "cell_type": "markdown",
   "metadata": {},
   "source": [
    "Some observations about the histogram:\n",
    "<ul>\n",
    "<li>The mean is <b>2.73</b>, while the median is <b>2.77</b>. The dataset resembles a normal distribution, with a small degree of skewness to the left.</li>\n",
    "<li>The standard deviation is <b>0.58</b>.</li>\n",
    "<li>The mode is in the bin between <b>2.5</b> and <b>2.75</b>.\n",
    "</ul>\n",
    "<h2>3. Visualizing the distribution of employment</h2>\n",
    "<p>We can start by looking at the summary statistics of Brazilian firms by their respective size, which is measured by the number of employees employed by each firm.</li>"
   ]
  },
  {
   "cell_type": "code",
   "execution_count": 12,
   "metadata": {},
   "outputs": [
    {
     "data": {
      "text/html": [
       "<div>\n",
       "<style scoped>\n",
       "    .dataframe tbody tr th:only-of-type {\n",
       "        vertical-align: middle;\n",
       "    }\n",
       "\n",
       "    .dataframe tbody tr th {\n",
       "        vertical-align: top;\n",
       "    }\n",
       "\n",
       "    .dataframe thead th {\n",
       "        text-align: right;\n",
       "    }\n",
       "</style>\n",
       "<table border=\"1\" class=\"dataframe\">\n",
       "  <thead>\n",
       "    <tr style=\"text-align: right;\">\n",
       "      <th></th>\n",
       "      <th>emp_firm</th>\n",
       "    </tr>\n",
       "  </thead>\n",
       "  <tbody>\n",
       "    <tr>\n",
       "      <th>count</th>\n",
       "      <td>506.000000</td>\n",
       "    </tr>\n",
       "    <tr>\n",
       "      <th>mean</th>\n",
       "      <td>682.561265</td>\n",
       "    </tr>\n",
       "    <tr>\n",
       "      <th>std</th>\n",
       "      <td>936.190571</td>\n",
       "    </tr>\n",
       "    <tr>\n",
       "      <th>min</th>\n",
       "      <td>100.000000</td>\n",
       "    </tr>\n",
       "    <tr>\n",
       "      <th>25%</th>\n",
       "      <td>181.000000</td>\n",
       "    </tr>\n",
       "    <tr>\n",
       "      <th>50%</th>\n",
       "      <td>343.500000</td>\n",
       "    </tr>\n",
       "    <tr>\n",
       "      <th>75%</th>\n",
       "      <td>717.250000</td>\n",
       "    </tr>\n",
       "    <tr>\n",
       "      <th>max</th>\n",
       "      <td>5000.000000</td>\n",
       "    </tr>\n",
       "  </tbody>\n",
       "</table>\n",
       "</div>"
      ],
      "text/plain": [
       "          emp_firm\n",
       "count   506.000000\n",
       "mean    682.561265\n",
       "std     936.190571\n",
       "min     100.000000\n",
       "25%     181.000000\n",
       "50%     343.500000\n",
       "75%     717.250000\n",
       "max    5000.000000"
      ]
     },
     "execution_count": 12,
     "metadata": {},
     "output_type": "execute_result"
    }
   ],
   "source": [
    "df.loc[:, [\"emp_firm\"]].describe()"
   ]
  },
  {
   "cell_type": "markdown",
   "metadata": {},
   "source": [
    "<p>Observations:</p>\n",
    "<ul>\n",
    "<li>The mean is <b>682</b> and the median, <b>343</b>.</li>\n",
    "<li>The mean is far higher than the median and therefore we can expect a significant degree of <b>skewness</b> to the right.</li>\n",
    "<li>The standard deviation is <b>936</b>.\n",
    "</ul>"
   ]
  },
  {
   "cell_type": "code",
   "execution_count": 13,
   "metadata": {},
   "outputs": [
    {
     "data": {
      "image/png": "[encoded data removed]",
      "text/plain": [
       "<Figure size 640x480 with 1 Axes>"
      ]
     },
     "metadata": {},
     "output_type": "display_data"
    },
    {
     "data": {
      "text/plain": [
       "<ggplot: (190631315811)>"
      ]
     },
     "execution_count": 13,
     "metadata": {},
     "output_type": "execute_result"
    }
   ],
   "source": [
    "ggplot(df, aes(x=\"emp_firm\", y=\"stat(count)/sum(stat(count))\")) + geom_histogram(\n",
    "    fill=color[0], color=\"white\", binwidth=200, boundary=0, closed=\"left\"\n",
    ") + labs(x=\"Firm size (employment)\", y=\"Percent\") + scale_x_continuous(\n",
    "    expand=(0.01, 0.01), limits=(0, 5000), breaks=seq(0, 5001, by=1000)\n",
    ") + scale_y_continuous(\n",
    "    expand=(0.00, 0.00),\n",
    "    limits=(0, 0.3),\n",
    "    breaks=seq(0, 0.5, by=0.05),\n",
    "    labels=percent_format(),\n",
    ") + theme_bw()"
   ]
  },
  {
   "cell_type": "markdown",
   "metadata": {},
   "source": [
    "The histogram shows a high concentration of smaller firms in Brazil. More specifically, more than 25% of all observations registered firms with less than 200 employees. Interestingly enough, there were no observations in the 200-400 bin.\n",
    "\n",
    "To make this distribution more symmetric, we can plot a histogram formatted by the lognormal distribution."
   ]
  },
  {
   "cell_type": "code",
   "execution_count": 14,
   "metadata": {},
   "outputs": [
    {
     "data": {
      "text/plain": [
       "count    506.000000\n",
       "mean       5.974693\n",
       "std        0.965696\n",
       "min        4.605170\n",
       "25%        5.198452\n",
       "50%        5.839186\n",
       "75%        6.575327\n",
       "max        8.517193\n",
       "Name: lnemp_firm, dtype: float64"
      ]
     },
     "execution_count": 14,
     "metadata": {},
     "output_type": "execute_result"
    }
   ],
   "source": [
    "df[\"lnemp_firm\"] = np.log(df[\"emp_firm\"])\n",
    "df[\"lnemp_firm\"].describe()"
   ]
  },
  {
   "cell_type": "code",
   "execution_count": 15,
   "metadata": {},
   "outputs": [
    {
     "data": {
      "image/png": "[encoded data removed]",
      "text/plain": [
       "<Figure size 640x480 with 1 Axes>"
      ]
     },
     "metadata": {},
     "output_type": "display_data"
    },
    {
     "data": {
      "text/plain": [
       "<ggplot: (190633586977)>"
      ]
     },
     "execution_count": 15,
     "metadata": {},
     "output_type": "execute_result"
    }
   ],
   "source": [
    "ggplot(df, aes(x=\"lnemp_firm\"))  + geom_histogram(\n",
    "    aes(y=\"stat(count)/sum(stat(count))\"),\n",
    "    fill=color[0], \n",
    "    color=\"white\", \n",
    "    binwidth=0.25, \n",
    "    boundary=0, \n",
    "    closed=\"left\"\n",
    ") + labs(x=\"Firm size (ln(employment))\", y=\"Percent\") + scale_x_continuous(\n",
    "    expand=(0.01, 0.01), limits=(4, 9) \n",
    ") + scale_y_continuous(\n",
    "    expand=(0.00, 0.00),\n",
    "    limits=(0, 0.2),\n",
    "    breaks=seq(0, 0.2, by=0.04),\n",
    "    labels=percent_format(),\n",
    ") + theme_bw()"
   ]
  },
  {
   "cell_type": "markdown",
   "metadata": {},
   "source": [
    "<p>We notice that the distribution is not as skewed as before, yet it still presents a longer tail to the right. The distribution, nonetheless, is much more symmetrical. In conclusion, the distribution of employment is skewed; while closer to lognormal than normal, the latter is still not the best approach.</p>\n",
    "<h2>4. Conditional probabilities | Binning firm size and visualize the quality of specific management practices accordingly</h2>\n",
    "<p>As a reminder, <b>conditional probability</b> of an event means the probability of an event if another event (the conditioning event) happens. Because both the management score and employment are quantitative variables with many values, they are not adequate for an investigation conditional probabilities.</p>\n",
    "<p>To overcome this issue, we will create a <b>qualitative</b> variable by creating three bins of employment: <b>small, medium, and large</b>. Let's follow the book's example and bind the bins by three intervals: 100-199, 200-999, and 1000+.\n"
   ]
  },
  {
   "cell_type": "code",
   "execution_count": 16,
   "metadata": {},
   "outputs": [],
   "source": [
    "df[\"emp3bins\"] = np.where(df[\"emp_firm\"] < 200, 1, np.nan)\n",
    "df[\"emp3bins\"] = np.where((df[\"emp_firm\"] >= 200) & (df[\"emp_firm\"] < 1000), 2, df[\"emp3bins\"])\n",
    "df[\"emp3bins\"] = np.where(df[\"emp_firm\"] >= 1000, 3, df[\"emp3bins\"])"
   ]
  },
  {
   "cell_type": "code",
   "execution_count": 17,
   "metadata": {},
   "outputs": [
    {
     "data": {
      "text/html": [
       "<div>\n",
       "<style scoped>\n",
       "    .dataframe tbody tr th:only-of-type {\n",
       "        vertical-align: middle;\n",
       "    }\n",
       "\n",
       "    .dataframe tbody tr th {\n",
       "        vertical-align: top;\n",
       "    }\n",
       "\n",
       "    .dataframe thead th {\n",
       "        text-align: right;\n",
       "    }\n",
       "</style>\n",
       "<table border=\"1\" class=\"dataframe\">\n",
       "  <thead>\n",
       "    <tr style=\"text-align: right;\">\n",
       "      <th></th>\n",
       "      <th>firmid</th>\n",
       "      <th>wave</th>\n",
       "      <th>cty</th>\n",
       "      <th>country</th>\n",
       "      <th>sic</th>\n",
       "      <th>management</th>\n",
       "      <th>operations</th>\n",
       "      <th>monitor</th>\n",
       "      <th>target</th>\n",
       "      <th>people</th>\n",
       "      <th>...</th>\n",
       "      <th>aa_198</th>\n",
       "      <th>aa_199</th>\n",
       "      <th>aa_200</th>\n",
       "      <th>aa_201</th>\n",
       "      <th>aa_202</th>\n",
       "      <th>aa_203</th>\n",
       "      <th>aa_204</th>\n",
       "      <th>aa_205</th>\n",
       "      <th>lnemp_firm</th>\n",
       "      <th>emp3bins</th>\n",
       "    </tr>\n",
       "  </thead>\n",
       "  <tbody>\n",
       "    <tr>\n",
       "      <th>1760</th>\n",
       "      <td>1290</td>\n",
       "      <td>2013</td>\n",
       "      <td>br</td>\n",
       "      <td>Brazil</td>\n",
       "      <td>28.0</td>\n",
       "      <td>3.277778</td>\n",
       "      <td>3.0</td>\n",
       "      <td>3.8</td>\n",
       "      <td>3.0</td>\n",
       "      <td>3.166667</td>\n",
       "      <td>...</td>\n",
       "      <td>0.0</td>\n",
       "      <td>0.0</td>\n",
       "      <td>0.0</td>\n",
       "      <td>0.0</td>\n",
       "      <td>0.0</td>\n",
       "      <td>0.0</td>\n",
       "      <td>0.0</td>\n",
       "      <td>0.0</td>\n",
       "      <td>6.877296</td>\n",
       "      <td>2.0</td>\n",
       "    </tr>\n",
       "    <tr>\n",
       "      <th>1763</th>\n",
       "      <td>1292</td>\n",
       "      <td>2013</td>\n",
       "      <td>br</td>\n",
       "      <td>Brazil</td>\n",
       "      <td>33.0</td>\n",
       "      <td>2.555556</td>\n",
       "      <td>2.5</td>\n",
       "      <td>3.2</td>\n",
       "      <td>2.8</td>\n",
       "      <td>1.833333</td>\n",
       "      <td>...</td>\n",
       "      <td>0.0</td>\n",
       "      <td>0.0</td>\n",
       "      <td>0.0</td>\n",
       "      <td>0.0</td>\n",
       "      <td>0.0</td>\n",
       "      <td>0.0</td>\n",
       "      <td>0.0</td>\n",
       "      <td>0.0</td>\n",
       "      <td>6.620073</td>\n",
       "      <td>2.0</td>\n",
       "    </tr>\n",
       "    <tr>\n",
       "      <th>1765</th>\n",
       "      <td>1293</td>\n",
       "      <td>2013</td>\n",
       "      <td>br</td>\n",
       "      <td>Brazil</td>\n",
       "      <td>33.0</td>\n",
       "      <td>2.666667</td>\n",
       "      <td>3.0</td>\n",
       "      <td>2.8</td>\n",
       "      <td>2.6</td>\n",
       "      <td>2.500000</td>\n",
       "      <td>...</td>\n",
       "      <td>0.0</td>\n",
       "      <td>0.0</td>\n",
       "      <td>0.0</td>\n",
       "      <td>0.0</td>\n",
       "      <td>0.0</td>\n",
       "      <td>0.0</td>\n",
       "      <td>0.0</td>\n",
       "      <td>0.0</td>\n",
       "      <td>6.040255</td>\n",
       "      <td>2.0</td>\n",
       "    </tr>\n",
       "    <tr>\n",
       "      <th>1766</th>\n",
       "      <td>1294</td>\n",
       "      <td>2013</td>\n",
       "      <td>br</td>\n",
       "      <td>Brazil</td>\n",
       "      <td>35.0</td>\n",
       "      <td>3.222222</td>\n",
       "      <td>4.0</td>\n",
       "      <td>3.8</td>\n",
       "      <td>2.8</td>\n",
       "      <td>2.833333</td>\n",
       "      <td>...</td>\n",
       "      <td>0.0</td>\n",
       "      <td>0.0</td>\n",
       "      <td>0.0</td>\n",
       "      <td>0.0</td>\n",
       "      <td>0.0</td>\n",
       "      <td>0.0</td>\n",
       "      <td>0.0</td>\n",
       "      <td>0.0</td>\n",
       "      <td>7.313220</td>\n",
       "      <td>3.0</td>\n",
       "    </tr>\n",
       "    <tr>\n",
       "      <th>1770</th>\n",
       "      <td>1297</td>\n",
       "      <td>2013</td>\n",
       "      <td>br</td>\n",
       "      <td>Brazil</td>\n",
       "      <td>31.0</td>\n",
       "      <td>3.222222</td>\n",
       "      <td>3.0</td>\n",
       "      <td>3.4</td>\n",
       "      <td>3.0</td>\n",
       "      <td>3.333333</td>\n",
       "      <td>...</td>\n",
       "      <td>0.0</td>\n",
       "      <td>0.0</td>\n",
       "      <td>0.0</td>\n",
       "      <td>0.0</td>\n",
       "      <td>0.0</td>\n",
       "      <td>0.0</td>\n",
       "      <td>0.0</td>\n",
       "      <td>0.0</td>\n",
       "      <td>4.605170</td>\n",
       "      <td>1.0</td>\n",
       "    </tr>\n",
       "  </tbody>\n",
       "</table>\n",
       "<p>5 rows × 247 columns</p>\n",
       "</div>"
      ],
      "text/plain": [
       "      firmid  wave cty country   sic  management  operations  monitor  target  \\\n",
       "1760    1290  2013  br  Brazil  28.0    3.277778         3.0      3.8     3.0   \n",
       "1763    1292  2013  br  Brazil  33.0    2.555556         2.5      3.2     2.8   \n",
       "1765    1293  2013  br  Brazil  33.0    2.666667         3.0      2.8     2.6   \n",
       "1766    1294  2013  br  Brazil  35.0    3.222222         4.0      3.8     2.8   \n",
       "1770    1297  2013  br  Brazil  31.0    3.222222         3.0      3.4     3.0   \n",
       "\n",
       "        people  ...  aa_198  aa_199  aa_200  aa_201  aa_202  aa_203  aa_204  \\\n",
       "1760  3.166667  ...     0.0     0.0     0.0     0.0     0.0     0.0     0.0   \n",
       "1763  1.833333  ...     0.0     0.0     0.0     0.0     0.0     0.0     0.0   \n",
       "1765  2.500000  ...     0.0     0.0     0.0     0.0     0.0     0.0     0.0   \n",
       "1766  2.833333  ...     0.0     0.0     0.0     0.0     0.0     0.0     0.0   \n",
       "1770  3.333333  ...     0.0     0.0     0.0     0.0     0.0     0.0     0.0   \n",
       "\n",
       "      aa_205  lnemp_firm  emp3bins  \n",
       "1760     0.0    6.877296       2.0  \n",
       "1763     0.0    6.620073       2.0  \n",
       "1765     0.0    6.040255       2.0  \n",
       "1766     0.0    7.313220       3.0  \n",
       "1770     0.0    4.605170       1.0  \n",
       "\n",
       "[5 rows x 247 columns]"
      ]
     },
     "execution_count": 17,
     "metadata": {},
     "output_type": "execute_result"
    }
   ],
   "source": [
    "df.head()"
   ]
  },
  {
   "cell_type": "code",
   "execution_count": 18,
   "metadata": {},
   "outputs": [
    {
     "data": {
      "text/plain": [
       "count    506.000000\n",
       "mean       1.913043\n",
       "std        0.657288\n",
       "min        1.000000\n",
       "25%        1.000000\n",
       "50%        2.000000\n",
       "75%        2.000000\n",
       "max        3.000000\n",
       "Name: emp3bins, dtype: float64"
      ]
     },
     "execution_count": 18,
     "metadata": {},
     "output_type": "execute_result"
    }
   ],
   "source": [
    "df[\"emp3bins\"].describe()"
   ]
  },
  {
   "cell_type": "markdown",
   "metadata": {},
   "source": [
    "<p>By now, we can make a few comparisons with the book case study, which used Mexico as an example. We can tell that Brazil and Mexico display similar statistics regarding firm sizes.</p>\n",
    "<ul>\n",
    "<li>The mean for Brazil, <b>1.91</b> is close to that of Mexico, <b>2</b>. We can expect that the average firm in both countries is medium-sized.</li>\n",
    "<li>The standard deviation is equally similar: <b>0.65</b> for Brazil, <b>0.63</b> for Mexico.</li>\n",
    "</ul>\n",
    "<h3>4.1 Plotting stacked charts - Describing patterns of association</h3>\n",
    "<p>We will use stacked charts to visualize conditional probabilities. Because we have 15 conditional probabilities for each management score (that is, the probability of each of the 5 values of y by each of the three values of x), a stacked bar chart will be of great assistance. Let's create the DataFrames for our job.</p>\n",
    "<h4>4.1.1 Stacked bar chart | Figure 4.3 (a) Lean management</h4>"
   ]
  },
  {
   "cell_type": "code",
   "execution_count": 19,
   "metadata": {},
   "outputs": [],
   "source": [
    "df1 = pd.DataFrame(\n",
    "    df.loc[:, [\"emp3bins\", \"lean1\"]].groupby([\"emp3bins\", \"lean1\"]).agg(\"size\")\n",
    ").reset_index()\n",
    "\n",
    "df1.columns = [\"emp3bins\", \"lean1\", \"Count\"]\n",
    "\n",
    "group_counts = df1.groupby(\"emp3bins\").agg(\"sum\")[\"Count\"]\n",
    "\n",
    "df1.loc[df1[\"emp3bins\"] == 1, \"Percent\"] = round(df1.loc[df1[\"emp3bins\"] == 1, \"Count\"]/group_counts[1],5)\n",
    "df1.loc[df1[\"emp3bins\"] == 2, \"Percent\"] = round(df1.loc[df1[\"emp3bins\"] == 2, \"Count\"]/group_counts[2],5)\n",
    "df1.loc[df1[\"emp3bins\"] == 3, \"Percent\"] = round(df1.loc[df1[\"emp3bins\"] == 3, \"Count\"]/group_counts[3],5)\n",
    "\n",
    "df1 = df1.assign(\n",
    "    lean1=pd.Categorical(\n",
    "        df1[\"lean1\"], categories=sorted(set(df[\"lean1\"]), reverse=True)\n",
    "    )\n",
    ")"
   ]
  },
  {
   "cell_type": "code",
   "execution_count": 20,
   "metadata": {},
   "outputs": [
    {
     "data": {
      "text/html": [
       "<div>\n",
       "<style scoped>\n",
       "    .dataframe tbody tr th:only-of-type {\n",
       "        vertical-align: middle;\n",
       "    }\n",
       "\n",
       "    .dataframe tbody tr th {\n",
       "        vertical-align: top;\n",
       "    }\n",
       "\n",
       "    .dataframe thead th {\n",
       "        text-align: right;\n",
       "    }\n",
       "</style>\n",
       "<table border=\"1\" class=\"dataframe\">\n",
       "  <thead>\n",
       "    <tr style=\"text-align: right;\">\n",
       "      <th></th>\n",
       "      <th>emp3bins</th>\n",
       "      <th>lean1</th>\n",
       "      <th>Count</th>\n",
       "      <th>Percent</th>\n",
       "    </tr>\n",
       "  </thead>\n",
       "  <tbody>\n",
       "    <tr>\n",
       "      <th>0</th>\n",
       "      <td>1.0</td>\n",
       "      <td>1.0</td>\n",
       "      <td>27</td>\n",
       "      <td>0.20301</td>\n",
       "    </tr>\n",
       "    <tr>\n",
       "      <th>1</th>\n",
       "      <td>1.0</td>\n",
       "      <td>2.0</td>\n",
       "      <td>59</td>\n",
       "      <td>0.44361</td>\n",
       "    </tr>\n",
       "    <tr>\n",
       "      <th>2</th>\n",
       "      <td>1.0</td>\n",
       "      <td>3.0</td>\n",
       "      <td>37</td>\n",
       "      <td>0.27820</td>\n",
       "    </tr>\n",
       "    <tr>\n",
       "      <th>3</th>\n",
       "      <td>1.0</td>\n",
       "      <td>4.0</td>\n",
       "      <td>9</td>\n",
       "      <td>0.06767</td>\n",
       "    </tr>\n",
       "    <tr>\n",
       "      <th>4</th>\n",
       "      <td>1.0</td>\n",
       "      <td>5.0</td>\n",
       "      <td>1</td>\n",
       "      <td>0.00752</td>\n",
       "    </tr>\n",
       "    <tr>\n",
       "      <th>5</th>\n",
       "      <td>2.0</td>\n",
       "      <td>1.0</td>\n",
       "      <td>29</td>\n",
       "      <td>0.10211</td>\n",
       "    </tr>\n",
       "    <tr>\n",
       "      <th>6</th>\n",
       "      <td>2.0</td>\n",
       "      <td>2.0</td>\n",
       "      <td>108</td>\n",
       "      <td>0.38028</td>\n",
       "    </tr>\n",
       "    <tr>\n",
       "      <th>7</th>\n",
       "      <td>2.0</td>\n",
       "      <td>3.0</td>\n",
       "      <td>103</td>\n",
       "      <td>0.36268</td>\n",
       "    </tr>\n",
       "    <tr>\n",
       "      <th>8</th>\n",
       "      <td>2.0</td>\n",
       "      <td>4.0</td>\n",
       "      <td>34</td>\n",
       "      <td>0.11972</td>\n",
       "    </tr>\n",
       "    <tr>\n",
       "      <th>9</th>\n",
       "      <td>2.0</td>\n",
       "      <td>5.0</td>\n",
       "      <td>10</td>\n",
       "      <td>0.03521</td>\n",
       "    </tr>\n",
       "    <tr>\n",
       "      <th>10</th>\n",
       "      <td>3.0</td>\n",
       "      <td>1.0</td>\n",
       "      <td>5</td>\n",
       "      <td>0.05618</td>\n",
       "    </tr>\n",
       "    <tr>\n",
       "      <th>11</th>\n",
       "      <td>3.0</td>\n",
       "      <td>2.0</td>\n",
       "      <td>15</td>\n",
       "      <td>0.16854</td>\n",
       "    </tr>\n",
       "    <tr>\n",
       "      <th>12</th>\n",
       "      <td>3.0</td>\n",
       "      <td>3.0</td>\n",
       "      <td>33</td>\n",
       "      <td>0.37079</td>\n",
       "    </tr>\n",
       "    <tr>\n",
       "      <th>13</th>\n",
       "      <td>3.0</td>\n",
       "      <td>4.0</td>\n",
       "      <td>24</td>\n",
       "      <td>0.26966</td>\n",
       "    </tr>\n",
       "    <tr>\n",
       "      <th>14</th>\n",
       "      <td>3.0</td>\n",
       "      <td>5.0</td>\n",
       "      <td>12</td>\n",
       "      <td>0.13483</td>\n",
       "    </tr>\n",
       "  </tbody>\n",
       "</table>\n",
       "</div>"
      ],
      "text/plain": [
       "    emp3bins lean1  Count  Percent\n",
       "0        1.0   1.0     27  0.20301\n",
       "1        1.0   2.0     59  0.44361\n",
       "2        1.0   3.0     37  0.27820\n",
       "3        1.0   4.0      9  0.06767\n",
       "4        1.0   5.0      1  0.00752\n",
       "5        2.0   1.0     29  0.10211\n",
       "6        2.0   2.0    108  0.38028\n",
       "7        2.0   3.0    103  0.36268\n",
       "8        2.0   4.0     34  0.11972\n",
       "9        2.0   5.0     10  0.03521\n",
       "10       3.0   1.0      5  0.05618\n",
       "11       3.0   2.0     15  0.16854\n",
       "12       3.0   3.0     33  0.37079\n",
       "13       3.0   4.0     24  0.26966\n",
       "14       3.0   5.0     12  0.13483"
      ]
     },
     "execution_count": 20,
     "metadata": {},
     "output_type": "execute_result"
    }
   ],
   "source": [
    "df1"
   ]
  },
  {
   "cell_type": "code",
   "execution_count": 21,
   "metadata": {},
   "outputs": [
    {
     "data": {
      "image/png": "[encoded data removed]",
      "text/plain": [
       "<Figure size 640x480 with 1 Axes>"
      ]
     },
     "metadata": {},
     "output_type": "display_data"
    },
    {
     "data": {
      "text/plain": [
       "<ggplot: (190633629249)>"
      ]
     },
     "execution_count": 21,
     "metadata": {},
     "output_type": "execute_result"
    }
   ],
   "source": [
    "ggplot(df1, aes(x=\"emp3bins\", y=\"Percent\", fill=\"lean1\")) + geom_bar(\n",
    "    stat=\"identity\", position=\"fill\", width=0.6, color=\"white\", size=0.5, alpha=0.8\n",
    ") + scale_y_continuous( \n",
    "    expand=(0, 0), limits=(0, 1), breaks=seq(0, 1.1, by=0.2), labels=percent_format()\n",
    ") + labs(\n",
    "    x=\"Firm size (employment), 3 bins\", y=\"Percent\"\n",
    ") + theme_bw() + theme(\n",
    "    legend_position=\"right\"\n",
    ") + scale_fill_manual(\n",
    "    values=(color[2], color[0], color[4], color[1], color[3]), name=\" \"\n",
    ") + scale_x_discrete(limits=[1, 2, 3],\n",
    "                     labels=[\"Small\", \"Medium\", \"Large\"])"
   ]
  },
  {
   "cell_type": "code",
   "execution_count": 22,
   "metadata": {},
   "outputs": [
    {
     "data": {
      "text/html": [
       "<div>\n",
       "<style scoped>\n",
       "    .dataframe tbody tr th:only-of-type {\n",
       "        vertical-align: middle;\n",
       "    }\n",
       "\n",
       "    .dataframe tbody tr th {\n",
       "        vertical-align: top;\n",
       "    }\n",
       "\n",
       "    .dataframe thead th {\n",
       "        text-align: right;\n",
       "    }\n",
       "</style>\n",
       "<table border=\"1\" class=\"dataframe\">\n",
       "  <thead>\n",
       "    <tr style=\"text-align: right;\">\n",
       "      <th></th>\n",
       "      <th>emp3bins</th>\n",
       "      <th>lean1</th>\n",
       "      <th>Count</th>\n",
       "      <th>Percent</th>\n",
       "    </tr>\n",
       "  </thead>\n",
       "  <tbody>\n",
       "    <tr>\n",
       "      <th>0</th>\n",
       "      <td>1.0</td>\n",
       "      <td>1.0</td>\n",
       "      <td>27</td>\n",
       "      <td>0.20301</td>\n",
       "    </tr>\n",
       "    <tr>\n",
       "      <th>1</th>\n",
       "      <td>1.0</td>\n",
       "      <td>2.0</td>\n",
       "      <td>59</td>\n",
       "      <td>0.44361</td>\n",
       "    </tr>\n",
       "    <tr>\n",
       "      <th>2</th>\n",
       "      <td>1.0</td>\n",
       "      <td>3.0</td>\n",
       "      <td>37</td>\n",
       "      <td>0.27820</td>\n",
       "    </tr>\n",
       "    <tr>\n",
       "      <th>3</th>\n",
       "      <td>1.0</td>\n",
       "      <td>4.0</td>\n",
       "      <td>9</td>\n",
       "      <td>0.06767</td>\n",
       "    </tr>\n",
       "    <tr>\n",
       "      <th>4</th>\n",
       "      <td>1.0</td>\n",
       "      <td>5.0</td>\n",
       "      <td>1</td>\n",
       "      <td>0.00752</td>\n",
       "    </tr>\n",
       "    <tr>\n",
       "      <th>5</th>\n",
       "      <td>2.0</td>\n",
       "      <td>1.0</td>\n",
       "      <td>29</td>\n",
       "      <td>0.10211</td>\n",
       "    </tr>\n",
       "    <tr>\n",
       "      <th>6</th>\n",
       "      <td>2.0</td>\n",
       "      <td>2.0</td>\n",
       "      <td>108</td>\n",
       "      <td>0.38028</td>\n",
       "    </tr>\n",
       "    <tr>\n",
       "      <th>7</th>\n",
       "      <td>2.0</td>\n",
       "      <td>3.0</td>\n",
       "      <td>103</td>\n",
       "      <td>0.36268</td>\n",
       "    </tr>\n",
       "    <tr>\n",
       "      <th>8</th>\n",
       "      <td>2.0</td>\n",
       "      <td>4.0</td>\n",
       "      <td>34</td>\n",
       "      <td>0.11972</td>\n",
       "    </tr>\n",
       "    <tr>\n",
       "      <th>9</th>\n",
       "      <td>2.0</td>\n",
       "      <td>5.0</td>\n",
       "      <td>10</td>\n",
       "      <td>0.03521</td>\n",
       "    </tr>\n",
       "    <tr>\n",
       "      <th>10</th>\n",
       "      <td>3.0</td>\n",
       "      <td>1.0</td>\n",
       "      <td>5</td>\n",
       "      <td>0.05618</td>\n",
       "    </tr>\n",
       "    <tr>\n",
       "      <th>11</th>\n",
       "      <td>3.0</td>\n",
       "      <td>2.0</td>\n",
       "      <td>15</td>\n",
       "      <td>0.16854</td>\n",
       "    </tr>\n",
       "    <tr>\n",
       "      <th>12</th>\n",
       "      <td>3.0</td>\n",
       "      <td>3.0</td>\n",
       "      <td>33</td>\n",
       "      <td>0.37079</td>\n",
       "    </tr>\n",
       "    <tr>\n",
       "      <th>13</th>\n",
       "      <td>3.0</td>\n",
       "      <td>4.0</td>\n",
       "      <td>24</td>\n",
       "      <td>0.26966</td>\n",
       "    </tr>\n",
       "    <tr>\n",
       "      <th>14</th>\n",
       "      <td>3.0</td>\n",
       "      <td>5.0</td>\n",
       "      <td>12</td>\n",
       "      <td>0.13483</td>\n",
       "    </tr>\n",
       "  </tbody>\n",
       "</table>\n",
       "</div>"
      ],
      "text/plain": [
       "    emp3bins lean1  Count  Percent\n",
       "0        1.0   1.0     27  0.20301\n",
       "1        1.0   2.0     59  0.44361\n",
       "2        1.0   3.0     37  0.27820\n",
       "3        1.0   4.0      9  0.06767\n",
       "4        1.0   5.0      1  0.00752\n",
       "5        2.0   1.0     29  0.10211\n",
       "6        2.0   2.0    108  0.38028\n",
       "7        2.0   3.0    103  0.36268\n",
       "8        2.0   4.0     34  0.11972\n",
       "9        2.0   5.0     10  0.03521\n",
       "10       3.0   1.0      5  0.05618\n",
       "11       3.0   2.0     15  0.16854\n",
       "12       3.0   3.0     33  0.37079\n",
       "13       3.0   4.0     24  0.26966\n",
       "14       3.0   5.0     12  0.13483"
      ]
     },
     "execution_count": 22,
     "metadata": {},
     "output_type": "execute_result"
    }
   ],
   "source": [
    "df1"
   ]
  },
  {
   "cell_type": "markdown",
   "metadata": {},
   "source": [
    "What can we observe from this chart? Well, overall, there is a positive correlation between lean management and firm size. As firm size gets bigger, we tend to see an increase in higher ratings and a decrease in lower values. Brazil has returned lean management results similar to Mexico. The correlation is similar in both cases, with a few difference. For instance, small firms in Brazil received lower ratings than in Mexico, with more than 60% of values equal or lower than 2 - in Mexico, this range registered a percentage of around 58%. Medium-sized firms, likewise, showed a large proportion of a score of 3 points, while Mexican firms with such firm size presented a higher proportion of 4 to 5 points. Brazilian large firms, however, were graded in a different way when compared to its Mexican counterparts. The proportion of firms rated with 1 to 2 points was around 21%, while in Mexico this range was around 32%. There was also a significant difference in 3 and 5 points ratings: Brazilian firms registered 37% of firms rated with 3 points, compared to 30% in Mexico, and 13% with 5 points, compared to 8% in Mexico. Considering that both countries registered similar proportions for 4 points, hence, we can affirm that Brazilian large-sized firms scored higher points than Mexican firms with similar sizes.\n",
    "\n",
    "Let's plot the second stacked chart.\n",
    "<h4>4.1.2 Stacked bar chart | Figure 4.3 (b) Performance tracking</h4>\n"
   ]
  },
  {
   "cell_type": "code",
   "execution_count": 23,
   "metadata": {},
   "outputs": [],
   "source": [
    "df2 = pd.DataFrame(\n",
    "    df.loc[:, [\"emp3bins\", \"perf2\"]].groupby([\"emp3bins\", \"perf2\"]).agg(\"size\")\n",
    ").reset_index()\n",
    "\n",
    "df2.columns = [\"emp3bins\", \"perf2\", \"Count\"]\n",
    "\n",
    "group_counts = df2.groupby(\"emp3bins\").agg(\"sum\")[\"Count\"]\n",
    "\n",
    "df2.loc[df2[\"emp3bins\"] == 1, \"Percent\"] = round(df2.loc[df2[\"emp3bins\"] == 1, \"Count\"]/group_counts[1],5)\n",
    "df2.loc[df2[\"emp3bins\"] == 2, \"Percent\"] = round(df2.loc[df2[\"emp3bins\"] == 2, \"Count\"]/group_counts[2],5)\n",
    "df2.loc[df2[\"emp3bins\"] == 3, \"Percent\"] = round(df2.loc[df2[\"emp3bins\"] == 3, \"Count\"]/group_counts[3],5)\n",
    "\n",
    "df2 = df2.assign(\n",
    "    perf2=pd.Categorical(\n",
    "        df2[\"perf2\"], categories=sorted(set(df[\"perf2\"]), reverse=True)\n",
    "    )\n",
    ")"
   ]
  },
  {
   "cell_type": "code",
   "execution_count": 24,
   "metadata": {},
   "outputs": [
    {
     "data": {
      "image/png": "[encoded data removed]",
      "text/plain": [
       "<Figure size 640x480 with 1 Axes>"
      ]
     },
     "metadata": {},
     "output_type": "display_data"
    },
    {
     "data": {
      "text/plain": [
       "<ggplot: (190633671482)>"
      ]
     },
     "execution_count": 24,
     "metadata": {},
     "output_type": "execute_result"
    }
   ],
   "source": [
    "ggplot(df2, aes(x=\"emp3bins\", y=\"Percent\", fill=\"perf2\")) + geom_bar(\n",
    "    stat=\"identity\", position=\"fill\", width=0.6, color=\"white\", size=0.5, alpha=0.8\n",
    ") + scale_y_continuous( \n",
    "    expand=(0, 0), limits=(0, 1), breaks=seq(0, 1.1, by=0.2), labels=percent_format()\n",
    ") + labs(\n",
    "    x=\"Firm size (employment), 3 bins\", y=\"Percent\"\n",
    ") + theme_bw() + theme(\n",
    "    legend_position=\"right\"\n",
    ") + scale_fill_manual(\n",
    "    values=(color[2], color[0], color[4], color[1], color[3]), name=\" \"\n",
    ") + scale_x_discrete(limits=[1, 2, 3],\n",
    "                     labels=[\"Small\", \"Medium\", \"Large\"])"
   ]
  },
  {
   "cell_type": "code",
   "execution_count": 25,
   "metadata": {},
   "outputs": [
    {
     "data": {
      "text/html": [
       "<div>\n",
       "<style scoped>\n",
       "    .dataframe tbody tr th:only-of-type {\n",
       "        vertical-align: middle;\n",
       "    }\n",
       "\n",
       "    .dataframe tbody tr th {\n",
       "        vertical-align: top;\n",
       "    }\n",
       "\n",
       "    .dataframe thead th {\n",
       "        text-align: right;\n",
       "    }\n",
       "</style>\n",
       "<table border=\"1\" class=\"dataframe\">\n",
       "  <thead>\n",
       "    <tr style=\"text-align: right;\">\n",
       "      <th></th>\n",
       "      <th>emp3bins</th>\n",
       "      <th>perf2</th>\n",
       "      <th>Count</th>\n",
       "      <th>Percent</th>\n",
       "    </tr>\n",
       "  </thead>\n",
       "  <tbody>\n",
       "    <tr>\n",
       "      <th>0</th>\n",
       "      <td>1.0</td>\n",
       "      <td>1.0</td>\n",
       "      <td>12</td>\n",
       "      <td>0.09023</td>\n",
       "    </tr>\n",
       "    <tr>\n",
       "      <th>1</th>\n",
       "      <td>1.0</td>\n",
       "      <td>2.0</td>\n",
       "      <td>34</td>\n",
       "      <td>0.25564</td>\n",
       "    </tr>\n",
       "    <tr>\n",
       "      <th>2</th>\n",
       "      <td>1.0</td>\n",
       "      <td>3.0</td>\n",
       "      <td>59</td>\n",
       "      <td>0.44361</td>\n",
       "    </tr>\n",
       "    <tr>\n",
       "      <th>3</th>\n",
       "      <td>1.0</td>\n",
       "      <td>4.0</td>\n",
       "      <td>27</td>\n",
       "      <td>0.20301</td>\n",
       "    </tr>\n",
       "    <tr>\n",
       "      <th>4</th>\n",
       "      <td>1.0</td>\n",
       "      <td>5.0</td>\n",
       "      <td>1</td>\n",
       "      <td>0.00752</td>\n",
       "    </tr>\n",
       "    <tr>\n",
       "      <th>5</th>\n",
       "      <td>2.0</td>\n",
       "      <td>1.0</td>\n",
       "      <td>3</td>\n",
       "      <td>0.01056</td>\n",
       "    </tr>\n",
       "    <tr>\n",
       "      <th>6</th>\n",
       "      <td>2.0</td>\n",
       "      <td>2.0</td>\n",
       "      <td>44</td>\n",
       "      <td>0.15493</td>\n",
       "    </tr>\n",
       "    <tr>\n",
       "      <th>7</th>\n",
       "      <td>2.0</td>\n",
       "      <td>3.0</td>\n",
       "      <td>128</td>\n",
       "      <td>0.45070</td>\n",
       "    </tr>\n",
       "    <tr>\n",
       "      <th>8</th>\n",
       "      <td>2.0</td>\n",
       "      <td>4.0</td>\n",
       "      <td>103</td>\n",
       "      <td>0.36268</td>\n",
       "    </tr>\n",
       "    <tr>\n",
       "      <th>9</th>\n",
       "      <td>2.0</td>\n",
       "      <td>5.0</td>\n",
       "      <td>6</td>\n",
       "      <td>0.02113</td>\n",
       "    </tr>\n",
       "    <tr>\n",
       "      <th>10</th>\n",
       "      <td>3.0</td>\n",
       "      <td>2.0</td>\n",
       "      <td>5</td>\n",
       "      <td>0.05618</td>\n",
       "    </tr>\n",
       "    <tr>\n",
       "      <th>11</th>\n",
       "      <td>3.0</td>\n",
       "      <td>3.0</td>\n",
       "      <td>29</td>\n",
       "      <td>0.32584</td>\n",
       "    </tr>\n",
       "    <tr>\n",
       "      <th>12</th>\n",
       "      <td>3.0</td>\n",
       "      <td>4.0</td>\n",
       "      <td>46</td>\n",
       "      <td>0.51685</td>\n",
       "    </tr>\n",
       "    <tr>\n",
       "      <th>13</th>\n",
       "      <td>3.0</td>\n",
       "      <td>5.0</td>\n",
       "      <td>9</td>\n",
       "      <td>0.10112</td>\n",
       "    </tr>\n",
       "  </tbody>\n",
       "</table>\n",
       "</div>"
      ],
      "text/plain": [
       "    emp3bins perf2  Count  Percent\n",
       "0        1.0   1.0     12  0.09023\n",
       "1        1.0   2.0     34  0.25564\n",
       "2        1.0   3.0     59  0.44361\n",
       "3        1.0   4.0     27  0.20301\n",
       "4        1.0   5.0      1  0.00752\n",
       "5        2.0   1.0      3  0.01056\n",
       "6        2.0   2.0     44  0.15493\n",
       "7        2.0   3.0    128  0.45070\n",
       "8        2.0   4.0    103  0.36268\n",
       "9        2.0   5.0      6  0.02113\n",
       "10       3.0   2.0      5  0.05618\n",
       "11       3.0   3.0     29  0.32584\n",
       "12       3.0   4.0     46  0.51685\n",
       "13       3.0   5.0      9  0.10112"
      ]
     },
     "execution_count": 25,
     "metadata": {},
     "output_type": "execute_result"
    }
   ],
   "source": [
    "df2"
   ]
  },
  {
   "cell_type": "markdown",
   "metadata": {},
   "source": [
    "Here again, the figures show a similar pattern association between the quality of management and firm size. Small firms in Brazil tend to have lower scores and a lower probability of displaying high scores than medium-sized firms, which are more likely to have low scores and less likely to have higher scores than large firms. \n",
    "\n",
    "Now, when comparing Brazilian and Mexican firms, we notice than small-sized firms from Brazil performed worse than similar Mexican companies. The former registered a higher number of poorly-rated scores - almost 35% of all observations for small firms were equal to or below 2. In Mexico, this range did not exceed 22%. Only around 21% of small-sized Brazilain firms registered 4 to 5 points in performance tracking, while more than 40% of Mexican firms of a similar size got 4 or more points. This difference is evident in other firm size categories. Large Mexican firms, for instance, registered a higher proportion of 4 to 5 points than Brazilian firms. Overall, however, the correlation seems clear - the larger the company, the better managed it seems to be.\n",
    "\n",
    "<h3>4.2 Ploting bin scatters</h3>\n",
    "<h4>4.2.1 Three bins</h4>\n",
    "<p>We can now discuss conditional mean and joint distribution. Remember that <b>joint distribution</b> of two variables is the frequency of each value combination of the two variables. First, let's use the three bins that we had created. We can group them by the 3 bins and the firm sizes. We can get aggregate measures of min, max, average, median, standard deviation, and frequency of each bin category. Then, we will replace the bin numbers by a point corresponding to the midpoint in the employment bin (for instance, 150 for the 100-199 bin, 600 for the 200-999 bin, and so on).</p>"
   ]
  },
  {
   "cell_type": "code",
   "execution_count": 26,
   "metadata": {},
   "outputs": [
    {
     "data": {
      "text/html": [
       "<div>\n",
       "<style scoped>\n",
       "    .dataframe tbody tr th:only-of-type {\n",
       "        vertical-align: middle;\n",
       "    }\n",
       "\n",
       "    .dataframe tbody tr th {\n",
       "        vertical-align: top;\n",
       "    }\n",
       "\n",
       "    .dataframe thead tr th {\n",
       "        text-align: left;\n",
       "    }\n",
       "\n",
       "    .dataframe thead tr:last-of-type th {\n",
       "        text-align: right;\n",
       "    }\n",
       "</style>\n",
       "<table border=\"1\" class=\"dataframe\">\n",
       "  <thead>\n",
       "    <tr>\n",
       "      <th></th>\n",
       "      <th colspan=\"6\" halign=\"left\">emp_firm</th>\n",
       "    </tr>\n",
       "    <tr>\n",
       "      <th></th>\n",
       "      <th>min</th>\n",
       "      <th>max</th>\n",
       "      <th>mean</th>\n",
       "      <th>median</th>\n",
       "      <th>std</th>\n",
       "      <th>size</th>\n",
       "    </tr>\n",
       "    <tr>\n",
       "      <th>emp3bins</th>\n",
       "      <th></th>\n",
       "      <th></th>\n",
       "      <th></th>\n",
       "      <th></th>\n",
       "      <th></th>\n",
       "      <th></th>\n",
       "    </tr>\n",
       "  </thead>\n",
       "  <tbody>\n",
       "    <tr>\n",
       "      <th>1.0</th>\n",
       "      <td>100.0</td>\n",
       "      <td>195.0</td>\n",
       "      <td>140.157895</td>\n",
       "      <td>140.0</td>\n",
       "      <td>26.936188</td>\n",
       "      <td>133</td>\n",
       "    </tr>\n",
       "    <tr>\n",
       "      <th>2.0</th>\n",
       "      <td>200.0</td>\n",
       "      <td>984.0</td>\n",
       "      <td>431.144366</td>\n",
       "      <td>355.0</td>\n",
       "      <td>208.969431</td>\n",
       "      <td>284</td>\n",
       "    </tr>\n",
       "    <tr>\n",
       "      <th>3.0</th>\n",
       "      <td>1000.0</td>\n",
       "      <td>5000.0</td>\n",
       "      <td>2295.393258</td>\n",
       "      <td>2000.0</td>\n",
       "      <td>1268.342741</td>\n",
       "      <td>89</td>\n",
       "    </tr>\n",
       "  </tbody>\n",
       "</table>\n",
       "</div>"
      ],
      "text/plain": [
       "         emp_firm                                               \n",
       "              min     max         mean  median          std size\n",
       "emp3bins                                                        \n",
       "1.0         100.0   195.0   140.157895   140.0    26.936188  133\n",
       "2.0         200.0   984.0   431.144366   355.0   208.969431  284\n",
       "3.0        1000.0  5000.0  2295.393258  2000.0  1268.342741   89"
      ]
     },
     "execution_count": 26,
     "metadata": {},
     "output_type": "execute_result"
    }
   ],
   "source": [
    "df.filter([\"emp_firm\", \"emp3bins\"]).groupby(\"emp3bins\").agg(\n",
    "    [\"min\", \"max\", \"mean\", \"median\", np.std, \"size\"]\n",
    ")"
   ]
  },
  {
   "cell_type": "code",
   "execution_count": 27,
   "metadata": {},
   "outputs": [
    {
     "data": {
      "text/plain": [
       "1760     600.0\n",
       "1763     600.0\n",
       "1765     600.0\n",
       "1766    3000.0\n",
       "1770     150.0\n",
       "         ...  \n",
       "2898     150.0\n",
       "2899    3000.0\n",
       "2904     150.0\n",
       "2905     600.0\n",
       "2907    3000.0\n",
       "Name: emp3bins, Length: 506, dtype: float64"
      ]
     },
     "execution_count": 27,
     "metadata": {},
     "output_type": "execute_result"
    }
   ],
   "source": [
    "# Recode employee bins \n",
    "df[\"emp3bins\"] = df[\"emp3bins\"].replace(1, 150).replace(2, 600).replace(3, 3000)\n",
    "df[\"emp3bins\"]"
   ]
  },
  {
   "cell_type": "code",
   "execution_count": 28,
   "metadata": {},
   "outputs": [
    {
     "data": {
      "text/html": [
       "<div>\n",
       "<style scoped>\n",
       "    .dataframe tbody tr th:only-of-type {\n",
       "        vertical-align: middle;\n",
       "    }\n",
       "\n",
       "    .dataframe tbody tr th {\n",
       "        vertical-align: top;\n",
       "    }\n",
       "\n",
       "    .dataframe thead tr th {\n",
       "        text-align: left;\n",
       "    }\n",
       "\n",
       "    .dataframe thead tr:last-of-type th {\n",
       "        text-align: right;\n",
       "    }\n",
       "</style>\n",
       "<table border=\"1\" class=\"dataframe\">\n",
       "  <thead>\n",
       "    <tr>\n",
       "      <th></th>\n",
       "      <th colspan=\"6\" halign=\"left\">emp_firm</th>\n",
       "    </tr>\n",
       "    <tr>\n",
       "      <th></th>\n",
       "      <th>min</th>\n",
       "      <th>max</th>\n",
       "      <th>mean</th>\n",
       "      <th>median</th>\n",
       "      <th>std</th>\n",
       "      <th>size</th>\n",
       "    </tr>\n",
       "    <tr>\n",
       "      <th>emp3bins</th>\n",
       "      <th></th>\n",
       "      <th></th>\n",
       "      <th></th>\n",
       "      <th></th>\n",
       "      <th></th>\n",
       "      <th></th>\n",
       "    </tr>\n",
       "  </thead>\n",
       "  <tbody>\n",
       "    <tr>\n",
       "      <th>150.0</th>\n",
       "      <td>100.0</td>\n",
       "      <td>195.0</td>\n",
       "      <td>140.157895</td>\n",
       "      <td>140.0</td>\n",
       "      <td>26.936188</td>\n",
       "      <td>133</td>\n",
       "    </tr>\n",
       "    <tr>\n",
       "      <th>600.0</th>\n",
       "      <td>200.0</td>\n",
       "      <td>984.0</td>\n",
       "      <td>431.144366</td>\n",
       "      <td>355.0</td>\n",
       "      <td>208.969431</td>\n",
       "      <td>284</td>\n",
       "    </tr>\n",
       "    <tr>\n",
       "      <th>3000.0</th>\n",
       "      <td>1000.0</td>\n",
       "      <td>5000.0</td>\n",
       "      <td>2295.393258</td>\n",
       "      <td>2000.0</td>\n",
       "      <td>1268.342741</td>\n",
       "      <td>89</td>\n",
       "    </tr>\n",
       "  </tbody>\n",
       "</table>\n",
       "</div>"
      ],
      "text/plain": [
       "         emp_firm                                               \n",
       "              min     max         mean  median          std size\n",
       "emp3bins                                                        \n",
       "150.0       100.0   195.0   140.157895   140.0    26.936188  133\n",
       "600.0       200.0   984.0   431.144366   355.0   208.969431  284\n",
       "3000.0     1000.0  5000.0  2295.393258  2000.0  1268.342741   89"
      ]
     },
     "execution_count": 28,
     "metadata": {},
     "output_type": "execute_result"
    }
   ],
   "source": [
    "# Summary statistics\n",
    "df.filter([\"emp_firm\", \"emp3bins\"]).groupby(\"emp3bins\").agg(\n",
    "    [\"min\", \"max\", \"mean\", \"median\", np.std, \"size\"]\n",
    ")"
   ]
  },
  {
   "cell_type": "markdown",
   "metadata": {},
   "source": [
    "<p>We can now get the mean management scores for each bin by aggregating the data using the 3 bins and visualize the result.</p>"
   ]
  },
  {
   "cell_type": "code",
   "execution_count": 29,
   "metadata": {},
   "outputs": [
    {
     "data": {
      "text/html": [
       "<div>\n",
       "<style scoped>\n",
       "    .dataframe tbody tr th:only-of-type {\n",
       "        vertical-align: middle;\n",
       "    }\n",
       "\n",
       "    .dataframe tbody tr th {\n",
       "        vertical-align: top;\n",
       "    }\n",
       "\n",
       "    .dataframe thead th {\n",
       "        text-align: right;\n",
       "    }\n",
       "</style>\n",
       "<table border=\"1\" class=\"dataframe\">\n",
       "  <thead>\n",
       "    <tr style=\"text-align: right;\">\n",
       "      <th></th>\n",
       "      <th>emp3bins</th>\n",
       "      <th>management_emp3bins</th>\n",
       "    </tr>\n",
       "  </thead>\n",
       "  <tbody>\n",
       "    <tr>\n",
       "      <th>0</th>\n",
       "      <td>150.0</td>\n",
       "      <td>2.412281</td>\n",
       "    </tr>\n",
       "    <tr>\n",
       "      <th>1</th>\n",
       "      <td>600.0</td>\n",
       "      <td>2.755086</td>\n",
       "    </tr>\n",
       "    <tr>\n",
       "      <th>2</th>\n",
       "      <td>3000.0</td>\n",
       "      <td>3.152310</td>\n",
       "    </tr>\n",
       "  </tbody>\n",
       "</table>\n",
       "</div>"
      ],
      "text/plain": [
       "   emp3bins  management_emp3bins\n",
       "0     150.0             2.412281\n",
       "1     600.0             2.755086\n",
       "2    3000.0             3.152310"
      ]
     },
     "execution_count": 29,
     "metadata": {},
     "output_type": "execute_result"
    }
   ],
   "source": [
    "# Generate variables by mean\n",
    "df1 = df.groupby(\"emp3bins\").agg(management_emp3bins=(\"management\", \"mean\")).reset_index()\n",
    "df1"
   ]
  },
  {
   "cell_type": "code",
   "execution_count": 30,
   "metadata": {},
   "outputs": [
    {
     "data": {
      "image/png": "[encoded data removed]",
      "text/plain": [
       "<Figure size 640x480 with 1 Axes>"
      ]
     },
     "metadata": {},
     "output_type": "display_data"
    },
    {
     "data": {
      "text/plain": [
       "<ggplot: (190633547813)>"
      ]
     },
     "execution_count": 30,
     "metadata": {},
     "output_type": "execute_result"
    }
   ],
   "source": [
    "ggplot(df1, aes(x=\"emp3bins\", y=\"management_emp3bins\")) + geom_point(\n",
    "    size=2, color=color[2], fill=color[0], alpha=0.8, na_rm=True\n",
    ") + scale_y_continuous(\n",
    "    expand=(0.01, 0.01), limits=(2.2, 3.4), breaks=seq(2.2, 3.5, by=0.2)\n",
    ") + scale_x_continuous(\n",
    "    expand=(0.01, 0.01), limits=(0, 3000), breaks=seq(0, 3001, by=500)\n",
    ") + labs(\n",
    "    x=\"Firm size (employment), 3 bins\", y=\"Management score\"\n",
    ") + theme_bw()"
   ]
  },
  {
   "cell_type": "markdown",
   "metadata": {},
   "source": [
    "<p>As we can observe, there is a clear <b>positive</b> association. Larger firms, on average, are better managed. We got a mean score of 2.41 for small firms, 2.75 for medium-sized firms, and 3.14 for large firms. As expected, these mean values are lower than in Mexican firms for all three bins (2.67, 2.94, and 3.18, respectively). Yet, the overall correlation is very similar.</p>\n",
    "\n",
    "<p>Now, would this association hold when using a bin scatter of 10 bins? Let's find out.</p>\n",
    "<h4>4.2.2 Ten-bin scatter</h4>"
   ]
  },
  {
   "cell_type": "code",
   "execution_count": 31,
   "metadata": {},
   "outputs": [],
   "source": [
    "df[\"emp10bins\"] = pd.qcut(df[\"emp_firm\"],10)"
   ]
  },
  {
   "cell_type": "markdown",
   "metadata": {},
   "source": [
    "<p>We just applied an interesting function, <code>qcut()</code>, that discretizes variables into equal-sized buckets. I had no idea that such a function existed, so helpful!</p>"
   ]
  },
  {
   "cell_type": "code",
   "execution_count": 32,
   "metadata": {},
   "outputs": [
    {
     "data": {
      "text/html": [
       "<div>\n",
       "<style scoped>\n",
       "    .dataframe tbody tr th:only-of-type {\n",
       "        vertical-align: middle;\n",
       "    }\n",
       "\n",
       "    .dataframe tbody tr th {\n",
       "        vertical-align: top;\n",
       "    }\n",
       "\n",
       "    .dataframe thead tr th {\n",
       "        text-align: left;\n",
       "    }\n",
       "\n",
       "    .dataframe thead tr:last-of-type th {\n",
       "        text-align: right;\n",
       "    }\n",
       "</style>\n",
       "<table border=\"1\" class=\"dataframe\">\n",
       "  <thead>\n",
       "    <tr>\n",
       "      <th></th>\n",
       "      <th colspan=\"6\" halign=\"left\">emp_firm</th>\n",
       "    </tr>\n",
       "    <tr>\n",
       "      <th></th>\n",
       "      <th>min</th>\n",
       "      <th>max</th>\n",
       "      <th>mean</th>\n",
       "      <th>median</th>\n",
       "      <th>std</th>\n",
       "      <th>size</th>\n",
       "    </tr>\n",
       "    <tr>\n",
       "      <th>emp10bins</th>\n",
       "      <th></th>\n",
       "      <th></th>\n",
       "      <th></th>\n",
       "      <th></th>\n",
       "      <th></th>\n",
       "      <th></th>\n",
       "    </tr>\n",
       "  </thead>\n",
       "  <tbody>\n",
       "    <tr>\n",
       "      <th>(99.999, 130.0]</th>\n",
       "      <td>100.0</td>\n",
       "      <td>130.0</td>\n",
       "      <td>112.814815</td>\n",
       "      <td>110.0</td>\n",
       "      <td>11.201540</td>\n",
       "      <td>54</td>\n",
       "    </tr>\n",
       "    <tr>\n",
       "      <th>(130.0, 163.0]</th>\n",
       "      <td>132.0</td>\n",
       "      <td>163.0</td>\n",
       "      <td>147.270833</td>\n",
       "      <td>150.0</td>\n",
       "      <td>8.327702</td>\n",
       "      <td>48</td>\n",
       "    </tr>\n",
       "    <tr>\n",
       "      <th>(163.0, 200.0]</th>\n",
       "      <td>165.0</td>\n",
       "      <td>200.0</td>\n",
       "      <td>186.666667</td>\n",
       "      <td>185.0</td>\n",
       "      <td>12.754577</td>\n",
       "      <td>54</td>\n",
       "    </tr>\n",
       "    <tr>\n",
       "      <th>(200.0, 260.0]</th>\n",
       "      <td>202.0</td>\n",
       "      <td>260.0</td>\n",
       "      <td>235.301887</td>\n",
       "      <td>230.0</td>\n",
       "      <td>18.969191</td>\n",
       "      <td>53</td>\n",
       "    </tr>\n",
       "    <tr>\n",
       "      <th>(260.0, 343.5]</th>\n",
       "      <td>262.0</td>\n",
       "      <td>343.0</td>\n",
       "      <td>302.545455</td>\n",
       "      <td>300.0</td>\n",
       "      <td>20.824242</td>\n",
       "      <td>44</td>\n",
       "    </tr>\n",
       "    <tr>\n",
       "      <th>(343.5, 420.0]</th>\n",
       "      <td>344.0</td>\n",
       "      <td>420.0</td>\n",
       "      <td>376.411765</td>\n",
       "      <td>370.0</td>\n",
       "      <td>26.832947</td>\n",
       "      <td>51</td>\n",
       "    </tr>\n",
       "    <tr>\n",
       "      <th>(420.0, 600.0]</th>\n",
       "      <td>423.0</td>\n",
       "      <td>600.0</td>\n",
       "      <td>510.728814</td>\n",
       "      <td>500.0</td>\n",
       "      <td>62.025810</td>\n",
       "      <td>59</td>\n",
       "    </tr>\n",
       "    <tr>\n",
       "      <th>(600.0, 880.0]</th>\n",
       "      <td>615.0</td>\n",
       "      <td>880.0</td>\n",
       "      <td>749.952381</td>\n",
       "      <td>750.0</td>\n",
       "      <td>70.299690</td>\n",
       "      <td>42</td>\n",
       "    </tr>\n",
       "    <tr>\n",
       "      <th>(880.0, 1675.0]</th>\n",
       "      <td>890.0</td>\n",
       "      <td>1650.0</td>\n",
       "      <td>1139.080000</td>\n",
       "      <td>1085.0</td>\n",
       "      <td>213.216077</td>\n",
       "      <td>50</td>\n",
       "    </tr>\n",
       "    <tr>\n",
       "      <th>(1675.0, 5000.0]</th>\n",
       "      <td>1700.0</td>\n",
       "      <td>5000.0</td>\n",
       "      <td>3109.215686</td>\n",
       "      <td>3000.0</td>\n",
       "      <td>1103.544912</td>\n",
       "      <td>51</td>\n",
       "    </tr>\n",
       "  </tbody>\n",
       "</table>\n",
       "</div>"
      ],
      "text/plain": [
       "                 emp_firm                                               \n",
       "                      min     max         mean  median          std size\n",
       "emp10bins                                                               \n",
       "(99.999, 130.0]     100.0   130.0   112.814815   110.0    11.201540   54\n",
       "(130.0, 163.0]      132.0   163.0   147.270833   150.0     8.327702   48\n",
       "(163.0, 200.0]      165.0   200.0   186.666667   185.0    12.754577   54\n",
       "(200.0, 260.0]      202.0   260.0   235.301887   230.0    18.969191   53\n",
       "(260.0, 343.5]      262.0   343.0   302.545455   300.0    20.824242   44\n",
       "(343.5, 420.0]      344.0   420.0   376.411765   370.0    26.832947   51\n",
       "(420.0, 600.0]      423.0   600.0   510.728814   500.0    62.025810   59\n",
       "(600.0, 880.0]      615.0   880.0   749.952381   750.0    70.299690   42\n",
       "(880.0, 1675.0]     890.0  1650.0  1139.080000  1085.0   213.216077   50\n",
       "(1675.0, 5000.0]   1700.0  5000.0  3109.215686  3000.0  1103.544912   51"
      ]
     },
     "execution_count": 32,
     "metadata": {},
     "output_type": "execute_result"
    }
   ],
   "source": [
    "# Summary\n",
    "df_summary = df.filter([\"emp_firm\", \"emp10bins\"]).groupby(\"emp10bins\").agg(\n",
    "    [\"min\", \"max\", \"mean\", \"median\", np.std, \"size\"]\n",
    ")\n",
    "df_summary"
   ]
  },
  {
   "cell_type": "markdown",
   "metadata": {},
   "source": [
    "<p>We can now get the midpoint of each bin by replacing the interval with the mean of each interval.</p>"
   ]
  },
  {
   "cell_type": "code",
   "execution_count": 33,
   "metadata": {},
   "outputs": [],
   "source": [
    "# Recode\n",
    "df = df.replace({\"emp10bins\": df_summary[\"emp_firm\"][\"mean\"].to_dict()})"
   ]
  },
  {
   "cell_type": "code",
   "execution_count": 34,
   "metadata": {},
   "outputs": [
    {
     "data": {
      "text/html": [
       "<div>\n",
       "<style scoped>\n",
       "    .dataframe tbody tr th:only-of-type {\n",
       "        vertical-align: middle;\n",
       "    }\n",
       "\n",
       "    .dataframe tbody tr th {\n",
       "        vertical-align: top;\n",
       "    }\n",
       "\n",
       "    .dataframe thead tr th {\n",
       "        text-align: left;\n",
       "    }\n",
       "\n",
       "    .dataframe thead tr:last-of-type th {\n",
       "        text-align: right;\n",
       "    }\n",
       "</style>\n",
       "<table border=\"1\" class=\"dataframe\">\n",
       "  <thead>\n",
       "    <tr>\n",
       "      <th></th>\n",
       "      <th colspan=\"6\" halign=\"left\">emp_firm</th>\n",
       "    </tr>\n",
       "    <tr>\n",
       "      <th></th>\n",
       "      <th>min</th>\n",
       "      <th>max</th>\n",
       "      <th>mean</th>\n",
       "      <th>median</th>\n",
       "      <th>std</th>\n",
       "      <th>size</th>\n",
       "    </tr>\n",
       "    <tr>\n",
       "      <th>emp10bins</th>\n",
       "      <th></th>\n",
       "      <th></th>\n",
       "      <th></th>\n",
       "      <th></th>\n",
       "      <th></th>\n",
       "      <th></th>\n",
       "    </tr>\n",
       "  </thead>\n",
       "  <tbody>\n",
       "    <tr>\n",
       "      <th>112.81481481481481</th>\n",
       "      <td>100.0</td>\n",
       "      <td>130.0</td>\n",
       "      <td>112.814815</td>\n",
       "      <td>110.0</td>\n",
       "      <td>11.201540</td>\n",
       "      <td>54</td>\n",
       "    </tr>\n",
       "    <tr>\n",
       "      <th>147.27083333333334</th>\n",
       "      <td>132.0</td>\n",
       "      <td>163.0</td>\n",
       "      <td>147.270833</td>\n",
       "      <td>150.0</td>\n",
       "      <td>8.327702</td>\n",
       "      <td>48</td>\n",
       "    </tr>\n",
       "    <tr>\n",
       "      <th>186.66666666666666</th>\n",
       "      <td>165.0</td>\n",
       "      <td>200.0</td>\n",
       "      <td>186.666667</td>\n",
       "      <td>185.0</td>\n",
       "      <td>12.754577</td>\n",
       "      <td>54</td>\n",
       "    </tr>\n",
       "    <tr>\n",
       "      <th>235.30188679245282</th>\n",
       "      <td>202.0</td>\n",
       "      <td>260.0</td>\n",
       "      <td>235.301887</td>\n",
       "      <td>230.0</td>\n",
       "      <td>18.969191</td>\n",
       "      <td>53</td>\n",
       "    </tr>\n",
       "    <tr>\n",
       "      <th>302.54545454545456</th>\n",
       "      <td>262.0</td>\n",
       "      <td>343.0</td>\n",
       "      <td>302.545455</td>\n",
       "      <td>300.0</td>\n",
       "      <td>20.824242</td>\n",
       "      <td>44</td>\n",
       "    </tr>\n",
       "    <tr>\n",
       "      <th>376.4117647058824</th>\n",
       "      <td>344.0</td>\n",
       "      <td>420.0</td>\n",
       "      <td>376.411765</td>\n",
       "      <td>370.0</td>\n",
       "      <td>26.832947</td>\n",
       "      <td>51</td>\n",
       "    </tr>\n",
       "    <tr>\n",
       "      <th>510.728813559322</th>\n",
       "      <td>423.0</td>\n",
       "      <td>600.0</td>\n",
       "      <td>510.728814</td>\n",
       "      <td>500.0</td>\n",
       "      <td>62.025810</td>\n",
       "      <td>59</td>\n",
       "    </tr>\n",
       "    <tr>\n",
       "      <th>749.952380952381</th>\n",
       "      <td>615.0</td>\n",
       "      <td>880.0</td>\n",
       "      <td>749.952381</td>\n",
       "      <td>750.0</td>\n",
       "      <td>70.299690</td>\n",
       "      <td>42</td>\n",
       "    </tr>\n",
       "    <tr>\n",
       "      <th>1139.08</th>\n",
       "      <td>890.0</td>\n",
       "      <td>1650.0</td>\n",
       "      <td>1139.080000</td>\n",
       "      <td>1085.0</td>\n",
       "      <td>213.216077</td>\n",
       "      <td>50</td>\n",
       "    </tr>\n",
       "    <tr>\n",
       "      <th>3109.2156862745096</th>\n",
       "      <td>1700.0</td>\n",
       "      <td>5000.0</td>\n",
       "      <td>3109.215686</td>\n",
       "      <td>3000.0</td>\n",
       "      <td>1103.544912</td>\n",
       "      <td>51</td>\n",
       "    </tr>\n",
       "  </tbody>\n",
       "</table>\n",
       "</div>"
      ],
      "text/plain": [
       "                   emp_firm                                               \n",
       "                        min     max         mean  median          std size\n",
       "emp10bins                                                                 \n",
       "112.81481481481481    100.0   130.0   112.814815   110.0    11.201540   54\n",
       "147.27083333333334    132.0   163.0   147.270833   150.0     8.327702   48\n",
       "186.66666666666666    165.0   200.0   186.666667   185.0    12.754577   54\n",
       "235.30188679245282    202.0   260.0   235.301887   230.0    18.969191   53\n",
       "302.54545454545456    262.0   343.0   302.545455   300.0    20.824242   44\n",
       "376.4117647058824     344.0   420.0   376.411765   370.0    26.832947   51\n",
       "510.728813559322      423.0   600.0   510.728814   500.0    62.025810   59\n",
       "749.952380952381      615.0   880.0   749.952381   750.0    70.299690   42\n",
       "1139.08               890.0  1650.0  1139.080000  1085.0   213.216077   50\n",
       "3109.2156862745096   1700.0  5000.0  3109.215686  3000.0  1103.544912   51"
      ]
     },
     "execution_count": 34,
     "metadata": {},
     "output_type": "execute_result"
    }
   ],
   "source": [
    "df.filter([\"emp_firm\", \"emp10bins\"]).groupby(\"emp10bins\").agg(\n",
    "    [\"min\", \"max\", \"mean\", \"median\", np.std, \"size\"]\n",
    ")"
   ]
  },
  {
   "cell_type": "code",
   "execution_count": 35,
   "metadata": {},
   "outputs": [
    {
     "data": {
      "text/html": [
       "<div>\n",
       "<style scoped>\n",
       "    .dataframe tbody tr th:only-of-type {\n",
       "        vertical-align: middle;\n",
       "    }\n",
       "\n",
       "    .dataframe tbody tr th {\n",
       "        vertical-align: top;\n",
       "    }\n",
       "\n",
       "    .dataframe thead th {\n",
       "        text-align: right;\n",
       "    }\n",
       "</style>\n",
       "<table border=\"1\" class=\"dataframe\">\n",
       "  <thead>\n",
       "    <tr style=\"text-align: right;\">\n",
       "      <th></th>\n",
       "      <th>emp10bins</th>\n",
       "      <th>management_emp10bins</th>\n",
       "    </tr>\n",
       "  </thead>\n",
       "  <tbody>\n",
       "    <tr>\n",
       "      <th>0</th>\n",
       "      <td>112.814815</td>\n",
       "      <td>2.365226</td>\n",
       "    </tr>\n",
       "    <tr>\n",
       "      <th>1</th>\n",
       "      <td>147.270833</td>\n",
       "      <td>2.393519</td>\n",
       "    </tr>\n",
       "    <tr>\n",
       "      <th>2</th>\n",
       "      <td>186.666667</td>\n",
       "      <td>2.575103</td>\n",
       "    </tr>\n",
       "    <tr>\n",
       "      <th>3</th>\n",
       "      <td>235.301887</td>\n",
       "      <td>2.631027</td>\n",
       "    </tr>\n",
       "    <tr>\n",
       "      <th>4</th>\n",
       "      <td>302.545455</td>\n",
       "      <td>2.584596</td>\n",
       "    </tr>\n",
       "    <tr>\n",
       "      <th>5</th>\n",
       "      <td>376.411765</td>\n",
       "      <td>2.732026</td>\n",
       "    </tr>\n",
       "    <tr>\n",
       "      <th>6</th>\n",
       "      <td>510.728814</td>\n",
       "      <td>2.905838</td>\n",
       "    </tr>\n",
       "    <tr>\n",
       "      <th>7</th>\n",
       "      <td>749.952381</td>\n",
       "      <td>2.837302</td>\n",
       "    </tr>\n",
       "    <tr>\n",
       "      <th>8</th>\n",
       "      <td>1139.080000</td>\n",
       "      <td>3.073333</td>\n",
       "    </tr>\n",
       "    <tr>\n",
       "      <th>9</th>\n",
       "      <td>3109.215686</td>\n",
       "      <td>3.242919</td>\n",
       "    </tr>\n",
       "  </tbody>\n",
       "</table>\n",
       "</div>"
      ],
      "text/plain": [
       "     emp10bins  management_emp10bins\n",
       "0   112.814815              2.365226\n",
       "1   147.270833              2.393519\n",
       "2   186.666667              2.575103\n",
       "3   235.301887              2.631027\n",
       "4   302.545455              2.584596\n",
       "5   376.411765              2.732026\n",
       "6   510.728814              2.905838\n",
       "7   749.952381              2.837302\n",
       "8  1139.080000              3.073333\n",
       "9  3109.215686              3.242919"
      ]
     },
     "execution_count": 35,
     "metadata": {},
     "output_type": "execute_result"
    }
   ],
   "source": [
    "# Return variables by mean\n",
    "df1 = df.groupby(\"emp10bins\").agg(management_emp10bins=(\"management\", \"mean\")).reset_index()\n",
    "df1"
   ]
  },
  {
   "cell_type": "code",
   "execution_count": 36,
   "metadata": {},
   "outputs": [],
   "source": [
    "df1 = df1[[\"emp10bins\", \"management_emp10bins\"]].astype(\"float64\")"
   ]
  },
  {
   "cell_type": "code",
   "execution_count": 37,
   "metadata": {},
   "outputs": [
    {
     "data": {
      "image/png": "[encoded data removed]",
      "text/plain": [
       "<Figure size 640x480 with 1 Axes>"
      ]
     },
     "metadata": {},
     "output_type": "display_data"
    },
    {
     "data": {
      "text/plain": [
       "<ggplot: (190633939716)>"
      ]
     },
     "execution_count": 37,
     "metadata": {},
     "output_type": "execute_result"
    }
   ],
   "source": [
    "ggplot(df1, aes(x=\"emp10bins\", y=\"management_emp10bins\")) + geom_point(\n",
    "    size=2, color=color[2], fill=color[0], alpha=0.8, na_rm=True\n",
    ") + scale_y_continuous(\n",
    "    expand=(0.01, 0.01), limits=(2.5, 3.5), breaks=seq(2.5, 3.6, by=0.25)\n",
    ") + scale_x_continuous(\n",
    "    expand=(0.01, 0.01), limits=(0, 3500), breaks=seq(0, 3501, by=500)\n",
    ") + labs(\n",
    "    x=\"Firm size (employment), 10 bins\", y=\"Management score\"\n",
    ") + theme_bw()"
   ]
  },
  {
   "cell_type": "markdown",
   "metadata": {},
   "source": [
    "The bin scatter, binned in 10 bins, returned a somewhat **linear relationship**, as the average management score tended to increase as the firm size increased. Large firms, however, did not registered an increase in the same magnitude, yet, overall, the positive correlation between firm size and management score is clearly visible. We can also notice the high degree of **skewness** in both bin scatters, which reflects the distribution of our dataset.\n",
    "What about Brazilian firms vs Mexican firms? Well, Brazilian firms displayed a more positive correlation when compared to their Mexican counterparts. While the average value for each bin did not change significantly for Mexican firms with between around 300 and 1000 employees, Brazilian firms displayed a clearly positive correlation. And that is also related to the fact that smaller Mexican firms achieved higher scores than Brazilian ones. Perhaps in Brazil, firm size and management score are more positively correlated.\n",
    "\n",
    "We can now plot a **scatterplot** of all observations to see if all large firms really displayed better management scores considering their conditional mean values.\n",
    "\n",
    "<h3>4.3 Scatterplot</h3>"
   ]
  },
  {
   "cell_type": "code",
   "execution_count": 38,
   "metadata": {},
   "outputs": [
    {
     "data": {
      "image/png": "[encoded data removed]",
      "text/plain": [
       "<Figure size 640x480 with 1 Axes>"
      ]
     },
     "metadata": {},
     "output_type": "display_data"
    },
    {
     "data": {
      "text/plain": [
       "<ggplot: (190633992778)>"
      ]
     },
     "execution_count": 38,
     "metadata": {},
     "output_type": "execute_result"
    }
   ],
   "source": [
    "ggplot(df, aes(x=\"emp_firm\", y=\"management\")) + geom_point(\n",
    "    size=1.5, color=color[0], alpha=0.8, na_rm=True\n",
    ") + scale_y_continuous(\n",
    "    expand=(0.01, 0.01), limits=(1, 5), breaks=seq(1, 6, 1)\n",
    ") + scale_x_continuous(\n",
    "    expand=(0.01, 0.01), limits=(0, 5000), breaks=seq(0, 5001, by=1000)\n",
    ") + labs(\n",
    "    x=\"Firm size (employment)\", y=\"Management score\"\n",
    ") + theme_bw()"
   ]
  },
  {
   "cell_type": "markdown",
   "metadata": {},
   "source": [
    "<p>Because the distribution of our data is highly skewed, we cannot see a clear pattern. We can apply the natural log of the employment on the x axis, which translates into a stretched difference between firms at lower levels of employment. Let's observe the results below:</p>"
   ]
  },
  {
   "cell_type": "code",
   "execution_count": 39,
   "metadata": {},
   "outputs": [],
   "source": [
    "df[\"lnemp\"] = np.log(df[\"emp_firm\"])"
   ]
  },
  {
   "cell_type": "code",
   "execution_count": 40,
   "metadata": {},
   "outputs": [
    {
     "data": {
      "image/png": "[encoded data removed]",
      "text/plain": [
       "<Figure size 640x480 with 1 Axes>"
      ]
     },
     "metadata": {},
     "output_type": "display_data"
    },
    {
     "data": {
      "text/plain": [
       "<ggplot: (190633788314)>"
      ]
     },
     "execution_count": 40,
     "metadata": {},
     "output_type": "execute_result"
    }
   ],
   "source": [
    "ggplot(df, aes(x=\"lnemp\", y=\"management\")) + geom_point(\n",
    "    size=1.5, color=color[0], alpha=0.8, na_rm=True\n",
    ") + scale_y_continuous(\n",
    "    expand=(0.01, 0.01), limits=(1, 5), breaks=seq(1, 6, 1)\n",
    ") + scale_x_continuous(\n",
    "    expand=(0.01, 0.01), limits=(4, 9), breaks=seq(4, 10, by=1)\n",
    ") + labs(\n",
    "    x=\"Firm size (ln(employment))\", y=\"Management score\"\n",
    ") + theme_bw()"
   ]
  },
  {
   "cell_type": "markdown",
   "metadata": {},
   "source": [
    "<p>With our observations spread out, we can observe a positive correlation between management score and firm size. However, we also see a lot of variation of the management score at every level of employment - there is a lot of spread of the management score among firms with the same size.</p>\n",
    "<p>Brazilian and Mexican firms displayed a similar degree of spread of the data. Across all firm sizes, we can see a lot of variation despite the visible positive correlation between the dependent and the explanatory variable.</p>\n",
    "<p>To get more insight into whether - and to what extent - the spread or skewness of the managmeent score distribution differ at different levels of employments, we can produce <b>box plots</b> and <b>violin plots</b> of the management score for three employment bins.</p>\n",
    "<h3>4.4 Box plots and violin plots to visualize the spread of the data</h3>"
   ]
  },
  {
   "cell_type": "code",
   "execution_count": 41,
   "metadata": {},
   "outputs": [],
   "source": [
    "df = df.replace({\"emp3bins\":{\n",
    "                    150: \"Small\",\n",
    "                    600: \"Medium\",\n",
    "                    3000: \"Large\",}\n",
    "                    })"
   ]
  },
  {
   "cell_type": "code",
   "execution_count": 42,
   "metadata": {},
   "outputs": [
    {
     "data": {
      "image/png": "[encoded data removed]",
      "text/plain": [
       "<Figure size 640x480 with 1 Axes>"
      ]
     },
     "metadata": {},
     "output_type": "display_data"
    },
    {
     "data": {
      "text/plain": [
       "<ggplot: (190634076827)>"
      ]
     },
     "execution_count": 42,
     "metadata": {},
     "output_type": "execute_result"
    }
   ],
   "source": [
    "# Bot plots\n",
    "ggplot(df, aes(x=\"pd.Categorical(df['emp3bins'], categories=sorted(set(df['emp3bins']), reverse=True))\",\n",
    "               y=\"management\",\n",
    "               ),\n",
    "    ) + stat_boxplot(\n",
    "        aes(group=\"emp3bins\"),\n",
    "        geom=\"errorbar\",\n",
    "        width=0.5,\n",
    "        color=(color[1], color[0], color[2]),\n",
    "        size=0.5,\n",
    "        na_rm=True,\n",
    "    ) + geom_boxplot(\n",
    "        aes(group=\"emp3bins\"),\n",
    "        color=(color[2], color[0], color[1]),\n",
    "        size=0.5,\n",
    "        alpha=0.5,\n",
    "        na_rm=True,\n",
    "    ) + labs(\n",
    "        x=\"Firm size (employment), 3 bins\",\n",
    "        y=\"Management score\"\n",
    "    ) + scale_y_continuous(\n",
    "        expand=(0.01, 0.01), limits=(1, 5), breaks=seq(1, 5, 1)\n",
    "    ) + theme_bw()"
   ]
  },
  {
   "cell_type": "code",
   "execution_count": 43,
   "metadata": {},
   "outputs": [
    {
     "data": {
      "image/png": "[encoded data removed]",
      "text/plain": [
       "<Figure size 640x480 with 1 Axes>"
      ]
     },
     "metadata": {},
     "output_type": "display_data"
    },
    {
     "data": {
      "text/plain": [
       "<ggplot: (190634202788)>"
      ]
     },
     "execution_count": 43,
     "metadata": {},
     "output_type": "execute_result"
    }
   ],
   "source": [
    "ggplot(df, \n",
    "       aes(x=\"pd.Categorical(df['emp3bins'], categories=sorted(set(df['emp3bins']), reverse=True))\",\n",
    "           y=\"management\",\n",
    "           color=\"emp3bins\",\n",
    "           fill=\"emp3bins\",    \n",
    "               ),\n",
    "    ) + geom_violin(\n",
    "        aes(group=\"emp3bins\"),\n",
    "        alpha=0.3,\n",
    "        size=0.3,\n",
    "        trim=False,\n",
    "        show_legend=False,\n",
    "        na_rm=True,\n",
    "    ) + geom_boxplot(\n",
    "        aes(group=\"emp3bins\"),\n",
    "        size=0.5,\n",
    "        alpha=0.3,\n",
    "        width=0.2,\n",
    "        na_rm=True,\n",
    "    ) + labs(\n",
    "        x=\"Firm size (employment), 3 bins\",\n",
    "        y=\"Management score\"\n",
    "    ) + scale_y_continuous(\n",
    "        expand=(0.01, 0.01), limits=(0, 6), breaks=seq(0, 7, 1)\n",
    "    ) + guides(\n",
    "        fill=False, color=False\n",
    "    ) + theme_bw()"
   ]
  },
  {
   "cell_type": "markdown",
   "metadata": {},
   "source": [
    "We can notice a few things regarding those two plots.\n",
    "- As the firm size increase, Brazilian firms displayed a **higher median management score**. \n",
    "- This positive pattern is noticeable in other statistics. The **min, max, lower, and upper quartiles** also increase as the firm size increase.\n",
    "- There is a significant difference when considering the spread of the data vs Mexican firms. Small companies in Brazil display a **wider spread of management score**, while that was the oposite case in Mexican firms with a similar size. Overall, Mexican firms displayed higher median values as well.\n",
    "- The violin plot helps us observe the concentration of the data around certain areas. Here, we can notice how Brazilian small firms display a wider spread of data. This pattern is somewhat noticeable among medium and large-sized firmes too, as the shape of the violin plots is larger around the median yet not too narrow on the end parts.\n",
    "\n",
    "<h3>4.5 Correlation and latent variable</h3>\n",
    "<p>A <b>latent variable</b> is an abstract variable, which is not a part of the dataset by itself, as it cannot be directly measured. Instead, we use <b>proxy variables</b>, which indeed replace them as a way to measure its original variables.</p>\n",
    "<p>"
   ]
  },
  {
   "cell_type": "code",
   "execution_count": 44,
   "metadata": {},
   "outputs": [],
   "source": [
    "# get the covariance between firm size and management score\n",
    "covariance = round(df[\"emp_firm\"].cov(df[\"management\"]),2)"
   ]
  },
  {
   "cell_type": "code",
   "execution_count": 45,
   "metadata": {},
   "outputs": [
    {
     "data": {
      "text/html": [
       "<div>\n",
       "<style scoped>\n",
       "    .dataframe tbody tr th:only-of-type {\n",
       "        vertical-align: middle;\n",
       "    }\n",
       "\n",
       "    .dataframe tbody tr th {\n",
       "        vertical-align: top;\n",
       "    }\n",
       "\n",
       "    .dataframe thead th {\n",
       "        text-align: right;\n",
       "    }\n",
       "</style>\n",
       "<table border=\"1\" class=\"dataframe\">\n",
       "  <thead>\n",
       "    <tr style=\"text-align: right;\">\n",
       "      <th></th>\n",
       "      <th>covariance</th>\n",
       "      <th>firm_size_std</th>\n",
       "      <th>management_score_std</th>\n",
       "      <th>corr_coef</th>\n",
       "    </tr>\n",
       "  </thead>\n",
       "  <tbody>\n",
       "    <tr>\n",
       "      <th>0</th>\n",
       "      <td>206.38</td>\n",
       "      <td>936.190571</td>\n",
       "      <td>0.588271</td>\n",
       "      <td>0.374735</td>\n",
       "    </tr>\n",
       "  </tbody>\n",
       "</table>\n",
       "</div>"
      ],
      "text/plain": [
       "   covariance  firm_size_std  management_score_std  corr_coef\n",
       "0      206.38     936.190571              0.588271   0.374735"
      ]
     },
     "execution_count": 45,
     "metadata": {},
     "output_type": "execute_result"
    }
   ],
   "source": [
    "df_results = pd.DataFrame(\n",
    "    data={\"covariance\": covariance,\n",
    "     \"firm_size_std\": df[\"emp_firm\"].std(),\n",
    "     \"management_score_std\": df[\"management\"].std(),\n",
    "     \"corr_coef\": df[\"emp_firm\"].corr(df[\"management\"])},\n",
    "     index=[0]\n",
    ")\n",
    "df_results"
   ]
  },
  {
   "cell_type": "markdown",
   "metadata": {},
   "source": [
    "<p>As we can see, the covariance between firm size and the management score is <b>206</b>. The standard deviation for both variables is <b>936.19</b> and <b>0.58</b>, respectively. The correlation coefficient is <b>0.30</b>. This outcome hints at a <b>positive</b> association, whereas firms with more employees tend to have higher management score. Such magnitude, however, is moderate, as other factors may impinge on management score in addition to the size of a company.</p>\n",
    "<p>Brazilian firms displayed a <b>more positive correlation</b> between firm size and management score than Mexican firms. For the latter, the coefficient was 0.30 and the standard deviation for management score, 0.60.</p>\n",
    "<p>We can analyze the correlation coefficient in seven broad categories of industrial classification (in addition to one \"other\" category with the industry with very few firms, combined)."
   ]
  },
  {
   "cell_type": "code",
   "execution_count": 46,
   "metadata": {},
   "outputs": [],
   "source": [
    "# Correlation by industry\n",
    "df[\"industry_broad\"] = pd.np.NaN\n",
    "df.loc[df[\"sic\"] <= 21, \"industry_broad\"] = \"foods_drink_tobacco\"\n",
    "df.loc[\n",
    "    ((df[\"sic\"] >= 22) & (df[\"sic\"] <= 23)) | (df[\"sic\"] == 31), \"industry_broad\" \n",
    "] = \"textile_apparel_leather_etc\"\n",
    "df.loc[(df[\"sic\"] >= 24) & (df[\"sic\"] <= 27), \"industry_broad\"] = \"wood_furniture_paper\"\n",
    "df.loc[(df[\"sic\"] >= 28) & (df[\"sic\"] <= 30), \"industry_broad\"] = \"chemicals_etc\"\n",
    "df.loc[(df[\"sic\"] >= 32) & (df[\"sic\"] < 35), \"industry_broad\"] = \"materials_metals\"\n",
    "df.loc[(df[\"sic\"] >= 35) & (df[\"sic\"] <= 37), \"industry_broad\"] = \"electronics\"\n",
    "df.loc[(df[\"sic\"] == 37) , \"industry_broad\"] = \"auto\"\n",
    "df.loc[(df[\"sic\"] >= 38) , \"industry_broad\"] = \"other\""
   ]
  },
  {
   "cell_type": "code",
   "execution_count": 47,
   "metadata": {},
   "outputs": [
    {
     "data": {
      "text/plain": [
       "chemicals_etc                  95\n",
       "foods_drink_tobacco            76\n",
       "electronics                    73\n",
       "textile_apparel_leather_etc    71\n",
       "wood_furniture_paper           70\n",
       "materials_metals               65\n",
       "auto                           44\n",
       "other                          12\n",
       "Name: industry_broad, dtype: int64"
      ]
     },
     "execution_count": 47,
     "metadata": {},
     "output_type": "execute_result"
    }
   ],
   "source": [
    "df[\"industry_broad\"].value_counts()"
   ]
  },
  {
   "cell_type": "code",
   "execution_count": 48,
   "metadata": {},
   "outputs": [
    {
     "data": {
      "text/plain": [
       "industry_broad                         \n",
       "auto                         management    0.278674\n",
       "chemicals_etc                management    0.302323\n",
       "electronics                  management    0.547152\n",
       "foods_drink_tobacco          management    0.332849\n",
       "materials_metals             management    0.381071\n",
       "other                        management    0.270929\n",
       "textile_apparel_leather_etc  management    0.391246\n",
       "wood_furniture_paper         management    0.527765\n",
       "Name: emp_firm, dtype: float64"
      ]
     },
     "execution_count": 48,
     "metadata": {},
     "output_type": "execute_result"
    }
   ],
   "source": [
    "# Check correlation\n",
    "df.groupby(\"industry_broad\")[\"management\", \"emp_firm\"].corr().iloc[0::2, -1]"
   ]
  },
  {
   "cell_type": "code",
   "execution_count": 49,
   "metadata": {},
   "outputs": [
    {
     "data": {
      "text/html": [
       "<div>\n",
       "<style scoped>\n",
       "    .dataframe tbody tr th:only-of-type {\n",
       "        vertical-align: middle;\n",
       "    }\n",
       "\n",
       "    .dataframe tbody tr th {\n",
       "        vertical-align: top;\n",
       "    }\n",
       "\n",
       "    .dataframe thead th {\n",
       "        text-align: right;\n",
       "    }\n",
       "</style>\n",
       "<table border=\"1\" class=\"dataframe\">\n",
       "  <thead>\n",
       "    <tr style=\"text-align: right;\">\n",
       "      <th></th>\n",
       "      <th>Min</th>\n",
       "      <th>Max</th>\n",
       "      <th>SD</th>\n",
       "      <th>Median</th>\n",
       "      <th>n</th>\n",
       "    </tr>\n",
       "    <tr>\n",
       "      <th>industry_broad</th>\n",
       "      <th></th>\n",
       "      <th></th>\n",
       "      <th></th>\n",
       "      <th></th>\n",
       "      <th></th>\n",
       "    </tr>\n",
       "  </thead>\n",
       "  <tbody>\n",
       "    <tr>\n",
       "      <th>auto</th>\n",
       "      <td>1.388889</td>\n",
       "      <td>4.388889</td>\n",
       "      <td>0.558338</td>\n",
       "      <td>3.055556</td>\n",
       "      <td>44</td>\n",
       "    </tr>\n",
       "    <tr>\n",
       "      <th>chemicals_etc</th>\n",
       "      <td>1.111111</td>\n",
       "      <td>3.944444</td>\n",
       "      <td>0.511611</td>\n",
       "      <td>2.833333</td>\n",
       "      <td>95</td>\n",
       "    </tr>\n",
       "    <tr>\n",
       "      <th>electronics</th>\n",
       "      <td>1.555556</td>\n",
       "      <td>4.277778</td>\n",
       "      <td>0.617068</td>\n",
       "      <td>2.944444</td>\n",
       "      <td>73</td>\n",
       "    </tr>\n",
       "    <tr>\n",
       "      <th>foods_drink_tobacco</th>\n",
       "      <td>1.166667</td>\n",
       "      <td>4.222222</td>\n",
       "      <td>0.640897</td>\n",
       "      <td>2.666667</td>\n",
       "      <td>76</td>\n",
       "    </tr>\n",
       "    <tr>\n",
       "      <th>materials_metals</th>\n",
       "      <td>1.055556</td>\n",
       "      <td>4.222222</td>\n",
       "      <td>0.557378</td>\n",
       "      <td>2.777778</td>\n",
       "      <td>65</td>\n",
       "    </tr>\n",
       "    <tr>\n",
       "      <th>other</th>\n",
       "      <td>1.555556</td>\n",
       "      <td>3.111111</td>\n",
       "      <td>0.440295</td>\n",
       "      <td>2.916667</td>\n",
       "      <td>12</td>\n",
       "    </tr>\n",
       "    <tr>\n",
       "      <th>textile_apparel_leather_etc</th>\n",
       "      <td>1.444444</td>\n",
       "      <td>3.555556</td>\n",
       "      <td>0.488979</td>\n",
       "      <td>2.500000</td>\n",
       "      <td>71</td>\n",
       "    </tr>\n",
       "    <tr>\n",
       "      <th>wood_furniture_paper</th>\n",
       "      <td>1.166667</td>\n",
       "      <td>4.500000</td>\n",
       "      <td>0.636101</td>\n",
       "      <td>2.527778</td>\n",
       "      <td>70</td>\n",
       "    </tr>\n",
       "  </tbody>\n",
       "</table>\n",
       "</div>"
      ],
      "text/plain": [
       "                                  Min       Max        SD    Median   n\n",
       "industry_broad                                                         \n",
       "auto                         1.388889  4.388889  0.558338  3.055556  44\n",
       "chemicals_etc                1.111111  3.944444  0.511611  2.833333  95\n",
       "electronics                  1.555556  4.277778  0.617068  2.944444  73\n",
       "foods_drink_tobacco          1.166667  4.222222  0.640897  2.666667  76\n",
       "materials_metals             1.055556  4.222222  0.557378  2.777778  65\n",
       "other                        1.555556  3.111111  0.440295  2.916667  12\n",
       "textile_apparel_leather_etc  1.444444  3.555556  0.488979  2.500000  71\n",
       "wood_furniture_paper         1.166667  4.500000  0.636101  2.527778  70"
      ]
     },
     "execution_count": 49,
     "metadata": {},
     "output_type": "execute_result"
    }
   ],
   "source": [
    "df.filter([\"management\", \"industry_broad\"]).loc[\n",
    "    lambda x: ~x[\"industry_broad\"].isnull()\n",
    "].groupby(\"industry_broad\").agg(\n",
    "    Min=(\"management\", min),\n",
    "    Max=(\"management\", max),\n",
    "    SD=(\"management\", np.std),\n",
    "    Median=(\"management\", \"median\"),\n",
    "    n=(\"management\", \"size\")\n",
    ")"
   ]
  },
  {
   "cell_type": "code",
   "execution_count": 50,
   "metadata": {},
   "outputs": [],
   "source": [
    "# Check correlation\n",
    "cor = (\n",
    "    pd.DataFrame(\n",
    "        df.groupby(\"industry_broad\")[\"management\", \"emp_firm\"].corr().iloc[0::2, -1]\n",
    "    )\n",
    "    .reset_index()\n",
    "    .drop([\"level_1\"], axis=1)\n",
    ")"
   ]
  },
  {
   "cell_type": "code",
   "execution_count": 51,
   "metadata": {},
   "outputs": [],
   "source": [
    "cor.columns = [\"industry_broad\", \"COR\"]\n",
    "cor = cor.set_index(\"industry_broad\")"
   ]
  },
  {
   "cell_type": "code",
   "execution_count": 52,
   "metadata": {},
   "outputs": [],
   "source": [
    "table = (\n",
    "    df.filter([\"emp_firm\", \"industry_broad\", \"management\"])\n",
    "    .groupby(\"industry_broad\")\n",
    "    .agg(Mean=(\"management\", \"mean\"), Obs=(\"management\", \"size\"))\n",
    ")\n",
    "\n",
    "table[\"cor\"] = cor[\"COR\"]"
   ]
  },
  {
   "cell_type": "code",
   "execution_count": 54,
   "metadata": {},
   "outputs": [
    {
     "data": {
      "text/html": [
       "<div>\n",
       "<style scoped>\n",
       "    .dataframe tbody tr th:only-of-type {\n",
       "        vertical-align: middle;\n",
       "    }\n",
       "\n",
       "    .dataframe tbody tr th {\n",
       "        vertical-align: top;\n",
       "    }\n",
       "\n",
       "    .dataframe thead th {\n",
       "        text-align: right;\n",
       "    }\n",
       "</style>\n",
       "<table border=\"1\" class=\"dataframe\">\n",
       "  <thead>\n",
       "    <tr style=\"text-align: right;\">\n",
       "      <th></th>\n",
       "      <th>Mean</th>\n",
       "      <th>Obs</th>\n",
       "      <th>cor</th>\n",
       "    </tr>\n",
       "  </thead>\n",
       "  <tbody>\n",
       "    <tr>\n",
       "      <th>Auto</th>\n",
       "      <td>2.95</td>\n",
       "      <td>44</td>\n",
       "      <td>0.28</td>\n",
       "    </tr>\n",
       "    <tr>\n",
       "      <th>Chemicals</th>\n",
       "      <td>2.88</td>\n",
       "      <td>95</td>\n",
       "      <td>0.30</td>\n",
       "    </tr>\n",
       "    <tr>\n",
       "      <th>Machinery, equipment, electroncis</th>\n",
       "      <td>2.90</td>\n",
       "      <td>73</td>\n",
       "      <td>0.55</td>\n",
       "    </tr>\n",
       "    <tr>\n",
       "      <th>Food, frinks, tobacco</th>\n",
       "      <td>2.63</td>\n",
       "      <td>76</td>\n",
       "      <td>0.33</td>\n",
       "    </tr>\n",
       "    <tr>\n",
       "      <th>Materials, metals</th>\n",
       "      <td>2.71</td>\n",
       "      <td>65</td>\n",
       "      <td>0.38</td>\n",
       "    </tr>\n",
       "    <tr>\n",
       "      <th>Textile, apparel, leather</th>\n",
       "      <td>2.73</td>\n",
       "      <td>12</td>\n",
       "      <td>0.27</td>\n",
       "    </tr>\n",
       "    <tr>\n",
       "      <th>Wood, furniture, paper</th>\n",
       "      <td>2.52</td>\n",
       "      <td>71</td>\n",
       "      <td>0.39</td>\n",
       "    </tr>\n",
       "    <tr>\n",
       "      <th>Other</th>\n",
       "      <td>2.59</td>\n",
       "      <td>70</td>\n",
       "      <td>0.53</td>\n",
       "    </tr>\n",
       "  </tbody>\n",
       "</table>\n",
       "</div>"
      ],
      "text/plain": [
       "                                   Mean  Obs   cor\n",
       "Auto                               2.95   44  0.28\n",
       "Chemicals                          2.88   95  0.30\n",
       "Machinery, equipment, electroncis  2.90   73  0.55\n",
       "Food, frinks, tobacco              2.63   76  0.33\n",
       "Materials, metals                  2.71   65  0.38\n",
       "Textile, apparel, leather          2.73   12  0.27\n",
       "Wood, furniture, paper             2.52   71  0.39\n",
       "Other                              2.59   70  0.53"
      ]
     },
     "execution_count": 54,
     "metadata": {},
     "output_type": "execute_result"
    }
   ],
   "source": [
    "table.index = [\n",
    "    \"Auto\",\n",
    "    \"Chemicals\",\n",
    "    \"Machinery, equipment, electroncis\",\n",
    "    \"Food, drinks, tobacco\",\n",
    "    \"Materials, metals\",\n",
    "    \"Textile, apparel, leather\",\n",
    "    \"Wood, furniture, paper\",\n",
    "    \"Other\",\n",
    "]\n",
    "table.round(2)"
   ]
  },
  {
   "cell_type": "code",
   "execution_count": 56,
   "metadata": {},
   "outputs": [],
   "source": [
    "last_row = (\n",
    "    table.groupby(lambda _: True)\n",
    "    .agg(Mean=(\"Mean\", \"mean\"), Obs=(\"Obs\", \"sum\"), cor=(\"cor\", \"mean\"))\n",
    "    .reset_index(drop=True)\n",
    ")\n",
    "\n",
    "last_row.index = [\"All\"]"
   ]
  },
  {
   "cell_type": "code",
   "execution_count": 57,
   "metadata": {},
   "outputs": [],
   "source": [
    "table = table.append(last_row)"
   ]
  },
  {
   "cell_type": "code",
   "execution_count": 58,
   "metadata": {},
   "outputs": [],
   "source": [
    "table = table.loc[:, [\"cor\", \"Mean\", \"Obs\"]].reset_index()\n",
    "table.columns = [\n",
    "    \"Industry\",\n",
    "    \"Management - employment correlation\",\n",
    "    \"Management score\",\n",
    "    \"Observations\",\n",
    "]"
   ]
  },
  {
   "cell_type": "code",
   "execution_count": 59,
   "metadata": {},
   "outputs": [
    {
     "data": {
      "text/html": [
       "<div>\n",
       "<style scoped>\n",
       "    .dataframe tbody tr th:only-of-type {\n",
       "        vertical-align: middle;\n",
       "    }\n",
       "\n",
       "    .dataframe tbody tr th {\n",
       "        vertical-align: top;\n",
       "    }\n",
       "\n",
       "    .dataframe thead th {\n",
       "        text-align: right;\n",
       "    }\n",
       "</style>\n",
       "<table border=\"1\" class=\"dataframe\">\n",
       "  <thead>\n",
       "    <tr style=\"text-align: right;\">\n",
       "      <th></th>\n",
       "      <th>Industry</th>\n",
       "      <th>Management - employment correlation</th>\n",
       "      <th>Management score</th>\n",
       "      <th>Observations</th>\n",
       "    </tr>\n",
       "  </thead>\n",
       "  <tbody>\n",
       "    <tr>\n",
       "      <th>0</th>\n",
       "      <td>Auto</td>\n",
       "      <td>0.28</td>\n",
       "      <td>2.95</td>\n",
       "      <td>44</td>\n",
       "    </tr>\n",
       "    <tr>\n",
       "      <th>1</th>\n",
       "      <td>Chemicals</td>\n",
       "      <td>0.30</td>\n",
       "      <td>2.88</td>\n",
       "      <td>95</td>\n",
       "    </tr>\n",
       "    <tr>\n",
       "      <th>2</th>\n",
       "      <td>Machinery, equipment, electroncis</td>\n",
       "      <td>0.55</td>\n",
       "      <td>2.90</td>\n",
       "      <td>73</td>\n",
       "    </tr>\n",
       "    <tr>\n",
       "      <th>3</th>\n",
       "      <td>Food, frinks, tobacco</td>\n",
       "      <td>0.33</td>\n",
       "      <td>2.63</td>\n",
       "      <td>76</td>\n",
       "    </tr>\n",
       "    <tr>\n",
       "      <th>4</th>\n",
       "      <td>Materials, metals</td>\n",
       "      <td>0.38</td>\n",
       "      <td>2.71</td>\n",
       "      <td>65</td>\n",
       "    </tr>\n",
       "    <tr>\n",
       "      <th>5</th>\n",
       "      <td>Textile, apparel, leather</td>\n",
       "      <td>0.27</td>\n",
       "      <td>2.73</td>\n",
       "      <td>12</td>\n",
       "    </tr>\n",
       "    <tr>\n",
       "      <th>6</th>\n",
       "      <td>Wood, furniture, paper</td>\n",
       "      <td>0.39</td>\n",
       "      <td>2.52</td>\n",
       "      <td>71</td>\n",
       "    </tr>\n",
       "    <tr>\n",
       "      <th>7</th>\n",
       "      <td>Other</td>\n",
       "      <td>0.53</td>\n",
       "      <td>2.59</td>\n",
       "      <td>70</td>\n",
       "    </tr>\n",
       "    <tr>\n",
       "      <th>8</th>\n",
       "      <td>All</td>\n",
       "      <td>0.38</td>\n",
       "      <td>2.74</td>\n",
       "      <td>506</td>\n",
       "    </tr>\n",
       "  </tbody>\n",
       "</table>\n",
       "</div>"
      ],
      "text/plain": [
       "                            Industry  Management - employment correlation  \\\n",
       "0                               Auto                                 0.28   \n",
       "1                          Chemicals                                 0.30   \n",
       "2  Machinery, equipment, electroncis                                 0.55   \n",
       "3              Food, frinks, tobacco                                 0.33   \n",
       "4                  Materials, metals                                 0.38   \n",
       "5          Textile, apparel, leather                                 0.27   \n",
       "6             Wood, furniture, paper                                 0.39   \n",
       "7                              Other                                 0.53   \n",
       "8                                All                                 0.38   \n",
       "\n",
       "   Management score  Observations  \n",
       "0              2.95            44  \n",
       "1              2.88            95  \n",
       "2              2.90            73  \n",
       "3              2.63            76  \n",
       "4              2.71            65  \n",
       "5              2.73            12  \n",
       "6              2.52            71  \n",
       "7              2.59            70  \n",
       "8              2.74           506  "
      ]
     },
     "execution_count": 59,
     "metadata": {},
     "output_type": "execute_result"
    }
   ],
   "source": [
    "table.round(2)"
   ]
  },
  {
   "cell_type": "markdown",
   "metadata": {},
   "source": [
    "As we can observe, the correlation between firm size and management scores varies across industries. `Other` and `Machinery, equipment, electronics` categories displayed significantly higher correlation coefficients. Other industries such as materials, metals and wood, furniture, and paper also performed slightly above the average too. It is also remarkable how the average management score did not differ as much across industriesm with a min average of 2.52 and a max of 2.95. We can conclude that other factors such as firm size may affect how well companies in Brazil perform.\n",
    "\n",
    "Now, let's compare these results with Mexican firms. First, Brazilian firms overall display a stronger correlation between firm size and management score. While some Mexican industries such as Auto and Textiles displayed significant correlation coefficients (0.50 and 0.63, respectively), others had nearly no correlation, such as Food, Drinks, and Tobacco, and Chemicals (0.05 in both cases). Mean management scores also varied more, ranging from 2.72 and 3.29. When comparing firms from both countries, thus, we can affirm that firm size holds a stronger correlation with management score in Brazil and may affect the quality of management in a higher degree than in Mexico, whose firms get higher mean scores despite firm size, in some cases.\n",
    "\n",
    "<h2>5. Conclusion</h2>\n",
    "<p>What did we learn about the association between firm size and management quality? How do these results compare to our findings for Mexico?</p>\n",
    "<ul>\n",
    "<li>Among Brazilian manufacturing firms, larger firms tend to be better managed.</li>\n",
    "<ul>\n",
    "<li>Large firms have an average score of <b>3.15</b>, compared to <b>2.75</b> for medium-sized firms, and <b>2.41</b> for small ones.</li>\n",
    "</ul>\n",
    "<li>The correlation, even though positive, is <b>not very strong</b>. Maybe other issues also affect the quality of management besides firm size.</li>\n",
    "<li>When disaggregating the results into smaller industry groups, we found that the strength of the management-size correlation differs in some industries from the rest, although we have not observed any pattern that would tell us why.</li>\n",
    "<li>Management quality is not only better, on average, among larger firms, yet it is also more <b>spread</b> among larger firms.</li>\n",
    "</ul>\n",
    "<hr>\n",
    "<h2><b>Extra</b> | Plotting box plots and violin plots</h2>\n",
    "<p>The following code plots a descriptive version of a box plot and a violin plot, informing how to read each of them and take into consideration how each of them inform us about the distribution and spread of the data.</p>"
   ]
  },
  {
   "cell_type": "code",
   "execution_count": null,
   "metadata": {},
   "outputs": [],
   "source": []
  }
 ],
 "metadata": {
  "kernelspec": {
   "display_name": "data_analysis",
   "language": "python",
   "name": "python3"
  },
  "language_info": {
   "codemirror_mode": {
    "name": "ipython",
    "version": 3
   },
   "file_extension": ".py",
   "mimetype": "text/x-python",
   "name": "python",
   "nbconvert_exporter": "python",
   "pygments_lexer": "ipython3",
   "version": "3.10.3"
  }
 },
 "nbformat": 4,
 "nbformat_minor": 2
}
