{
 "cells": [
  {
   "cell_type": "markdown",
   "metadata": {},
   "source": [
    "<h1>Chapter 2 | <b>EXTRA</b> data exercise | <b>Identifying Successful Football Managers in Brazilian Football</b></h1>\n",
    "<p>In this notebook, I'll be writing the code for the aforementionred case study of the book. The main goal is to observe and learn how to structure the data according to our neeeds, which means applying the concept of <i>tidy data</i> aas well as merging different datasets to get the desired outcome.</p>\n",
    "<p>Here, our question is: <i>who are the most successful football managers in <b>Brazil</b>?</p>\n"
   ]
  },
  {
   "cell_type": "code",
   "execution_count": 34,
   "metadata": {},
   "outputs": [],
   "source": [
    "import os\n",
    "import sys\n",
    "import warnings\n",
    "import yaml\n",
    "import numpy as np\n",
    "import pandas as pd\n",
    "import seaborn as sns\n",
    "from mizani.formatters import percent_format\n",
    "from plotnine import *\n",
    "import basedosdados as bd\n",
    "\n",
    "warnings.filterwarnings(\"ignore\")"
   ]
  },
  {
   "cell_type": "code",
   "execution_count": 35,
   "metadata": {},
   "outputs": [],
   "source": [
    "# Current script folder path\n",
    "current_path = os.getcwd()\n",
    "dirname = f\"{current_path}/data/\"\n",
    "config = f\"{current_path}/config/\"\n",
    "# Location folders\n",
    "data_in = f\"{dirname}raw/\"\n",
    "data_out = f\"{dirname}clean/\"\n",
    "\n",
    "func = f\"{current_path.split('da_data_exercises')[0]}da_case_studies/ch00-tech_prep/\"\n",
    "sys.path.append(func)"
   ]
  },
  {
   "cell_type": "code",
   "execution_count": 36,
   "metadata": {},
   "outputs": [],
   "source": [
    "with open(f\"{config}config.yaml\", \"r\") as f:\n",
    "    project_id = yaml.safe_load(f)"
   ]
  },
  {
   "cell_type": "code",
   "execution_count": 37,
   "metadata": {},
   "outputs": [],
   "source": [
    "from py_helper_functions import seq, color"
   ]
  },
  {
   "cell_type": "markdown",
   "metadata": {},
   "source": [
    "<h2>2. Extract data from Basedosdados' GBQ</h2>"
   ]
  },
  {
   "cell_type": "code",
   "execution_count": 38,
   "metadata": {},
   "outputs": [],
   "source": [
    "query = \"\"\"\n",
    "    SELECT \n",
    "  ano_campeonato AS season,\n",
    "  data AS date,\n",
    "  time_man AS home_team,\n",
    "  time_vis AS away_team,\n",
    "  tecnico_man AS manager_home,\n",
    "  tecnico_vis AS manager_away,\n",
    "  gols_man AS goals_home,\n",
    "  gols_vis AS goals_away\n",
    "    FROM `basedosdados.mundo_transfermarkt_competicoes.brasileirao_serie_a`\n",
    "    WHERE ano_campeonato >= 2012\n",
    "\"\"\""
   ]
  },
  {
   "cell_type": "code",
   "execution_count": 39,
   "metadata": {},
   "outputs": [
    {
     "name": "stderr",
     "output_type": "stream",
     "text": [
      "Downloading: 100%|██████████| 4303/4303 [00:00<00:00, 4910.21rows/s]\n"
     ]
    }
   ],
   "source": [
    "df = bd.read_sql(query, billing_project_id=project_id[\"bd_id\"])"
   ]
  },
  {
   "cell_type": "code",
   "execution_count": 40,
   "metadata": {},
   "outputs": [
    {
     "data": {
      "text/html": [
       "<div>\n",
       "<style scoped>\n",
       "    .dataframe tbody tr th:only-of-type {\n",
       "        vertical-align: middle;\n",
       "    }\n",
       "\n",
       "    .dataframe tbody tr th {\n",
       "        vertical-align: top;\n",
       "    }\n",
       "\n",
       "    .dataframe thead th {\n",
       "        text-align: right;\n",
       "    }\n",
       "</style>\n",
       "<table border=\"1\" class=\"dataframe\">\n",
       "  <thead>\n",
       "    <tr style=\"text-align: right;\">\n",
       "      <th></th>\n",
       "      <th>season</th>\n",
       "      <th>date</th>\n",
       "      <th>home_team</th>\n",
       "      <th>away_team</th>\n",
       "      <th>manager_home</th>\n",
       "      <th>manager_away</th>\n",
       "      <th>goals_home</th>\n",
       "      <th>goals_away</th>\n",
       "    </tr>\n",
       "  </thead>\n",
       "  <tbody>\n",
       "    <tr>\n",
       "      <th>0</th>\n",
       "      <td>2016</td>\n",
       "      <td>2016-09-15</td>\n",
       "      <td>Botafogo</td>\n",
       "      <td>Santos FC</td>\n",
       "      <td>Jair Ventura</td>\n",
       "      <td>Dorival Júnior</td>\n",
       "      <td>0</td>\n",
       "      <td>1</td>\n",
       "    </tr>\n",
       "    <tr>\n",
       "      <th>1</th>\n",
       "      <td>2016</td>\n",
       "      <td>2016-09-25</td>\n",
       "      <td>Flamengo</td>\n",
       "      <td>Cruzeiro</td>\n",
       "      <td>Zé Ricardo</td>\n",
       "      <td>Mano Menezes</td>\n",
       "      <td>2</td>\n",
       "      <td>1</td>\n",
       "    </tr>\n",
       "    <tr>\n",
       "      <th>2</th>\n",
       "      <td>2016</td>\n",
       "      <td>2016-10-09</td>\n",
       "      <td>Flamengo</td>\n",
       "      <td>Santa Cruz</td>\n",
       "      <td>Zé Ricardo</td>\n",
       "      <td>Doriva</td>\n",
       "      <td>3</td>\n",
       "      <td>0</td>\n",
       "    </tr>\n",
       "    <tr>\n",
       "      <th>3</th>\n",
       "      <td>2016</td>\n",
       "      <td>2016-10-23</td>\n",
       "      <td>Flamengo</td>\n",
       "      <td>Corinthians</td>\n",
       "      <td>Zé Ricardo</td>\n",
       "      <td>Oswaldo de Oliveira</td>\n",
       "      <td>2</td>\n",
       "      <td>2</td>\n",
       "    </tr>\n",
       "    <tr>\n",
       "      <th>4</th>\n",
       "      <td>2016</td>\n",
       "      <td>2016-10-13</td>\n",
       "      <td>Fluminense</td>\n",
       "      <td>Flamengo</td>\n",
       "      <td>Levir Culpi</td>\n",
       "      <td>Zé Ricardo</td>\n",
       "      <td>1</td>\n",
       "      <td>2</td>\n",
       "    </tr>\n",
       "  </tbody>\n",
       "</table>\n",
       "</div>"
      ],
      "text/plain": [
       "   season        date   home_team    away_team  manager_home  \\\n",
       "0    2016  2016-09-15    Botafogo    Santos FC  Jair Ventura   \n",
       "1    2016  2016-09-25    Flamengo     Cruzeiro    Zé Ricardo   \n",
       "2    2016  2016-10-09    Flamengo   Santa Cruz    Zé Ricardo   \n",
       "3    2016  2016-10-23    Flamengo  Corinthians    Zé Ricardo   \n",
       "4    2016  2016-10-13  Fluminense     Flamengo   Levir Culpi   \n",
       "\n",
       "          manager_away  goals_home  goals_away  \n",
       "0       Dorival Júnior           0           1  \n",
       "1         Mano Menezes           2           1  \n",
       "2               Doriva           3           0  \n",
       "3  Oswaldo de Oliveira           2           2  \n",
       "4           Zé Ricardo           1           2  "
      ]
     },
     "execution_count": 40,
     "metadata": {},
     "output_type": "execute_result"
    }
   ],
   "source": [
    "df.head()"
   ]
  },
  {
   "cell_type": "code",
   "execution_count": 42,
   "metadata": {},
   "outputs": [
    {
     "name": "stdout",
     "output_type": "stream",
     "text": [
      "<class 'pandas.core.frame.DataFrame'>\n",
      "RangeIndex: 4303 entries, 0 to 4302\n",
      "Data columns (total 8 columns):\n",
      " #   Column        Non-Null Count  Dtype \n",
      "---  ------        --------------  ----- \n",
      " 0   season        4303 non-null   Int64 \n",
      " 1   date          4303 non-null   dbdate\n",
      " 2   home_team     4303 non-null   object\n",
      " 3   away_team     4303 non-null   object\n",
      " 4   manager_home  4113 non-null   object\n",
      " 5   manager_away  4113 non-null   object\n",
      " 6   goals_home    4302 non-null   Int64 \n",
      " 7   goals_away    4302 non-null   Int64 \n",
      "dtypes: Int64(3), dbdate(1), object(4)\n",
      "memory usage: 281.7+ KB\n"
     ]
    }
   ],
   "source": [
    "df.info()"
   ]
  },
  {
   "cell_type": "code",
   "execution_count": 43,
   "metadata": {},
   "outputs": [
    {
     "data": {
      "text/plain": [
       "goals_home  goals_away\n",
       "False       False         4302\n",
       "True        True             1\n",
       "dtype: int64"
      ]
     },
     "execution_count": 43,
     "metadata": {},
     "output_type": "execute_result"
    }
   ],
   "source": [
    "df[[\"goals_home\", \"goals_away\"]].isna().value_counts()"
   ]
  },
  {
   "cell_type": "code",
   "execution_count": 44,
   "metadata": {},
   "outputs": [],
   "source": [
    "df.dropna(subset=[\"goals_home\", \"goals_away\"], inplace=True)"
   ]
  },
  {
   "cell_type": "code",
   "execution_count": 45,
   "metadata": {},
   "outputs": [],
   "source": [
    "# Create \"points_home\" variable\n",
    "df[\"points_home\"] = df.apply(\n",
    "    lambda row: 1 if row[\"goals_home\"] == row[\"goals_away\"] \n",
    "    else (3 if row[\"goals_home\"] > row[\"goals_away\"] else 0), \n",
    "    axis=1\n",
    "    )\n",
    "\n",
    "# Create \"points_away\" variable\n",
    "df[\"points_away\"] = df.apply(\n",
    "    lambda row: 1 if row[\"goals_home\"] == row[\"goals_away\"] \n",
    "    else (3 if row[\"goals_home\"] < row[\"goals_away\"] else 0), \n",
    "    axis=1\n",
    "    )"
   ]
  },
  {
   "cell_type": "code",
   "execution_count": 46,
   "metadata": {},
   "outputs": [
    {
     "data": {
      "text/html": [
       "<div>\n",
       "<style scoped>\n",
       "    .dataframe tbody tr th:only-of-type {\n",
       "        vertical-align: middle;\n",
       "    }\n",
       "\n",
       "    .dataframe tbody tr th {\n",
       "        vertical-align: top;\n",
       "    }\n",
       "\n",
       "    .dataframe thead th {\n",
       "        text-align: right;\n",
       "    }\n",
       "</style>\n",
       "<table border=\"1\" class=\"dataframe\">\n",
       "  <thead>\n",
       "    <tr style=\"text-align: right;\">\n",
       "      <th></th>\n",
       "      <th>season</th>\n",
       "      <th>date</th>\n",
       "      <th>home_team</th>\n",
       "      <th>away_team</th>\n",
       "      <th>manager_home</th>\n",
       "      <th>manager_away</th>\n",
       "      <th>goals_home</th>\n",
       "      <th>goals_away</th>\n",
       "      <th>points_home</th>\n",
       "      <th>points_away</th>\n",
       "    </tr>\n",
       "  </thead>\n",
       "  <tbody>\n",
       "    <tr>\n",
       "      <th>0</th>\n",
       "      <td>2016</td>\n",
       "      <td>2016-09-15</td>\n",
       "      <td>Botafogo</td>\n",
       "      <td>Santos FC</td>\n",
       "      <td>Jair Ventura</td>\n",
       "      <td>Dorival Júnior</td>\n",
       "      <td>0</td>\n",
       "      <td>1</td>\n",
       "      <td>0</td>\n",
       "      <td>3</td>\n",
       "    </tr>\n",
       "    <tr>\n",
       "      <th>1</th>\n",
       "      <td>2016</td>\n",
       "      <td>2016-09-25</td>\n",
       "      <td>Flamengo</td>\n",
       "      <td>Cruzeiro</td>\n",
       "      <td>Zé Ricardo</td>\n",
       "      <td>Mano Menezes</td>\n",
       "      <td>2</td>\n",
       "      <td>1</td>\n",
       "      <td>3</td>\n",
       "      <td>0</td>\n",
       "    </tr>\n",
       "    <tr>\n",
       "      <th>2</th>\n",
       "      <td>2016</td>\n",
       "      <td>2016-10-09</td>\n",
       "      <td>Flamengo</td>\n",
       "      <td>Santa Cruz</td>\n",
       "      <td>Zé Ricardo</td>\n",
       "      <td>Doriva</td>\n",
       "      <td>3</td>\n",
       "      <td>0</td>\n",
       "      <td>3</td>\n",
       "      <td>0</td>\n",
       "    </tr>\n",
       "    <tr>\n",
       "      <th>3</th>\n",
       "      <td>2016</td>\n",
       "      <td>2016-10-23</td>\n",
       "      <td>Flamengo</td>\n",
       "      <td>Corinthians</td>\n",
       "      <td>Zé Ricardo</td>\n",
       "      <td>Oswaldo de Oliveira</td>\n",
       "      <td>2</td>\n",
       "      <td>2</td>\n",
       "      <td>1</td>\n",
       "      <td>1</td>\n",
       "    </tr>\n",
       "    <tr>\n",
       "      <th>4</th>\n",
       "      <td>2016</td>\n",
       "      <td>2016-10-13</td>\n",
       "      <td>Fluminense</td>\n",
       "      <td>Flamengo</td>\n",
       "      <td>Levir Culpi</td>\n",
       "      <td>Zé Ricardo</td>\n",
       "      <td>1</td>\n",
       "      <td>2</td>\n",
       "      <td>0</td>\n",
       "      <td>3</td>\n",
       "    </tr>\n",
       "  </tbody>\n",
       "</table>\n",
       "</div>"
      ],
      "text/plain": [
       "   season        date   home_team    away_team  manager_home  \\\n",
       "0    2016  2016-09-15    Botafogo    Santos FC  Jair Ventura   \n",
       "1    2016  2016-09-25    Flamengo     Cruzeiro    Zé Ricardo   \n",
       "2    2016  2016-10-09    Flamengo   Santa Cruz    Zé Ricardo   \n",
       "3    2016  2016-10-23    Flamengo  Corinthians    Zé Ricardo   \n",
       "4    2016  2016-10-13  Fluminense     Flamengo   Levir Culpi   \n",
       "\n",
       "          manager_away  goals_home  goals_away  points_home  points_away  \n",
       "0       Dorival Júnior           0           1            0            3  \n",
       "1         Mano Menezes           2           1            3            0  \n",
       "2               Doriva           3           0            3            0  \n",
       "3  Oswaldo de Oliveira           2           2            1            1  \n",
       "4           Zé Ricardo           1           2            0            3  "
      ]
     },
     "execution_count": 46,
     "metadata": {},
     "output_type": "execute_result"
    }
   ],
   "source": [
    "df.head()"
   ]
  },
  {
   "cell_type": "code",
   "execution_count": null,
   "metadata": {},
   "outputs": [],
   "source": []
  }
 ],
 "metadata": {
  "kernelspec": {
   "display_name": "data_analysis",
   "language": "python",
   "name": "python3"
  },
  "language_info": {
   "codemirror_mode": {
    "name": "ipython",
    "version": 3
   },
   "file_extension": ".py",
   "mimetype": "text/x-python",
   "name": "python",
   "nbconvert_exporter": "python",
   "pygments_lexer": "ipython3",
   "version": "3.10.3"
  },
  "orig_nbformat": 4
 },
 "nbformat": 4,
 "nbformat_minor": 2
}
