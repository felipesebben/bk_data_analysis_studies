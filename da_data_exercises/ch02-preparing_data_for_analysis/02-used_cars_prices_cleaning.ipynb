{
 "cells": [
  {
   "cell_type": "markdown",
   "metadata": {},
   "source": [
    "<h1>Chapter 2 | Data Exercise #2 | Used cars prices: Data Preparation</h1>\n",
    "\n",
    "<p>2. Use a classified ads site and get data on the price and some of the most important characteristics of used cars. \n",
    "<p>Assignments:</p>\n",
    "<ul>\n",
    "    <li>Pick a city and a type of car (e.g. Ford Fusion).</li>\n",
    "    <li>Load and clean the data, document the cleaning, and describe the clean dataset.</li>\n",
    "    <li>Discuss any decisions you may have made.</li>\n",
    "</ul>\n",
    "\n",
    "<h2><b>1.</b> Load the data</h2>\n",
    "<p>Let's continue from where we stopped in chapter 1. We already scraped the data from a website (OLX - check chapter 1 for documentation, references and code).   \n",
    "    "
   ]
  },
  {
   "cell_type": "code",
   "execution_count": null,
   "metadata": {},
   "outputs": [],
   "source": []
  }
 ],
 "metadata": {
  "language_info": {
   "name": "python"
  },
  "orig_nbformat": 4
 },
 "nbformat": 4,
 "nbformat_minor": 2
}
