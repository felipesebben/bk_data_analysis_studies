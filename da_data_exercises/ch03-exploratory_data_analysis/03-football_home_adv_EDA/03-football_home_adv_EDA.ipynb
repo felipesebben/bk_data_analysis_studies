{
 "cells": [
  {
   "cell_type": "markdown",
   "metadata": {},
   "source": [
    "<h1>Chapter 3 | Data Exercise #3 | Measuring home team advantage | EDA</h1>\n",
    "<h2>Introduction:</h2>\n",
    "<p>In this notebook, you will find my notes and code for Chapter 3's <b>exercise 3</b> of the book <a href=\"https://gabors-data-analysis.com/\">Data Analysis for Business, Economics, and Policy</a>, by Gábor Békés and Gábor Kézdi. The question was: \n",
    "<p>3. Pick another season from <code>football</code>.</p>\n",
    "<p>Assignments:</p>\n",
    "<ul>\n",
    "    <li>Examine the extent of home team advantage in ways similar to our case study.</li>\n",
    "    <li>Compare the results and discuss what you find.</li>\n",
    "</ul>\n",
    "<h2><b>1.</b> Load the data</h2>"
   ]
  },
  {
   "cell_type": "code",
   "execution_count": 1,
   "metadata": {},
   "outputs": [],
   "source": [
    "import os\n",
    "import sys\n",
    "import warnings\n",
    "import pandas as pd\n",
    "import matplotlib.pyplot as plt\n",
    "import numpy as np\n",
    "from plotnine import *\n",
    "from mizani.formatters import percent_format\n",
    "\n",
    "warnings.filterwarnings(\"ignore\")\n",
    "%matplotlib inline"
   ]
  },
  {
   "cell_type": "code",
   "execution_count": 2,
   "metadata": {},
   "outputs": [],
   "source": [
    "# Increase number of returned rows in pandas\n",
    "pd.set_option(\"display.max_rows\", 500)"
   ]
  },
  {
   "cell_type": "code",
   "execution_count": 3,
   "metadata": {},
   "outputs": [],
   "source": [
    "# Current script folder\n",
    "current_path = os.getcwd()\n",
    "dirname = current_path.split(\"da_data_exercises\")[0]\n",
    "\n",
    "# Get location folders\n",
    "data_in = f\"{dirname}da_data_repo/football/clean/\"\n",
    "data_out = f\"{dirname}da_data_exercises/ch03-exploratory_data_analysis/03-football_home_adv_EDA/data/clean/\"\n",
    "output = f\"{dirname}da_data_exercises/ch03-exploratory_data_analysis/03-football_home_adv_EDA/\"\n",
    "func = f\"{dirname}da_case_studies/ch00-tech_prep/\"\n",
    "sys.path.append(func)"
   ]
  },
  {
   "cell_type": "code",
   "execution_count": 4,
   "metadata": {},
   "outputs": [],
   "source": [
    "from py_helper_functions import *"
   ]
  },
  {
   "cell_type": "code",
   "execution_count": 5,
   "metadata": {},
   "outputs": [],
   "source": [
    "df = pd.read_csv(f\"{data_in}epl_games.csv\")"
   ]
  },
  {
   "cell_type": "code",
   "execution_count": 6,
   "metadata": {},
   "outputs": [
    {
     "data": {
      "text/html": [
       "<div>\n",
       "<style scoped>\n",
       "    .dataframe tbody tr th:only-of-type {\n",
       "        vertical-align: middle;\n",
       "    }\n",
       "\n",
       "    .dataframe tbody tr th {\n",
       "        vertical-align: top;\n",
       "    }\n",
       "\n",
       "    .dataframe thead th {\n",
       "        text-align: right;\n",
       "    }\n",
       "</style>\n",
       "<table border=\"1\" class=\"dataframe\">\n",
       "  <thead>\n",
       "    <tr style=\"text-align: right;\">\n",
       "      <th></th>\n",
       "      <th>div</th>\n",
       "      <th>season</th>\n",
       "      <th>date</th>\n",
       "      <th>team_home</th>\n",
       "      <th>team_away</th>\n",
       "      <th>points_home</th>\n",
       "      <th>points_away</th>\n",
       "      <th>goals_home</th>\n",
       "      <th>goals_away</th>\n",
       "    </tr>\n",
       "  </thead>\n",
       "  <tbody>\n",
       "    <tr>\n",
       "      <th>0</th>\n",
       "      <td>E0</td>\n",
       "      <td>2008</td>\n",
       "      <td>16aug2008</td>\n",
       "      <td>Arsenal</td>\n",
       "      <td>West Brom</td>\n",
       "      <td>3</td>\n",
       "      <td>0</td>\n",
       "      <td>1</td>\n",
       "      <td>0</td>\n",
       "    </tr>\n",
       "    <tr>\n",
       "      <th>1</th>\n",
       "      <td>E0</td>\n",
       "      <td>2008</td>\n",
       "      <td>16aug2008</td>\n",
       "      <td>West Ham</td>\n",
       "      <td>Wigan</td>\n",
       "      <td>3</td>\n",
       "      <td>0</td>\n",
       "      <td>2</td>\n",
       "      <td>1</td>\n",
       "    </tr>\n",
       "    <tr>\n",
       "      <th>2</th>\n",
       "      <td>E0</td>\n",
       "      <td>2008</td>\n",
       "      <td>16aug2008</td>\n",
       "      <td>Middlesbrough</td>\n",
       "      <td>Tottenham</td>\n",
       "      <td>3</td>\n",
       "      <td>0</td>\n",
       "      <td>2</td>\n",
       "      <td>1</td>\n",
       "    </tr>\n",
       "    <tr>\n",
       "      <th>3</th>\n",
       "      <td>E0</td>\n",
       "      <td>2008</td>\n",
       "      <td>16aug2008</td>\n",
       "      <td>Everton</td>\n",
       "      <td>Blackburn</td>\n",
       "      <td>0</td>\n",
       "      <td>3</td>\n",
       "      <td>2</td>\n",
       "      <td>3</td>\n",
       "    </tr>\n",
       "    <tr>\n",
       "      <th>4</th>\n",
       "      <td>E0</td>\n",
       "      <td>2008</td>\n",
       "      <td>16aug2008</td>\n",
       "      <td>Bolton</td>\n",
       "      <td>Stoke</td>\n",
       "      <td>3</td>\n",
       "      <td>0</td>\n",
       "      <td>3</td>\n",
       "      <td>1</td>\n",
       "    </tr>\n",
       "  </tbody>\n",
       "</table>\n",
       "</div>"
      ],
      "text/plain": [
       "  div  season       date      team_home  team_away  points_home  points_away  \\\n",
       "0  E0    2008  16aug2008        Arsenal  West Brom            3            0   \n",
       "1  E0    2008  16aug2008       West Ham      Wigan            3            0   \n",
       "2  E0    2008  16aug2008  Middlesbrough  Tottenham            3            0   \n",
       "3  E0    2008  16aug2008        Everton  Blackburn            0            3   \n",
       "4  E0    2008  16aug2008         Bolton      Stoke            3            0   \n",
       "\n",
       "   goals_home  goals_away  \n",
       "0           1           0  \n",
       "1           2           1  \n",
       "2           2           1  \n",
       "3           2           3  \n",
       "4           3           1  "
      ]
     },
     "execution_count": 6,
     "metadata": {},
     "output_type": "execute_result"
    }
   ],
   "source": [
    "df.head()"
   ]
  },
  {
   "cell_type": "markdown",
   "metadata": {},
   "source": [
    "<h2><b>2</b>. EDA</h2>\n",
    "<h3>2.1 Pick a different season</h3>\n",
    "<p>Let's choose a different season. First, let's see the available seasons in this dataset.</p>"
   ]
  },
  {
   "cell_type": "code",
   "execution_count": 7,
   "metadata": {},
   "outputs": [
    {
     "data": {
      "text/plain": [
       "array([2008, 2009, 2010, 2011, 2012, 2013, 2014, 2015, 2016, 2017, 2018],\n",
       "      dtype=int64)"
      ]
     },
     "execution_count": 7,
     "metadata": {},
     "output_type": "execute_result"
    }
   ],
   "source": [
    "df[\"season\"].unique()"
   ]
  },
  {
   "cell_type": "markdown",
   "metadata": {},
   "source": [
    "<p>Let's choose the latest season, 2017/2018.</p>"
   ]
  },
  {
   "cell_type": "code",
   "execution_count": 8,
   "metadata": {},
   "outputs": [],
   "source": [
    "football_2017 = df.loc[df[\"season\"] == 2017, :].reset_index(drop=True)"
   ]
  },
  {
   "cell_type": "code",
   "execution_count": 9,
   "metadata": {},
   "outputs": [
    {
     "data": {
      "text/plain": [
       "(380, 9)"
      ]
     },
     "execution_count": 9,
     "metadata": {},
     "output_type": "execute_result"
    }
   ],
   "source": [
    "football_2017.shape"
   ]
  },
  {
   "cell_type": "markdown",
   "metadata": {},
   "source": [
    "<p>We can create a <code>football_2016</code> that will represent the same data as the book's. We need to compare the number of matches to see if we got our data right.</p>"
   ]
  },
  {
   "cell_type": "code",
   "execution_count": 10,
   "metadata": {},
   "outputs": [],
   "source": [
    "football_2016 = df.loc[df[\"season\"] == 2016, :].reset_index(drop=True)"
   ]
  },
  {
   "cell_type": "code",
   "execution_count": 11,
   "metadata": {},
   "outputs": [
    {
     "data": {
      "text/plain": [
       "(380, 9)"
      ]
     },
     "execution_count": 11,
     "metadata": {},
     "output_type": "execute_result"
    }
   ],
   "source": [
    "football_2016.shape"
   ]
  },
  {
   "cell_type": "markdown",
   "metadata": {},
   "source": [
    "<h3>2.2 Examine the extent of home team advantage in ways similar to our case study</h3>\n",
    "<p>Let's create a function that creates the variable <code>\"home_goaladv\"</code> and another that creates a table with the statistics that we need.</p>"
   ]
  },
  {
   "cell_type": "code",
   "execution_count": 12,
   "metadata": {},
   "outputs": [],
   "source": [
    "def home_goal_adv(data):\n",
    "    \"\"\"Return the difference between home and away goals for each match and measures home goal advantage.\"\"\"\n",
    "    data[\"home_goaladv\"] = data[\"goals_home\"] - data[\"goals_away\"]\n",
    "    return data[\"home_goaladv\"]\n",
    "\n",
    "\n",
    "def summary_stats(data):\n",
    "    \"\"\"Return summary statistics of a dataset.\"\"\"\n",
    "    return pd.DataFrame.from_dict(\n",
    "        {\n",
    "            \"Statistics\": [\n",
    "                \"Mean\",\n",
    "                \"Standard deviation\",\n",
    "                \"Percent positive\",\n",
    "                \"Percent zero\",\n",
    "                \"Percent negative\",\n",
    "                \"Number of observations\",\n",
    "            ],\n",
    "            \"Value\": [\n",
    "                data[\"home_goaladv\"].describe()[\"mean\"],\n",
    "                data[\"home_goaladv\"].describe()[\"std\"],\n",
    "                (data[\"home_goaladv\"] > 0).sum() / data[\"home_goaladv\"].shape[0] * 100,\n",
    "                (data[\"home_goaladv\"] == 0).sum() / data[\"home_goaladv\"].shape[0] * 100,\n",
    "                (data[\"home_goaladv\"] < 0).sum() / data[\"home_goaladv\"].shape[0] * 100,\n",
    "                data[\"home_goaladv\"].describe()[\"count\"],\n",
    "            ],\n",
    "        }\n",
    "        ).round(1)\n"
   ]
  },
  {
   "cell_type": "markdown",
   "metadata": {},
   "source": [
    "<p>We can now create our summary statistics table for season 2017/2018 and observe comment the results.</p>"
   ]
  },
  {
   "cell_type": "code",
   "execution_count": 13,
   "metadata": {},
   "outputs": [],
   "source": [
    "football_2017[\"home_goaladv\"] = home_goal_adv(football_2017)"
   ]
  },
  {
   "cell_type": "code",
   "execution_count": 14,
   "metadata": {},
   "outputs": [
    {
     "data": {
      "text/html": [
       "<div>\n",
       "<style scoped>\n",
       "    .dataframe tbody tr th:only-of-type {\n",
       "        vertical-align: middle;\n",
       "    }\n",
       "\n",
       "    .dataframe tbody tr th {\n",
       "        vertical-align: top;\n",
       "    }\n",
       "\n",
       "    .dataframe thead th {\n",
       "        text-align: right;\n",
       "    }\n",
       "</style>\n",
       "<table border=\"1\" class=\"dataframe\">\n",
       "  <thead>\n",
       "    <tr style=\"text-align: right;\">\n",
       "      <th></th>\n",
       "      <th>Statistics</th>\n",
       "      <th>Value</th>\n",
       "    </tr>\n",
       "  </thead>\n",
       "  <tbody>\n",
       "    <tr>\n",
       "      <th>0</th>\n",
       "      <td>Mean</td>\n",
       "      <td>0.4</td>\n",
       "    </tr>\n",
       "    <tr>\n",
       "      <th>1</th>\n",
       "      <td>Standard deviation</td>\n",
       "      <td>1.9</td>\n",
       "    </tr>\n",
       "    <tr>\n",
       "      <th>2</th>\n",
       "      <td>Percent positive</td>\n",
       "      <td>45.5</td>\n",
       "    </tr>\n",
       "    <tr>\n",
       "      <th>3</th>\n",
       "      <td>Percent zero</td>\n",
       "      <td>26.1</td>\n",
       "    </tr>\n",
       "    <tr>\n",
       "      <th>4</th>\n",
       "      <td>Percent negative</td>\n",
       "      <td>28.4</td>\n",
       "    </tr>\n",
       "    <tr>\n",
       "      <th>5</th>\n",
       "      <td>Number of observations</td>\n",
       "      <td>380.0</td>\n",
       "    </tr>\n",
       "  </tbody>\n",
       "</table>\n",
       "</div>"
      ],
      "text/plain": [
       "               Statistics  Value\n",
       "0                    Mean    0.4\n",
       "1      Standard deviation    1.9\n",
       "2        Percent positive   45.5\n",
       "3            Percent zero   26.1\n",
       "4        Percent negative   28.4\n",
       "5  Number of observations  380.0"
      ]
     },
     "execution_count": 14,
     "metadata": {},
     "output_type": "execute_result"
    }
   ],
   "source": [
    "summary_2017 = summary_stats(football_2017)\n",
    "summary_2017"
   ]
  },
  {
   "cell_type": "markdown",
   "metadata": {},
   "source": [
    "<p>In the season 2017/2018, teams playing at home displayed a clear home goal advantage. The mean is <b>0.4</b>, which means that the home team enjoys an advantage in terms of the number of goals it scores per match - for every match, they are likely to have a 0.4 goal advantage. For every three games, they have a 1.2 goal difference. The standard deviation is 1.9, which means that the result can deviate from the mean in such a value. This is a significant observation, as, for each match, we can expect some dispersion from the 0.4 home goal advantage.</p>\n",
    "<p>In terms of actual wins, draws, or losses, the home team tends to win more games at home. The proportion of victories is <b>45.5%</b>, which means that they win nearly half of all matches at home. With draws at a <b>26.1%</b>, the home team is expected to score points in <b>71.6%</b> of all season matches. Finally, they lost in <b>28.4%</b> of the matches. Thus, we can confirm that, in season 2017/2018, the home team enjoyed a favorable scenario.</p>\n",
    "<p>We can now plot a histogram with the distribution of goal difference and observe the results.</p>"
   ]
  },
  {
   "cell_type": "code",
   "execution_count": 15,
   "metadata": {},
   "outputs": [
    {
     "data": {
      "image/png": "[encoded data removed]",
      "text/plain": [
       "<Figure size 640x480 with 1 Axes>"
      ]
     },
     "metadata": {},
     "output_type": "display_data"
    },
    {
     "data": {
      "text/plain": [
       "<ggplot: (171752721520)>"
      ]
     },
     "execution_count": 15,
     "metadata": {},
     "output_type": "execute_result"
    }
   ],
   "source": [
    "ggplot(football_2017, aes(x=\"home_goaladv\", y=\"stat(count)/sum(stat(count))\")) + geom_histogram(\n",
    "    fill=color[0], color=\"white\", binwidth=1,\n",
    ") + geom_text(\n",
    "    aes(label=\"[round(x,1) for x in stat(count)/sum(stat(count))*100]\"),\n",
    "    stat=\"count\",\n",
    "    size=10,\n",
    "    nudge_y=0.01,\n",
    ") + labs(\n",
    "    x=\"Goal difference\", y=\"Share of games (percent)\"\n",
    ") + scale_x_continuous(\n",
    "    expand=(0.05, 0.05), limits=(-7, 8), breaks=seq(-7, 8, by=1)\n",
    ") + scale_y_continuous(\n",
    "    expand=(0, 0),\n",
    "    limits=(0, 0.30),\n",
    "    breaks=seq(0, 0.30, by=0.05),\n",
    "    labels=percent_format(),\n",
    ") + theme_bw()"
   ]
  },
  {
   "cell_type": "markdown",
   "metadata": {},
   "source": [
    "<p>Visualizing the home team goal difference helps us understand their home advantage. We can see that the mode is <b>0</b>, which means that if we were to take the results by their goal differemce and not to group them by victories or draws or losses, the most frequent outcome would be a draw. But we are interested in the actual results, and not only on goal difference. As such, we can see that there are more observations on the positive side of the histogram.  A 1-goal difference is 21.8%, while a -1 difference is 15.3%. For wins with a 2-goal difference, the difference is even wider - 10.8% and 5.5%. For higher goal differences, we tend to get a decreased number of observations, but always in favor of the home team (except for an interesting extreme value of -6, which represented 0.3% of the results vs none for a positive 6-goal difference). To conclude, the home team displayed a clear advantage in terms of goal difference as well.</p>\n",
    "<h3>2.2 Compare the results and discuss what you find.</h3>\n",
    "<p>We can now create the table for season 2016/2017 and compare the results.</p>\n"
   ]
  },
  {
   "cell_type": "code",
   "execution_count": 16,
   "metadata": {},
   "outputs": [
    {
     "data": {
      "text/html": [
       "<div>\n",
       "<style scoped>\n",
       "    .dataframe tbody tr th:only-of-type {\n",
       "        vertical-align: middle;\n",
       "    }\n",
       "\n",
       "    .dataframe tbody tr th {\n",
       "        vertical-align: top;\n",
       "    }\n",
       "\n",
       "    .dataframe thead th {\n",
       "        text-align: right;\n",
       "    }\n",
       "</style>\n",
       "<table border=\"1\" class=\"dataframe\">\n",
       "  <thead>\n",
       "    <tr style=\"text-align: right;\">\n",
       "      <th></th>\n",
       "      <th>Statistics</th>\n",
       "      <th>Value</th>\n",
       "    </tr>\n",
       "  </thead>\n",
       "  <tbody>\n",
       "    <tr>\n",
       "      <th>0</th>\n",
       "      <td>Mean</td>\n",
       "      <td>0.4</td>\n",
       "    </tr>\n",
       "    <tr>\n",
       "      <th>1</th>\n",
       "      <td>Standard deviation</td>\n",
       "      <td>1.9</td>\n",
       "    </tr>\n",
       "    <tr>\n",
       "      <th>2</th>\n",
       "      <td>Percent positive</td>\n",
       "      <td>49.2</td>\n",
       "    </tr>\n",
       "    <tr>\n",
       "      <th>3</th>\n",
       "      <td>Percent zero</td>\n",
       "      <td>22.1</td>\n",
       "    </tr>\n",
       "    <tr>\n",
       "      <th>4</th>\n",
       "      <td>Percent negative</td>\n",
       "      <td>28.7</td>\n",
       "    </tr>\n",
       "    <tr>\n",
       "      <th>5</th>\n",
       "      <td>Number of observations</td>\n",
       "      <td>380.0</td>\n",
       "    </tr>\n",
       "  </tbody>\n",
       "</table>\n",
       "</div>"
      ],
      "text/plain": [
       "               Statistics  Value\n",
       "0                    Mean    0.4\n",
       "1      Standard deviation    1.9\n",
       "2        Percent positive   49.2\n",
       "3            Percent zero   22.1\n",
       "4        Percent negative   28.7\n",
       "5  Number of observations  380.0"
      ]
     },
     "execution_count": 16,
     "metadata": {},
     "output_type": "execute_result"
    }
   ],
   "source": [
    "football_2016[\"home_goaladv\"] = home_goal_adv(football_2016)\n",
    "\n",
    "summary_2016 = summary_stats(football_2016)\n",
    "summary_2016"
   ]
  },
  {
   "cell_type": "code",
   "execution_count": 17,
   "metadata": {},
   "outputs": [
    {
     "data": {
      "text/html": [
       "<div>\n",
       "<style scoped>\n",
       "    .dataframe tbody tr th:only-of-type {\n",
       "        vertical-align: middle;\n",
       "    }\n",
       "\n",
       "    .dataframe tbody tr th {\n",
       "        vertical-align: top;\n",
       "    }\n",
       "\n",
       "    .dataframe thead th {\n",
       "        text-align: right;\n",
       "    }\n",
       "</style>\n",
       "<table border=\"1\" class=\"dataframe\">\n",
       "  <thead>\n",
       "    <tr style=\"text-align: right;\">\n",
       "      <th></th>\n",
       "      <th>Statistics</th>\n",
       "      <th>Value_2016</th>\n",
       "      <th>Value_2017</th>\n",
       "    </tr>\n",
       "  </thead>\n",
       "  <tbody>\n",
       "    <tr>\n",
       "      <th>0</th>\n",
       "      <td>Mean</td>\n",
       "      <td>0.4</td>\n",
       "      <td>0.4</td>\n",
       "    </tr>\n",
       "    <tr>\n",
       "      <th>1</th>\n",
       "      <td>Standard deviation</td>\n",
       "      <td>1.9</td>\n",
       "      <td>1.9</td>\n",
       "    </tr>\n",
       "    <tr>\n",
       "      <th>2</th>\n",
       "      <td>Percent positive</td>\n",
       "      <td>49.2</td>\n",
       "      <td>45.5</td>\n",
       "    </tr>\n",
       "    <tr>\n",
       "      <th>3</th>\n",
       "      <td>Percent zero</td>\n",
       "      <td>22.1</td>\n",
       "      <td>26.1</td>\n",
       "    </tr>\n",
       "    <tr>\n",
       "      <th>4</th>\n",
       "      <td>Percent negative</td>\n",
       "      <td>28.7</td>\n",
       "      <td>28.4</td>\n",
       "    </tr>\n",
       "    <tr>\n",
       "      <th>5</th>\n",
       "      <td>Number of observations</td>\n",
       "      <td>380.0</td>\n",
       "      <td>380.0</td>\n",
       "    </tr>\n",
       "  </tbody>\n",
       "</table>\n",
       "</div>"
      ],
      "text/plain": [
       "               Statistics  Value_2016  Value_2017\n",
       "0                    Mean         0.4         0.4\n",
       "1      Standard deviation         1.9         1.9\n",
       "2        Percent positive        49.2        45.5\n",
       "3            Percent zero        22.1        26.1\n",
       "4        Percent negative        28.7        28.4\n",
       "5  Number of observations       380.0       380.0"
      ]
     },
     "execution_count": 17,
     "metadata": {},
     "output_type": "execute_result"
    }
   ],
   "source": [
    "pd.merge(summary_2016, summary_2017, on=\"Statistics\", how=\"inner\", suffixes=(\"_2016\", \"_2017\"))"
   ]
  },
  {
   "cell_type": "markdown",
   "metadata": {},
   "source": [
    "<p>We can make some observations here.</p>\n",
    "<ul>\n",
    "<li>In both seasons, the home team advantage in terms of the goal difference remained the same for the mean, which did not change (0.4). The same observation can be made regarding the standard deviation.</li>\n",
    "<li>Season 2017/2018 became more <b>competitive</b> when it comes to home team advantage. While season 2016/2017 registered nearly 50% of wins for the home team, this proportion decreased to <b>45.5%</b> in season 2017/2018. The lower proportion of wins gave room to more <b>draws</b>: from 22.1% in 2016/2017, it increased to <b>26.1%</b>. At the same time, the home team lost <b>less</b> matches, although the difference is very small: from a 28.7% of losses to a <b>28.4%</b> in 2017/2018.</li>\n",
    "</ul>\n",
    "<p>Finally, let's compare both distributions to see if there was any meaningful difference in the goal difference for each season.</p>"
   ]
  },
  {
   "cell_type": "code",
   "execution_count": 35,
   "metadata": {},
   "outputs": [
    {
     "data": {
      "image/png": "[encoded data removed]",
      "text/plain": [
       "<Figure size 640x480 with 1 Axes>"
      ]
     },
     "metadata": {},
     "output_type": "display_data"
    },
    {
     "data": {
      "image/png": "[encoded data removed]",
      "text/plain": [
       "<Figure size 640x480 with 1 Axes>"
      ]
     },
     "metadata": {},
     "output_type": "display_data"
    },
    {
     "data": {
      "text/plain": [
       "(<ggplot: (171757615309)>, <ggplot: (171755088909)>)"
      ]
     },
     "execution_count": 35,
     "metadata": {},
     "output_type": "execute_result"
    }
   ],
   "source": [
    "# First histogram, 2016\n",
    "plot_2016 = ggplot(football_2016, aes(x=\"home_goaladv\", y=\"stat(count)/sum(stat(count))\")) + geom_histogram(\n",
    "    fill=color[0], color=\"white\", binwidth=1,\n",
    ") + geom_text(\n",
    "    aes(label=\"[round(x,1) for x in stat(count)/sum(stat(count))*100]\"),\n",
    "    stat=\"count\",\n",
    "    size=10,\n",
    "    nudge_y=0.01,\n",
    ") + labs(\n",
    "    x=\"Goal difference\", y=\"Share of games (percent)\"\n",
    ") + scale_x_continuous(\n",
    "    expand=(0.05, 0.05), limits=(-7, 8), breaks=seq(-7, 8, by=1)\n",
    ") + scale_y_continuous(\n",
    "    expand=(0, 0),\n",
    "    limits=(0, 0.30),\n",
    "    breaks=seq(0, 0.30, by=0.05),\n",
    "    labels=percent_format(),\n",
    ") + theme_bw() + ggtitle(\"Distribution of goal difference, season 2016/2017\")\n",
    "\n",
    "# Second histogram, 2017\n",
    "plot_2017 = ggplot(football_2017, aes(x=\"home_goaladv\", y=\"stat(count)/sum(stat(count))\")) + geom_histogram(\n",
    "    fill=color[0], color=\"white\", binwidth=1,\n",
    ") + geom_text(\n",
    "    aes(label=\"[round(x,1) for x in stat(count)/sum(stat(count))*100]\"),\n",
    "    stat=\"count\",\n",
    "    size=10,\n",
    "    nudge_y=0.01,\n",
    ") + labs(\n",
    "    x=\"Goal difference\", y=\"Share of games (percent)\"\n",
    ") + scale_x_continuous(\n",
    "    expand=(0.05, 0.05), limits=(-7, 8), breaks=seq(-7, 8, by=1)\n",
    ") + scale_y_continuous(\n",
    "    expand=(0, 0),\n",
    "    limits=(0, 0.30),\n",
    "    breaks=seq(0, 0.30, by=0.05),\n",
    "    labels=percent_format(),\n",
    ") + theme_bw() + ggtitle(\"Distribution of goal difference, season 2017/2018\")\n",
    "\n",
    "# Create a grid of subplots and plot the histograms side by side\n",
    "plot_2016, plot_2017\n"
   ]
  },
  {
   "cell_type": "markdown",
   "metadata": {},
   "source": [
    "<p>We can notice the difference in the distribution for each season.</p>\n",
    "<ul>\n",
    "<li>For starters, the proportion of matches that ended in a draw (0-goal difference) increased, as mentioned.</li>\n",
    "<li>It seems that the home team had a hard time scoring goals. The proportion of 1-goal difference wins increased to <b>21.8%</b>, while the 2-goal difference decreased to <b>10.8</b> from a previous proportion of 17.1%. There were increases in higher positive goal differences, such as in 4 and 5-goal differences, yet considering the significant increase in the 1-goal difference percentage, we could infer that, for a considerable proportion of games, the home team scored less than before.</li>\n",
    "<li>While home team loss a slighly lower proportion of games at home, they also lost by a slighly lower difference. The 1-goal percentage difference increased to <b>15.3%</b>, while 2-goal difference losses decreased to <b>5.5%</b>. Other more extreme values increased a little.</li>\n",
    "</ul>\n",
    "<h2><b>3</b>. Conclusion | Final remarks</h2>\n",
    "<p>Overall, we can say that season 2017/2018 seemed more <b>competitive</b>. While we observed a tangible home team advantage, when compared to 2016/2017, it was somewhat lower. There were more games ended in a draw, while the number of losses did not change in the same proportion. Finally, the changes in the distribution of goal difference tells hints at tighter results. Home team won more games with a 1-goal difference, while away team loss more games with a 1-goal difference. The significantly higher proportion of draws coroborates this hypothesis.</p>\n",
    "<p>And that was it! That was another interesting and insightful exercise. We got to compare distributions between similar datasets and make observations on changes between them.</p>\n",
    "<hr>"
   ]
  },
  {
   "cell_type": "markdown",
   "metadata": {},
   "source": []
  }
 ],
 "metadata": {
  "kernelspec": {
   "display_name": "data_analysis",
   "language": "python",
   "name": "python3"
  },
  "language_info": {
   "codemirror_mode": {
    "name": "ipython",
    "version": 3
   },
   "file_extension": ".py",
   "mimetype": "text/x-python",
   "name": "python",
   "nbconvert_exporter": "python",
   "pygments_lexer": "ipython3",
   "version": "3.10.3"
  },
  "orig_nbformat": 4
 },
 "nbformat": 4,
 "nbformat_minor": 2
}
