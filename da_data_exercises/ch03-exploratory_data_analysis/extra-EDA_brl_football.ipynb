{
 "cells": [
  {
   "attachments": {},
   "cell_type": "markdown",
   "metadata": {},
   "source": [
    "<h1>Chapter 3 | <b>Extra</b> Data Exercise |  EDA With Football Data</h1>\n",
    "\n",
    "<p>Inspired by the analysis of home team and away team performances of the book, I decided to reproduce a few of these steps using a different dataset. To do that, I will tap into a great API - Football API - and get some statistics on the main Brazilian Football League (Serie A). This will require going back a few steps and review the first two chapters as well. Succinticly, we will do the following procedures here:</p>\n",
    "<ul>\n",
    "    <li>Get the data</li>\n",
    "    <li>Clean the data</li>\n",
    "    <li>Explore the data</li>\n",
    "</ul>\n",
    "<p>This is an opportunity to learn more about how to get data from APIs. Even though this API is packed with data, let's keep it simple and try to do a simple job. With no further ado, let's do it.</p>\n",
    "<hr>\n",
    "<h2>Get the data</h2>\n",
    "<p>Let's import the required libraries and set up our working directories, our yaml variables, and our urls.</p>\n"
   ]
  },
  {
   "cell_type": "code",
   "execution_count": 2,
   "metadata": {},
   "outputs": [],
   "source": [
    "import requests\n",
    "import yaml\n",
    "import pandas as pd\n",
    "import os\n"
   ]
  },
  {
   "cell_type": "code",
   "execution_count": 6,
   "metadata": {},
   "outputs": [],
   "source": [
    "# Define working directory\n",
    "dirname = os.getcwd()\n",
    "data_out = f\"{dirname}/data/output/\" \n",
    "\n",
    "# Define variables set in yaml\n",
    "with open(f\"{dirname}/config/config.yaml\") as f:\n",
    "    config = yaml.safe_load(f)\n",
    "\n",
    "API_KEY = config[\"api_key\"]\n",
    "url = \"https://v3.football.api-sports.io/\""
   ]
  },
  {
   "attachments": {},
   "cell_type": "markdown",
   "metadata": {},
   "source": [
    "<p>We can now make a simple function that will make an API call to the url and, using the defined parameters, will return the data in a .json format. It's important - and that goes for any API - to take a look at the <b>documentation</b> to get acquainted with the required enpoints. We need the following information from the API:</p>\n",
    "<ul>\n",
    "    <li>All the matches between all teams for the 2022 Serie A season.</li>\n",
    "    <li>The number of goals scored by team.</li>\n",
    "    <li>The name of the home and the away team for each match.</p>\n",
    "</ul>\n",
    "<p>After reading the docs, I decided that the enpoint <code>/fixtures</code> will help me on this job. Also, to get the required season year and the id of this particular football league, I took a look at the id numbers provided by the API's <a href=\"https://dashboard.api-football.com/soccer/ids\">dashboard</a>.</p>"
   ]
  },
  {
   "cell_type": "code",
   "execution_count": null,
   "metadata": {},
   "outputs": [],
   "source": []
  }
 ],
 "metadata": {
  "kernelspec": {
   "display_name": "data_analysis",
   "language": "python",
   "name": "python3"
  },
  "language_info": {
   "codemirror_mode": {
    "name": "ipython",
    "version": 3
   },
   "file_extension": ".py",
   "mimetype": "text/x-python",
   "name": "python",
   "nbconvert_exporter": "python",
   "pygments_lexer": "ipython3",
   "version": "3.10.3"
  },
  "orig_nbformat": 4
 },
 "nbformat": 4,
 "nbformat_minor": 2
}
