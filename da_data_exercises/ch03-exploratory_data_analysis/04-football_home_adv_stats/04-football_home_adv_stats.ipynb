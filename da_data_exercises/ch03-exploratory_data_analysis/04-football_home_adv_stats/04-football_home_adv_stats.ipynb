{
 "cells": [
  {
   "cell_type": "markdown",
   "metadata": {},
   "source": [
    "<h1>Chapter 3 | Data Exercise #4 | Measuring home team advantage | Different statistics</h1>\n",
    "<h2>Introduction:</h2>\n",
    "<p>In this notebook, you will find my notes and code for Chapter 3's <b>exercise 4</b> of the book <a href=\"https://gabors-data-analysis.com/\">Data Analysis for Business, Economics, and Policy</a>, by Gábor Békés and Gábor Kézdi. The question was: \n",
    "<p>4. Choose the same 2016/2017 season from the <code>football</code> dataset..</p>\n",
    "<p>Assignments:</p>\n",
    "<ul>\n",
    "    <li>Produce a different table with possibly different statistics to show the extent of home team advantage.</li>\n",
    "    <li>Compare the results and discuss what you find.</li>\n",
    "</ul>\n",
    "<h2><b>1.</b> Load the data</h2>"
   ]
  },
  {
   "cell_type": "code",
   "execution_count": 45,
   "metadata": {},
   "outputs": [],
   "source": [
    "import os\n",
    "import sys\n",
    "import warnings\n",
    "import pandas as pd\n",
    "import numpy as np\n",
    "import numpy as np\n",
    "from scipy.stats import trim_mean\n",
    "from statsmodels import robust\n",
    "import wquantiles\n",
    "\n",
    "warnings.filterwarnings(\"ignore\")"
   ]
  },
  {
   "cell_type": "code",
   "execution_count": 46,
   "metadata": {},
   "outputs": [],
   "source": [
    "# Increase number of returned rows in pandas\n",
    "pd.set_option(\"display.max_rows\", 500)"
   ]
  },
  {
   "cell_type": "code",
   "execution_count": 47,
   "metadata": {},
   "outputs": [],
   "source": [
    "# Current script folder\n",
    "current_path = os.getcwd()\n",
    "dirname = current_path.split(\"da_data_exercises\")[0]\n",
    "\n",
    "# Get location folders\n",
    "data_in = f\"{dirname}da_data_repo/football/clean/\"\n",
    "data_out = f\"{dirname}da_data_exercises/ch03-exploratory_data_analysis/04-football_home_adv_stats/data/clean/\"\n",
    "output = f\"{dirname}da_data_exercises/ch03-exploratory_data_analysis/04-football_home_adv_stats/\"\n",
    "func = f\"{dirname}da_case_studies/ch00-tech_prep/\"\n",
    "sys.path.append(func)"
   ]
  },
  {
   "cell_type": "code",
   "execution_count": 48,
   "metadata": {},
   "outputs": [],
   "source": [
    "from py_helper_functions import *"
   ]
  },
  {
   "cell_type": "code",
   "execution_count": 49,
   "metadata": {},
   "outputs": [],
   "source": [
    "df = pd.read_csv(f\"{data_in}epl_games.csv\")"
   ]
  },
  {
   "cell_type": "code",
   "execution_count": 50,
   "metadata": {},
   "outputs": [
    {
     "data": {
      "text/html": [
       "<div>\n",
       "<style scoped>\n",
       "    .dataframe tbody tr th:only-of-type {\n",
       "        vertical-align: middle;\n",
       "    }\n",
       "\n",
       "    .dataframe tbody tr th {\n",
       "        vertical-align: top;\n",
       "    }\n",
       "\n",
       "    .dataframe thead th {\n",
       "        text-align: right;\n",
       "    }\n",
       "</style>\n",
       "<table border=\"1\" class=\"dataframe\">\n",
       "  <thead>\n",
       "    <tr style=\"text-align: right;\">\n",
       "      <th></th>\n",
       "      <th>div</th>\n",
       "      <th>season</th>\n",
       "      <th>date</th>\n",
       "      <th>team_home</th>\n",
       "      <th>team_away</th>\n",
       "      <th>points_home</th>\n",
       "      <th>points_away</th>\n",
       "      <th>goals_home</th>\n",
       "      <th>goals_away</th>\n",
       "    </tr>\n",
       "  </thead>\n",
       "  <tbody>\n",
       "    <tr>\n",
       "      <th>0</th>\n",
       "      <td>E0</td>\n",
       "      <td>2008</td>\n",
       "      <td>16aug2008</td>\n",
       "      <td>Arsenal</td>\n",
       "      <td>West Brom</td>\n",
       "      <td>3</td>\n",
       "      <td>0</td>\n",
       "      <td>1</td>\n",
       "      <td>0</td>\n",
       "    </tr>\n",
       "    <tr>\n",
       "      <th>1</th>\n",
       "      <td>E0</td>\n",
       "      <td>2008</td>\n",
       "      <td>16aug2008</td>\n",
       "      <td>West Ham</td>\n",
       "      <td>Wigan</td>\n",
       "      <td>3</td>\n",
       "      <td>0</td>\n",
       "      <td>2</td>\n",
       "      <td>1</td>\n",
       "    </tr>\n",
       "    <tr>\n",
       "      <th>2</th>\n",
       "      <td>E0</td>\n",
       "      <td>2008</td>\n",
       "      <td>16aug2008</td>\n",
       "      <td>Middlesbrough</td>\n",
       "      <td>Tottenham</td>\n",
       "      <td>3</td>\n",
       "      <td>0</td>\n",
       "      <td>2</td>\n",
       "      <td>1</td>\n",
       "    </tr>\n",
       "    <tr>\n",
       "      <th>3</th>\n",
       "      <td>E0</td>\n",
       "      <td>2008</td>\n",
       "      <td>16aug2008</td>\n",
       "      <td>Everton</td>\n",
       "      <td>Blackburn</td>\n",
       "      <td>0</td>\n",
       "      <td>3</td>\n",
       "      <td>2</td>\n",
       "      <td>3</td>\n",
       "    </tr>\n",
       "    <tr>\n",
       "      <th>4</th>\n",
       "      <td>E0</td>\n",
       "      <td>2008</td>\n",
       "      <td>16aug2008</td>\n",
       "      <td>Bolton</td>\n",
       "      <td>Stoke</td>\n",
       "      <td>3</td>\n",
       "      <td>0</td>\n",
       "      <td>3</td>\n",
       "      <td>1</td>\n",
       "    </tr>\n",
       "  </tbody>\n",
       "</table>\n",
       "</div>"
      ],
      "text/plain": [
       "  div  season       date      team_home  team_away  points_home  points_away  \\\n",
       "0  E0    2008  16aug2008        Arsenal  West Brom            3            0   \n",
       "1  E0    2008  16aug2008       West Ham      Wigan            3            0   \n",
       "2  E0    2008  16aug2008  Middlesbrough  Tottenham            3            0   \n",
       "3  E0    2008  16aug2008        Everton  Blackburn            0            3   \n",
       "4  E0    2008  16aug2008         Bolton      Stoke            3            0   \n",
       "\n",
       "   goals_home  goals_away  \n",
       "0           1           0  \n",
       "1           2           1  \n",
       "2           2           1  \n",
       "3           2           3  \n",
       "4           3           1  "
      ]
     },
     "execution_count": 50,
     "metadata": {},
     "output_type": "execute_result"
    }
   ],
   "source": [
    "df.head()"
   ]
  },
  {
   "cell_type": "markdown",
   "metadata": {},
   "source": [
    "<h2><b>2</b>. EDA</h2>\n",
    "<h3>2.1 Pick 2016/2017 season</h3>"
   ]
  },
  {
   "cell_type": "code",
   "execution_count": 51,
   "metadata": {},
   "outputs": [],
   "source": [
    "df = df.loc[df[\"season\"] == 2016, :].reset_index(drop=True)"
   ]
  },
  {
   "cell_type": "code",
   "execution_count": 52,
   "metadata": {},
   "outputs": [
    {
     "data": {
      "text/html": [
       "<div>\n",
       "<style scoped>\n",
       "    .dataframe tbody tr th:only-of-type {\n",
       "        vertical-align: middle;\n",
       "    }\n",
       "\n",
       "    .dataframe tbody tr th {\n",
       "        vertical-align: top;\n",
       "    }\n",
       "\n",
       "    .dataframe thead th {\n",
       "        text-align: right;\n",
       "    }\n",
       "</style>\n",
       "<table border=\"1\" class=\"dataframe\">\n",
       "  <thead>\n",
       "    <tr style=\"text-align: right;\">\n",
       "      <th></th>\n",
       "      <th>div</th>\n",
       "      <th>season</th>\n",
       "      <th>date</th>\n",
       "      <th>team_home</th>\n",
       "      <th>team_away</th>\n",
       "      <th>points_home</th>\n",
       "      <th>points_away</th>\n",
       "      <th>goals_home</th>\n",
       "      <th>goals_away</th>\n",
       "    </tr>\n",
       "  </thead>\n",
       "  <tbody>\n",
       "    <tr>\n",
       "      <th>0</th>\n",
       "      <td>E0</td>\n",
       "      <td>2016</td>\n",
       "      <td>13aug2016</td>\n",
       "      <td>Middlesbrough</td>\n",
       "      <td>Stoke</td>\n",
       "      <td>1</td>\n",
       "      <td>1</td>\n",
       "      <td>1</td>\n",
       "      <td>1</td>\n",
       "    </tr>\n",
       "    <tr>\n",
       "      <th>1</th>\n",
       "      <td>E0</td>\n",
       "      <td>2016</td>\n",
       "      <td>13aug2016</td>\n",
       "      <td>Burnley</td>\n",
       "      <td>Swansea</td>\n",
       "      <td>0</td>\n",
       "      <td>3</td>\n",
       "      <td>0</td>\n",
       "      <td>1</td>\n",
       "    </tr>\n",
       "    <tr>\n",
       "      <th>2</th>\n",
       "      <td>E0</td>\n",
       "      <td>2016</td>\n",
       "      <td>13aug2016</td>\n",
       "      <td>Everton</td>\n",
       "      <td>Tottenham</td>\n",
       "      <td>1</td>\n",
       "      <td>1</td>\n",
       "      <td>1</td>\n",
       "      <td>1</td>\n",
       "    </tr>\n",
       "    <tr>\n",
       "      <th>3</th>\n",
       "      <td>E0</td>\n",
       "      <td>2016</td>\n",
       "      <td>13aug2016</td>\n",
       "      <td>Crystal Palace</td>\n",
       "      <td>West Brom</td>\n",
       "      <td>0</td>\n",
       "      <td>3</td>\n",
       "      <td>0</td>\n",
       "      <td>1</td>\n",
       "    </tr>\n",
       "    <tr>\n",
       "      <th>4</th>\n",
       "      <td>E0</td>\n",
       "      <td>2016</td>\n",
       "      <td>13aug2016</td>\n",
       "      <td>Man City</td>\n",
       "      <td>Sunderland</td>\n",
       "      <td>3</td>\n",
       "      <td>0</td>\n",
       "      <td>2</td>\n",
       "      <td>1</td>\n",
       "    </tr>\n",
       "  </tbody>\n",
       "</table>\n",
       "</div>"
      ],
      "text/plain": [
       "  div  season       date       team_home   team_away  points_home  \\\n",
       "0  E0    2016  13aug2016   Middlesbrough       Stoke            1   \n",
       "1  E0    2016  13aug2016         Burnley     Swansea            0   \n",
       "2  E0    2016  13aug2016         Everton   Tottenham            1   \n",
       "3  E0    2016  13aug2016  Crystal Palace   West Brom            0   \n",
       "4  E0    2016  13aug2016        Man City  Sunderland            3   \n",
       "\n",
       "   points_away  goals_home  goals_away  \n",
       "0            1           1           1  \n",
       "1            3           0           1  \n",
       "2            1           1           1  \n",
       "3            3           0           1  \n",
       "4            0           2           1  "
      ]
     },
     "execution_count": 52,
     "metadata": {},
     "output_type": "execute_result"
    }
   ],
   "source": [
    "df.head()"
   ]
  },
  {
   "cell_type": "markdown",
   "metadata": {},
   "source": [
    "<p>Let's calculate home team advantage by creating the field <code>\"home_goaladv\"</code>."
   ]
  },
  {
   "cell_type": "code",
   "execution_count": 53,
   "metadata": {},
   "outputs": [],
   "source": [
    "df[\"home_goaladv\"] = df[\"goals_home\"] - df[\"goals_away\"]"
   ]
  },
  {
   "cell_type": "markdown",
   "metadata": {},
   "source": [
    "<h3>2.1 Calculate different possible statistics</h3>\n",
    "<p>Now, there are many different statistics we can use. We can use three amongst the most used types of statistics and name some of which we can use here:</p>\n",
    "<ul>\n",
    "<li>Central value (location)</li>\n",
    "<ul>\n",
    "<li>Mean</li>\n",
    "<li>Trimmed mean</li>\n",
    "<li>Weighted mean</li>\n",
    "<li>Median</li>\n",
    "<li>Weighted median</li>\n",
    "</ul>\n",
    "</ul>\n",
    "<ul>\n",
    "<li>Spread (variation)</li>\n",
    "<ul>\n",
    "<li>Range</li>\n",
    "<li>Inter-quartile range</li>\n",
    "<li>Deviation</li>\n",
    "<li>Median absolute deviation from the median</li>\n",
    "</ul>\n",
    "<li>Skewness</li>\n",
    "</ul>\n",
    "<h4>2.1.1 Measures of central value (location)</h4>\n",
    "<p>Let's start with the <b>mean</b> and its variations.</p>"
   ]
  },
  {
   "cell_type": "code",
   "execution_count": 54,
   "metadata": {},
   "outputs": [
    {
     "data": {
      "text/plain": [
       "0.39473684210526316"
      ]
     },
     "execution_count": 54,
     "metadata": {},
     "output_type": "execute_result"
    }
   ],
   "source": [
    "mean = df[\"home_goaladv\"].mean()\n",
    "mean"
   ]
  },
  {
   "cell_type": "markdown",
   "metadata": {},
   "source": [
    "<p>The <b>trimmed mean</b> is when you calculate the mean and drop a fixed number of sorted values at each and and than take the average of the remaining values. It eliminates the influence of extreme values.</p>\n",
    "<p>We can calculate it using <code>scipy.stats.</code>'s <code>trim_mean</code> an drop 10% of the observations from each end of the dataset. "
   ]
  },
  {
   "cell_type": "code",
   "execution_count": 55,
   "metadata": {},
   "outputs": [
    {
     "data": {
      "text/plain": [
       "0.4342105263157895"
      ]
     },
     "execution_count": 55,
     "metadata": {},
     "output_type": "execute_result"
    }
   ],
   "source": [
    "trim_mean = trim_mean(df[\"home_goaladv\"], 0.1)\n",
    "trim_mean"
   ]
  },
  {
   "cell_type": "markdown",
   "metadata": {},
   "source": [
    "<p>As we can see, the mean increased from 0.39 to <b>0.43</b>. We removed games with extreme results, which lead to an even more favorable scenario to home team.</p>\n",
    "<p>Let's compute the <b>median</b>. It represents the middle number on a sorted list of the data and it depends only on the values in the center of such data. Because it is robust to extreme values, it is a useful measure when trying to get a hold of central values.</p>"
   ]
  },
  {
   "cell_type": "code",
   "execution_count": 56,
   "metadata": {},
   "outputs": [
    {
     "data": {
      "text/plain": [
       "0.0"
      ]
     },
     "execution_count": 56,
     "metadata": {},
     "output_type": "execute_result"
    }
   ],
   "source": [
    "median = df[\"home_goaladv\"].median()\n",
    "median"
   ]
  },
  {
   "cell_type": "markdown",
   "metadata": {},
   "source": [
    "<p>The median is <b>0</b>, which means that the middle value for the goal difference for team home is zero. Because the mean is higher than the medium, we can expect some degree of skewness in the distribution of our dataset.</p>\n",
    "<p>We can now take a look at the <b>weighted median</b>. It represents a value such that the sum of the weights is equal for the lower and upper halves the sorted list.</p>\n",
    "<p>We can use <code>wquantiles</code> and use as weights the variable <code>points_home</code>.</p>"
   ]
  },
  {
   "cell_type": "code",
   "execution_count": 57,
   "metadata": {},
   "outputs": [
    {
     "data": {
      "text/plain": [
       "2.0"
      ]
     },
     "execution_count": 57,
     "metadata": {},
     "output_type": "execute_result"
    }
   ],
   "source": [
    "weighted_median = wquantiles.median(df[\"home_goaladv\"], weights=df[\"points_home\"])\n",
    "weighted_median"
   ]
  },
  {
   "cell_type": "markdown",
   "metadata": {},
   "source": [
    "<p>We can use Numpy's <code>.average()</code> with the parameter <code>weights</code> to get the <b>weighted mean</b>.</p>"
   ]
  },
  {
   "cell_type": "code",
   "execution_count": 58,
   "metadata": {},
   "outputs": [
    {
     "data": {
      "text/plain": [
       "1.6790697674418604"
      ]
     },
     "execution_count": 58,
     "metadata": {},
     "output_type": "execute_result"
    }
   ],
   "source": [
    "weighted_mean = np.average(df[\"home_goaladv\"], weights=df[\"points_home\"])\n",
    "weighted_mean"
   ]
  },
  {
   "cell_type": "markdown",
   "metadata": {},
   "source": [
    "<p>When using the number of home points, the average increases, as well as the median (weighted, I mean). I used this variable as a weight given that it is the closest we can use as a field that has some representation and effect on the data (the number of points at home is a relevant weight).</p>\n",
    "<h4>2.1.2 Measures of <b>spread</b> (variability)</h4>\n",
    "<p>We can start by calculating the <b>range</b>.\n"
   ]
  },
  {
   "cell_type": "code",
   "execution_count": 59,
   "metadata": {},
   "outputs": [
    {
     "data": {
      "text/plain": [
       "11"
      ]
     },
     "execution_count": 59,
     "metadata": {},
     "output_type": "execute_result"
    }
   ],
   "source": [
    "range = df[\"home_goaladv\"].max() - df[\"home_goaladv\"].min()\n",
    "range"
   ]
  },
  {
   "cell_type": "markdown",
   "metadata": {},
   "source": [
    "<p>That is quite a wide range considering our scenario. We get a range of 11 goals between the max and the min values."
   ]
  },
  {
   "cell_type": "markdown",
   "metadata": {},
   "source": [
    "<p>Moving on, we can calculate the <b>quantiles</b> and determine the <b>IQR</b>.</p>"
   ]
  },
  {
   "cell_type": "code",
   "execution_count": 60,
   "metadata": {},
   "outputs": [
    {
     "data": {
      "text/plain": [
       "3.0"
      ]
     },
     "execution_count": 60,
     "metadata": {},
     "output_type": "execute_result"
    }
   ],
   "source": [
    "iqr = df[\"home_goaladv\"].quantile(0.75) - df[\"home_goaladv\"].quantile(0.25)\n",
    "iqr"
   ]
  },
  {
   "cell_type": "markdown",
   "metadata": {},
   "source": [
    "<p>The IQR is <b>3</b>, which means that the 50% of our dataset lies within this range of goal difference.</p>\n",
    "<p>Let's calculate the <b>standard deviation</b>."
   ]
  },
  {
   "cell_type": "code",
   "execution_count": 61,
   "metadata": {},
   "outputs": [
    {
     "data": {
      "text/plain": [
       "1.9073455242915103"
      ]
     },
     "execution_count": 61,
     "metadata": {},
     "output_type": "execute_result"
    }
   ],
   "source": [
    "stddev = df[\"home_goaladv\"].std()\n",
    "stddev"
   ]
  },
  {
   "cell_type": "markdown",
   "metadata": {},
   "source": [
    " <p>We can now calculate the <b>mean absolute deviation from the median</b> (MAD), which is robust to extreme values and quantifies the variability of a set around their median. You calculate it by getting the absolute values of the deviation from the median. We can use <code>statsmodels</code> with its methods to get this statistic.</p>"
   ]
  },
  {
   "cell_type": "code",
   "execution_count": 62,
   "metadata": {},
   "outputs": [
    {
     "data": {
      "text/plain": [
       "1.482602218505602"
      ]
     },
     "execution_count": 62,
     "metadata": {},
     "output_type": "execute_result"
    }
   ],
   "source": [
    "mad = robust.scale.mad(df[\"home_goaladv\"])\n",
    "mad"
   ]
  },
  {
   "cell_type": "markdown",
   "metadata": {},
   "source": [
    "<p>As expected, the MAD is lower than the standard deviation. This reflects its robustness to extreme values. Considering that our median is zero, we can expect an average of 1.5 goal dispersion from the median for the dataset.</p>\n",
    "</h3>2.1.3 Skewness</h3>\n",
    "<p>Let's calculate the skenwess of our dataset by using the <b>mean-median skewness</b>"
   ]
  },
  {
   "cell_type": "code",
   "execution_count": 63,
   "metadata": {},
   "outputs": [
    {
     "data": {
      "text/plain": [
       "0.20695612676255365"
      ]
     },
     "execution_count": 63,
     "metadata": {},
     "output_type": "execute_result"
    }
   ],
   "source": [
    "skew = (df[\"home_goaladv\"].mean() - df[\"home_goaladv\"].median())/df[\"home_goaladv\"].std()\n",
    "skew"
   ]
  },
  {
   "cell_type": "markdown",
   "metadata": {},
   "source": [
    "<p>Because our mean is higher than the median, we get a positive number, <b>0.2</b>, which means that our dataset have a longer tail to the right.</p>\n",
    "<h3>2.2 Compare the results</h3>\n",
    "<p>We can now create our table for our summary statistics and compare the results we got from the original statistics, which focused on the mean and on the standard deviation.</p>"
   ]
  },
  {
   "cell_type": "code",
   "execution_count": 64,
   "metadata": {},
   "outputs": [
    {
     "data": {
      "text/html": [
       "<div>\n",
       "<style scoped>\n",
       "    .dataframe tbody tr th:only-of-type {\n",
       "        vertical-align: middle;\n",
       "    }\n",
       "\n",
       "    .dataframe tbody tr th {\n",
       "        vertical-align: top;\n",
       "    }\n",
       "\n",
       "    .dataframe thead th {\n",
       "        text-align: right;\n",
       "    }\n",
       "</style>\n",
       "<table border=\"1\" class=\"dataframe\">\n",
       "  <thead>\n",
       "    <tr style=\"text-align: right;\">\n",
       "      <th></th>\n",
       "      <th>Statistics</th>\n",
       "      <th>Value</th>\n",
       "    </tr>\n",
       "  </thead>\n",
       "  <tbody>\n",
       "    <tr>\n",
       "      <th>0</th>\n",
       "      <td>Mean</td>\n",
       "      <td>0.39</td>\n",
       "    </tr>\n",
       "    <tr>\n",
       "      <th>1</th>\n",
       "      <td>Trimmed mean</td>\n",
       "      <td>0.43</td>\n",
       "    </tr>\n",
       "    <tr>\n",
       "      <th>2</th>\n",
       "      <td>Weighted mean</td>\n",
       "      <td>1.68</td>\n",
       "    </tr>\n",
       "    <tr>\n",
       "      <th>3</th>\n",
       "      <td>Median</td>\n",
       "      <td>0.00</td>\n",
       "    </tr>\n",
       "    <tr>\n",
       "      <th>4</th>\n",
       "      <td>Weighted median</td>\n",
       "      <td>2.00</td>\n",
       "    </tr>\n",
       "    <tr>\n",
       "      <th>5</th>\n",
       "      <td>Range</td>\n",
       "      <td>11.00</td>\n",
       "    </tr>\n",
       "    <tr>\n",
       "      <th>6</th>\n",
       "      <td>IQR</td>\n",
       "      <td>3.00</td>\n",
       "    </tr>\n",
       "    <tr>\n",
       "      <th>7</th>\n",
       "      <td>Standard deviation</td>\n",
       "      <td>1.91</td>\n",
       "    </tr>\n",
       "    <tr>\n",
       "      <th>8</th>\n",
       "      <td>MAD</td>\n",
       "      <td>1.48</td>\n",
       "    </tr>\n",
       "    <tr>\n",
       "      <th>9</th>\n",
       "      <td>Skewness</td>\n",
       "      <td>0.21</td>\n",
       "    </tr>\n",
       "  </tbody>\n",
       "</table>\n",
       "</div>"
      ],
      "text/plain": [
       "           Statistics  Value\n",
       "0                Mean   0.39\n",
       "1        Trimmed mean   0.43\n",
       "2       Weighted mean   1.68\n",
       "3              Median   0.00\n",
       "4     Weighted median   2.00\n",
       "5               Range  11.00\n",
       "6                 IQR   3.00\n",
       "7  Standard deviation   1.91\n",
       "8                 MAD   1.48\n",
       "9            Skewness   0.21"
      ]
     },
     "execution_count": 64,
     "metadata": {},
     "output_type": "execute_result"
    }
   ],
   "source": [
    "pd.DataFrame.from_dict(\n",
    "    {\n",
    "        \"Statistics\": [\n",
    "            \"Mean\",\n",
    "            \"Trimmed mean\",\n",
    "            \"Weighted mean\",\n",
    "            \"Median\",\n",
    "            \"Weighted median\",\n",
    "            \"Range\",\n",
    "            \"IQR\",\n",
    "            \"Standard deviation\",\n",
    "            \"MAD\",\n",
    "            \"Skewness\",\n",
    "        ],\n",
    "        \"Value\": [\n",
    "            mean,\n",
    "            trim_mean,\n",
    "            weighted_mean,\n",
    "            median,\n",
    "            weighted_median,\n",
    "            range,\n",
    "            iqr,\n",
    "            stddev,\n",
    "            mad,\n",
    "            skew\n",
    "        ],\n",
    "    }\n",
    ").round(2)"
   ]
  },
  {
   "cell_type": "markdown",
   "metadata": {},
   "source": [
    "<p>We can start by discussing the <b>mean</b>. First, the <b>trim mean</b> is higher than the mean. This indicates that probably some extreme value to the left was pulling the mean. By removing these extreme points, our mean increased by a small fraction. Now, by weighted the mean on the number of home points, the mean increased to 1.68. I really cannot understand this value that well. Does it mean that the mean goal difference is higher when weighting on the number of home points? In any case, we can affirm that the mean is affected by extreme values and by removing them, we get a more robust result.</p>\n",
    "<p>Now, the median also increased to a 2 goal-difference when weighting on home points.</p>\n",
    "<p>Regarding the spread of the data, by analyzing the <b>range</b> of the dataset, we got to understand how <b>wide</b> its distribution is. And it is quite wide, which tells us that, there are indeed extreme values, or, in other words, games in which the goal difference was significantly high! The range is <b>11</b>, which is very high considering a median of 0 and a mean of 0.39. When we apply the <b>IQR</b>, however, we get to see that 50% of the observations are concentrated in a narrower interval, that is, <b>3</b>. This means that the distance between the 75th and the 25th quantiles is 3, which is quite narrow considering such a wide range. When analyzing the <b>standard deviation</b>, we get a result of <b>1.91</b>, which tells us that we can expect a deviation of 1.91 goals from the mean of 0.39. This is quite high yet expected given the presence of extreme values. If we apply the <b>MAD</b>, we get a lower result: <b>1.48</b>, which indicates the robustness of such estimate in the presence of extreme values. This means that we can expect a mean deviation of 1.48 goals from the mean, which is 0.</p>\n",
    "<p>Finally, regarding the skewness of the data, the <b>mean-median skewness</b> is <b>0.21</b>. This result indicates that the mean is higher than the median, which hints at the presence of extreme values to the right, that are pulling the mean. In a normal distribution, since the mean and the median would be equivalent, this value would be zero.</p>\n",
    "<h2><b>3</b>. Conclusion | Final remarks</h2>\n",
    "<p>By calculating different statistics, we get a more nuanced view of our dataset. We can understand the effects of outliers on important estimates, and use alternative methods to try to overcome the uncertainty that we get in such scenarios. While using all these statistics may be unpractical on a daily basis, learning which ones are relevant for each case is an important skill to be honed!\n",
    "<p>And that was it. Thank you and hope you enjoyed it!</p>\n",
    "<hr>"
   ]
  }
 ],
 "metadata": {
  "kernelspec": {
   "display_name": "data_analysis",
   "language": "python",
   "name": "python3"
  },
  "language_info": {
   "codemirror_mode": {
    "name": "ipython",
    "version": 3
   },
   "file_extension": ".py",
   "mimetype": "text/x-python",
   "name": "python",
   "nbconvert_exporter": "python",
   "pygments_lexer": "ipython3",
   "version": "3.10.3"
  },
  "orig_nbformat": 4
 },
 "nbformat": 4,
 "nbformat_minor": 2
}
