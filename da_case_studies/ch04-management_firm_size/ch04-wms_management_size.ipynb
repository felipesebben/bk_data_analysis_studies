{
 "cells": [
  {
   "cell_type": "markdown",
   "metadata": {},
   "source": [
    "<h1>Chapter 4 | Case Study A | <b>Management Quality and Firm Size: Describing Patterns of Association</b></h1>\n",
    "<p>In this notebook, I'll be taking notes of the author's code on the referred case study. The goal is to reproduce the code in the original case studies repo, visualize the distribution of the data, group quantitative values using qualitative definitions, as well as ploting stacked bar charts to visualize the resulted qualitative binning. We will be using the <code>wms-management-survey</code> dataset.</p>\n",
    "<h2>1. Read the data</h2>"
   ]
  },
  {
   "cell_type": "code",
   "execution_count": 1,
   "metadata": {},
   "outputs": [],
   "source": [
    "import os\n",
    "import sys\n",
    "import warnings\n",
    "\n",
    "import numpy as np\n",
    "import pandas as pd\n",
    "from mizani.formatters import percent_format\n",
    "from plotnine import *\n",
    "\n",
    "warnings.filterwarnings(\"ignore\")"
   ]
  },
  {
   "cell_type": "code",
   "execution_count": 2,
   "metadata": {},
   "outputs": [
    {
     "data": {
      "text/plain": [
       "'c:\\\\Users\\\\Felipe\\\\python_work\\\\Projects\\\\bk_data_analysis\\\\da_case_studies/ch00-tech_prep/'"
      ]
     },
     "execution_count": 2,
     "metadata": {},
     "output_type": "execute_result"
    }
   ],
   "source": [
    "# Current script folder\n",
    "current_path = os.getcwd()\n",
    "dirname = current_path.split(\"da_case_studies\")[0]\n",
    "\n",
    "# location folders\n",
    "data_in = f\"{dirname}da_data_repo/wms-management-survey/clean/\"\n",
    "data_out = f\"{dirname}da_case_studies/ch04-management_firm_size/data/clean/\"\n",
    "output = f\"{dirname}da_case_studies/ch04-management_firm_size/\"\n",
    "func = f\"{dirname}da_case_studies/ch00-tech_prep/\"\n",
    "\n",
    "sys.path.append(func)\n",
    "func"
   ]
  },
  {
   "cell_type": "code",
   "execution_count": 3,
   "metadata": {},
   "outputs": [],
   "source": [
    "# import the prewritten helper functions\n",
    "from py_helper_functions import *"
   ]
  },
  {
   "cell_type": "code",
   "execution_count": 4,
   "metadata": {},
   "outputs": [],
   "source": [
    "# Load the dataset\n",
    "df = pd.read_csv(f\"{data_in}wms_da_textbook.csv\")"
   ]
  },
  {
   "cell_type": "code",
   "execution_count": 5,
   "metadata": {},
   "outputs": [
    {
     "data": {
      "text/html": [
       "<div>\n",
       "<style scoped>\n",
       "    .dataframe tbody tr th:only-of-type {\n",
       "        vertical-align: middle;\n",
       "    }\n",
       "\n",
       "    .dataframe tbody tr th {\n",
       "        vertical-align: top;\n",
       "    }\n",
       "\n",
       "    .dataframe thead th {\n",
       "        text-align: right;\n",
       "    }\n",
       "</style>\n",
       "<table border=\"1\" class=\"dataframe\">\n",
       "  <thead>\n",
       "    <tr style=\"text-align: right;\">\n",
       "      <th></th>\n",
       "      <th>firmid</th>\n",
       "      <th>wave</th>\n",
       "      <th>cty</th>\n",
       "      <th>country</th>\n",
       "      <th>sic</th>\n",
       "      <th>management</th>\n",
       "      <th>operations</th>\n",
       "      <th>monitor</th>\n",
       "      <th>target</th>\n",
       "      <th>people</th>\n",
       "      <th>...</th>\n",
       "      <th>aa_196</th>\n",
       "      <th>aa_197</th>\n",
       "      <th>aa_198</th>\n",
       "      <th>aa_199</th>\n",
       "      <th>aa_200</th>\n",
       "      <th>aa_201</th>\n",
       "      <th>aa_202</th>\n",
       "      <th>aa_203</th>\n",
       "      <th>aa_204</th>\n",
       "      <th>aa_205</th>\n",
       "    </tr>\n",
       "  </thead>\n",
       "  <tbody>\n",
       "    <tr>\n",
       "      <th>0</th>\n",
       "      <td>1</td>\n",
       "      <td>2004</td>\n",
       "      <td>us</td>\n",
       "      <td>United States</td>\n",
       "      <td>38.0</td>\n",
       "      <td>3.500000</td>\n",
       "      <td>3.0</td>\n",
       "      <td>3.6</td>\n",
       "      <td>3.6</td>\n",
       "      <td>3.500000</td>\n",
       "      <td>...</td>\n",
       "      <td>0.0</td>\n",
       "      <td>0.0</td>\n",
       "      <td>0.0</td>\n",
       "      <td>0.0</td>\n",
       "      <td>0.0</td>\n",
       "      <td>0.0</td>\n",
       "      <td>0.0</td>\n",
       "      <td>0.0</td>\n",
       "      <td>0.0</td>\n",
       "      <td>0.0</td>\n",
       "    </tr>\n",
       "    <tr>\n",
       "      <th>1</th>\n",
       "      <td>1</td>\n",
       "      <td>2006</td>\n",
       "      <td>us</td>\n",
       "      <td>United States</td>\n",
       "      <td>38.0</td>\n",
       "      <td>3.166667</td>\n",
       "      <td>5.0</td>\n",
       "      <td>3.8</td>\n",
       "      <td>2.6</td>\n",
       "      <td>2.500000</td>\n",
       "      <td>...</td>\n",
       "      <td>0.0</td>\n",
       "      <td>0.0</td>\n",
       "      <td>0.0</td>\n",
       "      <td>0.0</td>\n",
       "      <td>0.0</td>\n",
       "      <td>0.0</td>\n",
       "      <td>0.0</td>\n",
       "      <td>0.0</td>\n",
       "      <td>0.0</td>\n",
       "      <td>0.0</td>\n",
       "    </tr>\n",
       "    <tr>\n",
       "      <th>2</th>\n",
       "      <td>1</td>\n",
       "      <td>2010</td>\n",
       "      <td>us</td>\n",
       "      <td>United States</td>\n",
       "      <td>38.0</td>\n",
       "      <td>3.000000</td>\n",
       "      <td>2.0</td>\n",
       "      <td>2.8</td>\n",
       "      <td>3.6</td>\n",
       "      <td>3.000000</td>\n",
       "      <td>...</td>\n",
       "      <td>0.0</td>\n",
       "      <td>0.0</td>\n",
       "      <td>0.0</td>\n",
       "      <td>0.0</td>\n",
       "      <td>0.0</td>\n",
       "      <td>0.0</td>\n",
       "      <td>0.0</td>\n",
       "      <td>0.0</td>\n",
       "      <td>0.0</td>\n",
       "      <td>0.0</td>\n",
       "    </tr>\n",
       "    <tr>\n",
       "      <th>3</th>\n",
       "      <td>2</td>\n",
       "      <td>2004</td>\n",
       "      <td>us</td>\n",
       "      <td>United States</td>\n",
       "      <td>28.0</td>\n",
       "      <td>4.666667</td>\n",
       "      <td>4.5</td>\n",
       "      <td>4.8</td>\n",
       "      <td>4.4</td>\n",
       "      <td>4.833333</td>\n",
       "      <td>...</td>\n",
       "      <td>0.0</td>\n",
       "      <td>0.0</td>\n",
       "      <td>0.0</td>\n",
       "      <td>0.0</td>\n",
       "      <td>0.0</td>\n",
       "      <td>0.0</td>\n",
       "      <td>0.0</td>\n",
       "      <td>0.0</td>\n",
       "      <td>0.0</td>\n",
       "      <td>0.0</td>\n",
       "    </tr>\n",
       "    <tr>\n",
       "      <th>4</th>\n",
       "      <td>2</td>\n",
       "      <td>2004</td>\n",
       "      <td>us</td>\n",
       "      <td>United States</td>\n",
       "      <td>28.0</td>\n",
       "      <td>4.444445</td>\n",
       "      <td>4.5</td>\n",
       "      <td>4.6</td>\n",
       "      <td>4.4</td>\n",
       "      <td>4.333333</td>\n",
       "      <td>...</td>\n",
       "      <td>0.0</td>\n",
       "      <td>0.0</td>\n",
       "      <td>0.0</td>\n",
       "      <td>0.0</td>\n",
       "      <td>0.0</td>\n",
       "      <td>0.0</td>\n",
       "      <td>0.0</td>\n",
       "      <td>0.0</td>\n",
       "      <td>0.0</td>\n",
       "      <td>0.0</td>\n",
       "    </tr>\n",
       "  </tbody>\n",
       "</table>\n",
       "<p>5 rows × 245 columns</p>\n",
       "</div>"
      ],
      "text/plain": [
       "   firmid  wave cty        country   sic  management  operations  monitor  \\\n",
       "0       1  2004  us  United States  38.0    3.500000         3.0      3.6   \n",
       "1       1  2006  us  United States  38.0    3.166667         5.0      3.8   \n",
       "2       1  2010  us  United States  38.0    3.000000         2.0      2.8   \n",
       "3       2  2004  us  United States  28.0    4.666667         4.5      4.8   \n",
       "4       2  2004  us  United States  28.0    4.444445         4.5      4.6   \n",
       "\n",
       "   target    people  ...  aa_196  aa_197  aa_198  aa_199  aa_200  aa_201  \\\n",
       "0     3.6  3.500000  ...     0.0     0.0     0.0     0.0     0.0     0.0   \n",
       "1     2.6  2.500000  ...     0.0     0.0     0.0     0.0     0.0     0.0   \n",
       "2     3.6  3.000000  ...     0.0     0.0     0.0     0.0     0.0     0.0   \n",
       "3     4.4  4.833333  ...     0.0     0.0     0.0     0.0     0.0     0.0   \n",
       "4     4.4  4.333333  ...     0.0     0.0     0.0     0.0     0.0     0.0   \n",
       "\n",
       "   aa_202  aa_203  aa_204  aa_205  \n",
       "0     0.0     0.0     0.0     0.0  \n",
       "1     0.0     0.0     0.0     0.0  \n",
       "2     0.0     0.0     0.0     0.0  \n",
       "3     0.0     0.0     0.0     0.0  \n",
       "4     0.0     0.0     0.0     0.0  \n",
       "\n",
       "[5 rows x 245 columns]"
      ]
     },
     "execution_count": 5,
     "metadata": {},
     "output_type": "execute_result"
    }
   ],
   "source": [
    "df.head()"
   ]
  },
  {
   "cell_type": "markdown",
   "metadata": {},
   "source": [
    "<h3>1.1 Sample selection</h3>\n",
    "<p>Our first step is to reproduce the book's sample selection. It analyzed a cross-section of Mexican firms from the 2013 wave of the survey. The author also excluded firms with fewer than 100 employees and more than 5000 employees.</p>"
   ]
  },
  {
   "cell_type": "code",
   "execution_count": 6,
   "metadata": {},
   "outputs": [],
   "source": [
    "df = df.loc[\n",
    "    lambda x: (x[\"country\"] == \"Mexico\") &\n",
    "              (x[\"wave\"] == 2013) &\n",
    "              (x[\"emp_firm\"] >= 100) &\n",
    "              (x[\"emp_firm\"] <= 5000)\n",
    "    ]"
   ]
  },
  {
   "cell_type": "code",
   "execution_count": 7,
   "metadata": {},
   "outputs": [
    {
     "data": {
      "text/plain": [
       "count     300.000000\n",
       "mean      761.140000\n",
       "std       977.035685\n",
       "min       100.000000\n",
       "25%       200.000000\n",
       "50%       353.000000\n",
       "75%       900.000000\n",
       "max      5000.000000\n",
       "Name: emp_firm, dtype: float64"
      ]
     },
     "execution_count": 7,
     "metadata": {},
     "output_type": "execute_result"
    }
   ],
   "source": [
    "df[\"emp_firm\"].describe()"
   ]
  },
  {
   "cell_type": "markdown",
   "metadata": {},
   "source": [
    "<p>Perfect. We have a sample of 300 firms, with min and max sizes between the established values. We can now save our workfile so that we can work it later on.</p>"
   ]
  },
  {
   "cell_type": "code",
   "execution_count": 8,
   "metadata": {},
   "outputs": [],
   "source": [
    "df.to_csv(f\"{data_out}ch04-wms_workfile.csv\", index=False)"
   ]
  },
  {
   "cell_type": "markdown",
   "metadata": {},
   "source": [
    "<h2>2. Visualizing the distribution of management score</h2>\n",
    "<p>Let's take a look at the distribution of the management score, which is a simple average of 18 score variables ranging from 1 to 5.</p>"
   ]
  },
  {
   "cell_type": "code",
   "execution_count": 9,
   "metadata": {},
   "outputs": [
    {
     "data": {
      "text/html": [
       "<div>\n",
       "<style scoped>\n",
       "    .dataframe tbody tr th:only-of-type {\n",
       "        vertical-align: middle;\n",
       "    }\n",
       "\n",
       "    .dataframe tbody tr th {\n",
       "        vertical-align: top;\n",
       "    }\n",
       "\n",
       "    .dataframe thead th {\n",
       "        text-align: right;\n",
       "    }\n",
       "</style>\n",
       "<table border=\"1\" class=\"dataframe\">\n",
       "  <thead>\n",
       "    <tr style=\"text-align: right;\">\n",
       "      <th></th>\n",
       "      <th>management</th>\n",
       "      <th>emp_firm</th>\n",
       "    </tr>\n",
       "  </thead>\n",
       "  <tbody>\n",
       "    <tr>\n",
       "      <th>count</th>\n",
       "      <td>300.000000</td>\n",
       "      <td>300.000000</td>\n",
       "    </tr>\n",
       "    <tr>\n",
       "      <th>mean</th>\n",
       "      <td>2.938519</td>\n",
       "      <td>761.140000</td>\n",
       "    </tr>\n",
       "    <tr>\n",
       "      <th>std</th>\n",
       "      <td>0.601059</td>\n",
       "      <td>977.035685</td>\n",
       "    </tr>\n",
       "    <tr>\n",
       "      <th>min</th>\n",
       "      <td>1.277778</td>\n",
       "      <td>100.000000</td>\n",
       "    </tr>\n",
       "    <tr>\n",
       "      <th>25%</th>\n",
       "      <td>2.555556</td>\n",
       "      <td>200.000000</td>\n",
       "    </tr>\n",
       "    <tr>\n",
       "      <th>50%</th>\n",
       "      <td>2.944444</td>\n",
       "      <td>353.000000</td>\n",
       "    </tr>\n",
       "    <tr>\n",
       "      <th>75%</th>\n",
       "      <td>3.277778</td>\n",
       "      <td>900.000000</td>\n",
       "    </tr>\n",
       "    <tr>\n",
       "      <th>max</th>\n",
       "      <td>4.611111</td>\n",
       "      <td>5000.000000</td>\n",
       "    </tr>\n",
       "  </tbody>\n",
       "</table>\n",
       "</div>"
      ],
      "text/plain": [
       "       management     emp_firm\n",
       "count  300.000000   300.000000\n",
       "mean     2.938519   761.140000\n",
       "std      0.601059   977.035685\n",
       "min      1.277778   100.000000\n",
       "25%      2.555556   200.000000\n",
       "50%      2.944444   353.000000\n",
       "75%      3.277778   900.000000\n",
       "max      4.611111  5000.000000"
      ]
     },
     "execution_count": 9,
     "metadata": {},
     "output_type": "execute_result"
    }
   ],
   "source": [
    "df.loc[:, [\"management\", \"emp_firm\"]].describe()"
   ]
  },
  {
   "cell_type": "code",
   "execution_count": 10,
   "metadata": {},
   "outputs": [
    {
     "data": {
      "image/png": "[encoded data removed]",
      "text/plain": [
       "<Figure size 640x480 with 1 Axes>"
      ]
     },
     "metadata": {},
     "output_type": "display_data"
    },
    {
     "data": {
      "text/plain": [
       "<ggplot: (172889723586)>"
      ]
     },
     "execution_count": 10,
     "metadata": {},
     "output_type": "execute_result"
    }
   ],
   "source": [
    "ggplot(df, aes(x=\"management\")) + geom_histogram(\n",
    "    aes(y=\"stat(count)/sum(stat(count))\"),\n",
    "    fill=color[0],\n",
    "    color=\"white\",\n",
    "    binwidth=0.25,\n",
    "    boundary=0,\n",
    "    closed=\"left\",\n",
    ") + labs(x=\"Management score\", y=\"Percent\") + scale_x_continuous(\n",
    "    expand=(0.01, 0.01), limits=(1, 5)\n",
    ") + scale_y_continuous(\n",
    "    expand=(0.00, 0.00),\n",
    "    limits=(0, 0.25),\n",
    "    breaks=seq(0, 0.26, by=0.05),\n",
    "    labels=percent_format()\n",
    ") + theme_bw()"
   ]
  },
  {
   "cell_type": "markdown",
   "metadata": {},
   "source": [
    "<p>Let's take a look at the histogram:</p>\n",
    "<ul>\n",
    "<li>The mean is <b>2.9</b>, while the median is also <b>2.9</b>.</li>\n",
    "<li>The standard deviation is <b>0.6</b>.</li>\n",
    "<li>We can tell that the mode is around <b>3.1</b>.</li>\n",
    "</ul>\n",
    "<h2>3. Visualizing the distribution of employment</h2>\n",
    "<p>Let's take a look at the summary statistic of Mexican firms by their respective size, which is measured by the number of employees employed by the firm.</p>"
   ]
  },
  {
   "cell_type": "code",
   "execution_count": 11,
   "metadata": {},
   "outputs": [
    {
     "data": {
      "text/plain": [
       "count     300.000000\n",
       "mean      761.140000\n",
       "std       977.035685\n",
       "min       100.000000\n",
       "25%       200.000000\n",
       "50%       353.000000\n",
       "75%       900.000000\n",
       "max      5000.000000\n",
       "Name: emp_firm, dtype: float64"
      ]
     },
     "execution_count": 11,
     "metadata": {},
     "output_type": "execute_result"
    }
   ],
   "source": [
    "df.loc[:, \"emp_firm\"].describe()"
   ]
  },
  {
   "cell_type": "markdown",
   "metadata": {},
   "source": [
    "<p>Observations:</p>\n",
    "<ul>\n",
    "<li>The mean is <b>761</b>.</li>\n",
    "<li>The median is <b>353</b>.</li>\n",
    "<li>Because the mean is far higher than the median, we can expect some significant <b>skwewness</b> represented by a long right tail.</li>\n",
    "<li>The standard deviation is <b>977</b>, which supports the argument that we are dealing with a skewed distribution.</li>\n",
    "</ul>\n",
    "<p>Let's first plot a histogram using a normal scale.</p>"
   ]
  },
  {
   "cell_type": "code",
   "execution_count": 12,
   "metadata": {},
   "outputs": [
    {
     "data": {
      "image/png": "[encoded data removed]",
      "text/plain": [
       "<Figure size 640x480 with 1 Axes>"
      ]
     },
     "metadata": {},
     "output_type": "display_data"
    },
    {
     "data": {
      "text/plain": [
       "<ggplot: (172890326848)>"
      ]
     },
     "execution_count": 12,
     "metadata": {},
     "output_type": "execute_result"
    }
   ],
   "source": [
    "ggplot(df, aes(x=\"emp_firm\", y=\"stat(count)/sum(stat(count))\")) + geom_histogram(\n",
    "    fill=color[0], color=\"white\", binwidth=200, boundary=0, closed=\"left\"\n",
    ") + labs(x=\"Firm size (employment)\", y=\"Percent\") + scale_x_continuous(\n",
    "    expand=(0.01, 0.01), limits=(0, 5000), breaks=seq(0, 5001, by=1000)\n",
    ") + scale_y_continuous(\n",
    "    expand=(0.00, 0.00),\n",
    "    limits=(0, 0.3),\n",
    "    breaks=seq(0, 0.5, by=0.05),\n",
    "    labels=percent_format(),\n",
    ") + theme_bw()"
   ]
  },
  {
   "cell_type": "markdown",
   "metadata": {},
   "source": [
    "<p>As we can see, most Mexican firms have less than 1000 employees. There are a few extreme values, with two firms with around 4500 employees and three with 4000 employees.</p>\n",
    "<p>To make this distrbution more symmetric, we can plot a histogram formatted by the <b>lognormal distribution</b>.</p>"
   ]
  },
  {
   "cell_type": "code",
   "execution_count": 13,
   "metadata": {},
   "outputs": [
    {
     "data": {
      "text/plain": [
       "count    300.000000\n",
       "mean       6.081850\n",
       "std        0.992700\n",
       "min        4.605170\n",
       "25%        5.298317\n",
       "50%        5.866432\n",
       "75%        6.802395\n",
       "max        8.517193\n",
       "Name: lnemp_firm, dtype: float64"
      ]
     },
     "execution_count": 13,
     "metadata": {},
     "output_type": "execute_result"
    }
   ],
   "source": [
    "df[\"lnemp_firm\"] = np.log(df[\"emp_firm\"])\n",
    "df[\"lnemp_firm\"].describe()"
   ]
  },
  {
   "cell_type": "code",
   "execution_count": 14,
   "metadata": {},
   "outputs": [
    {
     "data": {
      "image/png": "[encoded data removed]",
      "text/plain": [
       "<Figure size 640x480 with 1 Axes>"
      ]
     },
     "metadata": {},
     "output_type": "display_data"
    },
    {
     "data": {
      "text/plain": [
       "<ggplot: (172890631012)>"
      ]
     },
     "execution_count": 14,
     "metadata": {},
     "output_type": "execute_result"
    }
   ],
   "source": [
    "ggplot(df, aes(x=\"lnemp_firm\"))  + geom_histogram(\n",
    "    aes(y=\"stat(count)/sum(stat(count))\"),\n",
    "    fill=color[0], \n",
    "    color=\"white\", \n",
    "    binwidth=0.25, \n",
    "    boundary=0, \n",
    "    closed=\"left\"\n",
    ") + labs(x=\"Firm size (ln(employment))\", y=\"Percent\") + scale_x_continuous(\n",
    "    expand=(0.01, 0.01), limits=(4, 9) \n",
    ") + scale_y_continuous(\n",
    "    expand=(0.00, 0.00),\n",
    "    limits=(0, 0.2),\n",
    "    breaks=seq(0, 0.2, by=0.04),\n",
    "    labels=percent_format(),\n",
    ") + theme_bw()"
   ]
  },
  {
   "cell_type": "markdown",
   "metadata": {},
   "source": [
    "<p>We notice that the distribution is not as skewed as before, yet it still presents a longer tail to the right. The distribution, nonetheless, is much more symmetrical. In conclusion, the distribution of employment is skewed; while closer to lognormal than normal, the latter is still not the best approach.</p>\n",
    "<h2>4. Conditional probabilities | Binning firm size and visualize the quality of specific management practices accordingly</h2>\n",
    "<p>As a reminder, <b>conditional probability</b> of an event means the probability of an event if another event (the conditioning event) happens. Because both the management score and employment are quantitative variables with many values, they are not adequate for an investigation conditional probabilities.</p>\n",
    "<p>To overcome this issue, we will create a <b>qualitative</b> variable by creating three bins of employment: <b>small, medium, and large</b>. Let's follow the book's example and bind the bins by three intervals: 100-199, 200-999, and 1000+.\n"
   ]
  },
  {
   "cell_type": "code",
   "execution_count": 15,
   "metadata": {},
   "outputs": [],
   "source": [
    "df[\"emp3bins\"] = np.where(df[\"emp_firm\"] < 200, 1, pd.np.nan)\n",
    "df[\"emp3bins\"] = np.where((df[\"emp_firm\"] >= 200) & (df[\"emp_firm\"] < 1000), 2, df[\"emp3bins\"])\n",
    "df[\"emp3bins\"] = np.where(df[\"emp_firm\"] >= 1000, 3, df[\"emp3bins\"])"
   ]
  },
  {
   "cell_type": "code",
   "execution_count": 16,
   "metadata": {},
   "outputs": [
    {
     "data": {
      "text/html": [
       "<div>\n",
       "<style scoped>\n",
       "    .dataframe tbody tr th:only-of-type {\n",
       "        vertical-align: middle;\n",
       "    }\n",
       "\n",
       "    .dataframe tbody tr th {\n",
       "        vertical-align: top;\n",
       "    }\n",
       "\n",
       "    .dataframe thead th {\n",
       "        text-align: right;\n",
       "    }\n",
       "</style>\n",
       "<table border=\"1\" class=\"dataframe\">\n",
       "  <thead>\n",
       "    <tr style=\"text-align: right;\">\n",
       "      <th></th>\n",
       "      <th>firmid</th>\n",
       "      <th>wave</th>\n",
       "      <th>cty</th>\n",
       "      <th>country</th>\n",
       "      <th>sic</th>\n",
       "      <th>management</th>\n",
       "      <th>operations</th>\n",
       "      <th>monitor</th>\n",
       "      <th>target</th>\n",
       "      <th>people</th>\n",
       "      <th>...</th>\n",
       "      <th>aa_198</th>\n",
       "      <th>aa_199</th>\n",
       "      <th>aa_200</th>\n",
       "      <th>aa_201</th>\n",
       "      <th>aa_202</th>\n",
       "      <th>aa_203</th>\n",
       "      <th>aa_204</th>\n",
       "      <th>aa_205</th>\n",
       "      <th>lnemp_firm</th>\n",
       "      <th>emp3bins</th>\n",
       "    </tr>\n",
       "  </thead>\n",
       "  <tbody>\n",
       "    <tr>\n",
       "      <th>10859</th>\n",
       "      <td>7778</td>\n",
       "      <td>2013</td>\n",
       "      <td>mx</td>\n",
       "      <td>Mexico</td>\n",
       "      <td>36.0</td>\n",
       "      <td>3.333333</td>\n",
       "      <td>3.5</td>\n",
       "      <td>3.6</td>\n",
       "      <td>2.8</td>\n",
       "      <td>3.500000</td>\n",
       "      <td>...</td>\n",
       "      <td>0.0</td>\n",
       "      <td>0.0</td>\n",
       "      <td>0.0</td>\n",
       "      <td>0.0</td>\n",
       "      <td>0.0</td>\n",
       "      <td>0.0</td>\n",
       "      <td>0.0</td>\n",
       "      <td>0.0</td>\n",
       "      <td>5.521461</td>\n",
       "      <td>2.0</td>\n",
       "    </tr>\n",
       "    <tr>\n",
       "      <th>10861</th>\n",
       "      <td>7780</td>\n",
       "      <td>2013</td>\n",
       "      <td>mx</td>\n",
       "      <td>Mexico</td>\n",
       "      <td>37.0</td>\n",
       "      <td>3.500000</td>\n",
       "      <td>2.5</td>\n",
       "      <td>4.0</td>\n",
       "      <td>3.8</td>\n",
       "      <td>3.166667</td>\n",
       "      <td>...</td>\n",
       "      <td>0.0</td>\n",
       "      <td>0.0</td>\n",
       "      <td>0.0</td>\n",
       "      <td>0.0</td>\n",
       "      <td>0.0</td>\n",
       "      <td>0.0</td>\n",
       "      <td>0.0</td>\n",
       "      <td>0.0</td>\n",
       "      <td>8.411833</td>\n",
       "      <td>3.0</td>\n",
       "    </tr>\n",
       "    <tr>\n",
       "      <th>10862</th>\n",
       "      <td>7781</td>\n",
       "      <td>2013</td>\n",
       "      <td>mx</td>\n",
       "      <td>Mexico</td>\n",
       "      <td>30.0</td>\n",
       "      <td>3.888889</td>\n",
       "      <td>4.0</td>\n",
       "      <td>4.8</td>\n",
       "      <td>4.0</td>\n",
       "      <td>3.000000</td>\n",
       "      <td>...</td>\n",
       "      <td>0.0</td>\n",
       "      <td>0.0</td>\n",
       "      <td>0.0</td>\n",
       "      <td>0.0</td>\n",
       "      <td>0.0</td>\n",
       "      <td>0.0</td>\n",
       "      <td>0.0</td>\n",
       "      <td>0.0</td>\n",
       "      <td>5.669881</td>\n",
       "      <td>2.0</td>\n",
       "    </tr>\n",
       "    <tr>\n",
       "      <th>10865</th>\n",
       "      <td>7783</td>\n",
       "      <td>2013</td>\n",
       "      <td>mx</td>\n",
       "      <td>Mexico</td>\n",
       "      <td>22.0</td>\n",
       "      <td>1.833333</td>\n",
       "      <td>1.0</td>\n",
       "      <td>2.4</td>\n",
       "      <td>1.8</td>\n",
       "      <td>1.666667</td>\n",
       "      <td>...</td>\n",
       "      <td>0.0</td>\n",
       "      <td>0.0</td>\n",
       "      <td>0.0</td>\n",
       "      <td>0.0</td>\n",
       "      <td>0.0</td>\n",
       "      <td>0.0</td>\n",
       "      <td>0.0</td>\n",
       "      <td>0.0</td>\n",
       "      <td>5.857933</td>\n",
       "      <td>2.0</td>\n",
       "    </tr>\n",
       "    <tr>\n",
       "      <th>10866</th>\n",
       "      <td>7784</td>\n",
       "      <td>2013</td>\n",
       "      <td>mx</td>\n",
       "      <td>Mexico</td>\n",
       "      <td>20.0</td>\n",
       "      <td>2.222222</td>\n",
       "      <td>2.5</td>\n",
       "      <td>2.8</td>\n",
       "      <td>1.8</td>\n",
       "      <td>2.000000</td>\n",
       "      <td>...</td>\n",
       "      <td>0.0</td>\n",
       "      <td>0.0</td>\n",
       "      <td>0.0</td>\n",
       "      <td>0.0</td>\n",
       "      <td>0.0</td>\n",
       "      <td>0.0</td>\n",
       "      <td>0.0</td>\n",
       "      <td>0.0</td>\n",
       "      <td>5.298317</td>\n",
       "      <td>2.0</td>\n",
       "    </tr>\n",
       "  </tbody>\n",
       "</table>\n",
       "<p>5 rows × 247 columns</p>\n",
       "</div>"
      ],
      "text/plain": [
       "       firmid  wave cty country   sic  management  operations  monitor  \\\n",
       "10859    7778  2013  mx  Mexico  36.0    3.333333         3.5      3.6   \n",
       "10861    7780  2013  mx  Mexico  37.0    3.500000         2.5      4.0   \n",
       "10862    7781  2013  mx  Mexico  30.0    3.888889         4.0      4.8   \n",
       "10865    7783  2013  mx  Mexico  22.0    1.833333         1.0      2.4   \n",
       "10866    7784  2013  mx  Mexico  20.0    2.222222         2.5      2.8   \n",
       "\n",
       "       target    people  ...  aa_198  aa_199  aa_200  aa_201  aa_202  aa_203  \\\n",
       "10859     2.8  3.500000  ...     0.0     0.0     0.0     0.0     0.0     0.0   \n",
       "10861     3.8  3.166667  ...     0.0     0.0     0.0     0.0     0.0     0.0   \n",
       "10862     4.0  3.000000  ...     0.0     0.0     0.0     0.0     0.0     0.0   \n",
       "10865     1.8  1.666667  ...     0.0     0.0     0.0     0.0     0.0     0.0   \n",
       "10866     1.8  2.000000  ...     0.0     0.0     0.0     0.0     0.0     0.0   \n",
       "\n",
       "       aa_204  aa_205  lnemp_firm  emp3bins  \n",
       "10859     0.0     0.0    5.521461       2.0  \n",
       "10861     0.0     0.0    8.411833       3.0  \n",
       "10862     0.0     0.0    5.669881       2.0  \n",
       "10865     0.0     0.0    5.857933       2.0  \n",
       "10866     0.0     0.0    5.298317       2.0  \n",
       "\n",
       "[5 rows x 247 columns]"
      ]
     },
     "execution_count": 16,
     "metadata": {},
     "output_type": "execute_result"
    }
   ],
   "source": [
    "df.head()"
   ]
  },
  {
   "cell_type": "code",
   "execution_count": 17,
   "metadata": {},
   "outputs": [
    {
     "data": {
      "text/plain": [
       "count    300.000000\n",
       "mean       2.000000\n",
       "std        0.693978\n",
       "min        1.000000\n",
       "25%        2.000000\n",
       "50%        2.000000\n",
       "75%        2.000000\n",
       "max        3.000000\n",
       "Name: emp3bins, dtype: float64"
      ]
     },
     "execution_count": 17,
     "metadata": {},
     "output_type": "execute_result"
    }
   ],
   "source": [
    "df[\"emp3bins\"].describe()"
   ]
  },
  {
   "cell_type": "markdown",
   "metadata": {},
   "source": [
    "<h3>4.1 Plotting stacked charts - Describing patterns of association</h3>\n",
    "<p>We will use stacked charts to visualize conditional probabilities. Because we have 15 conditional probabilities for each management score (that is, the probability of each of the 5 values of y by each of the three values of x), a stacked bar chart will be of great assistance. Let's create the DataFrames for our job.</p>\n",
    "<h4>4.1.1 Stacked bar chart | Figure 4.3 (a) Lean management</h4>\n"
   ]
  },
  {
   "cell_type": "code",
   "execution_count": 18,
   "metadata": {},
   "outputs": [],
   "source": [
    "df1 = pd.DataFrame(\n",
    "    df.loc[:, [\"emp3bins\", \"lean1\"]].groupby([\"emp3bins\", \"lean1\"]).agg(\"size\")\n",
    ").reset_index()\n",
    "\n",
    "df1.columns = [\"emp3bins\", \"lean1\", \"Count\"]\n",
    "\n",
    "group_counts = df1.groupby(\"emp3bins\").agg(\"sum\")[\"Count\"]\n",
    "\n",
    "df1.loc[df1[\"emp3bins\"] == 1, \"Percent\"] = round(df1.loc[df1[\"emp3bins\"] == 1, \"Count\"]/group_counts[1],5)\n",
    "df1.loc[df1[\"emp3bins\"] == 2, \"Percent\"] = round(df1.loc[df1[\"emp3bins\"] == 2, \"Count\"]/group_counts[2],5)\n",
    "df1.loc[df1[\"emp3bins\"] == 3, \"Percent\"] = round(df1.loc[df1[\"emp3bins\"] == 3, \"Count\"]/group_counts[3],5)\n",
    "\n",
    "df1 = df1.assign(\n",
    "    lean1=pd.Categorical(\n",
    "        df1[\"lean1\"], categories=sorted(set(df[\"lean1\"]), reverse=True)\n",
    "    )\n",
    ")"
   ]
  },
  {
   "cell_type": "code",
   "execution_count": 19,
   "metadata": {},
   "outputs": [
    {
     "data": {
      "text/html": [
       "<div>\n",
       "<style scoped>\n",
       "    .dataframe tbody tr th:only-of-type {\n",
       "        vertical-align: middle;\n",
       "    }\n",
       "\n",
       "    .dataframe tbody tr th {\n",
       "        vertical-align: top;\n",
       "    }\n",
       "\n",
       "    .dataframe thead th {\n",
       "        text-align: right;\n",
       "    }\n",
       "</style>\n",
       "<table border=\"1\" class=\"dataframe\">\n",
       "  <thead>\n",
       "    <tr style=\"text-align: right;\">\n",
       "      <th></th>\n",
       "      <th>emp3bins</th>\n",
       "      <th>lean1</th>\n",
       "      <th>Count</th>\n",
       "      <th>Percent</th>\n",
       "    </tr>\n",
       "  </thead>\n",
       "  <tbody>\n",
       "    <tr>\n",
       "      <th>0</th>\n",
       "      <td>1.0</td>\n",
       "      <td>1.0</td>\n",
       "      <td>14</td>\n",
       "      <td>0.19444</td>\n",
       "    </tr>\n",
       "    <tr>\n",
       "      <th>1</th>\n",
       "      <td>1.0</td>\n",
       "      <td>2.0</td>\n",
       "      <td>27</td>\n",
       "      <td>0.37500</td>\n",
       "    </tr>\n",
       "    <tr>\n",
       "      <th>2</th>\n",
       "      <td>1.0</td>\n",
       "      <td>3.0</td>\n",
       "      <td>23</td>\n",
       "      <td>0.31944</td>\n",
       "    </tr>\n",
       "    <tr>\n",
       "      <th>3</th>\n",
       "      <td>1.0</td>\n",
       "      <td>4.0</td>\n",
       "      <td>8</td>\n",
       "      <td>0.11111</td>\n",
       "    </tr>\n",
       "    <tr>\n",
       "      <th>4</th>\n",
       "      <td>2.0</td>\n",
       "      <td>1.0</td>\n",
       "      <td>13</td>\n",
       "      <td>0.08333</td>\n",
       "    </tr>\n",
       "    <tr>\n",
       "      <th>5</th>\n",
       "      <td>2.0</td>\n",
       "      <td>2.0</td>\n",
       "      <td>45</td>\n",
       "      <td>0.28846</td>\n",
       "    </tr>\n",
       "    <tr>\n",
       "      <th>6</th>\n",
       "      <td>2.0</td>\n",
       "      <td>3.0</td>\n",
       "      <td>56</td>\n",
       "      <td>0.35897</td>\n",
       "    </tr>\n",
       "    <tr>\n",
       "      <th>7</th>\n",
       "      <td>2.0</td>\n",
       "      <td>4.0</td>\n",
       "      <td>34</td>\n",
       "      <td>0.21795</td>\n",
       "    </tr>\n",
       "    <tr>\n",
       "      <th>8</th>\n",
       "      <td>2.0</td>\n",
       "      <td>5.0</td>\n",
       "      <td>8</td>\n",
       "      <td>0.05128</td>\n",
       "    </tr>\n",
       "    <tr>\n",
       "      <th>9</th>\n",
       "      <td>3.0</td>\n",
       "      <td>1.0</td>\n",
       "      <td>5</td>\n",
       "      <td>0.06944</td>\n",
       "    </tr>\n",
       "    <tr>\n",
       "      <th>10</th>\n",
       "      <td>3.0</td>\n",
       "      <td>2.0</td>\n",
       "      <td>19</td>\n",
       "      <td>0.26389</td>\n",
       "    </tr>\n",
       "    <tr>\n",
       "      <th>11</th>\n",
       "      <td>3.0</td>\n",
       "      <td>3.0</td>\n",
       "      <td>22</td>\n",
       "      <td>0.30556</td>\n",
       "    </tr>\n",
       "    <tr>\n",
       "      <th>12</th>\n",
       "      <td>3.0</td>\n",
       "      <td>4.0</td>\n",
       "      <td>20</td>\n",
       "      <td>0.27778</td>\n",
       "    </tr>\n",
       "    <tr>\n",
       "      <th>13</th>\n",
       "      <td>3.0</td>\n",
       "      <td>5.0</td>\n",
       "      <td>6</td>\n",
       "      <td>0.08333</td>\n",
       "    </tr>\n",
       "  </tbody>\n",
       "</table>\n",
       "</div>"
      ],
      "text/plain": [
       "    emp3bins lean1  Count  Percent\n",
       "0        1.0   1.0     14  0.19444\n",
       "1        1.0   2.0     27  0.37500\n",
       "2        1.0   3.0     23  0.31944\n",
       "3        1.0   4.0      8  0.11111\n",
       "4        2.0   1.0     13  0.08333\n",
       "5        2.0   2.0     45  0.28846\n",
       "6        2.0   3.0     56  0.35897\n",
       "7        2.0   4.0     34  0.21795\n",
       "8        2.0   5.0      8  0.05128\n",
       "9        3.0   1.0      5  0.06944\n",
       "10       3.0   2.0     19  0.26389\n",
       "11       3.0   3.0     22  0.30556\n",
       "12       3.0   4.0     20  0.27778\n",
       "13       3.0   5.0      6  0.08333"
      ]
     },
     "execution_count": 19,
     "metadata": {},
     "output_type": "execute_result"
    }
   ],
   "source": [
    "df1"
   ]
  },
  {
   "cell_type": "code",
   "execution_count": 20,
   "metadata": {},
   "outputs": [
    {
     "data": {
      "image/png": "[encoded data removed]",
      "text/plain": [
       "<Figure size 640x480 with 1 Axes>"
      ]
     },
     "metadata": {},
     "output_type": "display_data"
    },
    {
     "data": {
      "text/plain": [
       "<ggplot: (172889802485)>"
      ]
     },
     "execution_count": 20,
     "metadata": {},
     "output_type": "execute_result"
    }
   ],
   "source": [
    "ggplot(df1, aes(x=\"emp3bins\", y=\"Percent\", fill=\"lean1\")) + geom_bar(\n",
    "    stat=\"identity\", position=\"fill\", width=0.6, color=\"white\", size=0.5, alpha=0.8\n",
    ") + scale_y_continuous( \n",
    "    expand=(0, 0), limits=(0, 1), breaks=seq(0, 1.1, by=0.2), labels=percent_format()\n",
    ") + labs(\n",
    "    x=\"Firm size (employment), 3 bins\", y=\"Percent\"\n",
    ") + theme_bw() + theme(\n",
    "    legend_position=\"right\"\n",
    ") + scale_fill_manual(\n",
    "    values=(color[2], color[0], color[4], color[1], color[3]), name=\" \"\n",
    ") + scale_x_discrete(limits=[1, 2, 3],\n",
    "                     labels=[\"Small\", \"Medium\", \"Large\"])"
   ]
  },
  {
   "cell_type": "markdown",
   "metadata": {},
   "source": [
    "<p>Let's plot the second stacked chart before jumping into any conclusions.</p>\n",
    "<h4>4.1.2 Stacked bar chart | Figure 4.3 (b) Performance tracking</h4>\n"
   ]
  },
  {
   "cell_type": "code",
   "execution_count": 21,
   "metadata": {},
   "outputs": [],
   "source": [
    "df2 = pd.DataFrame(\n",
    "    df.loc[:, [\"emp3bins\", \"perf2\"]].groupby([\"emp3bins\", \"perf2\"]).agg(\"size\")\n",
    ").reset_index()\n",
    "\n",
    "df2.columns = [\"emp3bins\", \"perf2\", \"Count\"]\n",
    "\n",
    "group_counts = df2.groupby(\"emp3bins\").agg(\"sum\")[\"Count\"]\n",
    "\n",
    "df2.loc[df2[\"emp3bins\"] == 1, \"Percent\"] = round(df2.loc[df2[\"emp3bins\"] == 1, \"Count\"]/group_counts[1],5)\n",
    "df2.loc[df2[\"emp3bins\"] == 2, \"Percent\"] = round(df2.loc[df2[\"emp3bins\"] == 2, \"Count\"]/group_counts[2],5)\n",
    "df2.loc[df2[\"emp3bins\"] == 3, \"Percent\"] = round(df2.loc[df2[\"emp3bins\"] == 3, \"Count\"]/group_counts[3],5)\n",
    "\n",
    "df2 = df2.assign(\n",
    "    perf2=pd.Categorical(\n",
    "        df2[\"perf2\"], categories=sorted(set(df[\"perf2\"]), reverse=True)\n",
    "    )\n",
    ")"
   ]
  },
  {
   "cell_type": "code",
   "execution_count": 22,
   "metadata": {},
   "outputs": [
    {
     "data": {
      "image/png": "[encoded data removed]",
      "text/plain": [
       "<Figure size 640x480 with 1 Axes>"
      ]
     },
     "metadata": {},
     "output_type": "display_data"
    },
    {
     "data": {
      "text/plain": [
       "<ggplot: (172889849733)>"
      ]
     },
     "execution_count": 22,
     "metadata": {},
     "output_type": "execute_result"
    }
   ],
   "source": [
    "ggplot(df2, aes(x=\"emp3bins\", y=\"Percent\", fill=\"perf2\")) + geom_bar(\n",
    "    stat=\"identity\", position=\"fill\", width=0.6, color=\"white\", size=0.5, alpha=0.8\n",
    ") + scale_y_continuous( \n",
    "    expand=(0, 0), limits=(0, 1), breaks=seq(0, 1.1, by=0.2), labels=percent_format()\n",
    ") + labs(\n",
    "    x=\"Firm size (employment), 3 bins\", y=\"Percent\"\n",
    ") + theme_bw() + theme(\n",
    "    legend_position=\"right\"\n",
    ") + scale_fill_manual(\n",
    "    values=(color[2], color[0], color[4], color[1], color[3]), name=\" \"\n",
    ") + scale_x_discrete(limits=[1, 2, 3],\n",
    "                     labels=[\"Small\", \"Medium\", \"Large\"])"
   ]
  },
  {
   "cell_type": "code",
   "execution_count": 23,
   "metadata": {},
   "outputs": [
    {
     "data": {
      "text/plain": [
       "(    emp3bins lean1  Count  Percent\n",
       " 0        1.0   1.0     14  0.19444\n",
       " 1        1.0   2.0     27  0.37500\n",
       " 2        1.0   3.0     23  0.31944\n",
       " 3        1.0   4.0      8  0.11111\n",
       " 4        2.0   1.0     13  0.08333\n",
       " 5        2.0   2.0     45  0.28846\n",
       " 6        2.0   3.0     56  0.35897\n",
       " 7        2.0   4.0     34  0.21795\n",
       " 8        2.0   5.0      8  0.05128\n",
       " 9        3.0   1.0      5  0.06944\n",
       " 10       3.0   2.0     19  0.26389\n",
       " 11       3.0   3.0     22  0.30556\n",
       " 12       3.0   4.0     20  0.27778\n",
       " 13       3.0   5.0      6  0.08333,\n",
       "     emp3bins perf2  Count  Percent\n",
       " 0        1.0   1.0      4  0.05556\n",
       " 1        1.0   2.0     12  0.16667\n",
       " 2        1.0   3.0     26  0.36111\n",
       " 3        1.0   4.0     26  0.36111\n",
       " 4        1.0   5.0      4  0.05556\n",
       " 5        2.0   1.0      5  0.03205\n",
       " 6        2.0   2.0     19  0.12179\n",
       " 7        2.0   3.0     43  0.27564\n",
       " 8        2.0   4.0     70  0.44872\n",
       " 9        2.0   5.0     19  0.12179\n",
       " 10       3.0   1.0      1  0.01389\n",
       " 11       3.0   2.0      8  0.11111\n",
       " 12       3.0   3.0     14  0.19444\n",
       " 13       3.0   4.0     31  0.43056\n",
       " 14       3.0   5.0     18  0.25000)"
      ]
     },
     "execution_count": 23,
     "metadata": {},
     "output_type": "execute_result"
    }
   ],
   "source": [
    "df1, df2"
   ]
  },
  {
   "cell_type": "markdown",
   "metadata": {},
   "source": [
    "<p>As we can see, for both performance scores, the figures display the same pattern association between the quality of management and firm size. Small firms tend to have low scores and a lower probability of displaying high scores than medium-sized firms, which are more likely to have low scores and less likely to have high scores than large firms. When it comes to lean management, scores 4 and 5 take up 11% of small firms (only score 4, as there was no score 5 registered for this firm size). Medium-sized firms registered a percentage of 27pp, while large firms showed an even higher proportion: 36pp. For performance tracking, the corresponding percentages are 40%, 57%, and 68%. These results suggest that <b>larger firms</b> are more likely to be better managed.</p>\n",
    "<h3>4.2 Ploting bin scatters</h3>\n",
    "<h4>4.2.1 Three bins</h4>\n",
    "<p>We can now discuss conditional mean and joint distribution. Remember that <b>joint distribution</b> of two variables is the frequency of each value combination of the two variables. First, let's use the three bins that we had created. We can group them by the 3 bins and the firm sizes. We can get aggregate measures of min, max, average, median, standard deviation, and frequency of each bin category. Then, we will replace the bin numbers by a point corresponding to the midpoint in the employment bin (for instance, 150 for the 100-199 bin, 600 for the 200-999 bin, and so on).</p>"
   ]
  },
  {
   "cell_type": "code",
   "execution_count": 24,
   "metadata": {},
   "outputs": [
    {
     "data": {
      "text/html": [
       "<div>\n",
       "<style scoped>\n",
       "    .dataframe tbody tr th:only-of-type {\n",
       "        vertical-align: middle;\n",
       "    }\n",
       "\n",
       "    .dataframe tbody tr th {\n",
       "        vertical-align: top;\n",
       "    }\n",
       "\n",
       "    .dataframe thead tr th {\n",
       "        text-align: left;\n",
       "    }\n",
       "\n",
       "    .dataframe thead tr:last-of-type th {\n",
       "        text-align: right;\n",
       "    }\n",
       "</style>\n",
       "<table border=\"1\" class=\"dataframe\">\n",
       "  <thead>\n",
       "    <tr>\n",
       "      <th></th>\n",
       "      <th colspan=\"6\" halign=\"left\">emp_firm</th>\n",
       "    </tr>\n",
       "    <tr>\n",
       "      <th></th>\n",
       "      <th>min</th>\n",
       "      <th>max</th>\n",
       "      <th>mean</th>\n",
       "      <th>median</th>\n",
       "      <th>std</th>\n",
       "      <th>size</th>\n",
       "    </tr>\n",
       "    <tr>\n",
       "      <th>emp3bins</th>\n",
       "      <th></th>\n",
       "      <th></th>\n",
       "      <th></th>\n",
       "      <th></th>\n",
       "      <th></th>\n",
       "      <th></th>\n",
       "    </tr>\n",
       "  </thead>\n",
       "  <tbody>\n",
       "    <tr>\n",
       "      <th>1.0</th>\n",
       "      <td>100.0</td>\n",
       "      <td>197.0</td>\n",
       "      <td>145.597222</td>\n",
       "      <td>150.0</td>\n",
       "      <td>26.397108</td>\n",
       "      <td>72</td>\n",
       "    </tr>\n",
       "    <tr>\n",
       "      <th>2.0</th>\n",
       "      <td>200.0</td>\n",
       "      <td>994.0</td>\n",
       "      <td>413.153846</td>\n",
       "      <td>353.0</td>\n",
       "      <td>190.397552</td>\n",
       "      <td>156</td>\n",
       "    </tr>\n",
       "    <tr>\n",
       "      <th>3.0</th>\n",
       "      <td>1000.0</td>\n",
       "      <td>5000.0</td>\n",
       "      <td>2130.652778</td>\n",
       "      <td>1650.0</td>\n",
       "      <td>1178.115578</td>\n",
       "      <td>72</td>\n",
       "    </tr>\n",
       "  </tbody>\n",
       "</table>\n",
       "</div>"
      ],
      "text/plain": [
       "         emp_firm                                               \n",
       "              min     max         mean  median          std size\n",
       "emp3bins                                                        \n",
       "1.0         100.0   197.0   145.597222   150.0    26.397108   72\n",
       "2.0         200.0   994.0   413.153846   353.0   190.397552  156\n",
       "3.0        1000.0  5000.0  2130.652778  1650.0  1178.115578   72"
      ]
     },
     "execution_count": 24,
     "metadata": {},
     "output_type": "execute_result"
    }
   ],
   "source": [
    "df.filter([\"emp_firm\", \"emp3bins\"]).groupby(\"emp3bins\").agg(\n",
    "    [\"min\", \"max\", \"mean\", \"median\", np.std, \"size\"]\n",
    ")"
   ]
  },
  {
   "cell_type": "code",
   "execution_count": 25,
   "metadata": {},
   "outputs": [
    {
     "data": {
      "text/plain": [
       "10859     600.0\n",
       "10861    3000.0\n",
       "10862     600.0\n",
       "10865     600.0\n",
       "10866     600.0\n",
       "          ...  \n",
       "11375     600.0\n",
       "11376     600.0\n",
       "11378     600.0\n",
       "11379     600.0\n",
       "11381    3000.0\n",
       "Name: emp3bins, Length: 300, dtype: float64"
      ]
     },
     "execution_count": 25,
     "metadata": {},
     "output_type": "execute_result"
    }
   ],
   "source": [
    "# Recode employee bins \n",
    "df[\"emp3bins\"] = df[\"emp3bins\"].replace(1, 150).replace(2, 600).replace(3, 3000)\n",
    "df[\"emp3bins\"]"
   ]
  },
  {
   "cell_type": "code",
   "execution_count": 26,
   "metadata": {},
   "outputs": [
    {
     "data": {
      "text/html": [
       "<div>\n",
       "<style scoped>\n",
       "    .dataframe tbody tr th:only-of-type {\n",
       "        vertical-align: middle;\n",
       "    }\n",
       "\n",
       "    .dataframe tbody tr th {\n",
       "        vertical-align: top;\n",
       "    }\n",
       "\n",
       "    .dataframe thead tr th {\n",
       "        text-align: left;\n",
       "    }\n",
       "\n",
       "    .dataframe thead tr:last-of-type th {\n",
       "        text-align: right;\n",
       "    }\n",
       "</style>\n",
       "<table border=\"1\" class=\"dataframe\">\n",
       "  <thead>\n",
       "    <tr>\n",
       "      <th></th>\n",
       "      <th colspan=\"6\" halign=\"left\">emp_firm</th>\n",
       "    </tr>\n",
       "    <tr>\n",
       "      <th></th>\n",
       "      <th>min</th>\n",
       "      <th>max</th>\n",
       "      <th>mean</th>\n",
       "      <th>median</th>\n",
       "      <th>std</th>\n",
       "      <th>size</th>\n",
       "    </tr>\n",
       "    <tr>\n",
       "      <th>emp3bins</th>\n",
       "      <th></th>\n",
       "      <th></th>\n",
       "      <th></th>\n",
       "      <th></th>\n",
       "      <th></th>\n",
       "      <th></th>\n",
       "    </tr>\n",
       "  </thead>\n",
       "  <tbody>\n",
       "    <tr>\n",
       "      <th>150.0</th>\n",
       "      <td>100.0</td>\n",
       "      <td>197.0</td>\n",
       "      <td>145.597222</td>\n",
       "      <td>150.0</td>\n",
       "      <td>26.397108</td>\n",
       "      <td>72</td>\n",
       "    </tr>\n",
       "    <tr>\n",
       "      <th>600.0</th>\n",
       "      <td>200.0</td>\n",
       "      <td>994.0</td>\n",
       "      <td>413.153846</td>\n",
       "      <td>353.0</td>\n",
       "      <td>190.397552</td>\n",
       "      <td>156</td>\n",
       "    </tr>\n",
       "    <tr>\n",
       "      <th>3000.0</th>\n",
       "      <td>1000.0</td>\n",
       "      <td>5000.0</td>\n",
       "      <td>2130.652778</td>\n",
       "      <td>1650.0</td>\n",
       "      <td>1178.115578</td>\n",
       "      <td>72</td>\n",
       "    </tr>\n",
       "  </tbody>\n",
       "</table>\n",
       "</div>"
      ],
      "text/plain": [
       "         emp_firm                                               \n",
       "              min     max         mean  median          std size\n",
       "emp3bins                                                        \n",
       "150.0       100.0   197.0   145.597222   150.0    26.397108   72\n",
       "600.0       200.0   994.0   413.153846   353.0   190.397552  156\n",
       "3000.0     1000.0  5000.0  2130.652778  1650.0  1178.115578   72"
      ]
     },
     "execution_count": 26,
     "metadata": {},
     "output_type": "execute_result"
    }
   ],
   "source": [
    "# Summary\n",
    "df.filter([\"emp_firm\", \"emp3bins\"]).groupby(\"emp3bins\").agg(\n",
    "    [\"min\", \"max\", \"mean\", \"median\", np.std, \"size\"]\n",
    ")"
   ]
  },
  {
   "cell_type": "markdown",
   "metadata": {},
   "source": [
    "<p>We can now get the mean management scores for each bin by aggregating the data using the 3 bins and visualize the result.</p>"
   ]
  },
  {
   "cell_type": "code",
   "execution_count": 27,
   "metadata": {},
   "outputs": [
    {
     "data": {
      "text/html": [
       "<div>\n",
       "<style scoped>\n",
       "    .dataframe tbody tr th:only-of-type {\n",
       "        vertical-align: middle;\n",
       "    }\n",
       "\n",
       "    .dataframe tbody tr th {\n",
       "        vertical-align: top;\n",
       "    }\n",
       "\n",
       "    .dataframe thead th {\n",
       "        text-align: right;\n",
       "    }\n",
       "</style>\n",
       "<table border=\"1\" class=\"dataframe\">\n",
       "  <thead>\n",
       "    <tr style=\"text-align: right;\">\n",
       "      <th></th>\n",
       "      <th>emp3bins</th>\n",
       "      <th>management_emp3bins</th>\n",
       "    </tr>\n",
       "  </thead>\n",
       "  <tbody>\n",
       "    <tr>\n",
       "      <th>0</th>\n",
       "      <td>150.0</td>\n",
       "      <td>2.679784</td>\n",
       "    </tr>\n",
       "    <tr>\n",
       "      <th>1</th>\n",
       "      <td>600.0</td>\n",
       "      <td>2.943732</td>\n",
       "    </tr>\n",
       "    <tr>\n",
       "      <th>2</th>\n",
       "      <td>3000.0</td>\n",
       "      <td>3.185957</td>\n",
       "    </tr>\n",
       "  </tbody>\n",
       "</table>\n",
       "</div>"
      ],
      "text/plain": [
       "   emp3bins  management_emp3bins\n",
       "0     150.0             2.679784\n",
       "1     600.0             2.943732\n",
       "2    3000.0             3.185957"
      ]
     },
     "execution_count": 27,
     "metadata": {},
     "output_type": "execute_result"
    }
   ],
   "source": [
    "# Generate variables by mean\n",
    "df1 = df.groupby(\"emp3bins\").agg(management_emp3bins=(\"management\", \"mean\")).reset_index()\n",
    "df1"
   ]
  },
  {
   "cell_type": "code",
   "execution_count": 28,
   "metadata": {},
   "outputs": [
    {
     "data": {
      "image/png": "[encoded data removed]",
      "text/plain": [
       "<Figure size 640x480 with 1 Axes>"
      ]
     },
     "metadata": {},
     "output_type": "display_data"
    },
    {
     "data": {
      "text/plain": [
       "<ggplot: (172889763087)>"
      ]
     },
     "execution_count": 28,
     "metadata": {},
     "output_type": "execute_result"
    }
   ],
   "source": [
    "ggplot(df1, aes(x=\"emp3bins\", y=\"management_emp3bins\")) + geom_point(\n",
    "    size=2, color=color[2], fill=color[0], alpha=0.8, na_rm=True\n",
    ") + scale_y_continuous(\n",
    "    expand=(0.01, 0.01), limits=(2.4, 3.4), breaks=seq(2.4, 3.5, by=0.2)\n",
    ") + scale_x_continuous(\n",
    "    expand=(0.01, 0.01), limits=(0, 3000), breaks=seq(0, 3001, by=500)\n",
    ") + labs(\n",
    "    x=\"Firm size (employment), 3 bins\", y=\"Management score\"\n",
    ") + theme_bw()"
   ]
  },
  {
   "cell_type": "markdown",
   "metadata": {},
   "source": [
    "<p>As we can observe, there is a clear <b>positive</b> association. Larger firms, on average, are better managed. We got a mean score of 2.68 for small firms, 2.94 for medium-sized firms, and 3.19 for large firms. Now, would this association hold when using a bin scatter of 10 bins? Let's find out.</p>\n",
    "<h4>4.2.2 Ten-bin scatter</h4>"
   ]
  },
  {
   "cell_type": "code",
   "execution_count": 29,
   "metadata": {},
   "outputs": [],
   "source": [
    "df[\"emp10bins\"] = pd.qcut(df[\"emp_firm\"],10)"
   ]
  },
  {
   "cell_type": "markdown",
   "metadata": {},
   "source": [
    "<p>We just applied an interesting function, <code>qcut()</code>, that discretizes variables into equal-sized buckets. I had no idea that such a function existed, so helpful!</p>"
   ]
  },
  {
   "cell_type": "code",
   "execution_count": 30,
   "metadata": {},
   "outputs": [
    {
     "data": {
      "text/html": [
       "<div>\n",
       "<style scoped>\n",
       "    .dataframe tbody tr th:only-of-type {\n",
       "        vertical-align: middle;\n",
       "    }\n",
       "\n",
       "    .dataframe tbody tr th {\n",
       "        vertical-align: top;\n",
       "    }\n",
       "\n",
       "    .dataframe thead tr th {\n",
       "        text-align: left;\n",
       "    }\n",
       "\n",
       "    .dataframe thead tr:last-of-type th {\n",
       "        text-align: right;\n",
       "    }\n",
       "</style>\n",
       "<table border=\"1\" class=\"dataframe\">\n",
       "  <thead>\n",
       "    <tr>\n",
       "      <th></th>\n",
       "      <th colspan=\"6\" halign=\"left\">emp_firm</th>\n",
       "    </tr>\n",
       "    <tr>\n",
       "      <th></th>\n",
       "      <th>min</th>\n",
       "      <th>max</th>\n",
       "      <th>mean</th>\n",
       "      <th>median</th>\n",
       "      <th>std</th>\n",
       "      <th>size</th>\n",
       "    </tr>\n",
       "    <tr>\n",
       "      <th>emp10bins</th>\n",
       "      <th></th>\n",
       "      <th></th>\n",
       "      <th></th>\n",
       "      <th></th>\n",
       "      <th></th>\n",
       "      <th></th>\n",
       "    </tr>\n",
       "  </thead>\n",
       "  <tbody>\n",
       "    <tr>\n",
       "      <th>(99.999, 144.5]</th>\n",
       "      <td>100.0</td>\n",
       "      <td>140.0</td>\n",
       "      <td>118.566667</td>\n",
       "      <td>118.0</td>\n",
       "      <td>11.595729</td>\n",
       "      <td>30</td>\n",
       "    </tr>\n",
       "    <tr>\n",
       "      <th>(144.5, 180.0]</th>\n",
       "      <td>145.0</td>\n",
       "      <td>180.0</td>\n",
       "      <td>163.625000</td>\n",
       "      <td>160.0</td>\n",
       "      <td>12.947007</td>\n",
       "      <td>40</td>\n",
       "    </tr>\n",
       "    <tr>\n",
       "      <th>(180.0, 229.4]</th>\n",
       "      <td>184.0</td>\n",
       "      <td>228.0</td>\n",
       "      <td>204.000000</td>\n",
       "      <td>200.0</td>\n",
       "      <td>10.223811</td>\n",
       "      <td>20</td>\n",
       "    </tr>\n",
       "    <tr>\n",
       "      <th>(229.4, 278.0]</th>\n",
       "      <td>230.0</td>\n",
       "      <td>275.0</td>\n",
       "      <td>250.533333</td>\n",
       "      <td>250.0</td>\n",
       "      <td>11.607766</td>\n",
       "      <td>30</td>\n",
       "    </tr>\n",
       "    <tr>\n",
       "      <th>(278.0, 353.0]</th>\n",
       "      <td>280.0</td>\n",
       "      <td>350.0</td>\n",
       "      <td>310.266667</td>\n",
       "      <td>300.0</td>\n",
       "      <td>23.090427</td>\n",
       "      <td>30</td>\n",
       "    </tr>\n",
       "    <tr>\n",
       "      <th>(353.0, 500.0]</th>\n",
       "      <td>356.0</td>\n",
       "      <td>500.0</td>\n",
       "      <td>432.222222</td>\n",
       "      <td>405.0</td>\n",
       "      <td>50.747617</td>\n",
       "      <td>36</td>\n",
       "    </tr>\n",
       "    <tr>\n",
       "      <th>(500.0, 670.0]</th>\n",
       "      <td>520.0</td>\n",
       "      <td>670.0</td>\n",
       "      <td>583.240000</td>\n",
       "      <td>600.0</td>\n",
       "      <td>49.321463</td>\n",
       "      <td>25</td>\n",
       "    </tr>\n",
       "    <tr>\n",
       "      <th>(670.0, 1110.0]</th>\n",
       "      <td>700.0</td>\n",
       "      <td>1100.0</td>\n",
       "      <td>905.793103</td>\n",
       "      <td>900.0</td>\n",
       "      <td>137.250912</td>\n",
       "      <td>29</td>\n",
       "    </tr>\n",
       "    <tr>\n",
       "      <th>(1110.0, 2000.0]</th>\n",
       "      <td>1150.0</td>\n",
       "      <td>2000.0</td>\n",
       "      <td>1515.294118</td>\n",
       "      <td>1500.0</td>\n",
       "      <td>289.735881</td>\n",
       "      <td>34</td>\n",
       "    </tr>\n",
       "    <tr>\n",
       "      <th>(2000.0, 5000.0]</th>\n",
       "      <td>2100.0</td>\n",
       "      <td>5000.0</td>\n",
       "      <td>3438.730769</td>\n",
       "      <td>3500.0</td>\n",
       "      <td>982.115006</td>\n",
       "      <td>26</td>\n",
       "    </tr>\n",
       "  </tbody>\n",
       "</table>\n",
       "</div>"
      ],
      "text/plain": [
       "                 emp_firm                                              \n",
       "                      min     max         mean  median         std size\n",
       "emp10bins                                                              \n",
       "(99.999, 144.5]     100.0   140.0   118.566667   118.0   11.595729   30\n",
       "(144.5, 180.0]      145.0   180.0   163.625000   160.0   12.947007   40\n",
       "(180.0, 229.4]      184.0   228.0   204.000000   200.0   10.223811   20\n",
       "(229.4, 278.0]      230.0   275.0   250.533333   250.0   11.607766   30\n",
       "(278.0, 353.0]      280.0   350.0   310.266667   300.0   23.090427   30\n",
       "(353.0, 500.0]      356.0   500.0   432.222222   405.0   50.747617   36\n",
       "(500.0, 670.0]      520.0   670.0   583.240000   600.0   49.321463   25\n",
       "(670.0, 1110.0]     700.0  1100.0   905.793103   900.0  137.250912   29\n",
       "(1110.0, 2000.0]   1150.0  2000.0  1515.294118  1500.0  289.735881   34\n",
       "(2000.0, 5000.0]   2100.0  5000.0  3438.730769  3500.0  982.115006   26"
      ]
     },
     "execution_count": 30,
     "metadata": {},
     "output_type": "execute_result"
    }
   ],
   "source": [
    "# Summary\n",
    "df_summary = df.filter([\"emp_firm\", \"emp10bins\"]).groupby(\"emp10bins\").agg(\n",
    "    [\"min\", \"max\", \"mean\", \"median\", np.std, \"size\"]\n",
    ")\n",
    "df_summary"
   ]
  },
  {
   "cell_type": "markdown",
   "metadata": {},
   "source": [
    "<p>We can now get the midpoint of each bin by replacing the interval with the mean of each interval.</p>"
   ]
  },
  {
   "cell_type": "code",
   "execution_count": 31,
   "metadata": {},
   "outputs": [],
   "source": [
    "# Recode\n",
    "df = df.replace({\"emp10bins\": df_summary[\"emp_firm\"][\"mean\"].to_dict()})"
   ]
  },
  {
   "cell_type": "code",
   "execution_count": 32,
   "metadata": {},
   "outputs": [
    {
     "data": {
      "text/html": [
       "<div>\n",
       "<style scoped>\n",
       "    .dataframe tbody tr th:only-of-type {\n",
       "        vertical-align: middle;\n",
       "    }\n",
       "\n",
       "    .dataframe tbody tr th {\n",
       "        vertical-align: top;\n",
       "    }\n",
       "\n",
       "    .dataframe thead tr th {\n",
       "        text-align: left;\n",
       "    }\n",
       "\n",
       "    .dataframe thead tr:last-of-type th {\n",
       "        text-align: right;\n",
       "    }\n",
       "</style>\n",
       "<table border=\"1\" class=\"dataframe\">\n",
       "  <thead>\n",
       "    <tr>\n",
       "      <th></th>\n",
       "      <th colspan=\"6\" halign=\"left\">emp_firm</th>\n",
       "    </tr>\n",
       "    <tr>\n",
       "      <th></th>\n",
       "      <th>min</th>\n",
       "      <th>max</th>\n",
       "      <th>mean</th>\n",
       "      <th>median</th>\n",
       "      <th>std</th>\n",
       "      <th>size</th>\n",
       "    </tr>\n",
       "    <tr>\n",
       "      <th>emp10bins</th>\n",
       "      <th></th>\n",
       "      <th></th>\n",
       "      <th></th>\n",
       "      <th></th>\n",
       "      <th></th>\n",
       "      <th></th>\n",
       "    </tr>\n",
       "  </thead>\n",
       "  <tbody>\n",
       "    <tr>\n",
       "      <th>118.56666666666666</th>\n",
       "      <td>100.0</td>\n",
       "      <td>140.0</td>\n",
       "      <td>118.566667</td>\n",
       "      <td>118.0</td>\n",
       "      <td>11.595729</td>\n",
       "      <td>30</td>\n",
       "    </tr>\n",
       "    <tr>\n",
       "      <th>163.625</th>\n",
       "      <td>145.0</td>\n",
       "      <td>180.0</td>\n",
       "      <td>163.625000</td>\n",
       "      <td>160.0</td>\n",
       "      <td>12.947007</td>\n",
       "      <td>40</td>\n",
       "    </tr>\n",
       "    <tr>\n",
       "      <th>204.0</th>\n",
       "      <td>184.0</td>\n",
       "      <td>228.0</td>\n",
       "      <td>204.000000</td>\n",
       "      <td>200.0</td>\n",
       "      <td>10.223811</td>\n",
       "      <td>20</td>\n",
       "    </tr>\n",
       "    <tr>\n",
       "      <th>250.53333333333333</th>\n",
       "      <td>230.0</td>\n",
       "      <td>275.0</td>\n",
       "      <td>250.533333</td>\n",
       "      <td>250.0</td>\n",
       "      <td>11.607766</td>\n",
       "      <td>30</td>\n",
       "    </tr>\n",
       "    <tr>\n",
       "      <th>310.26666666666665</th>\n",
       "      <td>280.0</td>\n",
       "      <td>350.0</td>\n",
       "      <td>310.266667</td>\n",
       "      <td>300.0</td>\n",
       "      <td>23.090427</td>\n",
       "      <td>30</td>\n",
       "    </tr>\n",
       "    <tr>\n",
       "      <th>432.22222222222223</th>\n",
       "      <td>356.0</td>\n",
       "      <td>500.0</td>\n",
       "      <td>432.222222</td>\n",
       "      <td>405.0</td>\n",
       "      <td>50.747617</td>\n",
       "      <td>36</td>\n",
       "    </tr>\n",
       "    <tr>\n",
       "      <th>583.24</th>\n",
       "      <td>520.0</td>\n",
       "      <td>670.0</td>\n",
       "      <td>583.240000</td>\n",
       "      <td>600.0</td>\n",
       "      <td>49.321463</td>\n",
       "      <td>25</td>\n",
       "    </tr>\n",
       "    <tr>\n",
       "      <th>905.7931034482758</th>\n",
       "      <td>700.0</td>\n",
       "      <td>1100.0</td>\n",
       "      <td>905.793103</td>\n",
       "      <td>900.0</td>\n",
       "      <td>137.250912</td>\n",
       "      <td>29</td>\n",
       "    </tr>\n",
       "    <tr>\n",
       "      <th>1515.2941176470588</th>\n",
       "      <td>1150.0</td>\n",
       "      <td>2000.0</td>\n",
       "      <td>1515.294118</td>\n",
       "      <td>1500.0</td>\n",
       "      <td>289.735881</td>\n",
       "      <td>34</td>\n",
       "    </tr>\n",
       "    <tr>\n",
       "      <th>3438.730769230769</th>\n",
       "      <td>2100.0</td>\n",
       "      <td>5000.0</td>\n",
       "      <td>3438.730769</td>\n",
       "      <td>3500.0</td>\n",
       "      <td>982.115006</td>\n",
       "      <td>26</td>\n",
       "    </tr>\n",
       "  </tbody>\n",
       "</table>\n",
       "</div>"
      ],
      "text/plain": [
       "                   emp_firm                                              \n",
       "                        min     max         mean  median         std size\n",
       "emp10bins                                                                \n",
       "118.56666666666666    100.0   140.0   118.566667   118.0   11.595729   30\n",
       "163.625               145.0   180.0   163.625000   160.0   12.947007   40\n",
       "204.0                 184.0   228.0   204.000000   200.0   10.223811   20\n",
       "250.53333333333333    230.0   275.0   250.533333   250.0   11.607766   30\n",
       "310.26666666666665    280.0   350.0   310.266667   300.0   23.090427   30\n",
       "432.22222222222223    356.0   500.0   432.222222   405.0   50.747617   36\n",
       "583.24                520.0   670.0   583.240000   600.0   49.321463   25\n",
       "905.7931034482758     700.0  1100.0   905.793103   900.0  137.250912   29\n",
       "1515.2941176470588   1150.0  2000.0  1515.294118  1500.0  289.735881   34\n",
       "3438.730769230769    2100.0  5000.0  3438.730769  3500.0  982.115006   26"
      ]
     },
     "execution_count": 32,
     "metadata": {},
     "output_type": "execute_result"
    }
   ],
   "source": [
    "df.filter([\"emp_firm\", \"emp10bins\"]).groupby(\"emp10bins\").agg(\n",
    "    [\"min\", \"max\", \"mean\", \"median\", np.std, \"size\"]\n",
    ")"
   ]
  },
  {
   "cell_type": "code",
   "execution_count": 33,
   "metadata": {},
   "outputs": [
    {
     "data": {
      "text/html": [
       "<div>\n",
       "<style scoped>\n",
       "    .dataframe tbody tr th:only-of-type {\n",
       "        vertical-align: middle;\n",
       "    }\n",
       "\n",
       "    .dataframe tbody tr th {\n",
       "        vertical-align: top;\n",
       "    }\n",
       "\n",
       "    .dataframe thead th {\n",
       "        text-align: right;\n",
       "    }\n",
       "</style>\n",
       "<table border=\"1\" class=\"dataframe\">\n",
       "  <thead>\n",
       "    <tr style=\"text-align: right;\">\n",
       "      <th></th>\n",
       "      <th>emp10bins</th>\n",
       "      <th>management_emp10bins</th>\n",
       "    </tr>\n",
       "  </thead>\n",
       "  <tbody>\n",
       "    <tr>\n",
       "      <th>0</th>\n",
       "      <td>118.566667</td>\n",
       "      <td>2.588889</td>\n",
       "    </tr>\n",
       "    <tr>\n",
       "      <th>1</th>\n",
       "      <td>163.625000</td>\n",
       "      <td>2.736111</td>\n",
       "    </tr>\n",
       "    <tr>\n",
       "      <th>2</th>\n",
       "      <td>204.000000</td>\n",
       "      <td>2.727778</td>\n",
       "    </tr>\n",
       "    <tr>\n",
       "      <th>3</th>\n",
       "      <td>250.533333</td>\n",
       "      <td>2.968519</td>\n",
       "    </tr>\n",
       "    <tr>\n",
       "      <th>4</th>\n",
       "      <td>310.266667</td>\n",
       "      <td>2.953704</td>\n",
       "    </tr>\n",
       "    <tr>\n",
       "      <th>5</th>\n",
       "      <td>432.222222</td>\n",
       "      <td>2.956790</td>\n",
       "    </tr>\n",
       "    <tr>\n",
       "      <th>6</th>\n",
       "      <td>583.240000</td>\n",
       "      <td>3.000000</td>\n",
       "    </tr>\n",
       "    <tr>\n",
       "      <th>7</th>\n",
       "      <td>905.793103</td>\n",
       "      <td>2.994253</td>\n",
       "    </tr>\n",
       "    <tr>\n",
       "      <th>8</th>\n",
       "      <td>1515.294118</td>\n",
       "      <td>3.096405</td>\n",
       "    </tr>\n",
       "    <tr>\n",
       "      <th>9</th>\n",
       "      <td>3438.730769</td>\n",
       "      <td>3.410256</td>\n",
       "    </tr>\n",
       "  </tbody>\n",
       "</table>\n",
       "</div>"
      ],
      "text/plain": [
       "     emp10bins  management_emp10bins\n",
       "0   118.566667              2.588889\n",
       "1   163.625000              2.736111\n",
       "2   204.000000              2.727778\n",
       "3   250.533333              2.968519\n",
       "4   310.266667              2.953704\n",
       "5   432.222222              2.956790\n",
       "6   583.240000              3.000000\n",
       "7   905.793103              2.994253\n",
       "8  1515.294118              3.096405\n",
       "9  3438.730769              3.410256"
      ]
     },
     "execution_count": 33,
     "metadata": {},
     "output_type": "execute_result"
    }
   ],
   "source": [
    "# Return variables by mean\n",
    "df1 = df.groupby(\"emp10bins\").agg(management_emp10bins=(\"management\", \"mean\")).reset_index()\n",
    "df1"
   ]
  },
  {
   "cell_type": "code",
   "execution_count": 34,
   "metadata": {},
   "outputs": [],
   "source": [
    "df1 = df1[[\"emp10bins\", \"management_emp10bins\"]].astype(\"float64\")"
   ]
  },
  {
   "cell_type": "code",
   "execution_count": 35,
   "metadata": {},
   "outputs": [
    {
     "data": {
      "image/png": "[encoded data removed]",
      "text/plain": [
       "<Figure size 640x480 with 1 Axes>"
      ]
     },
     "metadata": {},
     "output_type": "display_data"
    },
    {
     "data": {
      "text/plain": [
       "<ggplot: (172889890534)>"
      ]
     },
     "execution_count": 35,
     "metadata": {},
     "output_type": "execute_result"
    }
   ],
   "source": [
    "ggplot(df1, aes(x=\"emp10bins\", y=\"management_emp10bins\")) + geom_point(\n",
    "    size=2, color=color[2], fill=color[0], alpha=0.8, na_rm=True\n",
    ") + scale_y_continuous(\n",
    "    expand=(0.01, 0.01), limits=(2.5, 3.5), breaks=seq(2.5, 3.6, by=0.25)\n",
    ") + scale_x_continuous(\n",
    "    expand=(0.01, 0.01), limits=(0, 3500), breaks=seq(0, 3501, by=500)\n",
    ") + labs(\n",
    "    x=\"Firm size (employment), 10 bins\", y=\"Management score\"\n",
    ") + theme_bw()"
   ]
  },
  {
   "cell_type": "markdown",
   "metadata": {},
   "source": [
    "<p>This bin scatter shows a <b>less straight linear relationship</b>. The average values for each bin did not change significantly from bin 4 to 8. Still, we can observe a sizeable difference in the mean management quality between smaller and larger firms. We can also observe, moreover, that the bin scatters reflect the high degree of <b>skewness</b> that we had observed in the histogram.</p>\n",
    "<p>While larger firms tend to display better mean management scores, we cannot make this assumption across all large firms, right? After all, we are discussing averages. To measure the distribution of the management score around its conditional mean values, we look at the <b>scatterplot</b>."
   ]
  },
  {
   "cell_type": "markdown",
   "metadata": {},
   "source": [
    "<h3>4.3 Scatterplot</h3>"
   ]
  },
  {
   "cell_type": "code",
   "execution_count": 36,
   "metadata": {},
   "outputs": [
    {
     "data": {
      "image/png": "[encoded data removed]",
      "text/plain": [
       "<Figure size 640x480 with 1 Axes>"
      ]
     },
     "metadata": {},
     "output_type": "display_data"
    },
    {
     "data": {
      "text/plain": [
       "<ggplot: (172889947392)>"
      ]
     },
     "execution_count": 36,
     "metadata": {},
     "output_type": "execute_result"
    }
   ],
   "source": [
    "ggplot(df, aes(x=\"emp_firm\", y=\"management\")) + geom_point(\n",
    "    size=1.5, color=color[0], alpha=0.8, na_rm=True\n",
    ") + scale_y_continuous(\n",
    "    expand=(0.01, 0.01), limits=(1, 5), breaks=seq(1, 6, 1)\n",
    ") + scale_x_continuous(\n",
    "    expand=(0.01, 0.01), limits=(0, 5000), breaks=seq(0, 5001, by=1000)\n",
    ") + labs(\n",
    "    x=\"Firm size (employment)\", y=\"Management score\"\n",
    ") + theme_bw()"
   ]
  },
  {
   "cell_type": "markdown",
   "metadata": {},
   "source": [
    "<p>Because the distribution of our data is highly skewed, we cannot see a clear pattern. We can apply the natural log of the employment on the x axis, which translates into a stretched difference between firms at lower levels of employment. Let's observe the results below:</p>"
   ]
  },
  {
   "cell_type": "code",
   "execution_count": 37,
   "metadata": {},
   "outputs": [],
   "source": [
    "df[\"lnemp\"] = np.log(df[\"emp_firm\"])"
   ]
  },
  {
   "cell_type": "code",
   "execution_count": 38,
   "metadata": {},
   "outputs": [
    {
     "data": {
      "image/png": "[encoded data removed]",
      "text/plain": [
       "<Figure size 640x480 with 1 Axes>"
      ]
     },
     "metadata": {},
     "output_type": "display_data"
    },
    {
     "data": {
      "text/plain": [
       "<ggplot: (172890174194)>"
      ]
     },
     "execution_count": 38,
     "metadata": {},
     "output_type": "execute_result"
    }
   ],
   "source": [
    "ggplot(df, aes(x=\"lnemp\", y=\"management\")) + geom_point(\n",
    "    size=1.5, color=color[0], alpha=0.8, na_rm=True\n",
    ") + scale_y_continuous(\n",
    "    expand=(0.01, 0.01), limits=(1, 5), breaks=seq(1, 6, 1)\n",
    ") + scale_x_continuous(\n",
    "    expand=(0.01, 0.01), limits=(4, 9), breaks=seq(4, 10, by=1)\n",
    ") + labs(\n",
    "    x=\"Firm size (ln(employment))\", y=\"Management score\"\n",
    ") + theme_bw()"
   ]
  },
  {
   "cell_type": "markdown",
   "metadata": {},
   "source": [
    "<p>With our observations spread out, we can observe a positive correlation between management score and firm size. However, we also see a lot of variation of the management score at every level of employment - there is a lot of spread of the management score among firms with the same size.</p>\n",
    "<p>To get more insight into whether - and to what extent - the spread or skewness of the managmeent score distribution differ at different levels of employments, we can produce <b>box plots</b> and <b>violin plots</b> of the management score for three employment bins.</p>"
   ]
  },
  {
   "cell_type": "markdown",
   "metadata": {},
   "source": [
    "<h3>4.4 Box plots and violin plots to visualize the spread of the data</h3>"
   ]
  },
  {
   "cell_type": "code",
   "execution_count": 39,
   "metadata": {},
   "outputs": [],
   "source": [
    "df = df.replace({\"emp3bins\":{\n",
    "                    150: \"Small\",\n",
    "                    600: \"Medium\",\n",
    "                    3000: \"Large\",}\n",
    "                    })"
   ]
  },
  {
   "cell_type": "code",
   "execution_count": 40,
   "metadata": {},
   "outputs": [
    {
     "data": {
      "image/png": "[encoded data removed]",
      "text/plain": [
       "<Figure size 640x480 with 1 Axes>"
      ]
     },
     "metadata": {},
     "output_type": "display_data"
    },
    {
     "data": {
      "text/plain": [
       "<ggplot: (172890271603)>"
      ]
     },
     "execution_count": 40,
     "metadata": {},
     "output_type": "execute_result"
    }
   ],
   "source": [
    "# Bot plots\n",
    "ggplot(df, aes(x=\"pd.Categorical(df['emp3bins'], categories=sorted(set(df['emp3bins']), reverse=True))\",\n",
    "               y=\"management\",\n",
    "               ),\n",
    "    ) + stat_boxplot(\n",
    "        aes(group=\"emp3bins\"),\n",
    "        geom=\"errorbar\",\n",
    "        width=0.5,\n",
    "        color=(color[1], color[0], color[2]),\n",
    "        size=0.5,\n",
    "        na_rm=True,\n",
    "    ) + geom_boxplot(\n",
    "        aes(group=\"emp3bins\"),\n",
    "        color=(color[2], color[0], color[1]),\n",
    "        size=0.5,\n",
    "        alpha=0.5,\n",
    "        na_rm=True,\n",
    "    ) + labs(\n",
    "        x=\"Firm size (employment), 3 bins\",\n",
    "        y=\"Management score\"\n",
    "    ) + scale_y_continuous(\n",
    "        expand=(0.01, 0.01), limits=(1, 5), breaks=seq(1, 5, 1)\n",
    "    ) + theme_bw()"
   ]
  },
  {
   "cell_type": "code",
   "execution_count": 41,
   "metadata": {},
   "outputs": [
    {
     "data": {
      "image/png": "[encoded data removed]",
      "text/plain": [
       "<Figure size 640x480 with 1 Axes>"
      ]
     },
     "metadata": {},
     "output_type": "display_data"
    },
    {
     "data": {
      "text/plain": [
       "<ggplot: (172890260354)>"
      ]
     },
     "execution_count": 41,
     "metadata": {},
     "output_type": "execute_result"
    }
   ],
   "source": [
    "ggplot(df, \n",
    "       aes(x=\"pd.Categorical(df['emp3bins'], categories=sorted(set(df['emp3bins']), reverse=True))\",\n",
    "           y=\"management\",\n",
    "           color=\"emp3bins\",\n",
    "           fill=\"emp3bins\",    \n",
    "               ),\n",
    "    ) + geom_violin(\n",
    "        aes(group=\"emp3bins\"),\n",
    "        alpha=0.3,\n",
    "        size=0.3,\n",
    "        trim=False,\n",
    "        show_legend=False,\n",
    "        na_rm=True,\n",
    "    ) + geom_boxplot(\n",
    "        aes(group=\"emp3bins\"),\n",
    "        size=0.5,\n",
    "        alpha=0.3,\n",
    "        width=0.2,\n",
    "        na_rm=True,\n",
    "    ) + labs(\n",
    "        x=\"Firm size (employment), 3 bins\",\n",
    "        y=\"Management score\"\n",
    "    ) + scale_y_continuous(\n",
    "        expand=(0.01, 0.01), limits=(0, 6), breaks=seq(0, 7, 1)\n",
    "    ) + guides(\n",
    "        fill=False, color=False\n",
    "    ) + theme_bw()"
   ]
  },
  {
   "cell_type": "markdown",
   "metadata": {},
   "source": [
    "<p>As we can observe, the median management score is higher in larger firms, which reflects the same positive association as the bin scatters and the scatterplot. Upper and lower quartiles, as well as minimum and maximum statistics, support this trend. We can also see that the management scores for smaller firms are somewhat more concentrated. This means that we can expect smaller yet more similar scores for smaller firms, while for larger firms, scores can differ more from each other.</p>\n",
    "<h3>4.5 Correlation and latent variable</h3>\n",
    "<p>A <b>latent variable</b> is an abstract variable, which is not a part of the dataset by itself, as it cannot be directly measured. Instead, we use <b>proxy variables</b>, which indeed replace them as a way to measure its original variables.</p>\n",
    "<p>"
   ]
  },
  {
   "cell_type": "code",
   "execution_count": 48,
   "metadata": {},
   "outputs": [],
   "source": [
    "# get the covariance between firm size and management score\n",
    "covariance = round(df[\"emp_firm\"].cov(df[\"management\"]),2)"
   ]
  },
  {
   "cell_type": "code",
   "execution_count": 54,
   "metadata": {},
   "outputs": [
    {
     "data": {
      "text/html": [
       "<div>\n",
       "<style scoped>\n",
       "    .dataframe tbody tr th:only-of-type {\n",
       "        vertical-align: middle;\n",
       "    }\n",
       "\n",
       "    .dataframe tbody tr th {\n",
       "        vertical-align: top;\n",
       "    }\n",
       "\n",
       "    .dataframe thead th {\n",
       "        text-align: right;\n",
       "    }\n",
       "</style>\n",
       "<table border=\"1\" class=\"dataframe\">\n",
       "  <thead>\n",
       "    <tr style=\"text-align: right;\">\n",
       "      <th></th>\n",
       "      <th>covariance</th>\n",
       "      <th>firm_size_std</th>\n",
       "      <th>management_score_std</th>\n",
       "      <th>corr_coef</th>\n",
       "    </tr>\n",
       "  </thead>\n",
       "  <tbody>\n",
       "    <tr>\n",
       "      <th>0</th>\n",
       "      <td>177.35</td>\n",
       "      <td>977.035685</td>\n",
       "      <td>0.601059</td>\n",
       "      <td>0.301995</td>\n",
       "    </tr>\n",
       "  </tbody>\n",
       "</table>\n",
       "</div>"
      ],
      "text/plain": [
       "   covariance  firm_size_std  management_score_std  corr_coef\n",
       "0      177.35     977.035685              0.601059   0.301995"
      ]
     },
     "execution_count": 54,
     "metadata": {},
     "output_type": "execute_result"
    }
   ],
   "source": [
    "df_results = pd.DataFrame(\n",
    "    data={\"covariance\": covariance,\n",
    "     \"firm_size_std\": df[\"emp_firm\"].std(),\n",
    "     \"management_score_std\": df[\"management\"].std(),\n",
    "     \"corr_coef\": df[\"emp_firm\"].corr(df[\"management\"])},\n",
    "     index=[0]\n",
    ")\n",
    "df_results"
   ]
  },
  {
   "cell_type": "markdown",
   "metadata": {},
   "source": [
    "<p>As we can see, the covariance between firm size and the management score is <b>177</b>. The standard deviation for both variables is <b>977</b> and <b>0.60</b>, respectivelly. The correlation coefficient is <b>0.30</b>. This outcome hints at a <b>positive</b> association, whereas firms with more employees tend to have higher management score. Such magnitude, however, is moderate, as other factors may impinge on management score in addition to the size of a company.</p>\n",
    "<p>We can analyze the correlation coefficient in seven broad categories of industrial classification (in addition to one \"other\" category with the industry with very few firms, combined)."
   ]
  },
  {
   "cell_type": "code",
   "execution_count": 55,
   "metadata": {},
   "outputs": [],
   "source": [
    "# Correlation by industry\n",
    "df[\"industry_broad\"] = pd.np.NaN\n",
    "df.loc[df[\"sic\"] <= 21, \"industry_broad\"] = \"foods_drink_tobacco\"\n",
    "df.loc[\n",
    "    ((df[\"sic\"] >= 22) & (df[\"sic\"] <= 23)) | (df[\"sic\"] == 31), \"industry_broad\" \n",
    "] = \"textile_apparel_leather_etc\"\n",
    "df.loc[(df[\"sic\"] >= 24) & (df[\"sic\"] <= 27), \"industry_broad\"] = \"wood_furniture_paper\"\n",
    "df.loc[(df[\"sic\"] >= 28) & (df[\"sic\"] <= 30), \"industry_broad\"] = \"chemicals_etc\"\n",
    "df.loc[(df[\"sic\"] >= 32) & (df[\"sic\"] < 35), \"industry_broad\"] = \"materials_metals\"\n",
    "df.loc[(df[\"sic\"] >= 35) & (df[\"sic\"] <= 37), \"industry_broad\"] = \"electronics\"\n",
    "df.loc[(df[\"sic\"] == 37) , \"industry_broad\"] = \"auto\"\n",
    "df.loc[(df[\"sic\"] >= 38) , \"industry_broad\"] = \"other\""
   ]
  },
  {
   "cell_type": "code",
   "execution_count": 56,
   "metadata": {},
   "outputs": [
    {
     "data": {
      "text/plain": [
       "chemicals_etc                  69\n",
       "materials_metals               50\n",
       "textile_apparel_leather_etc    38\n",
       "wood_furniture_paper           37\n",
       "electronics                    36\n",
       "foods_drink_tobacco            34\n",
       "auto                           26\n",
       "other                          10\n",
       "Name: industry_broad, dtype: int64"
      ]
     },
     "execution_count": 56,
     "metadata": {},
     "output_type": "execute_result"
    }
   ],
   "source": [
    "df[\"industry_broad\"].value_counts()"
   ]
  },
  {
   "cell_type": "code",
   "execution_count": 107,
   "metadata": {},
   "outputs": [
    {
     "data": {
      "text/plain": [
       "industry_broad                         \n",
       "auto                         management    0.502322\n",
       "chemicals_etc                management    0.053380\n",
       "electronics                  management    0.282000\n",
       "foods_drink_tobacco          management    0.052144\n",
       "materials_metals             management    0.320921\n",
       "other                        management    0.628398\n",
       "textile_apparel_leather_etc  management    0.360877\n",
       "wood_furniture_paper         management    0.294981\n",
       "Name: emp_firm, dtype: float64"
      ]
     },
     "execution_count": 107,
     "metadata": {},
     "output_type": "execute_result"
    }
   ],
   "source": [
    "# Check correlation\n",
    "df.groupby(\"industry_broad\")[\"management\", \"emp_firm\"].corr().iloc[0::2, -1]"
   ]
  },
  {
   "cell_type": "code",
   "execution_count": 108,
   "metadata": {},
   "outputs": [
    {
     "data": {
      "text/html": [
       "<div>\n",
       "<style scoped>\n",
       "    .dataframe tbody tr th:only-of-type {\n",
       "        vertical-align: middle;\n",
       "    }\n",
       "\n",
       "    .dataframe tbody tr th {\n",
       "        vertical-align: top;\n",
       "    }\n",
       "\n",
       "    .dataframe thead th {\n",
       "        text-align: right;\n",
       "    }\n",
       "</style>\n",
       "<table border=\"1\" class=\"dataframe\">\n",
       "  <thead>\n",
       "    <tr style=\"text-align: right;\">\n",
       "      <th></th>\n",
       "      <th>Min</th>\n",
       "      <th>Max</th>\n",
       "      <th>SD</th>\n",
       "      <th>Median</th>\n",
       "      <th>n</th>\n",
       "    </tr>\n",
       "    <tr>\n",
       "      <th>industry_broad</th>\n",
       "      <th></th>\n",
       "      <th></th>\n",
       "      <th></th>\n",
       "      <th></th>\n",
       "      <th></th>\n",
       "    </tr>\n",
       "  </thead>\n",
       "  <tbody>\n",
       "    <tr>\n",
       "      <th>auto</th>\n",
       "      <td>2.277778</td>\n",
       "      <td>4.277778</td>\n",
       "      <td>0.553367</td>\n",
       "      <td>3.194445</td>\n",
       "      <td>26</td>\n",
       "    </tr>\n",
       "    <tr>\n",
       "      <th>chemicals_etc</th>\n",
       "      <td>1.277778</td>\n",
       "      <td>4.111111</td>\n",
       "      <td>0.550176</td>\n",
       "      <td>3.000000</td>\n",
       "      <td>69</td>\n",
       "    </tr>\n",
       "    <tr>\n",
       "      <th>electronics</th>\n",
       "      <td>1.500000</td>\n",
       "      <td>4.500000</td>\n",
       "      <td>0.693034</td>\n",
       "      <td>3.111111</td>\n",
       "      <td>36</td>\n",
       "    </tr>\n",
       "    <tr>\n",
       "      <th>foods_drink_tobacco</th>\n",
       "      <td>1.888889</td>\n",
       "      <td>4.222222</td>\n",
       "      <td>0.525753</td>\n",
       "      <td>2.833333</td>\n",
       "      <td>34</td>\n",
       "    </tr>\n",
       "    <tr>\n",
       "      <th>materials_metals</th>\n",
       "      <td>1.555556</td>\n",
       "      <td>4.277778</td>\n",
       "      <td>0.564557</td>\n",
       "      <td>2.861111</td>\n",
       "      <td>50</td>\n",
       "    </tr>\n",
       "    <tr>\n",
       "      <th>other</th>\n",
       "      <td>1.777778</td>\n",
       "      <td>4.611111</td>\n",
       "      <td>0.844087</td>\n",
       "      <td>3.555556</td>\n",
       "      <td>10</td>\n",
       "    </tr>\n",
       "    <tr>\n",
       "      <th>textile_apparel_leather_etc</th>\n",
       "      <td>1.777778</td>\n",
       "      <td>4.000000</td>\n",
       "      <td>0.567371</td>\n",
       "      <td>2.777778</td>\n",
       "      <td>38</td>\n",
       "    </tr>\n",
       "    <tr>\n",
       "      <th>wood_furniture_paper</th>\n",
       "      <td>1.722222</td>\n",
       "      <td>3.555556</td>\n",
       "      <td>0.555556</td>\n",
       "      <td>2.833333</td>\n",
       "      <td>37</td>\n",
       "    </tr>\n",
       "  </tbody>\n",
       "</table>\n",
       "</div>"
      ],
      "text/plain": [
       "                                  Min       Max        SD    Median   n\n",
       "industry_broad                                                         \n",
       "auto                         2.277778  4.277778  0.553367  3.194445  26\n",
       "chemicals_etc                1.277778  4.111111  0.550176  3.000000  69\n",
       "electronics                  1.500000  4.500000  0.693034  3.111111  36\n",
       "foods_drink_tobacco          1.888889  4.222222  0.525753  2.833333  34\n",
       "materials_metals             1.555556  4.277778  0.564557  2.861111  50\n",
       "other                        1.777778  4.611111  0.844087  3.555556  10\n",
       "textile_apparel_leather_etc  1.777778  4.000000  0.567371  2.777778  38\n",
       "wood_furniture_paper         1.722222  3.555556  0.555556  2.833333  37"
      ]
     },
     "execution_count": 108,
     "metadata": {},
     "output_type": "execute_result"
    }
   ],
   "source": [
    "df.filter([\"management\", \"industry_broad\"]).loc[\n",
    "    lambda x: ~x[\"industry_broad\"].isnull()\n",
    "].groupby(\"industry_broad\").agg(\n",
    "    Min=(\"management\", min),\n",
    "    Max=(\"management\", max),\n",
    "    SD=(\"management\", np.std),\n",
    "    Median=(\"management\", \"median\"),\n",
    "    n=(\"management\", \"size\")\n",
    ")"
   ]
  },
  {
   "cell_type": "code",
   "execution_count": 109,
   "metadata": {},
   "outputs": [
    {
     "data": {
      "text/html": [
       "<div>\n",
       "<style scoped>\n",
       "    .dataframe tbody tr th:only-of-type {\n",
       "        vertical-align: middle;\n",
       "    }\n",
       "\n",
       "    .dataframe tbody tr th {\n",
       "        vertical-align: top;\n",
       "    }\n",
       "\n",
       "    .dataframe thead th {\n",
       "        text-align: right;\n",
       "    }\n",
       "</style>\n",
       "<table border=\"1\" class=\"dataframe\">\n",
       "  <thead>\n",
       "    <tr style=\"text-align: right;\">\n",
       "      <th></th>\n",
       "      <th>Min</th>\n",
       "      <th>Max</th>\n",
       "      <th>SD</th>\n",
       "      <th>Median</th>\n",
       "      <th>n</th>\n",
       "    </tr>\n",
       "    <tr>\n",
       "      <th>industry_broad</th>\n",
       "      <th></th>\n",
       "      <th></th>\n",
       "      <th></th>\n",
       "      <th></th>\n",
       "      <th></th>\n",
       "    </tr>\n",
       "  </thead>\n",
       "  <tbody>\n",
       "    <tr>\n",
       "      <th>auto</th>\n",
       "      <td>130.0</td>\n",
       "      <td>5000.0</td>\n",
       "      <td>1625.103843</td>\n",
       "      <td>500.0</td>\n",
       "      <td>26</td>\n",
       "    </tr>\n",
       "    <tr>\n",
       "      <th>chemicals_etc</th>\n",
       "      <td>116.0</td>\n",
       "      <td>2000.0</td>\n",
       "      <td>465.980775</td>\n",
       "      <td>356.0</td>\n",
       "      <td>69</td>\n",
       "    </tr>\n",
       "    <tr>\n",
       "      <th>electronics</th>\n",
       "      <td>115.0</td>\n",
       "      <td>5000.0</td>\n",
       "      <td>1126.786821</td>\n",
       "      <td>295.0</td>\n",
       "      <td>36</td>\n",
       "    </tr>\n",
       "    <tr>\n",
       "      <th>foods_drink_tobacco</th>\n",
       "      <td>120.0</td>\n",
       "      <td>2400.0</td>\n",
       "      <td>665.626102</td>\n",
       "      <td>471.0</td>\n",
       "      <td>34</td>\n",
       "    </tr>\n",
       "    <tr>\n",
       "      <th>materials_metals</th>\n",
       "      <td>100.0</td>\n",
       "      <td>5000.0</td>\n",
       "      <td>1151.436836</td>\n",
       "      <td>335.0</td>\n",
       "      <td>50</td>\n",
       "    </tr>\n",
       "    <tr>\n",
       "      <th>other</th>\n",
       "      <td>200.0</td>\n",
       "      <td>2900.0</td>\n",
       "      <td>867.247043</td>\n",
       "      <td>350.0</td>\n",
       "      <td>10</td>\n",
       "    </tr>\n",
       "    <tr>\n",
       "      <th>textile_apparel_leather_etc</th>\n",
       "      <td>110.0</td>\n",
       "      <td>4000.0</td>\n",
       "      <td>899.413044</td>\n",
       "      <td>350.0</td>\n",
       "      <td>38</td>\n",
       "    </tr>\n",
       "    <tr>\n",
       "      <th>wood_furniture_paper</th>\n",
       "      <td>100.0</td>\n",
       "      <td>3500.0</td>\n",
       "      <td>855.610261</td>\n",
       "      <td>300.0</td>\n",
       "      <td>37</td>\n",
       "    </tr>\n",
       "  </tbody>\n",
       "</table>\n",
       "</div>"
      ],
      "text/plain": [
       "                               Min     Max           SD  Median   n\n",
       "industry_broad                                                     \n",
       "auto                         130.0  5000.0  1625.103843   500.0  26\n",
       "chemicals_etc                116.0  2000.0   465.980775   356.0  69\n",
       "electronics                  115.0  5000.0  1126.786821   295.0  36\n",
       "foods_drink_tobacco          120.0  2400.0   665.626102   471.0  34\n",
       "materials_metals             100.0  5000.0  1151.436836   335.0  50\n",
       "other                        200.0  2900.0   867.247043   350.0  10\n",
       "textile_apparel_leather_etc  110.0  4000.0   899.413044   350.0  38\n",
       "wood_furniture_paper         100.0  3500.0   855.610261   300.0  37"
      ]
     },
     "execution_count": 109,
     "metadata": {},
     "output_type": "execute_result"
    }
   ],
   "source": [
    "df.filter([\"emp_firm\", \"industry_broad\"]).loc[\n",
    "    lambda x: ~x[\"industry_broad\"].isnull()\n",
    "].groupby(\"industry_broad\").agg(\n",
    "    Min=(\"emp_firm\", min),\n",
    "    Max=(\"emp_firm\", max),\n",
    "    SD=(\"emp_firm\", np.std),\n",
    "    Median=(\"emp_firm\", \"median\"),\n",
    "    n=(\"emp_firm\", \"size\")\n",
    ")"
   ]
  },
  {
   "cell_type": "code",
   "execution_count": 110,
   "metadata": {},
   "outputs": [],
   "source": [
    "# Check correlation\n",
    "cor = (\n",
    "    pd.DataFrame(\n",
    "        df.groupby(\"industry_broad\")[\"management\", \"emp_firm\"].corr().iloc[0::2, -1]\n",
    "    )\n",
    "    .reset_index()\n",
    "    .drop([\"level_1\"], axis=1)\n",
    ")"
   ]
  },
  {
   "cell_type": "code",
   "execution_count": 111,
   "metadata": {},
   "outputs": [],
   "source": [
    "cor.columns = [\"industry_broad\", \"COR\"]\n",
    "cor = cor.set_index(\"industry_broad\")"
   ]
  },
  {
   "cell_type": "code",
   "execution_count": 113,
   "metadata": {},
   "outputs": [],
   "source": [
    "table_41 = (\n",
    "    df.filter([\"emp_firm\", \"industry_broad\", \"management\"])\n",
    "    .groupby(\"industry_broad\")\n",
    "    .agg(Mean=(\"management\", \"mean\"), Obs=(\"management\", \"size\"))\n",
    ")\n",
    "\n",
    "table_41[\"cor\"] = cor[\"COR\"]"
   ]
  },
  {
   "cell_type": "code",
   "execution_count": 116,
   "metadata": {},
   "outputs": [
    {
     "data": {
      "text/html": [
       "<div>\n",
       "<style scoped>\n",
       "    .dataframe tbody tr th:only-of-type {\n",
       "        vertical-align: middle;\n",
       "    }\n",
       "\n",
       "    .dataframe tbody tr th {\n",
       "        vertical-align: top;\n",
       "    }\n",
       "\n",
       "    .dataframe thead th {\n",
       "        text-align: right;\n",
       "    }\n",
       "</style>\n",
       "<table border=\"1\" class=\"dataframe\">\n",
       "  <thead>\n",
       "    <tr style=\"text-align: right;\">\n",
       "      <th></th>\n",
       "      <th>Mean</th>\n",
       "      <th>Obs</th>\n",
       "      <th>cor</th>\n",
       "    </tr>\n",
       "  </thead>\n",
       "  <tbody>\n",
       "    <tr>\n",
       "      <th>Auto</th>\n",
       "      <td>3.25</td>\n",
       "      <td>26</td>\n",
       "      <td>0.50</td>\n",
       "    </tr>\n",
       "    <tr>\n",
       "      <th>Chemicals</th>\n",
       "      <td>2.97</td>\n",
       "      <td>69</td>\n",
       "      <td>0.05</td>\n",
       "    </tr>\n",
       "    <tr>\n",
       "      <th>Machinery, equipment, electroncis</th>\n",
       "      <td>3.15</td>\n",
       "      <td>36</td>\n",
       "      <td>0.28</td>\n",
       "    </tr>\n",
       "    <tr>\n",
       "      <th>Food, frinks, tobacco</th>\n",
       "      <td>2.87</td>\n",
       "      <td>34</td>\n",
       "      <td>0.05</td>\n",
       "    </tr>\n",
       "    <tr>\n",
       "      <th>Materials, metals</th>\n",
       "      <td>2.85</td>\n",
       "      <td>50</td>\n",
       "      <td>0.32</td>\n",
       "    </tr>\n",
       "    <tr>\n",
       "      <th>Textile, apparel, leather</th>\n",
       "      <td>3.29</td>\n",
       "      <td>10</td>\n",
       "      <td>0.63</td>\n",
       "    </tr>\n",
       "    <tr>\n",
       "      <th>Wood, furniture, paper</th>\n",
       "      <td>2.77</td>\n",
       "      <td>38</td>\n",
       "      <td>0.36</td>\n",
       "    </tr>\n",
       "    <tr>\n",
       "      <th>Other</th>\n",
       "      <td>2.72</td>\n",
       "      <td>37</td>\n",
       "      <td>0.29</td>\n",
       "    </tr>\n",
       "  </tbody>\n",
       "</table>\n",
       "</div>"
      ],
      "text/plain": [
       "                                   Mean  Obs   cor\n",
       "Auto                               3.25   26  0.50\n",
       "Chemicals                          2.97   69  0.05\n",
       "Machinery, equipment, electroncis  3.15   36  0.28\n",
       "Food, frinks, tobacco              2.87   34  0.05\n",
       "Materials, metals                  2.85   50  0.32\n",
       "Textile, apparel, leather          3.29   10  0.63\n",
       "Wood, furniture, paper             2.77   38  0.36\n",
       "Other                              2.72   37  0.29"
      ]
     },
     "execution_count": 116,
     "metadata": {},
     "output_type": "execute_result"
    }
   ],
   "source": [
    "table_41.index = [\n",
    "    \"Auto\",\n",
    "    \"Chemicals\",\n",
    "    \"Machinery, equipment, electroncis\",\n",
    "    \"Food, frinks, tobacco\",\n",
    "    \"Materials, metals\",\n",
    "    \"Textile, apparel, leather\",\n",
    "    \"Wood, furniture, paper\",\n",
    "    \"Other\",\n",
    "]\n",
    "table_41.round(2)"
   ]
  },
  {
   "cell_type": "code",
   "execution_count": 117,
   "metadata": {},
   "outputs": [],
   "source": [
    "last_row = (\n",
    "    table_41.groupby(lambda _: True)\n",
    "    .agg(Mean=(\"Mean\", \"mean\"), Obs=(\"Obs\", \"sum\"), cor=(\"cor\", \"mean\"))\n",
    "    .reset_index(drop=True)\n",
    ")\n",
    "\n",
    "last_row.index = [\"All\"]"
   ]
  },
  {
   "cell_type": "code",
   "execution_count": 118,
   "metadata": {},
   "outputs": [],
   "source": [
    "table_41 = table_41.append(last_row)"
   ]
  },
  {
   "cell_type": "code",
   "execution_count": 119,
   "metadata": {},
   "outputs": [],
   "source": [
    "table_41 = table_41.loc[:, [\"cor\", \"Mean\", \"Obs\"]].reset_index()\n",
    "table_41.columns = [\n",
    "    \"Industry\",\n",
    "    \"Management - employment correlation\",\n",
    "    \"Management score\",\n",
    "    \"Observations\",\n",
    "]"
   ]
  },
  {
   "cell_type": "code",
   "execution_count": 120,
   "metadata": {},
   "outputs": [
    {
     "data": {
      "text/html": [
       "<div>\n",
       "<style scoped>\n",
       "    .dataframe tbody tr th:only-of-type {\n",
       "        vertical-align: middle;\n",
       "    }\n",
       "\n",
       "    .dataframe tbody tr th {\n",
       "        vertical-align: top;\n",
       "    }\n",
       "\n",
       "    .dataframe thead th {\n",
       "        text-align: right;\n",
       "    }\n",
       "</style>\n",
       "<table border=\"1\" class=\"dataframe\">\n",
       "  <thead>\n",
       "    <tr style=\"text-align: right;\">\n",
       "      <th></th>\n",
       "      <th>Industry</th>\n",
       "      <th>Management - employment correlation</th>\n",
       "      <th>Management score</th>\n",
       "      <th>Observations</th>\n",
       "    </tr>\n",
       "  </thead>\n",
       "  <tbody>\n",
       "    <tr>\n",
       "      <th>0</th>\n",
       "      <td>Auto</td>\n",
       "      <td>0.50</td>\n",
       "      <td>3.25</td>\n",
       "      <td>26</td>\n",
       "    </tr>\n",
       "    <tr>\n",
       "      <th>1</th>\n",
       "      <td>Chemicals</td>\n",
       "      <td>0.05</td>\n",
       "      <td>2.97</td>\n",
       "      <td>69</td>\n",
       "    </tr>\n",
       "    <tr>\n",
       "      <th>2</th>\n",
       "      <td>Machinery, equipment, electroncis</td>\n",
       "      <td>0.28</td>\n",
       "      <td>3.15</td>\n",
       "      <td>36</td>\n",
       "    </tr>\n",
       "    <tr>\n",
       "      <th>3</th>\n",
       "      <td>Food, frinks, tobacco</td>\n",
       "      <td>0.05</td>\n",
       "      <td>2.87</td>\n",
       "      <td>34</td>\n",
       "    </tr>\n",
       "    <tr>\n",
       "      <th>4</th>\n",
       "      <td>Materials, metals</td>\n",
       "      <td>0.32</td>\n",
       "      <td>2.85</td>\n",
       "      <td>50</td>\n",
       "    </tr>\n",
       "    <tr>\n",
       "      <th>5</th>\n",
       "      <td>Textile, apparel, leather</td>\n",
       "      <td>0.63</td>\n",
       "      <td>3.29</td>\n",
       "      <td>10</td>\n",
       "    </tr>\n",
       "    <tr>\n",
       "      <th>6</th>\n",
       "      <td>Wood, furniture, paper</td>\n",
       "      <td>0.36</td>\n",
       "      <td>2.77</td>\n",
       "      <td>38</td>\n",
       "    </tr>\n",
       "    <tr>\n",
       "      <th>7</th>\n",
       "      <td>Other</td>\n",
       "      <td>0.29</td>\n",
       "      <td>2.72</td>\n",
       "      <td>37</td>\n",
       "    </tr>\n",
       "    <tr>\n",
       "      <th>8</th>\n",
       "      <td>All</td>\n",
       "      <td>0.31</td>\n",
       "      <td>2.98</td>\n",
       "      <td>300</td>\n",
       "    </tr>\n",
       "  </tbody>\n",
       "</table>\n",
       "</div>"
      ],
      "text/plain": [
       "                            Industry  Management - employment correlation  \\\n",
       "0                               Auto                                 0.50   \n",
       "1                          Chemicals                                 0.05   \n",
       "2  Machinery, equipment, electroncis                                 0.28   \n",
       "3              Food, frinks, tobacco                                 0.05   \n",
       "4                  Materials, metals                                 0.32   \n",
       "5          Textile, apparel, leather                                 0.63   \n",
       "6             Wood, furniture, paper                                 0.36   \n",
       "7                              Other                                 0.29   \n",
       "8                                All                                 0.31   \n",
       "\n",
       "   Management score  Observations  \n",
       "0              3.25            26  \n",
       "1              2.97            69  \n",
       "2              3.15            36  \n",
       "3              2.87            34  \n",
       "4              2.85            50  \n",
       "5              3.29            10  \n",
       "6              2.77            38  \n",
       "7              2.72            37  \n",
       "8              2.98           300  "
      ]
     },
     "execution_count": 120,
     "metadata": {},
     "output_type": "execute_result"
    }
   ],
   "source": [
    "table_41.round(2)"
   ]
  },
  {
   "cell_type": "markdown",
   "metadata": {},
   "source": [
    "<p>The table shows that the correlation between management score and firm size is not equal across industries. For instance, the auto and the textile, apparel, leather industries present higher correlation coefficients, while Chemicals and Food, drinks, tobacco hold a very weak correlation between the two variables.</p>\n",
    "<p>Regarding latent variables, it is important to notice that this study used one latent variable - the management score - as the y variable.</p>\n",
    "<h2>5. Conclusion</h2>\n",
    "<p>What did we learn about the association between firm size and management quality?</p>\n",
    "<ul>\n",
    "<li>Among Mexican manufacturing firms, larger firms tend to be better managed.</li>\n",
    "<ul>\n",
    "<li>Large firms have an average score of <b>3.19</b>, compared to <b>2.94</b> for medium-sized firms, and <b>2.68</b> for small ones.</li>\n",
    "</ul>\n",
    "<li>The correlation, even though positive, is <b>not very strong</b>. Maybe other issues also affect the quality of management besides firm size.</li>\n",
    "<li>When disaggregating the results into smaller industry groups, we found that the strength of the management-size correlation differs in some industries from the rest, although we have not observed any pattern that would tell us why.</li>\n",
    "<li>Management quality is not only better, on average, among larger firms, yet it is also more <b>spread</b> among larger firms.</li>\n",
    "</ul>\n",
    "<hr>\n",
    "<h2><b>Extra</b> | Plotting box plots and violin plots</h2>\n",
    "<p>The following code plots a descriptive version of a box plot and a violin plot, informing how to read each of them and take into consideration how each of them inform us about the distribution and spread of the data.</p>"
   ]
  },
  {
   "cell_type": "code",
   "execution_count": 121,
   "metadata": {},
   "outputs": [],
   "source": [
    "df2 = df.filter([\"emp3bins\", \"management\"]).loc[lambda x: x[\"emp3bins\"] == \"Small\"]"
   ]
  },
  {
   "cell_type": "code",
   "execution_count": 122,
   "metadata": {},
   "outputs": [],
   "source": [
    "q1 = np.quantile(df2[\"management\"], 0.25)\n",
    "q2 = np.quantile(df2[\"management\"], 0.5)\n",
    "q3 = np.quantile(df[\"management\"], 0.75)\n",
    "\n",
    "iqr = q3 - q1\n",
    "ub = max(df2.loc[df2[\"management\"] < q3 + 1.5 * iqr, \"management\"])\n",
    "lb = min(df2.loc[df2[\"management\"] >= q3 - 1.5 * iqr, \"management\"])\n",
    "\n",
    "out_lb = min(df2[\"management\"])\n",
    "min = min(df[\"management\"])\n",
    "max = max(df[\"management\"])"
   ]
  },
  {
   "cell_type": "code",
   "execution_count": 123,
   "metadata": {},
   "outputs": [
    {
     "data": {
      "image/png": "[encoded data removed]",
      "text/plain": [
       "<Figure size 640x480 with 1 Axes>"
      ]
     },
     "metadata": {},
     "output_type": "display_data"
    },
    {
     "data": {
      "text/plain": [
       "<ggplot: (166363965726)>"
      ]
     },
     "execution_count": 123,
     "metadata": {},
     "output_type": "execute_result"
    }
   ],
   "source": [
    "ggplot(df2, aes(x=\"emp3bins\", y=\"management\")) + geom_boxplot(\n",
    "    color=color[0], fill=color[4], size=0.5, width=0.1, alpha=0.5, na_rm=True\n",
    ") + stat_boxplot(\n",
    "    geom=\"errorbar\", width=0.05, color=color[0], size=0.5, na_rm=True\n",
    ") + scale_y_continuous(\n",
    "    limits=(min, max)\n",
    ") + annotate(\n",
    "    \"text\", x=1.3, y=ub, label=\"<-- Upper adjacent value\",  size=8\n",
    ") + annotate(\n",
    "    \"text\", x=1.3, y=q3, label=\"<-- 75th percentile (upper hinge)\",  size=8\n",
    ") + annotate(\n",
    "    \"text\", x=1.3, y=q2, label=\"<-- Median\",  size=8\n",
    ") + annotate(\n",
    "    \"text\", x=1.3, y=q1, label=\"<-- 25th percentile (upper hinge)\",  size=8\n",
    ") + annotate(\n",
    "    \"text\", x=1.3, y=lb, label=\"<-- Lower adjacent value\",  size=8\n",
    ") + annotate(\n",
    "    \"text\", x=1.3, y=out_lb, label=\"<-- Outside values\",  size=8\n",
    ") + annotate(\n",
    "    \"text\", x=0.63, y=ub, label=\"Adjacent line\",  size=8\n",
    ") + annotate(\n",
    "    \"text\", x=0.63, y=q3, label=\"Whiskers\",  size=8\n",
    ") + annotate(\n",
    "    \"text\", x=0.63, y=q2, label=\"Median\",  size=8\n",
    ") + annotate(\n",
    "    \"text\", x=0.63, y=q1, label=\"Whiskers\",  size=8\n",
    ") + annotate(\n",
    "    \"text\", x=0.63, y=lb, label=\"Adjacent line\",  size=8\n",
    ") + geom_segment(\n",
    "    aes(x=0.9, y=lb, xend=0.9, yend=ub)\n",
    ") + geom_segment(\n",
    "    aes(x=0.88, y=lb, xend=0.9, yend=lb)\n",
    ") + geom_segment(\n",
    "    aes(x=0.88, y=q1, xend=0.9, yend=q1)\n",
    ") + geom_segment(\n",
    "    aes(x=0.88, y=q2, xend=0.9, yend=q2)\n",
    ") + geom_segment(\n",
    "    aes(x=0.88, y=q3, xend=0.9, yend=q3)\n",
    ") + geom_segment(\n",
    "    aes(x=0.88, y=ub, xend=0.9, yend=ub)\n",
    ") + theme_bw() + theme(\n",
    "    axis_title_x=element_blank(),\n",
    "    axis_line_x=element_blank(),\n",
    "    #axis_ticks_x=element_blank(),\n",
    "    axis_text_x=element_blank(),\n",
    "    axis_title_y=element_blank(),\n",
    "    axis_line_y=element_blank(),\n",
    "    #axis_ticks_y=element_blank(),\n",
    "    axis_text_y=element_blank(),\n",
    "    panel_grid=element_blank(),\n",
    "    panel_border=element_blank(),\n",
    ")"
   ]
  },
  {
   "cell_type": "code",
   "execution_count": 124,
   "metadata": {},
   "outputs": [
    {
     "data": {
      "image/png": "[encoded data removed]",
      "text/plain": [
       "<Figure size 640x480 with 1 Axes>"
      ]
     },
     "metadata": {},
     "output_type": "display_data"
    },
    {
     "data": {
      "text/plain": [
       "<ggplot: (166369276913)>"
      ]
     },
     "execution_count": 124,
     "metadata": {},
     "output_type": "execute_result"
    }
   ],
   "source": [
    "ggplot(df2, aes(x=\"emp3bins\", y=\"management\")) + geom_violin(\n",
    "    size=0.2,\n",
    "    width=0.3,\n",
    "    trim=False,\n",
    "    show_legend=False,\n",
    "    na_rm=True,\n",
    "    color=color[0],\n",
    "    alpha=0.3,\n",
    ") + geom_boxplot(\n",
    "    color=color[0],\n",
    "    fill=color[4],\n",
    "    size=0.6,\n",
    "    width=0.1,\n",
    "    alpha=0.5,\n",
    "    na_rm=True,\n",
    "    outlier_shape=\"\",\n",
    ") + annotate(\n",
    "    \"text\", x=1.2, y=ub, label=\"<-- 95% Confidence Interval\",  size=8\n",
    ") + annotate(\n",
    "    \"text\", x=1.2, y=lb, label=\"<-- 95% Confidence Interval\",  size=8\n",
    ") + annotate(\n",
    "    \"text\", x=1.4, y=q3, label=\"<-- Interquartile range\",  size=8\n",
    ") + annotate(\n",
    "    \"text\", x=1.4, y=q2, label=\"<-- Median\",  size=8\n",
    ") +ylim(1,4\n",
    ") + theme_bw() + theme(\n",
    "    axis_title_x=element_blank(),\n",
    "    axis_line_x=element_blank(),\n",
    "    #axis_ticks_x=element_blank(),\n",
    "    axis_text_x=element_blank(),\n",
    "    axis_title_y=element_blank(),\n",
    "    axis_line_y=element_blank(),\n",
    "    #axis_ticks_y=element_blank(),\n",
    "    axis_text_y=element_blank(),\n",
    "    panel_grid=element_blank(),\n",
    "    panel_border=element_blank(),\n",
    ")\n"
   ]
  },
  {
   "cell_type": "code",
   "execution_count": null,
   "metadata": {},
   "outputs": [],
   "source": []
  }
 ],
 "metadata": {
  "kernelspec": {
   "display_name": "data_analysis",
   "language": "python",
   "name": "python3"
  },
  "language_info": {
   "codemirror_mode": {
    "name": "ipython",
    "version": 3
   },
   "file_extension": ".py",
   "mimetype": "text/x-python",
   "name": "python",
   "nbconvert_exporter": "python",
   "pygments_lexer": "ipython3",
   "version": "3.10.3"
  },
  "orig_nbformat": 4
 },
 "nbformat": 4,
 "nbformat_minor": 2
}
