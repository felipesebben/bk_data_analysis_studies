{
 "cells": [
  {
   "attachments": {},
   "cell_type": "markdown",
   "metadata": {},
   "source": [
    "<h1>Chapter 3 | Case Study D1| <b>Distributions of Body Height and Income</b></h1>\n",
    "<p>In this notebook, I'll be taking notes of the author's code on the referred case study. The goal is to review different types of distributions and how to visualize them. We'll review the concept of <b>normal</b> and <b>lognormal</b> distribution, and apply them using the <code>height-income-distributions</code>.</p>\n",
    "<h2><b>PART A</b> | Read the data</h2>"
   ]
  },
  {
   "cell_type": "code",
   "execution_count": null,
   "metadata": {},
   "outputs": [],
   "source": [
    "import os\n",
    "import sys\n",
    "import warnings\n",
    "\n",
    "import pandas as pd\n",
    "import numpy as np\n",
    "from mizani.formatters import percent_format\n",
    "from plotline import *\n",
    "from scipy.stats import norm\n",
    "\n",
    "warnings.filterwarnings(\"ignore\")\n",
    "pd.set_option(\"display.max_rows\", 500)\n",
    "# Current script folder\n",
    "current_path = os.getcwd()\n",
    "dirname = current_path.split(\"da_case_studies\")[0]\n",
    "\n",
    "#  Get location folders\n",
    "data_in = f\"{dirname}da_data_repo/hotels-vienna\"\n",
    "data_out = f\"{dirname}da_case_studies/ch02-hotels_data_prep/\"\n",
    "output = f\"{dirname}da_case_studies/ch02-hotels_data_prep/output/\"\n",
    "func = f\"{dirname}da_case_studies/ch00-tech_prep/\"\n",
    "sys.path.append(func)\n",
    "# Import the prewritten helper functions\n",
    "from py_helper_functions import *\n",
    "<p>In this exercise, we'll be using both the clean and the raw files separately. Let's get hold of both of them.</p>\n",
    "data_in_clean = f\"{data_in}/clean/\"\n",
    "data_in_raw = f\"{data_in}/raw/\""
   ]
  },
  {
   "cell_type": "code",
   "execution_count": null,
   "metadata": {},
   "outputs": [],
   "source": []
  }
 ],
 "metadata": {
  "kernelspec": {
   "display_name": "data_analysis",
   "language": "python",
   "name": "python3"
  },
  "language_info": {
   "name": "python",
   "version": "3.10.3"
  },
  "orig_nbformat": 4
 },
 "nbformat": 4,
 "nbformat_minor": 2
}
