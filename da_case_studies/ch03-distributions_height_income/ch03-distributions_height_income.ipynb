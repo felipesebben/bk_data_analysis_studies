{
 "cells": [
  {
   "attachments": {},
   "cell_type": "markdown",
   "metadata": {},
   "source": [
    "<h1>Chapter 3 | Case Study D1| <b>Distributions of Body Height and Income</b></h1>\n",
    "<p>In this notebook, I'll be taking notes of the author's code on the referred case study. The goal is to review different types of distributions and how to visualize them. We'll review the concept of <b>normal</b> and <b>lognormal</b> distribution, and apply them using the <code>height-income-distributions</code>.</p>\n",
    "<h2><b>PART A</b> | Read the data</h2>"
   ]
  },
  {
   "cell_type": "code",
   "execution_count": 1,
   "metadata": {},
   "outputs": [],
   "source": [
    "import os\n",
    "import sys\n",
    "import warnings\n",
    "import pandas as pd\n",
    "import numpy as np\n",
    "from mizani.formatters import percent_format\n",
    "from plotnine import *\n",
    "from scipy.stats import norm\n",
    "\n",
    "warnings.filterwarnings(\"ignore\")\n"
   ]
  },
  {
   "cell_type": "code",
   "execution_count": 2,
   "metadata": {},
   "outputs": [],
   "source": [
    "pd.set_option(\"display.max_rows\", 500)"
   ]
  },
  {
   "cell_type": "code",
   "execution_count": 3,
   "metadata": {},
   "outputs": [],
   "source": [
    "\n",
    "# Current script folder\n",
    "current_path = os.getcwd()\n",
    "dirname = current_path.split(\"da_case_studies\")[0]\n",
    "\n",
    "#  Get location folders\n",
    "data_in = f\"{dirname}da_data_repo/height-income-distributions/clean/\"\n",
    "data_out = f\"{dirname}da_case_studies/ch03-distributions_height_income/\"\n",
    "output = f\"{dirname}da_case_studies/ch03-distributions_height_income/output/\"\n",
    "func = f\"{dirname}da_case_studies/ch00-tech_prep/\"\n",
    "sys.path.append(func)"
   ]
  },
  {
   "cell_type": "code",
   "execution_count": 4,
   "metadata": {},
   "outputs": [],
   "source": [
    "# Import the prewritten helper functions\n",
    "from py_helper_functions import *"
   ]
  },
  {
   "attachments": {},
   "cell_type": "markdown",
   "metadata": {},
   "source": [
    "<h3>1. Load clean and tidy data + create workfile</h3>"
   ]
  },
  {
   "cell_type": "code",
   "execution_count": 5,
   "metadata": {},
   "outputs": [],
   "source": [
    "hrs = pd.read_csv(data_in + \"hrs_height_income.csv\")"
   ]
  },
  {
   "cell_type": "code",
   "execution_count": 6,
   "metadata": {},
   "outputs": [
    {
     "data": {
      "text/html": [
       "<div>\n",
       "<style scoped>\n",
       "    .dataframe tbody tr th:only-of-type {\n",
       "        vertical-align: middle;\n",
       "    }\n",
       "\n",
       "    .dataframe tbody tr th {\n",
       "        vertical-align: top;\n",
       "    }\n",
       "\n",
       "    .dataframe thead th {\n",
       "        text-align: right;\n",
       "    }\n",
       "</style>\n",
       "<table border=\"1\" class=\"dataframe\">\n",
       "  <thead>\n",
       "    <tr style=\"text-align: right;\">\n",
       "      <th></th>\n",
       "      <th>hhidpn</th>\n",
       "      <th>age</th>\n",
       "      <th>height</th>\n",
       "      <th>hhincome</th>\n",
       "      <th>female</th>\n",
       "    </tr>\n",
       "  </thead>\n",
       "  <tbody>\n",
       "    <tr>\n",
       "      <th>0</th>\n",
       "      <td>3020</td>\n",
       "      <td>75</td>\n",
       "      <td>1.6256</td>\n",
       "      <td>703.50000</td>\n",
       "      <td>1</td>\n",
       "    </tr>\n",
       "    <tr>\n",
       "      <th>1</th>\n",
       "      <td>10001010</td>\n",
       "      <td>74</td>\n",
       "      <td>1.8034</td>\n",
       "      <td>12.00000</td>\n",
       "      <td>0</td>\n",
       "    </tr>\n",
       "    <tr>\n",
       "      <th>2</th>\n",
       "      <td>10003030</td>\n",
       "      <td>58</td>\n",
       "      <td>1.5494</td>\n",
       "      <td>11.88012</td>\n",
       "      <td>1</td>\n",
       "    </tr>\n",
       "    <tr>\n",
       "      <th>3</th>\n",
       "      <td>10004040</td>\n",
       "      <td>68</td>\n",
       "      <td>1.651</td>\n",
       "      <td>19.20000</td>\n",
       "      <td>1</td>\n",
       "    </tr>\n",
       "    <tr>\n",
       "      <th>4</th>\n",
       "      <td>10013010</td>\n",
       "      <td>76</td>\n",
       "      <td>1.7272</td>\n",
       "      <td>15.27600</td>\n",
       "      <td>0</td>\n",
       "    </tr>\n",
       "  </tbody>\n",
       "</table>\n",
       "</div>"
      ],
      "text/plain": [
       "     hhidpn  age  height   hhincome  female\n",
       "0      3020   75  1.6256  703.50000       1\n",
       "1  10001010   74  1.8034   12.00000       0\n",
       "2  10003030   58  1.5494   11.88012       1\n",
       "3  10004040   68   1.651   19.20000       1\n",
       "4  10013010   76  1.7272   15.27600       0"
      ]
     },
     "execution_count": 6,
     "metadata": {},
     "output_type": "execute_result"
    }
   ],
   "source": [
    "hrs.head()"
   ]
  },
  {
   "cell_type": "code",
   "execution_count": 7,
   "metadata": {},
   "outputs": [
    {
     "name": "stdout",
     "output_type": "stream",
     "text": [
      "<class 'pandas.core.frame.DataFrame'>\n",
      "RangeIndex: 18747 entries, 0 to 18746\n",
      "Data columns (total 5 columns):\n",
      " #   Column    Non-Null Count  Dtype  \n",
      "---  ------    --------------  -----  \n",
      " 0   hhidpn    18747 non-null  int64  \n",
      " 1   age       18747 non-null  int64  \n",
      " 2   height    18747 non-null  object \n",
      " 3   hhincome  18747 non-null  float64\n",
      " 4   female    18747 non-null  int64  \n",
      "dtypes: float64(1), int64(3), object(1)\n",
      "memory usage: 732.4+ KB\n"
     ]
    }
   ],
   "source": [
    "hrs.info()"
   ]
  },
  {
   "attachments": {},
   "cell_type": "markdown",
   "metadata": {},
   "source": [
    "<p><b>Problem:</b> <code>\"height\"</code> is stored as object (string). Let's convert it to numeric.</p>"
   ]
  },
  {
   "cell_type": "code",
   "execution_count": 8,
   "metadata": {},
   "outputs": [],
   "source": [
    "hrs[\"height\"] = hrs[\"height\"].apply(pd.to_numeric, errors=\"coerce\")"
   ]
  },
  {
   "cell_type": "code",
   "execution_count": 9,
   "metadata": {},
   "outputs": [
    {
     "name": "stdout",
     "output_type": "stream",
     "text": [
      "<class 'pandas.core.frame.DataFrame'>\n",
      "RangeIndex: 18747 entries, 0 to 18746\n",
      "Data columns (total 5 columns):\n",
      " #   Column    Non-Null Count  Dtype  \n",
      "---  ------    --------------  -----  \n",
      " 0   hhidpn    18747 non-null  int64  \n",
      " 1   age       18747 non-null  int64  \n",
      " 2   height    18660 non-null  float64\n",
      " 3   hhincome  18747 non-null  float64\n",
      " 4   female    18747 non-null  int64  \n",
      "dtypes: float64(2), int64(3)\n",
      "memory usage: 732.4 KB\n"
     ]
    }
   ],
   "source": [
    "hrs.info()"
   ]
  },
  {
   "attachments": {},
   "cell_type": "markdown",
   "metadata": {},
   "source": [
    "<p>To reproduce the book's data, we need to filter some observations out of the dataset. The goal is to keep the data on American women aged 55-59.</p>"
   ]
  },
  {
   "cell_type": "code",
   "execution_count": 13,
   "metadata": {},
   "outputs": [],
   "source": [
    "filtered_women = hrs.loc[\n",
    "    lambda x: (x[\"age\"] >= 55) &\n",
    "    (x[\"age\"] < 60) &\n",
    "    (x[\"female\"] == 1) &\n",
    "    (x[\"height\"] > 1.3) &\n",
    "    (x[\"height\"] < 2.1)\n",
    "]"
   ]
  },
  {
   "cell_type": "code",
   "execution_count": 15,
   "metadata": {},
   "outputs": [
    {
     "data": {
      "text/plain": [
       "count    18660.000000\n",
       "mean         1.677539\n",
       "std          0.104078\n",
       "min          1.003300\n",
       "25%          1.600200\n",
       "50%          1.676400\n",
       "75%          1.752600\n",
       "max          2.324100\n",
       "Name: height, dtype: float64"
      ]
     },
     "execution_count": 15,
     "metadata": {},
     "output_type": "execute_result"
    }
   ],
   "source": [
    "hrs[\"height\"].describe()"
   ]
  },
  {
   "cell_type": "code",
   "execution_count": 16,
   "metadata": {},
   "outputs": [
    {
     "data": {
      "text/plain": [
       "count    1988.000000\n",
       "mean        1.628820\n",
       "std         0.070975\n",
       "min         1.346200\n",
       "25%         1.574800\n",
       "50%         1.625600\n",
       "75%         1.676400\n",
       "max         1.905000\n",
       "Name: height, dtype: float64"
      ]
     },
     "execution_count": 16,
     "metadata": {},
     "output_type": "execute_result"
    }
   ],
   "source": [
    "filtered_women[\"height\"].describe()"
   ]
  },
  {
   "cell_type": "code",
   "execution_count": 19,
   "metadata": {},
   "outputs": [
    {
     "data": {
      "text/plain": [
       "0    1.6256\n",
       "Name: height, dtype: float64"
      ]
     },
     "execution_count": 19,
     "metadata": {},
     "output_type": "execute_result"
    }
   ],
   "source": [
    "filtered_women[\"height\"].mode()"
   ]
  },
  {
   "attachments": {},
   "cell_type": "markdown",
   "metadata": {},
   "source": [
    "<p>We can see that we removed values above and below our threshold measures. The sample is around 10 percent of the original dataset. Moreover, we can notice the difference in the statistics. The mean height for our sample is lower, as well as the standard deviation. This means that our values are closer to a normal distribution. If we consider the mode, we can see that the mean, the median, and the mode are very close, a central feature in a normal distribution dataset.</p>\n",
    "<p>We can plot the height graph now.</p>"
   ]
  },
  {
   "cell_type": "code",
   "execution_count": 20,
   "metadata": {},
   "outputs": [
    {
     "data": {
      "image/png": "[encoded data removed]",
      "text/plain": [
       "<Figure size 640x480 with 1 Axes>"
      ]
     },
     "metadata": {},
     "output_type": "display_data"
    },
    {
     "data": {
      "text/plain": [
       "<ggplot: (101301853779)>"
      ]
     },
     "execution_count": 20,
     "metadata": {},
     "output_type": "execute_result"
    }
   ],
   "source": [
    "ggplot(filtered_women, aes(x=\"height\")) + geom_histogram(\n",
    "    aes(y=\"stat(density)\"),\n",
    "    bins=23,\n",
    "    fill=color[0],\n",
    "    color=\"white\",\n",
    "    alpha=0.8,\n",
    "    center=1.55,\n",
    "    closed=\"right\",\n",
    ") + stat_function(\n",
    "    fun=norm.pdf,\n",
    "    colour=color[1],\n",
    "    args=[np.mean(filtered_women[\"height\"]), np.std(filtered_women[\"height\"])],\n",
    ") + theme_bw() + ylab(\n",
    "    \"Percent / Density\"\n",
    ") + xlab(\n",
    "    \"Height (meters)\"\n",
    ")"
   ]
  },
  {
   "attachments": {},
   "cell_type": "markdown",
   "metadata": {},
   "source": [
    "<p>We can now compare this normally-distributed histogram with one variable that has a few large values: <b>household income</b>.  Let's filter the dataset, so that we get the faimily income of women of age 55-59. We also need to keep out income levels below 1 thousand or above 1 million dollars.</p>"
   ]
  },
  {
   "cell_type": "code",
   "execution_count": 21,
   "metadata": {},
   "outputs": [],
   "source": [
    "filtered_women_income = hrs.loc[\n",
    "    lambda x: (x[\"age\"] >= 55) &\n",
    "    (x[\"age\"] < 60) &\n",
    "    (x[\"female\"] == 1) &\n",
    "    (x[\"hhincome\"] > 1) &\n",
    "    (x[\"hhincome\"] < 1000)\n",
    "]"
   ]
  },
  {
   "cell_type": "code",
   "execution_count": 22,
   "metadata": {},
   "outputs": [
    {
     "data": {
      "text/plain": [
       "count    18747.000000\n",
       "mean        69.362753\n",
       "std        146.275580\n",
       "min          0.000000\n",
       "25%         19.056000\n",
       "50%         40.212000\n",
       "75%         80.903535\n",
       "max      11204.572060\n",
       "Name: hhincome, dtype: float64"
      ]
     },
     "execution_count": 22,
     "metadata": {},
     "output_type": "execute_result"
    }
   ],
   "source": [
    "hrs[\"hhincome\"].describe()"
   ]
  },
  {
   "cell_type": "code",
   "execution_count": 23,
   "metadata": {},
   "outputs": [
    {
     "data": {
      "text/plain": [
       "count    1918.000000\n",
       "mean       74.931920\n",
       "std        87.185212\n",
       "min         1.200000\n",
       "25%        19.704000\n",
       "50%        48.000000\n",
       "75%       100.800000\n",
       "max       945.000000\n",
       "Name: hhincome, dtype: float64"
      ]
     },
     "execution_count": 23,
     "metadata": {},
     "output_type": "execute_result"
    }
   ],
   "source": [
    "filtered_women_income[\"hhincome\"].describe()"
   ]
  },
  {
   "cell_type": "code",
   "execution_count": 24,
   "metadata": {},
   "outputs": [
    {
     "data": {
      "text/plain": [
       "0    25.0\n",
       "Name: hhincome, dtype: float64"
      ]
     },
     "execution_count": 24,
     "metadata": {},
     "output_type": "execute_result"
    }
   ],
   "source": [
    "filtered_women_income[\"hhincome\"].mode()"
   ]
  },
  {
   "attachments": {},
   "cell_type": "markdown",
   "metadata": {},
   "source": [
    "<p>Even after filtering the dataset, we can observe a difference in its distribution when compared to height. We can see how the median, the mode, and the mean are not the same (48, 25, and 74 USD thousand, respectively). This variable presents a few large values. Let's see its distribution in a histogram.</p>"
   ]
  },
  {
   "cell_type": "code",
   "execution_count": 29,
   "metadata": {},
   "outputs": [
    {
     "data": {
      "image/png": "[encoded data removed]",
      "text/plain": [
       "<Figure size 640x480 with 1 Axes>"
      ]
     },
     "metadata": {},
     "output_type": "display_data"
    },
    {
     "data": {
      "text/plain": [
       "<ggplot: (101304240849)>"
      ]
     },
     "execution_count": 29,
     "metadata": {},
     "output_type": "execute_result"
    }
   ],
   "source": [
    "ggplot(filtered_women_income, aes(x=\"hhincome\")) + geom_histogram(\n",
    "    aes(y=\"stat(count)/sum(stat(count))\"),\n",
    "    binwidth=20,\n",
    "    boundary=0,\n",
    "    fill=color[0],\n",
    "    color=\"white\",\n",
    "    alpha=0.8, closed=\"left\"\n",
    ") + ylab(\"Percent\") + xlab(\"Household income (thousand USD)\") + expand_limits(\n",
    "    x=0.01, y=0.01\n",
    ") + scale_x_continuous(\n",
    "    expand=(0.01, 0.01), limits=(0, 1001), breaks=seq(0, 1001, by=100)\n",
    ") + scale_y_continuous(\n",
    "    expand=(0.01, 0.01), limits=(0, 0.31), breaks=seq(0, 0.31, by=0.05), labels=percent_format()\n",
    ") + theme_bw()"
   ]
  },
  {
   "attachments": {},
   "cell_type": "markdown",
   "metadata": {},
   "source": [
    "<p>We can see how asymmetric this distribution is. We are dealing with a <b>lognormal distribution</b>. It has a long right tail and includes many extreme values. This is an expected behavior from our variable - income distributions tend to be lognormally distributed. If we get the log of this distribution and overlay it will the density plot of the normal distribution with the same mean and standard deviation, we will get a more normal distribution.</p>"
   ]
  },
  {
   "cell_type": "code",
   "execution_count": 30,
   "metadata": {},
   "outputs": [
    {
     "data": {
      "text/plain": [
       "count    1918.000000\n",
       "mean        3.761960\n",
       "std         1.132004\n",
       "min         0.182322\n",
       "25%         2.980822\n",
       "50%         3.871201\n",
       "75%         4.613138\n",
       "max         6.851185\n",
       "Name: lnincome, dtype: float64"
      ]
     },
     "execution_count": 30,
     "metadata": {},
     "output_type": "execute_result"
    }
   ],
   "source": [
    "# get the natural log of household income\n",
    "filtered_women_income[\"lnincome\"] = np.log(filtered_women_income[\"hhincome\"])\n",
    "filtered_women_income[\"lnincome\"].describe()"
   ]
  },
  {
   "cell_type": "code",
   "execution_count": 34,
   "metadata": {},
   "outputs": [
    {
     "data": {
      "image/png": "[encoded data removed]",
      "text/plain": [
       "<Figure size 640x480 with 1 Axes>"
      ]
     },
     "metadata": {},
     "output_type": "display_data"
    },
    {
     "data": {
      "text/plain": [
       "<ggplot: (101305982244)>"
      ]
     },
     "execution_count": 34,
     "metadata": {},
     "output_type": "execute_result"
    }
   ],
   "source": [
    "ggplot(filtered_women_income, aes(x=\"lnincome\")) + geom_histogram(\n",
    "    aes(y=\"stat(density)\"),\n",
    "    binwidth=0.25,\n",
    "    fill=color[0],\n",
    "    color=\"white\",\n",
    "    boundary=4,\n",
    "    closed=\"right\",\n",
    ") + stat_function(\n",
    "    fun=norm.pdf,\n",
    "    colour=color[1],\n",
    "    args=[\n",
    "        np.mean(filtered_women_income[\"lnincome\"]),\n",
    "        np.std(filtered_women_income[\"lnincome\"]),\n",
    "    ],\n",
    ") + expand_limits(\n",
    "    x=0.01, y=0.01\n",
    ") + scale_x_continuous(\n",
    "    expand=(0.01, 0.01), limits=(0, 8.1), breaks=seq(0, 8.1, by=1)\n",
    ") + scale_y_continuous(\n",
    "    expand=(0.01, 0.01), limits=(0, 0.4), breaks=seq(0, 0.41, by=0.1)\n",
    ") + ylab(\n",
    "    \"Density\"\n",
    ") + xlab(\n",
    "    \"ln(household income, thousand USD)\"\n",
    ") + theme_bw()"
   ]
  },
  {
   "attachments": {},
   "cell_type": "markdown",
   "metadata": {},
   "source": [
    "<p>And the result is a normalized distribution! Be aware that:</p>\n",
    "<ul>\n",
    "<li><p>While taking the natural logarithm of a lognormally distributed variable can help approximate it to a normal distribution, it is important to note that it is still an <b>approximation</b>. The resulting distribution may not perfectly match a normal distribution, especially if the original data has a significantly skewed or heavy-tailed distribution.</p></li>\n",
    "\n",
    "<li>In lognormal distributions, the <b>mean</b> and <b>standard deviation</b> are related to the underlying parameters of the distribution, namely the <b>mu</b> (mean of the logarithm of the data) and sigma (standard deviation of the logarithm of the data). After taking the logarithm, the resulting distribution will have a mean that corresponds to mu and a standard deviation that corresponds to sigma.</li>\n",
    "\n",
    "<li>However, the mean and standard deviation of the original untransformed data will not necessarily match the mean and standard deviation of the transformed data. The logarithmic transformation can affect the relationship between the mean and standard deviation, and the resulting transformed data may exhibit different characteristics.</li>\n",
    "\n",
    "<li>Therefore, it's important to keep in mind that while the natural logarithm can be used to approximate a lognormal distribution to a normal distribution, there may still be differences in the mean and standard deviation between the original data and the transformed data. The approximation relies on certain assumptions and may not be suitable for all cases or analyses.</li>\n",
    "</ul>\n",
    "<hr>"
   ]
  }
 ],
 "metadata": {
  "kernelspec": {
   "display_name": "data_analysis",
   "language": "python",
   "name": "python3"
  },
  "language_info": {
   "codemirror_mode": {
    "name": "ipython",
    "version": 3
   },
   "file_extension": ".py",
   "mimetype": "text/x-python",
   "name": "python",
   "nbconvert_exporter": "python",
   "pygments_lexer": "ipython3",
   "version": "3.10.3"
  },
  "orig_nbformat": 4
 },
 "nbformat": 4,
 "nbformat_minor": 2
}
