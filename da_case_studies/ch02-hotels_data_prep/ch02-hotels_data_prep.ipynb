{
 "cells": [
  {
   "attachments": {},
   "cell_type": "markdown",
   "metadata": {},
   "source": [
    "<h1>Chapter 2 | Case Study A2 | <b>Finding a Good Deal among Hotels: Data Preparation</b></h1>\n",
    "<p>In this notebook, I'll be dealing mostly with <b>duplicates</b> and <b>missing values</b> concerning the <code>hotels-vienna</code> dataset. The main goal is to first check whether the number of different ID variables, which replace the name of the hotels for confidentiality reasons, match the number of observations. Ideally, since we are dealing with a dataset in tidy data format, there should be only one observation per hotel. Then, we will check whether our dataset has a significant percentage of missing values and which of the variables present the highest relative proportion of missing values.</p>\n"
   ]
  },
  {
   "cell_type": "code",
   "execution_count": 6,
   "metadata": {},
   "outputs": [],
   "source": [
    "import os\n",
    "import sys\n",
    "import warnings\n",
    "\n",
    "import pandas as pd\n",
    "\n",
    "warnings.filterwarnings(\"ignore\")"
   ]
  },
  {
   "cell_type": "code",
   "execution_count": 24,
   "metadata": {},
   "outputs": [],
   "source": [
    "# Current script folder\n",
    "current_path = os.getcwd()\n",
    "dirname = current_path.split(\"da_case_studies\")[0]\n",
    "\n",
    "#  Get location folders\n",
    "data_in = f\"{dirname}da_data_repo/hotels-vienna\"\n",
    "data_out = f\"{dirname}da_case_studies/ch02-hotels_data_prep/\"\n",
    "output = f\"{dirname}da_case_studies/ch02-hotels_data_prep/output/\"\n",
    "func = f\"{dirname}da_case_studies/ch00-tech_prep/\"\n",
    "sys.path.append(func)"
   ]
  },
  {
   "cell_type": "code",
   "execution_count": 25,
   "metadata": {},
   "outputs": [],
   "source": [
    "# Import the prewritten helper functions\n",
    "from py_helper_functions import *"
   ]
  },
  {
   "attachments": {},
   "cell_type": "markdown",
   "metadata": {},
   "source": [
    "<p>In this exercise, we'll be using both the clean and the raw files separately. Let's get hold of both of them.</p>"
   ]
  },
  {
   "cell_type": "code",
   "execution_count": 18,
   "metadata": {},
   "outputs": [],
   "source": [
    "data_in_clean = f\"{data_in}/clean/\"\n",
    "data_in_raw = f\"{data_in}/raw/\""
   ]
  },
  {
   "attachments": {},
   "cell_type": "markdown",
   "metadata": {},
   "source": [
    "<p>We can now read the data and start exploring it. Let's start with the clean data.</p>"
   ]
  },
  {
   "cell_type": "code",
   "execution_count": 20,
   "metadata": {},
   "outputs": [],
   "source": [
    "data = pd.read_csv(f\"{data_in_clean}hotels-vienna.csv\")\n",
    "data = data[\n",
    "    [\n",
    "        \"hotel_id\",\n",
    "        \"accommodation_type\",\n",
    "        \"distance\",\n",
    "        \"stars\",\n",
    "        \"rating\",\n",
    "        \"rating_count\",\n",
    "        \"price\",\n",
    "    ]\n",
    "]"
   ]
  },
  {
   "attachments": {},
   "cell_type": "markdown",
   "metadata": {},
   "source": [
    "<p>Let's first take a look at the accommodation types to differentiate between hotels, apartments, hostels, and so on.</p>"
   ]
  },
  {
   "cell_type": "code",
   "execution_count": 21,
   "metadata": {},
   "outputs": [
    {
     "data": {
      "text/plain": [
       "Hotel                  264\n",
       "Apartment              124\n",
       "Pension                 16\n",
       "Guest House              8\n",
       "Hostel                   6\n",
       "Bed and breakfast        4\n",
       "Apart-hotel              4\n",
       "Vacation home Condo      2\n",
       "Name: accommodation_type, dtype: int64"
      ]
     },
     "execution_count": 21,
     "metadata": {},
     "output_type": "execute_result"
    }
   ],
   "source": [
    "data['accommodation_type'].value_counts()"
   ]
  },
  {
   "attachments": {},
   "cell_type": "markdown",
   "metadata": {},
   "source": [
    "<p>Ok, now, by calling the <code>head()</code> function, we can reproduce Table 1.1 from the previous chapter, when this dataset was originally presented.</p>"
   ]
  },
  {
   "attachments": {},
   "cell_type": "markdown",
   "metadata": {},
   "source": [
    "<p><b>Table 1.1</b> List of observations</p>\n",
    "<hr>"
   ]
  },
  {
   "cell_type": "code",
   "execution_count": 26,
   "metadata": {},
   "outputs": [
    {
     "data": {
      "text/html": [
       "<div>\n",
       "<style scoped>\n",
       "    .dataframe tbody tr th:only-of-type {\n",
       "        vertical-align: middle;\n",
       "    }\n",
       "\n",
       "    .dataframe tbody tr th {\n",
       "        vertical-align: top;\n",
       "    }\n",
       "\n",
       "    .dataframe thead th {\n",
       "        text-align: right;\n",
       "    }\n",
       "</style>\n",
       "<table border=\"1\" class=\"dataframe\">\n",
       "  <thead>\n",
       "    <tr style=\"text-align: right;\">\n",
       "      <th></th>\n",
       "      <th>hotel_id</th>\n",
       "      <th>accommodation_type</th>\n",
       "      <th>distance</th>\n",
       "      <th>stars</th>\n",
       "      <th>rating</th>\n",
       "      <th>rating_count</th>\n",
       "      <th>price</th>\n",
       "    </tr>\n",
       "  </thead>\n",
       "  <tbody>\n",
       "    <tr>\n",
       "      <th>0</th>\n",
       "      <td>21894</td>\n",
       "      <td>Apartment</td>\n",
       "      <td>2.7</td>\n",
       "      <td>4.0</td>\n",
       "      <td>4.4</td>\n",
       "      <td>36.0</td>\n",
       "      <td>81</td>\n",
       "    </tr>\n",
       "    <tr>\n",
       "      <th>1</th>\n",
       "      <td>21897</td>\n",
       "      <td>Hotel</td>\n",
       "      <td>1.7</td>\n",
       "      <td>4.0</td>\n",
       "      <td>3.9</td>\n",
       "      <td>189.0</td>\n",
       "      <td>81</td>\n",
       "    </tr>\n",
       "    <tr>\n",
       "      <th>2</th>\n",
       "      <td>21901</td>\n",
       "      <td>Hotel</td>\n",
       "      <td>1.4</td>\n",
       "      <td>4.0</td>\n",
       "      <td>3.7</td>\n",
       "      <td>53.0</td>\n",
       "      <td>85</td>\n",
       "    </tr>\n",
       "    <tr>\n",
       "      <th>3</th>\n",
       "      <td>21902</td>\n",
       "      <td>Hotel</td>\n",
       "      <td>1.7</td>\n",
       "      <td>3.0</td>\n",
       "      <td>4.0</td>\n",
       "      <td>55.0</td>\n",
       "      <td>83</td>\n",
       "    </tr>\n",
       "    <tr>\n",
       "      <th>4</th>\n",
       "      <td>21903</td>\n",
       "      <td>Hotel</td>\n",
       "      <td>1.2</td>\n",
       "      <td>4.0</td>\n",
       "      <td>3.9</td>\n",
       "      <td>33.0</td>\n",
       "      <td>82</td>\n",
       "    </tr>\n",
       "  </tbody>\n",
       "</table>\n",
       "</div>"
      ],
      "text/plain": [
       "   hotel_id accommodation_type  distance  stars  rating  rating_count  price\n",
       "0     21894          Apartment       2.7    4.0     4.4          36.0     81\n",
       "1     21897              Hotel       1.7    4.0     3.9         189.0     81\n",
       "2     21901              Hotel       1.4    4.0     3.7          53.0     85\n",
       "3     21902              Hotel       1.7    3.0     4.0          55.0     83\n",
       "4     21903              Hotel       1.2    4.0     3.9          33.0     82"
      ]
     },
     "execution_count": 26,
     "metadata": {},
     "output_type": "execute_result"
    }
   ],
   "source": [
    "data.head()"
   ]
  },
  {
   "attachments": {},
   "cell_type": "markdown",
   "metadata": {},
   "source": [
    "<p>Let's call the <code>describe()</code> function to reproduce Table 2.2 and observe the types of variables in our dataset.</p>\n",
    "<p><b>Table 2.2</b> List of the variables in the <code>hotels-vienna</code> dataset</p>\n",
    "<hr>"
   ]
  },
  {
   "cell_type": "code",
   "execution_count": 27,
   "metadata": {},
   "outputs": [
    {
     "data": {
      "text/plain": [
       "hotel_id                int64\n",
       "accommodation_type     object\n",
       "distance              float64\n",
       "stars                 float64\n",
       "rating                float64\n",
       "rating_count          float64\n",
       "price                   int64\n",
       "dtype: object"
      ]
     },
     "execution_count": 27,
     "metadata": {},
     "output_type": "execute_result"
    }
   ],
   "source": [
    "data.dtypes"
   ]
  },
  {
   "attachments": {},
   "cell_type": "markdown",
   "metadata": {},
   "source": [
    "<p>Surely, the book goes beyond and clearly defines the specific type for each variable, but this will suffice for now. Let's get an example from the first observation.</p>"
   ]
  },
  {
   "cell_type": "code",
   "execution_count": 28,
   "metadata": {},
   "outputs": [
    {
     "data": {
      "text/plain": [
       "hotel_id              21897\n",
       "accommodation_type    Hotel\n",
       "distance                1.7\n",
       "stars                   4.0\n",
       "rating                  3.9\n",
       "rating_count          189.0\n",
       "price                    81\n",
       "Name: 1, dtype: object"
      ]
     },
     "execution_count": 28,
     "metadata": {},
     "output_type": "execute_result"
    }
   ],
   "source": [
    "data.iloc[1]"
   ]
  },
  {
   "cell_type": "code",
   "execution_count": null,
   "metadata": {},
   "outputs": [],
   "source": []
  }
 ],
 "metadata": {
  "kernelspec": {
   "display_name": "data_analysis",
   "language": "python",
   "name": "python3"
  },
  "language_info": {
   "codemirror_mode": {
    "name": "ipython",
    "version": 3
   },
   "file_extension": ".py",
   "mimetype": "text/x-python",
   "name": "python",
   "nbconvert_exporter": "python",
   "pygments_lexer": "ipython3",
   "version": "3.10.3"
  },
  "orig_nbformat": 4
 },
 "nbformat": 4,
 "nbformat_minor": 2
}
