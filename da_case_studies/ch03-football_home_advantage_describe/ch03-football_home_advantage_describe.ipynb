{
 "cells": [
  {
   "attachments": {},
   "cell_type": "markdown",
   "metadata": {},
   "source": [
    "<h1>Chapter 3 | Case Study C1 | <b>Measuring Home Team Advantage in Football</b></h1>\n",
    "<p>Our goal in this notebook is to provide a descriptive analysis of the <b>distribution and summary statistics</b> regarding the idea of home team advantage in footbal. The dataset used for this case is the <code>football</code> dataset from the English Premier League - see Chapter 2 for previous analyses made on it. Our main question is: \n",
    "<ul>\n",
    "<i>Do professional football teams playing in their <b>home</b> stadium have an advantage? What is the extent of that advantage?</i></p>\n",
    "</ul>\n",
    "<p>With no further ado, let's move on and get our hands dirty!</p>\n",
    "<h2><b>PART A</b> | Read the data</h2>"
   ]
  },
  {
   "cell_type": "code",
   "execution_count": 1,
   "metadata": {},
   "outputs": [],
   "source": [
    "import os\n",
    "import sys\n",
    "import warnings\n",
    "import pandas as pd\n",
    "import numpy as np\n",
    "from mizani.formatters import percent_format\n",
    "from plotnine import *\n",
    "from scipy.stats import norm\n",
    "\n",
    "warnings.filterwarnings(\"ignore\")"
   ]
  },
  {
   "cell_type": "code",
   "execution_count": 2,
   "metadata": {},
   "outputs": [],
   "source": [
    "pd.set_option(\"display.max_rows\", 500)"
   ]
  },
  {
   "cell_type": "code",
   "execution_count": 3,
   "metadata": {},
   "outputs": [],
   "source": [
    "# Current script folder\n",
    "current_path = os.getcwd()\n",
    "dirname = current_path.split(\"da_case_studies\")[0]\n",
    "\n",
    "#  Get location folders\n",
    "data_in = f\"{dirname}da_data_repo/football/clean/\"\n",
    "data_out = f\"{dirname}da_case_studies/ch03-football_home_advantage/\"\n",
    "output = f\"{dirname}da_case_studies/ch03-football_home_advantage/output/\"\n",
    "func = f\"{dirname}da_case_studies/ch00-tech_prep/\"\n",
    "sys.path.append(func)"
   ]
  },
  {
   "cell_type": "code",
   "execution_count": 4,
   "metadata": {},
   "outputs": [],
   "source": [
    "# Import the prewritten helper functions\n",
    "from py_helper_functions import *"
   ]
  },
  {
   "cell_type": "code",
   "execution_count": 5,
   "metadata": {},
   "outputs": [],
   "source": [
    "df = pd.read_csv(f\"{data_in}epl_games.csv\")"
   ]
  },
  {
   "attachments": {},
   "cell_type": "markdown",
   "metadata": {},
   "source": [
    "<p>We need to get the same data used in the previous chapter, that is, the games in the 2016,2017 season. Each pair of teams plays twice, once in the home stadium of one team, and once in the home stadium of the other team. We are supposed to get a total of 380 games, hence N= 380."
   ]
  },
  {
   "cell_type": "code",
   "execution_count": 6,
   "metadata": {},
   "outputs": [],
   "source": [
    "df = df.loc[df[\"season\"] == 2016, :].reset_index(drop=True)"
   ]
  },
  {
   "cell_type": "code",
   "execution_count": 7,
   "metadata": {},
   "outputs": [
    {
     "data": {
      "text/plain": [
       "(380, 9)"
      ]
     },
     "execution_count": 7,
     "metadata": {},
     "output_type": "execute_result"
    }
   ],
   "source": [
    "df.shape"
   ]
  },
  {
   "cell_type": "code",
   "execution_count": 8,
   "metadata": {},
   "outputs": [
    {
     "data": {
      "text/html": [
       "<div>\n",
       "<style scoped>\n",
       "    .dataframe tbody tr th:only-of-type {\n",
       "        vertical-align: middle;\n",
       "    }\n",
       "\n",
       "    .dataframe tbody tr th {\n",
       "        vertical-align: top;\n",
       "    }\n",
       "\n",
       "    .dataframe thead th {\n",
       "        text-align: right;\n",
       "    }\n",
       "</style>\n",
       "<table border=\"1\" class=\"dataframe\">\n",
       "  <thead>\n",
       "    <tr style=\"text-align: right;\">\n",
       "      <th></th>\n",
       "      <th>div</th>\n",
       "      <th>season</th>\n",
       "      <th>date</th>\n",
       "      <th>team_home</th>\n",
       "      <th>team_away</th>\n",
       "      <th>points_home</th>\n",
       "      <th>points_away</th>\n",
       "      <th>goals_home</th>\n",
       "      <th>goals_away</th>\n",
       "    </tr>\n",
       "  </thead>\n",
       "  <tbody>\n",
       "    <tr>\n",
       "      <th>0</th>\n",
       "      <td>E0</td>\n",
       "      <td>2016</td>\n",
       "      <td>13aug2016</td>\n",
       "      <td>Middlesbrough</td>\n",
       "      <td>Stoke</td>\n",
       "      <td>1</td>\n",
       "      <td>1</td>\n",
       "      <td>1</td>\n",
       "      <td>1</td>\n",
       "    </tr>\n",
       "    <tr>\n",
       "      <th>1</th>\n",
       "      <td>E0</td>\n",
       "      <td>2016</td>\n",
       "      <td>13aug2016</td>\n",
       "      <td>Burnley</td>\n",
       "      <td>Swansea</td>\n",
       "      <td>0</td>\n",
       "      <td>3</td>\n",
       "      <td>0</td>\n",
       "      <td>1</td>\n",
       "    </tr>\n",
       "    <tr>\n",
       "      <th>2</th>\n",
       "      <td>E0</td>\n",
       "      <td>2016</td>\n",
       "      <td>13aug2016</td>\n",
       "      <td>Everton</td>\n",
       "      <td>Tottenham</td>\n",
       "      <td>1</td>\n",
       "      <td>1</td>\n",
       "      <td>1</td>\n",
       "      <td>1</td>\n",
       "    </tr>\n",
       "    <tr>\n",
       "      <th>3</th>\n",
       "      <td>E0</td>\n",
       "      <td>2016</td>\n",
       "      <td>13aug2016</td>\n",
       "      <td>Crystal Palace</td>\n",
       "      <td>West Brom</td>\n",
       "      <td>0</td>\n",
       "      <td>3</td>\n",
       "      <td>0</td>\n",
       "      <td>1</td>\n",
       "    </tr>\n",
       "    <tr>\n",
       "      <th>4</th>\n",
       "      <td>E0</td>\n",
       "      <td>2016</td>\n",
       "      <td>13aug2016</td>\n",
       "      <td>Man City</td>\n",
       "      <td>Sunderland</td>\n",
       "      <td>3</td>\n",
       "      <td>0</td>\n",
       "      <td>2</td>\n",
       "      <td>1</td>\n",
       "    </tr>\n",
       "  </tbody>\n",
       "</table>\n",
       "</div>"
      ],
      "text/plain": [
       "  div  season       date       team_home   team_away  points_home  \\\n",
       "0  E0    2016  13aug2016   Middlesbrough       Stoke            1   \n",
       "1  E0    2016  13aug2016         Burnley     Swansea            0   \n",
       "2  E0    2016  13aug2016         Everton   Tottenham            1   \n",
       "3  E0    2016  13aug2016  Crystal Palace   West Brom            0   \n",
       "4  E0    2016  13aug2016        Man City  Sunderland            3   \n",
       "\n",
       "   points_away  goals_home  goals_away  \n",
       "0            1           1           1  \n",
       "1            3           0           1  \n",
       "2            1           1           1  \n",
       "3            3           0           1  \n",
       "4            0           2           1  "
      ]
     },
     "execution_count": 8,
     "metadata": {},
     "output_type": "execute_result"
    }
   ],
   "source": [
    "df.head()"
   ]
  },
  {
   "attachments": {},
   "cell_type": "markdown",
   "metadata": {},
   "source": [
    "<p>Now, we can create a new variable <code>\"home_goaladv\"</code> to answer our question.</p>"
   ]
  },
  {
   "cell_type": "code",
   "execution_count": 9,
   "metadata": {},
   "outputs": [],
   "source": [
    "df[\"home_goaladv\"] = df[\"goals_home\"] - df[\"goals_away\"]"
   ]
  },
  {
   "cell_type": "code",
   "execution_count": 10,
   "metadata": {},
   "outputs": [
    {
     "data": {
      "text/html": [
       "<div>\n",
       "<style scoped>\n",
       "    .dataframe tbody tr th:only-of-type {\n",
       "        vertical-align: middle;\n",
       "    }\n",
       "\n",
       "    .dataframe tbody tr th {\n",
       "        vertical-align: top;\n",
       "    }\n",
       "\n",
       "    .dataframe thead th {\n",
       "        text-align: right;\n",
       "    }\n",
       "</style>\n",
       "<table border=\"1\" class=\"dataframe\">\n",
       "  <thead>\n",
       "    <tr style=\"text-align: right;\">\n",
       "      <th></th>\n",
       "      <th>0</th>\n",
       "      <th>1</th>\n",
       "      <th>2</th>\n",
       "      <th>3</th>\n",
       "      <th>4</th>\n",
       "    </tr>\n",
       "  </thead>\n",
       "  <tbody>\n",
       "    <tr>\n",
       "      <th>div</th>\n",
       "      <td>E0</td>\n",
       "      <td>E0</td>\n",
       "      <td>E0</td>\n",
       "      <td>E0</td>\n",
       "      <td>E0</td>\n",
       "    </tr>\n",
       "    <tr>\n",
       "      <th>season</th>\n",
       "      <td>2016</td>\n",
       "      <td>2016</td>\n",
       "      <td>2016</td>\n",
       "      <td>2016</td>\n",
       "      <td>2016</td>\n",
       "    </tr>\n",
       "    <tr>\n",
       "      <th>date</th>\n",
       "      <td>13aug2016</td>\n",
       "      <td>13aug2016</td>\n",
       "      <td>13aug2016</td>\n",
       "      <td>13aug2016</td>\n",
       "      <td>13aug2016</td>\n",
       "    </tr>\n",
       "    <tr>\n",
       "      <th>team_home</th>\n",
       "      <td>Middlesbrough</td>\n",
       "      <td>Burnley</td>\n",
       "      <td>Everton</td>\n",
       "      <td>Crystal Palace</td>\n",
       "      <td>Man City</td>\n",
       "    </tr>\n",
       "    <tr>\n",
       "      <th>team_away</th>\n",
       "      <td>Stoke</td>\n",
       "      <td>Swansea</td>\n",
       "      <td>Tottenham</td>\n",
       "      <td>West Brom</td>\n",
       "      <td>Sunderland</td>\n",
       "    </tr>\n",
       "    <tr>\n",
       "      <th>points_home</th>\n",
       "      <td>1</td>\n",
       "      <td>0</td>\n",
       "      <td>1</td>\n",
       "      <td>0</td>\n",
       "      <td>3</td>\n",
       "    </tr>\n",
       "    <tr>\n",
       "      <th>points_away</th>\n",
       "      <td>1</td>\n",
       "      <td>3</td>\n",
       "      <td>1</td>\n",
       "      <td>3</td>\n",
       "      <td>0</td>\n",
       "    </tr>\n",
       "    <tr>\n",
       "      <th>goals_home</th>\n",
       "      <td>1</td>\n",
       "      <td>0</td>\n",
       "      <td>1</td>\n",
       "      <td>0</td>\n",
       "      <td>2</td>\n",
       "    </tr>\n",
       "    <tr>\n",
       "      <th>goals_away</th>\n",
       "      <td>1</td>\n",
       "      <td>1</td>\n",
       "      <td>1</td>\n",
       "      <td>1</td>\n",
       "      <td>1</td>\n",
       "    </tr>\n",
       "    <tr>\n",
       "      <th>home_goaladv</th>\n",
       "      <td>0</td>\n",
       "      <td>-1</td>\n",
       "      <td>0</td>\n",
       "      <td>-1</td>\n",
       "      <td>1</td>\n",
       "    </tr>\n",
       "  </tbody>\n",
       "</table>\n",
       "</div>"
      ],
      "text/plain": [
       "                          0          1          2               3           4\n",
       "div                      E0         E0         E0              E0          E0\n",
       "season                 2016       2016       2016            2016        2016\n",
       "date              13aug2016  13aug2016  13aug2016       13aug2016   13aug2016\n",
       "team_home     Middlesbrough    Burnley    Everton  Crystal Palace    Man City\n",
       "team_away             Stoke    Swansea  Tottenham       West Brom  Sunderland\n",
       "points_home               1          0          1               0           3\n",
       "points_away               1          3          1               3           0\n",
       "goals_home                1          0          1               0           2\n",
       "goals_away                1          1          1               1           1\n",
       "home_goaladv              0         -1          0              -1           1"
      ]
     },
     "execution_count": 10,
     "metadata": {},
     "output_type": "execute_result"
    }
   ],
   "source": [
    "df.head().T"
   ]
  },
  {
   "attachments": {},
   "cell_type": "markdown",
   "metadata": {},
   "source": [
    "<p>Before visualizing the distribution of goal difference in games, let's return Table 3.7 from the book. It describes the home team-away team goal difference.</p>"
   ]
  },
  {
   "cell_type": "code",
   "execution_count": 11,
   "metadata": {},
   "outputs": [
    {
     "ename": "KeyError",
     "evalue": "'home_goaldv'",
     "output_type": "error",
     "traceback": [
      "\u001b[1;31m---------------------------------------------------------------------------\u001b[0m",
      "\u001b[1;31mKeyError\u001b[0m                                  Traceback (most recent call last)",
      "File \u001b[1;32mc:\\Users\\Felipe\\python_work\\Projects\\bk_data_analysis\\data_analysis\\lib\\site-packages\\pandas\\core\\indexes\\base.py:3802\u001b[0m, in \u001b[0;36mIndex.get_loc\u001b[1;34m(self, key, method, tolerance)\u001b[0m\n\u001b[0;32m   3801\u001b[0m \u001b[39mtry\u001b[39;00m:\n\u001b[1;32m-> 3802\u001b[0m     \u001b[39mreturn\u001b[39;00m \u001b[39mself\u001b[39;49m\u001b[39m.\u001b[39;49m_engine\u001b[39m.\u001b[39;49mget_loc(casted_key)\n\u001b[0;32m   3803\u001b[0m \u001b[39mexcept\u001b[39;00m \u001b[39mKeyError\u001b[39;00m \u001b[39mas\u001b[39;00m err:\n",
      "File \u001b[1;32mc:\\Users\\Felipe\\python_work\\Projects\\bk_data_analysis\\data_analysis\\lib\\site-packages\\pandas\\_libs\\index.pyx:138\u001b[0m, in \u001b[0;36mpandas._libs.index.IndexEngine.get_loc\u001b[1;34m()\u001b[0m\n",
      "File \u001b[1;32mc:\\Users\\Felipe\\python_work\\Projects\\bk_data_analysis\\data_analysis\\lib\\site-packages\\pandas\\_libs\\index.pyx:165\u001b[0m, in \u001b[0;36mpandas._libs.index.IndexEngine.get_loc\u001b[1;34m()\u001b[0m\n",
      "File \u001b[1;32mpandas\\_libs\\hashtable_class_helper.pxi:5745\u001b[0m, in \u001b[0;36mpandas._libs.hashtable.PyObjectHashTable.get_item\u001b[1;34m()\u001b[0m\n",
      "File \u001b[1;32mpandas\\_libs\\hashtable_class_helper.pxi:5753\u001b[0m, in \u001b[0;36mpandas._libs.hashtable.PyObjectHashTable.get_item\u001b[1;34m()\u001b[0m\n",
      "\u001b[1;31mKeyError\u001b[0m: 'home_goaldv'",
      "\nThe above exception was the direct cause of the following exception:\n",
      "\u001b[1;31mKeyError\u001b[0m                                  Traceback (most recent call last)",
      "Cell \u001b[1;32mIn[11], line 15\u001b[0m\n\u001b[0;32m      1\u001b[0m pd\u001b[39m.\u001b[39mDataFrame\u001b[39m.\u001b[39mfrom_dict(\n\u001b[0;32m      2\u001b[0m     {\n\u001b[0;32m      3\u001b[0m         \u001b[39m\"\u001b[39m\u001b[39mStatistics\u001b[39m\u001b[39m\"\u001b[39m: [\n\u001b[0;32m      4\u001b[0m             \u001b[39m\"\u001b[39m\u001b[39mMean\u001b[39m\u001b[39m\"\u001b[39m,\n\u001b[0;32m      5\u001b[0m             \u001b[39m\"\u001b[39m\u001b[39mStandard deviation\u001b[39m\u001b[39m\"\u001b[39m,\n\u001b[0;32m      6\u001b[0m             \u001b[39m\"\u001b[39m\u001b[39mPercent positive\u001b[39m\u001b[39m\"\u001b[39m,\n\u001b[0;32m      7\u001b[0m             \u001b[39m\"\u001b[39m\u001b[39mPercent zero\u001b[39m\u001b[39m\"\u001b[39m,\n\u001b[0;32m      8\u001b[0m             \u001b[39m\"\u001b[39m\u001b[39mPercent negative\u001b[39m\u001b[39m\"\u001b[39m,\n\u001b[0;32m      9\u001b[0m             \u001b[39m\"\u001b[39m\u001b[39mNumber of observations\u001b[39m\u001b[39m\"\u001b[39m,\n\u001b[0;32m     10\u001b[0m         ],\n\u001b[0;32m     11\u001b[0m         \u001b[39m\"\u001b[39m\u001b[39mValue\u001b[39m\u001b[39m\"\u001b[39m: [\n\u001b[0;32m     12\u001b[0m             df[\u001b[39m\"\u001b[39m\u001b[39mhome_goaladv\u001b[39m\u001b[39m\"\u001b[39m]\u001b[39m.\u001b[39mdescribe()[\u001b[39m\"\u001b[39m\u001b[39mmean\u001b[39m\u001b[39m\"\u001b[39m],\n\u001b[0;32m     13\u001b[0m             df[\u001b[39m\"\u001b[39m\u001b[39mhome_goaladv\u001b[39m\u001b[39m\"\u001b[39m]\u001b[39m.\u001b[39mdescribe()[\u001b[39m\"\u001b[39m\u001b[39mstd\u001b[39m\u001b[39m\"\u001b[39m],\n\u001b[0;32m     14\u001b[0m             (df[\u001b[39m\"\u001b[39m\u001b[39mhome_goaladv\u001b[39m\u001b[39m\"\u001b[39m] \u001b[39m>\u001b[39m \u001b[39m0\u001b[39m)\u001b[39m.\u001b[39msum() \u001b[39m/\u001b[39m df[\u001b[39m\"\u001b[39m\u001b[39mhome_goaladv\u001b[39m\u001b[39m\"\u001b[39m]\u001b[39m.\u001b[39mshape[\u001b[39m0\u001b[39m] \u001b[39m*\u001b[39m \u001b[39m100\u001b[39m,\n\u001b[1;32m---> 15\u001b[0m             (df[\u001b[39m\"\u001b[39;49m\u001b[39mhome_goaldv\u001b[39;49m\u001b[39m\"\u001b[39;49m] \u001b[39m==\u001b[39m \u001b[39m0\u001b[39m)\u001b[39m.\u001b[39msum() \u001b[39m/\u001b[39m df[\u001b[39m\"\u001b[39m\u001b[39mhome_goaldv\u001b[39m\u001b[39m\"\u001b[39m]\u001b[39m.\u001b[39mshape[\u001b[39m0\u001b[39m] \u001b[39m*\u001b[39m \u001b[39m100\u001b[39m,\n\u001b[0;32m     16\u001b[0m             (df[\u001b[39m\"\u001b[39m\u001b[39mhome_goaladv\u001b[39m\u001b[39m\"\u001b[39m] \u001b[39m<\u001b[39m \u001b[39m0\u001b[39m)\u001b[39m.\u001b[39msum() \u001b[39m/\u001b[39m df[\u001b[39m\"\u001b[39m\u001b[39mhome_goaldv\u001b[39m\u001b[39m\"\u001b[39m]\u001b[39m.\u001b[39mshape[\u001b[39m0\u001b[39m] \u001b[39m*\u001b[39m \u001b[39m100\u001b[39m,\n\u001b[0;32m     17\u001b[0m             df[\u001b[39m\"\u001b[39m\u001b[39mhome_goaldv\u001b[39m\u001b[39m\"\u001b[39m]\u001b[39m.\u001b[39mdescribe()[\u001b[39m\"\u001b[39m\u001b[39mcount\u001b[39m\u001b[39m\"\u001b[39m],\n\u001b[0;32m     18\u001b[0m         ],\n\u001b[0;32m     19\u001b[0m     }\n\u001b[0;32m     20\u001b[0m )\u001b[39m.\u001b[39mround(\u001b[39m1\u001b[39m)\n",
      "File \u001b[1;32mc:\\Users\\Felipe\\python_work\\Projects\\bk_data_analysis\\data_analysis\\lib\\site-packages\\pandas\\core\\frame.py:3807\u001b[0m, in \u001b[0;36mDataFrame.__getitem__\u001b[1;34m(self, key)\u001b[0m\n\u001b[0;32m   3805\u001b[0m \u001b[39mif\u001b[39;00m \u001b[39mself\u001b[39m\u001b[39m.\u001b[39mcolumns\u001b[39m.\u001b[39mnlevels \u001b[39m>\u001b[39m \u001b[39m1\u001b[39m:\n\u001b[0;32m   3806\u001b[0m     \u001b[39mreturn\u001b[39;00m \u001b[39mself\u001b[39m\u001b[39m.\u001b[39m_getitem_multilevel(key)\n\u001b[1;32m-> 3807\u001b[0m indexer \u001b[39m=\u001b[39m \u001b[39mself\u001b[39;49m\u001b[39m.\u001b[39;49mcolumns\u001b[39m.\u001b[39;49mget_loc(key)\n\u001b[0;32m   3808\u001b[0m \u001b[39mif\u001b[39;00m is_integer(indexer):\n\u001b[0;32m   3809\u001b[0m     indexer \u001b[39m=\u001b[39m [indexer]\n",
      "File \u001b[1;32mc:\\Users\\Felipe\\python_work\\Projects\\bk_data_analysis\\data_analysis\\lib\\site-packages\\pandas\\core\\indexes\\base.py:3804\u001b[0m, in \u001b[0;36mIndex.get_loc\u001b[1;34m(self, key, method, tolerance)\u001b[0m\n\u001b[0;32m   3802\u001b[0m     \u001b[39mreturn\u001b[39;00m \u001b[39mself\u001b[39m\u001b[39m.\u001b[39m_engine\u001b[39m.\u001b[39mget_loc(casted_key)\n\u001b[0;32m   3803\u001b[0m \u001b[39mexcept\u001b[39;00m \u001b[39mKeyError\u001b[39;00m \u001b[39mas\u001b[39;00m err:\n\u001b[1;32m-> 3804\u001b[0m     \u001b[39mraise\u001b[39;00m \u001b[39mKeyError\u001b[39;00m(key) \u001b[39mfrom\u001b[39;00m \u001b[39merr\u001b[39;00m\n\u001b[0;32m   3805\u001b[0m \u001b[39mexcept\u001b[39;00m \u001b[39mTypeError\u001b[39;00m:\n\u001b[0;32m   3806\u001b[0m     \u001b[39m# If we have a listlike key, _check_indexing_error will raise\u001b[39;00m\n\u001b[0;32m   3807\u001b[0m     \u001b[39m#  InvalidIndexError. Otherwise we fall through and re-raise\u001b[39;00m\n\u001b[0;32m   3808\u001b[0m     \u001b[39m#  the TypeError.\u001b[39;00m\n\u001b[0;32m   3809\u001b[0m     \u001b[39mself\u001b[39m\u001b[39m.\u001b[39m_check_indexing_error(key)\n",
      "\u001b[1;31mKeyError\u001b[0m: 'home_goaldv'"
     ]
    }
   ],
   "source": [
    "pd.DataFrame.from_dict(\n",
    "    {\n",
    "        \"Statistics\": [\n",
    "            \"Mean\",\n",
    "            \"Standard deviation\",\n",
    "            \"Percent positive\",\n",
    "            \"Percent zero\",\n",
    "            \"Percent negative\",\n",
    "            \"Number of observations\",\n",
    "        ],\n",
    "        \"Value\": [\n",
    "            df[\"home_goaladv\"].describe()[\"mean\"],\n",
    "            df[\"home_goaladv\"].describe()[\"std\"],\n",
    "            (df[\"home_goaladv\"] > 0).sum() / df[\"home_goaladv\"].shape[0] * 100,\n",
    "            (df[\"home_goaldv\"] == 0).sum() / df[\"home_goaldv\"].shape[0] * 100,\n",
    "            (df[\"home_goaladv\"] < 0).sum() / df[\"home_goaldv\"].shape[0] * 100,\n",
    "            df[\"home_goaldv\"].describe()[\"count\"],\n",
    "        ],\n",
    "    }\n",
    ").round(1)"
   ]
  },
  {
   "attachments": {},
   "cell_type": "markdown",
   "metadata": {},
   "source": [
    "<hr>\n",
    "<b>Table 3.9</b> <i>Describing the home team - away team goal difference</i>"
   ]
  },
  {
   "attachments": {},
   "cell_type": "markdown",
   "metadata": {},
   "source": [
    "<p>As we can see, most games indeed display a favorable scenario for home teams - in almost half of all games, the goal difference was positive to their favor. The mean, 0.4, and the standard deviation, 1.9, inform us that we are probably dealing with a skewed distribution - this time, with more observations on the right side (above zero), which will confirm the home team advantage. This mean hence informs us that, in any given game, the home team is expected to score 0.4 more goals.</p>\n",
    "<p>Still on the mean and on the standard deviation, a couple of observations. First, the mean informs us that the home team may have a slight advantage. Second, the standard deviation suggests that there is a <b>wider spread of variability</b> in the data points. In this case, it means that the goal differences from match to match can <b>vary quite a lot</b>, with some matches having larger goal differences than others. Third, as a result, because of the positively skewed distribution, we might be dealing with a larger number of matches with small goal differences, but a few matches with larger goal differences that contribute to the overall average.</p>\n",
    "<p>We can move on and visualize the distribution of the goal difference between home team and away team.</p>"
   ]
  },
  {
   "cell_type": "code",
   "execution_count": null,
   "metadata": {},
   "outputs": [
    {
     "data": {
      "image/png": "[encoded data removed]",
      "text/plain": [
       "<Figure size 640x480 with 1 Axes>"
      ]
     },
     "metadata": {},
     "output_type": "display_data"
    },
    {
     "data": {
      "text/plain": [
       "<ggplot: (143505232329)>"
      ]
     },
     "execution_count": 31,
     "metadata": {},
     "output_type": "execute_result"
    }
   ],
   "source": [
    "ggplot(df, aes(x=\"home_goaladv\", y=\"stat(count)/sum(stat(count))\")) + geom_histogram(\n",
    "    fill=color[0], color=\"white\", binwidth=1,\n",
    ") + geom_text(\n",
    "    aes(label=\"[round(x,1) for x in stat(count)/sum(stat(count))*100]\"),\n",
    "    stat=\"count\",\n",
    "    size=10,\n",
    "    nudge_y=0.01,\n",
    ") + labs(\n",
    "    x=\"Goal difference\", y=\"Share of games (percent)\"\n",
    ") + scale_x_continuous(\n",
    "    expand=(0.05, 0.05), limits=(-6, 6), breaks=seq(-6, 6, by=1)\n",
    ") + scale_y_continuous(\n",
    "    expand=(0, 0),\n",
    "    limits=(0, 0.25),\n",
    "    breaks=seq(0, 0.25, by=0.05),\n",
    "    labels=percent_format(),\n",
    ") + theme_bw()"
   ]
  },
  {
   "attachments": {},
   "cell_type": "markdown",
   "metadata": {},
   "source": [
    "<p>As we can see, the histogram confirms the advantage that the home team enjoys in matches. While the most frequent observation - the mode -  is zero (22.1%), the positive value is more frequent than the negative value - that is, the home team wins more games. As such, almost half of the games are won by the home team. If we add the number of draw games to this percentage, we can also conclude that the home team only loses in 30% of the matches, roughly.</p>\n",
    "<p>The author went further and provided an in interesting table in his notes. It describes the goal advantage by team. Let's reproduce it here.</p>"
   ]
  },
  {
   "cell_type": "code",
   "execution_count": 15,
   "metadata": {},
   "outputs": [
    {
     "data": {
      "text/html": [
       "<div>\n",
       "<style scoped>\n",
       "    .dataframe tbody tr th:only-of-type {\n",
       "        vertical-align: middle;\n",
       "    }\n",
       "\n",
       "    .dataframe tbody tr th {\n",
       "        vertical-align: top;\n",
       "    }\n",
       "\n",
       "    .dataframe thead th {\n",
       "        text-align: right;\n",
       "    }\n",
       "</style>\n",
       "<table border=\"1\" class=\"dataframe\">\n",
       "  <thead>\n",
       "    <tr style=\"text-align: right;\">\n",
       "      <th></th>\n",
       "      <th>Count</th>\n",
       "      <th>Mean</th>\n",
       "      <th>Median</th>\n",
       "      <th>Std</th>\n",
       "      <th>Min</th>\n",
       "    </tr>\n",
       "    <tr>\n",
       "      <th>team_home</th>\n",
       "      <th></th>\n",
       "      <th></th>\n",
       "      <th></th>\n",
       "      <th></th>\n",
       "      <th></th>\n",
       "    </tr>\n",
       "  </thead>\n",
       "  <tbody>\n",
       "    <tr>\n",
       "      <th>Arsenal</th>\n",
       "      <td>19</td>\n",
       "      <td>1.210526</td>\n",
       "      <td>1.0</td>\n",
       "      <td>1.182227</td>\n",
       "      <td>-1</td>\n",
       "    </tr>\n",
       "    <tr>\n",
       "      <th>Chelsea</th>\n",
       "      <td>19</td>\n",
       "      <td>2.000000</td>\n",
       "      <td>2.0</td>\n",
       "      <td>1.563472</td>\n",
       "      <td>-1</td>\n",
       "    </tr>\n",
       "    <tr>\n",
       "      <th>Leicester</th>\n",
       "      <td>19</td>\n",
       "      <td>0.315789</td>\n",
       "      <td>1.0</td>\n",
       "      <td>2.237375</td>\n",
       "      <td>-5</td>\n",
       "    </tr>\n",
       "    <tr>\n",
       "      <th>Stoke</th>\n",
       "      <td>19</td>\n",
       "      <td>0.000000</td>\n",
       "      <td>0.0</td>\n",
       "      <td>1.855921</td>\n",
       "      <td>-4</td>\n",
       "    </tr>\n",
       "    <tr>\n",
       "      <th>West Ham</th>\n",
       "      <td>19</td>\n",
       "      <td>-0.631579</td>\n",
       "      <td>0.0</td>\n",
       "      <td>2.033348</td>\n",
       "      <td>-4</td>\n",
       "    </tr>\n",
       "  </tbody>\n",
       "</table>\n",
       "</div>"
      ],
      "text/plain": [
       "           Count      Mean  Median       Std  Min\n",
       "team_home                                        \n",
       "Arsenal       19  1.210526     1.0  1.182227   -1\n",
       "Chelsea       19  2.000000     2.0  1.563472   -1\n",
       "Leicester     19  0.315789     1.0  2.237375   -5\n",
       "Stoke         19  0.000000     0.0  1.855921   -4\n",
       "West Ham      19 -0.631579     0.0  2.033348   -4"
      ]
     },
     "execution_count": 15,
     "metadata": {},
     "output_type": "execute_result"
    }
   ],
   "source": [
    "df.loc[\n",
    "    lambda x: x[\"team_home\"].isin(\n",
    "        [\"Chelsea\", \"Arsenal\", \"Leicester\", \"Stoke\", \"West Ham\"]\n",
    "    )\n",
    "].groupby(by=\"team_home\").agg(\n",
    "    Count=(\"home_goaladv\", \"size\"),\n",
    "    Mean=(\"home_goaladv\", np.mean),\n",
    "    Median=(\"home_goaladv\", np.median),\n",
    "    Std=(\"home_goaladv\", np.std),\n",
    "    Min=(\"home_goaladv\", min),\n",
    ")"
   ]
  },
  {
   "attachments": {},
   "cell_type": "markdown",
   "metadata": {},
   "source": [
    "<p>Here, we can do many observations. For instance, Arsenal has a 1.21 average goal difference when playing at home. Its standard deviation is pretty close - 1.18 - , which means that we can expect less dispersion and therefore a higher probability that Arsenal will win its matches by a 1.21 goal difference. If we take the median as the exact half of the distribution, we can further argue that we are talking about a pretty normal distribution. Also, given the minimum goal difference being -1, we can also observe that Arsenal, when it lost as team home, lost by a 1 goal difference. All in all, we can argue that the team performs well, returning stable results. Chelsea, on the other hand, has a mean of 2 goals and a standard distribution of 1.56. While the team is likely to score more goals, a higher standard distribution indicates higher data dispersion and therefore a higher probability of observing more extreme values. Such statement becomes more evident when analyzing Leicester's statistics: the team presents a lower mean value, 0.315, and a higher standard deviation, 2.23. If we consider its min goal difference, -5, we can see why: this team has lost at least one match with a high goal difference, which affected the mean and the standard deviation. The median, on the other hand, remains the same as Arsenal's, which reflects an intrinsic quality of this statistics - it is robust to extrem values.</p>"
   ]
  },
  {
   "cell_type": "code",
   "execution_count": 33,
   "metadata": {},
   "outputs": [
    {
     "data": {
      "text/plain": [
       "count    95.000000\n",
       "mean      0.578947\n",
       "std       2.003077\n",
       "min      -5.000000\n",
       "25%       0.000000\n",
       "50%       1.000000\n",
       "75%       2.000000\n",
       "max       5.000000\n",
       "Name: home_goaladv, dtype: float64"
      ]
     },
     "execution_count": 33,
     "metadata": {},
     "output_type": "execute_result"
    }
   ],
   "source": [
    "df.loc[\n",
    "    lambda x: x[\"team_home\"].isin(\n",
    "        [\"Chelsea\", \"Arsenal\", \"Leicester\", \"Stoke\", \"West Ham\"]\n",
    "    ),\n",
    "    \"home_goaladv\",\n",
    "].describe()"
   ]
  },
  {
   "attachments": {},
   "cell_type": "markdown",
   "metadata": {},
   "source": [
    "<p>And that's it. That was a great lesson on how to explore data. Even (or even more) in football, we can apply many useful methods that help us understand the importance of getting acquainted with the data before trying to mine it.</p>\n",
    "<hr>"
   ]
  },
  {
   "cell_type": "markdown",
   "metadata": {},
   "source": []
  }
 ],
 "metadata": {
  "kernelspec": {
   "display_name": "data_analysis",
   "language": "python",
   "name": "python3"
  },
  "language_info": {
   "codemirror_mode": {
    "name": "ipython",
    "version": 3
   },
   "file_extension": ".py",
   "mimetype": "text/x-python",
   "name": "python",
   "nbconvert_exporter": "python",
   "pygments_lexer": "ipython3",
   "version": "3.10.3"
  },
  "orig_nbformat": 4
 },
 "nbformat": 4,
 "nbformat_minor": 2
}
