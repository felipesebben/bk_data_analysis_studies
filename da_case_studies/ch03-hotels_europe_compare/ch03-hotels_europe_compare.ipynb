{
 "cells": [
  {
   "cell_type": "markdown",
   "metadata": {},
   "source": [
    "<h1>Chapter 3 | Case Study B1| <b>Comparing Hotel Prices in Europe: Vienna vs. London</b></h1>\n",
    "<p>In this notebook, I'll be taking notes of the author's code on the referred case study. The goal is to compare different type of distributions considering the same feature (in this case, hotels from different cities) to visualize such differences. We want to compare the distribution of prices in Vienna to London.</p>\n",
    "<h2>1. Read the data</h2>"
   ]
  },
  {
   "cell_type": "code",
   "execution_count": 1,
   "metadata": {},
   "outputs": [],
   "source": [
    "import os\n",
    "import sys\n",
    "import warnings\n",
    "import pandas as pd\n",
    "import numpy as np\n",
    "from mizani.formatters import percent_format\n",
    "from plotnine import *\n",
    "from scipy.stats import norm\n",
    "\n",
    "warnings.filterwarnings(\"ignore\")\n"
   ]
  },
  {
   "cell_type": "code",
   "execution_count": 2,
   "metadata": {},
   "outputs": [],
   "source": [
    "pd.set_option(\"display.max_rows\", 500)"
   ]
  },
  {
   "cell_type": "code",
   "execution_count": 3,
   "metadata": {},
   "outputs": [],
   "source": [
    "# Current script folder\n",
    "current_path = os.getcwd()\n",
    "dirname = current_path.split(\"da_case_studies\")[0]\n",
    "\n",
    "#  Get location folders\n",
    "data_in = f\"{dirname}da_data_repo/hotels-europe/clean/\"\n",
    "data_out = f\"{dirname}da_case_studies/ch03-hotels_europe_compare/\"\n",
    "output = f\"{dirname}da_case_studies/ch03-hotels_europe_compare/output/\"\n",
    "func = f\"{dirname}da_case_studies/ch00-tech_prep/\"\n",
    "sys.path.append(func)"
   ]
  },
  {
   "cell_type": "code",
   "execution_count": 4,
   "metadata": {},
   "outputs": [],
   "source": [
    "from py_helper_functions import *"
   ]
  },
  {
   "cell_type": "markdown",
   "metadata": {},
   "source": [
    "<h2>2. Load clean and tidy data + create workfile</h2>"
   ]
  },
  {
   "cell_type": "code",
   "execution_count": 8,
   "metadata": {},
   "outputs": [],
   "source": [
    "hotels_europe_price = pd.read_csv(f\"{data_in}hotels-europe_price.csv\")\n",
    "hotels_europe_features = pd.read_csv(f\"{data_in}hotels-europe_features.csv\")"
   ]
  },
  {
   "cell_type": "code",
   "execution_count": 9,
   "metadata": {},
   "outputs": [],
   "source": [
    "hotels_europe = pd.merge(hotels_europe_price, hotels_europe_features, how=\"left\", on=\"hotel_id\")\n",
    "del hotels_europe_price\n",
    "del hotels_europe_features"
   ]
  },
  {
   "cell_type": "markdown",
   "metadata": {},
   "source": [
    "<p>Our clean dataset is in a tidy format and has been splitted into two datasets, prices and features, which describe our observations. Let's merge them back with only the cities that we want - Vienna and London. Again, we are focusing on hotels with 3 to 4 stars for a particular date (november/2017 on week days).</p>"
   ]
  },
  {
   "cell_type": "code",
   "execution_count": 11,
   "metadata": {},
   "outputs": [],
   "source": [
    "hotels_europe_cut = hotels_europe.loc[\n",
    "    lambda x: (x[\"year\"] == 2017) &\n",
    "    (x[\"month\"] == 11) &\n",
    "    (x[\"weekend\"] == 0) &\n",
    "    (x[\"city\"].isin([\"Vienna\", \"London\"])) &\n",
    "    (x[\"accommodation_type\"] == \"Hotel\") &\n",
    "    (x[\"stars\"] >= 3) &\n",
    "    (x[\"stars\"] <=4) &\n",
    "    (x[\"stars\"].notna()) &\n",
    "    (x[\"city_actual\"].isin([\"Vienna\", \"London\"])) &\n",
    "    (x[\"price\"] <= 600)\n",
    "]"
   ]
  },
  {
   "cell_type": "code",
   "execution_count": 13,
   "metadata": {},
   "outputs": [
    {
     "data": {
      "text/plain": [
       "491"
      ]
     },
     "execution_count": 13,
     "metadata": {},
     "output_type": "execute_result"
    }
   ],
   "source": [
    "hotels_europe_cut[\"price\"].max()"
   ]
  },
  {
   "cell_type": "markdown",
   "metadata": {},
   "source": [
    "<p>We can see the highest hotel price is 491 for the entire dataset. Let's see the mean and max prices for each City, as well as the size of our sample for each of them.</p>"
   ]
  },
  {
   "cell_type": "code",
   "execution_count": 14,
   "metadata": {},
   "outputs": [
    {
     "data": {
      "text/html": [
       "<div>\n",
       "<style scoped>\n",
       "    .dataframe tbody tr th:only-of-type {\n",
       "        vertical-align: middle;\n",
       "    }\n",
       "\n",
       "    .dataframe tbody tr th {\n",
       "        vertical-align: top;\n",
       "    }\n",
       "\n",
       "    .dataframe thead th {\n",
       "        text-align: right;\n",
       "    }\n",
       "</style>\n",
       "<table border=\"1\" class=\"dataframe\">\n",
       "  <thead>\n",
       "    <tr style=\"text-align: right;\">\n",
       "      <th></th>\n",
       "      <th>mean_price</th>\n",
       "      <th>max</th>\n",
       "      <th>n</th>\n",
       "    </tr>\n",
       "    <tr>\n",
       "      <th>city</th>\n",
       "      <th></th>\n",
       "      <th></th>\n",
       "      <th></th>\n",
       "    </tr>\n",
       "  </thead>\n",
       "  <tbody>\n",
       "    <tr>\n",
       "      <th>London</th>\n",
       "      <td>202.356322</td>\n",
       "      <td>491</td>\n",
       "      <td>435</td>\n",
       "    </tr>\n",
       "    <tr>\n",
       "      <th>Vienna</th>\n",
       "      <td>109.975845</td>\n",
       "      <td>383</td>\n",
       "      <td>207</td>\n",
       "    </tr>\n",
       "  </tbody>\n",
       "</table>\n",
       "</div>"
      ],
      "text/plain": [
       "        mean_price  max    n\n",
       "city                        \n",
       "London  202.356322  491  435\n",
       "Vienna  109.975845  383  207"
      ]
     },
     "execution_count": 14,
     "metadata": {},
     "output_type": "execute_result"
    }
   ],
   "source": [
    "hotels_europe_cut.groupby(\"city\").agg(\n",
    "    mean_price=(\"price\", \"mean\"), max=(\"price\", \"max\"), n=(\"price\", \"size\")\n",
    ")"
   ]
  },
  {
   "cell_type": "markdown",
   "metadata": {},
   "source": [
    "<p>We can see the average price for hotels in London is nearly the double of Vienna's. The most expensive hotel in town is also more than 100 euro more expensive, and the N of the city is twice the size of Vienna's. Let's plot the distribution of hotel prices in these two cities and focus on the differences.</p>\n",
    "<h2>3. Plot the histograms</h2>\n",
    "<p>To make meaningful comparisons, we can define the same bin size ($20). Let's discuss the results below the histograms.</p>"
   ]
  },
  {
   "cell_type": "code",
   "execution_count": 16,
   "metadata": {},
   "outputs": [
    {
     "data": {
      "image/png": "[encoded data removed]",
      "text/plain": [
       "<Figure size 640x480 with 1 Axes>"
      ]
     },
     "metadata": {},
     "output_type": "display_data"
    },
    {
     "data": {
      "text/plain": [
       "<ggplot: (190013590991)>"
      ]
     },
     "execution_count": 16,
     "metadata": {},
     "output_type": "execute_result"
    }
   ],
   "source": [
    "# Vienna\n",
    "ggplot(\n",
    "    hotels_europe_cut.query(\"city=='Vienna'\"),\n",
    "    aes(x=\"price\", y=\"stat(count)/sum(stat(count))\"),\n",
    ") + geom_histogram(\n",
    "    binwidth=20,\n",
    "    fill=color[0],\n",
    "    color=\"#FFFFFF\",\n",
    "    size=0.2,\n",
    "    alpha=0.8,\n",
    "    boundary=0,\n",
    "    closed=\"left\",\n",
    ") + labs(x=\"Price (US dollars)\", y=\"Percent\"\n",
    ") + scale_y_continuous(\n",
    "    labels=percent_format(), expand=[0.01, 0.01], limits=[0, 0.3]\n",
    ") + scale_x_continuous(\n",
    "    expand=[0.01, 0.01], limits=[0, 500], breaks=list(range(0, 600, 100))\n",
    ") + theme_bw()"
   ]
  },
  {
   "cell_type": "code",
   "execution_count": 17,
   "metadata": {},
   "outputs": [
    {
     "data": {
      "image/png": "[encoded data removed]",
      "text/plain": [
       "<Figure size 640x480 with 1 Axes>"
      ]
     },
     "metadata": {},
     "output_type": "display_data"
    },
    {
     "data": {
      "text/plain": [
       "<ggplot: (190013637176)>"
      ]
     },
     "execution_count": 17,
     "metadata": {},
     "output_type": "execute_result"
    }
   ],
   "source": [
    "# London\n",
    "ggplot(\n",
    "    hotels_europe_cut.query(\"city=='London'\"),\n",
    "    aes(x=\"price\", y=\"stat(count)/sum(stat(count))\"),\n",
    ") + geom_histogram(\n",
    "    binwidth=20,\n",
    "    fill=color[0],\n",
    "    color=\"#FFFFFF\",\n",
    "    size=0.2,\n",
    "    alpha=0.8,\n",
    "    boundary=0,\n",
    "    closed=\"left\",\n",
    ") + labs(x=\"Price (US dollars)\", y=\"Percent\"\n",
    ") + scale_y_continuous(\n",
    "    labels=percent_format(), expand=[0.01, 0.01], limits=[0, 0.3]\n",
    ") + scale_x_continuous(\n",
    "    expand=[0.01, 0.01], limits=[0, 500], breaks=list(range(0, 600, 100))\n",
    ") + theme_bw()"
   ]
  },
  {
   "cell_type": "markdown",
   "metadata": {},
   "source": [
    "<hr>\n",
    "<b>Figure 3.6</b> The distribution of hotel price in Vienna and in London\n",
    "<p>Observations:</p>\n",
    "<ul>\n",
    "<li>The <b>range</b> starts around $50 for both Vienna and London, but it ends <b>below $400</b> in Vienna while going up to <b>$500</b> in London. This confirms the max price value that we had found.</li>\n",
    "<li>London presents a wider distribution of hotel prices, covering more of the higher prices.</li>\n",
    "<li>You can expect <b>higher</b> hotel prices in London.</li>\n",
    "<li>The mode (which is only one) for each city differs. In Vienna, the bin with the highest frequency is the <b>$80-100</b> bin, while in London is the <b>$100-120</b> bin.</li>\n",
    "</ul>\n",
    "\n",
    "<h2>3. Density plots of hotel prices</h2>\n",
    "<p>To visualize the distribution of hotel prices in these two cities in a single chart, we can plot a density plot.</p>"
   ]
  },
  {
   "cell_type": "code",
   "execution_count": 18,
   "metadata": {},
   "outputs": [
    {
     "data": {
      "image/png": "[encoded data removed]",
      "text/plain": [
       "<Figure size 640x480 with 1 Axes>"
      ]
     },
     "metadata": {},
     "output_type": "display_data"
    },
    {
     "data": {
      "text/plain": [
       "<ggplot: (190013677028)>"
      ]
     },
     "execution_count": 18,
     "metadata": {},
     "output_type": "execute_result"
    }
   ],
   "source": [
    "ggplot(hotels_europe_cut, aes(x=\"price\", y=\"stat(density)\", color=\"city\")) + geom_line(\n",
    "    stat=\"density\", show_legend=\"False\"\n",
    ") + labs(x=\"Price (US dollars)\", y=\"Density\", color=\"\") + scale_color_manual(\n",
    "    name=\"\", values=[color[1], color[0]], labels=[\"London\", \"Vienna\"]\n",
    ") + scale_y_continuous(\n",
    "    limits=[0, 0.015], breaks=seq(0, 0.015, 0.003)\n",
    ") + scale_x_continuous(\n",
    "    expand=[0.0, 0.0], limits=[0, 500], breaks=seq(0, 501, 100)\n",
    ") + geom_text(\n",
    "    aes(x=340, y=0.003, label=[\"London\"]), color=color[1], size=10\n",
    ") + geom_text(\n",
    "    aes(x=200, y=0.007, label=[\"Vienna\"]), color=color[0], size=10\n",
    ") + theme_bw()"
   ]
  },
  {
   "cell_type": "markdown",
   "metadata": {},
   "source": [
    "<hr>\n",
    "<b>Figure 3.7</b> Density plots of hotel prices: Vienna and London\n",
    "\n",
    "<p>Let's move to our final part, that is, getting descriptive summary statistics.</p>\n",
    "<h2>4. Descriptive statistics for hotel prices<h2>"
   ]
  },
  {
   "cell_type": "code",
   "execution_count": 20,
   "metadata": {},
   "outputs": [
    {
     "data": {
      "text/html": [
       "<div>\n",
       "<style scoped>\n",
       "    .dataframe tbody tr th:only-of-type {\n",
       "        vertical-align: middle;\n",
       "    }\n",
       "\n",
       "    .dataframe tbody tr th {\n",
       "        vertical-align: top;\n",
       "    }\n",
       "\n",
       "    .dataframe thead th {\n",
       "        text-align: right;\n",
       "    }\n",
       "</style>\n",
       "<table border=\"1\" class=\"dataframe\">\n",
       "  <thead>\n",
       "    <tr style=\"text-align: right;\">\n",
       "      <th></th>\n",
       "      <th>n</th>\n",
       "      <th>mean</th>\n",
       "      <th>median</th>\n",
       "      <th>min</th>\n",
       "      <th>max</th>\n",
       "      <th>sd</th>\n",
       "      <th>skew</th>\n",
       "    </tr>\n",
       "    <tr>\n",
       "      <th>city</th>\n",
       "      <th></th>\n",
       "      <th></th>\n",
       "      <th></th>\n",
       "      <th></th>\n",
       "      <th></th>\n",
       "      <th></th>\n",
       "      <th></th>\n",
       "    </tr>\n",
       "  </thead>\n",
       "  <tbody>\n",
       "    <tr>\n",
       "      <th>London</th>\n",
       "      <td>435</td>\n",
       "      <td>202.356322</td>\n",
       "      <td>186.0</td>\n",
       "      <td>49</td>\n",
       "      <td>491</td>\n",
       "      <td>88.128830</td>\n",
       "      <td>0.186</td>\n",
       "    </tr>\n",
       "    <tr>\n",
       "      <th>Vienna</th>\n",
       "      <td>207</td>\n",
       "      <td>109.975845</td>\n",
       "      <td>100.0</td>\n",
       "      <td>50</td>\n",
       "      <td>383</td>\n",
       "      <td>42.221381</td>\n",
       "      <td>0.237</td>\n",
       "    </tr>\n",
       "  </tbody>\n",
       "</table>\n",
       "</div>"
      ],
      "text/plain": [
       "          n        mean  median  min  max         sd   skew\n",
       "city                                                       \n",
       "London  435  202.356322   186.0   49  491  88.128830  0.186\n",
       "Vienna  207  109.975845   100.0   50  383  42.221381  0.237"
      ]
     },
     "execution_count": 20,
     "metadata": {},
     "output_type": "execute_result"
    }
   ],
   "source": [
    "hotels_europe_cut.groupby(\"city\").agg(\n",
    "    n=(\"price\", \"size\"),\n",
    "    mean=(\"price\", np.mean),\n",
    "    median=(\"price\", np.median),\n",
    "    min=(\"price\", np.min),\n",
    "    max=(\"price\", np.max),\n",
    "    sd=(\"price\", np.std),\n",
    "    skew=(\"price\", skew),\n",
    ")"
   ]
  },
  {
   "cell_type": "markdown",
   "metadata": {},
   "source": [
    "<hr>\n",
    "<p><b>Table 3.6</b> Descriptive statistics for hotel prices in two cities</p>\n",
    "<p>Let's discuss these statistics for a while. Again, there's a significant difference between the mean prices - $92, or almost 90% more relative to Vienna's average prices. The <b>median</b> is lower than the mean in both cases, which implies a <b>skewed distribution</b> in both cities; in this case, to the right. With the standard deviation, we can calculate how skewed these distrbutions are using the <b>mean-median measure of skewness</b>. The result is that Vienna displays a higher degree of skewness. Moreover, the standard distribution of London is twice as large as Vienna's, which indicates that prices are more dispersed. </p>\n",
    "<h2>5. Conclusion</h2>\n",
    "<p>We have successfully analyzed the distribution of hotel prices in London and in Vienna. We can say that minimum prices are somewhat close to each other in these cities, but also that we can expect a higher number of more expensive hotels in London; significantly higher, actually. So, when visiting London, be aware of that and stuff your wallet!</p>\n",
    "<hr>"
   ]
  }
 ],
 "metadata": {
  "kernelspec": {
   "display_name": "data_analysis",
   "language": "python",
   "name": "python3"
  },
  "language_info": {
   "codemirror_mode": {
    "name": "ipython",
    "version": 3
   },
   "file_extension": ".py",
   "mimetype": "text/x-python",
   "name": "python",
   "nbconvert_exporter": "python",
   "pygments_lexer": "ipython3",
   "version": "3.10.3"
  },
  "orig_nbformat": 4
 },
 "nbformat": 4,
 "nbformat_minor": 2
}
